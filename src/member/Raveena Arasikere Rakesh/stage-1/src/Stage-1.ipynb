{
 "cells": [
  {
   "cell_type": "markdown",
   "id": "35186b0b",
   "metadata": {},
   "source": [
    "# Stage I - Data Understanding and Linking\n",
    "\n",
    "## Member Task- Raveena Arasikere Rakesh"
   ]
  },
  {
   "cell_type": "markdown",
   "id": "9f8b8bca",
   "metadata": {},
   "source": [
    "## Task-2 M2.1\n",
    "\n",
    "The solution to this task is at location- '././../../../doc/Opioid-stage 1.docx'"
   ]
  },
  {
   "cell_type": "markdown",
   "id": "4f468915",
   "metadata": {},
   "source": [
    "\n",
    "\n",
    "### Task-2 M2.2\n",
    "\n",
    "#### Reading the dataset"
   ]
  },
  {
   "cell_type": "code",
   "execution_count": 37,
   "id": "1ed94417",
   "metadata": {},
   "outputs": [
    {
     "data": {
      "text/html": [
       "<div>\n",
       "<style scoped>\n",
       "    .dataframe tbody tr th:only-of-type {\n",
       "        vertical-align: middle;\n",
       "    }\n",
       "\n",
       "    .dataframe tbody tr th {\n",
       "        vertical-align: top;\n",
       "    }\n",
       "\n",
       "    .dataframe thead th {\n",
       "        text-align: right;\n",
       "    }\n",
       "</style>\n",
       "<table border=\"1\" class=\"dataframe\">\n",
       "  <thead>\n",
       "    <tr style=\"text-align: right;\">\n",
       "      <th></th>\n",
       "      <th>Notes\\t\"County\"\\t\"County Code\"\\t\"Drug/Alcohol Induced Cause\"\\t\"Drug/Alcohol Induced Cause Code\"\\tDeaths\\tPopulation\\tCrude Rate</th>\n",
       "    </tr>\n",
       "  </thead>\n",
       "  <tbody>\n",
       "    <tr>\n",
       "      <th>\\t\"Autauga County</th>\n",
       "      <td>AL\"\\t\"01001\"\\t\"Drug poisonings (overdose) Uni...</td>\n",
       "    </tr>\n",
       "    <tr>\n",
       "      <th>\\t\"Autauga County</th>\n",
       "      <td>AL\"\\t\"01001\"\\t\"Drug poisonings (overdose) Sui...</td>\n",
       "    </tr>\n",
       "    <tr>\n",
       "      <th>\\t\"Baldwin County</th>\n",
       "      <td>AL\"\\t\"01003\"\\t\"Drug poisonings (overdose) Uni...</td>\n",
       "    </tr>\n",
       "    <tr>\n",
       "      <th>\\t\"Baldwin County</th>\n",
       "      <td>AL\"\\t\"01003\"\\t\"Drug poisonings (overdose) Sui...</td>\n",
       "    </tr>\n",
       "    <tr>\n",
       "      <th>\\t\"Baldwin County</th>\n",
       "      <td>AL\"\\t\"01003\"\\t\"Drug poisonings (overdose) Und...</td>\n",
       "    </tr>\n",
       "  </tbody>\n",
       "</table>\n",
       "</div>"
      ],
      "text/plain": [
       "                  Notes\\t\"County\"\\t\"County Code\"\\t\"Drug/Alcohol Induced Cause\"\\t\"Drug/Alcohol Induced Cause Code\"\\tDeaths\\tPopulation\\tCrude Rate\n",
       "\\t\"Autauga County   AL\"\\t\"01001\"\\t\"Drug poisonings (overdose) Uni...                                                                             \n",
       "\\t\"Autauga County   AL\"\\t\"01001\"\\t\"Drug poisonings (overdose) Sui...                                                                             \n",
       "\\t\"Baldwin County   AL\"\\t\"01003\"\\t\"Drug poisonings (overdose) Uni...                                                                             \n",
       "\\t\"Baldwin County   AL\"\\t\"01003\"\\t\"Drug poisonings (overdose) Sui...                                                                             \n",
       "\\t\"Baldwin County   AL\"\\t\"01003\"\\t\"Drug poisonings (overdose) Und...                                                                             "
      ]
     },
     "execution_count": 37,
     "metadata": {},
     "output_type": "execute_result"
    }
   ],
   "source": [
    "import pandas as pd\n",
    "file1=pd.read_csv('../data/Underlying Cause of Death-County-2019.txt')\n",
    "file1.head(5)#displays only top-5 elemets"
   ]
  },
  {
   "cell_type": "markdown",
   "id": "3f8d0b3b",
   "metadata": {},
   "source": [
    "<li> From the above rendered output we can see that there are a lot of '\\t' so we need to either use a delimeter or a seperater sep function to display the dataframe in an organised format."
   ]
  },
  {
   "cell_type": "code",
   "execution_count": 38,
   "id": "4720e824",
   "metadata": {},
   "outputs": [
    {
     "data": {
      "text/html": [
       "<div>\n",
       "<style scoped>\n",
       "    .dataframe tbody tr th:only-of-type {\n",
       "        vertical-align: middle;\n",
       "    }\n",
       "\n",
       "    .dataframe tbody tr th {\n",
       "        vertical-align: top;\n",
       "    }\n",
       "\n",
       "    .dataframe thead th {\n",
       "        text-align: right;\n",
       "    }\n",
       "</style>\n",
       "<table border=\"1\" class=\"dataframe\">\n",
       "  <thead>\n",
       "    <tr style=\"text-align: right;\">\n",
       "      <th></th>\n",
       "      <th>Notes</th>\n",
       "      <th>County</th>\n",
       "      <th>County Code</th>\n",
       "      <th>Drug/Alcohol Induced Cause</th>\n",
       "      <th>Drug/Alcohol Induced Cause Code</th>\n",
       "      <th>Deaths</th>\n",
       "      <th>Population</th>\n",
       "      <th>Crude Rate</th>\n",
       "    </tr>\n",
       "  </thead>\n",
       "  <tbody>\n",
       "    <tr>\n",
       "      <th>0</th>\n",
       "      <td>NaN</td>\n",
       "      <td>Autauga County, AL</td>\n",
       "      <td>1001</td>\n",
       "      <td>Drug poisonings (overdose) Unintentional (X40-...</td>\n",
       "      <td>D1</td>\n",
       "      <td>69</td>\n",
       "      <td>1087149</td>\n",
       "      <td>6.3</td>\n",
       "    </tr>\n",
       "    <tr>\n",
       "      <th>1</th>\n",
       "      <td>NaN</td>\n",
       "      <td>Autauga County, AL</td>\n",
       "      <td>1001</td>\n",
       "      <td>Drug poisonings (overdose) Suicide (X60-X64)</td>\n",
       "      <td>D2</td>\n",
       "      <td>14</td>\n",
       "      <td>1087149</td>\n",
       "      <td>Unreliable</td>\n",
       "    </tr>\n",
       "    <tr>\n",
       "      <th>2</th>\n",
       "      <td>NaN</td>\n",
       "      <td>Baldwin County, AL</td>\n",
       "      <td>1003</td>\n",
       "      <td>Drug poisonings (overdose) Unintentional (X40-...</td>\n",
       "      <td>D1</td>\n",
       "      <td>424</td>\n",
       "      <td>3758097</td>\n",
       "      <td>11.3</td>\n",
       "    </tr>\n",
       "    <tr>\n",
       "      <th>3</th>\n",
       "      <td>NaN</td>\n",
       "      <td>Baldwin County, AL</td>\n",
       "      <td>1003</td>\n",
       "      <td>Drug poisonings (overdose) Suicide (X60-X64)</td>\n",
       "      <td>D2</td>\n",
       "      <td>71</td>\n",
       "      <td>3758097</td>\n",
       "      <td>1.9</td>\n",
       "    </tr>\n",
       "    <tr>\n",
       "      <th>4</th>\n",
       "      <td>NaN</td>\n",
       "      <td>Baldwin County, AL</td>\n",
       "      <td>1003</td>\n",
       "      <td>Drug poisonings (overdose) Undetermined (Y10-Y14)</td>\n",
       "      <td>D4</td>\n",
       "      <td>19</td>\n",
       "      <td>3758097</td>\n",
       "      <td>Unreliable</td>\n",
       "    </tr>\n",
       "  </tbody>\n",
       "</table>\n",
       "</div>"
      ],
      "text/plain": [
       "   Notes              County  County Code  \\\n",
       "0    NaN  Autauga County, AL         1001   \n",
       "1    NaN  Autauga County, AL         1001   \n",
       "2    NaN  Baldwin County, AL         1003   \n",
       "3    NaN  Baldwin County, AL         1003   \n",
       "4    NaN  Baldwin County, AL         1003   \n",
       "\n",
       "                          Drug/Alcohol Induced Cause  \\\n",
       "0  Drug poisonings (overdose) Unintentional (X40-...   \n",
       "1       Drug poisonings (overdose) Suicide (X60-X64)   \n",
       "2  Drug poisonings (overdose) Unintentional (X40-...   \n",
       "3       Drug poisonings (overdose) Suicide (X60-X64)   \n",
       "4  Drug poisonings (overdose) Undetermined (Y10-Y14)   \n",
       "\n",
       "  Drug/Alcohol Induced Cause Code  Deaths  Population  Crude Rate  \n",
       "0                              D1      69     1087149         6.3  \n",
       "1                              D2      14     1087149  Unreliable  \n",
       "2                              D1     424     3758097        11.3  \n",
       "3                              D2      71     3758097         1.9  \n",
       "4                              D4      19     3758097  Unreliable  "
      ]
     },
     "execution_count": 38,
     "metadata": {},
     "output_type": "execute_result"
    }
   ],
   "source": [
    "file1=pd.read_csv('../data/Underlying Cause of Death-County-2019.txt',sep='\\t')\n",
    "file1.head()"
   ]
  },
  {
   "cell_type": "markdown",
   "id": "e7cbd899",
   "metadata": {},
   "source": [
    "<li> Now that the dataframe is rendered in a readable format we can now perform some data cleaning operations like replacing the NAN values,negative values if there exists any"
   ]
  },
  {
   "cell_type": "code",
   "execution_count": 39,
   "id": "58c6aaba",
   "metadata": {},
   "outputs": [
    {
     "data": {
      "text/html": [
       "<div>\n",
       "<style scoped>\n",
       "    .dataframe tbody tr th:only-of-type {\n",
       "        vertical-align: middle;\n",
       "    }\n",
       "\n",
       "    .dataframe tbody tr th {\n",
       "        vertical-align: top;\n",
       "    }\n",
       "\n",
       "    .dataframe thead th {\n",
       "        text-align: right;\n",
       "    }\n",
       "</style>\n",
       "<table border=\"1\" class=\"dataframe\">\n",
       "  <thead>\n",
       "    <tr style=\"text-align: right;\">\n",
       "      <th></th>\n",
       "      <th>Notes</th>\n",
       "      <th>County</th>\n",
       "      <th>County Code</th>\n",
       "      <th>Drug/Alcohol Induced Cause</th>\n",
       "      <th>Drug/Alcohol Induced Cause Code</th>\n",
       "      <th>Deaths</th>\n",
       "      <th>Population</th>\n",
       "      <th>Crude Rate</th>\n",
       "    </tr>\n",
       "  </thead>\n",
       "  <tbody>\n",
       "    <tr>\n",
       "      <th>0</th>\n",
       "      <td>True</td>\n",
       "      <td>False</td>\n",
       "      <td>False</td>\n",
       "      <td>False</td>\n",
       "      <td>False</td>\n",
       "      <td>False</td>\n",
       "      <td>False</td>\n",
       "      <td>False</td>\n",
       "    </tr>\n",
       "    <tr>\n",
       "      <th>1</th>\n",
       "      <td>True</td>\n",
       "      <td>False</td>\n",
       "      <td>False</td>\n",
       "      <td>False</td>\n",
       "      <td>False</td>\n",
       "      <td>False</td>\n",
       "      <td>False</td>\n",
       "      <td>False</td>\n",
       "    </tr>\n",
       "    <tr>\n",
       "      <th>2</th>\n",
       "      <td>True</td>\n",
       "      <td>False</td>\n",
       "      <td>False</td>\n",
       "      <td>False</td>\n",
       "      <td>False</td>\n",
       "      <td>False</td>\n",
       "      <td>False</td>\n",
       "      <td>False</td>\n",
       "    </tr>\n",
       "    <tr>\n",
       "      <th>3</th>\n",
       "      <td>True</td>\n",
       "      <td>False</td>\n",
       "      <td>False</td>\n",
       "      <td>False</td>\n",
       "      <td>False</td>\n",
       "      <td>False</td>\n",
       "      <td>False</td>\n",
       "      <td>False</td>\n",
       "    </tr>\n",
       "    <tr>\n",
       "      <th>4</th>\n",
       "      <td>True</td>\n",
       "      <td>False</td>\n",
       "      <td>False</td>\n",
       "      <td>False</td>\n",
       "      <td>False</td>\n",
       "      <td>False</td>\n",
       "      <td>False</td>\n",
       "      <td>False</td>\n",
       "    </tr>\n",
       "  </tbody>\n",
       "</table>\n",
       "</div>"
      ],
      "text/plain": [
       "   Notes  County  County Code  Drug/Alcohol Induced Cause  \\\n",
       "0   True   False        False                       False   \n",
       "1   True   False        False                       False   \n",
       "2   True   False        False                       False   \n",
       "3   True   False        False                       False   \n",
       "4   True   False        False                       False   \n",
       "\n",
       "   Drug/Alcohol Induced Cause Code  Deaths  Population  Crude Rate  \n",
       "0                            False   False       False       False  \n",
       "1                            False   False       False       False  \n",
       "2                            False   False       False       False  \n",
       "3                            False   False       False       False  \n",
       "4                            False   False       False       False  "
      ]
     },
     "execution_count": 39,
     "metadata": {},
     "output_type": "execute_result"
    }
   ],
   "source": [
    "file1.isna().head()"
   ]
  },
  {
   "cell_type": "markdown",
   "id": "07c85038",
   "metadata": {},
   "source": [
    "<li>Since, there exists some NAN values we are going to replace them with 0"
   ]
  },
  {
   "cell_type": "code",
   "execution_count": 40,
   "id": "a23804c0",
   "metadata": {},
   "outputs": [
    {
     "data": {
      "text/html": [
       "<div>\n",
       "<style scoped>\n",
       "    .dataframe tbody tr th:only-of-type {\n",
       "        vertical-align: middle;\n",
       "    }\n",
       "\n",
       "    .dataframe tbody tr th {\n",
       "        vertical-align: top;\n",
       "    }\n",
       "\n",
       "    .dataframe thead th {\n",
       "        text-align: right;\n",
       "    }\n",
       "</style>\n",
       "<table border=\"1\" class=\"dataframe\">\n",
       "  <thead>\n",
       "    <tr style=\"text-align: right;\">\n",
       "      <th></th>\n",
       "      <th>Notes</th>\n",
       "      <th>County</th>\n",
       "      <th>County Code</th>\n",
       "      <th>Drug/Alcohol Induced Cause</th>\n",
       "      <th>Drug/Alcohol Induced Cause Code</th>\n",
       "      <th>Deaths</th>\n",
       "      <th>Population</th>\n",
       "      <th>Crude Rate</th>\n",
       "    </tr>\n",
       "  </thead>\n",
       "  <tbody>\n",
       "    <tr>\n",
       "      <th>0</th>\n",
       "      <td>0.0</td>\n",
       "      <td>Autauga County, AL</td>\n",
       "      <td>1001</td>\n",
       "      <td>Drug poisonings (overdose) Unintentional (X40-...</td>\n",
       "      <td>D1</td>\n",
       "      <td>69</td>\n",
       "      <td>1087149</td>\n",
       "      <td>6.3</td>\n",
       "    </tr>\n",
       "    <tr>\n",
       "      <th>1</th>\n",
       "      <td>0.0</td>\n",
       "      <td>Autauga County, AL</td>\n",
       "      <td>1001</td>\n",
       "      <td>Drug poisonings (overdose) Suicide (X60-X64)</td>\n",
       "      <td>D2</td>\n",
       "      <td>14</td>\n",
       "      <td>1087149</td>\n",
       "      <td>Unreliable</td>\n",
       "    </tr>\n",
       "    <tr>\n",
       "      <th>2</th>\n",
       "      <td>0.0</td>\n",
       "      <td>Baldwin County, AL</td>\n",
       "      <td>1003</td>\n",
       "      <td>Drug poisonings (overdose) Unintentional (X40-...</td>\n",
       "      <td>D1</td>\n",
       "      <td>424</td>\n",
       "      <td>3758097</td>\n",
       "      <td>11.3</td>\n",
       "    </tr>\n",
       "    <tr>\n",
       "      <th>3</th>\n",
       "      <td>0.0</td>\n",
       "      <td>Baldwin County, AL</td>\n",
       "      <td>1003</td>\n",
       "      <td>Drug poisonings (overdose) Suicide (X60-X64)</td>\n",
       "      <td>D2</td>\n",
       "      <td>71</td>\n",
       "      <td>3758097</td>\n",
       "      <td>1.9</td>\n",
       "    </tr>\n",
       "    <tr>\n",
       "      <th>4</th>\n",
       "      <td>0.0</td>\n",
       "      <td>Baldwin County, AL</td>\n",
       "      <td>1003</td>\n",
       "      <td>Drug poisonings (overdose) Undetermined (Y10-Y14)</td>\n",
       "      <td>D4</td>\n",
       "      <td>19</td>\n",
       "      <td>3758097</td>\n",
       "      <td>Unreliable</td>\n",
       "    </tr>\n",
       "    <tr>\n",
       "      <th>...</th>\n",
       "      <td>...</td>\n",
       "      <td>...</td>\n",
       "      <td>...</td>\n",
       "      <td>...</td>\n",
       "      <td>...</td>\n",
       "      <td>...</td>\n",
       "      <td>...</td>\n",
       "      <td>...</td>\n",
       "    </tr>\n",
       "    <tr>\n",
       "      <th>5536</th>\n",
       "      <td>0.0</td>\n",
       "      <td>Sweetwater County, WY</td>\n",
       "      <td>56037</td>\n",
       "      <td>Drug poisonings (overdose) Suicide (X60-X64)</td>\n",
       "      <td>D2</td>\n",
       "      <td>15</td>\n",
       "      <td>873221</td>\n",
       "      <td>Unreliable</td>\n",
       "    </tr>\n",
       "    <tr>\n",
       "      <th>5537</th>\n",
       "      <td>0.0</td>\n",
       "      <td>Teton County, WY</td>\n",
       "      <td>56039</td>\n",
       "      <td>Drug poisonings (overdose) Unintentional (X40-...</td>\n",
       "      <td>D1</td>\n",
       "      <td>13</td>\n",
       "      <td>440125</td>\n",
       "      <td>Unreliable</td>\n",
       "    </tr>\n",
       "    <tr>\n",
       "      <th>5538</th>\n",
       "      <td>0.0</td>\n",
       "      <td>Uinta County, WY</td>\n",
       "      <td>56041</td>\n",
       "      <td>Drug poisonings (overdose) Unintentional (X40-...</td>\n",
       "      <td>D1</td>\n",
       "      <td>51</td>\n",
       "      <td>426347</td>\n",
       "      <td>12.0</td>\n",
       "    </tr>\n",
       "    <tr>\n",
       "      <th>5539</th>\n",
       "      <td>0.0</td>\n",
       "      <td>Uinta County, WY</td>\n",
       "      <td>56041</td>\n",
       "      <td>Drug poisonings (overdose) Undetermined (Y10-Y14)</td>\n",
       "      <td>D4</td>\n",
       "      <td>10</td>\n",
       "      <td>426347</td>\n",
       "      <td>Unreliable</td>\n",
       "    </tr>\n",
       "    <tr>\n",
       "      <th>5540</th>\n",
       "      <td>0.0</td>\n",
       "      <td>Washakie County, WY</td>\n",
       "      <td>56043</td>\n",
       "      <td>Drug poisonings (overdose) Unintentional (X40-...</td>\n",
       "      <td>D1</td>\n",
       "      <td>14</td>\n",
       "      <td>172114</td>\n",
       "      <td>Unreliable</td>\n",
       "    </tr>\n",
       "  </tbody>\n",
       "</table>\n",
       "<p>5541 rows × 8 columns</p>\n",
       "</div>"
      ],
      "text/plain": [
       "      Notes                 County  County Code  \\\n",
       "0       0.0     Autauga County, AL         1001   \n",
       "1       0.0     Autauga County, AL         1001   \n",
       "2       0.0     Baldwin County, AL         1003   \n",
       "3       0.0     Baldwin County, AL         1003   \n",
       "4       0.0     Baldwin County, AL         1003   \n",
       "...     ...                    ...          ...   \n",
       "5536    0.0  Sweetwater County, WY        56037   \n",
       "5537    0.0       Teton County, WY        56039   \n",
       "5538    0.0       Uinta County, WY        56041   \n",
       "5539    0.0       Uinta County, WY        56041   \n",
       "5540    0.0    Washakie County, WY        56043   \n",
       "\n",
       "                             Drug/Alcohol Induced Cause  \\\n",
       "0     Drug poisonings (overdose) Unintentional (X40-...   \n",
       "1          Drug poisonings (overdose) Suicide (X60-X64)   \n",
       "2     Drug poisonings (overdose) Unintentional (X40-...   \n",
       "3          Drug poisonings (overdose) Suicide (X60-X64)   \n",
       "4     Drug poisonings (overdose) Undetermined (Y10-Y14)   \n",
       "...                                                 ...   \n",
       "5536       Drug poisonings (overdose) Suicide (X60-X64)   \n",
       "5537  Drug poisonings (overdose) Unintentional (X40-...   \n",
       "5538  Drug poisonings (overdose) Unintentional (X40-...   \n",
       "5539  Drug poisonings (overdose) Undetermined (Y10-Y14)   \n",
       "5540  Drug poisonings (overdose) Unintentional (X40-...   \n",
       "\n",
       "     Drug/Alcohol Induced Cause Code  Deaths  Population  Crude Rate  \n",
       "0                                 D1      69     1087149         6.3  \n",
       "1                                 D2      14     1087149  Unreliable  \n",
       "2                                 D1     424     3758097        11.3  \n",
       "3                                 D2      71     3758097         1.9  \n",
       "4                                 D4      19     3758097  Unreliable  \n",
       "...                              ...     ...         ...         ...  \n",
       "5536                              D2      15      873221  Unreliable  \n",
       "5537                              D1      13      440125  Unreliable  \n",
       "5538                              D1      51      426347        12.0  \n",
       "5539                              D4      10      426347  Unreliable  \n",
       "5540                              D1      14      172114  Unreliable  \n",
       "\n",
       "[5541 rows x 8 columns]"
      ]
     },
     "execution_count": 40,
     "metadata": {},
     "output_type": "execute_result"
    }
   ],
   "source": [
    "file1.fillna(0)"
   ]
  },
  {
   "cell_type": "code",
   "execution_count": 41,
   "id": "f22cf54f",
   "metadata": {},
   "outputs": [
    {
     "data": {
      "text/plain": [
       "False"
      ]
     },
     "execution_count": 41,
     "metadata": {},
     "output_type": "execute_result"
    }
   ],
   "source": [
    "(file1.Population<0).any()#checking for negative values in the poulation field,because negative population is of no use"
   ]
  },
  {
   "cell_type": "markdown",
   "id": "de456896",
   "metadata": {},
   "source": [
    "###### Reading file-2"
   ]
  },
  {
   "cell_type": "code",
   "execution_count": 42,
   "id": "52ed45bb",
   "metadata": {},
   "outputs": [
    {
     "data": {
      "text/html": [
       "<div>\n",
       "<style scoped>\n",
       "    .dataframe tbody tr th:only-of-type {\n",
       "        vertical-align: middle;\n",
       "    }\n",
       "\n",
       "    .dataframe tbody tr th {\n",
       "        vertical-align: top;\n",
       "    }\n",
       "\n",
       "    .dataframe thead th {\n",
       "        text-align: right;\n",
       "    }\n",
       "</style>\n",
       "<table border=\"1\" class=\"dataframe\">\n",
       "  <thead>\n",
       "    <tr style=\"text-align: right;\">\n",
       "      <th></th>\n",
       "      <th>State FIPS Code</th>\n",
       "      <th>County FIPS Code</th>\n",
       "      <th>5-digit FIPS Code</th>\n",
       "      <th>State Abbreviation</th>\n",
       "      <th>Name</th>\n",
       "      <th>Release Year</th>\n",
       "      <th>County Ranked (Yes=1/No=0)</th>\n",
       "      <th>Premature death raw value</th>\n",
       "      <th>Premature death numerator</th>\n",
       "      <th>Premature death denominator</th>\n",
       "      <th>...</th>\n",
       "      <th>Male population 18-44 raw value</th>\n",
       "      <th>Male population 45-64 raw value</th>\n",
       "      <th>Male population 65+ raw value</th>\n",
       "      <th>Total male population raw value</th>\n",
       "      <th>Female population 0-17 raw value</th>\n",
       "      <th>Female population 18-44 raw value</th>\n",
       "      <th>Female population 45-64 raw value</th>\n",
       "      <th>Female population 65+ raw value</th>\n",
       "      <th>Total female population raw value</th>\n",
       "      <th>Population growth raw value</th>\n",
       "    </tr>\n",
       "  </thead>\n",
       "  <tbody>\n",
       "    <tr>\n",
       "      <th>0</th>\n",
       "      <td>1</td>\n",
       "      <td>0</td>\n",
       "      <td>1000</td>\n",
       "      <td>AL</td>\n",
       "      <td>Alabama</td>\n",
       "      <td>2019</td>\n",
       "      <td>NaN</td>\n",
       "      <td>9917.232898</td>\n",
       "      <td>80440.0</td>\n",
       "      <td>13636816.0</td>\n",
       "      <td>...</td>\n",
       "      <td>NaN</td>\n",
       "      <td>NaN</td>\n",
       "      <td>NaN</td>\n",
       "      <td>NaN</td>\n",
       "      <td>NaN</td>\n",
       "      <td>NaN</td>\n",
       "      <td>NaN</td>\n",
       "      <td>NaN</td>\n",
       "      <td>NaN</td>\n",
       "      <td>NaN</td>\n",
       "    </tr>\n",
       "    <tr>\n",
       "      <th>1</th>\n",
       "      <td>1</td>\n",
       "      <td>1</td>\n",
       "      <td>1001</td>\n",
       "      <td>AL</td>\n",
       "      <td>Autauga County</td>\n",
       "      <td>2019</td>\n",
       "      <td>1.0</td>\n",
       "      <td>8824.057123</td>\n",
       "      <td>815.0</td>\n",
       "      <td>156132.0</td>\n",
       "      <td>...</td>\n",
       "      <td>NaN</td>\n",
       "      <td>NaN</td>\n",
       "      <td>NaN</td>\n",
       "      <td>NaN</td>\n",
       "      <td>NaN</td>\n",
       "      <td>NaN</td>\n",
       "      <td>NaN</td>\n",
       "      <td>NaN</td>\n",
       "      <td>NaN</td>\n",
       "      <td>NaN</td>\n",
       "    </tr>\n",
       "    <tr>\n",
       "      <th>2</th>\n",
       "      <td>1</td>\n",
       "      <td>3</td>\n",
       "      <td>1003</td>\n",
       "      <td>AL</td>\n",
       "      <td>Baldwin County</td>\n",
       "      <td>2019</td>\n",
       "      <td>1.0</td>\n",
       "      <td>7224.632160</td>\n",
       "      <td>2827.0</td>\n",
       "      <td>576496.0</td>\n",
       "      <td>...</td>\n",
       "      <td>NaN</td>\n",
       "      <td>NaN</td>\n",
       "      <td>NaN</td>\n",
       "      <td>NaN</td>\n",
       "      <td>NaN</td>\n",
       "      <td>NaN</td>\n",
       "      <td>NaN</td>\n",
       "      <td>NaN</td>\n",
       "      <td>NaN</td>\n",
       "      <td>NaN</td>\n",
       "    </tr>\n",
       "    <tr>\n",
       "      <th>3</th>\n",
       "      <td>1</td>\n",
       "      <td>5</td>\n",
       "      <td>1005</td>\n",
       "      <td>AL</td>\n",
       "      <td>Barbour County</td>\n",
       "      <td>2019</td>\n",
       "      <td>1.0</td>\n",
       "      <td>9586.165037</td>\n",
       "      <td>451.0</td>\n",
       "      <td>72222.0</td>\n",
       "      <td>...</td>\n",
       "      <td>NaN</td>\n",
       "      <td>NaN</td>\n",
       "      <td>NaN</td>\n",
       "      <td>NaN</td>\n",
       "      <td>NaN</td>\n",
       "      <td>NaN</td>\n",
       "      <td>NaN</td>\n",
       "      <td>NaN</td>\n",
       "      <td>NaN</td>\n",
       "      <td>NaN</td>\n",
       "    </tr>\n",
       "    <tr>\n",
       "      <th>4</th>\n",
       "      <td>1</td>\n",
       "      <td>7</td>\n",
       "      <td>1007</td>\n",
       "      <td>AL</td>\n",
       "      <td>Bibb County</td>\n",
       "      <td>2019</td>\n",
       "      <td>1.0</td>\n",
       "      <td>11783.543680</td>\n",
       "      <td>445.0</td>\n",
       "      <td>63653.0</td>\n",
       "      <td>...</td>\n",
       "      <td>NaN</td>\n",
       "      <td>NaN</td>\n",
       "      <td>NaN</td>\n",
       "      <td>NaN</td>\n",
       "      <td>NaN</td>\n",
       "      <td>NaN</td>\n",
       "      <td>NaN</td>\n",
       "      <td>NaN</td>\n",
       "      <td>NaN</td>\n",
       "      <td>NaN</td>\n",
       "    </tr>\n",
       "  </tbody>\n",
       "</table>\n",
       "<p>5 rows × 534 columns</p>\n",
       "</div>"
      ],
      "text/plain": [
       "   State FIPS Code  County FIPS Code  5-digit FIPS Code State Abbreviation  \\\n",
       "0                1                 0               1000                 AL   \n",
       "1                1                 1               1001                 AL   \n",
       "2                1                 3               1003                 AL   \n",
       "3                1                 5               1005                 AL   \n",
       "4                1                 7               1007                 AL   \n",
       "\n",
       "             Name  Release Year  County Ranked (Yes=1/No=0)  \\\n",
       "0         Alabama          2019                         NaN   \n",
       "1  Autauga County          2019                         1.0   \n",
       "2  Baldwin County          2019                         1.0   \n",
       "3  Barbour County          2019                         1.0   \n",
       "4     Bibb County          2019                         1.0   \n",
       "\n",
       "   Premature death raw value  Premature death numerator  \\\n",
       "0                9917.232898                    80440.0   \n",
       "1                8824.057123                      815.0   \n",
       "2                7224.632160                     2827.0   \n",
       "3                9586.165037                      451.0   \n",
       "4               11783.543680                      445.0   \n",
       "\n",
       "   Premature death denominator  ...  Male population 18-44 raw value  \\\n",
       "0                   13636816.0  ...                              NaN   \n",
       "1                     156132.0  ...                              NaN   \n",
       "2                     576496.0  ...                              NaN   \n",
       "3                      72222.0  ...                              NaN   \n",
       "4                      63653.0  ...                              NaN   \n",
       "\n",
       "   Male population 45-64 raw value  Male population 65+ raw value  \\\n",
       "0                              NaN                            NaN   \n",
       "1                              NaN                            NaN   \n",
       "2                              NaN                            NaN   \n",
       "3                              NaN                            NaN   \n",
       "4                              NaN                            NaN   \n",
       "\n",
       "   Total male population raw value  Female population 0-17 raw value  \\\n",
       "0                              NaN                               NaN   \n",
       "1                              NaN                               NaN   \n",
       "2                              NaN                               NaN   \n",
       "3                              NaN                               NaN   \n",
       "4                              NaN                               NaN   \n",
       "\n",
       "   Female population 18-44 raw value  Female population 45-64 raw value  \\\n",
       "0                                NaN                                NaN   \n",
       "1                                NaN                                NaN   \n",
       "2                                NaN                                NaN   \n",
       "3                                NaN                                NaN   \n",
       "4                                NaN                                NaN   \n",
       "\n",
       "   Female population 65+ raw value  Total female population raw value  \\\n",
       "0                              NaN                                NaN   \n",
       "1                              NaN                                NaN   \n",
       "2                              NaN                                NaN   \n",
       "3                              NaN                                NaN   \n",
       "4                              NaN                                NaN   \n",
       "\n",
       "   Population growth raw value  \n",
       "0                          NaN  \n",
       "1                          NaN  \n",
       "2                          NaN  \n",
       "3                          NaN  \n",
       "4                          NaN  \n",
       "\n",
       "[5 rows x 534 columns]"
      ]
     },
     "execution_count": 42,
     "metadata": {},
     "output_type": "execute_result"
    }
   ],
   "source": [
    "file2=pd.read_csv('../data/County_Health_Ranking.csv')\n",
    "file2.head()"
   ]
  },
  {
   "cell_type": "markdown",
   "id": "98a4bc6f",
   "metadata": {},
   "source": [
    "<li>We can see that there are some NAN values and we can replace them with 0's"
   ]
  },
  {
   "cell_type": "code",
   "execution_count": 43,
   "id": "297512dc",
   "metadata": {},
   "outputs": [
    {
     "data": {
      "text/html": [
       "<div>\n",
       "<style scoped>\n",
       "    .dataframe tbody tr th:only-of-type {\n",
       "        vertical-align: middle;\n",
       "    }\n",
       "\n",
       "    .dataframe tbody tr th {\n",
       "        vertical-align: top;\n",
       "    }\n",
       "\n",
       "    .dataframe thead th {\n",
       "        text-align: right;\n",
       "    }\n",
       "</style>\n",
       "<table border=\"1\" class=\"dataframe\">\n",
       "  <thead>\n",
       "    <tr style=\"text-align: right;\">\n",
       "      <th></th>\n",
       "      <th>State FIPS Code</th>\n",
       "      <th>County FIPS Code</th>\n",
       "      <th>5-digit FIPS Code</th>\n",
       "      <th>State Abbreviation</th>\n",
       "      <th>Name</th>\n",
       "      <th>Release Year</th>\n",
       "      <th>County Ranked (Yes=1/No=0)</th>\n",
       "      <th>Premature death raw value</th>\n",
       "      <th>Premature death numerator</th>\n",
       "      <th>Premature death denominator</th>\n",
       "      <th>...</th>\n",
       "      <th>Male population 18-44 raw value</th>\n",
       "      <th>Male population 45-64 raw value</th>\n",
       "      <th>Male population 65+ raw value</th>\n",
       "      <th>Total male population raw value</th>\n",
       "      <th>Female population 0-17 raw value</th>\n",
       "      <th>Female population 18-44 raw value</th>\n",
       "      <th>Female population 45-64 raw value</th>\n",
       "      <th>Female population 65+ raw value</th>\n",
       "      <th>Total female population raw value</th>\n",
       "      <th>Population growth raw value</th>\n",
       "    </tr>\n",
       "  </thead>\n",
       "  <tbody>\n",
       "    <tr>\n",
       "      <th>0</th>\n",
       "      <td>1</td>\n",
       "      <td>0</td>\n",
       "      <td>1000</td>\n",
       "      <td>AL</td>\n",
       "      <td>Alabama</td>\n",
       "      <td>2019</td>\n",
       "      <td>0.0</td>\n",
       "      <td>9917.232898</td>\n",
       "      <td>80440.0</td>\n",
       "      <td>13636816.0</td>\n",
       "      <td>...</td>\n",
       "      <td>0.0</td>\n",
       "      <td>0.0</td>\n",
       "      <td>0.0</td>\n",
       "      <td>0.0</td>\n",
       "      <td>0.0</td>\n",
       "      <td>0.0</td>\n",
       "      <td>0.0</td>\n",
       "      <td>0.0</td>\n",
       "      <td>0.0</td>\n",
       "      <td>0.0</td>\n",
       "    </tr>\n",
       "    <tr>\n",
       "      <th>1</th>\n",
       "      <td>1</td>\n",
       "      <td>1</td>\n",
       "      <td>1001</td>\n",
       "      <td>AL</td>\n",
       "      <td>Autauga County</td>\n",
       "      <td>2019</td>\n",
       "      <td>1.0</td>\n",
       "      <td>8824.057123</td>\n",
       "      <td>815.0</td>\n",
       "      <td>156132.0</td>\n",
       "      <td>...</td>\n",
       "      <td>0.0</td>\n",
       "      <td>0.0</td>\n",
       "      <td>0.0</td>\n",
       "      <td>0.0</td>\n",
       "      <td>0.0</td>\n",
       "      <td>0.0</td>\n",
       "      <td>0.0</td>\n",
       "      <td>0.0</td>\n",
       "      <td>0.0</td>\n",
       "      <td>0.0</td>\n",
       "    </tr>\n",
       "    <tr>\n",
       "      <th>2</th>\n",
       "      <td>1</td>\n",
       "      <td>3</td>\n",
       "      <td>1003</td>\n",
       "      <td>AL</td>\n",
       "      <td>Baldwin County</td>\n",
       "      <td>2019</td>\n",
       "      <td>1.0</td>\n",
       "      <td>7224.632160</td>\n",
       "      <td>2827.0</td>\n",
       "      <td>576496.0</td>\n",
       "      <td>...</td>\n",
       "      <td>0.0</td>\n",
       "      <td>0.0</td>\n",
       "      <td>0.0</td>\n",
       "      <td>0.0</td>\n",
       "      <td>0.0</td>\n",
       "      <td>0.0</td>\n",
       "      <td>0.0</td>\n",
       "      <td>0.0</td>\n",
       "      <td>0.0</td>\n",
       "      <td>0.0</td>\n",
       "    </tr>\n",
       "    <tr>\n",
       "      <th>3</th>\n",
       "      <td>1</td>\n",
       "      <td>5</td>\n",
       "      <td>1005</td>\n",
       "      <td>AL</td>\n",
       "      <td>Barbour County</td>\n",
       "      <td>2019</td>\n",
       "      <td>1.0</td>\n",
       "      <td>9586.165037</td>\n",
       "      <td>451.0</td>\n",
       "      <td>72222.0</td>\n",
       "      <td>...</td>\n",
       "      <td>0.0</td>\n",
       "      <td>0.0</td>\n",
       "      <td>0.0</td>\n",
       "      <td>0.0</td>\n",
       "      <td>0.0</td>\n",
       "      <td>0.0</td>\n",
       "      <td>0.0</td>\n",
       "      <td>0.0</td>\n",
       "      <td>0.0</td>\n",
       "      <td>0.0</td>\n",
       "    </tr>\n",
       "    <tr>\n",
       "      <th>4</th>\n",
       "      <td>1</td>\n",
       "      <td>7</td>\n",
       "      <td>1007</td>\n",
       "      <td>AL</td>\n",
       "      <td>Bibb County</td>\n",
       "      <td>2019</td>\n",
       "      <td>1.0</td>\n",
       "      <td>11783.543680</td>\n",
       "      <td>445.0</td>\n",
       "      <td>63653.0</td>\n",
       "      <td>...</td>\n",
       "      <td>0.0</td>\n",
       "      <td>0.0</td>\n",
       "      <td>0.0</td>\n",
       "      <td>0.0</td>\n",
       "      <td>0.0</td>\n",
       "      <td>0.0</td>\n",
       "      <td>0.0</td>\n",
       "      <td>0.0</td>\n",
       "      <td>0.0</td>\n",
       "      <td>0.0</td>\n",
       "    </tr>\n",
       "  </tbody>\n",
       "</table>\n",
       "<p>5 rows × 534 columns</p>\n",
       "</div>"
      ],
      "text/plain": [
       "   State FIPS Code  County FIPS Code  5-digit FIPS Code State Abbreviation  \\\n",
       "0                1                 0               1000                 AL   \n",
       "1                1                 1               1001                 AL   \n",
       "2                1                 3               1003                 AL   \n",
       "3                1                 5               1005                 AL   \n",
       "4                1                 7               1007                 AL   \n",
       "\n",
       "             Name  Release Year  County Ranked (Yes=1/No=0)  \\\n",
       "0         Alabama          2019                         0.0   \n",
       "1  Autauga County          2019                         1.0   \n",
       "2  Baldwin County          2019                         1.0   \n",
       "3  Barbour County          2019                         1.0   \n",
       "4     Bibb County          2019                         1.0   \n",
       "\n",
       "   Premature death raw value  Premature death numerator  \\\n",
       "0                9917.232898                    80440.0   \n",
       "1                8824.057123                      815.0   \n",
       "2                7224.632160                     2827.0   \n",
       "3                9586.165037                      451.0   \n",
       "4               11783.543680                      445.0   \n",
       "\n",
       "   Premature death denominator  ...  Male population 18-44 raw value  \\\n",
       "0                   13636816.0  ...                              0.0   \n",
       "1                     156132.0  ...                              0.0   \n",
       "2                     576496.0  ...                              0.0   \n",
       "3                      72222.0  ...                              0.0   \n",
       "4                      63653.0  ...                              0.0   \n",
       "\n",
       "   Male population 45-64 raw value  Male population 65+ raw value  \\\n",
       "0                              0.0                            0.0   \n",
       "1                              0.0                            0.0   \n",
       "2                              0.0                            0.0   \n",
       "3                              0.0                            0.0   \n",
       "4                              0.0                            0.0   \n",
       "\n",
       "   Total male population raw value  Female population 0-17 raw value  \\\n",
       "0                              0.0                               0.0   \n",
       "1                              0.0                               0.0   \n",
       "2                              0.0                               0.0   \n",
       "3                              0.0                               0.0   \n",
       "4                              0.0                               0.0   \n",
       "\n",
       "   Female population 18-44 raw value  Female population 45-64 raw value  \\\n",
       "0                                0.0                                0.0   \n",
       "1                                0.0                                0.0   \n",
       "2                                0.0                                0.0   \n",
       "3                                0.0                                0.0   \n",
       "4                                0.0                                0.0   \n",
       "\n",
       "   Female population 65+ raw value  Total female population raw value  \\\n",
       "0                              0.0                                0.0   \n",
       "1                              0.0                                0.0   \n",
       "2                              0.0                                0.0   \n",
       "3                              0.0                                0.0   \n",
       "4                              0.0                                0.0   \n",
       "\n",
       "   Population growth raw value  \n",
       "0                          0.0  \n",
       "1                          0.0  \n",
       "2                          0.0  \n",
       "3                          0.0  \n",
       "4                          0.0  \n",
       "\n",
       "[5 rows x 534 columns]"
      ]
     },
     "execution_count": 43,
     "metadata": {},
     "output_type": "execute_result"
    }
   ],
   "source": [
    "file2=file2.fillna(0)\n",
    "file2.head()"
   ]
  },
  {
   "cell_type": "markdown",
   "id": "0c83d3a1",
   "metadata": {},
   "source": [
    "###### Reading file-3"
   ]
  },
  {
   "cell_type": "code",
   "execution_count": 44,
   "id": "90dedc7c",
   "metadata": {},
   "outputs": [
    {
     "data": {
      "text/html": [
       "<div>\n",
       "<style scoped>\n",
       "    .dataframe tbody tr th:only-of-type {\n",
       "        vertical-align: middle;\n",
       "    }\n",
       "\n",
       "    .dataframe tbody tr th {\n",
       "        vertical-align: top;\n",
       "    }\n",
       "\n",
       "    .dataframe thead th {\n",
       "        text-align: right;\n",
       "    }\n",
       "</style>\n",
       "<table border=\"1\" class=\"dataframe\">\n",
       "  <thead>\n",
       "    <tr style=\"text-align: right;\">\n",
       "      <th></th>\n",
       "      <th>State</th>\n",
       "      <th>County</th>\n",
       "      <th>FIPS</th>\n",
       "      <th>Opiod_Dispensing_Rate</th>\n",
       "    </tr>\n",
       "  </thead>\n",
       "  <tbody>\n",
       "    <tr>\n",
       "      <th>0</th>\n",
       "      <td>AL</td>\n",
       "      <td>Autauga County</td>\n",
       "      <td>1001</td>\n",
       "      <td>101.3</td>\n",
       "    </tr>\n",
       "    <tr>\n",
       "      <th>1</th>\n",
       "      <td>AL</td>\n",
       "      <td>Baldwin County</td>\n",
       "      <td>1003</td>\n",
       "      <td>67.6</td>\n",
       "    </tr>\n",
       "    <tr>\n",
       "      <th>2</th>\n",
       "      <td>AL</td>\n",
       "      <td>Barbour County</td>\n",
       "      <td>1005</td>\n",
       "      <td>27.2</td>\n",
       "    </tr>\n",
       "    <tr>\n",
       "      <th>3</th>\n",
       "      <td>AL</td>\n",
       "      <td>Bibb County</td>\n",
       "      <td>1007</td>\n",
       "      <td>21.0</td>\n",
       "    </tr>\n",
       "    <tr>\n",
       "      <th>4</th>\n",
       "      <td>AL</td>\n",
       "      <td>Blount County</td>\n",
       "      <td>1009</td>\n",
       "      <td>23.7</td>\n",
       "    </tr>\n",
       "    <tr>\n",
       "      <th>...</th>\n",
       "      <td>...</td>\n",
       "      <td>...</td>\n",
       "      <td>...</td>\n",
       "      <td>...</td>\n",
       "    </tr>\n",
       "    <tr>\n",
       "      <th>3090</th>\n",
       "      <td>WY</td>\n",
       "      <td>Sweetwater County</td>\n",
       "      <td>56037</td>\n",
       "      <td>70.0</td>\n",
       "    </tr>\n",
       "    <tr>\n",
       "      <th>3091</th>\n",
       "      <td>WY</td>\n",
       "      <td>Teton County</td>\n",
       "      <td>56039</td>\n",
       "      <td>54.6</td>\n",
       "    </tr>\n",
       "    <tr>\n",
       "      <th>3092</th>\n",
       "      <td>WY</td>\n",
       "      <td>Uinta County</td>\n",
       "      <td>56041</td>\n",
       "      <td>59.5</td>\n",
       "    </tr>\n",
       "    <tr>\n",
       "      <th>3093</th>\n",
       "      <td>WY</td>\n",
       "      <td>Washakie County</td>\n",
       "      <td>56043</td>\n",
       "      <td>46.7</td>\n",
       "    </tr>\n",
       "    <tr>\n",
       "      <th>3094</th>\n",
       "      <td>WY</td>\n",
       "      <td>Weston County</td>\n",
       "      <td>56045</td>\n",
       "      <td>4.7</td>\n",
       "    </tr>\n",
       "  </tbody>\n",
       "</table>\n",
       "<p>3095 rows × 4 columns</p>\n",
       "</div>"
      ],
      "text/plain": [
       "     State             County   FIPS  Opiod_Dispensing_Rate\n",
       "0       AL     Autauga County   1001                  101.3\n",
       "1       AL     Baldwin County   1003                   67.6\n",
       "2       AL     Barbour County   1005                   27.2\n",
       "3       AL        Bibb County   1007                   21.0\n",
       "4       AL      Blount County   1009                   23.7\n",
       "...    ...                ...    ...                    ...\n",
       "3090    WY  Sweetwater County  56037                   70.0\n",
       "3091    WY       Teton County  56039                   54.6\n",
       "3092    WY       Uinta County  56041                   59.5\n",
       "3093    WY    Washakie County  56043                   46.7\n",
       "3094    WY      Weston County  56045                    4.7\n",
       "\n",
       "[3095 rows x 4 columns]"
      ]
     },
     "execution_count": 44,
     "metadata": {},
     "output_type": "execute_result"
    }
   ],
   "source": [
    "file3=pd.read_csv('../data/2019-Opioid_Rate.csv')\n",
    "file3"
   ]
  },
  {
   "cell_type": "markdown",
   "id": "54c75275",
   "metadata": {},
   "source": [
    "<li>There are 8 columns in file 1 and 534 in file 2 and 4 in file3. Now, we need to examine which columns are necessary for futher analysis"
   ]
  },
  {
   "cell_type": "code",
   "execution_count": 45,
   "id": "64cd6978",
   "metadata": {},
   "outputs": [
    {
     "name": "stdout",
     "output_type": "stream",
     "text": [
      "Index(['Notes', 'County', 'County Code', 'Drug/Alcohol Induced Cause',\n",
      "       'Drug/Alcohol Induced Cause Code', 'Deaths', 'Population',\n",
      "       'Crude Rate'],\n",
      "      dtype='object')\n"
     ]
    }
   ],
   "source": [
    "print(file1.columns)"
   ]
  },
  {
   "cell_type": "markdown",
   "id": "681c2476",
   "metadata": {},
   "source": [
    "<li>From, file1 out of the 8 columns we need County(here county also contains the name of the state, which needs to be split as another column),County code,Drug/Alcohol Induced Cause Code,Deaths,Population.\n",
    "<li>Now, preparing a data dictionary for the selected columns, "
   ]
  },
  {
   "cell_type": "markdown",
   "id": "d3e04d2f",
   "metadata": {},
   "source": [
    "| Variable Name | Datatype | Description |\n",
    "| --- | --- | --- |\n",
    "|County|Object | different county's mapping to the states in the US|\n",
    "|County code|int| an integer number desctibing certain standard as per US regulations|\n",
    "|Drug/Alcohol Induced Cause Code| Object | Specifies the cause of death|\n",
    "|Drug/Alcohol Induced Cause Code| Object | A number assosciated with the Drug Induced cause|\n",
    "|Deaths|int|an integer number describing the deaths in the country|\n",
    "|Population| int | an integer number indicating the total population in the country|"
   ]
  },
  {
   "cell_type": "code",
   "execution_count": 10,
   "id": "94c0b49e",
   "metadata": {},
   "outputs": [
    {
     "name": "stdout",
     "output_type": "stream",
     "text": [
      "Index(['State FIPS Code', 'County FIPS Code', '5-digit FIPS Code',\n",
      "       'State Abbreviation', 'Name', 'Release Year',\n",
      "       'County Ranked (Yes=1/No=0)', 'Premature death raw value',\n",
      "       'Premature death numerator', 'Premature death denominator',\n",
      "       ...\n",
      "       'Male population 18-44 raw value', 'Male population 45-64 raw value',\n",
      "       'Male population 65+ raw value', 'Total male population raw value',\n",
      "       'Female population 0-17 raw value', 'Female population 18-44 raw value',\n",
      "       'Female population 45-64 raw value', 'Female population 65+ raw value',\n",
      "       'Total female population raw value', 'Population growth raw value'],\n",
      "      dtype='object', length=534)\n"
     ]
    }
   ],
   "source": [
    "print(file2.columns)"
   ]
  },
  {
   "cell_type": "markdown",
   "id": "e9b43561",
   "metadata": {},
   "source": [
    "<li> File2 has 534 columns out of which we only select the<b>10  columns</b> that are needed 5-digit FIPS Code,State Abbreviation,Name,Excessive drinking raw value,Sexually transmitted infections raw value,Mental health providers raw value,Preventable hospital stays raw value,Total male population raw value,Total female population raw value,Population growth raw value.\n",
    "<li> Now we Create a data dictionary for the columns selected and give the <b>justification."
   ]
  },
  {
   "cell_type": "markdown",
   "id": "9ca7b171",
   "metadata": {},
   "source": [
    "| Variable Name | Datatype | Description |Justification\n",
    "| --- | --- | --- |--- |\n",
    "|5-digit FIPS Code|int| an integer number desctibing certain standard as per US regulations| This number is important during analysis how opioid is spread across different county's.Since each county has a unique FIPS code it becomes easier to group the counties in further analysis|\n",
    "|State Abbreviation|Object| different states in the US| This field was chosen to understand which county the particular state belongs to|\n",
    "|Name| Object |  different county's in the US| FIPS number alone might not be enough for analysis, we also need to know to which county those numbers indicate to.|\n",
    "|Excessive drinking raw value| float |an decimal(float)number describing how the rate of alcohol consumers|This number can give us information if excessive drinking has influence on the opioid mortality rate.|\n",
    "|Sexually transmitted infections raw value| float |an decimal(float)number describing the rate at which the disease was sexually transmitted|This number can give us information if opioid effects can be sexually tranmitted|\n",
    "|Mental health providers raw value| float |an decimal(float)number describing mental health assiatance|This is the number of mental health providers in that particular state and county which can be useful during an emergency|\n",
    "|Preventable hospital stays raw value| float |an decimal(float)number describing the level of disease, whether hospitable or not|This number is important to understand when the patient needs to be hospitalised and when it might not be required.|\n",
    "|Total male population raw value| float | a decimal number indicating the total male population in the country|This count is important to understand how opioid mortality rates are spread across the male population|\n",
    "|Total female population raw value|float| a decimal number indicating the total female population in the country|This count is important to understand how opioid mortality rates are spread across the female population|\n",
    "|Population growth raw value|float|  a decimal number indicating the total population in the country|This count is important to understand how opioid mortality rates are spread across the entire population|"
   ]
  },
  {
   "cell_type": "code",
   "execution_count": 11,
   "id": "08de39d9",
   "metadata": {},
   "outputs": [
    {
     "name": "stdout",
     "output_type": "stream",
     "text": [
      "Index(['State', 'County', 'FIPS', 'Opiod_Dispensing_Rate'], dtype='object')\n"
     ]
    }
   ],
   "source": [
    "print(file3.columns)"
   ]
  },
  {
   "cell_type": "markdown",
   "id": "bfa730f4",
   "metadata": {},
   "source": [
    "<li> File3 has only 4 columns and we might consider including all the 4 columns\n",
    "<li>Now, we can create data dictionary for the selected the columns"
   ]
  },
  {
   "cell_type": "markdown",
   "id": "0d4fc059",
   "metadata": {},
   "source": [
    "| Variable Name | Datatype | Description|\n",
    "| --- | --- | --- |\n",
    "|State| Object| different states in the US|\n",
    "|County| Object|  different county's in the US|\n",
    "|countyFIPS\t|int| an integer number describing certain standard as per US regulations|\n",
    "|Opiod_Dispensing_Rate| float |a decimal(float) number describing the opiod dispensing rate|"
   ]
  },
  {
   "cell_type": "markdown",
   "id": "7f565dd5",
   "metadata": {},
   "source": [
    "### Task M3.1\n",
    "Merge all the three datasets to create a super datafame."
   ]
  },
  {
   "cell_type": "markdown",
   "id": "eb57b50c",
   "metadata": {},
   "source": [
    "* First,we select only the necessary columns from file1.\n",
    "* Next, we normalise the opiod mortality rate per 100000 of the population and create a new column called norm_deaths"
   ]
  },
  {
   "cell_type": "code",
   "execution_count": 12,
   "id": "06b5c803",
   "metadata": {},
   "outputs": [
    {
     "data": {
      "text/html": [
       "<div>\n",
       "<style scoped>\n",
       "    .dataframe tbody tr th:only-of-type {\n",
       "        vertical-align: middle;\n",
       "    }\n",
       "\n",
       "    .dataframe tbody tr th {\n",
       "        vertical-align: top;\n",
       "    }\n",
       "\n",
       "    .dataframe thead th {\n",
       "        text-align: right;\n",
       "    }\n",
       "</style>\n",
       "<table border=\"1\" class=\"dataframe\">\n",
       "  <thead>\n",
       "    <tr style=\"text-align: right;\">\n",
       "      <th></th>\n",
       "      <th>County</th>\n",
       "      <th>County Code</th>\n",
       "      <th>Population</th>\n",
       "      <th>Deaths</th>\n",
       "      <th>Norm_Deaths</th>\n",
       "    </tr>\n",
       "  </thead>\n",
       "  <tbody>\n",
       "    <tr>\n",
       "      <th>0</th>\n",
       "      <td>Autauga County, AL</td>\n",
       "      <td>1001</td>\n",
       "      <td>1087149</td>\n",
       "      <td>69</td>\n",
       "      <td>6.346876</td>\n",
       "    </tr>\n",
       "    <tr>\n",
       "      <th>1</th>\n",
       "      <td>Autauga County, AL</td>\n",
       "      <td>1001</td>\n",
       "      <td>1087149</td>\n",
       "      <td>14</td>\n",
       "      <td>1.287772</td>\n",
       "    </tr>\n",
       "    <tr>\n",
       "      <th>2</th>\n",
       "      <td>Baldwin County, AL</td>\n",
       "      <td>1003</td>\n",
       "      <td>3758097</td>\n",
       "      <td>424</td>\n",
       "      <td>11.282306</td>\n",
       "    </tr>\n",
       "    <tr>\n",
       "      <th>3</th>\n",
       "      <td>Baldwin County, AL</td>\n",
       "      <td>1003</td>\n",
       "      <td>3758097</td>\n",
       "      <td>71</td>\n",
       "      <td>1.889254</td>\n",
       "    </tr>\n",
       "    <tr>\n",
       "      <th>4</th>\n",
       "      <td>Baldwin County, AL</td>\n",
       "      <td>1003</td>\n",
       "      <td>3758097</td>\n",
       "      <td>19</td>\n",
       "      <td>0.505575</td>\n",
       "    </tr>\n",
       "    <tr>\n",
       "      <th>...</th>\n",
       "      <td>...</td>\n",
       "      <td>...</td>\n",
       "      <td>...</td>\n",
       "      <td>...</td>\n",
       "      <td>...</td>\n",
       "    </tr>\n",
       "    <tr>\n",
       "      <th>5536</th>\n",
       "      <td>Sweetwater County, WY</td>\n",
       "      <td>56037</td>\n",
       "      <td>873221</td>\n",
       "      <td>15</td>\n",
       "      <td>1.717778</td>\n",
       "    </tr>\n",
       "    <tr>\n",
       "      <th>5537</th>\n",
       "      <td>Teton County, WY</td>\n",
       "      <td>56039</td>\n",
       "      <td>440125</td>\n",
       "      <td>13</td>\n",
       "      <td>2.953706</td>\n",
       "    </tr>\n",
       "    <tr>\n",
       "      <th>5538</th>\n",
       "      <td>Uinta County, WY</td>\n",
       "      <td>56041</td>\n",
       "      <td>426347</td>\n",
       "      <td>51</td>\n",
       "      <td>11.962087</td>\n",
       "    </tr>\n",
       "    <tr>\n",
       "      <th>5539</th>\n",
       "      <td>Uinta County, WY</td>\n",
       "      <td>56041</td>\n",
       "      <td>426347</td>\n",
       "      <td>10</td>\n",
       "      <td>2.345507</td>\n",
       "    </tr>\n",
       "    <tr>\n",
       "      <th>5540</th>\n",
       "      <td>Washakie County, WY</td>\n",
       "      <td>56043</td>\n",
       "      <td>172114</td>\n",
       "      <td>14</td>\n",
       "      <td>8.134144</td>\n",
       "    </tr>\n",
       "  </tbody>\n",
       "</table>\n",
       "<p>5541 rows × 5 columns</p>\n",
       "</div>"
      ],
      "text/plain": [
       "                     County  County Code  Population  Deaths  Norm_Deaths\n",
       "0        Autauga County, AL         1001     1087149      69     6.346876\n",
       "1        Autauga County, AL         1001     1087149      14     1.287772\n",
       "2        Baldwin County, AL         1003     3758097     424    11.282306\n",
       "3        Baldwin County, AL         1003     3758097      71     1.889254\n",
       "4        Baldwin County, AL         1003     3758097      19     0.505575\n",
       "...                     ...          ...         ...     ...          ...\n",
       "5536  Sweetwater County, WY        56037      873221      15     1.717778\n",
       "5537       Teton County, WY        56039      440125      13     2.953706\n",
       "5538       Uinta County, WY        56041      426347      51    11.962087\n",
       "5539       Uinta County, WY        56041      426347      10     2.345507\n",
       "5540    Washakie County, WY        56043      172114      14     8.134144\n",
       "\n",
       "[5541 rows x 5 columns]"
      ]
     },
     "execution_count": 12,
     "metadata": {},
     "output_type": "execute_result"
    }
   ],
   "source": [
    "file1=file1[['County','County Code','Population','Deaths']]\n",
    "file1[\"Norm_Deaths\"] = (file1[\"Deaths\"]/file1[\"Population\"])*100000\n",
    "file1"
   ]
  },
  {
   "cell_type": "code",
   "execution_count": 13,
   "id": "0b9adf2f",
   "metadata": {},
   "outputs": [
    {
     "data": {
      "text/html": [
       "<div>\n",
       "<style scoped>\n",
       "    .dataframe tbody tr th:only-of-type {\n",
       "        vertical-align: middle;\n",
       "    }\n",
       "\n",
       "    .dataframe tbody tr th {\n",
       "        vertical-align: top;\n",
       "    }\n",
       "\n",
       "    .dataframe thead th {\n",
       "        text-align: right;\n",
       "    }\n",
       "</style>\n",
       "<table border=\"1\" class=\"dataframe\">\n",
       "  <thead>\n",
       "    <tr style=\"text-align: right;\">\n",
       "      <th></th>\n",
       "      <th>State FIPS Code</th>\n",
       "      <th>County FIPS Code</th>\n",
       "      <th>5-digit FIPS Code</th>\n",
       "      <th>State</th>\n",
       "      <th>County</th>\n",
       "      <th>Release Year</th>\n",
       "      <th>Premature death raw value</th>\n",
       "      <th>Premature death numerator</th>\n",
       "      <th>Premature death denominator</th>\n",
       "      <th>Premature death CI low</th>\n",
       "      <th>...</th>\n",
       "      <th>Male population 18-44 raw value</th>\n",
       "      <th>Male population 45-64 raw value</th>\n",
       "      <th>Male population 65+ raw value</th>\n",
       "      <th>Total male population raw value</th>\n",
       "      <th>Female population 0-17 raw value</th>\n",
       "      <th>Female population 18-44 raw value</th>\n",
       "      <th>Female population 45-64 raw value</th>\n",
       "      <th>Female population 65+ raw value</th>\n",
       "      <th>Total female population raw value</th>\n",
       "      <th>Population growth raw value</th>\n",
       "    </tr>\n",
       "  </thead>\n",
       "  <tbody>\n",
       "    <tr>\n",
       "      <th>0</th>\n",
       "      <td>1</td>\n",
       "      <td>0</td>\n",
       "      <td>1000</td>\n",
       "      <td>AL</td>\n",
       "      <td>Alabama</td>\n",
       "      <td>2019</td>\n",
       "      <td>9917.232898</td>\n",
       "      <td>80440.0</td>\n",
       "      <td>13636816.0</td>\n",
       "      <td>9815.190945</td>\n",
       "      <td>...</td>\n",
       "      <td>0.0</td>\n",
       "      <td>0.0</td>\n",
       "      <td>0.0</td>\n",
       "      <td>0.0</td>\n",
       "      <td>0.0</td>\n",
       "      <td>0.0</td>\n",
       "      <td>0.0</td>\n",
       "      <td>0.0</td>\n",
       "      <td>0.0</td>\n",
       "      <td>0.0</td>\n",
       "    </tr>\n",
       "    <tr>\n",
       "      <th>1</th>\n",
       "      <td>1</td>\n",
       "      <td>1</td>\n",
       "      <td>1001</td>\n",
       "      <td>AL</td>\n",
       "      <td>Autauga County</td>\n",
       "      <td>2019</td>\n",
       "      <td>8824.057123</td>\n",
       "      <td>815.0</td>\n",
       "      <td>156132.0</td>\n",
       "      <td>7935.325830</td>\n",
       "      <td>...</td>\n",
       "      <td>0.0</td>\n",
       "      <td>0.0</td>\n",
       "      <td>0.0</td>\n",
       "      <td>0.0</td>\n",
       "      <td>0.0</td>\n",
       "      <td>0.0</td>\n",
       "      <td>0.0</td>\n",
       "      <td>0.0</td>\n",
       "      <td>0.0</td>\n",
       "      <td>0.0</td>\n",
       "    </tr>\n",
       "    <tr>\n",
       "      <th>2</th>\n",
       "      <td>1</td>\n",
       "      <td>3</td>\n",
       "      <td>1003</td>\n",
       "      <td>AL</td>\n",
       "      <td>Baldwin County</td>\n",
       "      <td>2019</td>\n",
       "      <td>7224.632160</td>\n",
       "      <td>2827.0</td>\n",
       "      <td>576496.0</td>\n",
       "      <td>6794.128380</td>\n",
       "      <td>...</td>\n",
       "      <td>0.0</td>\n",
       "      <td>0.0</td>\n",
       "      <td>0.0</td>\n",
       "      <td>0.0</td>\n",
       "      <td>0.0</td>\n",
       "      <td>0.0</td>\n",
       "      <td>0.0</td>\n",
       "      <td>0.0</td>\n",
       "      <td>0.0</td>\n",
       "      <td>0.0</td>\n",
       "    </tr>\n",
       "    <tr>\n",
       "      <th>3</th>\n",
       "      <td>1</td>\n",
       "      <td>5</td>\n",
       "      <td>1005</td>\n",
       "      <td>AL</td>\n",
       "      <td>Barbour County</td>\n",
       "      <td>2019</td>\n",
       "      <td>9586.165037</td>\n",
       "      <td>451.0</td>\n",
       "      <td>72222.0</td>\n",
       "      <td>8200.117541</td>\n",
       "      <td>...</td>\n",
       "      <td>0.0</td>\n",
       "      <td>0.0</td>\n",
       "      <td>0.0</td>\n",
       "      <td>0.0</td>\n",
       "      <td>0.0</td>\n",
       "      <td>0.0</td>\n",
       "      <td>0.0</td>\n",
       "      <td>0.0</td>\n",
       "      <td>0.0</td>\n",
       "      <td>0.0</td>\n",
       "    </tr>\n",
       "    <tr>\n",
       "      <th>4</th>\n",
       "      <td>1</td>\n",
       "      <td>7</td>\n",
       "      <td>1007</td>\n",
       "      <td>AL</td>\n",
       "      <td>Bibb County</td>\n",
       "      <td>2019</td>\n",
       "      <td>11783.543680</td>\n",
       "      <td>445.0</td>\n",
       "      <td>63653.0</td>\n",
       "      <td>10159.978320</td>\n",
       "      <td>...</td>\n",
       "      <td>0.0</td>\n",
       "      <td>0.0</td>\n",
       "      <td>0.0</td>\n",
       "      <td>0.0</td>\n",
       "      <td>0.0</td>\n",
       "      <td>0.0</td>\n",
       "      <td>0.0</td>\n",
       "      <td>0.0</td>\n",
       "      <td>0.0</td>\n",
       "      <td>0.0</td>\n",
       "    </tr>\n",
       "    <tr>\n",
       "      <th>...</th>\n",
       "      <td>...</td>\n",
       "      <td>...</td>\n",
       "      <td>...</td>\n",
       "      <td>...</td>\n",
       "      <td>...</td>\n",
       "      <td>...</td>\n",
       "      <td>...</td>\n",
       "      <td>...</td>\n",
       "      <td>...</td>\n",
       "      <td>...</td>\n",
       "      <td>...</td>\n",
       "      <td>...</td>\n",
       "      <td>...</td>\n",
       "      <td>...</td>\n",
       "      <td>...</td>\n",
       "      <td>...</td>\n",
       "      <td>...</td>\n",
       "      <td>...</td>\n",
       "      <td>...</td>\n",
       "      <td>...</td>\n",
       "      <td>...</td>\n",
       "    </tr>\n",
       "    <tr>\n",
       "      <th>3188</th>\n",
       "      <td>56</td>\n",
       "      <td>37</td>\n",
       "      <td>56037</td>\n",
       "      <td>WY</td>\n",
       "      <td>Sweetwater County</td>\n",
       "      <td>2019</td>\n",
       "      <td>7497.439952</td>\n",
       "      <td>495.0</td>\n",
       "      <td>127427.0</td>\n",
       "      <td>6599.947576</td>\n",
       "      <td>...</td>\n",
       "      <td>0.0</td>\n",
       "      <td>0.0</td>\n",
       "      <td>0.0</td>\n",
       "      <td>0.0</td>\n",
       "      <td>0.0</td>\n",
       "      <td>0.0</td>\n",
       "      <td>0.0</td>\n",
       "      <td>0.0</td>\n",
       "      <td>0.0</td>\n",
       "      <td>0.0</td>\n",
       "    </tr>\n",
       "    <tr>\n",
       "      <th>3189</th>\n",
       "      <td>56</td>\n",
       "      <td>39</td>\n",
       "      <td>56039</td>\n",
       "      <td>WY</td>\n",
       "      <td>Teton County</td>\n",
       "      <td>2019</td>\n",
       "      <td>3786.128226</td>\n",
       "      <td>124.0</td>\n",
       "      <td>66351.0</td>\n",
       "      <td>2819.782887</td>\n",
       "      <td>...</td>\n",
       "      <td>0.0</td>\n",
       "      <td>0.0</td>\n",
       "      <td>0.0</td>\n",
       "      <td>0.0</td>\n",
       "      <td>0.0</td>\n",
       "      <td>0.0</td>\n",
       "      <td>0.0</td>\n",
       "      <td>0.0</td>\n",
       "      <td>0.0</td>\n",
       "      <td>0.0</td>\n",
       "    </tr>\n",
       "    <tr>\n",
       "      <th>3190</th>\n",
       "      <td>56</td>\n",
       "      <td>41</td>\n",
       "      <td>56041</td>\n",
       "      <td>WY</td>\n",
       "      <td>Uinta County</td>\n",
       "      <td>2019</td>\n",
       "      <td>7790.302043</td>\n",
       "      <td>262.0</td>\n",
       "      <td>59466.0</td>\n",
       "      <td>6427.289477</td>\n",
       "      <td>...</td>\n",
       "      <td>0.0</td>\n",
       "      <td>0.0</td>\n",
       "      <td>0.0</td>\n",
       "      <td>0.0</td>\n",
       "      <td>0.0</td>\n",
       "      <td>0.0</td>\n",
       "      <td>0.0</td>\n",
       "      <td>0.0</td>\n",
       "      <td>0.0</td>\n",
       "      <td>0.0</td>\n",
       "    </tr>\n",
       "    <tr>\n",
       "      <th>3191</th>\n",
       "      <td>56</td>\n",
       "      <td>43</td>\n",
       "      <td>56043</td>\n",
       "      <td>WY</td>\n",
       "      <td>Washakie County</td>\n",
       "      <td>2019</td>\n",
       "      <td>5504.650970</td>\n",
       "      <td>108.0</td>\n",
       "      <td>22335.0</td>\n",
       "      <td>3712.604945</td>\n",
       "      <td>...</td>\n",
       "      <td>0.0</td>\n",
       "      <td>0.0</td>\n",
       "      <td>0.0</td>\n",
       "      <td>0.0</td>\n",
       "      <td>0.0</td>\n",
       "      <td>0.0</td>\n",
       "      <td>0.0</td>\n",
       "      <td>0.0</td>\n",
       "      <td>0.0</td>\n",
       "      <td>0.0</td>\n",
       "    </tr>\n",
       "    <tr>\n",
       "      <th>3192</th>\n",
       "      <td>56</td>\n",
       "      <td>45</td>\n",
       "      <td>56045</td>\n",
       "      <td>WY</td>\n",
       "      <td>Weston County</td>\n",
       "      <td>2019</td>\n",
       "      <td>4991.168273</td>\n",
       "      <td>82.0</td>\n",
       "      <td>19599.0</td>\n",
       "      <td>3969.624248</td>\n",
       "      <td>...</td>\n",
       "      <td>0.0</td>\n",
       "      <td>0.0</td>\n",
       "      <td>0.0</td>\n",
       "      <td>0.0</td>\n",
       "      <td>0.0</td>\n",
       "      <td>0.0</td>\n",
       "      <td>0.0</td>\n",
       "      <td>0.0</td>\n",
       "      <td>0.0</td>\n",
       "      <td>0.0</td>\n",
       "    </tr>\n",
       "  </tbody>\n",
       "</table>\n",
       "<p>3193 rows × 533 columns</p>\n",
       "</div>"
      ],
      "text/plain": [
       "      State FIPS Code  County FIPS Code  5-digit FIPS Code State  \\\n",
       "0                   1                 0               1000    AL   \n",
       "1                   1                 1               1001    AL   \n",
       "2                   1                 3               1003    AL   \n",
       "3                   1                 5               1005    AL   \n",
       "4                   1                 7               1007    AL   \n",
       "...               ...               ...                ...   ...   \n",
       "3188               56                37              56037    WY   \n",
       "3189               56                39              56039    WY   \n",
       "3190               56                41              56041    WY   \n",
       "3191               56                43              56043    WY   \n",
       "3192               56                45              56045    WY   \n",
       "\n",
       "                 County  Release Year  Premature death raw value  \\\n",
       "0               Alabama          2019                9917.232898   \n",
       "1        Autauga County          2019                8824.057123   \n",
       "2        Baldwin County          2019                7224.632160   \n",
       "3        Barbour County          2019                9586.165037   \n",
       "4           Bibb County          2019               11783.543680   \n",
       "...                 ...           ...                        ...   \n",
       "3188  Sweetwater County          2019                7497.439952   \n",
       "3189       Teton County          2019                3786.128226   \n",
       "3190       Uinta County          2019                7790.302043   \n",
       "3191    Washakie County          2019                5504.650970   \n",
       "3192      Weston County          2019                4991.168273   \n",
       "\n",
       "      Premature death numerator  Premature death denominator  \\\n",
       "0                       80440.0                   13636816.0   \n",
       "1                         815.0                     156132.0   \n",
       "2                        2827.0                     576496.0   \n",
       "3                         451.0                      72222.0   \n",
       "4                         445.0                      63653.0   \n",
       "...                         ...                          ...   \n",
       "3188                      495.0                     127427.0   \n",
       "3189                      124.0                      66351.0   \n",
       "3190                      262.0                      59466.0   \n",
       "3191                      108.0                      22335.0   \n",
       "3192                       82.0                      19599.0   \n",
       "\n",
       "      Premature death CI low  ...  Male population 18-44 raw value  \\\n",
       "0                9815.190945  ...                              0.0   \n",
       "1                7935.325830  ...                              0.0   \n",
       "2                6794.128380  ...                              0.0   \n",
       "3                8200.117541  ...                              0.0   \n",
       "4               10159.978320  ...                              0.0   \n",
       "...                      ...  ...                              ...   \n",
       "3188             6599.947576  ...                              0.0   \n",
       "3189             2819.782887  ...                              0.0   \n",
       "3190             6427.289477  ...                              0.0   \n",
       "3191             3712.604945  ...                              0.0   \n",
       "3192             3969.624248  ...                              0.0   \n",
       "\n",
       "      Male population 45-64 raw value  Male population 65+ raw value  \\\n",
       "0                                 0.0                            0.0   \n",
       "1                                 0.0                            0.0   \n",
       "2                                 0.0                            0.0   \n",
       "3                                 0.0                            0.0   \n",
       "4                                 0.0                            0.0   \n",
       "...                               ...                            ...   \n",
       "3188                              0.0                            0.0   \n",
       "3189                              0.0                            0.0   \n",
       "3190                              0.0                            0.0   \n",
       "3191                              0.0                            0.0   \n",
       "3192                              0.0                            0.0   \n",
       "\n",
       "      Total male population raw value  Female population 0-17 raw value  \\\n",
       "0                                 0.0                               0.0   \n",
       "1                                 0.0                               0.0   \n",
       "2                                 0.0                               0.0   \n",
       "3                                 0.0                               0.0   \n",
       "4                                 0.0                               0.0   \n",
       "...                               ...                               ...   \n",
       "3188                              0.0                               0.0   \n",
       "3189                              0.0                               0.0   \n",
       "3190                              0.0                               0.0   \n",
       "3191                              0.0                               0.0   \n",
       "3192                              0.0                               0.0   \n",
       "\n",
       "      Female population 18-44 raw value  Female population 45-64 raw value  \\\n",
       "0                                   0.0                                0.0   \n",
       "1                                   0.0                                0.0   \n",
       "2                                   0.0                                0.0   \n",
       "3                                   0.0                                0.0   \n",
       "4                                   0.0                                0.0   \n",
       "...                                 ...                                ...   \n",
       "3188                                0.0                                0.0   \n",
       "3189                                0.0                                0.0   \n",
       "3190                                0.0                                0.0   \n",
       "3191                                0.0                                0.0   \n",
       "3192                                0.0                                0.0   \n",
       "\n",
       "      Female population 65+ raw value  Total female population raw value  \\\n",
       "0                                 0.0                                0.0   \n",
       "1                                 0.0                                0.0   \n",
       "2                                 0.0                                0.0   \n",
       "3                                 0.0                                0.0   \n",
       "4                                 0.0                                0.0   \n",
       "...                               ...                                ...   \n",
       "3188                              0.0                                0.0   \n",
       "3189                              0.0                                0.0   \n",
       "3190                              0.0                                0.0   \n",
       "3191                              0.0                                0.0   \n",
       "3192                              0.0                                0.0   \n",
       "\n",
       "      Population growth raw value  \n",
       "0                             0.0  \n",
       "1                             0.0  \n",
       "2                             0.0  \n",
       "3                             0.0  \n",
       "4                             0.0  \n",
       "...                           ...  \n",
       "3188                          0.0  \n",
       "3189                          0.0  \n",
       "3190                          0.0  \n",
       "3191                          0.0  \n",
       "3192                          0.0  \n",
       "\n",
       "[3193 rows x 533 columns]"
      ]
     },
     "execution_count": 13,
     "metadata": {},
     "output_type": "execute_result"
    }
   ],
   "source": [
    "#renaming the column names in file2 to perform the merge operation\n",
    "\n",
    "file2.rename(columns = {'State Abbreviation':'State'}, inplace = True)\n",
    "file2.rename(columns = {'Name':'County'}, inplace = True)\n",
    "file2.drop(columns=['County Ranked (Yes=1/No=0)'],inplace=True)\n",
    "file2"
   ]
  },
  {
   "cell_type": "markdown",
   "id": "20cbfe18",
   "metadata": {},
   "source": [
    "* We then join the state and the county fields in file2 as in file1 to perform the merge"
   ]
  },
  {
   "cell_type": "code",
   "execution_count": 14,
   "id": "1d7e5912",
   "metadata": {},
   "outputs": [
    {
     "data": {
      "text/html": [
       "<div>\n",
       "<style scoped>\n",
       "    .dataframe tbody tr th:only-of-type {\n",
       "        vertical-align: middle;\n",
       "    }\n",
       "\n",
       "    .dataframe tbody tr th {\n",
       "        vertical-align: top;\n",
       "    }\n",
       "\n",
       "    .dataframe thead th {\n",
       "        text-align: right;\n",
       "    }\n",
       "</style>\n",
       "<table border=\"1\" class=\"dataframe\">\n",
       "  <thead>\n",
       "    <tr style=\"text-align: right;\">\n",
       "      <th></th>\n",
       "      <th>State FIPS Code</th>\n",
       "      <th>County FIPS Code</th>\n",
       "      <th>5-digit FIPS Code</th>\n",
       "      <th>State</th>\n",
       "      <th>County</th>\n",
       "      <th>Release Year</th>\n",
       "      <th>Premature death raw value</th>\n",
       "      <th>Premature death numerator</th>\n",
       "      <th>Premature death denominator</th>\n",
       "      <th>Premature death CI low</th>\n",
       "      <th>...</th>\n",
       "      <th>Male population 18-44 raw value</th>\n",
       "      <th>Male population 45-64 raw value</th>\n",
       "      <th>Male population 65+ raw value</th>\n",
       "      <th>Total male population raw value</th>\n",
       "      <th>Female population 0-17 raw value</th>\n",
       "      <th>Female population 18-44 raw value</th>\n",
       "      <th>Female population 45-64 raw value</th>\n",
       "      <th>Female population 65+ raw value</th>\n",
       "      <th>Total female population raw value</th>\n",
       "      <th>Population growth raw value</th>\n",
       "    </tr>\n",
       "  </thead>\n",
       "  <tbody>\n",
       "    <tr>\n",
       "      <th>0</th>\n",
       "      <td>1</td>\n",
       "      <td>0</td>\n",
       "      <td>1000</td>\n",
       "      <td>AL</td>\n",
       "      <td>Alabama, AL</td>\n",
       "      <td>2019</td>\n",
       "      <td>9917.232898</td>\n",
       "      <td>80440.0</td>\n",
       "      <td>13636816.0</td>\n",
       "      <td>9815.190945</td>\n",
       "      <td>...</td>\n",
       "      <td>0.0</td>\n",
       "      <td>0.0</td>\n",
       "      <td>0.0</td>\n",
       "      <td>0.0</td>\n",
       "      <td>0.0</td>\n",
       "      <td>0.0</td>\n",
       "      <td>0.0</td>\n",
       "      <td>0.0</td>\n",
       "      <td>0.0</td>\n",
       "      <td>0.0</td>\n",
       "    </tr>\n",
       "    <tr>\n",
       "      <th>1</th>\n",
       "      <td>1</td>\n",
       "      <td>1</td>\n",
       "      <td>1001</td>\n",
       "      <td>AL</td>\n",
       "      <td>Autauga County, AL</td>\n",
       "      <td>2019</td>\n",
       "      <td>8824.057123</td>\n",
       "      <td>815.0</td>\n",
       "      <td>156132.0</td>\n",
       "      <td>7935.325830</td>\n",
       "      <td>...</td>\n",
       "      <td>0.0</td>\n",
       "      <td>0.0</td>\n",
       "      <td>0.0</td>\n",
       "      <td>0.0</td>\n",
       "      <td>0.0</td>\n",
       "      <td>0.0</td>\n",
       "      <td>0.0</td>\n",
       "      <td>0.0</td>\n",
       "      <td>0.0</td>\n",
       "      <td>0.0</td>\n",
       "    </tr>\n",
       "    <tr>\n",
       "      <th>2</th>\n",
       "      <td>1</td>\n",
       "      <td>3</td>\n",
       "      <td>1003</td>\n",
       "      <td>AL</td>\n",
       "      <td>Baldwin County, AL</td>\n",
       "      <td>2019</td>\n",
       "      <td>7224.632160</td>\n",
       "      <td>2827.0</td>\n",
       "      <td>576496.0</td>\n",
       "      <td>6794.128380</td>\n",
       "      <td>...</td>\n",
       "      <td>0.0</td>\n",
       "      <td>0.0</td>\n",
       "      <td>0.0</td>\n",
       "      <td>0.0</td>\n",
       "      <td>0.0</td>\n",
       "      <td>0.0</td>\n",
       "      <td>0.0</td>\n",
       "      <td>0.0</td>\n",
       "      <td>0.0</td>\n",
       "      <td>0.0</td>\n",
       "    </tr>\n",
       "    <tr>\n",
       "      <th>3</th>\n",
       "      <td>1</td>\n",
       "      <td>5</td>\n",
       "      <td>1005</td>\n",
       "      <td>AL</td>\n",
       "      <td>Barbour County, AL</td>\n",
       "      <td>2019</td>\n",
       "      <td>9586.165037</td>\n",
       "      <td>451.0</td>\n",
       "      <td>72222.0</td>\n",
       "      <td>8200.117541</td>\n",
       "      <td>...</td>\n",
       "      <td>0.0</td>\n",
       "      <td>0.0</td>\n",
       "      <td>0.0</td>\n",
       "      <td>0.0</td>\n",
       "      <td>0.0</td>\n",
       "      <td>0.0</td>\n",
       "      <td>0.0</td>\n",
       "      <td>0.0</td>\n",
       "      <td>0.0</td>\n",
       "      <td>0.0</td>\n",
       "    </tr>\n",
       "    <tr>\n",
       "      <th>4</th>\n",
       "      <td>1</td>\n",
       "      <td>7</td>\n",
       "      <td>1007</td>\n",
       "      <td>AL</td>\n",
       "      <td>Bibb County, AL</td>\n",
       "      <td>2019</td>\n",
       "      <td>11783.543680</td>\n",
       "      <td>445.0</td>\n",
       "      <td>63653.0</td>\n",
       "      <td>10159.978320</td>\n",
       "      <td>...</td>\n",
       "      <td>0.0</td>\n",
       "      <td>0.0</td>\n",
       "      <td>0.0</td>\n",
       "      <td>0.0</td>\n",
       "      <td>0.0</td>\n",
       "      <td>0.0</td>\n",
       "      <td>0.0</td>\n",
       "      <td>0.0</td>\n",
       "      <td>0.0</td>\n",
       "      <td>0.0</td>\n",
       "    </tr>\n",
       "  </tbody>\n",
       "</table>\n",
       "<p>5 rows × 533 columns</p>\n",
       "</div>"
      ],
      "text/plain": [
       "   State FIPS Code  County FIPS Code  5-digit FIPS Code State  \\\n",
       "0                1                 0               1000    AL   \n",
       "1                1                 1               1001    AL   \n",
       "2                1                 3               1003    AL   \n",
       "3                1                 5               1005    AL   \n",
       "4                1                 7               1007    AL   \n",
       "\n",
       "               County  Release Year  Premature death raw value  \\\n",
       "0         Alabama, AL          2019                9917.232898   \n",
       "1  Autauga County, AL          2019                8824.057123   \n",
       "2  Baldwin County, AL          2019                7224.632160   \n",
       "3  Barbour County, AL          2019                9586.165037   \n",
       "4     Bibb County, AL          2019               11783.543680   \n",
       "\n",
       "   Premature death numerator  Premature death denominator  \\\n",
       "0                    80440.0                   13636816.0   \n",
       "1                      815.0                     156132.0   \n",
       "2                     2827.0                     576496.0   \n",
       "3                      451.0                      72222.0   \n",
       "4                      445.0                      63653.0   \n",
       "\n",
       "   Premature death CI low  ...  Male population 18-44 raw value  \\\n",
       "0             9815.190945  ...                              0.0   \n",
       "1             7935.325830  ...                              0.0   \n",
       "2             6794.128380  ...                              0.0   \n",
       "3             8200.117541  ...                              0.0   \n",
       "4            10159.978320  ...                              0.0   \n",
       "\n",
       "   Male population 45-64 raw value  Male population 65+ raw value  \\\n",
       "0                              0.0                            0.0   \n",
       "1                              0.0                            0.0   \n",
       "2                              0.0                            0.0   \n",
       "3                              0.0                            0.0   \n",
       "4                              0.0                            0.0   \n",
       "\n",
       "   Total male population raw value  Female population 0-17 raw value  \\\n",
       "0                              0.0                               0.0   \n",
       "1                              0.0                               0.0   \n",
       "2                              0.0                               0.0   \n",
       "3                              0.0                               0.0   \n",
       "4                              0.0                               0.0   \n",
       "\n",
       "   Female population 18-44 raw value  Female population 45-64 raw value  \\\n",
       "0                                0.0                                0.0   \n",
       "1                                0.0                                0.0   \n",
       "2                                0.0                                0.0   \n",
       "3                                0.0                                0.0   \n",
       "4                                0.0                                0.0   \n",
       "\n",
       "   Female population 65+ raw value  Total female population raw value  \\\n",
       "0                              0.0                                0.0   \n",
       "1                              0.0                                0.0   \n",
       "2                              0.0                                0.0   \n",
       "3                              0.0                                0.0   \n",
       "4                              0.0                                0.0   \n",
       "\n",
       "   Population growth raw value  \n",
       "0                          0.0  \n",
       "1                          0.0  \n",
       "2                          0.0  \n",
       "3                          0.0  \n",
       "4                          0.0  \n",
       "\n",
       "[5 rows x 533 columns]"
      ]
     },
     "execution_count": 14,
     "metadata": {},
     "output_type": "execute_result"
    }
   ],
   "source": [
    "file2['County'] = file2[['County', 'State']].apply(lambda x: ', '.join(x[x.notnull()]), axis = 1)\n",
    "file2.head()"
   ]
  },
  {
   "cell_type": "markdown",
   "id": "4fb3f999",
   "metadata": {},
   "source": [
    "* Once the county field consists of both the county name and state name, we then perofrm the merge operation on file1 and file2 and save it in the final1 variable"
   ]
  },
  {
   "cell_type": "code",
   "execution_count": 15,
   "id": "3b792ed3",
   "metadata": {},
   "outputs": [
    {
     "data": {
      "text/html": [
       "<div>\n",
       "<style scoped>\n",
       "    .dataframe tbody tr th:only-of-type {\n",
       "        vertical-align: middle;\n",
       "    }\n",
       "\n",
       "    .dataframe tbody tr th {\n",
       "        vertical-align: top;\n",
       "    }\n",
       "\n",
       "    .dataframe thead th {\n",
       "        text-align: right;\n",
       "    }\n",
       "</style>\n",
       "<table border=\"1\" class=\"dataframe\">\n",
       "  <thead>\n",
       "    <tr style=\"text-align: right;\">\n",
       "      <th></th>\n",
       "      <th>County</th>\n",
       "      <th>County Code</th>\n",
       "      <th>Population</th>\n",
       "      <th>Deaths</th>\n",
       "      <th>Norm_Deaths</th>\n",
       "      <th>State FIPS Code</th>\n",
       "      <th>County FIPS Code</th>\n",
       "      <th>5-digit FIPS Code</th>\n",
       "      <th>State</th>\n",
       "      <th>Release Year</th>\n",
       "      <th>...</th>\n",
       "      <th>Male population 18-44 raw value</th>\n",
       "      <th>Male population 45-64 raw value</th>\n",
       "      <th>Male population 65+ raw value</th>\n",
       "      <th>Total male population raw value</th>\n",
       "      <th>Female population 0-17 raw value</th>\n",
       "      <th>Female population 18-44 raw value</th>\n",
       "      <th>Female population 45-64 raw value</th>\n",
       "      <th>Female population 65+ raw value</th>\n",
       "      <th>Total female population raw value</th>\n",
       "      <th>Population growth raw value</th>\n",
       "    </tr>\n",
       "  </thead>\n",
       "  <tbody>\n",
       "    <tr>\n",
       "      <th>0</th>\n",
       "      <td>Autauga County, AL</td>\n",
       "      <td>1001</td>\n",
       "      <td>1087149</td>\n",
       "      <td>69</td>\n",
       "      <td>6.346876</td>\n",
       "      <td>1.0</td>\n",
       "      <td>1.0</td>\n",
       "      <td>1001.0</td>\n",
       "      <td>AL</td>\n",
       "      <td>2019.0</td>\n",
       "      <td>...</td>\n",
       "      <td>0.0</td>\n",
       "      <td>0.0</td>\n",
       "      <td>0.0</td>\n",
       "      <td>0.0</td>\n",
       "      <td>0.0</td>\n",
       "      <td>0.0</td>\n",
       "      <td>0.0</td>\n",
       "      <td>0.0</td>\n",
       "      <td>0.0</td>\n",
       "      <td>0.0</td>\n",
       "    </tr>\n",
       "    <tr>\n",
       "      <th>1</th>\n",
       "      <td>Autauga County, AL</td>\n",
       "      <td>1001</td>\n",
       "      <td>1087149</td>\n",
       "      <td>14</td>\n",
       "      <td>1.287772</td>\n",
       "      <td>1.0</td>\n",
       "      <td>1.0</td>\n",
       "      <td>1001.0</td>\n",
       "      <td>AL</td>\n",
       "      <td>2019.0</td>\n",
       "      <td>...</td>\n",
       "      <td>0.0</td>\n",
       "      <td>0.0</td>\n",
       "      <td>0.0</td>\n",
       "      <td>0.0</td>\n",
       "      <td>0.0</td>\n",
       "      <td>0.0</td>\n",
       "      <td>0.0</td>\n",
       "      <td>0.0</td>\n",
       "      <td>0.0</td>\n",
       "      <td>0.0</td>\n",
       "    </tr>\n",
       "    <tr>\n",
       "      <th>2</th>\n",
       "      <td>Baldwin County, AL</td>\n",
       "      <td>1003</td>\n",
       "      <td>3758097</td>\n",
       "      <td>424</td>\n",
       "      <td>11.282306</td>\n",
       "      <td>1.0</td>\n",
       "      <td>3.0</td>\n",
       "      <td>1003.0</td>\n",
       "      <td>AL</td>\n",
       "      <td>2019.0</td>\n",
       "      <td>...</td>\n",
       "      <td>0.0</td>\n",
       "      <td>0.0</td>\n",
       "      <td>0.0</td>\n",
       "      <td>0.0</td>\n",
       "      <td>0.0</td>\n",
       "      <td>0.0</td>\n",
       "      <td>0.0</td>\n",
       "      <td>0.0</td>\n",
       "      <td>0.0</td>\n",
       "      <td>0.0</td>\n",
       "    </tr>\n",
       "    <tr>\n",
       "      <th>3</th>\n",
       "      <td>Baldwin County, AL</td>\n",
       "      <td>1003</td>\n",
       "      <td>3758097</td>\n",
       "      <td>71</td>\n",
       "      <td>1.889254</td>\n",
       "      <td>1.0</td>\n",
       "      <td>3.0</td>\n",
       "      <td>1003.0</td>\n",
       "      <td>AL</td>\n",
       "      <td>2019.0</td>\n",
       "      <td>...</td>\n",
       "      <td>0.0</td>\n",
       "      <td>0.0</td>\n",
       "      <td>0.0</td>\n",
       "      <td>0.0</td>\n",
       "      <td>0.0</td>\n",
       "      <td>0.0</td>\n",
       "      <td>0.0</td>\n",
       "      <td>0.0</td>\n",
       "      <td>0.0</td>\n",
       "      <td>0.0</td>\n",
       "    </tr>\n",
       "    <tr>\n",
       "      <th>4</th>\n",
       "      <td>Baldwin County, AL</td>\n",
       "      <td>1003</td>\n",
       "      <td>3758097</td>\n",
       "      <td>19</td>\n",
       "      <td>0.505575</td>\n",
       "      <td>1.0</td>\n",
       "      <td>3.0</td>\n",
       "      <td>1003.0</td>\n",
       "      <td>AL</td>\n",
       "      <td>2019.0</td>\n",
       "      <td>...</td>\n",
       "      <td>0.0</td>\n",
       "      <td>0.0</td>\n",
       "      <td>0.0</td>\n",
       "      <td>0.0</td>\n",
       "      <td>0.0</td>\n",
       "      <td>0.0</td>\n",
       "      <td>0.0</td>\n",
       "      <td>0.0</td>\n",
       "      <td>0.0</td>\n",
       "      <td>0.0</td>\n",
       "    </tr>\n",
       "    <tr>\n",
       "      <th>...</th>\n",
       "      <td>...</td>\n",
       "      <td>...</td>\n",
       "      <td>...</td>\n",
       "      <td>...</td>\n",
       "      <td>...</td>\n",
       "      <td>...</td>\n",
       "      <td>...</td>\n",
       "      <td>...</td>\n",
       "      <td>...</td>\n",
       "      <td>...</td>\n",
       "      <td>...</td>\n",
       "      <td>...</td>\n",
       "      <td>...</td>\n",
       "      <td>...</td>\n",
       "      <td>...</td>\n",
       "      <td>...</td>\n",
       "      <td>...</td>\n",
       "      <td>...</td>\n",
       "      <td>...</td>\n",
       "      <td>...</td>\n",
       "      <td>...</td>\n",
       "    </tr>\n",
       "    <tr>\n",
       "      <th>5541</th>\n",
       "      <td>Sweetwater County, WY</td>\n",
       "      <td>56037</td>\n",
       "      <td>873221</td>\n",
       "      <td>15</td>\n",
       "      <td>1.717778</td>\n",
       "      <td>56.0</td>\n",
       "      <td>37.0</td>\n",
       "      <td>56037.0</td>\n",
       "      <td>WY</td>\n",
       "      <td>2019.0</td>\n",
       "      <td>...</td>\n",
       "      <td>0.0</td>\n",
       "      <td>0.0</td>\n",
       "      <td>0.0</td>\n",
       "      <td>0.0</td>\n",
       "      <td>0.0</td>\n",
       "      <td>0.0</td>\n",
       "      <td>0.0</td>\n",
       "      <td>0.0</td>\n",
       "      <td>0.0</td>\n",
       "      <td>0.0</td>\n",
       "    </tr>\n",
       "    <tr>\n",
       "      <th>5542</th>\n",
       "      <td>Teton County, WY</td>\n",
       "      <td>56039</td>\n",
       "      <td>440125</td>\n",
       "      <td>13</td>\n",
       "      <td>2.953706</td>\n",
       "      <td>56.0</td>\n",
       "      <td>39.0</td>\n",
       "      <td>56039.0</td>\n",
       "      <td>WY</td>\n",
       "      <td>2019.0</td>\n",
       "      <td>...</td>\n",
       "      <td>0.0</td>\n",
       "      <td>0.0</td>\n",
       "      <td>0.0</td>\n",
       "      <td>0.0</td>\n",
       "      <td>0.0</td>\n",
       "      <td>0.0</td>\n",
       "      <td>0.0</td>\n",
       "      <td>0.0</td>\n",
       "      <td>0.0</td>\n",
       "      <td>0.0</td>\n",
       "    </tr>\n",
       "    <tr>\n",
       "      <th>5543</th>\n",
       "      <td>Uinta County, WY</td>\n",
       "      <td>56041</td>\n",
       "      <td>426347</td>\n",
       "      <td>51</td>\n",
       "      <td>11.962087</td>\n",
       "      <td>56.0</td>\n",
       "      <td>41.0</td>\n",
       "      <td>56041.0</td>\n",
       "      <td>WY</td>\n",
       "      <td>2019.0</td>\n",
       "      <td>...</td>\n",
       "      <td>0.0</td>\n",
       "      <td>0.0</td>\n",
       "      <td>0.0</td>\n",
       "      <td>0.0</td>\n",
       "      <td>0.0</td>\n",
       "      <td>0.0</td>\n",
       "      <td>0.0</td>\n",
       "      <td>0.0</td>\n",
       "      <td>0.0</td>\n",
       "      <td>0.0</td>\n",
       "    </tr>\n",
       "    <tr>\n",
       "      <th>5544</th>\n",
       "      <td>Uinta County, WY</td>\n",
       "      <td>56041</td>\n",
       "      <td>426347</td>\n",
       "      <td>10</td>\n",
       "      <td>2.345507</td>\n",
       "      <td>56.0</td>\n",
       "      <td>41.0</td>\n",
       "      <td>56041.0</td>\n",
       "      <td>WY</td>\n",
       "      <td>2019.0</td>\n",
       "      <td>...</td>\n",
       "      <td>0.0</td>\n",
       "      <td>0.0</td>\n",
       "      <td>0.0</td>\n",
       "      <td>0.0</td>\n",
       "      <td>0.0</td>\n",
       "      <td>0.0</td>\n",
       "      <td>0.0</td>\n",
       "      <td>0.0</td>\n",
       "      <td>0.0</td>\n",
       "      <td>0.0</td>\n",
       "    </tr>\n",
       "    <tr>\n",
       "      <th>5545</th>\n",
       "      <td>Washakie County, WY</td>\n",
       "      <td>56043</td>\n",
       "      <td>172114</td>\n",
       "      <td>14</td>\n",
       "      <td>8.134144</td>\n",
       "      <td>56.0</td>\n",
       "      <td>43.0</td>\n",
       "      <td>56043.0</td>\n",
       "      <td>WY</td>\n",
       "      <td>2019.0</td>\n",
       "      <td>...</td>\n",
       "      <td>0.0</td>\n",
       "      <td>0.0</td>\n",
       "      <td>0.0</td>\n",
       "      <td>0.0</td>\n",
       "      <td>0.0</td>\n",
       "      <td>0.0</td>\n",
       "      <td>0.0</td>\n",
       "      <td>0.0</td>\n",
       "      <td>0.0</td>\n",
       "      <td>0.0</td>\n",
       "    </tr>\n",
       "  </tbody>\n",
       "</table>\n",
       "<p>5546 rows × 537 columns</p>\n",
       "</div>"
      ],
      "text/plain": [
       "                     County  County Code  Population  Deaths  Norm_Deaths  \\\n",
       "0        Autauga County, AL         1001     1087149      69     6.346876   \n",
       "1        Autauga County, AL         1001     1087149      14     1.287772   \n",
       "2        Baldwin County, AL         1003     3758097     424    11.282306   \n",
       "3        Baldwin County, AL         1003     3758097      71     1.889254   \n",
       "4        Baldwin County, AL         1003     3758097      19     0.505575   \n",
       "...                     ...          ...         ...     ...          ...   \n",
       "5541  Sweetwater County, WY        56037      873221      15     1.717778   \n",
       "5542       Teton County, WY        56039      440125      13     2.953706   \n",
       "5543       Uinta County, WY        56041      426347      51    11.962087   \n",
       "5544       Uinta County, WY        56041      426347      10     2.345507   \n",
       "5545    Washakie County, WY        56043      172114      14     8.134144   \n",
       "\n",
       "      State FIPS Code  County FIPS Code  5-digit FIPS Code State  \\\n",
       "0                 1.0               1.0             1001.0    AL   \n",
       "1                 1.0               1.0             1001.0    AL   \n",
       "2                 1.0               3.0             1003.0    AL   \n",
       "3                 1.0               3.0             1003.0    AL   \n",
       "4                 1.0               3.0             1003.0    AL   \n",
       "...               ...               ...                ...   ...   \n",
       "5541             56.0              37.0            56037.0    WY   \n",
       "5542             56.0              39.0            56039.0    WY   \n",
       "5543             56.0              41.0            56041.0    WY   \n",
       "5544             56.0              41.0            56041.0    WY   \n",
       "5545             56.0              43.0            56043.0    WY   \n",
       "\n",
       "      Release Year  ...  Male population 18-44 raw value  \\\n",
       "0           2019.0  ...                              0.0   \n",
       "1           2019.0  ...                              0.0   \n",
       "2           2019.0  ...                              0.0   \n",
       "3           2019.0  ...                              0.0   \n",
       "4           2019.0  ...                              0.0   \n",
       "...            ...  ...                              ...   \n",
       "5541        2019.0  ...                              0.0   \n",
       "5542        2019.0  ...                              0.0   \n",
       "5543        2019.0  ...                              0.0   \n",
       "5544        2019.0  ...                              0.0   \n",
       "5545        2019.0  ...                              0.0   \n",
       "\n",
       "      Male population 45-64 raw value  Male population 65+ raw value  \\\n",
       "0                                 0.0                            0.0   \n",
       "1                                 0.0                            0.0   \n",
       "2                                 0.0                            0.0   \n",
       "3                                 0.0                            0.0   \n",
       "4                                 0.0                            0.0   \n",
       "...                               ...                            ...   \n",
       "5541                              0.0                            0.0   \n",
       "5542                              0.0                            0.0   \n",
       "5543                              0.0                            0.0   \n",
       "5544                              0.0                            0.0   \n",
       "5545                              0.0                            0.0   \n",
       "\n",
       "      Total male population raw value  Female population 0-17 raw value  \\\n",
       "0                                 0.0                               0.0   \n",
       "1                                 0.0                               0.0   \n",
       "2                                 0.0                               0.0   \n",
       "3                                 0.0                               0.0   \n",
       "4                                 0.0                               0.0   \n",
       "...                               ...                               ...   \n",
       "5541                              0.0                               0.0   \n",
       "5542                              0.0                               0.0   \n",
       "5543                              0.0                               0.0   \n",
       "5544                              0.0                               0.0   \n",
       "5545                              0.0                               0.0   \n",
       "\n",
       "      Female population 18-44 raw value  Female population 45-64 raw value  \\\n",
       "0                                   0.0                                0.0   \n",
       "1                                   0.0                                0.0   \n",
       "2                                   0.0                                0.0   \n",
       "3                                   0.0                                0.0   \n",
       "4                                   0.0                                0.0   \n",
       "...                                 ...                                ...   \n",
       "5541                                0.0                                0.0   \n",
       "5542                                0.0                                0.0   \n",
       "5543                                0.0                                0.0   \n",
       "5544                                0.0                                0.0   \n",
       "5545                                0.0                                0.0   \n",
       "\n",
       "      Female population 65+ raw value  Total female population raw value  \\\n",
       "0                                 0.0                                0.0   \n",
       "1                                 0.0                                0.0   \n",
       "2                                 0.0                                0.0   \n",
       "3                                 0.0                                0.0   \n",
       "4                                 0.0                                0.0   \n",
       "...                               ...                                ...   \n",
       "5541                              0.0                                0.0   \n",
       "5542                              0.0                                0.0   \n",
       "5543                              0.0                                0.0   \n",
       "5544                              0.0                                0.0   \n",
       "5545                              0.0                                0.0   \n",
       "\n",
       "      Population growth raw value  \n",
       "0                             0.0  \n",
       "1                             0.0  \n",
       "2                             0.0  \n",
       "3                             0.0  \n",
       "4                             0.0  \n",
       "...                           ...  \n",
       "5541                          0.0  \n",
       "5542                          0.0  \n",
       "5543                          0.0  \n",
       "5544                          0.0  \n",
       "5545                          0.0  \n",
       "\n",
       "[5546 rows x 537 columns]"
      ]
     },
     "execution_count": 15,
     "metadata": {},
     "output_type": "execute_result"
    }
   ],
   "source": [
    "final1=file1.merge(file2,on='County',how=\"left\")\n",
    "final1"
   ]
  },
  {
   "cell_type": "markdown",
   "id": "c42709f2",
   "metadata": {},
   "source": [
    "* Next, we have to merge this final1 file with the file3 to create the final superdataframe.\n",
    "* In order to merge file3 with the concatined file1 and file2, we join both county and state fields in file3 and call it as County."
   ]
  },
  {
   "cell_type": "code",
   "execution_count": 16,
   "id": "9a2662da",
   "metadata": {},
   "outputs": [
    {
     "data": {
      "text/html": [
       "<div>\n",
       "<style scoped>\n",
       "    .dataframe tbody tr th:only-of-type {\n",
       "        vertical-align: middle;\n",
       "    }\n",
       "\n",
       "    .dataframe tbody tr th {\n",
       "        vertical-align: top;\n",
       "    }\n",
       "\n",
       "    .dataframe thead th {\n",
       "        text-align: right;\n",
       "    }\n",
       "</style>\n",
       "<table border=\"1\" class=\"dataframe\">\n",
       "  <thead>\n",
       "    <tr style=\"text-align: right;\">\n",
       "      <th></th>\n",
       "      <th>County</th>\n",
       "      <th>State</th>\n",
       "      <th>FIPS</th>\n",
       "      <th>Opiod_Dispensing_Rate</th>\n",
       "    </tr>\n",
       "  </thead>\n",
       "  <tbody>\n",
       "    <tr>\n",
       "      <th>0</th>\n",
       "      <td>Autauga County, AL</td>\n",
       "      <td>AL</td>\n",
       "      <td>1001</td>\n",
       "      <td>101.3</td>\n",
       "    </tr>\n",
       "    <tr>\n",
       "      <th>1</th>\n",
       "      <td>Baldwin County, AL</td>\n",
       "      <td>AL</td>\n",
       "      <td>1003</td>\n",
       "      <td>67.6</td>\n",
       "    </tr>\n",
       "    <tr>\n",
       "      <th>2</th>\n",
       "      <td>Barbour County, AL</td>\n",
       "      <td>AL</td>\n",
       "      <td>1005</td>\n",
       "      <td>27.2</td>\n",
       "    </tr>\n",
       "    <tr>\n",
       "      <th>3</th>\n",
       "      <td>Bibb County, AL</td>\n",
       "      <td>AL</td>\n",
       "      <td>1007</td>\n",
       "      <td>21.0</td>\n",
       "    </tr>\n",
       "    <tr>\n",
       "      <th>4</th>\n",
       "      <td>Blount County, AL</td>\n",
       "      <td>AL</td>\n",
       "      <td>1009</td>\n",
       "      <td>23.7</td>\n",
       "    </tr>\n",
       "    <tr>\n",
       "      <th>...</th>\n",
       "      <td>...</td>\n",
       "      <td>...</td>\n",
       "      <td>...</td>\n",
       "      <td>...</td>\n",
       "    </tr>\n",
       "    <tr>\n",
       "      <th>3090</th>\n",
       "      <td>Sweetwater County, WY</td>\n",
       "      <td>WY</td>\n",
       "      <td>56037</td>\n",
       "      <td>70.0</td>\n",
       "    </tr>\n",
       "    <tr>\n",
       "      <th>3091</th>\n",
       "      <td>Teton County, WY</td>\n",
       "      <td>WY</td>\n",
       "      <td>56039</td>\n",
       "      <td>54.6</td>\n",
       "    </tr>\n",
       "    <tr>\n",
       "      <th>3092</th>\n",
       "      <td>Uinta County, WY</td>\n",
       "      <td>WY</td>\n",
       "      <td>56041</td>\n",
       "      <td>59.5</td>\n",
       "    </tr>\n",
       "    <tr>\n",
       "      <th>3093</th>\n",
       "      <td>Washakie County, WY</td>\n",
       "      <td>WY</td>\n",
       "      <td>56043</td>\n",
       "      <td>46.7</td>\n",
       "    </tr>\n",
       "    <tr>\n",
       "      <th>3094</th>\n",
       "      <td>Weston County, WY</td>\n",
       "      <td>WY</td>\n",
       "      <td>56045</td>\n",
       "      <td>4.7</td>\n",
       "    </tr>\n",
       "  </tbody>\n",
       "</table>\n",
       "<p>3095 rows × 4 columns</p>\n",
       "</div>"
      ],
      "text/plain": [
       "                     County State   FIPS  Opiod_Dispensing_Rate\n",
       "0        Autauga County, AL    AL   1001                  101.3\n",
       "1        Baldwin County, AL    AL   1003                   67.6\n",
       "2        Barbour County, AL    AL   1005                   27.2\n",
       "3           Bibb County, AL    AL   1007                   21.0\n",
       "4         Blount County, AL    AL   1009                   23.7\n",
       "...                     ...   ...    ...                    ...\n",
       "3090  Sweetwater County, WY    WY  56037                   70.0\n",
       "3091       Teton County, WY    WY  56039                   54.6\n",
       "3092       Uinta County, WY    WY  56041                   59.5\n",
       "3093    Washakie County, WY    WY  56043                   46.7\n",
       "3094      Weston County, WY    WY  56045                    4.7\n",
       "\n",
       "[3095 rows x 4 columns]"
      ]
     },
     "execution_count": 16,
     "metadata": {},
     "output_type": "execute_result"
    }
   ],
   "source": [
    "#joining state and county \n",
    "file3['County'] = file3[['County', 'State']].apply(lambda x: ', '.join(x[x.notnull()]), axis = 1)\n",
    "file3=file3[['County','State','FIPS','Opiod_Dispensing_Rate']]\n",
    "file3"
   ]
  },
  {
   "cell_type": "markdown",
   "id": "37440d8c",
   "metadata": {},
   "source": [
    "* Now file3 and concat both have the county field in common to perform the merge operation, now we can perform the merge operation on the common \"County\" field."
   ]
  },
  {
   "cell_type": "code",
   "execution_count": 17,
   "id": "1f41ed09",
   "metadata": {},
   "outputs": [
    {
     "data": {
      "text/html": [
       "<div>\n",
       "<style scoped>\n",
       "    .dataframe tbody tr th:only-of-type {\n",
       "        vertical-align: middle;\n",
       "    }\n",
       "\n",
       "    .dataframe tbody tr th {\n",
       "        vertical-align: top;\n",
       "    }\n",
       "\n",
       "    .dataframe thead th {\n",
       "        text-align: right;\n",
       "    }\n",
       "</style>\n",
       "<table border=\"1\" class=\"dataframe\">\n",
       "  <thead>\n",
       "    <tr style=\"text-align: right;\">\n",
       "      <th></th>\n",
       "      <th>County</th>\n",
       "      <th>County Code</th>\n",
       "      <th>Population</th>\n",
       "      <th>Deaths</th>\n",
       "      <th>Norm_Deaths</th>\n",
       "      <th>State FIPS Code</th>\n",
       "      <th>County FIPS Code</th>\n",
       "      <th>5-digit FIPS Code</th>\n",
       "      <th>State_x</th>\n",
       "      <th>Release Year</th>\n",
       "      <th>...</th>\n",
       "      <th>Total male population raw value</th>\n",
       "      <th>Female population 0-17 raw value</th>\n",
       "      <th>Female population 18-44 raw value</th>\n",
       "      <th>Female population 45-64 raw value</th>\n",
       "      <th>Female population 65+ raw value</th>\n",
       "      <th>Total female population raw value</th>\n",
       "      <th>Population growth raw value</th>\n",
       "      <th>State_y</th>\n",
       "      <th>FIPS</th>\n",
       "      <th>Opiod_Dispensing_Rate</th>\n",
       "    </tr>\n",
       "  </thead>\n",
       "  <tbody>\n",
       "    <tr>\n",
       "      <th>0</th>\n",
       "      <td>Autauga County, AL</td>\n",
       "      <td>1001</td>\n",
       "      <td>1087149</td>\n",
       "      <td>69</td>\n",
       "      <td>6.346876</td>\n",
       "      <td>1.0</td>\n",
       "      <td>1.0</td>\n",
       "      <td>1001.0</td>\n",
       "      <td>AL</td>\n",
       "      <td>2019.0</td>\n",
       "      <td>...</td>\n",
       "      <td>0.0</td>\n",
       "      <td>0.0</td>\n",
       "      <td>0.0</td>\n",
       "      <td>0.0</td>\n",
       "      <td>0.0</td>\n",
       "      <td>0.0</td>\n",
       "      <td>0.0</td>\n",
       "      <td>AL</td>\n",
       "      <td>1001.0</td>\n",
       "      <td>101.3</td>\n",
       "    </tr>\n",
       "    <tr>\n",
       "      <th>1</th>\n",
       "      <td>Autauga County, AL</td>\n",
       "      <td>1001</td>\n",
       "      <td>1087149</td>\n",
       "      <td>14</td>\n",
       "      <td>1.287772</td>\n",
       "      <td>1.0</td>\n",
       "      <td>1.0</td>\n",
       "      <td>1001.0</td>\n",
       "      <td>AL</td>\n",
       "      <td>2019.0</td>\n",
       "      <td>...</td>\n",
       "      <td>0.0</td>\n",
       "      <td>0.0</td>\n",
       "      <td>0.0</td>\n",
       "      <td>0.0</td>\n",
       "      <td>0.0</td>\n",
       "      <td>0.0</td>\n",
       "      <td>0.0</td>\n",
       "      <td>AL</td>\n",
       "      <td>1001.0</td>\n",
       "      <td>101.3</td>\n",
       "    </tr>\n",
       "    <tr>\n",
       "      <th>2</th>\n",
       "      <td>Baldwin County, AL</td>\n",
       "      <td>1003</td>\n",
       "      <td>3758097</td>\n",
       "      <td>424</td>\n",
       "      <td>11.282306</td>\n",
       "      <td>1.0</td>\n",
       "      <td>3.0</td>\n",
       "      <td>1003.0</td>\n",
       "      <td>AL</td>\n",
       "      <td>2019.0</td>\n",
       "      <td>...</td>\n",
       "      <td>0.0</td>\n",
       "      <td>0.0</td>\n",
       "      <td>0.0</td>\n",
       "      <td>0.0</td>\n",
       "      <td>0.0</td>\n",
       "      <td>0.0</td>\n",
       "      <td>0.0</td>\n",
       "      <td>AL</td>\n",
       "      <td>1003.0</td>\n",
       "      <td>67.6</td>\n",
       "    </tr>\n",
       "    <tr>\n",
       "      <th>3</th>\n",
       "      <td>Baldwin County, AL</td>\n",
       "      <td>1003</td>\n",
       "      <td>3758097</td>\n",
       "      <td>71</td>\n",
       "      <td>1.889254</td>\n",
       "      <td>1.0</td>\n",
       "      <td>3.0</td>\n",
       "      <td>1003.0</td>\n",
       "      <td>AL</td>\n",
       "      <td>2019.0</td>\n",
       "      <td>...</td>\n",
       "      <td>0.0</td>\n",
       "      <td>0.0</td>\n",
       "      <td>0.0</td>\n",
       "      <td>0.0</td>\n",
       "      <td>0.0</td>\n",
       "      <td>0.0</td>\n",
       "      <td>0.0</td>\n",
       "      <td>AL</td>\n",
       "      <td>1003.0</td>\n",
       "      <td>67.6</td>\n",
       "    </tr>\n",
       "    <tr>\n",
       "      <th>4</th>\n",
       "      <td>Baldwin County, AL</td>\n",
       "      <td>1003</td>\n",
       "      <td>3758097</td>\n",
       "      <td>19</td>\n",
       "      <td>0.505575</td>\n",
       "      <td>1.0</td>\n",
       "      <td>3.0</td>\n",
       "      <td>1003.0</td>\n",
       "      <td>AL</td>\n",
       "      <td>2019.0</td>\n",
       "      <td>...</td>\n",
       "      <td>0.0</td>\n",
       "      <td>0.0</td>\n",
       "      <td>0.0</td>\n",
       "      <td>0.0</td>\n",
       "      <td>0.0</td>\n",
       "      <td>0.0</td>\n",
       "      <td>0.0</td>\n",
       "      <td>AL</td>\n",
       "      <td>1003.0</td>\n",
       "      <td>67.6</td>\n",
       "    </tr>\n",
       "    <tr>\n",
       "      <th>...</th>\n",
       "      <td>...</td>\n",
       "      <td>...</td>\n",
       "      <td>...</td>\n",
       "      <td>...</td>\n",
       "      <td>...</td>\n",
       "      <td>...</td>\n",
       "      <td>...</td>\n",
       "      <td>...</td>\n",
       "      <td>...</td>\n",
       "      <td>...</td>\n",
       "      <td>...</td>\n",
       "      <td>...</td>\n",
       "      <td>...</td>\n",
       "      <td>...</td>\n",
       "      <td>...</td>\n",
       "      <td>...</td>\n",
       "      <td>...</td>\n",
       "      <td>...</td>\n",
       "      <td>...</td>\n",
       "      <td>...</td>\n",
       "      <td>...</td>\n",
       "    </tr>\n",
       "    <tr>\n",
       "      <th>5541</th>\n",
       "      <td>Sweetwater County, WY</td>\n",
       "      <td>56037</td>\n",
       "      <td>873221</td>\n",
       "      <td>15</td>\n",
       "      <td>1.717778</td>\n",
       "      <td>56.0</td>\n",
       "      <td>37.0</td>\n",
       "      <td>56037.0</td>\n",
       "      <td>WY</td>\n",
       "      <td>2019.0</td>\n",
       "      <td>...</td>\n",
       "      <td>0.0</td>\n",
       "      <td>0.0</td>\n",
       "      <td>0.0</td>\n",
       "      <td>0.0</td>\n",
       "      <td>0.0</td>\n",
       "      <td>0.0</td>\n",
       "      <td>0.0</td>\n",
       "      <td>WY</td>\n",
       "      <td>56037.0</td>\n",
       "      <td>70.0</td>\n",
       "    </tr>\n",
       "    <tr>\n",
       "      <th>5542</th>\n",
       "      <td>Teton County, WY</td>\n",
       "      <td>56039</td>\n",
       "      <td>440125</td>\n",
       "      <td>13</td>\n",
       "      <td>2.953706</td>\n",
       "      <td>56.0</td>\n",
       "      <td>39.0</td>\n",
       "      <td>56039.0</td>\n",
       "      <td>WY</td>\n",
       "      <td>2019.0</td>\n",
       "      <td>...</td>\n",
       "      <td>0.0</td>\n",
       "      <td>0.0</td>\n",
       "      <td>0.0</td>\n",
       "      <td>0.0</td>\n",
       "      <td>0.0</td>\n",
       "      <td>0.0</td>\n",
       "      <td>0.0</td>\n",
       "      <td>WY</td>\n",
       "      <td>56039.0</td>\n",
       "      <td>54.6</td>\n",
       "    </tr>\n",
       "    <tr>\n",
       "      <th>5543</th>\n",
       "      <td>Uinta County, WY</td>\n",
       "      <td>56041</td>\n",
       "      <td>426347</td>\n",
       "      <td>51</td>\n",
       "      <td>11.962087</td>\n",
       "      <td>56.0</td>\n",
       "      <td>41.0</td>\n",
       "      <td>56041.0</td>\n",
       "      <td>WY</td>\n",
       "      <td>2019.0</td>\n",
       "      <td>...</td>\n",
       "      <td>0.0</td>\n",
       "      <td>0.0</td>\n",
       "      <td>0.0</td>\n",
       "      <td>0.0</td>\n",
       "      <td>0.0</td>\n",
       "      <td>0.0</td>\n",
       "      <td>0.0</td>\n",
       "      <td>WY</td>\n",
       "      <td>56041.0</td>\n",
       "      <td>59.5</td>\n",
       "    </tr>\n",
       "    <tr>\n",
       "      <th>5544</th>\n",
       "      <td>Uinta County, WY</td>\n",
       "      <td>56041</td>\n",
       "      <td>426347</td>\n",
       "      <td>10</td>\n",
       "      <td>2.345507</td>\n",
       "      <td>56.0</td>\n",
       "      <td>41.0</td>\n",
       "      <td>56041.0</td>\n",
       "      <td>WY</td>\n",
       "      <td>2019.0</td>\n",
       "      <td>...</td>\n",
       "      <td>0.0</td>\n",
       "      <td>0.0</td>\n",
       "      <td>0.0</td>\n",
       "      <td>0.0</td>\n",
       "      <td>0.0</td>\n",
       "      <td>0.0</td>\n",
       "      <td>0.0</td>\n",
       "      <td>WY</td>\n",
       "      <td>56041.0</td>\n",
       "      <td>59.5</td>\n",
       "    </tr>\n",
       "    <tr>\n",
       "      <th>5545</th>\n",
       "      <td>Washakie County, WY</td>\n",
       "      <td>56043</td>\n",
       "      <td>172114</td>\n",
       "      <td>14</td>\n",
       "      <td>8.134144</td>\n",
       "      <td>56.0</td>\n",
       "      <td>43.0</td>\n",
       "      <td>56043.0</td>\n",
       "      <td>WY</td>\n",
       "      <td>2019.0</td>\n",
       "      <td>...</td>\n",
       "      <td>0.0</td>\n",
       "      <td>0.0</td>\n",
       "      <td>0.0</td>\n",
       "      <td>0.0</td>\n",
       "      <td>0.0</td>\n",
       "      <td>0.0</td>\n",
       "      <td>0.0</td>\n",
       "      <td>WY</td>\n",
       "      <td>56043.0</td>\n",
       "      <td>46.7</td>\n",
       "    </tr>\n",
       "  </tbody>\n",
       "</table>\n",
       "<p>5501 rows × 540 columns</p>\n",
       "</div>"
      ],
      "text/plain": [
       "                     County  County Code  Population  Deaths  Norm_Deaths  \\\n",
       "0        Autauga County, AL         1001     1087149      69     6.346876   \n",
       "1        Autauga County, AL         1001     1087149      14     1.287772   \n",
       "2        Baldwin County, AL         1003     3758097     424    11.282306   \n",
       "3        Baldwin County, AL         1003     3758097      71     1.889254   \n",
       "4        Baldwin County, AL         1003     3758097      19     0.505575   \n",
       "...                     ...          ...         ...     ...          ...   \n",
       "5541  Sweetwater County, WY        56037      873221      15     1.717778   \n",
       "5542       Teton County, WY        56039      440125      13     2.953706   \n",
       "5543       Uinta County, WY        56041      426347      51    11.962087   \n",
       "5544       Uinta County, WY        56041      426347      10     2.345507   \n",
       "5545    Washakie County, WY        56043      172114      14     8.134144   \n",
       "\n",
       "      State FIPS Code  County FIPS Code  5-digit FIPS Code State_x  \\\n",
       "0                 1.0               1.0             1001.0      AL   \n",
       "1                 1.0               1.0             1001.0      AL   \n",
       "2                 1.0               3.0             1003.0      AL   \n",
       "3                 1.0               3.0             1003.0      AL   \n",
       "4                 1.0               3.0             1003.0      AL   \n",
       "...               ...               ...                ...     ...   \n",
       "5541             56.0              37.0            56037.0      WY   \n",
       "5542             56.0              39.0            56039.0      WY   \n",
       "5543             56.0              41.0            56041.0      WY   \n",
       "5544             56.0              41.0            56041.0      WY   \n",
       "5545             56.0              43.0            56043.0      WY   \n",
       "\n",
       "      Release Year  ...  Total male population raw value  \\\n",
       "0           2019.0  ...                              0.0   \n",
       "1           2019.0  ...                              0.0   \n",
       "2           2019.0  ...                              0.0   \n",
       "3           2019.0  ...                              0.0   \n",
       "4           2019.0  ...                              0.0   \n",
       "...            ...  ...                              ...   \n",
       "5541        2019.0  ...                              0.0   \n",
       "5542        2019.0  ...                              0.0   \n",
       "5543        2019.0  ...                              0.0   \n",
       "5544        2019.0  ...                              0.0   \n",
       "5545        2019.0  ...                              0.0   \n",
       "\n",
       "      Female population 0-17 raw value  Female population 18-44 raw value  \\\n",
       "0                                  0.0                                0.0   \n",
       "1                                  0.0                                0.0   \n",
       "2                                  0.0                                0.0   \n",
       "3                                  0.0                                0.0   \n",
       "4                                  0.0                                0.0   \n",
       "...                                ...                                ...   \n",
       "5541                               0.0                                0.0   \n",
       "5542                               0.0                                0.0   \n",
       "5543                               0.0                                0.0   \n",
       "5544                               0.0                                0.0   \n",
       "5545                               0.0                                0.0   \n",
       "\n",
       "      Female population 45-64 raw value  Female population 65+ raw value  \\\n",
       "0                                   0.0                              0.0   \n",
       "1                                   0.0                              0.0   \n",
       "2                                   0.0                              0.0   \n",
       "3                                   0.0                              0.0   \n",
       "4                                   0.0                              0.0   \n",
       "...                                 ...                              ...   \n",
       "5541                                0.0                              0.0   \n",
       "5542                                0.0                              0.0   \n",
       "5543                                0.0                              0.0   \n",
       "5544                                0.0                              0.0   \n",
       "5545                                0.0                              0.0   \n",
       "\n",
       "      Total female population raw value  Population growth raw value  State_y  \\\n",
       "0                                   0.0                          0.0       AL   \n",
       "1                                   0.0                          0.0       AL   \n",
       "2                                   0.0                          0.0       AL   \n",
       "3                                   0.0                          0.0       AL   \n",
       "4                                   0.0                          0.0       AL   \n",
       "...                                 ...                          ...      ...   \n",
       "5541                                0.0                          0.0       WY   \n",
       "5542                                0.0                          0.0       WY   \n",
       "5543                                0.0                          0.0       WY   \n",
       "5544                                0.0                          0.0       WY   \n",
       "5545                                0.0                          0.0       WY   \n",
       "\n",
       "         FIPS  Opiod_Dispensing_Rate  \n",
       "0      1001.0                  101.3  \n",
       "1      1001.0                  101.3  \n",
       "2      1003.0                   67.6  \n",
       "3      1003.0                   67.6  \n",
       "4      1003.0                   67.6  \n",
       "...       ...                    ...  \n",
       "5541  56037.0                   70.0  \n",
       "5542  56039.0                   54.6  \n",
       "5543  56041.0                   59.5  \n",
       "5544  56041.0                   59.5  \n",
       "5545  56043.0                   46.7  \n",
       "\n",
       "[5501 rows x 540 columns]"
      ]
     },
     "execution_count": 17,
     "metadata": {},
     "output_type": "execute_result"
    }
   ],
   "source": [
    "final=final1.merge(file3,on='County',how=\"left\")\n",
    "final.drop_duplicates()"
   ]
  },
  {
   "cell_type": "markdown",
   "id": "391f8f0b",
   "metadata": {},
   "source": [
    "* Since,there are many counties with repeated values,we groupby the county names and then reset the index."
   ]
  },
  {
   "cell_type": "markdown",
   "id": "78d99071",
   "metadata": {},
   "source": [
    "## Display the super dataframe "
   ]
  },
  {
   "cell_type": "code",
   "execution_count": 18,
   "id": "8e0234e5",
   "metadata": {},
   "outputs": [
    {
     "data": {
      "text/html": [
       "<div>\n",
       "<style scoped>\n",
       "    .dataframe tbody tr th:only-of-type {\n",
       "        vertical-align: middle;\n",
       "    }\n",
       "\n",
       "    .dataframe tbody tr th {\n",
       "        vertical-align: top;\n",
       "    }\n",
       "\n",
       "    .dataframe thead th {\n",
       "        text-align: right;\n",
       "    }\n",
       "</style>\n",
       "<table border=\"1\" class=\"dataframe\">\n",
       "  <thead>\n",
       "    <tr style=\"text-align: right;\">\n",
       "      <th></th>\n",
       "      <th>County</th>\n",
       "      <th>County Code</th>\n",
       "      <th>Population</th>\n",
       "      <th>Deaths</th>\n",
       "      <th>Norm_Deaths</th>\n",
       "      <th>State FIPS Code</th>\n",
       "      <th>County FIPS Code</th>\n",
       "      <th>5-digit FIPS Code</th>\n",
       "      <th>State_x</th>\n",
       "      <th>Release Year</th>\n",
       "      <th>...</th>\n",
       "      <th>Total male population raw value</th>\n",
       "      <th>Female population 0-17 raw value</th>\n",
       "      <th>Female population 18-44 raw value</th>\n",
       "      <th>Female population 45-64 raw value</th>\n",
       "      <th>Female population 65+ raw value</th>\n",
       "      <th>Total female population raw value</th>\n",
       "      <th>Population growth raw value</th>\n",
       "      <th>State_y</th>\n",
       "      <th>FIPS</th>\n",
       "      <th>Opiod_Dispensing_Rate</th>\n",
       "    </tr>\n",
       "  </thead>\n",
       "  <tbody>\n",
       "    <tr>\n",
       "      <th>0</th>\n",
       "      <td>Abbeville County, SC</td>\n",
       "      <td>45001</td>\n",
       "      <td>535389</td>\n",
       "      <td>38</td>\n",
       "      <td>7.097643</td>\n",
       "      <td>45.0</td>\n",
       "      <td>1.0</td>\n",
       "      <td>45001.0</td>\n",
       "      <td>SC</td>\n",
       "      <td>2019.0</td>\n",
       "      <td>...</td>\n",
       "      <td>0.0</td>\n",
       "      <td>0.0</td>\n",
       "      <td>0.0</td>\n",
       "      <td>0.0</td>\n",
       "      <td>0.0</td>\n",
       "      <td>0.0</td>\n",
       "      <td>0.0</td>\n",
       "      <td>SC</td>\n",
       "      <td>45001.0</td>\n",
       "      <td>32.4</td>\n",
       "    </tr>\n",
       "    <tr>\n",
       "      <th>1</th>\n",
       "      <td>Acadia Parish, LA</td>\n",
       "      <td>22001</td>\n",
       "      <td>1279727</td>\n",
       "      <td>98</td>\n",
       "      <td>7.657883</td>\n",
       "      <td>22.0</td>\n",
       "      <td>1.0</td>\n",
       "      <td>22001.0</td>\n",
       "      <td>LA</td>\n",
       "      <td>2019.0</td>\n",
       "      <td>...</td>\n",
       "      <td>0.0</td>\n",
       "      <td>0.0</td>\n",
       "      <td>0.0</td>\n",
       "      <td>0.0</td>\n",
       "      <td>0.0</td>\n",
       "      <td>0.0</td>\n",
       "      <td>0.0</td>\n",
       "      <td>LA</td>\n",
       "      <td>22001.0</td>\n",
       "      <td>32.2</td>\n",
       "    </tr>\n",
       "    <tr>\n",
       "      <th>2</th>\n",
       "      <td>Accomack County, VA</td>\n",
       "      <td>51001</td>\n",
       "      <td>726189</td>\n",
       "      <td>50</td>\n",
       "      <td>6.885260</td>\n",
       "      <td>51.0</td>\n",
       "      <td>1.0</td>\n",
       "      <td>51001.0</td>\n",
       "      <td>VA</td>\n",
       "      <td>2019.0</td>\n",
       "      <td>...</td>\n",
       "      <td>0.0</td>\n",
       "      <td>0.0</td>\n",
       "      <td>0.0</td>\n",
       "      <td>0.0</td>\n",
       "      <td>0.0</td>\n",
       "      <td>0.0</td>\n",
       "      <td>0.0</td>\n",
       "      <td>VA</td>\n",
       "      <td>51001.0</td>\n",
       "      <td>19.4</td>\n",
       "    </tr>\n",
       "    <tr>\n",
       "      <th>3</th>\n",
       "      <td>Ada County, ID</td>\n",
       "      <td>16001</td>\n",
       "      <td>8083452</td>\n",
       "      <td>692</td>\n",
       "      <td>8.560699</td>\n",
       "      <td>16.0</td>\n",
       "      <td>1.0</td>\n",
       "      <td>16001.0</td>\n",
       "      <td>ID</td>\n",
       "      <td>2019.0</td>\n",
       "      <td>...</td>\n",
       "      <td>0.0</td>\n",
       "      <td>0.0</td>\n",
       "      <td>0.0</td>\n",
       "      <td>0.0</td>\n",
       "      <td>0.0</td>\n",
       "      <td>0.0</td>\n",
       "      <td>0.0</td>\n",
       "      <td>ID</td>\n",
       "      <td>16001.0</td>\n",
       "      <td>60.8</td>\n",
       "    </tr>\n",
       "    <tr>\n",
       "      <th>4</th>\n",
       "      <td>Adair County, KY</td>\n",
       "      <td>21001</td>\n",
       "      <td>387950</td>\n",
       "      <td>43</td>\n",
       "      <td>11.083903</td>\n",
       "      <td>21.0</td>\n",
       "      <td>1.0</td>\n",
       "      <td>21001.0</td>\n",
       "      <td>KY</td>\n",
       "      <td>2019.0</td>\n",
       "      <td>...</td>\n",
       "      <td>0.0</td>\n",
       "      <td>0.0</td>\n",
       "      <td>0.0</td>\n",
       "      <td>0.0</td>\n",
       "      <td>0.0</td>\n",
       "      <td>0.0</td>\n",
       "      <td>0.0</td>\n",
       "      <td>KY</td>\n",
       "      <td>21001.0</td>\n",
       "      <td>71.3</td>\n",
       "    </tr>\n",
       "    <tr>\n",
       "      <th>...</th>\n",
       "      <td>...</td>\n",
       "      <td>...</td>\n",
       "      <td>...</td>\n",
       "      <td>...</td>\n",
       "      <td>...</td>\n",
       "      <td>...</td>\n",
       "      <td>...</td>\n",
       "      <td>...</td>\n",
       "      <td>...</td>\n",
       "      <td>...</td>\n",
       "      <td>...</td>\n",
       "      <td>...</td>\n",
       "      <td>...</td>\n",
       "      <td>...</td>\n",
       "      <td>...</td>\n",
       "      <td>...</td>\n",
       "      <td>...</td>\n",
       "      <td>...</td>\n",
       "      <td>...</td>\n",
       "      <td>...</td>\n",
       "      <td>...</td>\n",
       "    </tr>\n",
       "    <tr>\n",
       "      <th>2525</th>\n",
       "      <td>Yuba County, CA</td>\n",
       "      <td>6115</td>\n",
       "      <td>1468094</td>\n",
       "      <td>112</td>\n",
       "      <td>7.628939</td>\n",
       "      <td>6.0</td>\n",
       "      <td>115.0</td>\n",
       "      <td>6115.0</td>\n",
       "      <td>CA</td>\n",
       "      <td>2019.0</td>\n",
       "      <td>...</td>\n",
       "      <td>0.0</td>\n",
       "      <td>0.0</td>\n",
       "      <td>0.0</td>\n",
       "      <td>0.0</td>\n",
       "      <td>0.0</td>\n",
       "      <td>0.0</td>\n",
       "      <td>0.0</td>\n",
       "      <td>CA</td>\n",
       "      <td>6115.0</td>\n",
       "      <td>32.1</td>\n",
       "    </tr>\n",
       "    <tr>\n",
       "      <th>2526</th>\n",
       "      <td>Yukon-Koyukuk Census Area, AK</td>\n",
       "      <td>2290</td>\n",
       "      <td>129587</td>\n",
       "      <td>14</td>\n",
       "      <td>10.803553</td>\n",
       "      <td>2.0</td>\n",
       "      <td>290.0</td>\n",
       "      <td>2290.0</td>\n",
       "      <td>AK</td>\n",
       "      <td>2019.0</td>\n",
       "      <td>...</td>\n",
       "      <td>0.0</td>\n",
       "      <td>0.0</td>\n",
       "      <td>0.0</td>\n",
       "      <td>0.0</td>\n",
       "      <td>0.0</td>\n",
       "      <td>0.0</td>\n",
       "      <td>0.0</td>\n",
       "      <td>AK</td>\n",
       "      <td>2290.0</td>\n",
       "      <td>1.2</td>\n",
       "    </tr>\n",
       "    <tr>\n",
       "      <th>2527</th>\n",
       "      <td>Yuma County, AZ</td>\n",
       "      <td>4027</td>\n",
       "      <td>3964172</td>\n",
       "      <td>381</td>\n",
       "      <td>9.611087</td>\n",
       "      <td>4.0</td>\n",
       "      <td>27.0</td>\n",
       "      <td>4027.0</td>\n",
       "      <td>AZ</td>\n",
       "      <td>2019.0</td>\n",
       "      <td>...</td>\n",
       "      <td>0.0</td>\n",
       "      <td>0.0</td>\n",
       "      <td>0.0</td>\n",
       "      <td>0.0</td>\n",
       "      <td>0.0</td>\n",
       "      <td>0.0</td>\n",
       "      <td>0.0</td>\n",
       "      <td>AZ</td>\n",
       "      <td>4027.0</td>\n",
       "      <td>24.6</td>\n",
       "    </tr>\n",
       "    <tr>\n",
       "      <th>2528</th>\n",
       "      <td>Zapata County, TX</td>\n",
       "      <td>48505</td>\n",
       "      <td>284033</td>\n",
       "      <td>16</td>\n",
       "      <td>5.633148</td>\n",
       "      <td>48.0</td>\n",
       "      <td>505.0</td>\n",
       "      <td>48505.0</td>\n",
       "      <td>TX</td>\n",
       "      <td>2019.0</td>\n",
       "      <td>...</td>\n",
       "      <td>0.0</td>\n",
       "      <td>0.0</td>\n",
       "      <td>0.0</td>\n",
       "      <td>0.0</td>\n",
       "      <td>0.0</td>\n",
       "      <td>0.0</td>\n",
       "      <td>0.0</td>\n",
       "      <td>TX</td>\n",
       "      <td>48505.0</td>\n",
       "      <td>3.8</td>\n",
       "    </tr>\n",
       "    <tr>\n",
       "      <th>2529</th>\n",
       "      <td>Zavala County, TX</td>\n",
       "      <td>48507</td>\n",
       "      <td>247499</td>\n",
       "      <td>16</td>\n",
       "      <td>6.464673</td>\n",
       "      <td>48.0</td>\n",
       "      <td>507.0</td>\n",
       "      <td>48507.0</td>\n",
       "      <td>TX</td>\n",
       "      <td>2019.0</td>\n",
       "      <td>...</td>\n",
       "      <td>0.0</td>\n",
       "      <td>0.0</td>\n",
       "      <td>0.0</td>\n",
       "      <td>0.0</td>\n",
       "      <td>0.0</td>\n",
       "      <td>0.0</td>\n",
       "      <td>0.0</td>\n",
       "      <td>TX</td>\n",
       "      <td>48507.0</td>\n",
       "      <td>1.7</td>\n",
       "    </tr>\n",
       "  </tbody>\n",
       "</table>\n",
       "<p>2530 rows × 540 columns</p>\n",
       "</div>"
      ],
      "text/plain": [
       "                             County  County Code  Population  Deaths  \\\n",
       "0              Abbeville County, SC        45001      535389      38   \n",
       "1                 Acadia Parish, LA        22001     1279727      98   \n",
       "2               Accomack County, VA        51001      726189      50   \n",
       "3                    Ada County, ID        16001     8083452     692   \n",
       "4                  Adair County, KY        21001      387950      43   \n",
       "...                             ...          ...         ...     ...   \n",
       "2525                Yuba County, CA         6115     1468094     112   \n",
       "2526  Yukon-Koyukuk Census Area, AK         2290      129587      14   \n",
       "2527                Yuma County, AZ         4027     3964172     381   \n",
       "2528              Zapata County, TX        48505      284033      16   \n",
       "2529              Zavala County, TX        48507      247499      16   \n",
       "\n",
       "      Norm_Deaths  State FIPS Code  County FIPS Code  5-digit FIPS Code  \\\n",
       "0        7.097643             45.0               1.0            45001.0   \n",
       "1        7.657883             22.0               1.0            22001.0   \n",
       "2        6.885260             51.0               1.0            51001.0   \n",
       "3        8.560699             16.0               1.0            16001.0   \n",
       "4       11.083903             21.0               1.0            21001.0   \n",
       "...           ...              ...               ...                ...   \n",
       "2525     7.628939              6.0             115.0             6115.0   \n",
       "2526    10.803553              2.0             290.0             2290.0   \n",
       "2527     9.611087              4.0              27.0             4027.0   \n",
       "2528     5.633148             48.0             505.0            48505.0   \n",
       "2529     6.464673             48.0             507.0            48507.0   \n",
       "\n",
       "     State_x  Release Year  ...  Total male population raw value  \\\n",
       "0         SC        2019.0  ...                              0.0   \n",
       "1         LA        2019.0  ...                              0.0   \n",
       "2         VA        2019.0  ...                              0.0   \n",
       "3         ID        2019.0  ...                              0.0   \n",
       "4         KY        2019.0  ...                              0.0   \n",
       "...      ...           ...  ...                              ...   \n",
       "2525      CA        2019.0  ...                              0.0   \n",
       "2526      AK        2019.0  ...                              0.0   \n",
       "2527      AZ        2019.0  ...                              0.0   \n",
       "2528      TX        2019.0  ...                              0.0   \n",
       "2529      TX        2019.0  ...                              0.0   \n",
       "\n",
       "      Female population 0-17 raw value  Female population 18-44 raw value  \\\n",
       "0                                  0.0                                0.0   \n",
       "1                                  0.0                                0.0   \n",
       "2                                  0.0                                0.0   \n",
       "3                                  0.0                                0.0   \n",
       "4                                  0.0                                0.0   \n",
       "...                                ...                                ...   \n",
       "2525                               0.0                                0.0   \n",
       "2526                               0.0                                0.0   \n",
       "2527                               0.0                                0.0   \n",
       "2528                               0.0                                0.0   \n",
       "2529                               0.0                                0.0   \n",
       "\n",
       "      Female population 45-64 raw value  Female population 65+ raw value  \\\n",
       "0                                   0.0                              0.0   \n",
       "1                                   0.0                              0.0   \n",
       "2                                   0.0                              0.0   \n",
       "3                                   0.0                              0.0   \n",
       "4                                   0.0                              0.0   \n",
       "...                                 ...                              ...   \n",
       "2525                                0.0                              0.0   \n",
       "2526                                0.0                              0.0   \n",
       "2527                                0.0                              0.0   \n",
       "2528                                0.0                              0.0   \n",
       "2529                                0.0                              0.0   \n",
       "\n",
       "      Total female population raw value  Population growth raw value  State_y  \\\n",
       "0                                   0.0                          0.0       SC   \n",
       "1                                   0.0                          0.0       LA   \n",
       "2                                   0.0                          0.0       VA   \n",
       "3                                   0.0                          0.0       ID   \n",
       "4                                   0.0                          0.0       KY   \n",
       "...                                 ...                          ...      ...   \n",
       "2525                                0.0                          0.0       CA   \n",
       "2526                                0.0                          0.0       AK   \n",
       "2527                                0.0                          0.0       AZ   \n",
       "2528                                0.0                          0.0       TX   \n",
       "2529                                0.0                          0.0       TX   \n",
       "\n",
       "         FIPS  Opiod_Dispensing_Rate  \n",
       "0     45001.0                   32.4  \n",
       "1     22001.0                   32.2  \n",
       "2     51001.0                   19.4  \n",
       "3     16001.0                   60.8  \n",
       "4     21001.0                   71.3  \n",
       "...       ...                    ...  \n",
       "2525   6115.0                   32.1  \n",
       "2526   2290.0                    1.2  \n",
       "2527   4027.0                   24.6  \n",
       "2528  48505.0                    3.8  \n",
       "2529  48507.0                    1.7  \n",
       "\n",
       "[2530 rows x 540 columns]"
      ]
     },
     "execution_count": 18,
     "metadata": {},
     "output_type": "execute_result"
    }
   ],
   "source": [
    "finaldf=final.groupby('County')\n",
    "finaldf=finaldf.first().reset_index()\n",
    "finaldf"
   ]
  },
  {
   "cell_type": "markdown",
   "id": "77a07bd3",
   "metadata": {},
   "source": [
    "* The finaldf represents the superdataframe, which of shape <b>(2530,541)\n",
    "    \n",
    "    \n",
    "## Export it to a csv format."
   ]
  },
  {
   "cell_type": "code",
   "execution_count": 19,
   "id": "bacb1729",
   "metadata": {},
   "outputs": [],
   "source": [
    "finaldf.to_csv('../data/finaldf-raveena.csv')"
   ]
  },
  {
   "cell_type": "markdown",
   "id": "3010fbe4",
   "metadata": {},
   "source": [
    "* I have exported the generate final dataframe into csv and have stored it in the ../data location"
   ]
  },
  {
   "cell_type": "markdown",
   "id": "d9cecbab",
   "metadata": {},
   "source": [
    "## Task M3.2 \n",
    "### Identify counties and states (top 10) with the highest opioid mortality rates."
   ]
  },
  {
   "cell_type": "code",
   "execution_count": 20,
   "id": "9bee03ae",
   "metadata": {},
   "outputs": [
    {
     "data": {
      "text/html": [
       "<div>\n",
       "<style scoped>\n",
       "    .dataframe tbody tr th:only-of-type {\n",
       "        vertical-align: middle;\n",
       "    }\n",
       "\n",
       "    .dataframe tbody tr th {\n",
       "        vertical-align: top;\n",
       "    }\n",
       "\n",
       "    .dataframe thead th {\n",
       "        text-align: right;\n",
       "    }\n",
       "</style>\n",
       "<table border=\"1\" class=\"dataframe\">\n",
       "  <thead>\n",
       "    <tr style=\"text-align: right;\">\n",
       "      <th></th>\n",
       "      <th>State_x</th>\n",
       "      <th>County</th>\n",
       "      <th>County Code</th>\n",
       "      <th>Population</th>\n",
       "      <th>Deaths</th>\n",
       "      <th>Norm_Deaths</th>\n",
       "      <th>State FIPS Code</th>\n",
       "      <th>County FIPS Code</th>\n",
       "      <th>5-digit FIPS Code</th>\n",
       "      <th>Release Year</th>\n",
       "      <th>...</th>\n",
       "      <th>Total male population raw value</th>\n",
       "      <th>Female population 0-17 raw value</th>\n",
       "      <th>Female population 18-44 raw value</th>\n",
       "      <th>Female population 45-64 raw value</th>\n",
       "      <th>Female population 65+ raw value</th>\n",
       "      <th>Total female population raw value</th>\n",
       "      <th>Population growth raw value</th>\n",
       "      <th>State_y</th>\n",
       "      <th>FIPS</th>\n",
       "      <th>Opiod_Dispensing_Rate</th>\n",
       "    </tr>\n",
       "  </thead>\n",
       "  <tbody>\n",
       "    <tr>\n",
       "      <th>35</th>\n",
       "      <td>OH</td>\n",
       "      <td>Adams County, OH</td>\n",
       "      <td>39001</td>\n",
       "      <td>590060</td>\n",
       "      <td>140</td>\n",
       "      <td>23.726401</td>\n",
       "      <td>39.0</td>\n",
       "      <td>1.0</td>\n",
       "      <td>39001.0</td>\n",
       "      <td>2019.0</td>\n",
       "      <td>...</td>\n",
       "      <td>0.0</td>\n",
       "      <td>0.0</td>\n",
       "      <td>0.0</td>\n",
       "      <td>0.0</td>\n",
       "      <td>0.0</td>\n",
       "      <td>0.0</td>\n",
       "      <td>0.0</td>\n",
       "      <td>OH</td>\n",
       "      <td>39001.0</td>\n",
       "      <td>39.7</td>\n",
       "    </tr>\n",
       "    <tr>\n",
       "      <th>32</th>\n",
       "      <td>NM</td>\n",
       "      <td>Bernalillo County, NM</td>\n",
       "      <td>35001</td>\n",
       "      <td>13368036</td>\n",
       "      <td>3078</td>\n",
       "      <td>23.025073</td>\n",
       "      <td>35.0</td>\n",
       "      <td>1.0</td>\n",
       "      <td>35001.0</td>\n",
       "      <td>2019.0</td>\n",
       "      <td>...</td>\n",
       "      <td>0.0</td>\n",
       "      <td>0.0</td>\n",
       "      <td>0.0</td>\n",
       "      <td>0.0</td>\n",
       "      <td>0.0</td>\n",
       "      <td>0.0</td>\n",
       "      <td>0.0</td>\n",
       "      <td>NM</td>\n",
       "      <td>35001.0</td>\n",
       "      <td>58.0</td>\n",
       "    </tr>\n",
       "    <tr>\n",
       "      <th>42</th>\n",
       "      <td>TN</td>\n",
       "      <td>Anderson County, TN</td>\n",
       "      <td>47001</td>\n",
       "      <td>1555370</td>\n",
       "      <td>325</td>\n",
       "      <td>20.895350</td>\n",
       "      <td>47.0</td>\n",
       "      <td>1.0</td>\n",
       "      <td>47001.0</td>\n",
       "      <td>2019.0</td>\n",
       "      <td>...</td>\n",
       "      <td>0.0</td>\n",
       "      <td>0.0</td>\n",
       "      <td>0.0</td>\n",
       "      <td>0.0</td>\n",
       "      <td>0.0</td>\n",
       "      <td>0.0</td>\n",
       "      <td>0.0</td>\n",
       "      <td>TN</td>\n",
       "      <td>47001.0</td>\n",
       "      <td>71.3</td>\n",
       "    </tr>\n",
       "    <tr>\n",
       "      <th>31</th>\n",
       "      <td>NJ</td>\n",
       "      <td>Atlantic County, NJ</td>\n",
       "      <td>34001</td>\n",
       "      <td>5630056</td>\n",
       "      <td>1134</td>\n",
       "      <td>20.141896</td>\n",
       "      <td>34.0</td>\n",
       "      <td>1.0</td>\n",
       "      <td>34001.0</td>\n",
       "      <td>2019.0</td>\n",
       "      <td>...</td>\n",
       "      <td>0.0</td>\n",
       "      <td>0.0</td>\n",
       "      <td>0.0</td>\n",
       "      <td>0.0</td>\n",
       "      <td>0.0</td>\n",
       "      <td>0.0</td>\n",
       "      <td>0.0</td>\n",
       "      <td>NJ</td>\n",
       "      <td>34001.0</td>\n",
       "      <td>57.9</td>\n",
       "    </tr>\n",
       "    <tr>\n",
       "      <th>7</th>\n",
       "      <td>DC</td>\n",
       "      <td>District of Columbia, DC</td>\n",
       "      <td>11001</td>\n",
       "      <td>12923833</td>\n",
       "      <td>2141</td>\n",
       "      <td>16.566293</td>\n",
       "      <td>11.0</td>\n",
       "      <td>0.0</td>\n",
       "      <td>11000.0</td>\n",
       "      <td>2019.0</td>\n",
       "      <td>...</td>\n",
       "      <td>0.0</td>\n",
       "      <td>0.0</td>\n",
       "      <td>0.0</td>\n",
       "      <td>0.0</td>\n",
       "      <td>0.0</td>\n",
       "      <td>0.0</td>\n",
       "      <td>0.0</td>\n",
       "      <td>DC</td>\n",
       "      <td>11001.0</td>\n",
       "      <td>39.9</td>\n",
       "    </tr>\n",
       "    <tr>\n",
       "      <th>30</th>\n",
       "      <td>NH</td>\n",
       "      <td>Belknap County, NH</td>\n",
       "      <td>33001</td>\n",
       "      <td>1254278</td>\n",
       "      <td>199</td>\n",
       "      <td>15.865701</td>\n",
       "      <td>33.0</td>\n",
       "      <td>1.0</td>\n",
       "      <td>33001.0</td>\n",
       "      <td>2019.0</td>\n",
       "      <td>...</td>\n",
       "      <td>0.0</td>\n",
       "      <td>0.0</td>\n",
       "      <td>0.0</td>\n",
       "      <td>0.0</td>\n",
       "      <td>0.0</td>\n",
       "      <td>0.0</td>\n",
       "      <td>0.0</td>\n",
       "      <td>NH</td>\n",
       "      <td>33001.0</td>\n",
       "      <td>25.3</td>\n",
       "    </tr>\n",
       "    <tr>\n",
       "      <th>19</th>\n",
       "      <td>MA</td>\n",
       "      <td>Barnstable County, MA</td>\n",
       "      <td>25001</td>\n",
       "      <td>4579885</td>\n",
       "      <td>674</td>\n",
       "      <td>14.716527</td>\n",
       "      <td>25.0</td>\n",
       "      <td>1.0</td>\n",
       "      <td>25001.0</td>\n",
       "      <td>2019.0</td>\n",
       "      <td>...</td>\n",
       "      <td>0.0</td>\n",
       "      <td>0.0</td>\n",
       "      <td>0.0</td>\n",
       "      <td>0.0</td>\n",
       "      <td>0.0</td>\n",
       "      <td>0.0</td>\n",
       "      <td>0.0</td>\n",
       "      <td>MA</td>\n",
       "      <td>25001.0</td>\n",
       "      <td>35.0</td>\n",
       "    </tr>\n",
       "    <tr>\n",
       "      <th>33</th>\n",
       "      <td>NV</td>\n",
       "      <td>Carson City, NV</td>\n",
       "      <td>32510</td>\n",
       "      <td>1150738</td>\n",
       "      <td>168</td>\n",
       "      <td>14.599327</td>\n",
       "      <td>32.0</td>\n",
       "      <td>510.0</td>\n",
       "      <td>32510.0</td>\n",
       "      <td>2019.0</td>\n",
       "      <td>...</td>\n",
       "      <td>0.0</td>\n",
       "      <td>0.0</td>\n",
       "      <td>0.0</td>\n",
       "      <td>0.0</td>\n",
       "      <td>0.0</td>\n",
       "      <td>0.0</td>\n",
       "      <td>0.0</td>\n",
       "      <td>NV</td>\n",
       "      <td>32510.0</td>\n",
       "      <td>99.9</td>\n",
       "    </tr>\n",
       "    <tr>\n",
       "      <th>8</th>\n",
       "      <td>DE</td>\n",
       "      <td>Kent County, DE</td>\n",
       "      <td>10001</td>\n",
       "      <td>3274264</td>\n",
       "      <td>453</td>\n",
       "      <td>13.835170</td>\n",
       "      <td>10.0</td>\n",
       "      <td>1.0</td>\n",
       "      <td>10001.0</td>\n",
       "      <td>2019.0</td>\n",
       "      <td>...</td>\n",
       "      <td>0.0</td>\n",
       "      <td>0.0</td>\n",
       "      <td>0.0</td>\n",
       "      <td>0.0</td>\n",
       "      <td>0.0</td>\n",
       "      <td>0.0</td>\n",
       "      <td>0.0</td>\n",
       "      <td>DE</td>\n",
       "      <td>10001.0</td>\n",
       "      <td>38.8</td>\n",
       "    </tr>\n",
       "    <tr>\n",
       "      <th>5</th>\n",
       "      <td>CO</td>\n",
       "      <td>Adams County, CO</td>\n",
       "      <td>8001</td>\n",
       "      <td>9146345</td>\n",
       "      <td>1170</td>\n",
       "      <td>12.791995</td>\n",
       "      <td>8.0</td>\n",
       "      <td>1.0</td>\n",
       "      <td>8001.0</td>\n",
       "      <td>2019.0</td>\n",
       "      <td>...</td>\n",
       "      <td>0.0</td>\n",
       "      <td>0.0</td>\n",
       "      <td>0.0</td>\n",
       "      <td>0.0</td>\n",
       "      <td>0.0</td>\n",
       "      <td>0.0</td>\n",
       "      <td>0.0</td>\n",
       "      <td>CO</td>\n",
       "      <td>8001.0</td>\n",
       "      <td>32.0</td>\n",
       "    </tr>\n",
       "  </tbody>\n",
       "</table>\n",
       "<p>10 rows × 540 columns</p>\n",
       "</div>"
      ],
      "text/plain": [
       "   State_x                    County  County Code  Population  Deaths  \\\n",
       "35      OH          Adams County, OH        39001      590060     140   \n",
       "32      NM     Bernalillo County, NM        35001    13368036    3078   \n",
       "42      TN       Anderson County, TN        47001     1555370     325   \n",
       "31      NJ       Atlantic County, NJ        34001     5630056    1134   \n",
       "7       DC  District of Columbia, DC        11001    12923833    2141   \n",
       "30      NH        Belknap County, NH        33001     1254278     199   \n",
       "19      MA     Barnstable County, MA        25001     4579885     674   \n",
       "33      NV           Carson City, NV        32510     1150738     168   \n",
       "8       DE           Kent County, DE        10001     3274264     453   \n",
       "5       CO          Adams County, CO         8001     9146345    1170   \n",
       "\n",
       "    Norm_Deaths  State FIPS Code  County FIPS Code  5-digit FIPS Code  \\\n",
       "35    23.726401             39.0               1.0            39001.0   \n",
       "32    23.025073             35.0               1.0            35001.0   \n",
       "42    20.895350             47.0               1.0            47001.0   \n",
       "31    20.141896             34.0               1.0            34001.0   \n",
       "7     16.566293             11.0               0.0            11000.0   \n",
       "30    15.865701             33.0               1.0            33001.0   \n",
       "19    14.716527             25.0               1.0            25001.0   \n",
       "33    14.599327             32.0             510.0            32510.0   \n",
       "8     13.835170             10.0               1.0            10001.0   \n",
       "5     12.791995              8.0               1.0             8001.0   \n",
       "\n",
       "    Release Year  ...  Total male population raw value  \\\n",
       "35        2019.0  ...                              0.0   \n",
       "32        2019.0  ...                              0.0   \n",
       "42        2019.0  ...                              0.0   \n",
       "31        2019.0  ...                              0.0   \n",
       "7         2019.0  ...                              0.0   \n",
       "30        2019.0  ...                              0.0   \n",
       "19        2019.0  ...                              0.0   \n",
       "33        2019.0  ...                              0.0   \n",
       "8         2019.0  ...                              0.0   \n",
       "5         2019.0  ...                              0.0   \n",
       "\n",
       "    Female population 0-17 raw value  Female population 18-44 raw value  \\\n",
       "35                               0.0                                0.0   \n",
       "32                               0.0                                0.0   \n",
       "42                               0.0                                0.0   \n",
       "31                               0.0                                0.0   \n",
       "7                                0.0                                0.0   \n",
       "30                               0.0                                0.0   \n",
       "19                               0.0                                0.0   \n",
       "33                               0.0                                0.0   \n",
       "8                                0.0                                0.0   \n",
       "5                                0.0                                0.0   \n",
       "\n",
       "    Female population 45-64 raw value  Female population 65+ raw value  \\\n",
       "35                                0.0                              0.0   \n",
       "32                                0.0                              0.0   \n",
       "42                                0.0                              0.0   \n",
       "31                                0.0                              0.0   \n",
       "7                                 0.0                              0.0   \n",
       "30                                0.0                              0.0   \n",
       "19                                0.0                              0.0   \n",
       "33                                0.0                              0.0   \n",
       "8                                 0.0                              0.0   \n",
       "5                                 0.0                              0.0   \n",
       "\n",
       "    Total female population raw value  Population growth raw value  State_y  \\\n",
       "35                                0.0                          0.0       OH   \n",
       "32                                0.0                          0.0       NM   \n",
       "42                                0.0                          0.0       TN   \n",
       "31                                0.0                          0.0       NJ   \n",
       "7                                 0.0                          0.0       DC   \n",
       "30                                0.0                          0.0       NH   \n",
       "19                                0.0                          0.0       MA   \n",
       "33                                0.0                          0.0       NV   \n",
       "8                                 0.0                          0.0       DE   \n",
       "5                                 0.0                          0.0       CO   \n",
       "\n",
       "       FIPS  Opiod_Dispensing_Rate  \n",
       "35  39001.0                   39.7  \n",
       "32  35001.0                   58.0  \n",
       "42  47001.0                   71.3  \n",
       "31  34001.0                   57.9  \n",
       "7   11001.0                   39.9  \n",
       "30  33001.0                   25.3  \n",
       "19  25001.0                   35.0  \n",
       "33  32510.0                   99.9  \n",
       "8   10001.0                   38.8  \n",
       "5    8001.0                   32.0  \n",
       "\n",
       "[10 rows x 540 columns]"
      ]
     },
     "execution_count": 20,
     "metadata": {},
     "output_type": "execute_result"
    }
   ],
   "source": [
    "#displaying the top-10 states with highest mortality rates\n",
    "top=finaldf.groupby('State_x').first().reset_index()\n",
    "top10=top.nlargest(n=10, columns=['Norm_Deaths']) \n",
    "top10"
   ]
  },
  {
   "cell_type": "markdown",
   "id": "b11d0041",
   "metadata": {},
   "source": [
    "### The above dataframe displays the top-15 values with the highest mortality rates all over the US.\n",
    "* From the above dataframe we can see that the <b>Adams County, OH has the highest moratlity rate. "
   ]
  },
  {
   "cell_type": "markdown",
   "id": "39970dd5",
   "metadata": {},
   "source": [
    "### Analysing how the mortality rate varies across the states in the top 10 counties\n",
    "\n",
    "* Making a list of top 10 states with the highest moratlity rates and calculating the mean and median of the death count\n"
   ]
  },
  {
   "cell_type": "code",
   "execution_count": 21,
   "id": "b4c061fc",
   "metadata": {},
   "outputs": [
    {
     "data": {
      "text/plain": [
       "array(['OH', 'NM', 'TN', 'NJ', 'DC', 'NH', 'MA', 'NV', 'DE', 'CO'],\n",
       "      dtype=object)"
      ]
     },
     "execution_count": 21,
     "metadata": {},
     "output_type": "execute_result"
    }
   ],
   "source": [
    "top10['State_x'].unique()"
   ]
  },
  {
   "cell_type": "markdown",
   "id": "6239e517",
   "metadata": {},
   "source": [
    "## Use mean and median for counties within states to compare (for the state level)."
   ]
  },
  {
   "cell_type": "code",
   "execution_count": 53,
   "id": "7f37fb0c",
   "metadata": {},
   "outputs": [
    {
     "name": "stdout",
     "output_type": "stream",
     "text": [
      "\u001b[1mOH \u001b[0m\n",
      "The mean of opioid mortality in\tOH : 447.35227272727275\n",
      "The median of opioid mortality in\tOH : 163.0\n",
      "\n",
      "\n",
      "The county with maximum moratality rate in state:OH is- 1597    Montgomery County, OH\n",
      "Name: County, dtype: object\n",
      "With a death(moratlity) count of: 1597    3523\n",
      "Name: Deaths, dtype: int64\n",
      "---------------------------------------------------------------------------------\n",
      "\u001b[1mNM \u001b[0m\n",
      "The mean of opioid mortality in\tNM : 253.73333333333332\n",
      "The median of opioid mortality in\tNM : 101.0\n",
      "\n",
      "\n",
      "The county with maximum moratality rate in state:NM is- 1957    Rio Arriba County, NM\n",
      "Name: County, dtype: object\n",
      "With a death(moratlity) count of: 1957    477\n",
      "Name: Deaths, dtype: int64\n",
      "---------------------------------------------------------------------------------\n",
      "\u001b[1mTN \u001b[0m\n",
      "The mean of opioid mortality in\tTN : 198.0\n",
      "The median of opioid mortality in\tTN : 87.0\n",
      "\n",
      "\n",
      "The county with maximum moratality rate in state:TN is- 1099    Jackson County, TN\n",
      "Name: County, dtype: object\n",
      "With a death(moratlity) count of: 1099    65\n",
      "Name: Deaths, dtype: int64\n",
      "---------------------------------------------------------------------------------\n",
      "\u001b[1mNJ \u001b[0m\n",
      "The mean of opioid mortality in\tNJ : 1063.7619047619048\n",
      "The median of opioid mortality in\tNJ : 1093.0\n",
      "\n",
      "\n",
      "The county with maximum moratality rate in state:NJ is- 309    Camden County, NJ\n",
      "Name: County, dtype: object\n",
      "With a death(moratlity) count of: 309    2484\n",
      "Name: Deaths, dtype: int64\n",
      "---------------------------------------------------------------------------------\n",
      "\u001b[1mDC \u001b[0m\n",
      "The mean of opioid mortality in\tDC : 2141.0\n",
      "The median of opioid mortality in\tDC : 2141.0\n",
      "\n",
      "\n",
      "The county with maximum moratality rate in state:DC is- 643    District of Columbia, DC\n",
      "Name: County, dtype: object\n",
      "With a death(moratlity) count of: 643    2141\n",
      "Name: Deaths, dtype: int64\n",
      "---------------------------------------------------------------------------------\n",
      "\u001b[1mNH \u001b[0m\n",
      "The mean of opioid mortality in\tNH : 383.0\n",
      "The median of opioid mortality in\tNH : 193.5\n",
      "\n",
      "\n",
      "The county with maximum moratality rate in state:NH is- 1016    Hillsborough County, NH\n",
      "Name: County, dtype: object\n",
      "With a death(moratlity) count of: 1016    1376\n",
      "Name: Deaths, dtype: int64\n",
      "---------------------------------------------------------------------------------\n",
      "\u001b[1mMA \u001b[0m\n",
      "The mean of opioid mortality in\tMA : 1293.7857142857142\n",
      "The median of opioid mortality in\tMA : 1438.5\n",
      "\n",
      "\n",
      "The county with maximum moratality rate in state:MA is- 231    Bristol County, MA\n",
      "Name: County, dtype: object\n",
      "With a death(moratlity) count of: 231    2144\n",
      "Name: Deaths, dtype: int64\n",
      "---------------------------------------------------------------------------------\n",
      "\u001b[1mNV \u001b[0m\n",
      "The mean of opioid mortality in\tNV : 640.0\n",
      "The median of opioid mortality in\tNV : 76.0\n",
      "\n",
      "\n",
      "The county with maximum moratality rate in state:NV is- 1694    Nye County, NV\n",
      "Name: County, dtype: object\n",
      "With a death(moratlity) count of: 1694    188\n",
      "Name: Deaths, dtype: int64\n",
      "---------------------------------------------------------------------------------\n",
      "\u001b[1mDE \u001b[0m\n",
      "The mean of opioid mortality in\tDE : 944.0\n",
      "The median of opioid mortality in\tDE : 582.0\n",
      "\n",
      "\n",
      "The county with maximum moratality rate in state:DE is- 1653    New Castle County, DE\n",
      "Name: County, dtype: object\n",
      "With a death(moratlity) count of: 1653    1797\n",
      "Name: Deaths, dtype: int64\n",
      "---------------------------------------------------------------------------------\n",
      "\u001b[1mCO \u001b[0m\n",
      "The mean of opioid mortality in\tCO : 239.41304347826087\n",
      "The median of opioid mortality in\tCO : 40.5\n",
      "\n",
      "\n",
      "The county with maximum moratality rate in state:CO is- 1264    Las Animas County, CO\n",
      "Name: County, dtype: object\n",
      "With a death(moratlity) count of: 1264    71\n",
      "Name: Deaths, dtype: int64\n",
      "---------------------------------------------------------------------------------\n"
     ]
    }
   ],
   "source": [
    "import plotly.express as px\n",
    "statelist=['OH', 'NM', 'TN', 'NJ', 'DC', 'NH', 'MA', 'NV', 'DE', 'CO']\n",
    "for i,x in enumerate(statelist):\n",
    "    state=finaldf[finaldf.State_x==(statelist[i])]\n",
    "    print(\"\\033[1m\"+statelist[i],\"\\033[0m\")\n",
    "    print(\"The mean of opioid mortality in\\t\" +statelist[i],\":\",state['Deaths'].mean())\n",
    "    print(\"The median of opioid mortality in\\t\" +statelist[i],\":\",state['Deaths'].median())\n",
    "    print(\"\\n\")\n",
    "    county=state[state['Norm_Deaths']==state['Norm_Deaths'].max()]\n",
    "    print(\"The county with maximum moratality rate in state:\"+statelist[i] ,\"is-\",county['County'])\n",
    "    print(\"With a death(moratlity) count of:\",county['Deaths'])\n",
    "    print(\"---------------------------------------------------------------------------------\")"
   ]
  },
  {
   "cell_type": "markdown",
   "id": "862f380d",
   "metadata": {},
   "source": [
    "* The mean and median for the top 10 affected state are as displayed above.If the mean and median are around same value the we can that it follows a uniform distribution."
   ]
  },
  {
   "cell_type": "markdown",
   "id": "2b1ce46a",
   "metadata": {},
   "source": [
    "### Plotting the Deaths across each of these 10 states to see how the data is spread and displaying the top-10 counties with the highest mortality rate in each of these states"
   ]
  },
  {
   "cell_type": "code",
   "execution_count": 57,
   "id": "7f8cf986",
   "metadata": {},
   "outputs": [
    {
     "data": {
      "application/vnd.plotly.v1+json": {
       "config": {
        "plotlyServerURL": "https://plot.ly"
       },
       "data": [
        {
         "alignmentgroup": "True",
         "bingroup": "x",
         "histfunc": "sum",
         "hovertemplate": "Population=590060<br>County=%{x}<br>sum of Norm_Deaths=%{y}<extra></extra>",
         "legendgroup": "590060",
         "marker": {
          "color": "#636efa",
          "pattern": {
           "shape": ""
          }
         },
         "name": "590060",
         "offsetgroup": "590060",
         "orientation": "v",
         "showlegend": true,
         "type": "histogram",
         "x": [
          "Adams County, OH"
         ],
         "xaxis": "x",
         "y": [
          23.72640070501305
         ],
         "yaxis": "y"
        },
        {
         "alignmentgroup": "True",
         "bingroup": "x",
         "histfunc": "sum",
         "hovertemplate": "Population=2225818<br>County=%{x}<br>sum of Norm_Deaths=%{y}<extra></extra>",
         "legendgroup": "2225818",
         "marker": {
          "color": "#EF553B",
          "pattern": {
           "shape": ""
          }
         },
         "name": "2225818",
         "offsetgroup": "2225818",
         "orientation": "v",
         "showlegend": true,
         "type": "histogram",
         "x": [
          "Allen County, OH"
         ],
         "xaxis": "x",
         "y": [
          9.075315232422417
         ],
         "yaxis": "y"
        },
        {
         "alignmentgroup": "True",
         "bingroup": "x",
         "histfunc": "sum",
         "hovertemplate": "Population=1115509<br>County=%{x}<br>sum of Norm_Deaths=%{y}<extra></extra>",
         "legendgroup": "1115509",
         "marker": {
          "color": "#00cc96",
          "pattern": {
           "shape": ""
          }
         },
         "name": "1115509",
         "offsetgroup": "1115509",
         "orientation": "v",
         "showlegend": true,
         "type": "histogram",
         "x": [
          "Ashland County, OH"
         ],
         "xaxis": "x",
         "y": [
          3.944387718969547
         ],
         "yaxis": "y"
        },
        {
         "alignmentgroup": "True",
         "bingroup": "x",
         "histfunc": "sum",
         "hovertemplate": "Population=2118031<br>County=%{x}<br>sum of Norm_Deaths=%{y}<extra></extra>",
         "legendgroup": "2118031",
         "marker": {
          "color": "#ab63fa",
          "pattern": {
           "shape": ""
          }
         },
         "name": "2118031",
         "offsetgroup": "2118031",
         "orientation": "v",
         "showlegend": true,
         "type": "histogram",
         "x": [
          "Ashtabula County, OH"
         ],
         "xaxis": "x",
         "y": [
          14.0696713126484
         ],
         "yaxis": "y"
        },
        {
         "alignmentgroup": "True",
         "bingroup": "x",
         "histfunc": "sum",
         "hovertemplate": "Population=1352150<br>County=%{x}<br>sum of Norm_Deaths=%{y}<extra></extra>",
         "legendgroup": "1352150",
         "marker": {
          "color": "#FFA15A",
          "pattern": {
           "shape": ""
          }
         },
         "name": "1352150",
         "offsetgroup": "1352150",
         "orientation": "v",
         "showlegend": true,
         "type": "histogram",
         "x": [
          "Athens County, OH"
         ],
         "xaxis": "x",
         "y": [
          10.205968272750804
         ],
         "yaxis": "y"
        },
        {
         "alignmentgroup": "True",
         "bingroup": "x",
         "histfunc": "sum",
         "hovertemplate": "Population=965885<br>County=%{x}<br>sum of Norm_Deaths=%{y}<extra></extra>",
         "legendgroup": "965885",
         "marker": {
          "color": "#19d3f3",
          "pattern": {
           "shape": ""
          }
         },
         "name": "965885",
         "offsetgroup": "965885",
         "orientation": "v",
         "showlegend": true,
         "type": "histogram",
         "x": [
          "Auglaize County, OH"
         ],
         "xaxis": "x",
         "y": [
          5.797791662568525
         ],
         "yaxis": "y"
        },
        {
         "alignmentgroup": "True",
         "bingroup": "x",
         "histfunc": "sum",
         "hovertemplate": "Population=1462985<br>County=%{x}<br>sum of Norm_Deaths=%{y}<extra></extra>",
         "legendgroup": "1462985",
         "marker": {
          "color": "#FF6692",
          "pattern": {
           "shape": ""
          }
         },
         "name": "1462985",
         "offsetgroup": "1462985",
         "orientation": "v",
         "showlegend": true,
         "type": "histogram",
         "x": [
          "Belmont County, OH"
         ],
         "xaxis": "x",
         "y": [
          12.098551933205057
         ],
         "yaxis": "y"
        },
        {
         "alignmentgroup": "True",
         "bingroup": "x",
         "histfunc": "sum",
         "hovertemplate": "Population=920720<br>County=%{x}<br>sum of Norm_Deaths=%{y}<extra></extra>",
         "legendgroup": "920720",
         "marker": {
          "color": "#B6E880",
          "pattern": {
           "shape": ""
          }
         },
         "name": "920720",
         "offsetgroup": "920720",
         "orientation": "v",
         "showlegend": true,
         "type": "histogram",
         "x": [
          "Brown County, OH"
         ],
         "xaxis": "x",
         "y": [
          26.3923885654705
         ],
         "yaxis": "y"
        },
        {
         "alignmentgroup": "True",
         "bingroup": "x",
         "histfunc": "sum",
         "hovertemplate": "Population=7583009<br>County=%{x}<br>sum of Norm_Deaths=%{y}<extra></extra>",
         "legendgroup": "7583009",
         "marker": {
          "color": "#FF97FF",
          "pattern": {
           "shape": ""
          }
         },
         "name": "7583009",
         "offsetgroup": "7583009",
         "orientation": "v",
         "showlegend": true,
         "type": "histogram",
         "x": [
          "Butler County, OH"
         ],
         "xaxis": "x",
         "y": [
          24.172462409051604
         ],
         "yaxis": "y"
        },
        {
         "alignmentgroup": "True",
         "bingroup": "x",
         "histfunc": "sum",
         "hovertemplate": "Population=599140<br>County=%{x}<br>sum of Norm_Deaths=%{y}<extra></extra>",
         "legendgroup": "599140",
         "marker": {
          "color": "#FECB52",
          "pattern": {
           "shape": ""
          }
         },
         "name": "599140",
         "offsetgroup": "599140",
         "orientation": "v",
         "showlegend": true,
         "type": "histogram",
         "x": [
          "Carroll County, OH"
         ],
         "xaxis": "x",
         "y": [
          8.011483125813667
         ],
         "yaxis": "y"
        },
        {
         "alignmentgroup": "True",
         "bingroup": "x",
         "histfunc": "sum",
         "hovertemplate": "Population=827364<br>County=%{x}<br>sum of Norm_Deaths=%{y}<extra></extra>",
         "legendgroup": "827364",
         "marker": {
          "color": "#636efa",
          "pattern": {
           "shape": ""
          }
         },
         "name": "827364",
         "offsetgroup": "827364",
         "orientation": "v",
         "showlegend": true,
         "type": "histogram",
         "x": [
          "Champaign County, OH"
         ],
         "xaxis": "x",
         "y": [
          12.570041722869256
         ],
         "yaxis": "y"
        },
        {
         "alignmentgroup": "True",
         "bingroup": "x",
         "histfunc": "sum",
         "hovertemplate": "Population=2920038<br>County=%{x}<br>sum of Norm_Deaths=%{y}<extra></extra>",
         "legendgroup": "2920038",
         "marker": {
          "color": "#EF553B",
          "pattern": {
           "shape": ""
          }
         },
         "name": "2920038",
         "offsetgroup": "2920038",
         "orientation": "v",
         "showlegend": true,
         "type": "histogram",
         "x": [
          "Clark County, OH"
         ],
         "xaxis": "x",
         "y": [
          22.91066075167515
         ],
         "yaxis": "y"
        },
        {
         "alignmentgroup": "True",
         "bingroup": "x",
         "histfunc": "sum",
         "hovertemplate": "Population=4074993<br>County=%{x}<br>sum of Norm_Deaths=%{y}<extra></extra>",
         "legendgroup": "4074993",
         "marker": {
          "color": "#00cc96",
          "pattern": {
           "shape": ""
          }
         },
         "name": "4074993",
         "offsetgroup": "4074993",
         "orientation": "v",
         "showlegend": true,
         "type": "histogram",
         "x": [
          "Clermont County, OH"
         ],
         "xaxis": "x",
         "y": [
          23.28838356286747
         ],
         "yaxis": "y"
        },
        {
         "alignmentgroup": "True",
         "bingroup": "x",
         "histfunc": "sum",
         "hovertemplate": "Population=876683<br>County=%{x}<br>sum of Norm_Deaths=%{y}<extra></extra>",
         "legendgroup": "876683",
         "marker": {
          "color": "#ab63fa",
          "pattern": {
           "shape": ""
          }
         },
         "name": "876683",
         "offsetgroup": "876683",
         "orientation": "v",
         "showlegend": true,
         "type": "histogram",
         "x": [
          "Clinton County, OH"
         ],
         "xaxis": "x",
         "y": [
          23.269528438443544
         ],
         "yaxis": "y"
        },
        {
         "alignmentgroup": "True",
         "bingroup": "x",
         "histfunc": "sum",
         "hovertemplate": "Population=2262960<br>County=%{x}<br>sum of Norm_Deaths=%{y}<extra></extra>",
         "legendgroup": "2262960",
         "marker": {
          "color": "#FFA15A",
          "pattern": {
           "shape": ""
          }
         },
         "name": "2262960",
         "offsetgroup": "2262960",
         "orientation": "v",
         "showlegend": true,
         "type": "histogram",
         "x": [
          "Columbiana County, OH"
         ],
         "xaxis": "x",
         "y": [
          14.450100752996077
         ],
         "yaxis": "y"
        },
        {
         "alignmentgroup": "True",
         "bingroup": "x",
         "histfunc": "sum",
         "hovertemplate": "Population=774586<br>County=%{x}<br>sum of Norm_Deaths=%{y}<extra></extra>",
         "legendgroup": "774586",
         "marker": {
          "color": "#19d3f3",
          "pattern": {
           "shape": ""
          }
         },
         "name": "774586",
         "offsetgroup": "774586",
         "orientation": "v",
         "showlegend": true,
         "type": "histogram",
         "x": [
          "Coshocton County, OH"
         ],
         "xaxis": "x",
         "y": [
          7.358769716984298
         ],
         "yaxis": "y"
        },
        {
         "alignmentgroup": "True",
         "bingroup": "x",
         "histfunc": "sum",
         "hovertemplate": "Population=926408<br>County=%{x}<br>sum of Norm_Deaths=%{y}<extra></extra>",
         "legendgroup": "926408",
         "marker": {
          "color": "#FF6692",
          "pattern": {
           "shape": ""
          }
         },
         "name": "926408",
         "offsetgroup": "926408",
         "orientation": "v",
         "showlegend": true,
         "type": "histogram",
         "x": [
          "Crawford County, OH"
         ],
         "xaxis": "x",
         "y": [
          15.435963420005008
         ],
         "yaxis": "y"
        },
        {
         "alignmentgroup": "True",
         "bingroup": "x",
         "histfunc": "sum",
         "hovertemplate": "Population=27347140<br>County=%{x}<br>sum of Norm_Deaths=%{y}<extra></extra>",
         "legendgroup": "27347140",
         "marker": {
          "color": "#B6E880",
          "pattern": {
           "shape": ""
          }
         },
         "name": "27347140",
         "offsetgroup": "27347140",
         "orientation": "v",
         "showlegend": true,
         "type": "histogram",
         "x": [
          "Cuyahoga County, OH"
         ],
         "xaxis": "x",
         "y": [
          17.20106746080212
         ],
         "yaxis": "y"
        },
        {
         "alignmentgroup": "True",
         "bingroup": "x",
         "histfunc": "sum",
         "hovertemplate": "Population=1104861<br>County=%{x}<br>sum of Norm_Deaths=%{y}<extra></extra>",
         "legendgroup": "1104861",
         "marker": {
          "color": "#FF97FF",
          "pattern": {
           "shape": ""
          }
         },
         "name": "1104861",
         "offsetgroup": "1104861",
         "orientation": "v",
         "showlegend": true,
         "type": "histogram",
         "x": [
          "Darke County, OH"
         ],
         "xaxis": "x",
         "y": [
          14.9340052730615
         ],
         "yaxis": "y"
        },
        {
         "alignmentgroup": "True",
         "bingroup": "x",
         "histfunc": "sum",
         "hovertemplate": "Population=816489<br>County=%{x}<br>sum of Norm_Deaths=%{y}<extra></extra>",
         "legendgroup": "816489",
         "marker": {
          "color": "#FECB52",
          "pattern": {
           "shape": ""
          }
         },
         "name": "816489",
         "offsetgroup": "816489",
         "orientation": "v",
         "showlegend": true,
         "type": "histogram",
         "x": [
          "Defiance County, OH"
         ],
         "xaxis": "x",
         "y": [
          7.960915578776934
         ],
         "yaxis": "y"
        },
        {
         "alignmentgroup": "True",
         "bingroup": "x",
         "histfunc": "sum",
         "hovertemplate": "Population=3451607<br>County=%{x}<br>sum of Norm_Deaths=%{y}<extra></extra>",
         "legendgroup": "3451607",
         "marker": {
          "color": "#636efa",
          "pattern": {
           "shape": ""
          }
         },
         "name": "3451607",
         "offsetgroup": "3451607",
         "orientation": "v",
         "showlegend": true,
         "type": "histogram",
         "x": [
          "Delaware County, OH"
         ],
         "xaxis": "x",
         "y": [
          6.60561877409566
         ],
         "yaxis": "y"
        },
        {
         "alignmentgroup": "True",
         "bingroup": "x",
         "histfunc": "sum",
         "hovertemplate": "Population=1619134<br>County=%{x}<br>sum of Norm_Deaths=%{y}<extra></extra>",
         "legendgroup": "1619134",
         "marker": {
          "color": "#EF553B",
          "pattern": {
           "shape": ""
          }
         },
         "name": "1619134",
         "offsetgroup": "1619134",
         "orientation": "v",
         "showlegend": true,
         "type": "histogram",
         "x": [
          "Erie County, OH"
         ],
         "xaxis": "x",
         "y": [
          14.884499985794877
         ],
         "yaxis": "y"
        },
        {
         "alignmentgroup": "True",
         "bingroup": "x",
         "histfunc": "sum",
         "hovertemplate": "Population=2992812<br>County=%{x}<br>sum of Norm_Deaths=%{y}<extra></extra>",
         "legendgroup": "2992812",
         "marker": {
          "color": "#00cc96",
          "pattern": {
           "shape": ""
          }
         },
         "name": "2992812",
         "offsetgroup": "2992812",
         "orientation": "v",
         "showlegend": true,
         "type": "histogram",
         "x": [
          "Fairfield County, OH"
         ],
         "xaxis": "x",
         "y": [
          9.288922925997356
         ],
         "yaxis": "y"
        },
        {
         "alignmentgroup": "True",
         "bingroup": "x",
         "histfunc": "sum",
         "hovertemplate": "Population=602465<br>County=%{x}<br>sum of Norm_Deaths=%{y}<extra></extra>",
         "legendgroup": "602465",
         "marker": {
          "color": "#ab63fa",
          "pattern": {
           "shape": ""
          }
         },
         "name": "602465",
         "offsetgroup": "602465",
         "orientation": "v",
         "showlegend": true,
         "type": "histogram",
         "x": [
          "Fayette County, OH"
         ],
         "xaxis": "x",
         "y": [
          20.08415426622293
         ],
         "yaxis": "y"
        },
        {
         "alignmentgroup": "True",
         "bingroup": "x",
         "histfunc": "sum",
         "hovertemplate": "Population=24558554<br>County=%{x}<br>sum of Norm_Deaths=%{y}<extra></extra>",
         "legendgroup": "24558554",
         "marker": {
          "color": "#FFA15A",
          "pattern": {
           "shape": ""
          }
         },
         "name": "24558554",
         "offsetgroup": "24558554",
         "orientation": "v",
         "showlegend": true,
         "type": "histogram",
         "x": [
          "Franklin County, OH"
         ],
         "xaxis": "x",
         "y": [
          16.743656813019204
         ],
         "yaxis": "y"
        },
        {
         "alignmentgroup": "True",
         "bingroup": "x",
         "histfunc": "sum",
         "hovertemplate": "Population=892234<br>County=%{x}<br>sum of Norm_Deaths=%{y}<extra></extra>",
         "legendgroup": "892234",
         "marker": {
          "color": "#19d3f3",
          "pattern": {
           "shape": ""
          }
         },
         "name": "892234",
         "offsetgroup": "892234",
         "orientation": "v",
         "showlegend": true,
         "type": "histogram",
         "x": [
          "Fulton County, OH"
         ],
         "xaxis": "x",
         "y": [
          7.733397292638479
         ],
         "yaxis": "y"
        },
        {
         "alignmentgroup": "True",
         "bingroup": "x",
         "histfunc": "sum",
         "hovertemplate": "Population=644837<br>County=%{x}<br>sum of Norm_Deaths=%{y}<extra></extra>",
         "legendgroup": "644837",
         "marker": {
          "color": "#FF6692",
          "pattern": {
           "shape": ""
          }
         },
         "name": "644837",
         "offsetgroup": "644837",
         "orientation": "v",
         "showlegend": true,
         "type": "histogram",
         "x": [
          "Gallia County, OH"
         ],
         "xaxis": "x",
         "y": [
          20.1601334910993
         ],
         "yaxis": "y"
        },
        {
         "alignmentgroup": "True",
         "bingroup": "x",
         "histfunc": "sum",
         "hovertemplate": "Population=1957187<br>County=%{x}<br>sum of Norm_Deaths=%{y}<extra></extra>",
         "legendgroup": "1957187",
         "marker": {
          "color": "#B6E880",
          "pattern": {
           "shape": ""
          }
         },
         "name": "1957187",
         "offsetgroup": "1957187",
         "orientation": "v",
         "showlegend": true,
         "type": "histogram",
         "x": [
          "Geauga County, OH"
         ],
         "xaxis": "x",
         "y": [
          8.634841739700908
         ],
         "yaxis": "y"
        },
        {
         "alignmentgroup": "True",
         "bingroup": "x",
         "histfunc": "sum",
         "hovertemplate": "Population=3347275<br>County=%{x}<br>sum of Norm_Deaths=%{y}<extra></extra>",
         "legendgroup": "3347275",
         "marker": {
          "color": "#FF97FF",
          "pattern": {
           "shape": ""
          }
         },
         "name": "3347275",
         "offsetgroup": "3347275",
         "orientation": "v",
         "showlegend": true,
         "type": "histogram",
         "x": [
          "Greene County, OH"
         ],
         "xaxis": "x",
         "y": [
          16.401401139733068
         ],
         "yaxis": "y"
        },
        {
         "alignmentgroup": "True",
         "bingroup": "x",
         "histfunc": "sum",
         "hovertemplate": "Population=842340<br>County=%{x}<br>sum of Norm_Deaths=%{y}<extra></extra>",
         "legendgroup": "842340",
         "marker": {
          "color": "#FECB52",
          "pattern": {
           "shape": ""
          }
         },
         "name": "842340",
         "offsetgroup": "842340",
         "orientation": "v",
         "showlegend": true,
         "type": "histogram",
         "x": [
          "Guernsey County, OH"
         ],
         "xaxis": "x",
         "y": [
          12.583992212170857
         ],
         "yaxis": "y"
        },
        {
         "alignmentgroup": "True",
         "bingroup": "x",
         "histfunc": "sum",
         "hovertemplate": "Population=17110060<br>County=%{x}<br>sum of Norm_Deaths=%{y}<extra></extra>",
         "legendgroup": "17110060",
         "marker": {
          "color": "#636efa",
          "pattern": {
           "shape": ""
          }
         },
         "name": "17110060",
         "offsetgroup": "17110060",
         "orientation": "v",
         "showlegend": true,
         "type": "histogram",
         "x": [
          "Hamilton County, OH"
         ],
         "xaxis": "x",
         "y": [
          20.23955497526017
         ],
         "yaxis": "y"
        },
        {
         "alignmentgroup": "True",
         "bingroup": "x",
         "histfunc": "sum",
         "hovertemplate": "Population=1561293<br>County=%{x}<br>sum of Norm_Deaths=%{y}<extra></extra>",
         "legendgroup": "1561293",
         "marker": {
          "color": "#EF553B",
          "pattern": {
           "shape": ""
          }
         },
         "name": "1561293",
         "offsetgroup": "1561293",
         "orientation": "v",
         "showlegend": true,
         "type": "histogram",
         "x": [
          "Hancock County, OH"
         ],
         "xaxis": "x",
         "y": [
          10.63221317203113
         ],
         "yaxis": "y"
        },
        {
         "alignmentgroup": "True",
         "bingroup": "x",
         "histfunc": "sum",
         "hovertemplate": "Population=668262<br>County=%{x}<br>sum of Norm_Deaths=%{y}<extra></extra>",
         "legendgroup": "668262",
         "marker": {
          "color": "#00cc96",
          "pattern": {
           "shape": ""
          }
         },
         "name": "668262",
         "offsetgroup": "668262",
         "orientation": "v",
         "showlegend": true,
         "type": "histogram",
         "x": [
          "Hardin County, OH"
         ],
         "xaxis": "x",
         "y": [
          14.664906877841325
         ],
         "yaxis": "y"
        },
        {
         "alignmentgroup": "True",
         "bingroup": "x",
         "histfunc": "sum",
         "hovertemplate": "Population=329464<br>County=%{x}<br>sum of Norm_Deaths=%{y}<extra></extra>",
         "legendgroup": "329464",
         "marker": {
          "color": "#ab63fa",
          "pattern": {
           "shape": ""
          }
         },
         "name": "329464",
         "offsetgroup": "329464",
         "orientation": "v",
         "showlegend": true,
         "type": "histogram",
         "x": [
          "Harrison County, OH"
         ],
         "xaxis": "x",
         "y": [
          8.1951290581065
         ],
         "yaxis": "y"
        },
        {
         "alignmentgroup": "True",
         "bingroup": "x",
         "histfunc": "sum",
         "hovertemplate": "Population=595334<br>County=%{x}<br>sum of Norm_Deaths=%{y}<extra></extra>",
         "legendgroup": "595334",
         "marker": {
          "color": "#FFA15A",
          "pattern": {
           "shape": ""
          }
         },
         "name": "595334",
         "offsetgroup": "595334",
         "orientation": "v",
         "showlegend": true,
         "type": "histogram",
         "x": [
          "Henry County, OH"
         ],
         "xaxis": "x",
         "y": [
          7.390809192822852
         ],
         "yaxis": "y"
        },
        {
         "alignmentgroup": "True",
         "bingroup": "x",
         "histfunc": "sum",
         "hovertemplate": "Population=899034<br>County=%{x}<br>sum of Norm_Deaths=%{y}<extra></extra>",
         "legendgroup": "899034",
         "marker": {
          "color": "#19d3f3",
          "pattern": {
           "shape": ""
          }
         },
         "name": "899034",
         "offsetgroup": "899034",
         "orientation": "v",
         "showlegend": true,
         "type": "histogram",
         "x": [
          "Highland County, OH"
         ],
         "xaxis": "x",
         "y": [
          12.569046331951851
         ],
         "yaxis": "y"
        },
        {
         "alignmentgroup": "True",
         "bingroup": "x",
         "histfunc": "sum",
         "hovertemplate": "Population=605120<br>County=%{x}<br>sum of Norm_Deaths=%{y}<extra></extra>",
         "legendgroup": "605120",
         "marker": {
          "color": "#FF6692",
          "pattern": {
           "shape": ""
          }
         },
         "name": "605120",
         "offsetgroup": "605120",
         "orientation": "v",
         "showlegend": true,
         "type": "histogram",
         "x": [
          "Hocking County, OH"
         ],
         "xaxis": "x",
         "y": [
          14.873083024854575
         ],
         "yaxis": "y"
        },
        {
         "alignmentgroup": "True",
         "bingroup": "x",
         "histfunc": "sum",
         "hovertemplate": "Population=884901<br>County=%{x}<br>sum of Norm_Deaths=%{y}<extra></extra>",
         "legendgroup": "884901",
         "marker": {
          "color": "#B6E880",
          "pattern": {
           "shape": ""
          }
         },
         "name": "884901",
         "offsetgroup": "884901",
         "orientation": "v",
         "showlegend": true,
         "type": "histogram",
         "x": [
          "Holmes County, OH"
         ],
         "xaxis": "x",
         "y": [
          2.147132843109003
         ],
         "yaxis": "y"
        },
        {
         "alignmentgroup": "True",
         "bingroup": "x",
         "histfunc": "sum",
         "hovertemplate": "Population=1246615<br>County=%{x}<br>sum of Norm_Deaths=%{y}<extra></extra>",
         "legendgroup": "1246615",
         "marker": {
          "color": "#FF97FF",
          "pattern": {
           "shape": ""
          }
         },
         "name": "1246615",
         "offsetgroup": "1246615",
         "orientation": "v",
         "showlegend": true,
         "type": "histogram",
         "x": [
          "Huron County, OH"
         ],
         "xaxis": "x",
         "y": [
          14.358883857486072
         ],
         "yaxis": "y"
        },
        {
         "alignmentgroup": "True",
         "bingroup": "x",
         "histfunc": "sum",
         "hovertemplate": "Population=689743<br>County=%{x}<br>sum of Norm_Deaths=%{y}<extra></extra>",
         "legendgroup": "689743",
         "marker": {
          "color": "#FECB52",
          "pattern": {
           "shape": ""
          }
         },
         "name": "689743",
         "offsetgroup": "689743",
         "orientation": "v",
         "showlegend": true,
         "type": "histogram",
         "x": [
          "Jackson County, OH"
         ],
         "xaxis": "x",
         "y": [
          19.427525904576054
         ],
         "yaxis": "y"
        },
        {
         "alignmentgroup": "True",
         "bingroup": "x",
         "histfunc": "sum",
         "hovertemplate": "Population=1463724<br>County=%{x}<br>sum of Norm_Deaths=%{y}<extra></extra>",
         "legendgroup": "1463724",
         "marker": {
          "color": "#636efa",
          "pattern": {
           "shape": ""
          }
         },
         "name": "1463724",
         "offsetgroup": "1463724",
         "orientation": "v",
         "showlegend": true,
         "type": "histogram",
         "x": [
          "Jefferson County, OH"
         ],
         "xaxis": "x",
         "y": [
          21.1788561231489
         ],
         "yaxis": "y"
        },
        {
         "alignmentgroup": "True",
         "bingroup": "x",
         "histfunc": "sum",
         "hovertemplate": "Population=1246513<br>County=%{x}<br>sum of Norm_Deaths=%{y}<extra></extra>",
         "legendgroup": "1246513",
         "marker": {
          "color": "#EF553B",
          "pattern": {
           "shape": ""
          }
         },
         "name": "1246513",
         "offsetgroup": "1246513",
         "orientation": "v",
         "showlegend": true,
         "type": "histogram",
         "x": [
          "Knox County, OH"
         ],
         "xaxis": "x",
         "y": [
          9.30595990575309
         ],
         "yaxis": "y"
        },
        {
         "alignmentgroup": "True",
         "bingroup": "x",
         "histfunc": "sum",
         "hovertemplate": "Population=4807444<br>County=%{x}<br>sum of Norm_Deaths=%{y}<extra></extra>",
         "legendgroup": "4807444",
         "marker": {
          "color": "#00cc96",
          "pattern": {
           "shape": ""
          }
         },
         "name": "4807444",
         "offsetgroup": "4807444",
         "orientation": "v",
         "showlegend": true,
         "type": "histogram",
         "x": [
          "Lake County, OH"
         ],
         "xaxis": "x",
         "y": [
          15.89202079108982
         ],
         "yaxis": "y"
        },
        {
         "alignmentgroup": "True",
         "bingroup": "x",
         "histfunc": "sum",
         "hovertemplate": "Population=1298496<br>County=%{x}<br>sum of Norm_Deaths=%{y}<extra></extra>",
         "legendgroup": "1298496",
         "marker": {
          "color": "#ab63fa",
          "pattern": {
           "shape": ""
          }
         },
         "name": "1298496",
         "offsetgroup": "1298496",
         "orientation": "v",
         "showlegend": true,
         "type": "histogram",
         "x": [
          "Lawrence County, OH"
         ],
         "xaxis": "x",
         "y": [
          19.715116565626694
         ],
         "yaxis": "y"
        },
        {
         "alignmentgroup": "True",
         "bingroup": "x",
         "histfunc": "sum",
         "hovertemplate": "Population=3412997<br>County=%{x}<br>sum of Norm_Deaths=%{y}<extra></extra>",
         "legendgroup": "3412997",
         "marker": {
          "color": "#FFA15A",
          "pattern": {
           "shape": ""
          }
         },
         "name": "3412997",
         "offsetgroup": "3412997",
         "orientation": "v",
         "showlegend": true,
         "type": "histogram",
         "x": [
          "Licking County, OH"
         ],
         "xaxis": "x",
         "y": [
          11.192509105633553
         ],
         "yaxis": "y"
        },
        {
         "alignmentgroup": "True",
         "bingroup": "x",
         "histfunc": "sum",
         "hovertemplate": "Population=961732<br>County=%{x}<br>sum of Norm_Deaths=%{y}<extra></extra>",
         "legendgroup": "961732",
         "marker": {
          "color": "#19d3f3",
          "pattern": {
           "shape": ""
          }
         },
         "name": "961732",
         "offsetgroup": "961732",
         "orientation": "v",
         "showlegend": true,
         "type": "histogram",
         "x": [
          "Logan County, OH"
         ],
         "xaxis": "x",
         "y": [
          12.477488531108458
         ],
         "yaxis": "y"
        },
        {
         "alignmentgroup": "True",
         "bingroup": "x",
         "histfunc": "sum",
         "hovertemplate": "Population=6265760<br>County=%{x}<br>sum of Norm_Deaths=%{y}<extra></extra>",
         "legendgroup": "6265760",
         "marker": {
          "color": "#FF6692",
          "pattern": {
           "shape": ""
          }
         },
         "name": "6265760",
         "offsetgroup": "6265760",
         "orientation": "v",
         "showlegend": true,
         "type": "histogram",
         "x": [
          "Lorain County, OH"
         ],
         "xaxis": "x",
         "y": [
          15.225607109113659
         ],
         "yaxis": "y"
        },
        {
         "alignmentgroup": "True",
         "bingroup": "x",
         "histfunc": "sum",
         "hovertemplate": "Population=9299492<br>County=%{x}<br>sum of Norm_Deaths=%{y}<extra></extra>",
         "legendgroup": "9299492",
         "marker": {
          "color": "#B6E880",
          "pattern": {
           "shape": ""
          }
         },
         "name": "9299492",
         "offsetgroup": "9299492",
         "orientation": "v",
         "showlegend": true,
         "type": "histogram",
         "x": [
          "Lucas County, OH"
         ],
         "xaxis": "x",
         "y": [
          17.140721235095423
         ],
         "yaxis": "y"
        },
        {
         "alignmentgroup": "True",
         "bingroup": "x",
         "histfunc": "sum",
         "hovertemplate": "Population=893150<br>County=%{x}<br>sum of Norm_Deaths=%{y}<extra></extra>",
         "legendgroup": "893150",
         "marker": {
          "color": "#FF97FF",
          "pattern": {
           "shape": ""
          }
         },
         "name": "893150",
         "offsetgroup": "893150",
         "orientation": "v",
         "showlegend": true,
         "type": "histogram",
         "x": [
          "Madison County, OH"
         ],
         "xaxis": "x",
         "y": [
          14.443262609863964
         ],
         "yaxis": "y"
        },
        {
         "alignmentgroup": "True",
         "bingroup": "x",
         "histfunc": "sum",
         "hovertemplate": "Population=5073712<br>County=%{x}<br>sum of Norm_Deaths=%{y}<extra></extra>",
         "legendgroup": "5073712",
         "marker": {
          "color": "#FECB52",
          "pattern": {
           "shape": ""
          }
         },
         "name": "5073712",
         "offsetgroup": "5073712",
         "orientation": "v",
         "showlegend": true,
         "type": "histogram",
         "x": [
          "Mahoning County, OH"
         ],
         "xaxis": "x",
         "y": [
          17.994714717745115
         ],
         "yaxis": "y"
        },
        {
         "alignmentgroup": "True",
         "bingroup": "x",
         "histfunc": "sum",
         "hovertemplate": "Population=1386807<br>County=%{x}<br>sum of Norm_Deaths=%{y}<extra></extra>",
         "legendgroup": "1386807",
         "marker": {
          "color": "#636efa",
          "pattern": {
           "shape": ""
          }
         },
         "name": "1386807",
         "offsetgroup": "1386807",
         "orientation": "v",
         "showlegend": true,
         "type": "histogram",
         "x": [
          "Marion County, OH"
         ],
         "xaxis": "x",
         "y": [
          19.397075440201846
         ],
         "yaxis": "y"
        },
        {
         "alignmentgroup": "True",
         "bingroup": "x",
         "histfunc": "sum",
         "hovertemplate": "Population=3539615<br>County=%{x}<br>sum of Norm_Deaths=%{y}<extra></extra>",
         "legendgroup": "3539615",
         "marker": {
          "color": "#EF553B",
          "pattern": {
           "shape": ""
          }
         },
         "name": "3539615",
         "offsetgroup": "3539615",
         "orientation": "v",
         "showlegend": true,
         "type": "histogram",
         "x": [
          "Medina County, OH"
         ],
         "xaxis": "x",
         "y": [
          8.390743061039124
         ],
         "yaxis": "y"
        },
        {
         "alignmentgroup": "True",
         "bingroup": "x",
         "histfunc": "sum",
         "hovertemplate": "Population=491087<br>County=%{x}<br>sum of Norm_Deaths=%{y}<extra></extra>",
         "legendgroup": "491087",
         "marker": {
          "color": "#00cc96",
          "pattern": {
           "shape": ""
          }
         },
         "name": "491087",
         "offsetgroup": "491087",
         "orientation": "v",
         "showlegend": true,
         "type": "histogram",
         "x": [
          "Meigs County, OH"
         ],
         "xaxis": "x",
         "y": [
          15.06861309706834
         ],
         "yaxis": "y"
        },
        {
         "alignmentgroup": "True",
         "bingroup": "x",
         "histfunc": "sum",
         "hovertemplate": "Population=859259<br>County=%{x}<br>sum of Norm_Deaths=%{y}<extra></extra>",
         "legendgroup": "859259",
         "marker": {
          "color": "#ab63fa",
          "pattern": {
           "shape": ""
          }
         },
         "name": "859259",
         "offsetgroup": "859259",
         "orientation": "v",
         "showlegend": true,
         "type": "histogram",
         "x": [
          "Mercer County, OH"
         ],
         "xaxis": "x",
         "y": [
          5.469829236586407
         ],
         "yaxis": "y"
        },
        {
         "alignmentgroup": "True",
         "bingroup": "x",
         "histfunc": "sum",
         "hovertemplate": "Population=2150903<br>County=%{x}<br>sum of Norm_Deaths=%{y}<extra></extra>",
         "legendgroup": "2150903",
         "marker": {
          "color": "#FFA15A",
          "pattern": {
           "shape": ""
          }
         },
         "name": "2150903",
         "offsetgroup": "2150903",
         "orientation": "v",
         "showlegend": true,
         "type": "histogram",
         "x": [
          "Miami County, OH"
         ],
         "xaxis": "x",
         "y": [
          14.737996088154604
         ],
         "yaxis": "y"
        },
        {
         "alignmentgroup": "True",
         "bingroup": "x",
         "histfunc": "sum",
         "hovertemplate": "Population=307632<br>County=%{x}<br>sum of Norm_Deaths=%{y}<extra></extra>",
         "legendgroup": "307632",
         "marker": {
          "color": "#19d3f3",
          "pattern": {
           "shape": ""
          }
         },
         "name": "307632",
         "offsetgroup": "307632",
         "orientation": "v",
         "showlegend": true,
         "type": "histogram",
         "x": [
          "Monroe County, OH"
         ],
         "xaxis": "x",
         "y": [
          6.826337962240599
         ],
         "yaxis": "y"
        },
        {
         "alignmentgroup": "True",
         "bingroup": "x",
         "histfunc": "sum",
         "hovertemplate": "Population=11370490<br>County=%{x}<br>sum of Norm_Deaths=%{y}<extra></extra>",
         "legendgroup": "11370490",
         "marker": {
          "color": "#FF6692",
          "pattern": {
           "shape": ""
          }
         },
         "name": "11370490",
         "offsetgroup": "11370490",
         "orientation": "v",
         "showlegend": true,
         "type": "histogram",
         "x": [
          "Montgomery County, OH"
         ],
         "xaxis": "x",
         "y": [
          30.983713102953345
         ],
         "yaxis": "y"
        },
        {
         "alignmentgroup": "True",
         "bingroup": "x",
         "histfunc": "sum",
         "hovertemplate": "Population=313633<br>County=%{x}<br>sum of Norm_Deaths=%{y}<extra></extra>",
         "legendgroup": "313633",
         "marker": {
          "color": "#B6E880",
          "pattern": {
           "shape": ""
          }
         },
         "name": "313633",
         "offsetgroup": "313633",
         "orientation": "v",
         "showlegend": true,
         "type": "histogram",
         "x": [
          "Morgan County, OH"
         ],
         "xaxis": "x",
         "y": [
          8.289943979109342
         ],
         "yaxis": "y"
        },
        {
         "alignmentgroup": "True",
         "bingroup": "x",
         "histfunc": "sum",
         "hovertemplate": "Population=719670<br>County=%{x}<br>sum of Norm_Deaths=%{y}<extra></extra>",
         "legendgroup": "719670",
         "marker": {
          "color": "#FF97FF",
          "pattern": {
           "shape": ""
          }
         },
         "name": "719670",
         "offsetgroup": "719670",
         "orientation": "v",
         "showlegend": true,
         "type": "histogram",
         "x": [
          "Morrow County, OH"
         ],
         "xaxis": "x",
         "y": [
          12.505731793738796
         ],
         "yaxis": "y"
        },
        {
         "alignmentgroup": "True",
         "bingroup": "x",
         "histfunc": "sum",
         "hovertemplate": "Population=1799542<br>County=%{x}<br>sum of Norm_Deaths=%{y}<extra></extra>",
         "legendgroup": "1799542",
         "marker": {
          "color": "#FECB52",
          "pattern": {
           "shape": ""
          }
         },
         "name": "1799542",
         "offsetgroup": "1799542",
         "orientation": "v",
         "showlegend": true,
         "type": "histogram",
         "x": [
          "Muskingum County, OH"
         ],
         "xaxis": "x",
         "y": [
          10.002545092028972
         ],
         "yaxis": "y"
        },
        {
         "alignmentgroup": "True",
         "bingroup": "x",
         "histfunc": "sum",
         "hovertemplate": "Population=301891<br>County=%{x}<br>sum of Norm_Deaths=%{y}<extra></extra>",
         "legendgroup": "301891",
         "marker": {
          "color": "#636efa",
          "pattern": {
           "shape": ""
          }
         },
         "name": "301891",
         "offsetgroup": "301891",
         "orientation": "v",
         "showlegend": true,
         "type": "histogram",
         "x": [
          "Noble County, OH"
         ],
         "xaxis": "x",
         "y": [
          6.956153048616885
         ],
         "yaxis": "y"
        },
        {
         "alignmentgroup": "True",
         "bingroup": "x",
         "histfunc": "sum",
         "hovertemplate": "Population=864885<br>County=%{x}<br>sum of Norm_Deaths=%{y}<extra></extra>",
         "legendgroup": "864885",
         "marker": {
          "color": "#EF553B",
          "pattern": {
           "shape": ""
          }
         },
         "name": "864885",
         "offsetgroup": "864885",
         "orientation": "v",
         "showlegend": true,
         "type": "histogram",
         "x": [
          "Ottawa County, OH"
         ],
         "xaxis": "x",
         "y": [
          10.29038542696428
         ],
         "yaxis": "y"
        },
        {
         "alignmentgroup": "True",
         "bingroup": "x",
         "histfunc": "sum",
         "hovertemplate": "Population=409864<br>County=%{x}<br>sum of Norm_Deaths=%{y}<extra></extra>",
         "legendgroup": "409864",
         "marker": {
          "color": "#00cc96",
          "pattern": {
           "shape": ""
          }
         },
         "name": "409864",
         "offsetgroup": "409864",
         "orientation": "v",
         "showlegend": true,
         "type": "histogram",
         "x": [
          "Paulding County, OH"
         ],
         "xaxis": "x",
         "y": [
          5.367634142056878
         ],
         "yaxis": "y"
        },
        {
         "alignmentgroup": "True",
         "bingroup": "x",
         "histfunc": "sum",
         "hovertemplate": "Population=745803<br>County=%{x}<br>sum of Norm_Deaths=%{y}<extra></extra>",
         "legendgroup": "745803",
         "marker": {
          "color": "#ab63fa",
          "pattern": {
           "shape": ""
          }
         },
         "name": "745803",
         "offsetgroup": "745803",
         "orientation": "v",
         "showlegend": true,
         "type": "histogram",
         "x": [
          "Perry County, OH"
         ],
         "xaxis": "x",
         "y": [
          10.190358579946714
         ],
         "yaxis": "y"
        },
        {
         "alignmentgroup": "True",
         "bingroup": "x",
         "histfunc": "sum",
         "hovertemplate": "Population=1156556<br>County=%{x}<br>sum of Norm_Deaths=%{y}<extra></extra>",
         "legendgroup": "1156556",
         "marker": {
          "color": "#FFA15A",
          "pattern": {
           "shape": ""
          }
         },
         "name": "1156556",
         "offsetgroup": "1156556",
         "orientation": "v",
         "showlegend": true,
         "type": "histogram",
         "x": [
          "Pickaway County, OH"
         ],
         "xaxis": "x",
         "y": [
          14.007103849705503
         ],
         "yaxis": "y"
        },
        {
         "alignmentgroup": "True",
         "bingroup": "x",
         "histfunc": "sum",
         "hovertemplate": "Population=593682<br>County=%{x}<br>sum of Norm_Deaths=%{y}<extra></extra>",
         "legendgroup": "593682",
         "marker": {
          "color": "#19d3f3",
          "pattern": {
           "shape": ""
          }
         },
         "name": "593682",
         "offsetgroup": "593682",
         "orientation": "v",
         "showlegend": true,
         "type": "histogram",
         "x": [
          "Pike County, OH"
         ],
         "xaxis": "x",
         "y": [
          20.886602591960006
         ],
         "yaxis": "y"
        },
        {
         "alignmentgroup": "True",
         "bingroup": "x",
         "histfunc": "sum",
         "hovertemplate": "Population=3342324<br>County=%{x}<br>sum of Norm_Deaths=%{y}<extra></extra>",
         "legendgroup": "3342324",
         "marker": {
          "color": "#FF6692",
          "pattern": {
           "shape": ""
          }
         },
         "name": "3342324",
         "offsetgroup": "3342324",
         "orientation": "v",
         "showlegend": true,
         "type": "histogram",
         "x": [
          "Portage County, OH"
         ],
         "xaxis": "x",
         "y": [
          10.531594184166467
         ],
         "yaxis": "y"
        },
        {
         "alignmentgroup": "True",
         "bingroup": "x",
         "histfunc": "sum",
         "hovertemplate": "Population=883033<br>County=%{x}<br>sum of Norm_Deaths=%{y}<extra></extra>",
         "legendgroup": "883033",
         "marker": {
          "color": "#B6E880",
          "pattern": {
           "shape": ""
          }
         },
         "name": "883033",
         "offsetgroup": "883033",
         "orientation": "v",
         "showlegend": true,
         "type": "histogram",
         "x": [
          "Preble County, OH"
         ],
         "xaxis": "x",
         "y": [
          19.25182864060573
         ],
         "yaxis": "y"
        },
        {
         "alignmentgroup": "True",
         "bingroup": "x",
         "histfunc": "sum",
         "hovertemplate": "Population=722643<br>County=%{x}<br>sum of Norm_Deaths=%{y}<extra></extra>",
         "legendgroup": "722643",
         "marker": {
          "color": "#FF97FF",
          "pattern": {
           "shape": ""
          }
         },
         "name": "722643",
         "offsetgroup": "722643",
         "orientation": "v",
         "showlegend": true,
         "type": "histogram",
         "x": [
          "Putnam County, OH"
         ],
         "xaxis": "x",
         "y": [
          3.8746656371126544
         ],
         "yaxis": "y"
        },
        {
         "alignmentgroup": "True",
         "bingroup": "x",
         "histfunc": "sum",
         "hovertemplate": "Population=2624517<br>County=%{x}<br>sum of Norm_Deaths=%{y}<extra></extra>",
         "legendgroup": "2624517",
         "marker": {
          "color": "#FECB52",
          "pattern": {
           "shape": ""
          }
         },
         "name": "2624517",
         "offsetgroup": "2624517",
         "orientation": "v",
         "showlegend": true,
         "type": "histogram",
         "x": [
          "Richland County, OH"
         ],
         "xaxis": "x",
         "y": [
          17.29842100470296
         ],
         "yaxis": "y"
        },
        {
         "alignmentgroup": "True",
         "bingroup": "x",
         "histfunc": "sum",
         "hovertemplate": "Population=1604515<br>County=%{x}<br>sum of Norm_Deaths=%{y}<extra></extra>",
         "legendgroup": "1604515",
         "marker": {
          "color": "#636efa",
          "pattern": {
           "shape": ""
          }
         },
         "name": "1604515",
         "offsetgroup": "1604515",
         "orientation": "v",
         "showlegend": true,
         "type": "histogram",
         "x": [
          "Ross County, OH"
         ],
         "xaxis": "x",
         "y": [
          23.93246557370919
         ],
         "yaxis": "y"
        },
        {
         "alignmentgroup": "True",
         "bingroup": "x",
         "histfunc": "sum",
         "hovertemplate": "Population=1276379<br>County=%{x}<br>sum of Norm_Deaths=%{y}<extra></extra>",
         "legendgroup": "1276379",
         "marker": {
          "color": "#EF553B",
          "pattern": {
           "shape": ""
          }
         },
         "name": "1276379",
         "offsetgroup": "1276379",
         "orientation": "v",
         "showlegend": true,
         "type": "histogram",
         "x": [
          "Sandusky County, OH"
         ],
         "xaxis": "x",
         "y": [
          12.84884818694134
         ],
         "yaxis": "y"
        },
        {
         "alignmentgroup": "True",
         "bingroup": "x",
         "histfunc": "sum",
         "hovertemplate": "Population=1638019<br>County=%{x}<br>sum of Norm_Deaths=%{y}<extra></extra>",
         "legendgroup": "1638019",
         "marker": {
          "color": "#00cc96",
          "pattern": {
           "shape": ""
          }
         },
         "name": "1638019",
         "offsetgroup": "1638019",
         "orientation": "v",
         "showlegend": true,
         "type": "histogram",
         "x": [
          "Scioto County, OH"
         ],
         "xaxis": "x",
         "y": [
          29.853133571710703
         ],
         "yaxis": "y"
        },
        {
         "alignmentgroup": "True",
         "bingroup": "x",
         "histfunc": "sum",
         "hovertemplate": "Population=1193830<br>County=%{x}<br>sum of Norm_Deaths=%{y}<extra></extra>",
         "legendgroup": "1193830",
         "marker": {
          "color": "#ab63fa",
          "pattern": {
           "shape": ""
          }
         },
         "name": "1193830",
         "offsetgroup": "1193830",
         "orientation": "v",
         "showlegend": true,
         "type": "histogram",
         "x": [
          "Seneca County, OH"
         ],
         "xaxis": "x",
         "y": [
          9.214042200313278
         ],
         "yaxis": "y"
        },
        {
         "alignmentgroup": "True",
         "bingroup": "x",
         "histfunc": "sum",
         "hovertemplate": "Population=1026511<br>County=%{x}<br>sum of Norm_Deaths=%{y}<extra></extra>",
         "legendgroup": "1026511",
         "marker": {
          "color": "#FFA15A",
          "pattern": {
           "shape": ""
          }
         },
         "name": "1026511",
         "offsetgroup": "1026511",
         "orientation": "v",
         "showlegend": true,
         "type": "histogram",
         "x": [
          "Shelby County, OH"
         ],
         "xaxis": "x",
         "y": [
          14.028101014017386
         ],
         "yaxis": "y"
        },
        {
         "alignmentgroup": "True",
         "bingroup": "x",
         "histfunc": "sum",
         "hovertemplate": "Population=7886530<br>County=%{x}<br>sum of Norm_Deaths=%{y}<extra></extra>",
         "legendgroup": "7886530",
         "marker": {
          "color": "#19d3f3",
          "pattern": {
           "shape": ""
          }
         },
         "name": "7886530",
         "offsetgroup": "7886530",
         "orientation": "v",
         "showlegend": true,
         "type": "histogram",
         "x": [
          "Stark County, OH"
         ],
         "xaxis": "x",
         "y": [
          10.194597624050122
         ],
         "yaxis": "y"
        },
        {
         "alignmentgroup": "True",
         "bingroup": "x",
         "histfunc": "sum",
         "hovertemplate": "Population=11396089<br>County=%{x}<br>sum of Norm_Deaths=%{y}<extra></extra>",
         "legendgroup": "11396089",
         "marker": {
          "color": "#FF6692",
          "pattern": {
           "shape": ""
          }
         },
         "name": "11396089",
         "offsetgroup": "11396089",
         "orientation": "v",
         "showlegend": true,
         "type": "histogram",
         "x": [
          "Summit County, OH"
         ],
         "xaxis": "x",
         "y": [
          16.830335389623578
         ],
         "yaxis": "y"
        },
        {
         "alignmentgroup": "True",
         "bingroup": "x",
         "histfunc": "sum",
         "hovertemplate": "Population=4451148<br>County=%{x}<br>sum of Norm_Deaths=%{y}<extra></extra>",
         "legendgroup": "4451148",
         "marker": {
          "color": "#B6E880",
          "pattern": {
           "shape": ""
          }
         },
         "name": "4451148",
         "offsetgroup": "4451148",
         "orientation": "v",
         "showlegend": true,
         "type": "histogram",
         "x": [
          "Trumbull County, OH"
         ],
         "xaxis": "x",
         "y": [
          23.5669539633371
         ],
         "yaxis": "y"
        },
        {
         "alignmentgroup": "True",
         "bingroup": "x",
         "histfunc": "sum",
         "hovertemplate": "Population=1935856<br>County=%{x}<br>sum of Norm_Deaths=%{y}<extra></extra>",
         "legendgroup": "1935856",
         "marker": {
          "color": "#FF97FF",
          "pattern": {
           "shape": ""
          }
         },
         "name": "1935856",
         "offsetgroup": "1935856",
         "orientation": "v",
         "showlegend": true,
         "type": "histogram",
         "x": [
          "Tuscarawas County, OH"
         ],
         "xaxis": "x",
         "y": [
          6.922002462993116
         ],
         "yaxis": "y"
        },
        {
         "alignmentgroup": "True",
         "bingroup": "x",
         "histfunc": "sum",
         "hovertemplate": "Population=1054183<br>County=%{x}<br>sum of Norm_Deaths=%{y}<extra></extra>",
         "legendgroup": "1054183",
         "marker": {
          "color": "#FECB52",
          "pattern": {
           "shape": ""
          }
         },
         "name": "1054183",
         "offsetgroup": "1054183",
         "orientation": "v",
         "showlegend": true,
         "type": "histogram",
         "x": [
          "Union County, OH"
         ],
         "xaxis": "x",
         "y": [
          9.391158840542866
         ],
         "yaxis": "y"
        },
        {
         "alignmentgroup": "True",
         "bingroup": "x",
         "histfunc": "sum",
         "hovertemplate": "Population=607270<br>County=%{x}<br>sum of Norm_Deaths=%{y}<extra></extra>",
         "legendgroup": "607270",
         "marker": {
          "color": "#636efa",
          "pattern": {
           "shape": ""
          }
         },
         "name": "607270",
         "offsetgroup": "607270",
         "orientation": "v",
         "showlegend": true,
         "type": "histogram",
         "x": [
          "Van Wert County, OH"
         ],
         "xaxis": "x",
         "y": [
          9.88028389349054
         ],
         "yaxis": "y"
        },
        {
         "alignmentgroup": "True",
         "bingroup": "x",
         "histfunc": "sum",
         "hovertemplate": "Population=277365<br>County=%{x}<br>sum of Norm_Deaths=%{y}<extra></extra>",
         "legendgroup": "277365",
         "marker": {
          "color": "#EF553B",
          "pattern": {
           "shape": ""
          }
         },
         "name": "277365",
         "offsetgroup": "277365",
         "orientation": "v",
         "showlegend": true,
         "type": "histogram",
         "x": [
          "Vinton County, OH"
         ],
         "xaxis": "x",
         "y": [
          15.14250175761181
         ],
         "yaxis": "y"
        },
        {
         "alignmentgroup": "True",
         "bingroup": "x",
         "histfunc": "sum",
         "hovertemplate": "Population=4278514<br>County=%{x}<br>sum of Norm_Deaths=%{y}<extra></extra>",
         "legendgroup": "4278514",
         "marker": {
          "color": "#00cc96",
          "pattern": {
           "shape": ""
          }
         },
         "name": "4278514",
         "offsetgroup": "4278514",
         "orientation": "v",
         "showlegend": true,
         "type": "histogram",
         "x": [
          "Warren County, OH"
         ],
         "xaxis": "x",
         "y": [
          13.485990696769955
         ],
         "yaxis": "y"
        },
        {
         "alignmentgroup": "True",
         "bingroup": "x",
         "histfunc": "sum",
         "hovertemplate": "Population=1298830<br>County=%{x}<br>sum of Norm_Deaths=%{y}<extra></extra>",
         "legendgroup": "1298830",
         "marker": {
          "color": "#ab63fa",
          "pattern": {
           "shape": ""
          }
         },
         "name": "1298830",
         "offsetgroup": "1298830",
         "orientation": "v",
         "showlegend": true,
         "type": "histogram",
         "x": [
          "Washington County, OH"
         ],
         "xaxis": "x",
         "y": [
          11.779832618587498
         ],
         "yaxis": "y"
        },
        {
         "alignmentgroup": "True",
         "bingroup": "x",
         "histfunc": "sum",
         "hovertemplate": "Population=2400030<br>County=%{x}<br>sum of Norm_Deaths=%{y}<extra></extra>",
         "legendgroup": "2400030",
         "marker": {
          "color": "#FFA15A",
          "pattern": {
           "shape": ""
          }
         },
         "name": "2400030",
         "offsetgroup": "2400030",
         "orientation": "v",
         "showlegend": true,
         "type": "histogram",
         "x": [
          "Wayne County, OH"
         ],
         "xaxis": "x",
         "y": [
          8.16656458460936
         ],
         "yaxis": "y"
        },
        {
         "alignmentgroup": "True",
         "bingroup": "x",
         "histfunc": "sum",
         "hovertemplate": "Population=797642<br>County=%{x}<br>sum of Norm_Deaths=%{y}<extra></extra>",
         "legendgroup": "797642",
         "marker": {
          "color": "#19d3f3",
          "pattern": {
           "shape": ""
          }
         },
         "name": "797642",
         "offsetgroup": "797642",
         "orientation": "v",
         "showlegend": true,
         "type": "histogram",
         "x": [
          "Williams County, OH"
         ],
         "xaxis": "x",
         "y": [
          6.017737280634671
         ],
         "yaxis": "y"
        },
        {
         "alignmentgroup": "True",
         "bingroup": "x",
         "histfunc": "sum",
         "hovertemplate": "Population=2649648<br>County=%{x}<br>sum of Norm_Deaths=%{y}<extra></extra>",
         "legendgroup": "2649648",
         "marker": {
          "color": "#FF6692",
          "pattern": {
           "shape": ""
          }
         },
         "name": "2649648",
         "offsetgroup": "2649648",
         "orientation": "v",
         "showlegend": true,
         "type": "histogram",
         "x": [
          "Wood County, OH"
         ],
         "xaxis": "x",
         "y": [
          7.019800365935399
         ],
         "yaxis": "y"
        },
        {
         "alignmentgroup": "True",
         "bingroup": "x",
         "histfunc": "sum",
         "hovertemplate": "Population=473497<br>County=%{x}<br>sum of Norm_Deaths=%{y}<extra></extra>",
         "legendgroup": "473497",
         "marker": {
          "color": "#B6E880",
          "pattern": {
           "shape": ""
          }
         },
         "name": "473497",
         "offsetgroup": "473497",
         "orientation": "v",
         "showlegend": true,
         "type": "histogram",
         "x": [
          "Wyandot County, OH"
         ],
         "xaxis": "x",
         "y": [
          5.913448237264439
         ],
         "yaxis": "y"
        }
       ],
       "layout": {
        "barmode": "relative",
        "legend": {
         "title": {
          "text": "Population"
         },
         "tracegroupgap": 0
        },
        "template": {
         "data": {
          "bar": [
           {
            "error_x": {
             "color": "#2a3f5f"
            },
            "error_y": {
             "color": "#2a3f5f"
            },
            "marker": {
             "line": {
              "color": "#E5ECF6",
              "width": 0.5
             },
             "pattern": {
              "fillmode": "overlay",
              "size": 10,
              "solidity": 0.2
             }
            },
            "type": "bar"
           }
          ],
          "barpolar": [
           {
            "marker": {
             "line": {
              "color": "#E5ECF6",
              "width": 0.5
             },
             "pattern": {
              "fillmode": "overlay",
              "size": 10,
              "solidity": 0.2
             }
            },
            "type": "barpolar"
           }
          ],
          "carpet": [
           {
            "aaxis": {
             "endlinecolor": "#2a3f5f",
             "gridcolor": "white",
             "linecolor": "white",
             "minorgridcolor": "white",
             "startlinecolor": "#2a3f5f"
            },
            "baxis": {
             "endlinecolor": "#2a3f5f",
             "gridcolor": "white",
             "linecolor": "white",
             "minorgridcolor": "white",
             "startlinecolor": "#2a3f5f"
            },
            "type": "carpet"
           }
          ],
          "choropleth": [
           {
            "colorbar": {
             "outlinewidth": 0,
             "ticks": ""
            },
            "type": "choropleth"
           }
          ],
          "contour": [
           {
            "colorbar": {
             "outlinewidth": 0,
             "ticks": ""
            },
            "colorscale": [
             [
              0,
              "#0d0887"
             ],
             [
              0.1111111111111111,
              "#46039f"
             ],
             [
              0.2222222222222222,
              "#7201a8"
             ],
             [
              0.3333333333333333,
              "#9c179e"
             ],
             [
              0.4444444444444444,
              "#bd3786"
             ],
             [
              0.5555555555555556,
              "#d8576b"
             ],
             [
              0.6666666666666666,
              "#ed7953"
             ],
             [
              0.7777777777777778,
              "#fb9f3a"
             ],
             [
              0.8888888888888888,
              "#fdca26"
             ],
             [
              1,
              "#f0f921"
             ]
            ],
            "type": "contour"
           }
          ],
          "contourcarpet": [
           {
            "colorbar": {
             "outlinewidth": 0,
             "ticks": ""
            },
            "type": "contourcarpet"
           }
          ],
          "heatmap": [
           {
            "colorbar": {
             "outlinewidth": 0,
             "ticks": ""
            },
            "colorscale": [
             [
              0,
              "#0d0887"
             ],
             [
              0.1111111111111111,
              "#46039f"
             ],
             [
              0.2222222222222222,
              "#7201a8"
             ],
             [
              0.3333333333333333,
              "#9c179e"
             ],
             [
              0.4444444444444444,
              "#bd3786"
             ],
             [
              0.5555555555555556,
              "#d8576b"
             ],
             [
              0.6666666666666666,
              "#ed7953"
             ],
             [
              0.7777777777777778,
              "#fb9f3a"
             ],
             [
              0.8888888888888888,
              "#fdca26"
             ],
             [
              1,
              "#f0f921"
             ]
            ],
            "type": "heatmap"
           }
          ],
          "heatmapgl": [
           {
            "colorbar": {
             "outlinewidth": 0,
             "ticks": ""
            },
            "colorscale": [
             [
              0,
              "#0d0887"
             ],
             [
              0.1111111111111111,
              "#46039f"
             ],
             [
              0.2222222222222222,
              "#7201a8"
             ],
             [
              0.3333333333333333,
              "#9c179e"
             ],
             [
              0.4444444444444444,
              "#bd3786"
             ],
             [
              0.5555555555555556,
              "#d8576b"
             ],
             [
              0.6666666666666666,
              "#ed7953"
             ],
             [
              0.7777777777777778,
              "#fb9f3a"
             ],
             [
              0.8888888888888888,
              "#fdca26"
             ],
             [
              1,
              "#f0f921"
             ]
            ],
            "type": "heatmapgl"
           }
          ],
          "histogram": [
           {
            "marker": {
             "pattern": {
              "fillmode": "overlay",
              "size": 10,
              "solidity": 0.2
             }
            },
            "type": "histogram"
           }
          ],
          "histogram2d": [
           {
            "colorbar": {
             "outlinewidth": 0,
             "ticks": ""
            },
            "colorscale": [
             [
              0,
              "#0d0887"
             ],
             [
              0.1111111111111111,
              "#46039f"
             ],
             [
              0.2222222222222222,
              "#7201a8"
             ],
             [
              0.3333333333333333,
              "#9c179e"
             ],
             [
              0.4444444444444444,
              "#bd3786"
             ],
             [
              0.5555555555555556,
              "#d8576b"
             ],
             [
              0.6666666666666666,
              "#ed7953"
             ],
             [
              0.7777777777777778,
              "#fb9f3a"
             ],
             [
              0.8888888888888888,
              "#fdca26"
             ],
             [
              1,
              "#f0f921"
             ]
            ],
            "type": "histogram2d"
           }
          ],
          "histogram2dcontour": [
           {
            "colorbar": {
             "outlinewidth": 0,
             "ticks": ""
            },
            "colorscale": [
             [
              0,
              "#0d0887"
             ],
             [
              0.1111111111111111,
              "#46039f"
             ],
             [
              0.2222222222222222,
              "#7201a8"
             ],
             [
              0.3333333333333333,
              "#9c179e"
             ],
             [
              0.4444444444444444,
              "#bd3786"
             ],
             [
              0.5555555555555556,
              "#d8576b"
             ],
             [
              0.6666666666666666,
              "#ed7953"
             ],
             [
              0.7777777777777778,
              "#fb9f3a"
             ],
             [
              0.8888888888888888,
              "#fdca26"
             ],
             [
              1,
              "#f0f921"
             ]
            ],
            "type": "histogram2dcontour"
           }
          ],
          "mesh3d": [
           {
            "colorbar": {
             "outlinewidth": 0,
             "ticks": ""
            },
            "type": "mesh3d"
           }
          ],
          "parcoords": [
           {
            "line": {
             "colorbar": {
              "outlinewidth": 0,
              "ticks": ""
             }
            },
            "type": "parcoords"
           }
          ],
          "pie": [
           {
            "automargin": true,
            "type": "pie"
           }
          ],
          "scatter": [
           {
            "marker": {
             "colorbar": {
              "outlinewidth": 0,
              "ticks": ""
             }
            },
            "type": "scatter"
           }
          ],
          "scatter3d": [
           {
            "line": {
             "colorbar": {
              "outlinewidth": 0,
              "ticks": ""
             }
            },
            "marker": {
             "colorbar": {
              "outlinewidth": 0,
              "ticks": ""
             }
            },
            "type": "scatter3d"
           }
          ],
          "scattercarpet": [
           {
            "marker": {
             "colorbar": {
              "outlinewidth": 0,
              "ticks": ""
             }
            },
            "type": "scattercarpet"
           }
          ],
          "scattergeo": [
           {
            "marker": {
             "colorbar": {
              "outlinewidth": 0,
              "ticks": ""
             }
            },
            "type": "scattergeo"
           }
          ],
          "scattergl": [
           {
            "marker": {
             "colorbar": {
              "outlinewidth": 0,
              "ticks": ""
             }
            },
            "type": "scattergl"
           }
          ],
          "scattermapbox": [
           {
            "marker": {
             "colorbar": {
              "outlinewidth": 0,
              "ticks": ""
             }
            },
            "type": "scattermapbox"
           }
          ],
          "scatterpolar": [
           {
            "marker": {
             "colorbar": {
              "outlinewidth": 0,
              "ticks": ""
             }
            },
            "type": "scatterpolar"
           }
          ],
          "scatterpolargl": [
           {
            "marker": {
             "colorbar": {
              "outlinewidth": 0,
              "ticks": ""
             }
            },
            "type": "scatterpolargl"
           }
          ],
          "scatterternary": [
           {
            "marker": {
             "colorbar": {
              "outlinewidth": 0,
              "ticks": ""
             }
            },
            "type": "scatterternary"
           }
          ],
          "surface": [
           {
            "colorbar": {
             "outlinewidth": 0,
             "ticks": ""
            },
            "colorscale": [
             [
              0,
              "#0d0887"
             ],
             [
              0.1111111111111111,
              "#46039f"
             ],
             [
              0.2222222222222222,
              "#7201a8"
             ],
             [
              0.3333333333333333,
              "#9c179e"
             ],
             [
              0.4444444444444444,
              "#bd3786"
             ],
             [
              0.5555555555555556,
              "#d8576b"
             ],
             [
              0.6666666666666666,
              "#ed7953"
             ],
             [
              0.7777777777777778,
              "#fb9f3a"
             ],
             [
              0.8888888888888888,
              "#fdca26"
             ],
             [
              1,
              "#f0f921"
             ]
            ],
            "type": "surface"
           }
          ],
          "table": [
           {
            "cells": {
             "fill": {
              "color": "#EBF0F8"
             },
             "line": {
              "color": "white"
             }
            },
            "header": {
             "fill": {
              "color": "#C8D4E3"
             },
             "line": {
              "color": "white"
             }
            },
            "type": "table"
           }
          ]
         },
         "layout": {
          "annotationdefaults": {
           "arrowcolor": "#2a3f5f",
           "arrowhead": 0,
           "arrowwidth": 1
          },
          "autotypenumbers": "strict",
          "coloraxis": {
           "colorbar": {
            "outlinewidth": 0,
            "ticks": ""
           }
          },
          "colorscale": {
           "diverging": [
            [
             0,
             "#8e0152"
            ],
            [
             0.1,
             "#c51b7d"
            ],
            [
             0.2,
             "#de77ae"
            ],
            [
             0.3,
             "#f1b6da"
            ],
            [
             0.4,
             "#fde0ef"
            ],
            [
             0.5,
             "#f7f7f7"
            ],
            [
             0.6,
             "#e6f5d0"
            ],
            [
             0.7,
             "#b8e186"
            ],
            [
             0.8,
             "#7fbc41"
            ],
            [
             0.9,
             "#4d9221"
            ],
            [
             1,
             "#276419"
            ]
           ],
           "sequential": [
            [
             0,
             "#0d0887"
            ],
            [
             0.1111111111111111,
             "#46039f"
            ],
            [
             0.2222222222222222,
             "#7201a8"
            ],
            [
             0.3333333333333333,
             "#9c179e"
            ],
            [
             0.4444444444444444,
             "#bd3786"
            ],
            [
             0.5555555555555556,
             "#d8576b"
            ],
            [
             0.6666666666666666,
             "#ed7953"
            ],
            [
             0.7777777777777778,
             "#fb9f3a"
            ],
            [
             0.8888888888888888,
             "#fdca26"
            ],
            [
             1,
             "#f0f921"
            ]
           ],
           "sequentialminus": [
            [
             0,
             "#0d0887"
            ],
            [
             0.1111111111111111,
             "#46039f"
            ],
            [
             0.2222222222222222,
             "#7201a8"
            ],
            [
             0.3333333333333333,
             "#9c179e"
            ],
            [
             0.4444444444444444,
             "#bd3786"
            ],
            [
             0.5555555555555556,
             "#d8576b"
            ],
            [
             0.6666666666666666,
             "#ed7953"
            ],
            [
             0.7777777777777778,
             "#fb9f3a"
            ],
            [
             0.8888888888888888,
             "#fdca26"
            ],
            [
             1,
             "#f0f921"
            ]
           ]
          },
          "colorway": [
           "#636efa",
           "#EF553B",
           "#00cc96",
           "#ab63fa",
           "#FFA15A",
           "#19d3f3",
           "#FF6692",
           "#B6E880",
           "#FF97FF",
           "#FECB52"
          ],
          "font": {
           "color": "#2a3f5f"
          },
          "geo": {
           "bgcolor": "white",
           "lakecolor": "white",
           "landcolor": "#E5ECF6",
           "showlakes": true,
           "showland": true,
           "subunitcolor": "white"
          },
          "hoverlabel": {
           "align": "left"
          },
          "hovermode": "closest",
          "mapbox": {
           "style": "light"
          },
          "paper_bgcolor": "white",
          "plot_bgcolor": "#E5ECF6",
          "polar": {
           "angularaxis": {
            "gridcolor": "white",
            "linecolor": "white",
            "ticks": ""
           },
           "bgcolor": "#E5ECF6",
           "radialaxis": {
            "gridcolor": "white",
            "linecolor": "white",
            "ticks": ""
           }
          },
          "scene": {
           "xaxis": {
            "backgroundcolor": "#E5ECF6",
            "gridcolor": "white",
            "gridwidth": 2,
            "linecolor": "white",
            "showbackground": true,
            "ticks": "",
            "zerolinecolor": "white"
           },
           "yaxis": {
            "backgroundcolor": "#E5ECF6",
            "gridcolor": "white",
            "gridwidth": 2,
            "linecolor": "white",
            "showbackground": true,
            "ticks": "",
            "zerolinecolor": "white"
           },
           "zaxis": {
            "backgroundcolor": "#E5ECF6",
            "gridcolor": "white",
            "gridwidth": 2,
            "linecolor": "white",
            "showbackground": true,
            "ticks": "",
            "zerolinecolor": "white"
           }
          },
          "shapedefaults": {
           "line": {
            "color": "#2a3f5f"
           }
          },
          "ternary": {
           "aaxis": {
            "gridcolor": "white",
            "linecolor": "white",
            "ticks": ""
           },
           "baxis": {
            "gridcolor": "white",
            "linecolor": "white",
            "ticks": ""
           },
           "bgcolor": "#E5ECF6",
           "caxis": {
            "gridcolor": "white",
            "linecolor": "white",
            "ticks": ""
           }
          },
          "title": {
           "x": 0.05
          },
          "xaxis": {
           "automargin": true,
           "gridcolor": "white",
           "linecolor": "white",
           "ticks": "",
           "title": {
            "standoff": 15
           },
           "zerolinecolor": "white",
           "zerolinewidth": 2
          },
          "yaxis": {
           "automargin": true,
           "gridcolor": "white",
           "linecolor": "white",
           "ticks": "",
           "title": {
            "standoff": 15
           },
           "zerolinecolor": "white",
           "zerolinewidth": 2
          }
         }
        },
        "title": {
         "text": "Opiod Mortality rate in\tOH"
        },
        "xaxis": {
         "anchor": "y",
         "domain": [
          0,
          1
         ],
         "title": {
          "text": "County"
         }
        },
        "yaxis": {
         "anchor": "x",
         "domain": [
          0,
          1
         ],
         "title": {
          "text": "sum of Norm_Deaths"
         }
        }
       }
      },
      "text/html": [
       "<div>                            <div id=\"419f7eac-99af-4511-96e6-cc5bd87b32ac\" class=\"plotly-graph-div\" style=\"height:525px; width:100%;\"></div>            <script type=\"text/javascript\">                require([\"plotly\"], function(Plotly) {                    window.PLOTLYENV=window.PLOTLYENV || {};                                    if (document.getElementById(\"419f7eac-99af-4511-96e6-cc5bd87b32ac\")) {                    Plotly.newPlot(                        \"419f7eac-99af-4511-96e6-cc5bd87b32ac\",                        [{\"alignmentgroup\":\"True\",\"bingroup\":\"x\",\"histfunc\":\"sum\",\"hovertemplate\":\"Population=590060<br>County=%{x}<br>sum of Norm_Deaths=%{y}<extra></extra>\",\"legendgroup\":\"590060\",\"marker\":{\"color\":\"#636efa\",\"pattern\":{\"shape\":\"\"}},\"name\":\"590060\",\"offsetgroup\":\"590060\",\"orientation\":\"v\",\"showlegend\":true,\"x\":[\"Adams County, OH\"],\"xaxis\":\"x\",\"y\":[23.72640070501305],\"yaxis\":\"y\",\"type\":\"histogram\"},{\"alignmentgroup\":\"True\",\"bingroup\":\"x\",\"histfunc\":\"sum\",\"hovertemplate\":\"Population=2225818<br>County=%{x}<br>sum of Norm_Deaths=%{y}<extra></extra>\",\"legendgroup\":\"2225818\",\"marker\":{\"color\":\"#EF553B\",\"pattern\":{\"shape\":\"\"}},\"name\":\"2225818\",\"offsetgroup\":\"2225818\",\"orientation\":\"v\",\"showlegend\":true,\"x\":[\"Allen County, OH\"],\"xaxis\":\"x\",\"y\":[9.075315232422417],\"yaxis\":\"y\",\"type\":\"histogram\"},{\"alignmentgroup\":\"True\",\"bingroup\":\"x\",\"histfunc\":\"sum\",\"hovertemplate\":\"Population=1115509<br>County=%{x}<br>sum of Norm_Deaths=%{y}<extra></extra>\",\"legendgroup\":\"1115509\",\"marker\":{\"color\":\"#00cc96\",\"pattern\":{\"shape\":\"\"}},\"name\":\"1115509\",\"offsetgroup\":\"1115509\",\"orientation\":\"v\",\"showlegend\":true,\"x\":[\"Ashland County, OH\"],\"xaxis\":\"x\",\"y\":[3.944387718969547],\"yaxis\":\"y\",\"type\":\"histogram\"},{\"alignmentgroup\":\"True\",\"bingroup\":\"x\",\"histfunc\":\"sum\",\"hovertemplate\":\"Population=2118031<br>County=%{x}<br>sum of Norm_Deaths=%{y}<extra></extra>\",\"legendgroup\":\"2118031\",\"marker\":{\"color\":\"#ab63fa\",\"pattern\":{\"shape\":\"\"}},\"name\":\"2118031\",\"offsetgroup\":\"2118031\",\"orientation\":\"v\",\"showlegend\":true,\"x\":[\"Ashtabula County, OH\"],\"xaxis\":\"x\",\"y\":[14.0696713126484],\"yaxis\":\"y\",\"type\":\"histogram\"},{\"alignmentgroup\":\"True\",\"bingroup\":\"x\",\"histfunc\":\"sum\",\"hovertemplate\":\"Population=1352150<br>County=%{x}<br>sum of Norm_Deaths=%{y}<extra></extra>\",\"legendgroup\":\"1352150\",\"marker\":{\"color\":\"#FFA15A\",\"pattern\":{\"shape\":\"\"}},\"name\":\"1352150\",\"offsetgroup\":\"1352150\",\"orientation\":\"v\",\"showlegend\":true,\"x\":[\"Athens County, OH\"],\"xaxis\":\"x\",\"y\":[10.205968272750804],\"yaxis\":\"y\",\"type\":\"histogram\"},{\"alignmentgroup\":\"True\",\"bingroup\":\"x\",\"histfunc\":\"sum\",\"hovertemplate\":\"Population=965885<br>County=%{x}<br>sum of Norm_Deaths=%{y}<extra></extra>\",\"legendgroup\":\"965885\",\"marker\":{\"color\":\"#19d3f3\",\"pattern\":{\"shape\":\"\"}},\"name\":\"965885\",\"offsetgroup\":\"965885\",\"orientation\":\"v\",\"showlegend\":true,\"x\":[\"Auglaize County, OH\"],\"xaxis\":\"x\",\"y\":[5.797791662568525],\"yaxis\":\"y\",\"type\":\"histogram\"},{\"alignmentgroup\":\"True\",\"bingroup\":\"x\",\"histfunc\":\"sum\",\"hovertemplate\":\"Population=1462985<br>County=%{x}<br>sum of Norm_Deaths=%{y}<extra></extra>\",\"legendgroup\":\"1462985\",\"marker\":{\"color\":\"#FF6692\",\"pattern\":{\"shape\":\"\"}},\"name\":\"1462985\",\"offsetgroup\":\"1462985\",\"orientation\":\"v\",\"showlegend\":true,\"x\":[\"Belmont County, OH\"],\"xaxis\":\"x\",\"y\":[12.098551933205057],\"yaxis\":\"y\",\"type\":\"histogram\"},{\"alignmentgroup\":\"True\",\"bingroup\":\"x\",\"histfunc\":\"sum\",\"hovertemplate\":\"Population=920720<br>County=%{x}<br>sum of Norm_Deaths=%{y}<extra></extra>\",\"legendgroup\":\"920720\",\"marker\":{\"color\":\"#B6E880\",\"pattern\":{\"shape\":\"\"}},\"name\":\"920720\",\"offsetgroup\":\"920720\",\"orientation\":\"v\",\"showlegend\":true,\"x\":[\"Brown County, OH\"],\"xaxis\":\"x\",\"y\":[26.3923885654705],\"yaxis\":\"y\",\"type\":\"histogram\"},{\"alignmentgroup\":\"True\",\"bingroup\":\"x\",\"histfunc\":\"sum\",\"hovertemplate\":\"Population=7583009<br>County=%{x}<br>sum of Norm_Deaths=%{y}<extra></extra>\",\"legendgroup\":\"7583009\",\"marker\":{\"color\":\"#FF97FF\",\"pattern\":{\"shape\":\"\"}},\"name\":\"7583009\",\"offsetgroup\":\"7583009\",\"orientation\":\"v\",\"showlegend\":true,\"x\":[\"Butler County, OH\"],\"xaxis\":\"x\",\"y\":[24.172462409051604],\"yaxis\":\"y\",\"type\":\"histogram\"},{\"alignmentgroup\":\"True\",\"bingroup\":\"x\",\"histfunc\":\"sum\",\"hovertemplate\":\"Population=599140<br>County=%{x}<br>sum of Norm_Deaths=%{y}<extra></extra>\",\"legendgroup\":\"599140\",\"marker\":{\"color\":\"#FECB52\",\"pattern\":{\"shape\":\"\"}},\"name\":\"599140\",\"offsetgroup\":\"599140\",\"orientation\":\"v\",\"showlegend\":true,\"x\":[\"Carroll County, OH\"],\"xaxis\":\"x\",\"y\":[8.011483125813667],\"yaxis\":\"y\",\"type\":\"histogram\"},{\"alignmentgroup\":\"True\",\"bingroup\":\"x\",\"histfunc\":\"sum\",\"hovertemplate\":\"Population=827364<br>County=%{x}<br>sum of Norm_Deaths=%{y}<extra></extra>\",\"legendgroup\":\"827364\",\"marker\":{\"color\":\"#636efa\",\"pattern\":{\"shape\":\"\"}},\"name\":\"827364\",\"offsetgroup\":\"827364\",\"orientation\":\"v\",\"showlegend\":true,\"x\":[\"Champaign County, OH\"],\"xaxis\":\"x\",\"y\":[12.570041722869256],\"yaxis\":\"y\",\"type\":\"histogram\"},{\"alignmentgroup\":\"True\",\"bingroup\":\"x\",\"histfunc\":\"sum\",\"hovertemplate\":\"Population=2920038<br>County=%{x}<br>sum of Norm_Deaths=%{y}<extra></extra>\",\"legendgroup\":\"2920038\",\"marker\":{\"color\":\"#EF553B\",\"pattern\":{\"shape\":\"\"}},\"name\":\"2920038\",\"offsetgroup\":\"2920038\",\"orientation\":\"v\",\"showlegend\":true,\"x\":[\"Clark County, OH\"],\"xaxis\":\"x\",\"y\":[22.91066075167515],\"yaxis\":\"y\",\"type\":\"histogram\"},{\"alignmentgroup\":\"True\",\"bingroup\":\"x\",\"histfunc\":\"sum\",\"hovertemplate\":\"Population=4074993<br>County=%{x}<br>sum of Norm_Deaths=%{y}<extra></extra>\",\"legendgroup\":\"4074993\",\"marker\":{\"color\":\"#00cc96\",\"pattern\":{\"shape\":\"\"}},\"name\":\"4074993\",\"offsetgroup\":\"4074993\",\"orientation\":\"v\",\"showlegend\":true,\"x\":[\"Clermont County, OH\"],\"xaxis\":\"x\",\"y\":[23.28838356286747],\"yaxis\":\"y\",\"type\":\"histogram\"},{\"alignmentgroup\":\"True\",\"bingroup\":\"x\",\"histfunc\":\"sum\",\"hovertemplate\":\"Population=876683<br>County=%{x}<br>sum of Norm_Deaths=%{y}<extra></extra>\",\"legendgroup\":\"876683\",\"marker\":{\"color\":\"#ab63fa\",\"pattern\":{\"shape\":\"\"}},\"name\":\"876683\",\"offsetgroup\":\"876683\",\"orientation\":\"v\",\"showlegend\":true,\"x\":[\"Clinton County, OH\"],\"xaxis\":\"x\",\"y\":[23.269528438443544],\"yaxis\":\"y\",\"type\":\"histogram\"},{\"alignmentgroup\":\"True\",\"bingroup\":\"x\",\"histfunc\":\"sum\",\"hovertemplate\":\"Population=2262960<br>County=%{x}<br>sum of Norm_Deaths=%{y}<extra></extra>\",\"legendgroup\":\"2262960\",\"marker\":{\"color\":\"#FFA15A\",\"pattern\":{\"shape\":\"\"}},\"name\":\"2262960\",\"offsetgroup\":\"2262960\",\"orientation\":\"v\",\"showlegend\":true,\"x\":[\"Columbiana County, OH\"],\"xaxis\":\"x\",\"y\":[14.450100752996077],\"yaxis\":\"y\",\"type\":\"histogram\"},{\"alignmentgroup\":\"True\",\"bingroup\":\"x\",\"histfunc\":\"sum\",\"hovertemplate\":\"Population=774586<br>County=%{x}<br>sum of Norm_Deaths=%{y}<extra></extra>\",\"legendgroup\":\"774586\",\"marker\":{\"color\":\"#19d3f3\",\"pattern\":{\"shape\":\"\"}},\"name\":\"774586\",\"offsetgroup\":\"774586\",\"orientation\":\"v\",\"showlegend\":true,\"x\":[\"Coshocton County, OH\"],\"xaxis\":\"x\",\"y\":[7.358769716984298],\"yaxis\":\"y\",\"type\":\"histogram\"},{\"alignmentgroup\":\"True\",\"bingroup\":\"x\",\"histfunc\":\"sum\",\"hovertemplate\":\"Population=926408<br>County=%{x}<br>sum of Norm_Deaths=%{y}<extra></extra>\",\"legendgroup\":\"926408\",\"marker\":{\"color\":\"#FF6692\",\"pattern\":{\"shape\":\"\"}},\"name\":\"926408\",\"offsetgroup\":\"926408\",\"orientation\":\"v\",\"showlegend\":true,\"x\":[\"Crawford County, OH\"],\"xaxis\":\"x\",\"y\":[15.435963420005008],\"yaxis\":\"y\",\"type\":\"histogram\"},{\"alignmentgroup\":\"True\",\"bingroup\":\"x\",\"histfunc\":\"sum\",\"hovertemplate\":\"Population=27347140<br>County=%{x}<br>sum of Norm_Deaths=%{y}<extra></extra>\",\"legendgroup\":\"27347140\",\"marker\":{\"color\":\"#B6E880\",\"pattern\":{\"shape\":\"\"}},\"name\":\"27347140\",\"offsetgroup\":\"27347140\",\"orientation\":\"v\",\"showlegend\":true,\"x\":[\"Cuyahoga County, OH\"],\"xaxis\":\"x\",\"y\":[17.20106746080212],\"yaxis\":\"y\",\"type\":\"histogram\"},{\"alignmentgroup\":\"True\",\"bingroup\":\"x\",\"histfunc\":\"sum\",\"hovertemplate\":\"Population=1104861<br>County=%{x}<br>sum of Norm_Deaths=%{y}<extra></extra>\",\"legendgroup\":\"1104861\",\"marker\":{\"color\":\"#FF97FF\",\"pattern\":{\"shape\":\"\"}},\"name\":\"1104861\",\"offsetgroup\":\"1104861\",\"orientation\":\"v\",\"showlegend\":true,\"x\":[\"Darke County, OH\"],\"xaxis\":\"x\",\"y\":[14.9340052730615],\"yaxis\":\"y\",\"type\":\"histogram\"},{\"alignmentgroup\":\"True\",\"bingroup\":\"x\",\"histfunc\":\"sum\",\"hovertemplate\":\"Population=816489<br>County=%{x}<br>sum of Norm_Deaths=%{y}<extra></extra>\",\"legendgroup\":\"816489\",\"marker\":{\"color\":\"#FECB52\",\"pattern\":{\"shape\":\"\"}},\"name\":\"816489\",\"offsetgroup\":\"816489\",\"orientation\":\"v\",\"showlegend\":true,\"x\":[\"Defiance County, OH\"],\"xaxis\":\"x\",\"y\":[7.960915578776934],\"yaxis\":\"y\",\"type\":\"histogram\"},{\"alignmentgroup\":\"True\",\"bingroup\":\"x\",\"histfunc\":\"sum\",\"hovertemplate\":\"Population=3451607<br>County=%{x}<br>sum of Norm_Deaths=%{y}<extra></extra>\",\"legendgroup\":\"3451607\",\"marker\":{\"color\":\"#636efa\",\"pattern\":{\"shape\":\"\"}},\"name\":\"3451607\",\"offsetgroup\":\"3451607\",\"orientation\":\"v\",\"showlegend\":true,\"x\":[\"Delaware County, OH\"],\"xaxis\":\"x\",\"y\":[6.60561877409566],\"yaxis\":\"y\",\"type\":\"histogram\"},{\"alignmentgroup\":\"True\",\"bingroup\":\"x\",\"histfunc\":\"sum\",\"hovertemplate\":\"Population=1619134<br>County=%{x}<br>sum of Norm_Deaths=%{y}<extra></extra>\",\"legendgroup\":\"1619134\",\"marker\":{\"color\":\"#EF553B\",\"pattern\":{\"shape\":\"\"}},\"name\":\"1619134\",\"offsetgroup\":\"1619134\",\"orientation\":\"v\",\"showlegend\":true,\"x\":[\"Erie County, OH\"],\"xaxis\":\"x\",\"y\":[14.884499985794877],\"yaxis\":\"y\",\"type\":\"histogram\"},{\"alignmentgroup\":\"True\",\"bingroup\":\"x\",\"histfunc\":\"sum\",\"hovertemplate\":\"Population=2992812<br>County=%{x}<br>sum of Norm_Deaths=%{y}<extra></extra>\",\"legendgroup\":\"2992812\",\"marker\":{\"color\":\"#00cc96\",\"pattern\":{\"shape\":\"\"}},\"name\":\"2992812\",\"offsetgroup\":\"2992812\",\"orientation\":\"v\",\"showlegend\":true,\"x\":[\"Fairfield County, OH\"],\"xaxis\":\"x\",\"y\":[9.288922925997356],\"yaxis\":\"y\",\"type\":\"histogram\"},{\"alignmentgroup\":\"True\",\"bingroup\":\"x\",\"histfunc\":\"sum\",\"hovertemplate\":\"Population=602465<br>County=%{x}<br>sum of Norm_Deaths=%{y}<extra></extra>\",\"legendgroup\":\"602465\",\"marker\":{\"color\":\"#ab63fa\",\"pattern\":{\"shape\":\"\"}},\"name\":\"602465\",\"offsetgroup\":\"602465\",\"orientation\":\"v\",\"showlegend\":true,\"x\":[\"Fayette County, OH\"],\"xaxis\":\"x\",\"y\":[20.08415426622293],\"yaxis\":\"y\",\"type\":\"histogram\"},{\"alignmentgroup\":\"True\",\"bingroup\":\"x\",\"histfunc\":\"sum\",\"hovertemplate\":\"Population=24558554<br>County=%{x}<br>sum of Norm_Deaths=%{y}<extra></extra>\",\"legendgroup\":\"24558554\",\"marker\":{\"color\":\"#FFA15A\",\"pattern\":{\"shape\":\"\"}},\"name\":\"24558554\",\"offsetgroup\":\"24558554\",\"orientation\":\"v\",\"showlegend\":true,\"x\":[\"Franklin County, OH\"],\"xaxis\":\"x\",\"y\":[16.743656813019204],\"yaxis\":\"y\",\"type\":\"histogram\"},{\"alignmentgroup\":\"True\",\"bingroup\":\"x\",\"histfunc\":\"sum\",\"hovertemplate\":\"Population=892234<br>County=%{x}<br>sum of Norm_Deaths=%{y}<extra></extra>\",\"legendgroup\":\"892234\",\"marker\":{\"color\":\"#19d3f3\",\"pattern\":{\"shape\":\"\"}},\"name\":\"892234\",\"offsetgroup\":\"892234\",\"orientation\":\"v\",\"showlegend\":true,\"x\":[\"Fulton County, OH\"],\"xaxis\":\"x\",\"y\":[7.733397292638479],\"yaxis\":\"y\",\"type\":\"histogram\"},{\"alignmentgroup\":\"True\",\"bingroup\":\"x\",\"histfunc\":\"sum\",\"hovertemplate\":\"Population=644837<br>County=%{x}<br>sum of Norm_Deaths=%{y}<extra></extra>\",\"legendgroup\":\"644837\",\"marker\":{\"color\":\"#FF6692\",\"pattern\":{\"shape\":\"\"}},\"name\":\"644837\",\"offsetgroup\":\"644837\",\"orientation\":\"v\",\"showlegend\":true,\"x\":[\"Gallia County, OH\"],\"xaxis\":\"x\",\"y\":[20.1601334910993],\"yaxis\":\"y\",\"type\":\"histogram\"},{\"alignmentgroup\":\"True\",\"bingroup\":\"x\",\"histfunc\":\"sum\",\"hovertemplate\":\"Population=1957187<br>County=%{x}<br>sum of Norm_Deaths=%{y}<extra></extra>\",\"legendgroup\":\"1957187\",\"marker\":{\"color\":\"#B6E880\",\"pattern\":{\"shape\":\"\"}},\"name\":\"1957187\",\"offsetgroup\":\"1957187\",\"orientation\":\"v\",\"showlegend\":true,\"x\":[\"Geauga County, OH\"],\"xaxis\":\"x\",\"y\":[8.634841739700908],\"yaxis\":\"y\",\"type\":\"histogram\"},{\"alignmentgroup\":\"True\",\"bingroup\":\"x\",\"histfunc\":\"sum\",\"hovertemplate\":\"Population=3347275<br>County=%{x}<br>sum of Norm_Deaths=%{y}<extra></extra>\",\"legendgroup\":\"3347275\",\"marker\":{\"color\":\"#FF97FF\",\"pattern\":{\"shape\":\"\"}},\"name\":\"3347275\",\"offsetgroup\":\"3347275\",\"orientation\":\"v\",\"showlegend\":true,\"x\":[\"Greene County, OH\"],\"xaxis\":\"x\",\"y\":[16.401401139733068],\"yaxis\":\"y\",\"type\":\"histogram\"},{\"alignmentgroup\":\"True\",\"bingroup\":\"x\",\"histfunc\":\"sum\",\"hovertemplate\":\"Population=842340<br>County=%{x}<br>sum of Norm_Deaths=%{y}<extra></extra>\",\"legendgroup\":\"842340\",\"marker\":{\"color\":\"#FECB52\",\"pattern\":{\"shape\":\"\"}},\"name\":\"842340\",\"offsetgroup\":\"842340\",\"orientation\":\"v\",\"showlegend\":true,\"x\":[\"Guernsey County, OH\"],\"xaxis\":\"x\",\"y\":[12.583992212170857],\"yaxis\":\"y\",\"type\":\"histogram\"},{\"alignmentgroup\":\"True\",\"bingroup\":\"x\",\"histfunc\":\"sum\",\"hovertemplate\":\"Population=17110060<br>County=%{x}<br>sum of Norm_Deaths=%{y}<extra></extra>\",\"legendgroup\":\"17110060\",\"marker\":{\"color\":\"#636efa\",\"pattern\":{\"shape\":\"\"}},\"name\":\"17110060\",\"offsetgroup\":\"17110060\",\"orientation\":\"v\",\"showlegend\":true,\"x\":[\"Hamilton County, OH\"],\"xaxis\":\"x\",\"y\":[20.23955497526017],\"yaxis\":\"y\",\"type\":\"histogram\"},{\"alignmentgroup\":\"True\",\"bingroup\":\"x\",\"histfunc\":\"sum\",\"hovertemplate\":\"Population=1561293<br>County=%{x}<br>sum of Norm_Deaths=%{y}<extra></extra>\",\"legendgroup\":\"1561293\",\"marker\":{\"color\":\"#EF553B\",\"pattern\":{\"shape\":\"\"}},\"name\":\"1561293\",\"offsetgroup\":\"1561293\",\"orientation\":\"v\",\"showlegend\":true,\"x\":[\"Hancock County, OH\"],\"xaxis\":\"x\",\"y\":[10.63221317203113],\"yaxis\":\"y\",\"type\":\"histogram\"},{\"alignmentgroup\":\"True\",\"bingroup\":\"x\",\"histfunc\":\"sum\",\"hovertemplate\":\"Population=668262<br>County=%{x}<br>sum of Norm_Deaths=%{y}<extra></extra>\",\"legendgroup\":\"668262\",\"marker\":{\"color\":\"#00cc96\",\"pattern\":{\"shape\":\"\"}},\"name\":\"668262\",\"offsetgroup\":\"668262\",\"orientation\":\"v\",\"showlegend\":true,\"x\":[\"Hardin County, OH\"],\"xaxis\":\"x\",\"y\":[14.664906877841325],\"yaxis\":\"y\",\"type\":\"histogram\"},{\"alignmentgroup\":\"True\",\"bingroup\":\"x\",\"histfunc\":\"sum\",\"hovertemplate\":\"Population=329464<br>County=%{x}<br>sum of Norm_Deaths=%{y}<extra></extra>\",\"legendgroup\":\"329464\",\"marker\":{\"color\":\"#ab63fa\",\"pattern\":{\"shape\":\"\"}},\"name\":\"329464\",\"offsetgroup\":\"329464\",\"orientation\":\"v\",\"showlegend\":true,\"x\":[\"Harrison County, OH\"],\"xaxis\":\"x\",\"y\":[8.1951290581065],\"yaxis\":\"y\",\"type\":\"histogram\"},{\"alignmentgroup\":\"True\",\"bingroup\":\"x\",\"histfunc\":\"sum\",\"hovertemplate\":\"Population=595334<br>County=%{x}<br>sum of Norm_Deaths=%{y}<extra></extra>\",\"legendgroup\":\"595334\",\"marker\":{\"color\":\"#FFA15A\",\"pattern\":{\"shape\":\"\"}},\"name\":\"595334\",\"offsetgroup\":\"595334\",\"orientation\":\"v\",\"showlegend\":true,\"x\":[\"Henry County, OH\"],\"xaxis\":\"x\",\"y\":[7.390809192822852],\"yaxis\":\"y\",\"type\":\"histogram\"},{\"alignmentgroup\":\"True\",\"bingroup\":\"x\",\"histfunc\":\"sum\",\"hovertemplate\":\"Population=899034<br>County=%{x}<br>sum of Norm_Deaths=%{y}<extra></extra>\",\"legendgroup\":\"899034\",\"marker\":{\"color\":\"#19d3f3\",\"pattern\":{\"shape\":\"\"}},\"name\":\"899034\",\"offsetgroup\":\"899034\",\"orientation\":\"v\",\"showlegend\":true,\"x\":[\"Highland County, OH\"],\"xaxis\":\"x\",\"y\":[12.569046331951851],\"yaxis\":\"y\",\"type\":\"histogram\"},{\"alignmentgroup\":\"True\",\"bingroup\":\"x\",\"histfunc\":\"sum\",\"hovertemplate\":\"Population=605120<br>County=%{x}<br>sum of Norm_Deaths=%{y}<extra></extra>\",\"legendgroup\":\"605120\",\"marker\":{\"color\":\"#FF6692\",\"pattern\":{\"shape\":\"\"}},\"name\":\"605120\",\"offsetgroup\":\"605120\",\"orientation\":\"v\",\"showlegend\":true,\"x\":[\"Hocking County, OH\"],\"xaxis\":\"x\",\"y\":[14.873083024854575],\"yaxis\":\"y\",\"type\":\"histogram\"},{\"alignmentgroup\":\"True\",\"bingroup\":\"x\",\"histfunc\":\"sum\",\"hovertemplate\":\"Population=884901<br>County=%{x}<br>sum of Norm_Deaths=%{y}<extra></extra>\",\"legendgroup\":\"884901\",\"marker\":{\"color\":\"#B6E880\",\"pattern\":{\"shape\":\"\"}},\"name\":\"884901\",\"offsetgroup\":\"884901\",\"orientation\":\"v\",\"showlegend\":true,\"x\":[\"Holmes County, OH\"],\"xaxis\":\"x\",\"y\":[2.147132843109003],\"yaxis\":\"y\",\"type\":\"histogram\"},{\"alignmentgroup\":\"True\",\"bingroup\":\"x\",\"histfunc\":\"sum\",\"hovertemplate\":\"Population=1246615<br>County=%{x}<br>sum of Norm_Deaths=%{y}<extra></extra>\",\"legendgroup\":\"1246615\",\"marker\":{\"color\":\"#FF97FF\",\"pattern\":{\"shape\":\"\"}},\"name\":\"1246615\",\"offsetgroup\":\"1246615\",\"orientation\":\"v\",\"showlegend\":true,\"x\":[\"Huron County, OH\"],\"xaxis\":\"x\",\"y\":[14.358883857486072],\"yaxis\":\"y\",\"type\":\"histogram\"},{\"alignmentgroup\":\"True\",\"bingroup\":\"x\",\"histfunc\":\"sum\",\"hovertemplate\":\"Population=689743<br>County=%{x}<br>sum of Norm_Deaths=%{y}<extra></extra>\",\"legendgroup\":\"689743\",\"marker\":{\"color\":\"#FECB52\",\"pattern\":{\"shape\":\"\"}},\"name\":\"689743\",\"offsetgroup\":\"689743\",\"orientation\":\"v\",\"showlegend\":true,\"x\":[\"Jackson County, OH\"],\"xaxis\":\"x\",\"y\":[19.427525904576054],\"yaxis\":\"y\",\"type\":\"histogram\"},{\"alignmentgroup\":\"True\",\"bingroup\":\"x\",\"histfunc\":\"sum\",\"hovertemplate\":\"Population=1463724<br>County=%{x}<br>sum of Norm_Deaths=%{y}<extra></extra>\",\"legendgroup\":\"1463724\",\"marker\":{\"color\":\"#636efa\",\"pattern\":{\"shape\":\"\"}},\"name\":\"1463724\",\"offsetgroup\":\"1463724\",\"orientation\":\"v\",\"showlegend\":true,\"x\":[\"Jefferson County, OH\"],\"xaxis\":\"x\",\"y\":[21.1788561231489],\"yaxis\":\"y\",\"type\":\"histogram\"},{\"alignmentgroup\":\"True\",\"bingroup\":\"x\",\"histfunc\":\"sum\",\"hovertemplate\":\"Population=1246513<br>County=%{x}<br>sum of Norm_Deaths=%{y}<extra></extra>\",\"legendgroup\":\"1246513\",\"marker\":{\"color\":\"#EF553B\",\"pattern\":{\"shape\":\"\"}},\"name\":\"1246513\",\"offsetgroup\":\"1246513\",\"orientation\":\"v\",\"showlegend\":true,\"x\":[\"Knox County, OH\"],\"xaxis\":\"x\",\"y\":[9.30595990575309],\"yaxis\":\"y\",\"type\":\"histogram\"},{\"alignmentgroup\":\"True\",\"bingroup\":\"x\",\"histfunc\":\"sum\",\"hovertemplate\":\"Population=4807444<br>County=%{x}<br>sum of Norm_Deaths=%{y}<extra></extra>\",\"legendgroup\":\"4807444\",\"marker\":{\"color\":\"#00cc96\",\"pattern\":{\"shape\":\"\"}},\"name\":\"4807444\",\"offsetgroup\":\"4807444\",\"orientation\":\"v\",\"showlegend\":true,\"x\":[\"Lake County, OH\"],\"xaxis\":\"x\",\"y\":[15.89202079108982],\"yaxis\":\"y\",\"type\":\"histogram\"},{\"alignmentgroup\":\"True\",\"bingroup\":\"x\",\"histfunc\":\"sum\",\"hovertemplate\":\"Population=1298496<br>County=%{x}<br>sum of Norm_Deaths=%{y}<extra></extra>\",\"legendgroup\":\"1298496\",\"marker\":{\"color\":\"#ab63fa\",\"pattern\":{\"shape\":\"\"}},\"name\":\"1298496\",\"offsetgroup\":\"1298496\",\"orientation\":\"v\",\"showlegend\":true,\"x\":[\"Lawrence County, OH\"],\"xaxis\":\"x\",\"y\":[19.715116565626694],\"yaxis\":\"y\",\"type\":\"histogram\"},{\"alignmentgroup\":\"True\",\"bingroup\":\"x\",\"histfunc\":\"sum\",\"hovertemplate\":\"Population=3412997<br>County=%{x}<br>sum of Norm_Deaths=%{y}<extra></extra>\",\"legendgroup\":\"3412997\",\"marker\":{\"color\":\"#FFA15A\",\"pattern\":{\"shape\":\"\"}},\"name\":\"3412997\",\"offsetgroup\":\"3412997\",\"orientation\":\"v\",\"showlegend\":true,\"x\":[\"Licking County, OH\"],\"xaxis\":\"x\",\"y\":[11.192509105633553],\"yaxis\":\"y\",\"type\":\"histogram\"},{\"alignmentgroup\":\"True\",\"bingroup\":\"x\",\"histfunc\":\"sum\",\"hovertemplate\":\"Population=961732<br>County=%{x}<br>sum of Norm_Deaths=%{y}<extra></extra>\",\"legendgroup\":\"961732\",\"marker\":{\"color\":\"#19d3f3\",\"pattern\":{\"shape\":\"\"}},\"name\":\"961732\",\"offsetgroup\":\"961732\",\"orientation\":\"v\",\"showlegend\":true,\"x\":[\"Logan County, OH\"],\"xaxis\":\"x\",\"y\":[12.477488531108458],\"yaxis\":\"y\",\"type\":\"histogram\"},{\"alignmentgroup\":\"True\",\"bingroup\":\"x\",\"histfunc\":\"sum\",\"hovertemplate\":\"Population=6265760<br>County=%{x}<br>sum of Norm_Deaths=%{y}<extra></extra>\",\"legendgroup\":\"6265760\",\"marker\":{\"color\":\"#FF6692\",\"pattern\":{\"shape\":\"\"}},\"name\":\"6265760\",\"offsetgroup\":\"6265760\",\"orientation\":\"v\",\"showlegend\":true,\"x\":[\"Lorain County, OH\"],\"xaxis\":\"x\",\"y\":[15.225607109113659],\"yaxis\":\"y\",\"type\":\"histogram\"},{\"alignmentgroup\":\"True\",\"bingroup\":\"x\",\"histfunc\":\"sum\",\"hovertemplate\":\"Population=9299492<br>County=%{x}<br>sum of Norm_Deaths=%{y}<extra></extra>\",\"legendgroup\":\"9299492\",\"marker\":{\"color\":\"#B6E880\",\"pattern\":{\"shape\":\"\"}},\"name\":\"9299492\",\"offsetgroup\":\"9299492\",\"orientation\":\"v\",\"showlegend\":true,\"x\":[\"Lucas County, OH\"],\"xaxis\":\"x\",\"y\":[17.140721235095423],\"yaxis\":\"y\",\"type\":\"histogram\"},{\"alignmentgroup\":\"True\",\"bingroup\":\"x\",\"histfunc\":\"sum\",\"hovertemplate\":\"Population=893150<br>County=%{x}<br>sum of Norm_Deaths=%{y}<extra></extra>\",\"legendgroup\":\"893150\",\"marker\":{\"color\":\"#FF97FF\",\"pattern\":{\"shape\":\"\"}},\"name\":\"893150\",\"offsetgroup\":\"893150\",\"orientation\":\"v\",\"showlegend\":true,\"x\":[\"Madison County, OH\"],\"xaxis\":\"x\",\"y\":[14.443262609863964],\"yaxis\":\"y\",\"type\":\"histogram\"},{\"alignmentgroup\":\"True\",\"bingroup\":\"x\",\"histfunc\":\"sum\",\"hovertemplate\":\"Population=5073712<br>County=%{x}<br>sum of Norm_Deaths=%{y}<extra></extra>\",\"legendgroup\":\"5073712\",\"marker\":{\"color\":\"#FECB52\",\"pattern\":{\"shape\":\"\"}},\"name\":\"5073712\",\"offsetgroup\":\"5073712\",\"orientation\":\"v\",\"showlegend\":true,\"x\":[\"Mahoning County, OH\"],\"xaxis\":\"x\",\"y\":[17.994714717745115],\"yaxis\":\"y\",\"type\":\"histogram\"},{\"alignmentgroup\":\"True\",\"bingroup\":\"x\",\"histfunc\":\"sum\",\"hovertemplate\":\"Population=1386807<br>County=%{x}<br>sum of Norm_Deaths=%{y}<extra></extra>\",\"legendgroup\":\"1386807\",\"marker\":{\"color\":\"#636efa\",\"pattern\":{\"shape\":\"\"}},\"name\":\"1386807\",\"offsetgroup\":\"1386807\",\"orientation\":\"v\",\"showlegend\":true,\"x\":[\"Marion County, OH\"],\"xaxis\":\"x\",\"y\":[19.397075440201846],\"yaxis\":\"y\",\"type\":\"histogram\"},{\"alignmentgroup\":\"True\",\"bingroup\":\"x\",\"histfunc\":\"sum\",\"hovertemplate\":\"Population=3539615<br>County=%{x}<br>sum of Norm_Deaths=%{y}<extra></extra>\",\"legendgroup\":\"3539615\",\"marker\":{\"color\":\"#EF553B\",\"pattern\":{\"shape\":\"\"}},\"name\":\"3539615\",\"offsetgroup\":\"3539615\",\"orientation\":\"v\",\"showlegend\":true,\"x\":[\"Medina County, OH\"],\"xaxis\":\"x\",\"y\":[8.390743061039124],\"yaxis\":\"y\",\"type\":\"histogram\"},{\"alignmentgroup\":\"True\",\"bingroup\":\"x\",\"histfunc\":\"sum\",\"hovertemplate\":\"Population=491087<br>County=%{x}<br>sum of Norm_Deaths=%{y}<extra></extra>\",\"legendgroup\":\"491087\",\"marker\":{\"color\":\"#00cc96\",\"pattern\":{\"shape\":\"\"}},\"name\":\"491087\",\"offsetgroup\":\"491087\",\"orientation\":\"v\",\"showlegend\":true,\"x\":[\"Meigs County, OH\"],\"xaxis\":\"x\",\"y\":[15.06861309706834],\"yaxis\":\"y\",\"type\":\"histogram\"},{\"alignmentgroup\":\"True\",\"bingroup\":\"x\",\"histfunc\":\"sum\",\"hovertemplate\":\"Population=859259<br>County=%{x}<br>sum of Norm_Deaths=%{y}<extra></extra>\",\"legendgroup\":\"859259\",\"marker\":{\"color\":\"#ab63fa\",\"pattern\":{\"shape\":\"\"}},\"name\":\"859259\",\"offsetgroup\":\"859259\",\"orientation\":\"v\",\"showlegend\":true,\"x\":[\"Mercer County, OH\"],\"xaxis\":\"x\",\"y\":[5.469829236586407],\"yaxis\":\"y\",\"type\":\"histogram\"},{\"alignmentgroup\":\"True\",\"bingroup\":\"x\",\"histfunc\":\"sum\",\"hovertemplate\":\"Population=2150903<br>County=%{x}<br>sum of Norm_Deaths=%{y}<extra></extra>\",\"legendgroup\":\"2150903\",\"marker\":{\"color\":\"#FFA15A\",\"pattern\":{\"shape\":\"\"}},\"name\":\"2150903\",\"offsetgroup\":\"2150903\",\"orientation\":\"v\",\"showlegend\":true,\"x\":[\"Miami County, OH\"],\"xaxis\":\"x\",\"y\":[14.737996088154604],\"yaxis\":\"y\",\"type\":\"histogram\"},{\"alignmentgroup\":\"True\",\"bingroup\":\"x\",\"histfunc\":\"sum\",\"hovertemplate\":\"Population=307632<br>County=%{x}<br>sum of Norm_Deaths=%{y}<extra></extra>\",\"legendgroup\":\"307632\",\"marker\":{\"color\":\"#19d3f3\",\"pattern\":{\"shape\":\"\"}},\"name\":\"307632\",\"offsetgroup\":\"307632\",\"orientation\":\"v\",\"showlegend\":true,\"x\":[\"Monroe County, OH\"],\"xaxis\":\"x\",\"y\":[6.826337962240599],\"yaxis\":\"y\",\"type\":\"histogram\"},{\"alignmentgroup\":\"True\",\"bingroup\":\"x\",\"histfunc\":\"sum\",\"hovertemplate\":\"Population=11370490<br>County=%{x}<br>sum of Norm_Deaths=%{y}<extra></extra>\",\"legendgroup\":\"11370490\",\"marker\":{\"color\":\"#FF6692\",\"pattern\":{\"shape\":\"\"}},\"name\":\"11370490\",\"offsetgroup\":\"11370490\",\"orientation\":\"v\",\"showlegend\":true,\"x\":[\"Montgomery County, OH\"],\"xaxis\":\"x\",\"y\":[30.983713102953345],\"yaxis\":\"y\",\"type\":\"histogram\"},{\"alignmentgroup\":\"True\",\"bingroup\":\"x\",\"histfunc\":\"sum\",\"hovertemplate\":\"Population=313633<br>County=%{x}<br>sum of Norm_Deaths=%{y}<extra></extra>\",\"legendgroup\":\"313633\",\"marker\":{\"color\":\"#B6E880\",\"pattern\":{\"shape\":\"\"}},\"name\":\"313633\",\"offsetgroup\":\"313633\",\"orientation\":\"v\",\"showlegend\":true,\"x\":[\"Morgan County, OH\"],\"xaxis\":\"x\",\"y\":[8.289943979109342],\"yaxis\":\"y\",\"type\":\"histogram\"},{\"alignmentgroup\":\"True\",\"bingroup\":\"x\",\"histfunc\":\"sum\",\"hovertemplate\":\"Population=719670<br>County=%{x}<br>sum of Norm_Deaths=%{y}<extra></extra>\",\"legendgroup\":\"719670\",\"marker\":{\"color\":\"#FF97FF\",\"pattern\":{\"shape\":\"\"}},\"name\":\"719670\",\"offsetgroup\":\"719670\",\"orientation\":\"v\",\"showlegend\":true,\"x\":[\"Morrow County, OH\"],\"xaxis\":\"x\",\"y\":[12.505731793738796],\"yaxis\":\"y\",\"type\":\"histogram\"},{\"alignmentgroup\":\"True\",\"bingroup\":\"x\",\"histfunc\":\"sum\",\"hovertemplate\":\"Population=1799542<br>County=%{x}<br>sum of Norm_Deaths=%{y}<extra></extra>\",\"legendgroup\":\"1799542\",\"marker\":{\"color\":\"#FECB52\",\"pattern\":{\"shape\":\"\"}},\"name\":\"1799542\",\"offsetgroup\":\"1799542\",\"orientation\":\"v\",\"showlegend\":true,\"x\":[\"Muskingum County, OH\"],\"xaxis\":\"x\",\"y\":[10.002545092028972],\"yaxis\":\"y\",\"type\":\"histogram\"},{\"alignmentgroup\":\"True\",\"bingroup\":\"x\",\"histfunc\":\"sum\",\"hovertemplate\":\"Population=301891<br>County=%{x}<br>sum of Norm_Deaths=%{y}<extra></extra>\",\"legendgroup\":\"301891\",\"marker\":{\"color\":\"#636efa\",\"pattern\":{\"shape\":\"\"}},\"name\":\"301891\",\"offsetgroup\":\"301891\",\"orientation\":\"v\",\"showlegend\":true,\"x\":[\"Noble County, OH\"],\"xaxis\":\"x\",\"y\":[6.956153048616885],\"yaxis\":\"y\",\"type\":\"histogram\"},{\"alignmentgroup\":\"True\",\"bingroup\":\"x\",\"histfunc\":\"sum\",\"hovertemplate\":\"Population=864885<br>County=%{x}<br>sum of Norm_Deaths=%{y}<extra></extra>\",\"legendgroup\":\"864885\",\"marker\":{\"color\":\"#EF553B\",\"pattern\":{\"shape\":\"\"}},\"name\":\"864885\",\"offsetgroup\":\"864885\",\"orientation\":\"v\",\"showlegend\":true,\"x\":[\"Ottawa County, OH\"],\"xaxis\":\"x\",\"y\":[10.29038542696428],\"yaxis\":\"y\",\"type\":\"histogram\"},{\"alignmentgroup\":\"True\",\"bingroup\":\"x\",\"histfunc\":\"sum\",\"hovertemplate\":\"Population=409864<br>County=%{x}<br>sum of Norm_Deaths=%{y}<extra></extra>\",\"legendgroup\":\"409864\",\"marker\":{\"color\":\"#00cc96\",\"pattern\":{\"shape\":\"\"}},\"name\":\"409864\",\"offsetgroup\":\"409864\",\"orientation\":\"v\",\"showlegend\":true,\"x\":[\"Paulding County, OH\"],\"xaxis\":\"x\",\"y\":[5.367634142056878],\"yaxis\":\"y\",\"type\":\"histogram\"},{\"alignmentgroup\":\"True\",\"bingroup\":\"x\",\"histfunc\":\"sum\",\"hovertemplate\":\"Population=745803<br>County=%{x}<br>sum of Norm_Deaths=%{y}<extra></extra>\",\"legendgroup\":\"745803\",\"marker\":{\"color\":\"#ab63fa\",\"pattern\":{\"shape\":\"\"}},\"name\":\"745803\",\"offsetgroup\":\"745803\",\"orientation\":\"v\",\"showlegend\":true,\"x\":[\"Perry County, OH\"],\"xaxis\":\"x\",\"y\":[10.190358579946714],\"yaxis\":\"y\",\"type\":\"histogram\"},{\"alignmentgroup\":\"True\",\"bingroup\":\"x\",\"histfunc\":\"sum\",\"hovertemplate\":\"Population=1156556<br>County=%{x}<br>sum of Norm_Deaths=%{y}<extra></extra>\",\"legendgroup\":\"1156556\",\"marker\":{\"color\":\"#FFA15A\",\"pattern\":{\"shape\":\"\"}},\"name\":\"1156556\",\"offsetgroup\":\"1156556\",\"orientation\":\"v\",\"showlegend\":true,\"x\":[\"Pickaway County, OH\"],\"xaxis\":\"x\",\"y\":[14.007103849705503],\"yaxis\":\"y\",\"type\":\"histogram\"},{\"alignmentgroup\":\"True\",\"bingroup\":\"x\",\"histfunc\":\"sum\",\"hovertemplate\":\"Population=593682<br>County=%{x}<br>sum of Norm_Deaths=%{y}<extra></extra>\",\"legendgroup\":\"593682\",\"marker\":{\"color\":\"#19d3f3\",\"pattern\":{\"shape\":\"\"}},\"name\":\"593682\",\"offsetgroup\":\"593682\",\"orientation\":\"v\",\"showlegend\":true,\"x\":[\"Pike County, OH\"],\"xaxis\":\"x\",\"y\":[20.886602591960006],\"yaxis\":\"y\",\"type\":\"histogram\"},{\"alignmentgroup\":\"True\",\"bingroup\":\"x\",\"histfunc\":\"sum\",\"hovertemplate\":\"Population=3342324<br>County=%{x}<br>sum of Norm_Deaths=%{y}<extra></extra>\",\"legendgroup\":\"3342324\",\"marker\":{\"color\":\"#FF6692\",\"pattern\":{\"shape\":\"\"}},\"name\":\"3342324\",\"offsetgroup\":\"3342324\",\"orientation\":\"v\",\"showlegend\":true,\"x\":[\"Portage County, OH\"],\"xaxis\":\"x\",\"y\":[10.531594184166467],\"yaxis\":\"y\",\"type\":\"histogram\"},{\"alignmentgroup\":\"True\",\"bingroup\":\"x\",\"histfunc\":\"sum\",\"hovertemplate\":\"Population=883033<br>County=%{x}<br>sum of Norm_Deaths=%{y}<extra></extra>\",\"legendgroup\":\"883033\",\"marker\":{\"color\":\"#B6E880\",\"pattern\":{\"shape\":\"\"}},\"name\":\"883033\",\"offsetgroup\":\"883033\",\"orientation\":\"v\",\"showlegend\":true,\"x\":[\"Preble County, OH\"],\"xaxis\":\"x\",\"y\":[19.25182864060573],\"yaxis\":\"y\",\"type\":\"histogram\"},{\"alignmentgroup\":\"True\",\"bingroup\":\"x\",\"histfunc\":\"sum\",\"hovertemplate\":\"Population=722643<br>County=%{x}<br>sum of Norm_Deaths=%{y}<extra></extra>\",\"legendgroup\":\"722643\",\"marker\":{\"color\":\"#FF97FF\",\"pattern\":{\"shape\":\"\"}},\"name\":\"722643\",\"offsetgroup\":\"722643\",\"orientation\":\"v\",\"showlegend\":true,\"x\":[\"Putnam County, OH\"],\"xaxis\":\"x\",\"y\":[3.8746656371126544],\"yaxis\":\"y\",\"type\":\"histogram\"},{\"alignmentgroup\":\"True\",\"bingroup\":\"x\",\"histfunc\":\"sum\",\"hovertemplate\":\"Population=2624517<br>County=%{x}<br>sum of Norm_Deaths=%{y}<extra></extra>\",\"legendgroup\":\"2624517\",\"marker\":{\"color\":\"#FECB52\",\"pattern\":{\"shape\":\"\"}},\"name\":\"2624517\",\"offsetgroup\":\"2624517\",\"orientation\":\"v\",\"showlegend\":true,\"x\":[\"Richland County, OH\"],\"xaxis\":\"x\",\"y\":[17.29842100470296],\"yaxis\":\"y\",\"type\":\"histogram\"},{\"alignmentgroup\":\"True\",\"bingroup\":\"x\",\"histfunc\":\"sum\",\"hovertemplate\":\"Population=1604515<br>County=%{x}<br>sum of Norm_Deaths=%{y}<extra></extra>\",\"legendgroup\":\"1604515\",\"marker\":{\"color\":\"#636efa\",\"pattern\":{\"shape\":\"\"}},\"name\":\"1604515\",\"offsetgroup\":\"1604515\",\"orientation\":\"v\",\"showlegend\":true,\"x\":[\"Ross County, OH\"],\"xaxis\":\"x\",\"y\":[23.93246557370919],\"yaxis\":\"y\",\"type\":\"histogram\"},{\"alignmentgroup\":\"True\",\"bingroup\":\"x\",\"histfunc\":\"sum\",\"hovertemplate\":\"Population=1276379<br>County=%{x}<br>sum of Norm_Deaths=%{y}<extra></extra>\",\"legendgroup\":\"1276379\",\"marker\":{\"color\":\"#EF553B\",\"pattern\":{\"shape\":\"\"}},\"name\":\"1276379\",\"offsetgroup\":\"1276379\",\"orientation\":\"v\",\"showlegend\":true,\"x\":[\"Sandusky County, OH\"],\"xaxis\":\"x\",\"y\":[12.84884818694134],\"yaxis\":\"y\",\"type\":\"histogram\"},{\"alignmentgroup\":\"True\",\"bingroup\":\"x\",\"histfunc\":\"sum\",\"hovertemplate\":\"Population=1638019<br>County=%{x}<br>sum of Norm_Deaths=%{y}<extra></extra>\",\"legendgroup\":\"1638019\",\"marker\":{\"color\":\"#00cc96\",\"pattern\":{\"shape\":\"\"}},\"name\":\"1638019\",\"offsetgroup\":\"1638019\",\"orientation\":\"v\",\"showlegend\":true,\"x\":[\"Scioto County, OH\"],\"xaxis\":\"x\",\"y\":[29.853133571710703],\"yaxis\":\"y\",\"type\":\"histogram\"},{\"alignmentgroup\":\"True\",\"bingroup\":\"x\",\"histfunc\":\"sum\",\"hovertemplate\":\"Population=1193830<br>County=%{x}<br>sum of Norm_Deaths=%{y}<extra></extra>\",\"legendgroup\":\"1193830\",\"marker\":{\"color\":\"#ab63fa\",\"pattern\":{\"shape\":\"\"}},\"name\":\"1193830\",\"offsetgroup\":\"1193830\",\"orientation\":\"v\",\"showlegend\":true,\"x\":[\"Seneca County, OH\"],\"xaxis\":\"x\",\"y\":[9.214042200313278],\"yaxis\":\"y\",\"type\":\"histogram\"},{\"alignmentgroup\":\"True\",\"bingroup\":\"x\",\"histfunc\":\"sum\",\"hovertemplate\":\"Population=1026511<br>County=%{x}<br>sum of Norm_Deaths=%{y}<extra></extra>\",\"legendgroup\":\"1026511\",\"marker\":{\"color\":\"#FFA15A\",\"pattern\":{\"shape\":\"\"}},\"name\":\"1026511\",\"offsetgroup\":\"1026511\",\"orientation\":\"v\",\"showlegend\":true,\"x\":[\"Shelby County, OH\"],\"xaxis\":\"x\",\"y\":[14.028101014017386],\"yaxis\":\"y\",\"type\":\"histogram\"},{\"alignmentgroup\":\"True\",\"bingroup\":\"x\",\"histfunc\":\"sum\",\"hovertemplate\":\"Population=7886530<br>County=%{x}<br>sum of Norm_Deaths=%{y}<extra></extra>\",\"legendgroup\":\"7886530\",\"marker\":{\"color\":\"#19d3f3\",\"pattern\":{\"shape\":\"\"}},\"name\":\"7886530\",\"offsetgroup\":\"7886530\",\"orientation\":\"v\",\"showlegend\":true,\"x\":[\"Stark County, OH\"],\"xaxis\":\"x\",\"y\":[10.194597624050122],\"yaxis\":\"y\",\"type\":\"histogram\"},{\"alignmentgroup\":\"True\",\"bingroup\":\"x\",\"histfunc\":\"sum\",\"hovertemplate\":\"Population=11396089<br>County=%{x}<br>sum of Norm_Deaths=%{y}<extra></extra>\",\"legendgroup\":\"11396089\",\"marker\":{\"color\":\"#FF6692\",\"pattern\":{\"shape\":\"\"}},\"name\":\"11396089\",\"offsetgroup\":\"11396089\",\"orientation\":\"v\",\"showlegend\":true,\"x\":[\"Summit County, OH\"],\"xaxis\":\"x\",\"y\":[16.830335389623578],\"yaxis\":\"y\",\"type\":\"histogram\"},{\"alignmentgroup\":\"True\",\"bingroup\":\"x\",\"histfunc\":\"sum\",\"hovertemplate\":\"Population=4451148<br>County=%{x}<br>sum of Norm_Deaths=%{y}<extra></extra>\",\"legendgroup\":\"4451148\",\"marker\":{\"color\":\"#B6E880\",\"pattern\":{\"shape\":\"\"}},\"name\":\"4451148\",\"offsetgroup\":\"4451148\",\"orientation\":\"v\",\"showlegend\":true,\"x\":[\"Trumbull County, OH\"],\"xaxis\":\"x\",\"y\":[23.5669539633371],\"yaxis\":\"y\",\"type\":\"histogram\"},{\"alignmentgroup\":\"True\",\"bingroup\":\"x\",\"histfunc\":\"sum\",\"hovertemplate\":\"Population=1935856<br>County=%{x}<br>sum of Norm_Deaths=%{y}<extra></extra>\",\"legendgroup\":\"1935856\",\"marker\":{\"color\":\"#FF97FF\",\"pattern\":{\"shape\":\"\"}},\"name\":\"1935856\",\"offsetgroup\":\"1935856\",\"orientation\":\"v\",\"showlegend\":true,\"x\":[\"Tuscarawas County, OH\"],\"xaxis\":\"x\",\"y\":[6.922002462993116],\"yaxis\":\"y\",\"type\":\"histogram\"},{\"alignmentgroup\":\"True\",\"bingroup\":\"x\",\"histfunc\":\"sum\",\"hovertemplate\":\"Population=1054183<br>County=%{x}<br>sum of Norm_Deaths=%{y}<extra></extra>\",\"legendgroup\":\"1054183\",\"marker\":{\"color\":\"#FECB52\",\"pattern\":{\"shape\":\"\"}},\"name\":\"1054183\",\"offsetgroup\":\"1054183\",\"orientation\":\"v\",\"showlegend\":true,\"x\":[\"Union County, OH\"],\"xaxis\":\"x\",\"y\":[9.391158840542866],\"yaxis\":\"y\",\"type\":\"histogram\"},{\"alignmentgroup\":\"True\",\"bingroup\":\"x\",\"histfunc\":\"sum\",\"hovertemplate\":\"Population=607270<br>County=%{x}<br>sum of Norm_Deaths=%{y}<extra></extra>\",\"legendgroup\":\"607270\",\"marker\":{\"color\":\"#636efa\",\"pattern\":{\"shape\":\"\"}},\"name\":\"607270\",\"offsetgroup\":\"607270\",\"orientation\":\"v\",\"showlegend\":true,\"x\":[\"Van Wert County, OH\"],\"xaxis\":\"x\",\"y\":[9.88028389349054],\"yaxis\":\"y\",\"type\":\"histogram\"},{\"alignmentgroup\":\"True\",\"bingroup\":\"x\",\"histfunc\":\"sum\",\"hovertemplate\":\"Population=277365<br>County=%{x}<br>sum of Norm_Deaths=%{y}<extra></extra>\",\"legendgroup\":\"277365\",\"marker\":{\"color\":\"#EF553B\",\"pattern\":{\"shape\":\"\"}},\"name\":\"277365\",\"offsetgroup\":\"277365\",\"orientation\":\"v\",\"showlegend\":true,\"x\":[\"Vinton County, OH\"],\"xaxis\":\"x\",\"y\":[15.14250175761181],\"yaxis\":\"y\",\"type\":\"histogram\"},{\"alignmentgroup\":\"True\",\"bingroup\":\"x\",\"histfunc\":\"sum\",\"hovertemplate\":\"Population=4278514<br>County=%{x}<br>sum of Norm_Deaths=%{y}<extra></extra>\",\"legendgroup\":\"4278514\",\"marker\":{\"color\":\"#00cc96\",\"pattern\":{\"shape\":\"\"}},\"name\":\"4278514\",\"offsetgroup\":\"4278514\",\"orientation\":\"v\",\"showlegend\":true,\"x\":[\"Warren County, OH\"],\"xaxis\":\"x\",\"y\":[13.485990696769955],\"yaxis\":\"y\",\"type\":\"histogram\"},{\"alignmentgroup\":\"True\",\"bingroup\":\"x\",\"histfunc\":\"sum\",\"hovertemplate\":\"Population=1298830<br>County=%{x}<br>sum of Norm_Deaths=%{y}<extra></extra>\",\"legendgroup\":\"1298830\",\"marker\":{\"color\":\"#ab63fa\",\"pattern\":{\"shape\":\"\"}},\"name\":\"1298830\",\"offsetgroup\":\"1298830\",\"orientation\":\"v\",\"showlegend\":true,\"x\":[\"Washington County, OH\"],\"xaxis\":\"x\",\"y\":[11.779832618587498],\"yaxis\":\"y\",\"type\":\"histogram\"},{\"alignmentgroup\":\"True\",\"bingroup\":\"x\",\"histfunc\":\"sum\",\"hovertemplate\":\"Population=2400030<br>County=%{x}<br>sum of Norm_Deaths=%{y}<extra></extra>\",\"legendgroup\":\"2400030\",\"marker\":{\"color\":\"#FFA15A\",\"pattern\":{\"shape\":\"\"}},\"name\":\"2400030\",\"offsetgroup\":\"2400030\",\"orientation\":\"v\",\"showlegend\":true,\"x\":[\"Wayne County, OH\"],\"xaxis\":\"x\",\"y\":[8.16656458460936],\"yaxis\":\"y\",\"type\":\"histogram\"},{\"alignmentgroup\":\"True\",\"bingroup\":\"x\",\"histfunc\":\"sum\",\"hovertemplate\":\"Population=797642<br>County=%{x}<br>sum of Norm_Deaths=%{y}<extra></extra>\",\"legendgroup\":\"797642\",\"marker\":{\"color\":\"#19d3f3\",\"pattern\":{\"shape\":\"\"}},\"name\":\"797642\",\"offsetgroup\":\"797642\",\"orientation\":\"v\",\"showlegend\":true,\"x\":[\"Williams County, OH\"],\"xaxis\":\"x\",\"y\":[6.017737280634671],\"yaxis\":\"y\",\"type\":\"histogram\"},{\"alignmentgroup\":\"True\",\"bingroup\":\"x\",\"histfunc\":\"sum\",\"hovertemplate\":\"Population=2649648<br>County=%{x}<br>sum of Norm_Deaths=%{y}<extra></extra>\",\"legendgroup\":\"2649648\",\"marker\":{\"color\":\"#FF6692\",\"pattern\":{\"shape\":\"\"}},\"name\":\"2649648\",\"offsetgroup\":\"2649648\",\"orientation\":\"v\",\"showlegend\":true,\"x\":[\"Wood County, OH\"],\"xaxis\":\"x\",\"y\":[7.019800365935399],\"yaxis\":\"y\",\"type\":\"histogram\"},{\"alignmentgroup\":\"True\",\"bingroup\":\"x\",\"histfunc\":\"sum\",\"hovertemplate\":\"Population=473497<br>County=%{x}<br>sum of Norm_Deaths=%{y}<extra></extra>\",\"legendgroup\":\"473497\",\"marker\":{\"color\":\"#B6E880\",\"pattern\":{\"shape\":\"\"}},\"name\":\"473497\",\"offsetgroup\":\"473497\",\"orientation\":\"v\",\"showlegend\":true,\"x\":[\"Wyandot County, OH\"],\"xaxis\":\"x\",\"y\":[5.913448237264439],\"yaxis\":\"y\",\"type\":\"histogram\"}],                        {\"template\":{\"data\":{\"bar\":[{\"error_x\":{\"color\":\"#2a3f5f\"},\"error_y\":{\"color\":\"#2a3f5f\"},\"marker\":{\"line\":{\"color\":\"#E5ECF6\",\"width\":0.5},\"pattern\":{\"fillmode\":\"overlay\",\"size\":10,\"solidity\":0.2}},\"type\":\"bar\"}],\"barpolar\":[{\"marker\":{\"line\":{\"color\":\"#E5ECF6\",\"width\":0.5},\"pattern\":{\"fillmode\":\"overlay\",\"size\":10,\"solidity\":0.2}},\"type\":\"barpolar\"}],\"carpet\":[{\"aaxis\":{\"endlinecolor\":\"#2a3f5f\",\"gridcolor\":\"white\",\"linecolor\":\"white\",\"minorgridcolor\":\"white\",\"startlinecolor\":\"#2a3f5f\"},\"baxis\":{\"endlinecolor\":\"#2a3f5f\",\"gridcolor\":\"white\",\"linecolor\":\"white\",\"minorgridcolor\":\"white\",\"startlinecolor\":\"#2a3f5f\"},\"type\":\"carpet\"}],\"choropleth\":[{\"colorbar\":{\"outlinewidth\":0,\"ticks\":\"\"},\"type\":\"choropleth\"}],\"contour\":[{\"colorbar\":{\"outlinewidth\":0,\"ticks\":\"\"},\"colorscale\":[[0.0,\"#0d0887\"],[0.1111111111111111,\"#46039f\"],[0.2222222222222222,\"#7201a8\"],[0.3333333333333333,\"#9c179e\"],[0.4444444444444444,\"#bd3786\"],[0.5555555555555556,\"#d8576b\"],[0.6666666666666666,\"#ed7953\"],[0.7777777777777778,\"#fb9f3a\"],[0.8888888888888888,\"#fdca26\"],[1.0,\"#f0f921\"]],\"type\":\"contour\"}],\"contourcarpet\":[{\"colorbar\":{\"outlinewidth\":0,\"ticks\":\"\"},\"type\":\"contourcarpet\"}],\"heatmap\":[{\"colorbar\":{\"outlinewidth\":0,\"ticks\":\"\"},\"colorscale\":[[0.0,\"#0d0887\"],[0.1111111111111111,\"#46039f\"],[0.2222222222222222,\"#7201a8\"],[0.3333333333333333,\"#9c179e\"],[0.4444444444444444,\"#bd3786\"],[0.5555555555555556,\"#d8576b\"],[0.6666666666666666,\"#ed7953\"],[0.7777777777777778,\"#fb9f3a\"],[0.8888888888888888,\"#fdca26\"],[1.0,\"#f0f921\"]],\"type\":\"heatmap\"}],\"heatmapgl\":[{\"colorbar\":{\"outlinewidth\":0,\"ticks\":\"\"},\"colorscale\":[[0.0,\"#0d0887\"],[0.1111111111111111,\"#46039f\"],[0.2222222222222222,\"#7201a8\"],[0.3333333333333333,\"#9c179e\"],[0.4444444444444444,\"#bd3786\"],[0.5555555555555556,\"#d8576b\"],[0.6666666666666666,\"#ed7953\"],[0.7777777777777778,\"#fb9f3a\"],[0.8888888888888888,\"#fdca26\"],[1.0,\"#f0f921\"]],\"type\":\"heatmapgl\"}],\"histogram\":[{\"marker\":{\"pattern\":{\"fillmode\":\"overlay\",\"size\":10,\"solidity\":0.2}},\"type\":\"histogram\"}],\"histogram2d\":[{\"colorbar\":{\"outlinewidth\":0,\"ticks\":\"\"},\"colorscale\":[[0.0,\"#0d0887\"],[0.1111111111111111,\"#46039f\"],[0.2222222222222222,\"#7201a8\"],[0.3333333333333333,\"#9c179e\"],[0.4444444444444444,\"#bd3786\"],[0.5555555555555556,\"#d8576b\"],[0.6666666666666666,\"#ed7953\"],[0.7777777777777778,\"#fb9f3a\"],[0.8888888888888888,\"#fdca26\"],[1.0,\"#f0f921\"]],\"type\":\"histogram2d\"}],\"histogram2dcontour\":[{\"colorbar\":{\"outlinewidth\":0,\"ticks\":\"\"},\"colorscale\":[[0.0,\"#0d0887\"],[0.1111111111111111,\"#46039f\"],[0.2222222222222222,\"#7201a8\"],[0.3333333333333333,\"#9c179e\"],[0.4444444444444444,\"#bd3786\"],[0.5555555555555556,\"#d8576b\"],[0.6666666666666666,\"#ed7953\"],[0.7777777777777778,\"#fb9f3a\"],[0.8888888888888888,\"#fdca26\"],[1.0,\"#f0f921\"]],\"type\":\"histogram2dcontour\"}],\"mesh3d\":[{\"colorbar\":{\"outlinewidth\":0,\"ticks\":\"\"},\"type\":\"mesh3d\"}],\"parcoords\":[{\"line\":{\"colorbar\":{\"outlinewidth\":0,\"ticks\":\"\"}},\"type\":\"parcoords\"}],\"pie\":[{\"automargin\":true,\"type\":\"pie\"}],\"scatter\":[{\"marker\":{\"colorbar\":{\"outlinewidth\":0,\"ticks\":\"\"}},\"type\":\"scatter\"}],\"scatter3d\":[{\"line\":{\"colorbar\":{\"outlinewidth\":0,\"ticks\":\"\"}},\"marker\":{\"colorbar\":{\"outlinewidth\":0,\"ticks\":\"\"}},\"type\":\"scatter3d\"}],\"scattercarpet\":[{\"marker\":{\"colorbar\":{\"outlinewidth\":0,\"ticks\":\"\"}},\"type\":\"scattercarpet\"}],\"scattergeo\":[{\"marker\":{\"colorbar\":{\"outlinewidth\":0,\"ticks\":\"\"}},\"type\":\"scattergeo\"}],\"scattergl\":[{\"marker\":{\"colorbar\":{\"outlinewidth\":0,\"ticks\":\"\"}},\"type\":\"scattergl\"}],\"scattermapbox\":[{\"marker\":{\"colorbar\":{\"outlinewidth\":0,\"ticks\":\"\"}},\"type\":\"scattermapbox\"}],\"scatterpolar\":[{\"marker\":{\"colorbar\":{\"outlinewidth\":0,\"ticks\":\"\"}},\"type\":\"scatterpolar\"}],\"scatterpolargl\":[{\"marker\":{\"colorbar\":{\"outlinewidth\":0,\"ticks\":\"\"}},\"type\":\"scatterpolargl\"}],\"scatterternary\":[{\"marker\":{\"colorbar\":{\"outlinewidth\":0,\"ticks\":\"\"}},\"type\":\"scatterternary\"}],\"surface\":[{\"colorbar\":{\"outlinewidth\":0,\"ticks\":\"\"},\"colorscale\":[[0.0,\"#0d0887\"],[0.1111111111111111,\"#46039f\"],[0.2222222222222222,\"#7201a8\"],[0.3333333333333333,\"#9c179e\"],[0.4444444444444444,\"#bd3786\"],[0.5555555555555556,\"#d8576b\"],[0.6666666666666666,\"#ed7953\"],[0.7777777777777778,\"#fb9f3a\"],[0.8888888888888888,\"#fdca26\"],[1.0,\"#f0f921\"]],\"type\":\"surface\"}],\"table\":[{\"cells\":{\"fill\":{\"color\":\"#EBF0F8\"},\"line\":{\"color\":\"white\"}},\"header\":{\"fill\":{\"color\":\"#C8D4E3\"},\"line\":{\"color\":\"white\"}},\"type\":\"table\"}]},\"layout\":{\"annotationdefaults\":{\"arrowcolor\":\"#2a3f5f\",\"arrowhead\":0,\"arrowwidth\":1},\"autotypenumbers\":\"strict\",\"coloraxis\":{\"colorbar\":{\"outlinewidth\":0,\"ticks\":\"\"}},\"colorscale\":{\"diverging\":[[0,\"#8e0152\"],[0.1,\"#c51b7d\"],[0.2,\"#de77ae\"],[0.3,\"#f1b6da\"],[0.4,\"#fde0ef\"],[0.5,\"#f7f7f7\"],[0.6,\"#e6f5d0\"],[0.7,\"#b8e186\"],[0.8,\"#7fbc41\"],[0.9,\"#4d9221\"],[1,\"#276419\"]],\"sequential\":[[0.0,\"#0d0887\"],[0.1111111111111111,\"#46039f\"],[0.2222222222222222,\"#7201a8\"],[0.3333333333333333,\"#9c179e\"],[0.4444444444444444,\"#bd3786\"],[0.5555555555555556,\"#d8576b\"],[0.6666666666666666,\"#ed7953\"],[0.7777777777777778,\"#fb9f3a\"],[0.8888888888888888,\"#fdca26\"],[1.0,\"#f0f921\"]],\"sequentialminus\":[[0.0,\"#0d0887\"],[0.1111111111111111,\"#46039f\"],[0.2222222222222222,\"#7201a8\"],[0.3333333333333333,\"#9c179e\"],[0.4444444444444444,\"#bd3786\"],[0.5555555555555556,\"#d8576b\"],[0.6666666666666666,\"#ed7953\"],[0.7777777777777778,\"#fb9f3a\"],[0.8888888888888888,\"#fdca26\"],[1.0,\"#f0f921\"]]},\"colorway\":[\"#636efa\",\"#EF553B\",\"#00cc96\",\"#ab63fa\",\"#FFA15A\",\"#19d3f3\",\"#FF6692\",\"#B6E880\",\"#FF97FF\",\"#FECB52\"],\"font\":{\"color\":\"#2a3f5f\"},\"geo\":{\"bgcolor\":\"white\",\"lakecolor\":\"white\",\"landcolor\":\"#E5ECF6\",\"showlakes\":true,\"showland\":true,\"subunitcolor\":\"white\"},\"hoverlabel\":{\"align\":\"left\"},\"hovermode\":\"closest\",\"mapbox\":{\"style\":\"light\"},\"paper_bgcolor\":\"white\",\"plot_bgcolor\":\"#E5ECF6\",\"polar\":{\"angularaxis\":{\"gridcolor\":\"white\",\"linecolor\":\"white\",\"ticks\":\"\"},\"bgcolor\":\"#E5ECF6\",\"radialaxis\":{\"gridcolor\":\"white\",\"linecolor\":\"white\",\"ticks\":\"\"}},\"scene\":{\"xaxis\":{\"backgroundcolor\":\"#E5ECF6\",\"gridcolor\":\"white\",\"gridwidth\":2,\"linecolor\":\"white\",\"showbackground\":true,\"ticks\":\"\",\"zerolinecolor\":\"white\"},\"yaxis\":{\"backgroundcolor\":\"#E5ECF6\",\"gridcolor\":\"white\",\"gridwidth\":2,\"linecolor\":\"white\",\"showbackground\":true,\"ticks\":\"\",\"zerolinecolor\":\"white\"},\"zaxis\":{\"backgroundcolor\":\"#E5ECF6\",\"gridcolor\":\"white\",\"gridwidth\":2,\"linecolor\":\"white\",\"showbackground\":true,\"ticks\":\"\",\"zerolinecolor\":\"white\"}},\"shapedefaults\":{\"line\":{\"color\":\"#2a3f5f\"}},\"ternary\":{\"aaxis\":{\"gridcolor\":\"white\",\"linecolor\":\"white\",\"ticks\":\"\"},\"baxis\":{\"gridcolor\":\"white\",\"linecolor\":\"white\",\"ticks\":\"\"},\"bgcolor\":\"#E5ECF6\",\"caxis\":{\"gridcolor\":\"white\",\"linecolor\":\"white\",\"ticks\":\"\"}},\"title\":{\"x\":0.05},\"xaxis\":{\"automargin\":true,\"gridcolor\":\"white\",\"linecolor\":\"white\",\"ticks\":\"\",\"title\":{\"standoff\":15},\"zerolinecolor\":\"white\",\"zerolinewidth\":2},\"yaxis\":{\"automargin\":true,\"gridcolor\":\"white\",\"linecolor\":\"white\",\"ticks\":\"\",\"title\":{\"standoff\":15},\"zerolinecolor\":\"white\",\"zerolinewidth\":2}}},\"xaxis\":{\"anchor\":\"y\",\"domain\":[0.0,1.0],\"title\":{\"text\":\"County\"}},\"yaxis\":{\"anchor\":\"x\",\"domain\":[0.0,1.0],\"title\":{\"text\":\"sum of Norm_Deaths\"}},\"legend\":{\"title\":{\"text\":\"Population\"},\"tracegroupgap\":0},\"title\":{\"text\":\"Opiod Mortality rate in\\tOH\"},\"barmode\":\"relative\"},                        {\"responsive\": true}                    ).then(function(){\n",
       "                            \n",
       "var gd = document.getElementById('419f7eac-99af-4511-96e6-cc5bd87b32ac');\n",
       "var x = new MutationObserver(function (mutations, observer) {{\n",
       "        var display = window.getComputedStyle(gd).display;\n",
       "        if (!display || display === 'none') {{\n",
       "            console.log([gd, 'removed!']);\n",
       "            Plotly.purge(gd);\n",
       "            observer.disconnect();\n",
       "        }}\n",
       "}});\n",
       "\n",
       "// Listen for the removal of the full notebook cells\n",
       "var notebookContainer = gd.closest('#notebook-container');\n",
       "if (notebookContainer) {{\n",
       "    x.observe(notebookContainer, {childList: true});\n",
       "}}\n",
       "\n",
       "// Listen for the clearing of the current output cell\n",
       "var outputEl = gd.closest('.output');\n",
       "if (outputEl) {{\n",
       "    x.observe(outputEl, {childList: true});\n",
       "}}\n",
       "\n",
       "                        })                };                });            </script>        </div>"
      ]
     },
     "metadata": {},
     "output_type": "display_data"
    },
    {
     "name": "stdout",
     "output_type": "stream",
     "text": [
      "The Number of counties in-OH : 88\n",
      "Top-10 counties with highest mortatlity rate in state-OH are:\n",
      " 1597    Montgomery County, OH\n",
      "2051        Scioto County, OH\n",
      "244          Brown County, OH\n",
      "276         Butler County, OH\n",
      "1987          Ross County, OH\n",
      "12           Adams County, OH\n",
      "2270      Trumbull County, OH\n",
      "469       Clermont County, OH\n",
      "479        Clinton County, OH\n",
      "440          Clark County, OH\n",
      "Name: County, dtype: object\n"
     ]
    },
    {
     "data": {
      "application/vnd.plotly.v1+json": {
       "config": {
        "plotlyServerURL": "https://plot.ly"
       },
       "data": [
        {
         "alignmentgroup": "True",
         "bingroup": "x",
         "histfunc": "sum",
         "hovertemplate": "Population=13368036<br>County=%{x}<br>sum of Norm_Deaths=%{y}<extra></extra>",
         "legendgroup": "13368036",
         "marker": {
          "color": "#636efa",
          "pattern": {
           "shape": ""
          }
         },
         "name": "13368036",
         "offsetgroup": "13368036",
         "orientation": "v",
         "showlegend": true,
         "type": "histogram",
         "x": [
          "Bernalillo County, NM"
         ],
         "xaxis": "x",
         "y": [
          23.025072643430942
         ],
         "yaxis": "y"
        },
        {
         "alignmentgroup": "True",
         "bingroup": "x",
         "histfunc": "sum",
         "hovertemplate": "Population=74760<br>County=%{x}<br>sum of Norm_Deaths=%{y}<extra></extra>",
         "legendgroup": "74760",
         "marker": {
          "color": "#EF553B",
          "pattern": {
           "shape": ""
          }
         },
         "name": "74760",
         "offsetgroup": "74760",
         "orientation": "v",
         "showlegend": true,
         "type": "histogram",
         "x": [
          "Catron County, NM"
         ],
         "xaxis": "x",
         "y": [
          18.726591760299627
         ],
         "yaxis": "y"
        },
        {
         "alignmentgroup": "True",
         "bingroup": "x",
         "histfunc": "sum",
         "hovertemplate": "Population=1339825<br>County=%{x}<br>sum of Norm_Deaths=%{y}<extra></extra>",
         "legendgroup": "1339825",
         "marker": {
          "color": "#00cc96",
          "pattern": {
           "shape": ""
          }
         },
         "name": "1339825",
         "offsetgroup": "1339825",
         "orientation": "v",
         "showlegend": true,
         "type": "histogram",
         "x": [
          "Chaves County, NM"
         ],
         "xaxis": "x",
         "y": [
          17.763513891739596
         ],
         "yaxis": "y"
        },
        {
         "alignmentgroup": "True",
         "bingroup": "x",
         "histfunc": "sum",
         "hovertemplate": "Population=566123<br>County=%{x}<br>sum of Norm_Deaths=%{y}<extra></extra>",
         "legendgroup": "566123",
         "marker": {
          "color": "#ab63fa",
          "pattern": {
           "shape": ""
          }
         },
         "name": "566123",
         "offsetgroup": "566123",
         "orientation": "v",
         "showlegend": true,
         "type": "histogram",
         "x": [
          "Cibola County, NM"
         ],
         "xaxis": "x",
         "y": [
          11.834883938649375
         ],
         "yaxis": "y"
        },
        {
         "alignmentgroup": "True",
         "bingroup": "x",
         "histfunc": "sum",
         "hovertemplate": "Population=281469<br>County=%{x}<br>sum of Norm_Deaths=%{y}<extra></extra>",
         "legendgroup": "281469",
         "marker": {
          "color": "#FFA15A",
          "pattern": {
           "shape": ""
          }
         },
         "name": "281469",
         "offsetgroup": "281469",
         "orientation": "v",
         "showlegend": true,
         "type": "histogram",
         "x": [
          "Colfax County, NM"
         ],
         "xaxis": "x",
         "y": [
          16.69810885035297
         ],
         "yaxis": "y"
        },
        {
         "alignmentgroup": "True",
         "bingroup": "x",
         "histfunc": "sum",
         "hovertemplate": "Population=1003384<br>County=%{x}<br>sum of Norm_Deaths=%{y}<extra></extra>",
         "legendgroup": "1003384",
         "marker": {
          "color": "#19d3f3",
          "pattern": {
           "shape": ""
          }
         },
         "name": "1003384",
         "offsetgroup": "1003384",
         "orientation": "v",
         "showlegend": true,
         "type": "histogram",
         "x": [
          "Curry County, NM"
         ],
         "xaxis": "x",
         "y": [
          10.165599610916658
         ],
         "yaxis": "y"
        },
        {
         "alignmentgroup": "True",
         "bingroup": "x",
         "histfunc": "sum",
         "hovertemplate": "Population=4201734<br>County=%{x}<br>sum of Norm_Deaths=%{y}<extra></extra>",
         "legendgroup": "4201734",
         "marker": {
          "color": "#FF6692",
          "pattern": {
           "shape": ""
          }
         },
         "name": "4201734",
         "offsetgroup": "4201734",
         "orientation": "v",
         "showlegend": true,
         "type": "histogram",
         "x": [
          "Dona Ana County, NM"
         ],
         "xaxis": "x",
         "y": [
          11.566653196037636
         ],
         "yaxis": "y"
        },
        {
         "alignmentgroup": "True",
         "bingroup": "x",
         "histfunc": "sum",
         "hovertemplate": "Population=1130882<br>County=%{x}<br>sum of Norm_Deaths=%{y}<extra></extra>",
         "legendgroup": "1130882",
         "marker": {
          "color": "#B6E880",
          "pattern": {
           "shape": ""
          }
         },
         "name": "1130882",
         "offsetgroup": "1130882",
         "orientation": "v",
         "showlegend": true,
         "type": "histogram",
         "x": [
          "Eddy County, NM"
         ],
         "xaxis": "x",
         "y": [
          19.27698911115395
         ],
         "yaxis": "y"
        },
        {
         "alignmentgroup": "True",
         "bingroup": "x",
         "histfunc": "sum",
         "hovertemplate": "Population=615683<br>County=%{x}<br>sum of Norm_Deaths=%{y}<extra></extra>",
         "legendgroup": "615683",
         "marker": {
          "color": "#FF97FF",
          "pattern": {
           "shape": ""
          }
         },
         "name": "615683",
         "offsetgroup": "615683",
         "orientation": "v",
         "showlegend": true,
         "type": "histogram",
         "x": [
          "Grant County, NM"
         ],
         "xaxis": "x",
         "y": [
          16.242124599834657
         ],
         "yaxis": "y"
        },
        {
         "alignmentgroup": "True",
         "bingroup": "x",
         "histfunc": "sum",
         "hovertemplate": "Population=96549<br>County=%{x}<br>sum of Norm_Deaths=%{y}<extra></extra>",
         "legendgroup": "96549",
         "marker": {
          "color": "#FECB52",
          "pattern": {
           "shape": ""
          }
         },
         "name": "96549",
         "offsetgroup": "96549",
         "orientation": "v",
         "showlegend": true,
         "type": "histogram",
         "x": [
          "Guadalupe County, NM"
         ],
         "xaxis": "x",
         "y": [
          22.786357186506333
         ],
         "yaxis": "y"
        },
        {
         "alignmentgroup": "True",
         "bingroup": "x",
         "histfunc": "sum",
         "hovertemplate": "Population=103304<br>County=%{x}<br>sum of Norm_Deaths=%{y}<extra></extra>",
         "legendgroup": "103304",
         "marker": {
          "color": "#636efa",
          "pattern": {
           "shape": ""
          }
         },
         "name": "103304",
         "offsetgroup": "103304",
         "orientation": "v",
         "showlegend": true,
         "type": "histogram",
         "x": [
          "Hidalgo County, NM"
         ],
         "xaxis": "x",
         "y": [
          15.488267637264771
         ],
         "yaxis": "y"
        },
        {
         "alignmentgroup": "True",
         "bingroup": "x",
         "histfunc": "sum",
         "hovertemplate": "Population=1328809<br>County=%{x}<br>sum of Norm_Deaths=%{y}<extra></extra>",
         "legendgroup": "1328809",
         "marker": {
          "color": "#EF553B",
          "pattern": {
           "shape": ""
          }
         },
         "name": "1328809",
         "offsetgroup": "1328809",
         "orientation": "v",
         "showlegend": true,
         "type": "histogram",
         "x": [
          "Lea County, NM"
         ],
         "xaxis": "x",
         "y": [
          13.09443268370398
         ],
         "yaxis": "y"
        },
        {
         "alignmentgroup": "True",
         "bingroup": "x",
         "histfunc": "sum",
         "hovertemplate": "Population=418125<br>County=%{x}<br>sum of Norm_Deaths=%{y}<extra></extra>",
         "legendgroup": "418125",
         "marker": {
          "color": "#00cc96",
          "pattern": {
           "shape": ""
          }
         },
         "name": "418125",
         "offsetgroup": "418125",
         "orientation": "v",
         "showlegend": true,
         "type": "histogram",
         "x": [
          "Lincoln County, NM"
         ],
         "xaxis": "x",
         "y": [
          21.524663677130047
         ],
         "yaxis": "y"
        },
        {
         "alignmentgroup": "True",
         "bingroup": "x",
         "histfunc": "sum",
         "hovertemplate": "Population=383128<br>County=%{x}<br>sum of Norm_Deaths=%{y}<extra></extra>",
         "legendgroup": "383128",
         "marker": {
          "color": "#ab63fa",
          "pattern": {
           "shape": ""
          }
         },
         "name": "383128",
         "offsetgroup": "383128",
         "orientation": "v",
         "showlegend": true,
         "type": "histogram",
         "x": [
          "Los Alamos County, NM"
         ],
         "xaxis": "x",
         "y": [
          10.701384393727423
         ],
         "yaxis": "y"
        },
        {
         "alignmentgroup": "True",
         "bingroup": "x",
         "histfunc": "sum",
         "hovertemplate": "Population=520522<br>County=%{x}<br>sum of Norm_Deaths=%{y}<extra></extra>",
         "legendgroup": "520522",
         "marker": {
          "color": "#FFA15A",
          "pattern": {
           "shape": ""
          }
         },
         "name": "520522",
         "offsetgroup": "520522",
         "orientation": "v",
         "showlegend": true,
         "type": "histogram",
         "x": [
          "Luna County, NM"
         ],
         "xaxis": "x",
         "y": [
          9.98997160542686
         ],
         "yaxis": "y"
        },
        {
         "alignmentgroup": "True",
         "bingroup": "x",
         "histfunc": "sum",
         "hovertemplate": "Population=1524255<br>County=%{x}<br>sum of Norm_Deaths=%{y}<extra></extra>",
         "legendgroup": "1524255",
         "marker": {
          "color": "#19d3f3",
          "pattern": {
           "shape": ""
          }
         },
         "name": "1524255",
         "offsetgroup": "1524255",
         "orientation": "v",
         "showlegend": true,
         "type": "histogram",
         "x": [
          "McKinley County, NM"
         ],
         "xaxis": "x",
         "y": [
          8.39754503019508
         ],
         "yaxis": "y"
        },
        {
         "alignmentgroup": "True",
         "bingroup": "x",
         "histfunc": "sum",
         "hovertemplate": "Population=101859<br>County=%{x}<br>sum of Norm_Deaths=%{y}<extra></extra>",
         "legendgroup": "101859",
         "marker": {
          "color": "#FF6692",
          "pattern": {
           "shape": ""
          }
         },
         "name": "101859",
         "offsetgroup": "101859",
         "orientation": "v",
         "showlegend": true,
         "type": "histogram",
         "x": [
          "Mora County, NM"
         ],
         "xaxis": "x",
         "y": [
          17.671487055635733
         ],
         "yaxis": "y"
        },
        {
         "alignmentgroup": "True",
         "bingroup": "x",
         "histfunc": "sum",
         "hovertemplate": "Population=1338963<br>County=%{x}<br>sum of Norm_Deaths=%{y}<extra></extra>",
         "legendgroup": "1338963",
         "marker": {
          "color": "#B6E880",
          "pattern": {
           "shape": ""
          }
         },
         "name": "1338963",
         "offsetgroup": "1338963",
         "orientation": "v",
         "showlegend": true,
         "type": "histogram",
         "x": [
          "Otero County, NM"
         ],
         "xaxis": "x",
         "y": [
          13.069815969522683
         ],
         "yaxis": "y"
        },
        {
         "alignmentgroup": "True",
         "bingroup": "x",
         "histfunc": "sum",
         "hovertemplate": "Population=189480<br>County=%{x}<br>sum of Norm_Deaths=%{y}<extra></extra>",
         "legendgroup": "189480",
         "marker": {
          "color": "#FF97FF",
          "pattern": {
           "shape": ""
          }
         },
         "name": "189480",
         "offsetgroup": "189480",
         "orientation": "v",
         "showlegend": true,
         "type": "histogram",
         "x": [
          "Quay County, NM"
         ],
         "xaxis": "x",
         "y": [
          15.832805573147562
         ],
         "yaxis": "y"
        },
        {
         "alignmentgroup": "True",
         "bingroup": "x",
         "histfunc": "sum",
         "hovertemplate": "Population=842643<br>County=%{x}<br>sum of Norm_Deaths=%{y}<extra></extra>",
         "legendgroup": "842643",
         "marker": {
          "color": "#FECB52",
          "pattern": {
           "shape": ""
          }
         },
         "name": "842643",
         "offsetgroup": "842643",
         "orientation": "v",
         "showlegend": true,
         "type": "histogram",
         "x": [
          "Rio Arriba County, NM"
         ],
         "xaxis": "x",
         "y": [
          56.6076025078236
         ],
         "yaxis": "y"
        },
        {
         "alignmentgroup": "True",
         "bingroup": "x",
         "histfunc": "sum",
         "hovertemplate": "Population=401128<br>County=%{x}<br>sum of Norm_Deaths=%{y}<extra></extra>",
         "legendgroup": "401128",
         "marker": {
          "color": "#636efa",
          "pattern": {
           "shape": ""
          }
         },
         "name": "401128",
         "offsetgroup": "401128",
         "orientation": "v",
         "showlegend": true,
         "type": "histogram",
         "x": [
          "Roosevelt County, NM"
         ],
         "xaxis": "x",
         "y": [
          9.722582317863624
         ],
         "yaxis": "y"
        },
        {
         "alignmentgroup": "True",
         "bingroup": "x",
         "histfunc": "sum",
         "hovertemplate": "Population=2585336<br>County=%{x}<br>sum of Norm_Deaths=%{y}<extra></extra>",
         "legendgroup": "2585336",
         "marker": {
          "color": "#EF553B",
          "pattern": {
           "shape": ""
          }
         },
         "name": "2585336",
         "offsetgroup": "2585336",
         "orientation": "v",
         "showlegend": true,
         "type": "histogram",
         "x": [
          "San Juan County, NM"
         ],
         "xaxis": "x",
         "y": [
          10.985032506413093
         ],
         "yaxis": "y"
        },
        {
         "alignmentgroup": "True",
         "bingroup": "x",
         "histfunc": "sum",
         "hovertemplate": "Population=608352<br>County=%{x}<br>sum of Norm_Deaths=%{y}<extra></extra>",
         "legendgroup": "608352",
         "marker": {
          "color": "#00cc96",
          "pattern": {
           "shape": ""
          }
         },
         "name": "608352",
         "offsetgroup": "608352",
         "orientation": "v",
         "showlegend": true,
         "type": "histogram",
         "x": [
          "San Miguel County, NM"
         ],
         "xaxis": "x",
         "y": [
          22.848613960338753
         ],
         "yaxis": "y"
        },
        {
         "alignmentgroup": "True",
         "bingroup": "x",
         "histfunc": "sum",
         "hovertemplate": "Population=2557525<br>County=%{x}<br>sum of Norm_Deaths=%{y}<extra></extra>",
         "legendgroup": "2557525",
         "marker": {
          "color": "#ab63fa",
          "pattern": {
           "shape": ""
          }
         },
         "name": "2557525",
         "offsetgroup": "2557525",
         "orientation": "v",
         "showlegend": true,
         "type": "histogram",
         "x": [
          "Sandoval County, NM"
         ],
         "xaxis": "x",
         "y": [
          12.707598166195833
         ],
         "yaxis": "y"
        },
        {
         "alignmentgroup": "True",
         "bingroup": "x",
         "histfunc": "sum",
         "hovertemplate": "Population=2973270<br>County=%{x}<br>sum of Norm_Deaths=%{y}<extra></extra>",
         "legendgroup": "2973270",
         "marker": {
          "color": "#FFA15A",
          "pattern": {
           "shape": ""
          }
         },
         "name": "2973270",
         "offsetgroup": "2973270",
         "orientation": "v",
         "showlegend": true,
         "type": "histogram",
         "x": [
          "Santa Fe County, NM"
         ],
         "xaxis": "x",
         "y": [
          20.247068042929165
         ],
         "yaxis": "y"
        },
        {
         "alignmentgroup": "True",
         "bingroup": "x",
         "histfunc": "sum",
         "hovertemplate": "Population=250946<br>County=%{x}<br>sum of Norm_Deaths=%{y}<extra></extra>",
         "legendgroup": "250946",
         "marker": {
          "color": "#19d3f3",
          "pattern": {
           "shape": ""
          }
         },
         "name": "250946",
         "offsetgroup": "250946",
         "orientation": "v",
         "showlegend": true,
         "type": "histogram",
         "x": [
          "Sierra County, NM"
         ],
         "xaxis": "x",
         "y": [
          22.315557928797432
         ],
         "yaxis": "y"
        },
        {
         "alignmentgroup": "True",
         "bingroup": "x",
         "histfunc": "sum",
         "hovertemplate": "Population=370364<br>County=%{x}<br>sum of Norm_Deaths=%{y}<extra></extra>",
         "legendgroup": "370364",
         "marker": {
          "color": "#FF6692",
          "pattern": {
           "shape": ""
          }
         },
         "name": "370364",
         "offsetgroup": "370364",
         "orientation": "v",
         "showlegend": true,
         "type": "histogram",
         "x": [
          "Socorro County, NM"
         ],
         "xaxis": "x",
         "y": [
          16.740287932952445
         ],
         "yaxis": "y"
        },
        {
         "alignmentgroup": "True",
         "bingroup": "x",
         "histfunc": "sum",
         "hovertemplate": "Population=674375<br>County=%{x}<br>sum of Norm_Deaths=%{y}<extra></extra>",
         "legendgroup": "674375",
         "marker": {
          "color": "#B6E880",
          "pattern": {
           "shape": ""
          }
         },
         "name": "674375",
         "offsetgroup": "674375",
         "orientation": "v",
         "showlegend": true,
         "type": "histogram",
         "x": [
          "Taos County, NM"
         ],
         "xaxis": "x",
         "y": [
          19.12882298424467
         ],
         "yaxis": "y"
        },
        {
         "alignmentgroup": "True",
         "bingroup": "x",
         "histfunc": "sum",
         "hovertemplate": "Population=340666<br>County=%{x}<br>sum of Norm_Deaths=%{y}<extra></extra>",
         "legendgroup": "340666",
         "marker": {
          "color": "#FF97FF",
          "pattern": {
           "shape": ""
          }
         },
         "name": "340666",
         "offsetgroup": "340666",
         "orientation": "v",
         "showlegend": true,
         "type": "histogram",
         "x": [
          "Torrance County, NM"
         ],
         "xaxis": "x",
         "y": [
          22.309241309669883
         ],
         "yaxis": "y"
        },
        {
         "alignmentgroup": "True",
         "bingroup": "x",
         "histfunc": "sum",
         "hovertemplate": "Population=1534083<br>County=%{x}<br>sum of Norm_Deaths=%{y}<extra></extra>",
         "legendgroup": "1534083",
         "marker": {
          "color": "#FECB52",
          "pattern": {
           "shape": ""
          }
         },
         "name": "1534083",
         "offsetgroup": "1534083",
         "orientation": "v",
         "showlegend": true,
         "type": "histogram",
         "x": [
          "Valencia County, NM"
         ],
         "xaxis": "x",
         "y": [
          21.315665449652986
         ],
         "yaxis": "y"
        }
       ],
       "layout": {
        "barmode": "relative",
        "legend": {
         "title": {
          "text": "Population"
         },
         "tracegroupgap": 0
        },
        "template": {
         "data": {
          "bar": [
           {
            "error_x": {
             "color": "#2a3f5f"
            },
            "error_y": {
             "color": "#2a3f5f"
            },
            "marker": {
             "line": {
              "color": "#E5ECF6",
              "width": 0.5
             },
             "pattern": {
              "fillmode": "overlay",
              "size": 10,
              "solidity": 0.2
             }
            },
            "type": "bar"
           }
          ],
          "barpolar": [
           {
            "marker": {
             "line": {
              "color": "#E5ECF6",
              "width": 0.5
             },
             "pattern": {
              "fillmode": "overlay",
              "size": 10,
              "solidity": 0.2
             }
            },
            "type": "barpolar"
           }
          ],
          "carpet": [
           {
            "aaxis": {
             "endlinecolor": "#2a3f5f",
             "gridcolor": "white",
             "linecolor": "white",
             "minorgridcolor": "white",
             "startlinecolor": "#2a3f5f"
            },
            "baxis": {
             "endlinecolor": "#2a3f5f",
             "gridcolor": "white",
             "linecolor": "white",
             "minorgridcolor": "white",
             "startlinecolor": "#2a3f5f"
            },
            "type": "carpet"
           }
          ],
          "choropleth": [
           {
            "colorbar": {
             "outlinewidth": 0,
             "ticks": ""
            },
            "type": "choropleth"
           }
          ],
          "contour": [
           {
            "colorbar": {
             "outlinewidth": 0,
             "ticks": ""
            },
            "colorscale": [
             [
              0,
              "#0d0887"
             ],
             [
              0.1111111111111111,
              "#46039f"
             ],
             [
              0.2222222222222222,
              "#7201a8"
             ],
             [
              0.3333333333333333,
              "#9c179e"
             ],
             [
              0.4444444444444444,
              "#bd3786"
             ],
             [
              0.5555555555555556,
              "#d8576b"
             ],
             [
              0.6666666666666666,
              "#ed7953"
             ],
             [
              0.7777777777777778,
              "#fb9f3a"
             ],
             [
              0.8888888888888888,
              "#fdca26"
             ],
             [
              1,
              "#f0f921"
             ]
            ],
            "type": "contour"
           }
          ],
          "contourcarpet": [
           {
            "colorbar": {
             "outlinewidth": 0,
             "ticks": ""
            },
            "type": "contourcarpet"
           }
          ],
          "heatmap": [
           {
            "colorbar": {
             "outlinewidth": 0,
             "ticks": ""
            },
            "colorscale": [
             [
              0,
              "#0d0887"
             ],
             [
              0.1111111111111111,
              "#46039f"
             ],
             [
              0.2222222222222222,
              "#7201a8"
             ],
             [
              0.3333333333333333,
              "#9c179e"
             ],
             [
              0.4444444444444444,
              "#bd3786"
             ],
             [
              0.5555555555555556,
              "#d8576b"
             ],
             [
              0.6666666666666666,
              "#ed7953"
             ],
             [
              0.7777777777777778,
              "#fb9f3a"
             ],
             [
              0.8888888888888888,
              "#fdca26"
             ],
             [
              1,
              "#f0f921"
             ]
            ],
            "type": "heatmap"
           }
          ],
          "heatmapgl": [
           {
            "colorbar": {
             "outlinewidth": 0,
             "ticks": ""
            },
            "colorscale": [
             [
              0,
              "#0d0887"
             ],
             [
              0.1111111111111111,
              "#46039f"
             ],
             [
              0.2222222222222222,
              "#7201a8"
             ],
             [
              0.3333333333333333,
              "#9c179e"
             ],
             [
              0.4444444444444444,
              "#bd3786"
             ],
             [
              0.5555555555555556,
              "#d8576b"
             ],
             [
              0.6666666666666666,
              "#ed7953"
             ],
             [
              0.7777777777777778,
              "#fb9f3a"
             ],
             [
              0.8888888888888888,
              "#fdca26"
             ],
             [
              1,
              "#f0f921"
             ]
            ],
            "type": "heatmapgl"
           }
          ],
          "histogram": [
           {
            "marker": {
             "pattern": {
              "fillmode": "overlay",
              "size": 10,
              "solidity": 0.2
             }
            },
            "type": "histogram"
           }
          ],
          "histogram2d": [
           {
            "colorbar": {
             "outlinewidth": 0,
             "ticks": ""
            },
            "colorscale": [
             [
              0,
              "#0d0887"
             ],
             [
              0.1111111111111111,
              "#46039f"
             ],
             [
              0.2222222222222222,
              "#7201a8"
             ],
             [
              0.3333333333333333,
              "#9c179e"
             ],
             [
              0.4444444444444444,
              "#bd3786"
             ],
             [
              0.5555555555555556,
              "#d8576b"
             ],
             [
              0.6666666666666666,
              "#ed7953"
             ],
             [
              0.7777777777777778,
              "#fb9f3a"
             ],
             [
              0.8888888888888888,
              "#fdca26"
             ],
             [
              1,
              "#f0f921"
             ]
            ],
            "type": "histogram2d"
           }
          ],
          "histogram2dcontour": [
           {
            "colorbar": {
             "outlinewidth": 0,
             "ticks": ""
            },
            "colorscale": [
             [
              0,
              "#0d0887"
             ],
             [
              0.1111111111111111,
              "#46039f"
             ],
             [
              0.2222222222222222,
              "#7201a8"
             ],
             [
              0.3333333333333333,
              "#9c179e"
             ],
             [
              0.4444444444444444,
              "#bd3786"
             ],
             [
              0.5555555555555556,
              "#d8576b"
             ],
             [
              0.6666666666666666,
              "#ed7953"
             ],
             [
              0.7777777777777778,
              "#fb9f3a"
             ],
             [
              0.8888888888888888,
              "#fdca26"
             ],
             [
              1,
              "#f0f921"
             ]
            ],
            "type": "histogram2dcontour"
           }
          ],
          "mesh3d": [
           {
            "colorbar": {
             "outlinewidth": 0,
             "ticks": ""
            },
            "type": "mesh3d"
           }
          ],
          "parcoords": [
           {
            "line": {
             "colorbar": {
              "outlinewidth": 0,
              "ticks": ""
             }
            },
            "type": "parcoords"
           }
          ],
          "pie": [
           {
            "automargin": true,
            "type": "pie"
           }
          ],
          "scatter": [
           {
            "marker": {
             "colorbar": {
              "outlinewidth": 0,
              "ticks": ""
             }
            },
            "type": "scatter"
           }
          ],
          "scatter3d": [
           {
            "line": {
             "colorbar": {
              "outlinewidth": 0,
              "ticks": ""
             }
            },
            "marker": {
             "colorbar": {
              "outlinewidth": 0,
              "ticks": ""
             }
            },
            "type": "scatter3d"
           }
          ],
          "scattercarpet": [
           {
            "marker": {
             "colorbar": {
              "outlinewidth": 0,
              "ticks": ""
             }
            },
            "type": "scattercarpet"
           }
          ],
          "scattergeo": [
           {
            "marker": {
             "colorbar": {
              "outlinewidth": 0,
              "ticks": ""
             }
            },
            "type": "scattergeo"
           }
          ],
          "scattergl": [
           {
            "marker": {
             "colorbar": {
              "outlinewidth": 0,
              "ticks": ""
             }
            },
            "type": "scattergl"
           }
          ],
          "scattermapbox": [
           {
            "marker": {
             "colorbar": {
              "outlinewidth": 0,
              "ticks": ""
             }
            },
            "type": "scattermapbox"
           }
          ],
          "scatterpolar": [
           {
            "marker": {
             "colorbar": {
              "outlinewidth": 0,
              "ticks": ""
             }
            },
            "type": "scatterpolar"
           }
          ],
          "scatterpolargl": [
           {
            "marker": {
             "colorbar": {
              "outlinewidth": 0,
              "ticks": ""
             }
            },
            "type": "scatterpolargl"
           }
          ],
          "scatterternary": [
           {
            "marker": {
             "colorbar": {
              "outlinewidth": 0,
              "ticks": ""
             }
            },
            "type": "scatterternary"
           }
          ],
          "surface": [
           {
            "colorbar": {
             "outlinewidth": 0,
             "ticks": ""
            },
            "colorscale": [
             [
              0,
              "#0d0887"
             ],
             [
              0.1111111111111111,
              "#46039f"
             ],
             [
              0.2222222222222222,
              "#7201a8"
             ],
             [
              0.3333333333333333,
              "#9c179e"
             ],
             [
              0.4444444444444444,
              "#bd3786"
             ],
             [
              0.5555555555555556,
              "#d8576b"
             ],
             [
              0.6666666666666666,
              "#ed7953"
             ],
             [
              0.7777777777777778,
              "#fb9f3a"
             ],
             [
              0.8888888888888888,
              "#fdca26"
             ],
             [
              1,
              "#f0f921"
             ]
            ],
            "type": "surface"
           }
          ],
          "table": [
           {
            "cells": {
             "fill": {
              "color": "#EBF0F8"
             },
             "line": {
              "color": "white"
             }
            },
            "header": {
             "fill": {
              "color": "#C8D4E3"
             },
             "line": {
              "color": "white"
             }
            },
            "type": "table"
           }
          ]
         },
         "layout": {
          "annotationdefaults": {
           "arrowcolor": "#2a3f5f",
           "arrowhead": 0,
           "arrowwidth": 1
          },
          "autotypenumbers": "strict",
          "coloraxis": {
           "colorbar": {
            "outlinewidth": 0,
            "ticks": ""
           }
          },
          "colorscale": {
           "diverging": [
            [
             0,
             "#8e0152"
            ],
            [
             0.1,
             "#c51b7d"
            ],
            [
             0.2,
             "#de77ae"
            ],
            [
             0.3,
             "#f1b6da"
            ],
            [
             0.4,
             "#fde0ef"
            ],
            [
             0.5,
             "#f7f7f7"
            ],
            [
             0.6,
             "#e6f5d0"
            ],
            [
             0.7,
             "#b8e186"
            ],
            [
             0.8,
             "#7fbc41"
            ],
            [
             0.9,
             "#4d9221"
            ],
            [
             1,
             "#276419"
            ]
           ],
           "sequential": [
            [
             0,
             "#0d0887"
            ],
            [
             0.1111111111111111,
             "#46039f"
            ],
            [
             0.2222222222222222,
             "#7201a8"
            ],
            [
             0.3333333333333333,
             "#9c179e"
            ],
            [
             0.4444444444444444,
             "#bd3786"
            ],
            [
             0.5555555555555556,
             "#d8576b"
            ],
            [
             0.6666666666666666,
             "#ed7953"
            ],
            [
             0.7777777777777778,
             "#fb9f3a"
            ],
            [
             0.8888888888888888,
             "#fdca26"
            ],
            [
             1,
             "#f0f921"
            ]
           ],
           "sequentialminus": [
            [
             0,
             "#0d0887"
            ],
            [
             0.1111111111111111,
             "#46039f"
            ],
            [
             0.2222222222222222,
             "#7201a8"
            ],
            [
             0.3333333333333333,
             "#9c179e"
            ],
            [
             0.4444444444444444,
             "#bd3786"
            ],
            [
             0.5555555555555556,
             "#d8576b"
            ],
            [
             0.6666666666666666,
             "#ed7953"
            ],
            [
             0.7777777777777778,
             "#fb9f3a"
            ],
            [
             0.8888888888888888,
             "#fdca26"
            ],
            [
             1,
             "#f0f921"
            ]
           ]
          },
          "colorway": [
           "#636efa",
           "#EF553B",
           "#00cc96",
           "#ab63fa",
           "#FFA15A",
           "#19d3f3",
           "#FF6692",
           "#B6E880",
           "#FF97FF",
           "#FECB52"
          ],
          "font": {
           "color": "#2a3f5f"
          },
          "geo": {
           "bgcolor": "white",
           "lakecolor": "white",
           "landcolor": "#E5ECF6",
           "showlakes": true,
           "showland": true,
           "subunitcolor": "white"
          },
          "hoverlabel": {
           "align": "left"
          },
          "hovermode": "closest",
          "mapbox": {
           "style": "light"
          },
          "paper_bgcolor": "white",
          "plot_bgcolor": "#E5ECF6",
          "polar": {
           "angularaxis": {
            "gridcolor": "white",
            "linecolor": "white",
            "ticks": ""
           },
           "bgcolor": "#E5ECF6",
           "radialaxis": {
            "gridcolor": "white",
            "linecolor": "white",
            "ticks": ""
           }
          },
          "scene": {
           "xaxis": {
            "backgroundcolor": "#E5ECF6",
            "gridcolor": "white",
            "gridwidth": 2,
            "linecolor": "white",
            "showbackground": true,
            "ticks": "",
            "zerolinecolor": "white"
           },
           "yaxis": {
            "backgroundcolor": "#E5ECF6",
            "gridcolor": "white",
            "gridwidth": 2,
            "linecolor": "white",
            "showbackground": true,
            "ticks": "",
            "zerolinecolor": "white"
           },
           "zaxis": {
            "backgroundcolor": "#E5ECF6",
            "gridcolor": "white",
            "gridwidth": 2,
            "linecolor": "white",
            "showbackground": true,
            "ticks": "",
            "zerolinecolor": "white"
           }
          },
          "shapedefaults": {
           "line": {
            "color": "#2a3f5f"
           }
          },
          "ternary": {
           "aaxis": {
            "gridcolor": "white",
            "linecolor": "white",
            "ticks": ""
           },
           "baxis": {
            "gridcolor": "white",
            "linecolor": "white",
            "ticks": ""
           },
           "bgcolor": "#E5ECF6",
           "caxis": {
            "gridcolor": "white",
            "linecolor": "white",
            "ticks": ""
           }
          },
          "title": {
           "x": 0.05
          },
          "xaxis": {
           "automargin": true,
           "gridcolor": "white",
           "linecolor": "white",
           "ticks": "",
           "title": {
            "standoff": 15
           },
           "zerolinecolor": "white",
           "zerolinewidth": 2
          },
          "yaxis": {
           "automargin": true,
           "gridcolor": "white",
           "linecolor": "white",
           "ticks": "",
           "title": {
            "standoff": 15
           },
           "zerolinecolor": "white",
           "zerolinewidth": 2
          }
         }
        },
        "title": {
         "text": "Opiod Mortality rate in\tNM"
        },
        "xaxis": {
         "anchor": "y",
         "domain": [
          0,
          1
         ],
         "title": {
          "text": "County"
         }
        },
        "yaxis": {
         "anchor": "x",
         "domain": [
          0,
          1
         ],
         "title": {
          "text": "sum of Norm_Deaths"
         }
        }
       }
      },
      "text/html": [
       "<div>                            <div id=\"9c10268f-f4e1-45ee-b194-23fd5c8abf53\" class=\"plotly-graph-div\" style=\"height:525px; width:100%;\"></div>            <script type=\"text/javascript\">                require([\"plotly\"], function(Plotly) {                    window.PLOTLYENV=window.PLOTLYENV || {};                                    if (document.getElementById(\"9c10268f-f4e1-45ee-b194-23fd5c8abf53\")) {                    Plotly.newPlot(                        \"9c10268f-f4e1-45ee-b194-23fd5c8abf53\",                        [{\"alignmentgroup\":\"True\",\"bingroup\":\"x\",\"histfunc\":\"sum\",\"hovertemplate\":\"Population=13368036<br>County=%{x}<br>sum of Norm_Deaths=%{y}<extra></extra>\",\"legendgroup\":\"13368036\",\"marker\":{\"color\":\"#636efa\",\"pattern\":{\"shape\":\"\"}},\"name\":\"13368036\",\"offsetgroup\":\"13368036\",\"orientation\":\"v\",\"showlegend\":true,\"x\":[\"Bernalillo County, NM\"],\"xaxis\":\"x\",\"y\":[23.025072643430942],\"yaxis\":\"y\",\"type\":\"histogram\"},{\"alignmentgroup\":\"True\",\"bingroup\":\"x\",\"histfunc\":\"sum\",\"hovertemplate\":\"Population=74760<br>County=%{x}<br>sum of Norm_Deaths=%{y}<extra></extra>\",\"legendgroup\":\"74760\",\"marker\":{\"color\":\"#EF553B\",\"pattern\":{\"shape\":\"\"}},\"name\":\"74760\",\"offsetgroup\":\"74760\",\"orientation\":\"v\",\"showlegend\":true,\"x\":[\"Catron County, NM\"],\"xaxis\":\"x\",\"y\":[18.726591760299627],\"yaxis\":\"y\",\"type\":\"histogram\"},{\"alignmentgroup\":\"True\",\"bingroup\":\"x\",\"histfunc\":\"sum\",\"hovertemplate\":\"Population=1339825<br>County=%{x}<br>sum of Norm_Deaths=%{y}<extra></extra>\",\"legendgroup\":\"1339825\",\"marker\":{\"color\":\"#00cc96\",\"pattern\":{\"shape\":\"\"}},\"name\":\"1339825\",\"offsetgroup\":\"1339825\",\"orientation\":\"v\",\"showlegend\":true,\"x\":[\"Chaves County, NM\"],\"xaxis\":\"x\",\"y\":[17.763513891739596],\"yaxis\":\"y\",\"type\":\"histogram\"},{\"alignmentgroup\":\"True\",\"bingroup\":\"x\",\"histfunc\":\"sum\",\"hovertemplate\":\"Population=566123<br>County=%{x}<br>sum of Norm_Deaths=%{y}<extra></extra>\",\"legendgroup\":\"566123\",\"marker\":{\"color\":\"#ab63fa\",\"pattern\":{\"shape\":\"\"}},\"name\":\"566123\",\"offsetgroup\":\"566123\",\"orientation\":\"v\",\"showlegend\":true,\"x\":[\"Cibola County, NM\"],\"xaxis\":\"x\",\"y\":[11.834883938649375],\"yaxis\":\"y\",\"type\":\"histogram\"},{\"alignmentgroup\":\"True\",\"bingroup\":\"x\",\"histfunc\":\"sum\",\"hovertemplate\":\"Population=281469<br>County=%{x}<br>sum of Norm_Deaths=%{y}<extra></extra>\",\"legendgroup\":\"281469\",\"marker\":{\"color\":\"#FFA15A\",\"pattern\":{\"shape\":\"\"}},\"name\":\"281469\",\"offsetgroup\":\"281469\",\"orientation\":\"v\",\"showlegend\":true,\"x\":[\"Colfax County, NM\"],\"xaxis\":\"x\",\"y\":[16.69810885035297],\"yaxis\":\"y\",\"type\":\"histogram\"},{\"alignmentgroup\":\"True\",\"bingroup\":\"x\",\"histfunc\":\"sum\",\"hovertemplate\":\"Population=1003384<br>County=%{x}<br>sum of Norm_Deaths=%{y}<extra></extra>\",\"legendgroup\":\"1003384\",\"marker\":{\"color\":\"#19d3f3\",\"pattern\":{\"shape\":\"\"}},\"name\":\"1003384\",\"offsetgroup\":\"1003384\",\"orientation\":\"v\",\"showlegend\":true,\"x\":[\"Curry County, NM\"],\"xaxis\":\"x\",\"y\":[10.165599610916658],\"yaxis\":\"y\",\"type\":\"histogram\"},{\"alignmentgroup\":\"True\",\"bingroup\":\"x\",\"histfunc\":\"sum\",\"hovertemplate\":\"Population=4201734<br>County=%{x}<br>sum of Norm_Deaths=%{y}<extra></extra>\",\"legendgroup\":\"4201734\",\"marker\":{\"color\":\"#FF6692\",\"pattern\":{\"shape\":\"\"}},\"name\":\"4201734\",\"offsetgroup\":\"4201734\",\"orientation\":\"v\",\"showlegend\":true,\"x\":[\"Dona Ana County, NM\"],\"xaxis\":\"x\",\"y\":[11.566653196037636],\"yaxis\":\"y\",\"type\":\"histogram\"},{\"alignmentgroup\":\"True\",\"bingroup\":\"x\",\"histfunc\":\"sum\",\"hovertemplate\":\"Population=1130882<br>County=%{x}<br>sum of Norm_Deaths=%{y}<extra></extra>\",\"legendgroup\":\"1130882\",\"marker\":{\"color\":\"#B6E880\",\"pattern\":{\"shape\":\"\"}},\"name\":\"1130882\",\"offsetgroup\":\"1130882\",\"orientation\":\"v\",\"showlegend\":true,\"x\":[\"Eddy County, NM\"],\"xaxis\":\"x\",\"y\":[19.27698911115395],\"yaxis\":\"y\",\"type\":\"histogram\"},{\"alignmentgroup\":\"True\",\"bingroup\":\"x\",\"histfunc\":\"sum\",\"hovertemplate\":\"Population=615683<br>County=%{x}<br>sum of Norm_Deaths=%{y}<extra></extra>\",\"legendgroup\":\"615683\",\"marker\":{\"color\":\"#FF97FF\",\"pattern\":{\"shape\":\"\"}},\"name\":\"615683\",\"offsetgroup\":\"615683\",\"orientation\":\"v\",\"showlegend\":true,\"x\":[\"Grant County, NM\"],\"xaxis\":\"x\",\"y\":[16.242124599834657],\"yaxis\":\"y\",\"type\":\"histogram\"},{\"alignmentgroup\":\"True\",\"bingroup\":\"x\",\"histfunc\":\"sum\",\"hovertemplate\":\"Population=96549<br>County=%{x}<br>sum of Norm_Deaths=%{y}<extra></extra>\",\"legendgroup\":\"96549\",\"marker\":{\"color\":\"#FECB52\",\"pattern\":{\"shape\":\"\"}},\"name\":\"96549\",\"offsetgroup\":\"96549\",\"orientation\":\"v\",\"showlegend\":true,\"x\":[\"Guadalupe County, NM\"],\"xaxis\":\"x\",\"y\":[22.786357186506333],\"yaxis\":\"y\",\"type\":\"histogram\"},{\"alignmentgroup\":\"True\",\"bingroup\":\"x\",\"histfunc\":\"sum\",\"hovertemplate\":\"Population=103304<br>County=%{x}<br>sum of Norm_Deaths=%{y}<extra></extra>\",\"legendgroup\":\"103304\",\"marker\":{\"color\":\"#636efa\",\"pattern\":{\"shape\":\"\"}},\"name\":\"103304\",\"offsetgroup\":\"103304\",\"orientation\":\"v\",\"showlegend\":true,\"x\":[\"Hidalgo County, NM\"],\"xaxis\":\"x\",\"y\":[15.488267637264771],\"yaxis\":\"y\",\"type\":\"histogram\"},{\"alignmentgroup\":\"True\",\"bingroup\":\"x\",\"histfunc\":\"sum\",\"hovertemplate\":\"Population=1328809<br>County=%{x}<br>sum of Norm_Deaths=%{y}<extra></extra>\",\"legendgroup\":\"1328809\",\"marker\":{\"color\":\"#EF553B\",\"pattern\":{\"shape\":\"\"}},\"name\":\"1328809\",\"offsetgroup\":\"1328809\",\"orientation\":\"v\",\"showlegend\":true,\"x\":[\"Lea County, NM\"],\"xaxis\":\"x\",\"y\":[13.09443268370398],\"yaxis\":\"y\",\"type\":\"histogram\"},{\"alignmentgroup\":\"True\",\"bingroup\":\"x\",\"histfunc\":\"sum\",\"hovertemplate\":\"Population=418125<br>County=%{x}<br>sum of Norm_Deaths=%{y}<extra></extra>\",\"legendgroup\":\"418125\",\"marker\":{\"color\":\"#00cc96\",\"pattern\":{\"shape\":\"\"}},\"name\":\"418125\",\"offsetgroup\":\"418125\",\"orientation\":\"v\",\"showlegend\":true,\"x\":[\"Lincoln County, NM\"],\"xaxis\":\"x\",\"y\":[21.524663677130047],\"yaxis\":\"y\",\"type\":\"histogram\"},{\"alignmentgroup\":\"True\",\"bingroup\":\"x\",\"histfunc\":\"sum\",\"hovertemplate\":\"Population=383128<br>County=%{x}<br>sum of Norm_Deaths=%{y}<extra></extra>\",\"legendgroup\":\"383128\",\"marker\":{\"color\":\"#ab63fa\",\"pattern\":{\"shape\":\"\"}},\"name\":\"383128\",\"offsetgroup\":\"383128\",\"orientation\":\"v\",\"showlegend\":true,\"x\":[\"Los Alamos County, NM\"],\"xaxis\":\"x\",\"y\":[10.701384393727423],\"yaxis\":\"y\",\"type\":\"histogram\"},{\"alignmentgroup\":\"True\",\"bingroup\":\"x\",\"histfunc\":\"sum\",\"hovertemplate\":\"Population=520522<br>County=%{x}<br>sum of Norm_Deaths=%{y}<extra></extra>\",\"legendgroup\":\"520522\",\"marker\":{\"color\":\"#FFA15A\",\"pattern\":{\"shape\":\"\"}},\"name\":\"520522\",\"offsetgroup\":\"520522\",\"orientation\":\"v\",\"showlegend\":true,\"x\":[\"Luna County, NM\"],\"xaxis\":\"x\",\"y\":[9.98997160542686],\"yaxis\":\"y\",\"type\":\"histogram\"},{\"alignmentgroup\":\"True\",\"bingroup\":\"x\",\"histfunc\":\"sum\",\"hovertemplate\":\"Population=1524255<br>County=%{x}<br>sum of Norm_Deaths=%{y}<extra></extra>\",\"legendgroup\":\"1524255\",\"marker\":{\"color\":\"#19d3f3\",\"pattern\":{\"shape\":\"\"}},\"name\":\"1524255\",\"offsetgroup\":\"1524255\",\"orientation\":\"v\",\"showlegend\":true,\"x\":[\"McKinley County, NM\"],\"xaxis\":\"x\",\"y\":[8.39754503019508],\"yaxis\":\"y\",\"type\":\"histogram\"},{\"alignmentgroup\":\"True\",\"bingroup\":\"x\",\"histfunc\":\"sum\",\"hovertemplate\":\"Population=101859<br>County=%{x}<br>sum of Norm_Deaths=%{y}<extra></extra>\",\"legendgroup\":\"101859\",\"marker\":{\"color\":\"#FF6692\",\"pattern\":{\"shape\":\"\"}},\"name\":\"101859\",\"offsetgroup\":\"101859\",\"orientation\":\"v\",\"showlegend\":true,\"x\":[\"Mora County, NM\"],\"xaxis\":\"x\",\"y\":[17.671487055635733],\"yaxis\":\"y\",\"type\":\"histogram\"},{\"alignmentgroup\":\"True\",\"bingroup\":\"x\",\"histfunc\":\"sum\",\"hovertemplate\":\"Population=1338963<br>County=%{x}<br>sum of Norm_Deaths=%{y}<extra></extra>\",\"legendgroup\":\"1338963\",\"marker\":{\"color\":\"#B6E880\",\"pattern\":{\"shape\":\"\"}},\"name\":\"1338963\",\"offsetgroup\":\"1338963\",\"orientation\":\"v\",\"showlegend\":true,\"x\":[\"Otero County, NM\"],\"xaxis\":\"x\",\"y\":[13.069815969522683],\"yaxis\":\"y\",\"type\":\"histogram\"},{\"alignmentgroup\":\"True\",\"bingroup\":\"x\",\"histfunc\":\"sum\",\"hovertemplate\":\"Population=189480<br>County=%{x}<br>sum of Norm_Deaths=%{y}<extra></extra>\",\"legendgroup\":\"189480\",\"marker\":{\"color\":\"#FF97FF\",\"pattern\":{\"shape\":\"\"}},\"name\":\"189480\",\"offsetgroup\":\"189480\",\"orientation\":\"v\",\"showlegend\":true,\"x\":[\"Quay County, NM\"],\"xaxis\":\"x\",\"y\":[15.832805573147562],\"yaxis\":\"y\",\"type\":\"histogram\"},{\"alignmentgroup\":\"True\",\"bingroup\":\"x\",\"histfunc\":\"sum\",\"hovertemplate\":\"Population=842643<br>County=%{x}<br>sum of Norm_Deaths=%{y}<extra></extra>\",\"legendgroup\":\"842643\",\"marker\":{\"color\":\"#FECB52\",\"pattern\":{\"shape\":\"\"}},\"name\":\"842643\",\"offsetgroup\":\"842643\",\"orientation\":\"v\",\"showlegend\":true,\"x\":[\"Rio Arriba County, NM\"],\"xaxis\":\"x\",\"y\":[56.6076025078236],\"yaxis\":\"y\",\"type\":\"histogram\"},{\"alignmentgroup\":\"True\",\"bingroup\":\"x\",\"histfunc\":\"sum\",\"hovertemplate\":\"Population=401128<br>County=%{x}<br>sum of Norm_Deaths=%{y}<extra></extra>\",\"legendgroup\":\"401128\",\"marker\":{\"color\":\"#636efa\",\"pattern\":{\"shape\":\"\"}},\"name\":\"401128\",\"offsetgroup\":\"401128\",\"orientation\":\"v\",\"showlegend\":true,\"x\":[\"Roosevelt County, NM\"],\"xaxis\":\"x\",\"y\":[9.722582317863624],\"yaxis\":\"y\",\"type\":\"histogram\"},{\"alignmentgroup\":\"True\",\"bingroup\":\"x\",\"histfunc\":\"sum\",\"hovertemplate\":\"Population=2585336<br>County=%{x}<br>sum of Norm_Deaths=%{y}<extra></extra>\",\"legendgroup\":\"2585336\",\"marker\":{\"color\":\"#EF553B\",\"pattern\":{\"shape\":\"\"}},\"name\":\"2585336\",\"offsetgroup\":\"2585336\",\"orientation\":\"v\",\"showlegend\":true,\"x\":[\"San Juan County, NM\"],\"xaxis\":\"x\",\"y\":[10.985032506413093],\"yaxis\":\"y\",\"type\":\"histogram\"},{\"alignmentgroup\":\"True\",\"bingroup\":\"x\",\"histfunc\":\"sum\",\"hovertemplate\":\"Population=608352<br>County=%{x}<br>sum of Norm_Deaths=%{y}<extra></extra>\",\"legendgroup\":\"608352\",\"marker\":{\"color\":\"#00cc96\",\"pattern\":{\"shape\":\"\"}},\"name\":\"608352\",\"offsetgroup\":\"608352\",\"orientation\":\"v\",\"showlegend\":true,\"x\":[\"San Miguel County, NM\"],\"xaxis\":\"x\",\"y\":[22.848613960338753],\"yaxis\":\"y\",\"type\":\"histogram\"},{\"alignmentgroup\":\"True\",\"bingroup\":\"x\",\"histfunc\":\"sum\",\"hovertemplate\":\"Population=2557525<br>County=%{x}<br>sum of Norm_Deaths=%{y}<extra></extra>\",\"legendgroup\":\"2557525\",\"marker\":{\"color\":\"#ab63fa\",\"pattern\":{\"shape\":\"\"}},\"name\":\"2557525\",\"offsetgroup\":\"2557525\",\"orientation\":\"v\",\"showlegend\":true,\"x\":[\"Sandoval County, NM\"],\"xaxis\":\"x\",\"y\":[12.707598166195833],\"yaxis\":\"y\",\"type\":\"histogram\"},{\"alignmentgroup\":\"True\",\"bingroup\":\"x\",\"histfunc\":\"sum\",\"hovertemplate\":\"Population=2973270<br>County=%{x}<br>sum of Norm_Deaths=%{y}<extra></extra>\",\"legendgroup\":\"2973270\",\"marker\":{\"color\":\"#FFA15A\",\"pattern\":{\"shape\":\"\"}},\"name\":\"2973270\",\"offsetgroup\":\"2973270\",\"orientation\":\"v\",\"showlegend\":true,\"x\":[\"Santa Fe County, NM\"],\"xaxis\":\"x\",\"y\":[20.247068042929165],\"yaxis\":\"y\",\"type\":\"histogram\"},{\"alignmentgroup\":\"True\",\"bingroup\":\"x\",\"histfunc\":\"sum\",\"hovertemplate\":\"Population=250946<br>County=%{x}<br>sum of Norm_Deaths=%{y}<extra></extra>\",\"legendgroup\":\"250946\",\"marker\":{\"color\":\"#19d3f3\",\"pattern\":{\"shape\":\"\"}},\"name\":\"250946\",\"offsetgroup\":\"250946\",\"orientation\":\"v\",\"showlegend\":true,\"x\":[\"Sierra County, NM\"],\"xaxis\":\"x\",\"y\":[22.315557928797432],\"yaxis\":\"y\",\"type\":\"histogram\"},{\"alignmentgroup\":\"True\",\"bingroup\":\"x\",\"histfunc\":\"sum\",\"hovertemplate\":\"Population=370364<br>County=%{x}<br>sum of Norm_Deaths=%{y}<extra></extra>\",\"legendgroup\":\"370364\",\"marker\":{\"color\":\"#FF6692\",\"pattern\":{\"shape\":\"\"}},\"name\":\"370364\",\"offsetgroup\":\"370364\",\"orientation\":\"v\",\"showlegend\":true,\"x\":[\"Socorro County, NM\"],\"xaxis\":\"x\",\"y\":[16.740287932952445],\"yaxis\":\"y\",\"type\":\"histogram\"},{\"alignmentgroup\":\"True\",\"bingroup\":\"x\",\"histfunc\":\"sum\",\"hovertemplate\":\"Population=674375<br>County=%{x}<br>sum of Norm_Deaths=%{y}<extra></extra>\",\"legendgroup\":\"674375\",\"marker\":{\"color\":\"#B6E880\",\"pattern\":{\"shape\":\"\"}},\"name\":\"674375\",\"offsetgroup\":\"674375\",\"orientation\":\"v\",\"showlegend\":true,\"x\":[\"Taos County, NM\"],\"xaxis\":\"x\",\"y\":[19.12882298424467],\"yaxis\":\"y\",\"type\":\"histogram\"},{\"alignmentgroup\":\"True\",\"bingroup\":\"x\",\"histfunc\":\"sum\",\"hovertemplate\":\"Population=340666<br>County=%{x}<br>sum of Norm_Deaths=%{y}<extra></extra>\",\"legendgroup\":\"340666\",\"marker\":{\"color\":\"#FF97FF\",\"pattern\":{\"shape\":\"\"}},\"name\":\"340666\",\"offsetgroup\":\"340666\",\"orientation\":\"v\",\"showlegend\":true,\"x\":[\"Torrance County, NM\"],\"xaxis\":\"x\",\"y\":[22.309241309669883],\"yaxis\":\"y\",\"type\":\"histogram\"},{\"alignmentgroup\":\"True\",\"bingroup\":\"x\",\"histfunc\":\"sum\",\"hovertemplate\":\"Population=1534083<br>County=%{x}<br>sum of Norm_Deaths=%{y}<extra></extra>\",\"legendgroup\":\"1534083\",\"marker\":{\"color\":\"#FECB52\",\"pattern\":{\"shape\":\"\"}},\"name\":\"1534083\",\"offsetgroup\":\"1534083\",\"orientation\":\"v\",\"showlegend\":true,\"x\":[\"Valencia County, NM\"],\"xaxis\":\"x\",\"y\":[21.315665449652986],\"yaxis\":\"y\",\"type\":\"histogram\"}],                        {\"template\":{\"data\":{\"bar\":[{\"error_x\":{\"color\":\"#2a3f5f\"},\"error_y\":{\"color\":\"#2a3f5f\"},\"marker\":{\"line\":{\"color\":\"#E5ECF6\",\"width\":0.5},\"pattern\":{\"fillmode\":\"overlay\",\"size\":10,\"solidity\":0.2}},\"type\":\"bar\"}],\"barpolar\":[{\"marker\":{\"line\":{\"color\":\"#E5ECF6\",\"width\":0.5},\"pattern\":{\"fillmode\":\"overlay\",\"size\":10,\"solidity\":0.2}},\"type\":\"barpolar\"}],\"carpet\":[{\"aaxis\":{\"endlinecolor\":\"#2a3f5f\",\"gridcolor\":\"white\",\"linecolor\":\"white\",\"minorgridcolor\":\"white\",\"startlinecolor\":\"#2a3f5f\"},\"baxis\":{\"endlinecolor\":\"#2a3f5f\",\"gridcolor\":\"white\",\"linecolor\":\"white\",\"minorgridcolor\":\"white\",\"startlinecolor\":\"#2a3f5f\"},\"type\":\"carpet\"}],\"choropleth\":[{\"colorbar\":{\"outlinewidth\":0,\"ticks\":\"\"},\"type\":\"choropleth\"}],\"contour\":[{\"colorbar\":{\"outlinewidth\":0,\"ticks\":\"\"},\"colorscale\":[[0.0,\"#0d0887\"],[0.1111111111111111,\"#46039f\"],[0.2222222222222222,\"#7201a8\"],[0.3333333333333333,\"#9c179e\"],[0.4444444444444444,\"#bd3786\"],[0.5555555555555556,\"#d8576b\"],[0.6666666666666666,\"#ed7953\"],[0.7777777777777778,\"#fb9f3a\"],[0.8888888888888888,\"#fdca26\"],[1.0,\"#f0f921\"]],\"type\":\"contour\"}],\"contourcarpet\":[{\"colorbar\":{\"outlinewidth\":0,\"ticks\":\"\"},\"type\":\"contourcarpet\"}],\"heatmap\":[{\"colorbar\":{\"outlinewidth\":0,\"ticks\":\"\"},\"colorscale\":[[0.0,\"#0d0887\"],[0.1111111111111111,\"#46039f\"],[0.2222222222222222,\"#7201a8\"],[0.3333333333333333,\"#9c179e\"],[0.4444444444444444,\"#bd3786\"],[0.5555555555555556,\"#d8576b\"],[0.6666666666666666,\"#ed7953\"],[0.7777777777777778,\"#fb9f3a\"],[0.8888888888888888,\"#fdca26\"],[1.0,\"#f0f921\"]],\"type\":\"heatmap\"}],\"heatmapgl\":[{\"colorbar\":{\"outlinewidth\":0,\"ticks\":\"\"},\"colorscale\":[[0.0,\"#0d0887\"],[0.1111111111111111,\"#46039f\"],[0.2222222222222222,\"#7201a8\"],[0.3333333333333333,\"#9c179e\"],[0.4444444444444444,\"#bd3786\"],[0.5555555555555556,\"#d8576b\"],[0.6666666666666666,\"#ed7953\"],[0.7777777777777778,\"#fb9f3a\"],[0.8888888888888888,\"#fdca26\"],[1.0,\"#f0f921\"]],\"type\":\"heatmapgl\"}],\"histogram\":[{\"marker\":{\"pattern\":{\"fillmode\":\"overlay\",\"size\":10,\"solidity\":0.2}},\"type\":\"histogram\"}],\"histogram2d\":[{\"colorbar\":{\"outlinewidth\":0,\"ticks\":\"\"},\"colorscale\":[[0.0,\"#0d0887\"],[0.1111111111111111,\"#46039f\"],[0.2222222222222222,\"#7201a8\"],[0.3333333333333333,\"#9c179e\"],[0.4444444444444444,\"#bd3786\"],[0.5555555555555556,\"#d8576b\"],[0.6666666666666666,\"#ed7953\"],[0.7777777777777778,\"#fb9f3a\"],[0.8888888888888888,\"#fdca26\"],[1.0,\"#f0f921\"]],\"type\":\"histogram2d\"}],\"histogram2dcontour\":[{\"colorbar\":{\"outlinewidth\":0,\"ticks\":\"\"},\"colorscale\":[[0.0,\"#0d0887\"],[0.1111111111111111,\"#46039f\"],[0.2222222222222222,\"#7201a8\"],[0.3333333333333333,\"#9c179e\"],[0.4444444444444444,\"#bd3786\"],[0.5555555555555556,\"#d8576b\"],[0.6666666666666666,\"#ed7953\"],[0.7777777777777778,\"#fb9f3a\"],[0.8888888888888888,\"#fdca26\"],[1.0,\"#f0f921\"]],\"type\":\"histogram2dcontour\"}],\"mesh3d\":[{\"colorbar\":{\"outlinewidth\":0,\"ticks\":\"\"},\"type\":\"mesh3d\"}],\"parcoords\":[{\"line\":{\"colorbar\":{\"outlinewidth\":0,\"ticks\":\"\"}},\"type\":\"parcoords\"}],\"pie\":[{\"automargin\":true,\"type\":\"pie\"}],\"scatter\":[{\"marker\":{\"colorbar\":{\"outlinewidth\":0,\"ticks\":\"\"}},\"type\":\"scatter\"}],\"scatter3d\":[{\"line\":{\"colorbar\":{\"outlinewidth\":0,\"ticks\":\"\"}},\"marker\":{\"colorbar\":{\"outlinewidth\":0,\"ticks\":\"\"}},\"type\":\"scatter3d\"}],\"scattercarpet\":[{\"marker\":{\"colorbar\":{\"outlinewidth\":0,\"ticks\":\"\"}},\"type\":\"scattercarpet\"}],\"scattergeo\":[{\"marker\":{\"colorbar\":{\"outlinewidth\":0,\"ticks\":\"\"}},\"type\":\"scattergeo\"}],\"scattergl\":[{\"marker\":{\"colorbar\":{\"outlinewidth\":0,\"ticks\":\"\"}},\"type\":\"scattergl\"}],\"scattermapbox\":[{\"marker\":{\"colorbar\":{\"outlinewidth\":0,\"ticks\":\"\"}},\"type\":\"scattermapbox\"}],\"scatterpolar\":[{\"marker\":{\"colorbar\":{\"outlinewidth\":0,\"ticks\":\"\"}},\"type\":\"scatterpolar\"}],\"scatterpolargl\":[{\"marker\":{\"colorbar\":{\"outlinewidth\":0,\"ticks\":\"\"}},\"type\":\"scatterpolargl\"}],\"scatterternary\":[{\"marker\":{\"colorbar\":{\"outlinewidth\":0,\"ticks\":\"\"}},\"type\":\"scatterternary\"}],\"surface\":[{\"colorbar\":{\"outlinewidth\":0,\"ticks\":\"\"},\"colorscale\":[[0.0,\"#0d0887\"],[0.1111111111111111,\"#46039f\"],[0.2222222222222222,\"#7201a8\"],[0.3333333333333333,\"#9c179e\"],[0.4444444444444444,\"#bd3786\"],[0.5555555555555556,\"#d8576b\"],[0.6666666666666666,\"#ed7953\"],[0.7777777777777778,\"#fb9f3a\"],[0.8888888888888888,\"#fdca26\"],[1.0,\"#f0f921\"]],\"type\":\"surface\"}],\"table\":[{\"cells\":{\"fill\":{\"color\":\"#EBF0F8\"},\"line\":{\"color\":\"white\"}},\"header\":{\"fill\":{\"color\":\"#C8D4E3\"},\"line\":{\"color\":\"white\"}},\"type\":\"table\"}]},\"layout\":{\"annotationdefaults\":{\"arrowcolor\":\"#2a3f5f\",\"arrowhead\":0,\"arrowwidth\":1},\"autotypenumbers\":\"strict\",\"coloraxis\":{\"colorbar\":{\"outlinewidth\":0,\"ticks\":\"\"}},\"colorscale\":{\"diverging\":[[0,\"#8e0152\"],[0.1,\"#c51b7d\"],[0.2,\"#de77ae\"],[0.3,\"#f1b6da\"],[0.4,\"#fde0ef\"],[0.5,\"#f7f7f7\"],[0.6,\"#e6f5d0\"],[0.7,\"#b8e186\"],[0.8,\"#7fbc41\"],[0.9,\"#4d9221\"],[1,\"#276419\"]],\"sequential\":[[0.0,\"#0d0887\"],[0.1111111111111111,\"#46039f\"],[0.2222222222222222,\"#7201a8\"],[0.3333333333333333,\"#9c179e\"],[0.4444444444444444,\"#bd3786\"],[0.5555555555555556,\"#d8576b\"],[0.6666666666666666,\"#ed7953\"],[0.7777777777777778,\"#fb9f3a\"],[0.8888888888888888,\"#fdca26\"],[1.0,\"#f0f921\"]],\"sequentialminus\":[[0.0,\"#0d0887\"],[0.1111111111111111,\"#46039f\"],[0.2222222222222222,\"#7201a8\"],[0.3333333333333333,\"#9c179e\"],[0.4444444444444444,\"#bd3786\"],[0.5555555555555556,\"#d8576b\"],[0.6666666666666666,\"#ed7953\"],[0.7777777777777778,\"#fb9f3a\"],[0.8888888888888888,\"#fdca26\"],[1.0,\"#f0f921\"]]},\"colorway\":[\"#636efa\",\"#EF553B\",\"#00cc96\",\"#ab63fa\",\"#FFA15A\",\"#19d3f3\",\"#FF6692\",\"#B6E880\",\"#FF97FF\",\"#FECB52\"],\"font\":{\"color\":\"#2a3f5f\"},\"geo\":{\"bgcolor\":\"white\",\"lakecolor\":\"white\",\"landcolor\":\"#E5ECF6\",\"showlakes\":true,\"showland\":true,\"subunitcolor\":\"white\"},\"hoverlabel\":{\"align\":\"left\"},\"hovermode\":\"closest\",\"mapbox\":{\"style\":\"light\"},\"paper_bgcolor\":\"white\",\"plot_bgcolor\":\"#E5ECF6\",\"polar\":{\"angularaxis\":{\"gridcolor\":\"white\",\"linecolor\":\"white\",\"ticks\":\"\"},\"bgcolor\":\"#E5ECF6\",\"radialaxis\":{\"gridcolor\":\"white\",\"linecolor\":\"white\",\"ticks\":\"\"}},\"scene\":{\"xaxis\":{\"backgroundcolor\":\"#E5ECF6\",\"gridcolor\":\"white\",\"gridwidth\":2,\"linecolor\":\"white\",\"showbackground\":true,\"ticks\":\"\",\"zerolinecolor\":\"white\"},\"yaxis\":{\"backgroundcolor\":\"#E5ECF6\",\"gridcolor\":\"white\",\"gridwidth\":2,\"linecolor\":\"white\",\"showbackground\":true,\"ticks\":\"\",\"zerolinecolor\":\"white\"},\"zaxis\":{\"backgroundcolor\":\"#E5ECF6\",\"gridcolor\":\"white\",\"gridwidth\":2,\"linecolor\":\"white\",\"showbackground\":true,\"ticks\":\"\",\"zerolinecolor\":\"white\"}},\"shapedefaults\":{\"line\":{\"color\":\"#2a3f5f\"}},\"ternary\":{\"aaxis\":{\"gridcolor\":\"white\",\"linecolor\":\"white\",\"ticks\":\"\"},\"baxis\":{\"gridcolor\":\"white\",\"linecolor\":\"white\",\"ticks\":\"\"},\"bgcolor\":\"#E5ECF6\",\"caxis\":{\"gridcolor\":\"white\",\"linecolor\":\"white\",\"ticks\":\"\"}},\"title\":{\"x\":0.05},\"xaxis\":{\"automargin\":true,\"gridcolor\":\"white\",\"linecolor\":\"white\",\"ticks\":\"\",\"title\":{\"standoff\":15},\"zerolinecolor\":\"white\",\"zerolinewidth\":2},\"yaxis\":{\"automargin\":true,\"gridcolor\":\"white\",\"linecolor\":\"white\",\"ticks\":\"\",\"title\":{\"standoff\":15},\"zerolinecolor\":\"white\",\"zerolinewidth\":2}}},\"xaxis\":{\"anchor\":\"y\",\"domain\":[0.0,1.0],\"title\":{\"text\":\"County\"}},\"yaxis\":{\"anchor\":\"x\",\"domain\":[0.0,1.0],\"title\":{\"text\":\"sum of Norm_Deaths\"}},\"legend\":{\"title\":{\"text\":\"Population\"},\"tracegroupgap\":0},\"title\":{\"text\":\"Opiod Mortality rate in\\tNM\"},\"barmode\":\"relative\"},                        {\"responsive\": true}                    ).then(function(){\n",
       "                            \n",
       "var gd = document.getElementById('9c10268f-f4e1-45ee-b194-23fd5c8abf53');\n",
       "var x = new MutationObserver(function (mutations, observer) {{\n",
       "        var display = window.getComputedStyle(gd).display;\n",
       "        if (!display || display === 'none') {{\n",
       "            console.log([gd, 'removed!']);\n",
       "            Plotly.purge(gd);\n",
       "            observer.disconnect();\n",
       "        }}\n",
       "}});\n",
       "\n",
       "// Listen for the removal of the full notebook cells\n",
       "var notebookContainer = gd.closest('#notebook-container');\n",
       "if (notebookContainer) {{\n",
       "    x.observe(notebookContainer, {childList: true});\n",
       "}}\n",
       "\n",
       "// Listen for the clearing of the current output cell\n",
       "var outputEl = gd.closest('.output');\n",
       "if (outputEl) {{\n",
       "    x.observe(outputEl, {childList: true});\n",
       "}}\n",
       "\n",
       "                        })                };                });            </script>        </div>"
      ]
     },
     "metadata": {},
     "output_type": "display_data"
    },
    {
     "name": "stdout",
     "output_type": "stream",
     "text": [
      "The Number of counties in-NM : 30\n",
      "Top-10 counties with highest mortatlity rate in state-NM are:\n",
      " 1957    Rio Arriba County, NM\n",
      "168     Bernalillo County, NM\n",
      "2026    San Miguel County, NM\n",
      "916      Guadalupe County, NM\n",
      "2101        Sierra County, NM\n",
      "2259      Torrance County, NM\n",
      "1335       Lincoln County, NM\n",
      "2311      Valencia County, NM\n",
      "2038      Santa Fe County, NM\n",
      "687           Eddy County, NM\n",
      "Name: County, dtype: object\n"
     ]
    },
    {
     "data": {
      "application/vnd.plotly.v1+json": {
       "config": {
        "plotlyServerURL": "https://plot.ly"
       },
       "data": [
        {
         "alignmentgroup": "True",
         "bingroup": "x",
         "histfunc": "sum",
         "hovertemplate": "Population=1555370<br>County=%{x}<br>sum of Norm_Deaths=%{y}<extra></extra>",
         "legendgroup": "1555370",
         "marker": {
          "color": "#636efa",
          "pattern": {
           "shape": ""
          }
         },
         "name": "1555370",
         "offsetgroup": "1555370",
         "orientation": "v",
         "showlegend": true,
         "type": "histogram",
         "x": [
          "Anderson County, TN"
         ],
         "xaxis": "x",
         "y": [
          20.895349659566534
         ],
         "yaxis": "y"
        },
        {
         "alignmentgroup": "True",
         "bingroup": "x",
         "histfunc": "sum",
         "hovertemplate": "Population=919663<br>County=%{x}<br>sum of Norm_Deaths=%{y}<extra></extra>",
         "legendgroup": "919663",
         "marker": {
          "color": "#EF553B",
          "pattern": {
           "shape": ""
          }
         },
         "name": "919663",
         "offsetgroup": "919663",
         "orientation": "v",
         "showlegend": true,
         "type": "histogram",
         "x": [
          "Bedford County, TN"
         ],
         "xaxis": "x",
         "y": [
          10.003664385758697
         ],
         "yaxis": "y"
        },
        {
         "alignmentgroup": "True",
         "bingroup": "x",
         "histfunc": "sum",
         "hovertemplate": "Population=343832<br>County=%{x}<br>sum of Norm_Deaths=%{y}<extra></extra>",
         "legendgroup": "343832",
         "marker": {
          "color": "#00cc96",
          "pattern": {
           "shape": ""
          }
         },
         "name": "343832",
         "offsetgroup": "343832",
         "orientation": "v",
         "showlegend": true,
         "type": "histogram",
         "x": [
          "Benton County, TN"
         ],
         "xaxis": "x",
         "y": [
          25.012215267921544
         ],
         "yaxis": "y"
        },
        {
         "alignmentgroup": "True",
         "bingroup": "x",
         "histfunc": "sum",
         "hovertemplate": "Population=278107<br>County=%{x}<br>sum of Norm_Deaths=%{y}<extra></extra>",
         "legendgroup": "278107",
         "marker": {
          "color": "#ab63fa",
          "pattern": {
           "shape": ""
          }
         },
         "name": "278107",
         "offsetgroup": "278107",
         "orientation": "v",
         "showlegend": true,
         "type": "histogram",
         "x": [
          "Bledsoe County, TN"
         ],
         "xaxis": "x",
         "y": [
          10.787214992790544
         ],
         "yaxis": "y"
        },
        {
         "alignmentgroup": "True",
         "bingroup": "x",
         "histfunc": "sum",
         "hovertemplate": "Population=2522787<br>County=%{x}<br>sum of Norm_Deaths=%{y}<extra></extra>",
         "legendgroup": "2522787",
         "marker": {
          "color": "#FFA15A",
          "pattern": {
           "shape": ""
          }
         },
         "name": "2522787",
         "offsetgroup": "2522787",
         "orientation": "v",
         "showlegend": true,
         "type": "histogram",
         "x": [
          "Blount County, TN"
         ],
         "xaxis": "x",
         "y": [
          17.67886072030655
         ],
         "yaxis": "y"
        },
        {
         "alignmentgroup": "True",
         "bingroup": "x",
         "histfunc": "sum",
         "hovertemplate": "Population=2049806<br>County=%{x}<br>sum of Norm_Deaths=%{y}<extra></extra>",
         "legendgroup": "2049806",
         "marker": {
          "color": "#19d3f3",
          "pattern": {
           "shape": ""
          }
         },
         "name": "2049806",
         "offsetgroup": "2049806",
         "orientation": "v",
         "showlegend": true,
         "type": "histogram",
         "x": [
          "Bradley County, TN"
         ],
         "xaxis": "x",
         "y": [
          14.245250526147352
         ],
         "yaxis": "y"
        },
        {
         "alignmentgroup": "True",
         "bingroup": "x",
         "histfunc": "sum",
         "hovertemplate": "Population=842479<br>County=%{x}<br>sum of Norm_Deaths=%{y}<extra></extra>",
         "legendgroup": "842479",
         "marker": {
          "color": "#FF6692",
          "pattern": {
           "shape": ""
          }
         },
         "name": "842479",
         "offsetgroup": "842479",
         "orientation": "v",
         "showlegend": true,
         "type": "histogram",
         "x": [
          "Campbell County, TN"
         ],
         "xaxis": "x",
         "y": [
          24.57034537359388
         ],
         "yaxis": "y"
        },
        {
         "alignmentgroup": "True",
         "bingroup": "x",
         "histfunc": "sum",
         "hovertemplate": "Population=285055<br>County=%{x}<br>sum of Norm_Deaths=%{y}<extra></extra>",
         "legendgroup": "285055",
         "marker": {
          "color": "#B6E880",
          "pattern": {
           "shape": ""
          }
         },
         "name": "285055",
         "offsetgroup": "285055",
         "orientation": "v",
         "showlegend": true,
         "type": "histogram",
         "x": [
          "Cannon County, TN"
         ],
         "xaxis": "x",
         "y": [
          18.242093631053656
         ],
         "yaxis": "y"
        },
        {
         "alignmentgroup": "True",
         "bingroup": "x",
         "histfunc": "sum",
         "hovertemplate": "Population=601060<br>County=%{x}<br>sum of Norm_Deaths=%{y}<extra></extra>",
         "legendgroup": "601060",
         "marker": {
          "color": "#FF97FF",
          "pattern": {
           "shape": ""
          }
         },
         "name": "601060",
         "offsetgroup": "601060",
         "orientation": "v",
         "showlegend": true,
         "type": "histogram",
         "x": [
          "Carroll County, TN"
         ],
         "xaxis": "x",
         "y": [
          13.143446577712709
         ],
         "yaxis": "y"
        },
        {
         "alignmentgroup": "True",
         "bingroup": "x",
         "histfunc": "sum",
         "hovertemplate": "Population=1198791<br>County=%{x}<br>sum of Norm_Deaths=%{y}<extra></extra>",
         "legendgroup": "1198791",
         "marker": {
          "color": "#FECB52",
          "pattern": {
           "shape": ""
          }
         },
         "name": "1198791",
         "offsetgroup": "1198791",
         "orientation": "v",
         "showlegend": true,
         "type": "histogram",
         "x": [
          "Carter County, TN"
         ],
         "xaxis": "x",
         "y": [
          14.180953977799298
         ],
         "yaxis": "y"
        },
        {
         "alignmentgroup": "True",
         "bingroup": "x",
         "histfunc": "sum",
         "hovertemplate": "Population=808908<br>County=%{x}<br>sum of Norm_Deaths=%{y}<extra></extra>",
         "legendgroup": "808908",
         "marker": {
          "color": "#636efa",
          "pattern": {
           "shape": ""
          }
         },
         "name": "808908",
         "offsetgroup": "808908",
         "orientation": "v",
         "showlegend": true,
         "type": "histogram",
         "x": [
          "Cheatham County, TN"
         ],
         "xaxis": "x",
         "y": [
          24.60106711764502
         ],
         "yaxis": "y"
        },
        {
         "alignmentgroup": "True",
         "bingroup": "x",
         "histfunc": "sum",
         "hovertemplate": "Population=350531<br>County=%{x}<br>sum of Norm_Deaths=%{y}<extra></extra>",
         "legendgroup": "350531",
         "marker": {
          "color": "#EF553B",
          "pattern": {
           "shape": ""
          }
         },
         "name": "350531",
         "offsetgroup": "350531",
         "orientation": "v",
         "showlegend": true,
         "type": "histogram",
         "x": [
          "Chester County, TN"
         ],
         "xaxis": "x",
         "y": [
          8.273162715993735
         ],
         "yaxis": "y"
        },
        {
         "alignmentgroup": "True",
         "bingroup": "x",
         "histfunc": "sum",
         "hovertemplate": "Population=657584<br>County=%{x}<br>sum of Norm_Deaths=%{y}<extra></extra>",
         "legendgroup": "657584",
         "marker": {
          "color": "#00cc96",
          "pattern": {
           "shape": ""
          }
         },
         "name": "657584",
         "offsetgroup": "657584",
         "orientation": "v",
         "showlegend": true,
         "type": "histogram",
         "x": [
          "Claiborne County, TN"
         ],
         "xaxis": "x",
         "y": [
          21.290055719117255
         ],
         "yaxis": "y"
        },
        {
         "alignmentgroup": "True",
         "bingroup": "x",
         "histfunc": "sum",
         "hovertemplate": "Population=164653<br>County=%{x}<br>sum of Norm_Deaths=%{y}<extra></extra>",
         "legendgroup": "164653",
         "marker": {
          "color": "#ab63fa",
          "pattern": {
           "shape": ""
          }
         },
         "name": "164653",
         "offsetgroup": "164653",
         "orientation": "v",
         "showlegend": true,
         "type": "histogram",
         "x": [
          "Clay County, TN"
         ],
         "xaxis": "x",
         "y": [
          26.722865662939636
         ],
         "yaxis": "y"
        },
        {
         "alignmentgroup": "True",
         "bingroup": "x",
         "histfunc": "sum",
         "hovertemplate": "Population=734733<br>County=%{x}<br>sum of Norm_Deaths=%{y}<extra></extra>",
         "legendgroup": "734733",
         "marker": {
          "color": "#FFA15A",
          "pattern": {
           "shape": ""
          }
         },
         "name": "734733",
         "offsetgroup": "734733",
         "orientation": "v",
         "showlegend": true,
         "type": "histogram",
         "x": [
          "Cocke County, TN"
         ],
         "xaxis": "x",
         "y": [
          18.510125446931063
         ],
         "yaxis": "y"
        },
        {
         "alignmentgroup": "True",
         "bingroup": "x",
         "histfunc": "sum",
         "hovertemplate": "Population=1094869<br>County=%{x}<br>sum of Norm_Deaths=%{y}<extra></extra>",
         "legendgroup": "1094869",
         "marker": {
          "color": "#19d3f3",
          "pattern": {
           "shape": ""
          }
         },
         "name": "1094869",
         "offsetgroup": "1094869",
         "orientation": "v",
         "showlegend": true,
         "type": "histogram",
         "x": [
          "Coffee County, TN"
         ],
         "xaxis": "x",
         "y": [
          13.882939420149809
         ],
         "yaxis": "y"
        },
        {
         "alignmentgroup": "True",
         "bingroup": "x",
         "histfunc": "sum",
         "hovertemplate": "Population=304336<br>County=%{x}<br>sum of Norm_Deaths=%{y}<extra></extra>",
         "legendgroup": "304336",
         "marker": {
          "color": "#FF6692",
          "pattern": {
           "shape": ""
          }
         },
         "name": "304336",
         "offsetgroup": "304336",
         "orientation": "v",
         "showlegend": true,
         "type": "histogram",
         "x": [
          "Crockett County, TN"
         ],
         "xaxis": "x",
         "y": [
          7.2288523211187625
         ],
         "yaxis": "y"
        },
        {
         "alignmentgroup": "True",
         "bingroup": "x",
         "histfunc": "sum",
         "hovertemplate": "Population=1141659<br>County=%{x}<br>sum of Norm_Deaths=%{y}<extra></extra>",
         "legendgroup": "1141659",
         "marker": {
          "color": "#B6E880",
          "pattern": {
           "shape": ""
          }
         },
         "name": "1141659",
         "offsetgroup": "1141659",
         "orientation": "v",
         "showlegend": true,
         "type": "histogram",
         "x": [
          "Cumberland County, TN"
         ],
         "xaxis": "x",
         "y": [
          13.489141678907625
         ],
         "yaxis": "y"
        },
        {
         "alignmentgroup": "True",
         "bingroup": "x",
         "histfunc": "sum",
         "hovertemplate": "Population=13150465<br>County=%{x}<br>sum of Norm_Deaths=%{y}<extra></extra>",
         "legendgroup": "13150465",
         "marker": {
          "color": "#FF97FF",
          "pattern": {
           "shape": ""
          }
         },
         "name": "13150465",
         "offsetgroup": "13150465",
         "orientation": "v",
         "showlegend": true,
         "type": "histogram",
         "x": [
          "Davidson County, TN"
         ],
         "xaxis": "x",
         "y": [
          17.672378885461466
         ],
         "yaxis": "y"
        },
        {
         "alignmentgroup": "True",
         "bingroup": "x",
         "histfunc": "sum",
         "hovertemplate": "Population=391989<br>County=%{x}<br>sum of Norm_Deaths=%{y}<extra></extra>",
         "legendgroup": "391989",
         "marker": {
          "color": "#FECB52",
          "pattern": {
           "shape": ""
          }
         },
         "name": "391989",
         "offsetgroup": "391989",
         "orientation": "v",
         "showlegend": true,
         "type": "histogram",
         "x": [
          "DeKalb County, TN"
         ],
         "xaxis": "x",
         "y": [
          21.93939115638449
         ],
         "yaxis": "y"
        },
        {
         "alignmentgroup": "True",
         "bingroup": "x",
         "histfunc": "sum",
         "hovertemplate": "Population=245458<br>County=%{x}<br>sum of Norm_Deaths=%{y}<extra></extra>",
         "legendgroup": "245458",
         "marker": {
          "color": "#636efa",
          "pattern": {
           "shape": ""
          }
         },
         "name": "245458",
         "offsetgroup": "245458",
         "orientation": "v",
         "showlegend": true,
         "type": "histogram",
         "x": [
          "Decatur County, TN"
         ],
         "xaxis": "x",
         "y": [
          15.888665270636933
         ],
         "yaxis": "y"
        },
        {
         "alignmentgroup": "True",
         "bingroup": "x",
         "histfunc": "sum",
         "hovertemplate": "Population=1020358<br>County=%{x}<br>sum of Norm_Deaths=%{y}<extra></extra>",
         "legendgroup": "1020358",
         "marker": {
          "color": "#EF553B",
          "pattern": {
           "shape": ""
          }
         },
         "name": "1020358",
         "offsetgroup": "1020358",
         "orientation": "v",
         "showlegend": true,
         "type": "histogram",
         "x": [
          "Dickson County, TN"
         ],
         "xaxis": "x",
         "y": [
          16.0727901383632
         ],
         "yaxis": "y"
        },
        {
         "alignmentgroup": "True",
         "bingroup": "x",
         "histfunc": "sum",
         "hovertemplate": "Population=792435<br>County=%{x}<br>sum of Norm_Deaths=%{y}<extra></extra>",
         "legendgroup": "792435",
         "marker": {
          "color": "#00cc96",
          "pattern": {
           "shape": ""
          }
         },
         "name": "792435",
         "offsetgroup": "792435",
         "orientation": "v",
         "showlegend": true,
         "type": "histogram",
         "x": [
          "Dyer County, TN"
         ],
         "xaxis": "x",
         "y": [
          6.4358590925438675
         ],
         "yaxis": "y"
        },
        {
         "alignmentgroup": "True",
         "bingroup": "x",
         "histfunc": "sum",
         "hovertemplate": "Population=759268<br>County=%{x}<br>sum of Norm_Deaths=%{y}<extra></extra>",
         "legendgroup": "759268",
         "marker": {
          "color": "#ab63fa",
          "pattern": {
           "shape": ""
          }
         },
         "name": "759268",
         "offsetgroup": "759268",
         "orientation": "v",
         "showlegend": true,
         "type": "histogram",
         "x": [
          "Fayette County, TN"
         ],
         "xaxis": "x",
         "y": [
          7.770642250167266
         ],
         "yaxis": "y"
        },
        {
         "alignmentgroup": "True",
         "bingroup": "x",
         "histfunc": "sum",
         "hovertemplate": "Population=369225<br>County=%{x}<br>sum of Norm_Deaths=%{y}<extra></extra>",
         "legendgroup": "369225",
         "marker": {
          "color": "#FFA15A",
          "pattern": {
           "shape": ""
          }
         },
         "name": "369225",
         "offsetgroup": "369225",
         "orientation": "v",
         "showlegend": true,
         "type": "histogram",
         "x": [
          "Fentress County, TN"
         ],
         "xaxis": "x",
         "y": [
          19.50030469226082
         ],
         "yaxis": "y"
        },
        {
         "alignmentgroup": "True",
         "bingroup": "x",
         "histfunc": "sum",
         "hovertemplate": "Population=857147<br>County=%{x}<br>sum of Norm_Deaths=%{y}<extra></extra>",
         "legendgroup": "857147",
         "marker": {
          "color": "#19d3f3",
          "pattern": {
           "shape": ""
          }
         },
         "name": "857147",
         "offsetgroup": "857147",
         "orientation": "v",
         "showlegend": true,
         "type": "histogram",
         "x": [
          "Franklin County, TN"
         ],
         "xaxis": "x",
         "y": [
          13.066603511416362
         ],
         "yaxis": "y"
        },
        {
         "alignmentgroup": "True",
         "bingroup": "x",
         "histfunc": "sum",
         "hovertemplate": "Population=1025301<br>County=%{x}<br>sum of Norm_Deaths=%{y}<extra></extra>",
         "legendgroup": "1025301",
         "marker": {
          "color": "#FF6692",
          "pattern": {
           "shape": ""
          }
         },
         "name": "1025301",
         "offsetgroup": "1025301",
         "orientation": "v",
         "showlegend": true,
         "type": "histogram",
         "x": [
          "Gibson County, TN"
         ],
         "xaxis": "x",
         "y": [
          10.33842744715942
         ],
         "yaxis": "y"
        },
        {
         "alignmentgroup": "True",
         "bingroup": "x",
         "histfunc": "sum",
         "hovertemplate": "Population=616547<br>County=%{x}<br>sum of Norm_Deaths=%{y}<extra></extra>",
         "legendgroup": "616547",
         "marker": {
          "color": "#B6E880",
          "pattern": {
           "shape": ""
          }
         },
         "name": "616547",
         "offsetgroup": "616547",
         "orientation": "v",
         "showlegend": true,
         "type": "histogram",
         "x": [
          "Giles County, TN"
         ],
         "xaxis": "x",
         "y": [
          12.97549091958926
         ],
         "yaxis": "y"
        },
        {
         "alignmentgroup": "True",
         "bingroup": "x",
         "histfunc": "sum",
         "hovertemplate": "Population=465971<br>County=%{x}<br>sum of Norm_Deaths=%{y}<extra></extra>",
         "legendgroup": "465971",
         "marker": {
          "color": "#FF97FF",
          "pattern": {
           "shape": ""
          }
         },
         "name": "465971",
         "offsetgroup": "465971",
         "orientation": "v",
         "showlegend": true,
         "type": "histogram",
         "x": [
          "Grainger County, TN"
         ],
         "xaxis": "x",
         "y": [
          17.383056027091815
         ],
         "yaxis": "y"
        },
        {
         "alignmentgroup": "True",
         "bingroup": "x",
         "histfunc": "sum",
         "hovertemplate": "Population=1409120<br>County=%{x}<br>sum of Norm_Deaths=%{y}<extra></extra>",
         "legendgroup": "1409120",
         "marker": {
          "color": "#FECB52",
          "pattern": {
           "shape": ""
          }
         },
         "name": "1409120",
         "offsetgroup": "1409120",
         "orientation": "v",
         "showlegend": true,
         "type": "histogram",
         "x": [
          "Greene County, TN"
         ],
         "xaxis": "x",
         "y": [
          12.064267060292948
         ],
         "yaxis": "y"
        },
        {
         "alignmentgroup": "True",
         "bingroup": "x",
         "histfunc": "sum",
         "hovertemplate": "Population=289944<br>County=%{x}<br>sum of Norm_Deaths=%{y}<extra></extra>",
         "legendgroup": "289944",
         "marker": {
          "color": "#636efa",
          "pattern": {
           "shape": ""
          }
         },
         "name": "289944",
         "offsetgroup": "289944",
         "orientation": "v",
         "showlegend": true,
         "type": "histogram",
         "x": [
          "Grundy County, TN"
         ],
         "xaxis": "x",
         "y": [
          18.969180255497616
         ],
         "yaxis": "y"
        },
        {
         "alignmentgroup": "True",
         "bingroup": "x",
         "histfunc": "sum",
         "hovertemplate": "Population=1292638<br>County=%{x}<br>sum of Norm_Deaths=%{y}<extra></extra>",
         "legendgroup": "1292638",
         "marker": {
          "color": "#EF553B",
          "pattern": {
           "shape": ""
          }
         },
         "name": "1292638",
         "offsetgroup": "1292638",
         "orientation": "v",
         "showlegend": true,
         "type": "histogram",
         "x": [
          "Hamblen County, TN"
         ],
         "xaxis": "x",
         "y": [
          16.555292355632435
         ],
         "yaxis": "y"
        },
        {
         "alignmentgroup": "True",
         "bingroup": "x",
         "histfunc": "sum",
         "hovertemplate": "Population=7019130<br>County=%{x}<br>sum of Norm_Deaths=%{y}<extra></extra>",
         "legendgroup": "7019130",
         "marker": {
          "color": "#00cc96",
          "pattern": {
           "shape": ""
          }
         },
         "name": "7019130",
         "offsetgroup": "7019130",
         "orientation": "v",
         "showlegend": true,
         "type": "histogram",
         "x": [
          "Hamilton County, TN"
         ],
         "xaxis": "x",
         "y": [
          12.06702255122786
         ],
         "yaxis": "y"
        },
        {
         "alignmentgroup": "True",
         "bingroup": "x",
         "histfunc": "sum",
         "hovertemplate": "Population=141010<br>County=%{x}<br>sum of Norm_Deaths=%{y}<extra></extra>",
         "legendgroup": "141010",
         "marker": {
          "color": "#ab63fa",
          "pattern": {
           "shape": ""
          }
         },
         "name": "141010",
         "offsetgroup": "141010",
         "orientation": "v",
         "showlegend": true,
         "type": "histogram",
         "x": [
          "Hancock County, TN"
         ],
         "xaxis": "x",
         "y": [
          14.89256081128998
         ],
         "yaxis": "y"
        },
        {
         "alignmentgroup": "True",
         "bingroup": "x",
         "histfunc": "sum",
         "hovertemplate": "Population=566534<br>County=%{x}<br>sum of Norm_Deaths=%{y}<extra></extra>",
         "legendgroup": "566534",
         "marker": {
          "color": "#FFA15A",
          "pattern": {
           "shape": ""
          }
         },
         "name": "566534",
         "offsetgroup": "566534",
         "orientation": "v",
         "showlegend": true,
         "type": "histogram",
         "x": [
          "Hardeman County, TN"
         ],
         "xaxis": "x",
         "y": [
          6.0014050348258
         ],
         "yaxis": "y"
        },
        {
         "alignmentgroup": "True",
         "bingroup": "x",
         "histfunc": "sum",
         "hovertemplate": "Population=541860<br>County=%{x}<br>sum of Norm_Deaths=%{y}<extra></extra>",
         "legendgroup": "541860",
         "marker": {
          "color": "#19d3f3",
          "pattern": {
           "shape": ""
          }
         },
         "name": "541860",
         "offsetgroup": "541860",
         "orientation": "v",
         "showlegend": true,
         "type": "histogram",
         "x": [
          "Hardin County, TN"
         ],
         "xaxis": "x",
         "y": [
          21.407743697634075
         ],
         "yaxis": "y"
        },
        {
         "alignmentgroup": "True",
         "bingroup": "x",
         "histfunc": "sum",
         "hovertemplate": "Population=1172589<br>County=%{x}<br>sum of Norm_Deaths=%{y}<extra></extra>",
         "legendgroup": "1172589",
         "marker": {
          "color": "#FF6692",
          "pattern": {
           "shape": ""
          }
         },
         "name": "1172589",
         "offsetgroup": "1172589",
         "orientation": "v",
         "showlegend": true,
         "type": "histogram",
         "x": [
          "Hawkins County, TN"
         ],
         "xaxis": "x",
         "y": [
          15.777054023191416
         ],
         "yaxis": "y"
        },
        {
         "alignmentgroup": "True",
         "bingroup": "x",
         "histfunc": "sum",
         "hovertemplate": "Population=393579<br>County=%{x}<br>sum of Norm_Deaths=%{y}<extra></extra>",
         "legendgroup": "393579",
         "marker": {
          "color": "#B6E880",
          "pattern": {
           "shape": ""
          }
         },
         "name": "393579",
         "offsetgroup": "393579",
         "orientation": "v",
         "showlegend": true,
         "type": "histogram",
         "x": [
          "Haywood County, TN"
         ],
         "xaxis": "x",
         "y": [
          6.097886320154276
         ],
         "yaxis": "y"
        },
        {
         "alignmentgroup": "True",
         "bingroup": "x",
         "histfunc": "sum",
         "hovertemplate": "Population=570419<br>County=%{x}<br>sum of Norm_Deaths=%{y}<extra></extra>",
         "legendgroup": "570419",
         "marker": {
          "color": "#FF97FF",
          "pattern": {
           "shape": ""
          }
         },
         "name": "570419",
         "offsetgroup": "570419",
         "orientation": "v",
         "showlegend": true,
         "type": "histogram",
         "x": [
          "Henderson County, TN"
         ],
         "xaxis": "x",
         "y": [
          14.55070746240921
         ],
         "yaxis": "y"
        },
        {
         "alignmentgroup": "True",
         "bingroup": "x",
         "histfunc": "sum",
         "hovertemplate": "Population=669451<br>County=%{x}<br>sum of Norm_Deaths=%{y}<extra></extra>",
         "legendgroup": "669451",
         "marker": {
          "color": "#FECB52",
          "pattern": {
           "shape": ""
          }
         },
         "name": "669451",
         "offsetgroup": "669451",
         "orientation": "v",
         "showlegend": true,
         "type": "histogram",
         "x": [
          "Henry County, TN"
         ],
         "xaxis": "x",
         "y": [
          13.742604014334132
         ],
         "yaxis": "y"
        },
        {
         "alignmentgroup": "True",
         "bingroup": "x",
         "histfunc": "sum",
         "hovertemplate": "Population=504546<br>County=%{x}<br>sum of Norm_Deaths=%{y}<extra></extra>",
         "legendgroup": "504546",
         "marker": {
          "color": "#636efa",
          "pattern": {
           "shape": ""
          }
         },
         "name": "504546",
         "offsetgroup": "504546",
         "orientation": "v",
         "showlegend": true,
         "type": "histogram",
         "x": [
          "Hickman County, TN"
         ],
         "xaxis": "x",
         "y": [
          16.45043266619892
         ],
         "yaxis": "y"
        },
        {
         "alignmentgroup": "True",
         "bingroup": "x",
         "histfunc": "sum",
         "hovertemplate": "Population=172158<br>County=%{x}<br>sum of Norm_Deaths=%{y}<extra></extra>",
         "legendgroup": "172158",
         "marker": {
          "color": "#EF553B",
          "pattern": {
           "shape": ""
          }
         },
         "name": "172158",
         "offsetgroup": "172158",
         "orientation": "v",
         "showlegend": true,
         "type": "histogram",
         "x": [
          "Houston County, TN"
         ],
         "xaxis": "x",
         "y": [
          13.940682396403304
         ],
         "yaxis": "y"
        },
        {
         "alignmentgroup": "True",
         "bingroup": "x",
         "histfunc": "sum",
         "hovertemplate": "Population=382965<br>County=%{x}<br>sum of Norm_Deaths=%{y}<extra></extra>",
         "legendgroup": "382965",
         "marker": {
          "color": "#00cc96",
          "pattern": {
           "shape": ""
          }
         },
         "name": "382965",
         "offsetgroup": "382965",
         "orientation": "v",
         "showlegend": true,
         "type": "histogram",
         "x": [
          "Humphreys County, TN"
         ],
         "xaxis": "x",
         "y": [
          14.883866671889075
         ],
         "yaxis": "y"
        },
        {
         "alignmentgroup": "True",
         "bingroup": "x",
         "histfunc": "sum",
         "hovertemplate": "Population=239981<br>County=%{x}<br>sum of Norm_Deaths=%{y}<extra></extra>",
         "legendgroup": "239981",
         "marker": {
          "color": "#ab63fa",
          "pattern": {
           "shape": ""
          }
         },
         "name": "239981",
         "offsetgroup": "239981",
         "orientation": "v",
         "showlegend": true,
         "type": "histogram",
         "x": [
          "Jackson County, TN"
         ],
         "xaxis": "x",
         "y": [
          27.08547760031003
         ],
         "yaxis": "y"
        },
        {
         "alignmentgroup": "True",
         "bingroup": "x",
         "histfunc": "sum",
         "hovertemplate": "Population=1051023<br>County=%{x}<br>sum of Norm_Deaths=%{y}<extra></extra>",
         "legendgroup": "1051023",
         "marker": {
          "color": "#FFA15A",
          "pattern": {
           "shape": ""
          }
         },
         "name": "1051023",
         "offsetgroup": "1051023",
         "orientation": "v",
         "showlegend": true,
         "type": "histogram",
         "x": [
          "Jefferson County, TN"
         ],
         "xaxis": "x",
         "y": [
          15.032972637135439
         ],
         "yaxis": "y"
        },
        {
         "alignmentgroup": "True",
         "bingroup": "x",
         "histfunc": "sum",
         "hovertemplate": "Population=376432<br>County=%{x}<br>sum of Norm_Deaths=%{y}<extra></extra>",
         "legendgroup": "376432",
         "marker": {
          "color": "#19d3f3",
          "pattern": {
           "shape": ""
          }
         },
         "name": "376432",
         "offsetgroup": "376432",
         "orientation": "v",
         "showlegend": true,
         "type": "histogram",
         "x": [
          "Johnson County, TN"
         ],
         "xaxis": "x",
         "y": [
          9.297828027372805
         ],
         "yaxis": "y"
        },
        {
         "alignmentgroup": "True",
         "bingroup": "x",
         "histfunc": "sum",
         "hovertemplate": "Population=8928394<br>County=%{x}<br>sum of Norm_Deaths=%{y}<extra></extra>",
         "legendgroup": "8928394",
         "marker": {
          "color": "#FF6692",
          "pattern": {
           "shape": ""
          }
         },
         "name": "8928394",
         "offsetgroup": "8928394",
         "orientation": "v",
         "showlegend": true,
         "type": "histogram",
         "x": [
          "Knox County, TN"
         ],
         "xaxis": "x",
         "y": [
          22.366844473933384
         ],
         "yaxis": "y"
        },
        {
         "alignmentgroup": "True",
         "bingroup": "x",
         "histfunc": "sum",
         "hovertemplate": "Population=162710<br>County=%{x}<br>sum of Norm_Deaths=%{y}<extra></extra>",
         "legendgroup": "162710",
         "marker": {
          "color": "#B6E880",
          "pattern": {
           "shape": ""
          }
         },
         "name": "162710",
         "offsetgroup": "162710",
         "orientation": "v",
         "showlegend": true,
         "type": "histogram",
         "x": [
          "Lake County, TN"
         ],
         "xaxis": "x",
         "y": [
          7.989674881691353
         ],
         "yaxis": "y"
        },
        {
         "alignmentgroup": "True",
         "bingroup": "x",
         "histfunc": "sum",
         "hovertemplate": "Population=570932<br>County=%{x}<br>sum of Norm_Deaths=%{y}<extra></extra>",
         "legendgroup": "570932",
         "marker": {
          "color": "#FF97FF",
          "pattern": {
           "shape": ""
          }
         },
         "name": "570932",
         "offsetgroup": "570932",
         "orientation": "v",
         "showlegend": true,
         "type": "histogram",
         "x": [
          "Lauderdale County, TN"
         ],
         "xaxis": "x",
         "y": [
          9.107914777942032
         ],
         "yaxis": "y"
        },
        {
         "alignmentgroup": "True",
         "bingroup": "x",
         "histfunc": "sum",
         "hovertemplate": "Population=873997<br>County=%{x}<br>sum of Norm_Deaths=%{y}<extra></extra>",
         "legendgroup": "873997",
         "marker": {
          "color": "#FECB52",
          "pattern": {
           "shape": ""
          }
         },
         "name": "873997",
         "offsetgroup": "873997",
         "orientation": "v",
         "showlegend": true,
         "type": "histogram",
         "x": [
          "Lawrence County, TN"
         ],
         "xaxis": "x",
         "y": [
          13.844441113642267
         ],
         "yaxis": "y"
        },
        {
         "alignmentgroup": "True",
         "bingroup": "x",
         "histfunc": "sum",
         "hovertemplate": "Population=248672<br>County=%{x}<br>sum of Norm_Deaths=%{y}<extra></extra>",
         "legendgroup": "248672",
         "marker": {
          "color": "#636efa",
          "pattern": {
           "shape": ""
          }
         },
         "name": "248672",
         "offsetgroup": "248672",
         "orientation": "v",
         "showlegend": true,
         "type": "histogram",
         "x": [
          "Lewis County, TN"
         ],
         "xaxis": "x",
         "y": [
          12.868356710848026
         ],
         "yaxis": "y"
        },
        {
         "alignmentgroup": "True",
         "bingroup": "x",
         "histfunc": "sum",
         "hovertemplate": "Population=688925<br>County=%{x}<br>sum of Norm_Deaths=%{y}<extra></extra>",
         "legendgroup": "688925",
         "marker": {
          "color": "#EF553B",
          "pattern": {
           "shape": ""
          }
         },
         "name": "688925",
         "offsetgroup": "688925",
         "orientation": "v",
         "showlegend": true,
         "type": "histogram",
         "x": [
          "Lincoln County, TN"
         ],
         "xaxis": "x",
         "y": [
          10.59621874659796
         ],
         "yaxis": "y"
        },
        {
         "alignmentgroup": "True",
         "bingroup": "x",
         "histfunc": "sum",
         "hovertemplate": "Population=984774<br>County=%{x}<br>sum of Norm_Deaths=%{y}<extra></extra>",
         "legendgroup": "984774",
         "marker": {
          "color": "#00cc96",
          "pattern": {
           "shape": ""
          }
         },
         "name": "984774",
         "offsetgroup": "984774",
         "orientation": "v",
         "showlegend": true,
         "type": "histogram",
         "x": [
          "Loudon County, TN"
         ],
         "xaxis": "x",
         "y": [
          14.318005958727586
         ],
         "yaxis": "y"
        },
        {
         "alignmentgroup": "True",
         "bingroup": "x",
         "histfunc": "sum",
         "hovertemplate": "Population=465264<br>County=%{x}<br>sum of Norm_Deaths=%{y}<extra></extra>",
         "legendgroup": "465264",
         "marker": {
          "color": "#ab63fa",
          "pattern": {
           "shape": ""
          }
         },
         "name": "465264",
         "offsetgroup": "465264",
         "orientation": "v",
         "showlegend": true,
         "type": "histogram",
         "x": [
          "Macon County, TN"
         ],
         "xaxis": "x",
         "y": [
          12.251109047766429
         ],
         "yaxis": "y"
        },
        {
         "alignmentgroup": "True",
         "bingroup": "x",
         "histfunc": "sum",
         "hovertemplate": "Population=2022379<br>County=%{x}<br>sum of Norm_Deaths=%{y}<extra></extra>",
         "legendgroup": "2022379",
         "marker": {
          "color": "#FFA15A",
          "pattern": {
           "shape": ""
          }
         },
         "name": "2022379",
         "offsetgroup": "2022379",
         "orientation": "v",
         "showlegend": true,
         "type": "histogram",
         "x": [
          "Madison County, TN"
         ],
         "xaxis": "x",
         "y": [
          6.131392780482788
         ],
         "yaxis": "y"
        },
        {
         "alignmentgroup": "True",
         "bingroup": "x",
         "histfunc": "sum",
         "hovertemplate": "Population=591196<br>County=%{x}<br>sum of Norm_Deaths=%{y}<extra></extra>",
         "legendgroup": "591196",
         "marker": {
          "color": "#19d3f3",
          "pattern": {
           "shape": ""
          }
         },
         "name": "591196",
         "offsetgroup": "591196",
         "orientation": "v",
         "showlegend": true,
         "type": "histogram",
         "x": [
          "Marion County, TN"
         ],
         "xaxis": "x",
         "y": [
          11.332958951007788
         ],
         "yaxis": "y"
        },
        {
         "alignmentgroup": "True",
         "bingroup": "x",
         "histfunc": "sum",
         "hovertemplate": "Population=629199<br>County=%{x}<br>sum of Norm_Deaths=%{y}<extra></extra>",
         "legendgroup": "629199",
         "marker": {
          "color": "#FF6692",
          "pattern": {
           "shape": ""
          }
         },
         "name": "629199",
         "offsetgroup": "629199",
         "orientation": "v",
         "showlegend": true,
         "type": "histogram",
         "x": [
          "Marshall County, TN"
         ],
         "xaxis": "x",
         "y": [
          16.84681634904061
         ],
         "yaxis": "y"
        },
        {
         "alignmentgroup": "True",
         "bingroup": "x",
         "histfunc": "sum",
         "hovertemplate": "Population=1685920<br>County=%{x}<br>sum of Norm_Deaths=%{y}<extra></extra>",
         "legendgroup": "1685920",
         "marker": {
          "color": "#B6E880",
          "pattern": {
           "shape": ""
          }
         },
         "name": "1685920",
         "offsetgroup": "1685920",
         "orientation": "v",
         "showlegend": true,
         "type": "histogram",
         "x": [
          "Maury County, TN"
         ],
         "xaxis": "x",
         "y": [
          12.989940210686154
         ],
         "yaxis": "y"
        },
        {
         "alignmentgroup": "True",
         "bingroup": "x",
         "histfunc": "sum",
         "hovertemplate": "Population=1084446<br>County=%{x}<br>sum of Norm_Deaths=%{y}<extra></extra>",
         "legendgroup": "1084446",
         "marker": {
          "color": "#FF97FF",
          "pattern": {
           "shape": ""
          }
         },
         "name": "1084446",
         "offsetgroup": "1084446",
         "orientation": "v",
         "showlegend": true,
         "type": "histogram",
         "x": [
          "McMinn County, TN"
         ],
         "xaxis": "x",
         "y": [
          15.122929126945925
         ],
         "yaxis": "y"
        },
        {
         "alignmentgroup": "True",
         "bingroup": "x",
         "histfunc": "sum",
         "hovertemplate": "Population=536073<br>County=%{x}<br>sum of Norm_Deaths=%{y}<extra></extra>",
         "legendgroup": "536073",
         "marker": {
          "color": "#FECB52",
          "pattern": {
           "shape": ""
          }
         },
         "name": "536073",
         "offsetgroup": "536073",
         "orientation": "v",
         "showlegend": true,
         "type": "histogram",
         "x": [
          "McNairy County, TN"
         ],
         "xaxis": "x",
         "y": [
          13.804090114592602
         ],
         "yaxis": "y"
        },
        {
         "alignmentgroup": "True",
         "bingroup": "x",
         "histfunc": "sum",
         "hovertemplate": "Population=243191<br>County=%{x}<br>sum of Norm_Deaths=%{y}<extra></extra>",
         "legendgroup": "243191",
         "marker": {
          "color": "#636efa",
          "pattern": {
           "shape": ""
          }
         },
         "name": "243191",
         "offsetgroup": "243191",
         "orientation": "v",
         "showlegend": true,
         "type": "histogram",
         "x": [
          "Meigs County, TN"
         ],
         "xaxis": "x",
         "y": [
          18.09277481485746
         ],
         "yaxis": "y"
        },
        {
         "alignmentgroup": "True",
         "bingroup": "x",
         "histfunc": "sum",
         "hovertemplate": "Population=911567<br>County=%{x}<br>sum of Norm_Deaths=%{y}<extra></extra>",
         "legendgroup": "911567",
         "marker": {
          "color": "#EF553B",
          "pattern": {
           "shape": ""
          }
         },
         "name": "911567",
         "offsetgroup": "911567",
         "orientation": "v",
         "showlegend": true,
         "type": "histogram",
         "x": [
          "Monroe County, TN"
         ],
         "xaxis": "x",
         "y": [
          15.029065334747747
         ],
         "yaxis": "y"
        },
        {
         "alignmentgroup": "True",
         "bingroup": "x",
         "histfunc": "sum",
         "hovertemplate": "Population=3532903<br>County=%{x}<br>sum of Norm_Deaths=%{y}<extra></extra>",
         "legendgroup": "3532903",
         "marker": {
          "color": "#00cc96",
          "pattern": {
           "shape": ""
          }
         },
         "name": "3532903",
         "offsetgroup": "3532903",
         "orientation": "v",
         "showlegend": true,
         "type": "histogram",
         "x": [
          "Montgomery County, TN"
         ],
         "xaxis": "x",
         "y": [
          11.23721766490617
         ],
         "yaxis": "y"
        },
        {
         "alignmentgroup": "True",
         "bingroup": "x",
         "histfunc": "sum",
         "hovertemplate": "Population=129681<br>County=%{x}<br>sum of Norm_Deaths=%{y}<extra></extra>",
         "legendgroup": "129681",
         "marker": {
          "color": "#ab63fa",
          "pattern": {
           "shape": ""
          }
         },
         "name": "129681",
         "offsetgroup": "129681",
         "orientation": "v",
         "showlegend": true,
         "type": "histogram",
         "x": [
          "Moore County, TN"
         ],
         "xaxis": "x",
         "y": [
          8.48235285045612
         ],
         "yaxis": "y"
        },
        {
         "alignmentgroup": "True",
         "bingroup": "x",
         "histfunc": "sum",
         "hovertemplate": "Population=445529<br>County=%{x}<br>sum of Norm_Deaths=%{y}<extra></extra>",
         "legendgroup": "445529",
         "marker": {
          "color": "#FFA15A",
          "pattern": {
           "shape": ""
          }
         },
         "name": "445529",
         "offsetgroup": "445529",
         "orientation": "v",
         "showlegend": true,
         "type": "histogram",
         "x": [
          "Morgan County, TN"
         ],
         "xaxis": "x",
         "y": [
          19.75180066841889
         ],
         "yaxis": "y"
        },
        {
         "alignmentgroup": "True",
         "bingroup": "x",
         "histfunc": "sum",
         "hovertemplate": "Population=663060<br>County=%{x}<br>sum of Norm_Deaths=%{y}<extra></extra>",
         "legendgroup": "663060",
         "marker": {
          "color": "#19d3f3",
          "pattern": {
           "shape": ""
          }
         },
         "name": "663060",
         "offsetgroup": "663060",
         "orientation": "v",
         "showlegend": true,
         "type": "histogram",
         "x": [
          "Obion County, TN"
         ],
         "xaxis": "x",
         "y": [
          7.993243447048532
         ],
         "yaxis": "y"
        },
        {
         "alignmentgroup": "True",
         "bingroup": "x",
         "histfunc": "sum",
         "hovertemplate": "Population=450677<br>County=%{x}<br>sum of Norm_Deaths=%{y}<extra></extra>",
         "legendgroup": "450677",
         "marker": {
          "color": "#FF6692",
          "pattern": {
           "shape": ""
          }
         },
         "name": "450677",
         "offsetgroup": "450677",
         "orientation": "v",
         "showlegend": true,
         "type": "histogram",
         "x": [
          "Overton County, TN"
         ],
         "xaxis": "x",
         "y": [
          20.635621520512473
         ],
         "yaxis": "y"
        },
        {
         "alignmentgroup": "True",
         "bingroup": "x",
         "histfunc": "sum",
         "hovertemplate": "Population=163354<br>County=%{x}<br>sum of Norm_Deaths=%{y}<extra></extra>",
         "legendgroup": "163354",
         "marker": {
          "color": "#B6E880",
          "pattern": {
           "shape": ""
          }
         },
         "name": "163354",
         "offsetgroup": "163354",
         "orientation": "v",
         "showlegend": true,
         "type": "histogram",
         "x": [
          "Perry County, TN"
         ],
         "xaxis": "x",
         "y": [
          9.182511600572989
         ],
         "yaxis": "y"
        },
        {
         "alignmentgroup": "True",
         "bingroup": "x",
         "histfunc": "sum",
         "hovertemplate": "Population=106275<br>County=%{x}<br>sum of Norm_Deaths=%{y}<extra></extra>",
         "legendgroup": "106275",
         "marker": {
          "color": "#FF97FF",
          "pattern": {
           "shape": ""
          }
         },
         "name": "106275",
         "offsetgroup": "106275",
         "orientation": "v",
         "showlegend": true,
         "type": "histogram",
         "x": [
          "Pickett County, TN"
         ],
         "xaxis": "x",
         "y": [
          13.173370971536109
         ],
         "yaxis": "y"
        },
        {
         "alignmentgroup": "True",
         "bingroup": "x",
         "histfunc": "sum",
         "hovertemplate": "Population=347931<br>County=%{x}<br>sum of Norm_Deaths=%{y}<extra></extra>",
         "legendgroup": "347931",
         "marker": {
          "color": "#FECB52",
          "pattern": {
           "shape": ""
          }
         },
         "name": "347931",
         "offsetgroup": "347931",
         "orientation": "v",
         "showlegend": true,
         "type": "histogram",
         "x": [
          "Polk County, TN"
         ],
         "xaxis": "x",
         "y": [
          14.370665448034236
         ],
         "yaxis": "y"
        },
        {
         "alignmentgroup": "True",
         "bingroup": "x",
         "histfunc": "sum",
         "hovertemplate": "Population=1482601<br>County=%{x}<br>sum of Norm_Deaths=%{y}<extra></extra>",
         "legendgroup": "1482601",
         "marker": {
          "color": "#636efa",
          "pattern": {
           "shape": ""
          }
         },
         "name": "1482601",
         "offsetgroup": "1482601",
         "orientation": "v",
         "showlegend": true,
         "type": "histogram",
         "x": [
          "Putnam County, TN"
         ],
         "xaxis": "x",
         "y": [
          13.287458999420613
         ],
         "yaxis": "y"
        },
        {
         "alignmentgroup": "True",
         "bingroup": "x",
         "histfunc": "sum",
         "hovertemplate": "Population=652076<br>County=%{x}<br>sum of Norm_Deaths=%{y}<extra></extra>",
         "legendgroup": "652076",
         "marker": {
          "color": "#EF553B",
          "pattern": {
           "shape": ""
          }
         },
         "name": "652076",
         "offsetgroup": "652076",
         "orientation": "v",
         "showlegend": true,
         "type": "histogram",
         "x": [
          "Rhea County, TN"
         ],
         "xaxis": "x",
         "y": [
          15.642348437912146
         ],
         "yaxis": "y"
        },
        {
         "alignmentgroup": "True",
         "bingroup": "x",
         "histfunc": "sum",
         "hovertemplate": "Population=1116366<br>County=%{x}<br>sum of Norm_Deaths=%{y}<extra></extra>",
         "legendgroup": "1116366",
         "marker": {
          "color": "#00cc96",
          "pattern": {
           "shape": ""
          }
         },
         "name": "1116366",
         "offsetgroup": "1116366",
         "orientation": "v",
         "showlegend": true,
         "type": "histogram",
         "x": [
          "Roane County, TN"
         ],
         "xaxis": "x",
         "y": [
          25.439685551154373
         ],
         "yaxis": "y"
        },
        {
         "alignmentgroup": "True",
         "bingroup": "x",
         "histfunc": "sum",
         "hovertemplate": "Population=1338407<br>County=%{x}<br>sum of Norm_Deaths=%{y}<extra></extra>",
         "legendgroup": "1338407",
         "marker": {
          "color": "#ab63fa",
          "pattern": {
           "shape": ""
          }
         },
         "name": "1338407",
         "offsetgroup": "1338407",
         "orientation": "v",
         "showlegend": true,
         "type": "histogram",
         "x": [
          "Robertson County, TN"
         ],
         "xaxis": "x",
         "y": [
          11.655647347929293
         ],
         "yaxis": "y"
        },
        {
         "alignmentgroup": "True",
         "bingroup": "x",
         "histfunc": "sum",
         "hovertemplate": "Population=5328382<br>County=%{x}<br>sum of Norm_Deaths=%{y}<extra></extra>",
         "legendgroup": "5328382",
         "marker": {
          "color": "#FFA15A",
          "pattern": {
           "shape": ""
          }
         },
         "name": "5328382",
         "offsetgroup": "5328382",
         "orientation": "v",
         "showlegend": true,
         "type": "histogram",
         "x": [
          "Rutherford County, TN"
         ],
         "xaxis": "x",
         "y": [
          11.279221347118131
         ],
         "yaxis": "y"
        },
        {
         "alignmentgroup": "True",
         "bingroup": "x",
         "histfunc": "sum",
         "hovertemplate": "Population=459406<br>County=%{x}<br>sum of Norm_Deaths=%{y}<extra></extra>",
         "legendgroup": "459406",
         "marker": {
          "color": "#19d3f3",
          "pattern": {
           "shape": ""
          }
         },
         "name": "459406",
         "offsetgroup": "459406",
         "orientation": "v",
         "showlegend": true,
         "type": "histogram",
         "x": [
          "Scott County, TN"
         ],
         "xaxis": "x",
         "y": [
          16.978446080373352
         ],
         "yaxis": "y"
        },
        {
         "alignmentgroup": "True",
         "bingroup": "x",
         "histfunc": "sum",
         "hovertemplate": "Population=284651<br>County=%{x}<br>sum of Norm_Deaths=%{y}<extra></extra>",
         "legendgroup": "284651",
         "marker": {
          "color": "#FF6692",
          "pattern": {
           "shape": ""
          }
         },
         "name": "284651",
         "offsetgroup": "284651",
         "orientation": "v",
         "showlegend": true,
         "type": "histogram",
         "x": [
          "Sequatchie County, TN"
         ],
         "xaxis": "x",
         "y": [
          13.700988227689345
         ],
         "yaxis": "y"
        },
        {
         "alignmentgroup": "True",
         "bingroup": "x",
         "histfunc": "sum",
         "hovertemplate": "Population=1821978<br>County=%{x}<br>sum of Norm_Deaths=%{y}<extra></extra>",
         "legendgroup": "1821978",
         "marker": {
          "color": "#B6E880",
          "pattern": {
           "shape": ""
          }
         },
         "name": "1821978",
         "offsetgroup": "1821978",
         "orientation": "v",
         "showlegend": true,
         "type": "histogram",
         "x": [
          "Sevier County, TN"
         ],
         "xaxis": "x",
         "y": [
          18.112183571920188
         ],
         "yaxis": "y"
        },
        {
         "alignmentgroup": "True",
         "bingroup": "x",
         "histfunc": "sum",
         "hovertemplate": "Population=19371632<br>County=%{x}<br>sum of Norm_Deaths=%{y}<extra></extra>",
         "legendgroup": "19371632",
         "marker": {
          "color": "#FF97FF",
          "pattern": {
           "shape": ""
          }
         },
         "name": "19371632",
         "offsetgroup": "19371632",
         "orientation": "v",
         "showlegend": true,
         "type": "histogram",
         "x": [
          "Shelby County, TN"
         ],
         "xaxis": "x",
         "y": [
          11.6200844616499
         ],
         "yaxis": "y"
        },
        {
         "alignmentgroup": "True",
         "bingroup": "x",
         "histfunc": "sum",
         "hovertemplate": "Population=396155<br>County=%{x}<br>sum of Norm_Deaths=%{y}<extra></extra>",
         "legendgroup": "396155",
         "marker": {
          "color": "#FECB52",
          "pattern": {
           "shape": ""
          }
         },
         "name": "396155",
         "offsetgroup": "396155",
         "orientation": "v",
         "showlegend": true,
         "type": "histogram",
         "x": [
          "Smith County, TN"
         ],
         "xaxis": "x",
         "y": [
          21.203821736441544
         ],
         "yaxis": "y"
        },
        {
         "alignmentgroup": "True",
         "bingroup": "x",
         "histfunc": "sum",
         "hovertemplate": "Population=273672<br>County=%{x}<br>sum of Norm_Deaths=%{y}<extra></extra>",
         "legendgroup": "273672",
         "marker": {
          "color": "#636efa",
          "pattern": {
           "shape": ""
          }
         },
         "name": "273672",
         "offsetgroup": "273672",
         "orientation": "v",
         "showlegend": true,
         "type": "histogram",
         "x": [
          "Stewart County, TN"
         ],
         "xaxis": "x",
         "y": [
          14.981437633371334
         ],
         "yaxis": "y"
        },
        {
         "alignmentgroup": "True",
         "bingroup": "x",
         "histfunc": "sum",
         "hovertemplate": "Population=3265174<br>County=%{x}<br>sum of Norm_Deaths=%{y}<extra></extra>",
         "legendgroup": "3265174",
         "marker": {
          "color": "#EF553B",
          "pattern": {
           "shape": ""
          }
         },
         "name": "3265174",
         "offsetgroup": "3265174",
         "orientation": "v",
         "showlegend": true,
         "type": "histogram",
         "x": [
          "Sullivan County, TN"
         ],
         "xaxis": "x",
         "y": [
          12.46487936018111
         ],
         "yaxis": "y"
        },
        {
         "alignmentgroup": "True",
         "bingroup": "x",
         "histfunc": "sum",
         "hovertemplate": "Population=3318775<br>County=%{x}<br>sum of Norm_Deaths=%{y}<extra></extra>",
         "legendgroup": "3318775",
         "marker": {
          "color": "#00cc96",
          "pattern": {
           "shape": ""
          }
         },
         "name": "3318775",
         "offsetgroup": "3318775",
         "orientation": "v",
         "showlegend": true,
         "type": "histogram",
         "x": [
          "Sumner County, TN"
         ],
         "xaxis": "x",
         "y": [
          11.510271109068858
         ],
         "yaxis": "y"
        },
        {
         "alignmentgroup": "True",
         "bingroup": "x",
         "histfunc": "sum",
         "hovertemplate": "Population=1224474<br>County=%{x}<br>sum of Norm_Deaths=%{y}<extra></extra>",
         "legendgroup": "1224474",
         "marker": {
          "color": "#ab63fa",
          "pattern": {
           "shape": ""
          }
         },
         "name": "1224474",
         "offsetgroup": "1224474",
         "orientation": "v",
         "showlegend": true,
         "type": "histogram",
         "x": [
          "Tipton County, TN"
         ],
         "xaxis": "x",
         "y": [
          12.086822586678036
         ],
         "yaxis": "y"
        },
        {
         "alignmentgroup": "True",
         "bingroup": "x",
         "histfunc": "sum",
         "hovertemplate": "Population=169927<br>County=%{x}<br>sum of Norm_Deaths=%{y}<extra></extra>",
         "legendgroup": "169927",
         "marker": {
          "color": "#FFA15A",
          "pattern": {
           "shape": ""
          }
         },
         "name": "169927",
         "offsetgroup": "169927",
         "orientation": "v",
         "showlegend": true,
         "type": "histogram",
         "x": [
          "Trousdale County, TN"
         ],
         "xaxis": "x",
         "y": [
          14.123711946894844
         ],
         "yaxis": "y"
        },
        {
         "alignmentgroup": "True",
         "bingroup": "x",
         "histfunc": "sum",
         "hovertemplate": "Population=377388<br>County=%{x}<br>sum of Norm_Deaths=%{y}<extra></extra>",
         "legendgroup": "377388",
         "marker": {
          "color": "#19d3f3",
          "pattern": {
           "shape": ""
          }
         },
         "name": "377388",
         "offsetgroup": "377388",
         "orientation": "v",
         "showlegend": true,
         "type": "histogram",
         "x": [
          "Unicoi County, TN"
         ],
         "xaxis": "x",
         "y": [
          14.043901766881831
         ],
         "yaxis": "y"
        },
        {
         "alignmentgroup": "True",
         "bingroup": "x",
         "histfunc": "sum",
         "hovertemplate": "Population=397528<br>County=%{x}<br>sum of Norm_Deaths=%{y}<extra></extra>",
         "legendgroup": "397528",
         "marker": {
          "color": "#FF6692",
          "pattern": {
           "shape": ""
          }
         },
         "name": "397528",
         "offsetgroup": "397528",
         "orientation": "v",
         "showlegend": true,
         "type": "histogram",
         "x": [
          "Union County, TN"
         ],
         "xaxis": "x",
         "y": [
          21.130587027832
         ],
         "yaxis": "y"
        },
        {
         "alignmentgroup": "True",
         "bingroup": "x",
         "histfunc": "sum",
         "hovertemplate": "Population=831031<br>County=%{x}<br>sum of Norm_Deaths=%{y}<extra></extra>",
         "legendgroup": "831031",
         "marker": {
          "color": "#B6E880",
          "pattern": {
           "shape": ""
          }
         },
         "name": "831031",
         "offsetgroup": "831031",
         "orientation": "v",
         "showlegend": true,
         "type": "histogram",
         "x": [
          "Warren County, TN"
         ],
         "xaxis": "x",
         "y": [
          11.070585814488268
         ],
         "yaxis": "y"
        },
        {
         "alignmentgroup": "True",
         "bingroup": "x",
         "histfunc": "sum",
         "hovertemplate": "Population=2505979<br>County=%{x}<br>sum of Norm_Deaths=%{y}<extra></extra>",
         "legendgroup": "2505979",
         "marker": {
          "color": "#FF97FF",
          "pattern": {
           "shape": ""
          }
         },
         "name": "2505979",
         "offsetgroup": "2505979",
         "orientation": "v",
         "showlegend": true,
         "type": "histogram",
         "x": [
          "Washington County, TN"
         ],
         "xaxis": "x",
         "y": [
          9.736713675573498
         ],
         "yaxis": "y"
        },
        {
         "alignmentgroup": "True",
         "bingroup": "x",
         "histfunc": "sum",
         "hovertemplate": "Population=355030<br>County=%{x}<br>sum of Norm_Deaths=%{y}<extra></extra>",
         "legendgroup": "355030",
         "marker": {
          "color": "#FECB52",
          "pattern": {
           "shape": ""
          }
         },
         "name": "355030",
         "offsetgroup": "355030",
         "orientation": "v",
         "showlegend": true,
         "type": "histogram",
         "x": [
          "Wayne County, TN"
         ],
         "xaxis": "x",
         "y": [
          10.421654508069741
         ],
         "yaxis": "y"
        },
        {
         "alignmentgroup": "True",
         "bingroup": "x",
         "histfunc": "sum",
         "hovertemplate": "Population=720464<br>County=%{x}<br>sum of Norm_Deaths=%{y}<extra></extra>",
         "legendgroup": "720464",
         "marker": {
          "color": "#636efa",
          "pattern": {
           "shape": ""
          }
         },
         "name": "720464",
         "offsetgroup": "720464",
         "orientation": "v",
         "showlegend": true,
         "type": "histogram",
         "x": [
          "Weakley County, TN"
         ],
         "xaxis": "x",
         "y": [
          7.772768660196762
         ],
         "yaxis": "y"
        },
        {
         "alignmentgroup": "True",
         "bingroup": "x",
         "histfunc": "sum",
         "hovertemplate": "Population=531917<br>County=%{x}<br>sum of Norm_Deaths=%{y}<extra></extra>",
         "legendgroup": "531917",
         "marker": {
          "color": "#EF553B",
          "pattern": {
           "shape": ""
          }
         },
         "name": "531917",
         "offsetgroup": "531917",
         "orientation": "v",
         "showlegend": true,
         "type": "histogram",
         "x": [
          "White County, TN"
         ],
         "xaxis": "x",
         "y": [
          14.663941930789955
         ],
         "yaxis": "y"
        },
        {
         "alignmentgroup": "True",
         "bingroup": "x",
         "histfunc": "sum",
         "hovertemplate": "Population=3745591<br>County=%{x}<br>sum of Norm_Deaths=%{y}<extra></extra>",
         "legendgroup": "3745591",
         "marker": {
          "color": "#00cc96",
          "pattern": {
           "shape": ""
          }
         },
         "name": "3745591",
         "offsetgroup": "3745591",
         "orientation": "v",
         "showlegend": true,
         "type": "histogram",
         "x": [
          "Williamson County, TN"
         ],
         "xaxis": "x",
         "y": [
          7.101683018781282
         ],
         "yaxis": "y"
        },
        {
         "alignmentgroup": "True",
         "bingroup": "x",
         "histfunc": "sum",
         "hovertemplate": "Population=2365780<br>County=%{x}<br>sum of Norm_Deaths=%{y}<extra></extra>",
         "legendgroup": "2365780",
         "marker": {
          "color": "#ab63fa",
          "pattern": {
           "shape": ""
          }
         },
         "name": "2365780",
         "offsetgroup": "2365780",
         "orientation": "v",
         "showlegend": true,
         "type": "histogram",
         "x": [
          "Wilson County, TN"
         ],
         "xaxis": "x",
         "y": [
          14.540658894740847
         ],
         "yaxis": "y"
        }
       ],
       "layout": {
        "barmode": "relative",
        "legend": {
         "title": {
          "text": "Population"
         },
         "tracegroupgap": 0
        },
        "template": {
         "data": {
          "bar": [
           {
            "error_x": {
             "color": "#2a3f5f"
            },
            "error_y": {
             "color": "#2a3f5f"
            },
            "marker": {
             "line": {
              "color": "#E5ECF6",
              "width": 0.5
             },
             "pattern": {
              "fillmode": "overlay",
              "size": 10,
              "solidity": 0.2
             }
            },
            "type": "bar"
           }
          ],
          "barpolar": [
           {
            "marker": {
             "line": {
              "color": "#E5ECF6",
              "width": 0.5
             },
             "pattern": {
              "fillmode": "overlay",
              "size": 10,
              "solidity": 0.2
             }
            },
            "type": "barpolar"
           }
          ],
          "carpet": [
           {
            "aaxis": {
             "endlinecolor": "#2a3f5f",
             "gridcolor": "white",
             "linecolor": "white",
             "minorgridcolor": "white",
             "startlinecolor": "#2a3f5f"
            },
            "baxis": {
             "endlinecolor": "#2a3f5f",
             "gridcolor": "white",
             "linecolor": "white",
             "minorgridcolor": "white",
             "startlinecolor": "#2a3f5f"
            },
            "type": "carpet"
           }
          ],
          "choropleth": [
           {
            "colorbar": {
             "outlinewidth": 0,
             "ticks": ""
            },
            "type": "choropleth"
           }
          ],
          "contour": [
           {
            "colorbar": {
             "outlinewidth": 0,
             "ticks": ""
            },
            "colorscale": [
             [
              0,
              "#0d0887"
             ],
             [
              0.1111111111111111,
              "#46039f"
             ],
             [
              0.2222222222222222,
              "#7201a8"
             ],
             [
              0.3333333333333333,
              "#9c179e"
             ],
             [
              0.4444444444444444,
              "#bd3786"
             ],
             [
              0.5555555555555556,
              "#d8576b"
             ],
             [
              0.6666666666666666,
              "#ed7953"
             ],
             [
              0.7777777777777778,
              "#fb9f3a"
             ],
             [
              0.8888888888888888,
              "#fdca26"
             ],
             [
              1,
              "#f0f921"
             ]
            ],
            "type": "contour"
           }
          ],
          "contourcarpet": [
           {
            "colorbar": {
             "outlinewidth": 0,
             "ticks": ""
            },
            "type": "contourcarpet"
           }
          ],
          "heatmap": [
           {
            "colorbar": {
             "outlinewidth": 0,
             "ticks": ""
            },
            "colorscale": [
             [
              0,
              "#0d0887"
             ],
             [
              0.1111111111111111,
              "#46039f"
             ],
             [
              0.2222222222222222,
              "#7201a8"
             ],
             [
              0.3333333333333333,
              "#9c179e"
             ],
             [
              0.4444444444444444,
              "#bd3786"
             ],
             [
              0.5555555555555556,
              "#d8576b"
             ],
             [
              0.6666666666666666,
              "#ed7953"
             ],
             [
              0.7777777777777778,
              "#fb9f3a"
             ],
             [
              0.8888888888888888,
              "#fdca26"
             ],
             [
              1,
              "#f0f921"
             ]
            ],
            "type": "heatmap"
           }
          ],
          "heatmapgl": [
           {
            "colorbar": {
             "outlinewidth": 0,
             "ticks": ""
            },
            "colorscale": [
             [
              0,
              "#0d0887"
             ],
             [
              0.1111111111111111,
              "#46039f"
             ],
             [
              0.2222222222222222,
              "#7201a8"
             ],
             [
              0.3333333333333333,
              "#9c179e"
             ],
             [
              0.4444444444444444,
              "#bd3786"
             ],
             [
              0.5555555555555556,
              "#d8576b"
             ],
             [
              0.6666666666666666,
              "#ed7953"
             ],
             [
              0.7777777777777778,
              "#fb9f3a"
             ],
             [
              0.8888888888888888,
              "#fdca26"
             ],
             [
              1,
              "#f0f921"
             ]
            ],
            "type": "heatmapgl"
           }
          ],
          "histogram": [
           {
            "marker": {
             "pattern": {
              "fillmode": "overlay",
              "size": 10,
              "solidity": 0.2
             }
            },
            "type": "histogram"
           }
          ],
          "histogram2d": [
           {
            "colorbar": {
             "outlinewidth": 0,
             "ticks": ""
            },
            "colorscale": [
             [
              0,
              "#0d0887"
             ],
             [
              0.1111111111111111,
              "#46039f"
             ],
             [
              0.2222222222222222,
              "#7201a8"
             ],
             [
              0.3333333333333333,
              "#9c179e"
             ],
             [
              0.4444444444444444,
              "#bd3786"
             ],
             [
              0.5555555555555556,
              "#d8576b"
             ],
             [
              0.6666666666666666,
              "#ed7953"
             ],
             [
              0.7777777777777778,
              "#fb9f3a"
             ],
             [
              0.8888888888888888,
              "#fdca26"
             ],
             [
              1,
              "#f0f921"
             ]
            ],
            "type": "histogram2d"
           }
          ],
          "histogram2dcontour": [
           {
            "colorbar": {
             "outlinewidth": 0,
             "ticks": ""
            },
            "colorscale": [
             [
              0,
              "#0d0887"
             ],
             [
              0.1111111111111111,
              "#46039f"
             ],
             [
              0.2222222222222222,
              "#7201a8"
             ],
             [
              0.3333333333333333,
              "#9c179e"
             ],
             [
              0.4444444444444444,
              "#bd3786"
             ],
             [
              0.5555555555555556,
              "#d8576b"
             ],
             [
              0.6666666666666666,
              "#ed7953"
             ],
             [
              0.7777777777777778,
              "#fb9f3a"
             ],
             [
              0.8888888888888888,
              "#fdca26"
             ],
             [
              1,
              "#f0f921"
             ]
            ],
            "type": "histogram2dcontour"
           }
          ],
          "mesh3d": [
           {
            "colorbar": {
             "outlinewidth": 0,
             "ticks": ""
            },
            "type": "mesh3d"
           }
          ],
          "parcoords": [
           {
            "line": {
             "colorbar": {
              "outlinewidth": 0,
              "ticks": ""
             }
            },
            "type": "parcoords"
           }
          ],
          "pie": [
           {
            "automargin": true,
            "type": "pie"
           }
          ],
          "scatter": [
           {
            "marker": {
             "colorbar": {
              "outlinewidth": 0,
              "ticks": ""
             }
            },
            "type": "scatter"
           }
          ],
          "scatter3d": [
           {
            "line": {
             "colorbar": {
              "outlinewidth": 0,
              "ticks": ""
             }
            },
            "marker": {
             "colorbar": {
              "outlinewidth": 0,
              "ticks": ""
             }
            },
            "type": "scatter3d"
           }
          ],
          "scattercarpet": [
           {
            "marker": {
             "colorbar": {
              "outlinewidth": 0,
              "ticks": ""
             }
            },
            "type": "scattercarpet"
           }
          ],
          "scattergeo": [
           {
            "marker": {
             "colorbar": {
              "outlinewidth": 0,
              "ticks": ""
             }
            },
            "type": "scattergeo"
           }
          ],
          "scattergl": [
           {
            "marker": {
             "colorbar": {
              "outlinewidth": 0,
              "ticks": ""
             }
            },
            "type": "scattergl"
           }
          ],
          "scattermapbox": [
           {
            "marker": {
             "colorbar": {
              "outlinewidth": 0,
              "ticks": ""
             }
            },
            "type": "scattermapbox"
           }
          ],
          "scatterpolar": [
           {
            "marker": {
             "colorbar": {
              "outlinewidth": 0,
              "ticks": ""
             }
            },
            "type": "scatterpolar"
           }
          ],
          "scatterpolargl": [
           {
            "marker": {
             "colorbar": {
              "outlinewidth": 0,
              "ticks": ""
             }
            },
            "type": "scatterpolargl"
           }
          ],
          "scatterternary": [
           {
            "marker": {
             "colorbar": {
              "outlinewidth": 0,
              "ticks": ""
             }
            },
            "type": "scatterternary"
           }
          ],
          "surface": [
           {
            "colorbar": {
             "outlinewidth": 0,
             "ticks": ""
            },
            "colorscale": [
             [
              0,
              "#0d0887"
             ],
             [
              0.1111111111111111,
              "#46039f"
             ],
             [
              0.2222222222222222,
              "#7201a8"
             ],
             [
              0.3333333333333333,
              "#9c179e"
             ],
             [
              0.4444444444444444,
              "#bd3786"
             ],
             [
              0.5555555555555556,
              "#d8576b"
             ],
             [
              0.6666666666666666,
              "#ed7953"
             ],
             [
              0.7777777777777778,
              "#fb9f3a"
             ],
             [
              0.8888888888888888,
              "#fdca26"
             ],
             [
              1,
              "#f0f921"
             ]
            ],
            "type": "surface"
           }
          ],
          "table": [
           {
            "cells": {
             "fill": {
              "color": "#EBF0F8"
             },
             "line": {
              "color": "white"
             }
            },
            "header": {
             "fill": {
              "color": "#C8D4E3"
             },
             "line": {
              "color": "white"
             }
            },
            "type": "table"
           }
          ]
         },
         "layout": {
          "annotationdefaults": {
           "arrowcolor": "#2a3f5f",
           "arrowhead": 0,
           "arrowwidth": 1
          },
          "autotypenumbers": "strict",
          "coloraxis": {
           "colorbar": {
            "outlinewidth": 0,
            "ticks": ""
           }
          },
          "colorscale": {
           "diverging": [
            [
             0,
             "#8e0152"
            ],
            [
             0.1,
             "#c51b7d"
            ],
            [
             0.2,
             "#de77ae"
            ],
            [
             0.3,
             "#f1b6da"
            ],
            [
             0.4,
             "#fde0ef"
            ],
            [
             0.5,
             "#f7f7f7"
            ],
            [
             0.6,
             "#e6f5d0"
            ],
            [
             0.7,
             "#b8e186"
            ],
            [
             0.8,
             "#7fbc41"
            ],
            [
             0.9,
             "#4d9221"
            ],
            [
             1,
             "#276419"
            ]
           ],
           "sequential": [
            [
             0,
             "#0d0887"
            ],
            [
             0.1111111111111111,
             "#46039f"
            ],
            [
             0.2222222222222222,
             "#7201a8"
            ],
            [
             0.3333333333333333,
             "#9c179e"
            ],
            [
             0.4444444444444444,
             "#bd3786"
            ],
            [
             0.5555555555555556,
             "#d8576b"
            ],
            [
             0.6666666666666666,
             "#ed7953"
            ],
            [
             0.7777777777777778,
             "#fb9f3a"
            ],
            [
             0.8888888888888888,
             "#fdca26"
            ],
            [
             1,
             "#f0f921"
            ]
           ],
           "sequentialminus": [
            [
             0,
             "#0d0887"
            ],
            [
             0.1111111111111111,
             "#46039f"
            ],
            [
             0.2222222222222222,
             "#7201a8"
            ],
            [
             0.3333333333333333,
             "#9c179e"
            ],
            [
             0.4444444444444444,
             "#bd3786"
            ],
            [
             0.5555555555555556,
             "#d8576b"
            ],
            [
             0.6666666666666666,
             "#ed7953"
            ],
            [
             0.7777777777777778,
             "#fb9f3a"
            ],
            [
             0.8888888888888888,
             "#fdca26"
            ],
            [
             1,
             "#f0f921"
            ]
           ]
          },
          "colorway": [
           "#636efa",
           "#EF553B",
           "#00cc96",
           "#ab63fa",
           "#FFA15A",
           "#19d3f3",
           "#FF6692",
           "#B6E880",
           "#FF97FF",
           "#FECB52"
          ],
          "font": {
           "color": "#2a3f5f"
          },
          "geo": {
           "bgcolor": "white",
           "lakecolor": "white",
           "landcolor": "#E5ECF6",
           "showlakes": true,
           "showland": true,
           "subunitcolor": "white"
          },
          "hoverlabel": {
           "align": "left"
          },
          "hovermode": "closest",
          "mapbox": {
           "style": "light"
          },
          "paper_bgcolor": "white",
          "plot_bgcolor": "#E5ECF6",
          "polar": {
           "angularaxis": {
            "gridcolor": "white",
            "linecolor": "white",
            "ticks": ""
           },
           "bgcolor": "#E5ECF6",
           "radialaxis": {
            "gridcolor": "white",
            "linecolor": "white",
            "ticks": ""
           }
          },
          "scene": {
           "xaxis": {
            "backgroundcolor": "#E5ECF6",
            "gridcolor": "white",
            "gridwidth": 2,
            "linecolor": "white",
            "showbackground": true,
            "ticks": "",
            "zerolinecolor": "white"
           },
           "yaxis": {
            "backgroundcolor": "#E5ECF6",
            "gridcolor": "white",
            "gridwidth": 2,
            "linecolor": "white",
            "showbackground": true,
            "ticks": "",
            "zerolinecolor": "white"
           },
           "zaxis": {
            "backgroundcolor": "#E5ECF6",
            "gridcolor": "white",
            "gridwidth": 2,
            "linecolor": "white",
            "showbackground": true,
            "ticks": "",
            "zerolinecolor": "white"
           }
          },
          "shapedefaults": {
           "line": {
            "color": "#2a3f5f"
           }
          },
          "ternary": {
           "aaxis": {
            "gridcolor": "white",
            "linecolor": "white",
            "ticks": ""
           },
           "baxis": {
            "gridcolor": "white",
            "linecolor": "white",
            "ticks": ""
           },
           "bgcolor": "#E5ECF6",
           "caxis": {
            "gridcolor": "white",
            "linecolor": "white",
            "ticks": ""
           }
          },
          "title": {
           "x": 0.05
          },
          "xaxis": {
           "automargin": true,
           "gridcolor": "white",
           "linecolor": "white",
           "ticks": "",
           "title": {
            "standoff": 15
           },
           "zerolinecolor": "white",
           "zerolinewidth": 2
          },
          "yaxis": {
           "automargin": true,
           "gridcolor": "white",
           "linecolor": "white",
           "ticks": "",
           "title": {
            "standoff": 15
           },
           "zerolinecolor": "white",
           "zerolinewidth": 2
          }
         }
        },
        "title": {
         "text": "Opiod Mortality rate in\tTN"
        },
        "xaxis": {
         "anchor": "y",
         "domain": [
          0,
          1
         ],
         "title": {
          "text": "County"
         }
        },
        "yaxis": {
         "anchor": "x",
         "domain": [
          0,
          1
         ],
         "title": {
          "text": "sum of Norm_Deaths"
         }
        }
       }
      },
      "text/html": [
       "<div>                            <div id=\"10a86aa4-5c7c-445a-b9ff-e1db78dba2dd\" class=\"plotly-graph-div\" style=\"height:525px; width:100%;\"></div>            <script type=\"text/javascript\">                require([\"plotly\"], function(Plotly) {                    window.PLOTLYENV=window.PLOTLYENV || {};                                    if (document.getElementById(\"10a86aa4-5c7c-445a-b9ff-e1db78dba2dd\")) {                    Plotly.newPlot(                        \"10a86aa4-5c7c-445a-b9ff-e1db78dba2dd\",                        [{\"alignmentgroup\":\"True\",\"bingroup\":\"x\",\"histfunc\":\"sum\",\"hovertemplate\":\"Population=1555370<br>County=%{x}<br>sum of Norm_Deaths=%{y}<extra></extra>\",\"legendgroup\":\"1555370\",\"marker\":{\"color\":\"#636efa\",\"pattern\":{\"shape\":\"\"}},\"name\":\"1555370\",\"offsetgroup\":\"1555370\",\"orientation\":\"v\",\"showlegend\":true,\"x\":[\"Anderson County, TN\"],\"xaxis\":\"x\",\"y\":[20.895349659566534],\"yaxis\":\"y\",\"type\":\"histogram\"},{\"alignmentgroup\":\"True\",\"bingroup\":\"x\",\"histfunc\":\"sum\",\"hovertemplate\":\"Population=919663<br>County=%{x}<br>sum of Norm_Deaths=%{y}<extra></extra>\",\"legendgroup\":\"919663\",\"marker\":{\"color\":\"#EF553B\",\"pattern\":{\"shape\":\"\"}},\"name\":\"919663\",\"offsetgroup\":\"919663\",\"orientation\":\"v\",\"showlegend\":true,\"x\":[\"Bedford County, TN\"],\"xaxis\":\"x\",\"y\":[10.003664385758697],\"yaxis\":\"y\",\"type\":\"histogram\"},{\"alignmentgroup\":\"True\",\"bingroup\":\"x\",\"histfunc\":\"sum\",\"hovertemplate\":\"Population=343832<br>County=%{x}<br>sum of Norm_Deaths=%{y}<extra></extra>\",\"legendgroup\":\"343832\",\"marker\":{\"color\":\"#00cc96\",\"pattern\":{\"shape\":\"\"}},\"name\":\"343832\",\"offsetgroup\":\"343832\",\"orientation\":\"v\",\"showlegend\":true,\"x\":[\"Benton County, TN\"],\"xaxis\":\"x\",\"y\":[25.012215267921544],\"yaxis\":\"y\",\"type\":\"histogram\"},{\"alignmentgroup\":\"True\",\"bingroup\":\"x\",\"histfunc\":\"sum\",\"hovertemplate\":\"Population=278107<br>County=%{x}<br>sum of Norm_Deaths=%{y}<extra></extra>\",\"legendgroup\":\"278107\",\"marker\":{\"color\":\"#ab63fa\",\"pattern\":{\"shape\":\"\"}},\"name\":\"278107\",\"offsetgroup\":\"278107\",\"orientation\":\"v\",\"showlegend\":true,\"x\":[\"Bledsoe County, TN\"],\"xaxis\":\"x\",\"y\":[10.787214992790544],\"yaxis\":\"y\",\"type\":\"histogram\"},{\"alignmentgroup\":\"True\",\"bingroup\":\"x\",\"histfunc\":\"sum\",\"hovertemplate\":\"Population=2522787<br>County=%{x}<br>sum of Norm_Deaths=%{y}<extra></extra>\",\"legendgroup\":\"2522787\",\"marker\":{\"color\":\"#FFA15A\",\"pattern\":{\"shape\":\"\"}},\"name\":\"2522787\",\"offsetgroup\":\"2522787\",\"orientation\":\"v\",\"showlegend\":true,\"x\":[\"Blount County, TN\"],\"xaxis\":\"x\",\"y\":[17.67886072030655],\"yaxis\":\"y\",\"type\":\"histogram\"},{\"alignmentgroup\":\"True\",\"bingroup\":\"x\",\"histfunc\":\"sum\",\"hovertemplate\":\"Population=2049806<br>County=%{x}<br>sum of Norm_Deaths=%{y}<extra></extra>\",\"legendgroup\":\"2049806\",\"marker\":{\"color\":\"#19d3f3\",\"pattern\":{\"shape\":\"\"}},\"name\":\"2049806\",\"offsetgroup\":\"2049806\",\"orientation\":\"v\",\"showlegend\":true,\"x\":[\"Bradley County, TN\"],\"xaxis\":\"x\",\"y\":[14.245250526147352],\"yaxis\":\"y\",\"type\":\"histogram\"},{\"alignmentgroup\":\"True\",\"bingroup\":\"x\",\"histfunc\":\"sum\",\"hovertemplate\":\"Population=842479<br>County=%{x}<br>sum of Norm_Deaths=%{y}<extra></extra>\",\"legendgroup\":\"842479\",\"marker\":{\"color\":\"#FF6692\",\"pattern\":{\"shape\":\"\"}},\"name\":\"842479\",\"offsetgroup\":\"842479\",\"orientation\":\"v\",\"showlegend\":true,\"x\":[\"Campbell County, TN\"],\"xaxis\":\"x\",\"y\":[24.57034537359388],\"yaxis\":\"y\",\"type\":\"histogram\"},{\"alignmentgroup\":\"True\",\"bingroup\":\"x\",\"histfunc\":\"sum\",\"hovertemplate\":\"Population=285055<br>County=%{x}<br>sum of Norm_Deaths=%{y}<extra></extra>\",\"legendgroup\":\"285055\",\"marker\":{\"color\":\"#B6E880\",\"pattern\":{\"shape\":\"\"}},\"name\":\"285055\",\"offsetgroup\":\"285055\",\"orientation\":\"v\",\"showlegend\":true,\"x\":[\"Cannon County, TN\"],\"xaxis\":\"x\",\"y\":[18.242093631053656],\"yaxis\":\"y\",\"type\":\"histogram\"},{\"alignmentgroup\":\"True\",\"bingroup\":\"x\",\"histfunc\":\"sum\",\"hovertemplate\":\"Population=601060<br>County=%{x}<br>sum of Norm_Deaths=%{y}<extra></extra>\",\"legendgroup\":\"601060\",\"marker\":{\"color\":\"#FF97FF\",\"pattern\":{\"shape\":\"\"}},\"name\":\"601060\",\"offsetgroup\":\"601060\",\"orientation\":\"v\",\"showlegend\":true,\"x\":[\"Carroll County, TN\"],\"xaxis\":\"x\",\"y\":[13.143446577712709],\"yaxis\":\"y\",\"type\":\"histogram\"},{\"alignmentgroup\":\"True\",\"bingroup\":\"x\",\"histfunc\":\"sum\",\"hovertemplate\":\"Population=1198791<br>County=%{x}<br>sum of Norm_Deaths=%{y}<extra></extra>\",\"legendgroup\":\"1198791\",\"marker\":{\"color\":\"#FECB52\",\"pattern\":{\"shape\":\"\"}},\"name\":\"1198791\",\"offsetgroup\":\"1198791\",\"orientation\":\"v\",\"showlegend\":true,\"x\":[\"Carter County, TN\"],\"xaxis\":\"x\",\"y\":[14.180953977799298],\"yaxis\":\"y\",\"type\":\"histogram\"},{\"alignmentgroup\":\"True\",\"bingroup\":\"x\",\"histfunc\":\"sum\",\"hovertemplate\":\"Population=808908<br>County=%{x}<br>sum of Norm_Deaths=%{y}<extra></extra>\",\"legendgroup\":\"808908\",\"marker\":{\"color\":\"#636efa\",\"pattern\":{\"shape\":\"\"}},\"name\":\"808908\",\"offsetgroup\":\"808908\",\"orientation\":\"v\",\"showlegend\":true,\"x\":[\"Cheatham County, TN\"],\"xaxis\":\"x\",\"y\":[24.60106711764502],\"yaxis\":\"y\",\"type\":\"histogram\"},{\"alignmentgroup\":\"True\",\"bingroup\":\"x\",\"histfunc\":\"sum\",\"hovertemplate\":\"Population=350531<br>County=%{x}<br>sum of Norm_Deaths=%{y}<extra></extra>\",\"legendgroup\":\"350531\",\"marker\":{\"color\":\"#EF553B\",\"pattern\":{\"shape\":\"\"}},\"name\":\"350531\",\"offsetgroup\":\"350531\",\"orientation\":\"v\",\"showlegend\":true,\"x\":[\"Chester County, TN\"],\"xaxis\":\"x\",\"y\":[8.273162715993735],\"yaxis\":\"y\",\"type\":\"histogram\"},{\"alignmentgroup\":\"True\",\"bingroup\":\"x\",\"histfunc\":\"sum\",\"hovertemplate\":\"Population=657584<br>County=%{x}<br>sum of Norm_Deaths=%{y}<extra></extra>\",\"legendgroup\":\"657584\",\"marker\":{\"color\":\"#00cc96\",\"pattern\":{\"shape\":\"\"}},\"name\":\"657584\",\"offsetgroup\":\"657584\",\"orientation\":\"v\",\"showlegend\":true,\"x\":[\"Claiborne County, TN\"],\"xaxis\":\"x\",\"y\":[21.290055719117255],\"yaxis\":\"y\",\"type\":\"histogram\"},{\"alignmentgroup\":\"True\",\"bingroup\":\"x\",\"histfunc\":\"sum\",\"hovertemplate\":\"Population=164653<br>County=%{x}<br>sum of Norm_Deaths=%{y}<extra></extra>\",\"legendgroup\":\"164653\",\"marker\":{\"color\":\"#ab63fa\",\"pattern\":{\"shape\":\"\"}},\"name\":\"164653\",\"offsetgroup\":\"164653\",\"orientation\":\"v\",\"showlegend\":true,\"x\":[\"Clay County, TN\"],\"xaxis\":\"x\",\"y\":[26.722865662939636],\"yaxis\":\"y\",\"type\":\"histogram\"},{\"alignmentgroup\":\"True\",\"bingroup\":\"x\",\"histfunc\":\"sum\",\"hovertemplate\":\"Population=734733<br>County=%{x}<br>sum of Norm_Deaths=%{y}<extra></extra>\",\"legendgroup\":\"734733\",\"marker\":{\"color\":\"#FFA15A\",\"pattern\":{\"shape\":\"\"}},\"name\":\"734733\",\"offsetgroup\":\"734733\",\"orientation\":\"v\",\"showlegend\":true,\"x\":[\"Cocke County, TN\"],\"xaxis\":\"x\",\"y\":[18.510125446931063],\"yaxis\":\"y\",\"type\":\"histogram\"},{\"alignmentgroup\":\"True\",\"bingroup\":\"x\",\"histfunc\":\"sum\",\"hovertemplate\":\"Population=1094869<br>County=%{x}<br>sum of Norm_Deaths=%{y}<extra></extra>\",\"legendgroup\":\"1094869\",\"marker\":{\"color\":\"#19d3f3\",\"pattern\":{\"shape\":\"\"}},\"name\":\"1094869\",\"offsetgroup\":\"1094869\",\"orientation\":\"v\",\"showlegend\":true,\"x\":[\"Coffee County, TN\"],\"xaxis\":\"x\",\"y\":[13.882939420149809],\"yaxis\":\"y\",\"type\":\"histogram\"},{\"alignmentgroup\":\"True\",\"bingroup\":\"x\",\"histfunc\":\"sum\",\"hovertemplate\":\"Population=304336<br>County=%{x}<br>sum of Norm_Deaths=%{y}<extra></extra>\",\"legendgroup\":\"304336\",\"marker\":{\"color\":\"#FF6692\",\"pattern\":{\"shape\":\"\"}},\"name\":\"304336\",\"offsetgroup\":\"304336\",\"orientation\":\"v\",\"showlegend\":true,\"x\":[\"Crockett County, TN\"],\"xaxis\":\"x\",\"y\":[7.2288523211187625],\"yaxis\":\"y\",\"type\":\"histogram\"},{\"alignmentgroup\":\"True\",\"bingroup\":\"x\",\"histfunc\":\"sum\",\"hovertemplate\":\"Population=1141659<br>County=%{x}<br>sum of Norm_Deaths=%{y}<extra></extra>\",\"legendgroup\":\"1141659\",\"marker\":{\"color\":\"#B6E880\",\"pattern\":{\"shape\":\"\"}},\"name\":\"1141659\",\"offsetgroup\":\"1141659\",\"orientation\":\"v\",\"showlegend\":true,\"x\":[\"Cumberland County, TN\"],\"xaxis\":\"x\",\"y\":[13.489141678907625],\"yaxis\":\"y\",\"type\":\"histogram\"},{\"alignmentgroup\":\"True\",\"bingroup\":\"x\",\"histfunc\":\"sum\",\"hovertemplate\":\"Population=13150465<br>County=%{x}<br>sum of Norm_Deaths=%{y}<extra></extra>\",\"legendgroup\":\"13150465\",\"marker\":{\"color\":\"#FF97FF\",\"pattern\":{\"shape\":\"\"}},\"name\":\"13150465\",\"offsetgroup\":\"13150465\",\"orientation\":\"v\",\"showlegend\":true,\"x\":[\"Davidson County, TN\"],\"xaxis\":\"x\",\"y\":[17.672378885461466],\"yaxis\":\"y\",\"type\":\"histogram\"},{\"alignmentgroup\":\"True\",\"bingroup\":\"x\",\"histfunc\":\"sum\",\"hovertemplate\":\"Population=391989<br>County=%{x}<br>sum of Norm_Deaths=%{y}<extra></extra>\",\"legendgroup\":\"391989\",\"marker\":{\"color\":\"#FECB52\",\"pattern\":{\"shape\":\"\"}},\"name\":\"391989\",\"offsetgroup\":\"391989\",\"orientation\":\"v\",\"showlegend\":true,\"x\":[\"DeKalb County, TN\"],\"xaxis\":\"x\",\"y\":[21.93939115638449],\"yaxis\":\"y\",\"type\":\"histogram\"},{\"alignmentgroup\":\"True\",\"bingroup\":\"x\",\"histfunc\":\"sum\",\"hovertemplate\":\"Population=245458<br>County=%{x}<br>sum of Norm_Deaths=%{y}<extra></extra>\",\"legendgroup\":\"245458\",\"marker\":{\"color\":\"#636efa\",\"pattern\":{\"shape\":\"\"}},\"name\":\"245458\",\"offsetgroup\":\"245458\",\"orientation\":\"v\",\"showlegend\":true,\"x\":[\"Decatur County, TN\"],\"xaxis\":\"x\",\"y\":[15.888665270636933],\"yaxis\":\"y\",\"type\":\"histogram\"},{\"alignmentgroup\":\"True\",\"bingroup\":\"x\",\"histfunc\":\"sum\",\"hovertemplate\":\"Population=1020358<br>County=%{x}<br>sum of Norm_Deaths=%{y}<extra></extra>\",\"legendgroup\":\"1020358\",\"marker\":{\"color\":\"#EF553B\",\"pattern\":{\"shape\":\"\"}},\"name\":\"1020358\",\"offsetgroup\":\"1020358\",\"orientation\":\"v\",\"showlegend\":true,\"x\":[\"Dickson County, TN\"],\"xaxis\":\"x\",\"y\":[16.0727901383632],\"yaxis\":\"y\",\"type\":\"histogram\"},{\"alignmentgroup\":\"True\",\"bingroup\":\"x\",\"histfunc\":\"sum\",\"hovertemplate\":\"Population=792435<br>County=%{x}<br>sum of Norm_Deaths=%{y}<extra></extra>\",\"legendgroup\":\"792435\",\"marker\":{\"color\":\"#00cc96\",\"pattern\":{\"shape\":\"\"}},\"name\":\"792435\",\"offsetgroup\":\"792435\",\"orientation\":\"v\",\"showlegend\":true,\"x\":[\"Dyer County, TN\"],\"xaxis\":\"x\",\"y\":[6.4358590925438675],\"yaxis\":\"y\",\"type\":\"histogram\"},{\"alignmentgroup\":\"True\",\"bingroup\":\"x\",\"histfunc\":\"sum\",\"hovertemplate\":\"Population=759268<br>County=%{x}<br>sum of Norm_Deaths=%{y}<extra></extra>\",\"legendgroup\":\"759268\",\"marker\":{\"color\":\"#ab63fa\",\"pattern\":{\"shape\":\"\"}},\"name\":\"759268\",\"offsetgroup\":\"759268\",\"orientation\":\"v\",\"showlegend\":true,\"x\":[\"Fayette County, TN\"],\"xaxis\":\"x\",\"y\":[7.770642250167266],\"yaxis\":\"y\",\"type\":\"histogram\"},{\"alignmentgroup\":\"True\",\"bingroup\":\"x\",\"histfunc\":\"sum\",\"hovertemplate\":\"Population=369225<br>County=%{x}<br>sum of Norm_Deaths=%{y}<extra></extra>\",\"legendgroup\":\"369225\",\"marker\":{\"color\":\"#FFA15A\",\"pattern\":{\"shape\":\"\"}},\"name\":\"369225\",\"offsetgroup\":\"369225\",\"orientation\":\"v\",\"showlegend\":true,\"x\":[\"Fentress County, TN\"],\"xaxis\":\"x\",\"y\":[19.50030469226082],\"yaxis\":\"y\",\"type\":\"histogram\"},{\"alignmentgroup\":\"True\",\"bingroup\":\"x\",\"histfunc\":\"sum\",\"hovertemplate\":\"Population=857147<br>County=%{x}<br>sum of Norm_Deaths=%{y}<extra></extra>\",\"legendgroup\":\"857147\",\"marker\":{\"color\":\"#19d3f3\",\"pattern\":{\"shape\":\"\"}},\"name\":\"857147\",\"offsetgroup\":\"857147\",\"orientation\":\"v\",\"showlegend\":true,\"x\":[\"Franklin County, TN\"],\"xaxis\":\"x\",\"y\":[13.066603511416362],\"yaxis\":\"y\",\"type\":\"histogram\"},{\"alignmentgroup\":\"True\",\"bingroup\":\"x\",\"histfunc\":\"sum\",\"hovertemplate\":\"Population=1025301<br>County=%{x}<br>sum of Norm_Deaths=%{y}<extra></extra>\",\"legendgroup\":\"1025301\",\"marker\":{\"color\":\"#FF6692\",\"pattern\":{\"shape\":\"\"}},\"name\":\"1025301\",\"offsetgroup\":\"1025301\",\"orientation\":\"v\",\"showlegend\":true,\"x\":[\"Gibson County, TN\"],\"xaxis\":\"x\",\"y\":[10.33842744715942],\"yaxis\":\"y\",\"type\":\"histogram\"},{\"alignmentgroup\":\"True\",\"bingroup\":\"x\",\"histfunc\":\"sum\",\"hovertemplate\":\"Population=616547<br>County=%{x}<br>sum of Norm_Deaths=%{y}<extra></extra>\",\"legendgroup\":\"616547\",\"marker\":{\"color\":\"#B6E880\",\"pattern\":{\"shape\":\"\"}},\"name\":\"616547\",\"offsetgroup\":\"616547\",\"orientation\":\"v\",\"showlegend\":true,\"x\":[\"Giles County, TN\"],\"xaxis\":\"x\",\"y\":[12.97549091958926],\"yaxis\":\"y\",\"type\":\"histogram\"},{\"alignmentgroup\":\"True\",\"bingroup\":\"x\",\"histfunc\":\"sum\",\"hovertemplate\":\"Population=465971<br>County=%{x}<br>sum of Norm_Deaths=%{y}<extra></extra>\",\"legendgroup\":\"465971\",\"marker\":{\"color\":\"#FF97FF\",\"pattern\":{\"shape\":\"\"}},\"name\":\"465971\",\"offsetgroup\":\"465971\",\"orientation\":\"v\",\"showlegend\":true,\"x\":[\"Grainger County, TN\"],\"xaxis\":\"x\",\"y\":[17.383056027091815],\"yaxis\":\"y\",\"type\":\"histogram\"},{\"alignmentgroup\":\"True\",\"bingroup\":\"x\",\"histfunc\":\"sum\",\"hovertemplate\":\"Population=1409120<br>County=%{x}<br>sum of Norm_Deaths=%{y}<extra></extra>\",\"legendgroup\":\"1409120\",\"marker\":{\"color\":\"#FECB52\",\"pattern\":{\"shape\":\"\"}},\"name\":\"1409120\",\"offsetgroup\":\"1409120\",\"orientation\":\"v\",\"showlegend\":true,\"x\":[\"Greene County, TN\"],\"xaxis\":\"x\",\"y\":[12.064267060292948],\"yaxis\":\"y\",\"type\":\"histogram\"},{\"alignmentgroup\":\"True\",\"bingroup\":\"x\",\"histfunc\":\"sum\",\"hovertemplate\":\"Population=289944<br>County=%{x}<br>sum of Norm_Deaths=%{y}<extra></extra>\",\"legendgroup\":\"289944\",\"marker\":{\"color\":\"#636efa\",\"pattern\":{\"shape\":\"\"}},\"name\":\"289944\",\"offsetgroup\":\"289944\",\"orientation\":\"v\",\"showlegend\":true,\"x\":[\"Grundy County, TN\"],\"xaxis\":\"x\",\"y\":[18.969180255497616],\"yaxis\":\"y\",\"type\":\"histogram\"},{\"alignmentgroup\":\"True\",\"bingroup\":\"x\",\"histfunc\":\"sum\",\"hovertemplate\":\"Population=1292638<br>County=%{x}<br>sum of Norm_Deaths=%{y}<extra></extra>\",\"legendgroup\":\"1292638\",\"marker\":{\"color\":\"#EF553B\",\"pattern\":{\"shape\":\"\"}},\"name\":\"1292638\",\"offsetgroup\":\"1292638\",\"orientation\":\"v\",\"showlegend\":true,\"x\":[\"Hamblen County, TN\"],\"xaxis\":\"x\",\"y\":[16.555292355632435],\"yaxis\":\"y\",\"type\":\"histogram\"},{\"alignmentgroup\":\"True\",\"bingroup\":\"x\",\"histfunc\":\"sum\",\"hovertemplate\":\"Population=7019130<br>County=%{x}<br>sum of Norm_Deaths=%{y}<extra></extra>\",\"legendgroup\":\"7019130\",\"marker\":{\"color\":\"#00cc96\",\"pattern\":{\"shape\":\"\"}},\"name\":\"7019130\",\"offsetgroup\":\"7019130\",\"orientation\":\"v\",\"showlegend\":true,\"x\":[\"Hamilton County, TN\"],\"xaxis\":\"x\",\"y\":[12.06702255122786],\"yaxis\":\"y\",\"type\":\"histogram\"},{\"alignmentgroup\":\"True\",\"bingroup\":\"x\",\"histfunc\":\"sum\",\"hovertemplate\":\"Population=141010<br>County=%{x}<br>sum of Norm_Deaths=%{y}<extra></extra>\",\"legendgroup\":\"141010\",\"marker\":{\"color\":\"#ab63fa\",\"pattern\":{\"shape\":\"\"}},\"name\":\"141010\",\"offsetgroup\":\"141010\",\"orientation\":\"v\",\"showlegend\":true,\"x\":[\"Hancock County, TN\"],\"xaxis\":\"x\",\"y\":[14.89256081128998],\"yaxis\":\"y\",\"type\":\"histogram\"},{\"alignmentgroup\":\"True\",\"bingroup\":\"x\",\"histfunc\":\"sum\",\"hovertemplate\":\"Population=566534<br>County=%{x}<br>sum of Norm_Deaths=%{y}<extra></extra>\",\"legendgroup\":\"566534\",\"marker\":{\"color\":\"#FFA15A\",\"pattern\":{\"shape\":\"\"}},\"name\":\"566534\",\"offsetgroup\":\"566534\",\"orientation\":\"v\",\"showlegend\":true,\"x\":[\"Hardeman County, TN\"],\"xaxis\":\"x\",\"y\":[6.0014050348258],\"yaxis\":\"y\",\"type\":\"histogram\"},{\"alignmentgroup\":\"True\",\"bingroup\":\"x\",\"histfunc\":\"sum\",\"hovertemplate\":\"Population=541860<br>County=%{x}<br>sum of Norm_Deaths=%{y}<extra></extra>\",\"legendgroup\":\"541860\",\"marker\":{\"color\":\"#19d3f3\",\"pattern\":{\"shape\":\"\"}},\"name\":\"541860\",\"offsetgroup\":\"541860\",\"orientation\":\"v\",\"showlegend\":true,\"x\":[\"Hardin County, TN\"],\"xaxis\":\"x\",\"y\":[21.407743697634075],\"yaxis\":\"y\",\"type\":\"histogram\"},{\"alignmentgroup\":\"True\",\"bingroup\":\"x\",\"histfunc\":\"sum\",\"hovertemplate\":\"Population=1172589<br>County=%{x}<br>sum of Norm_Deaths=%{y}<extra></extra>\",\"legendgroup\":\"1172589\",\"marker\":{\"color\":\"#FF6692\",\"pattern\":{\"shape\":\"\"}},\"name\":\"1172589\",\"offsetgroup\":\"1172589\",\"orientation\":\"v\",\"showlegend\":true,\"x\":[\"Hawkins County, TN\"],\"xaxis\":\"x\",\"y\":[15.777054023191416],\"yaxis\":\"y\",\"type\":\"histogram\"},{\"alignmentgroup\":\"True\",\"bingroup\":\"x\",\"histfunc\":\"sum\",\"hovertemplate\":\"Population=393579<br>County=%{x}<br>sum of Norm_Deaths=%{y}<extra></extra>\",\"legendgroup\":\"393579\",\"marker\":{\"color\":\"#B6E880\",\"pattern\":{\"shape\":\"\"}},\"name\":\"393579\",\"offsetgroup\":\"393579\",\"orientation\":\"v\",\"showlegend\":true,\"x\":[\"Haywood County, TN\"],\"xaxis\":\"x\",\"y\":[6.097886320154276],\"yaxis\":\"y\",\"type\":\"histogram\"},{\"alignmentgroup\":\"True\",\"bingroup\":\"x\",\"histfunc\":\"sum\",\"hovertemplate\":\"Population=570419<br>County=%{x}<br>sum of Norm_Deaths=%{y}<extra></extra>\",\"legendgroup\":\"570419\",\"marker\":{\"color\":\"#FF97FF\",\"pattern\":{\"shape\":\"\"}},\"name\":\"570419\",\"offsetgroup\":\"570419\",\"orientation\":\"v\",\"showlegend\":true,\"x\":[\"Henderson County, TN\"],\"xaxis\":\"x\",\"y\":[14.55070746240921],\"yaxis\":\"y\",\"type\":\"histogram\"},{\"alignmentgroup\":\"True\",\"bingroup\":\"x\",\"histfunc\":\"sum\",\"hovertemplate\":\"Population=669451<br>County=%{x}<br>sum of Norm_Deaths=%{y}<extra></extra>\",\"legendgroup\":\"669451\",\"marker\":{\"color\":\"#FECB52\",\"pattern\":{\"shape\":\"\"}},\"name\":\"669451\",\"offsetgroup\":\"669451\",\"orientation\":\"v\",\"showlegend\":true,\"x\":[\"Henry County, TN\"],\"xaxis\":\"x\",\"y\":[13.742604014334132],\"yaxis\":\"y\",\"type\":\"histogram\"},{\"alignmentgroup\":\"True\",\"bingroup\":\"x\",\"histfunc\":\"sum\",\"hovertemplate\":\"Population=504546<br>County=%{x}<br>sum of Norm_Deaths=%{y}<extra></extra>\",\"legendgroup\":\"504546\",\"marker\":{\"color\":\"#636efa\",\"pattern\":{\"shape\":\"\"}},\"name\":\"504546\",\"offsetgroup\":\"504546\",\"orientation\":\"v\",\"showlegend\":true,\"x\":[\"Hickman County, TN\"],\"xaxis\":\"x\",\"y\":[16.45043266619892],\"yaxis\":\"y\",\"type\":\"histogram\"},{\"alignmentgroup\":\"True\",\"bingroup\":\"x\",\"histfunc\":\"sum\",\"hovertemplate\":\"Population=172158<br>County=%{x}<br>sum of Norm_Deaths=%{y}<extra></extra>\",\"legendgroup\":\"172158\",\"marker\":{\"color\":\"#EF553B\",\"pattern\":{\"shape\":\"\"}},\"name\":\"172158\",\"offsetgroup\":\"172158\",\"orientation\":\"v\",\"showlegend\":true,\"x\":[\"Houston County, TN\"],\"xaxis\":\"x\",\"y\":[13.940682396403304],\"yaxis\":\"y\",\"type\":\"histogram\"},{\"alignmentgroup\":\"True\",\"bingroup\":\"x\",\"histfunc\":\"sum\",\"hovertemplate\":\"Population=382965<br>County=%{x}<br>sum of Norm_Deaths=%{y}<extra></extra>\",\"legendgroup\":\"382965\",\"marker\":{\"color\":\"#00cc96\",\"pattern\":{\"shape\":\"\"}},\"name\":\"382965\",\"offsetgroup\":\"382965\",\"orientation\":\"v\",\"showlegend\":true,\"x\":[\"Humphreys County, TN\"],\"xaxis\":\"x\",\"y\":[14.883866671889075],\"yaxis\":\"y\",\"type\":\"histogram\"},{\"alignmentgroup\":\"True\",\"bingroup\":\"x\",\"histfunc\":\"sum\",\"hovertemplate\":\"Population=239981<br>County=%{x}<br>sum of Norm_Deaths=%{y}<extra></extra>\",\"legendgroup\":\"239981\",\"marker\":{\"color\":\"#ab63fa\",\"pattern\":{\"shape\":\"\"}},\"name\":\"239981\",\"offsetgroup\":\"239981\",\"orientation\":\"v\",\"showlegend\":true,\"x\":[\"Jackson County, TN\"],\"xaxis\":\"x\",\"y\":[27.08547760031003],\"yaxis\":\"y\",\"type\":\"histogram\"},{\"alignmentgroup\":\"True\",\"bingroup\":\"x\",\"histfunc\":\"sum\",\"hovertemplate\":\"Population=1051023<br>County=%{x}<br>sum of Norm_Deaths=%{y}<extra></extra>\",\"legendgroup\":\"1051023\",\"marker\":{\"color\":\"#FFA15A\",\"pattern\":{\"shape\":\"\"}},\"name\":\"1051023\",\"offsetgroup\":\"1051023\",\"orientation\":\"v\",\"showlegend\":true,\"x\":[\"Jefferson County, TN\"],\"xaxis\":\"x\",\"y\":[15.032972637135439],\"yaxis\":\"y\",\"type\":\"histogram\"},{\"alignmentgroup\":\"True\",\"bingroup\":\"x\",\"histfunc\":\"sum\",\"hovertemplate\":\"Population=376432<br>County=%{x}<br>sum of Norm_Deaths=%{y}<extra></extra>\",\"legendgroup\":\"376432\",\"marker\":{\"color\":\"#19d3f3\",\"pattern\":{\"shape\":\"\"}},\"name\":\"376432\",\"offsetgroup\":\"376432\",\"orientation\":\"v\",\"showlegend\":true,\"x\":[\"Johnson County, TN\"],\"xaxis\":\"x\",\"y\":[9.297828027372805],\"yaxis\":\"y\",\"type\":\"histogram\"},{\"alignmentgroup\":\"True\",\"bingroup\":\"x\",\"histfunc\":\"sum\",\"hovertemplate\":\"Population=8928394<br>County=%{x}<br>sum of Norm_Deaths=%{y}<extra></extra>\",\"legendgroup\":\"8928394\",\"marker\":{\"color\":\"#FF6692\",\"pattern\":{\"shape\":\"\"}},\"name\":\"8928394\",\"offsetgroup\":\"8928394\",\"orientation\":\"v\",\"showlegend\":true,\"x\":[\"Knox County, TN\"],\"xaxis\":\"x\",\"y\":[22.366844473933384],\"yaxis\":\"y\",\"type\":\"histogram\"},{\"alignmentgroup\":\"True\",\"bingroup\":\"x\",\"histfunc\":\"sum\",\"hovertemplate\":\"Population=162710<br>County=%{x}<br>sum of Norm_Deaths=%{y}<extra></extra>\",\"legendgroup\":\"162710\",\"marker\":{\"color\":\"#B6E880\",\"pattern\":{\"shape\":\"\"}},\"name\":\"162710\",\"offsetgroup\":\"162710\",\"orientation\":\"v\",\"showlegend\":true,\"x\":[\"Lake County, TN\"],\"xaxis\":\"x\",\"y\":[7.989674881691353],\"yaxis\":\"y\",\"type\":\"histogram\"},{\"alignmentgroup\":\"True\",\"bingroup\":\"x\",\"histfunc\":\"sum\",\"hovertemplate\":\"Population=570932<br>County=%{x}<br>sum of Norm_Deaths=%{y}<extra></extra>\",\"legendgroup\":\"570932\",\"marker\":{\"color\":\"#FF97FF\",\"pattern\":{\"shape\":\"\"}},\"name\":\"570932\",\"offsetgroup\":\"570932\",\"orientation\":\"v\",\"showlegend\":true,\"x\":[\"Lauderdale County, TN\"],\"xaxis\":\"x\",\"y\":[9.107914777942032],\"yaxis\":\"y\",\"type\":\"histogram\"},{\"alignmentgroup\":\"True\",\"bingroup\":\"x\",\"histfunc\":\"sum\",\"hovertemplate\":\"Population=873997<br>County=%{x}<br>sum of Norm_Deaths=%{y}<extra></extra>\",\"legendgroup\":\"873997\",\"marker\":{\"color\":\"#FECB52\",\"pattern\":{\"shape\":\"\"}},\"name\":\"873997\",\"offsetgroup\":\"873997\",\"orientation\":\"v\",\"showlegend\":true,\"x\":[\"Lawrence County, TN\"],\"xaxis\":\"x\",\"y\":[13.844441113642267],\"yaxis\":\"y\",\"type\":\"histogram\"},{\"alignmentgroup\":\"True\",\"bingroup\":\"x\",\"histfunc\":\"sum\",\"hovertemplate\":\"Population=248672<br>County=%{x}<br>sum of Norm_Deaths=%{y}<extra></extra>\",\"legendgroup\":\"248672\",\"marker\":{\"color\":\"#636efa\",\"pattern\":{\"shape\":\"\"}},\"name\":\"248672\",\"offsetgroup\":\"248672\",\"orientation\":\"v\",\"showlegend\":true,\"x\":[\"Lewis County, TN\"],\"xaxis\":\"x\",\"y\":[12.868356710848026],\"yaxis\":\"y\",\"type\":\"histogram\"},{\"alignmentgroup\":\"True\",\"bingroup\":\"x\",\"histfunc\":\"sum\",\"hovertemplate\":\"Population=688925<br>County=%{x}<br>sum of Norm_Deaths=%{y}<extra></extra>\",\"legendgroup\":\"688925\",\"marker\":{\"color\":\"#EF553B\",\"pattern\":{\"shape\":\"\"}},\"name\":\"688925\",\"offsetgroup\":\"688925\",\"orientation\":\"v\",\"showlegend\":true,\"x\":[\"Lincoln County, TN\"],\"xaxis\":\"x\",\"y\":[10.59621874659796],\"yaxis\":\"y\",\"type\":\"histogram\"},{\"alignmentgroup\":\"True\",\"bingroup\":\"x\",\"histfunc\":\"sum\",\"hovertemplate\":\"Population=984774<br>County=%{x}<br>sum of Norm_Deaths=%{y}<extra></extra>\",\"legendgroup\":\"984774\",\"marker\":{\"color\":\"#00cc96\",\"pattern\":{\"shape\":\"\"}},\"name\":\"984774\",\"offsetgroup\":\"984774\",\"orientation\":\"v\",\"showlegend\":true,\"x\":[\"Loudon County, TN\"],\"xaxis\":\"x\",\"y\":[14.318005958727586],\"yaxis\":\"y\",\"type\":\"histogram\"},{\"alignmentgroup\":\"True\",\"bingroup\":\"x\",\"histfunc\":\"sum\",\"hovertemplate\":\"Population=465264<br>County=%{x}<br>sum of Norm_Deaths=%{y}<extra></extra>\",\"legendgroup\":\"465264\",\"marker\":{\"color\":\"#ab63fa\",\"pattern\":{\"shape\":\"\"}},\"name\":\"465264\",\"offsetgroup\":\"465264\",\"orientation\":\"v\",\"showlegend\":true,\"x\":[\"Macon County, TN\"],\"xaxis\":\"x\",\"y\":[12.251109047766429],\"yaxis\":\"y\",\"type\":\"histogram\"},{\"alignmentgroup\":\"True\",\"bingroup\":\"x\",\"histfunc\":\"sum\",\"hovertemplate\":\"Population=2022379<br>County=%{x}<br>sum of Norm_Deaths=%{y}<extra></extra>\",\"legendgroup\":\"2022379\",\"marker\":{\"color\":\"#FFA15A\",\"pattern\":{\"shape\":\"\"}},\"name\":\"2022379\",\"offsetgroup\":\"2022379\",\"orientation\":\"v\",\"showlegend\":true,\"x\":[\"Madison County, TN\"],\"xaxis\":\"x\",\"y\":[6.131392780482788],\"yaxis\":\"y\",\"type\":\"histogram\"},{\"alignmentgroup\":\"True\",\"bingroup\":\"x\",\"histfunc\":\"sum\",\"hovertemplate\":\"Population=591196<br>County=%{x}<br>sum of Norm_Deaths=%{y}<extra></extra>\",\"legendgroup\":\"591196\",\"marker\":{\"color\":\"#19d3f3\",\"pattern\":{\"shape\":\"\"}},\"name\":\"591196\",\"offsetgroup\":\"591196\",\"orientation\":\"v\",\"showlegend\":true,\"x\":[\"Marion County, TN\"],\"xaxis\":\"x\",\"y\":[11.332958951007788],\"yaxis\":\"y\",\"type\":\"histogram\"},{\"alignmentgroup\":\"True\",\"bingroup\":\"x\",\"histfunc\":\"sum\",\"hovertemplate\":\"Population=629199<br>County=%{x}<br>sum of Norm_Deaths=%{y}<extra></extra>\",\"legendgroup\":\"629199\",\"marker\":{\"color\":\"#FF6692\",\"pattern\":{\"shape\":\"\"}},\"name\":\"629199\",\"offsetgroup\":\"629199\",\"orientation\":\"v\",\"showlegend\":true,\"x\":[\"Marshall County, TN\"],\"xaxis\":\"x\",\"y\":[16.84681634904061],\"yaxis\":\"y\",\"type\":\"histogram\"},{\"alignmentgroup\":\"True\",\"bingroup\":\"x\",\"histfunc\":\"sum\",\"hovertemplate\":\"Population=1685920<br>County=%{x}<br>sum of Norm_Deaths=%{y}<extra></extra>\",\"legendgroup\":\"1685920\",\"marker\":{\"color\":\"#B6E880\",\"pattern\":{\"shape\":\"\"}},\"name\":\"1685920\",\"offsetgroup\":\"1685920\",\"orientation\":\"v\",\"showlegend\":true,\"x\":[\"Maury County, TN\"],\"xaxis\":\"x\",\"y\":[12.989940210686154],\"yaxis\":\"y\",\"type\":\"histogram\"},{\"alignmentgroup\":\"True\",\"bingroup\":\"x\",\"histfunc\":\"sum\",\"hovertemplate\":\"Population=1084446<br>County=%{x}<br>sum of Norm_Deaths=%{y}<extra></extra>\",\"legendgroup\":\"1084446\",\"marker\":{\"color\":\"#FF97FF\",\"pattern\":{\"shape\":\"\"}},\"name\":\"1084446\",\"offsetgroup\":\"1084446\",\"orientation\":\"v\",\"showlegend\":true,\"x\":[\"McMinn County, TN\"],\"xaxis\":\"x\",\"y\":[15.122929126945925],\"yaxis\":\"y\",\"type\":\"histogram\"},{\"alignmentgroup\":\"True\",\"bingroup\":\"x\",\"histfunc\":\"sum\",\"hovertemplate\":\"Population=536073<br>County=%{x}<br>sum of Norm_Deaths=%{y}<extra></extra>\",\"legendgroup\":\"536073\",\"marker\":{\"color\":\"#FECB52\",\"pattern\":{\"shape\":\"\"}},\"name\":\"536073\",\"offsetgroup\":\"536073\",\"orientation\":\"v\",\"showlegend\":true,\"x\":[\"McNairy County, TN\"],\"xaxis\":\"x\",\"y\":[13.804090114592602],\"yaxis\":\"y\",\"type\":\"histogram\"},{\"alignmentgroup\":\"True\",\"bingroup\":\"x\",\"histfunc\":\"sum\",\"hovertemplate\":\"Population=243191<br>County=%{x}<br>sum of Norm_Deaths=%{y}<extra></extra>\",\"legendgroup\":\"243191\",\"marker\":{\"color\":\"#636efa\",\"pattern\":{\"shape\":\"\"}},\"name\":\"243191\",\"offsetgroup\":\"243191\",\"orientation\":\"v\",\"showlegend\":true,\"x\":[\"Meigs County, TN\"],\"xaxis\":\"x\",\"y\":[18.09277481485746],\"yaxis\":\"y\",\"type\":\"histogram\"},{\"alignmentgroup\":\"True\",\"bingroup\":\"x\",\"histfunc\":\"sum\",\"hovertemplate\":\"Population=911567<br>County=%{x}<br>sum of Norm_Deaths=%{y}<extra></extra>\",\"legendgroup\":\"911567\",\"marker\":{\"color\":\"#EF553B\",\"pattern\":{\"shape\":\"\"}},\"name\":\"911567\",\"offsetgroup\":\"911567\",\"orientation\":\"v\",\"showlegend\":true,\"x\":[\"Monroe County, TN\"],\"xaxis\":\"x\",\"y\":[15.029065334747747],\"yaxis\":\"y\",\"type\":\"histogram\"},{\"alignmentgroup\":\"True\",\"bingroup\":\"x\",\"histfunc\":\"sum\",\"hovertemplate\":\"Population=3532903<br>County=%{x}<br>sum of Norm_Deaths=%{y}<extra></extra>\",\"legendgroup\":\"3532903\",\"marker\":{\"color\":\"#00cc96\",\"pattern\":{\"shape\":\"\"}},\"name\":\"3532903\",\"offsetgroup\":\"3532903\",\"orientation\":\"v\",\"showlegend\":true,\"x\":[\"Montgomery County, TN\"],\"xaxis\":\"x\",\"y\":[11.23721766490617],\"yaxis\":\"y\",\"type\":\"histogram\"},{\"alignmentgroup\":\"True\",\"bingroup\":\"x\",\"histfunc\":\"sum\",\"hovertemplate\":\"Population=129681<br>County=%{x}<br>sum of Norm_Deaths=%{y}<extra></extra>\",\"legendgroup\":\"129681\",\"marker\":{\"color\":\"#ab63fa\",\"pattern\":{\"shape\":\"\"}},\"name\":\"129681\",\"offsetgroup\":\"129681\",\"orientation\":\"v\",\"showlegend\":true,\"x\":[\"Moore County, TN\"],\"xaxis\":\"x\",\"y\":[8.48235285045612],\"yaxis\":\"y\",\"type\":\"histogram\"},{\"alignmentgroup\":\"True\",\"bingroup\":\"x\",\"histfunc\":\"sum\",\"hovertemplate\":\"Population=445529<br>County=%{x}<br>sum of Norm_Deaths=%{y}<extra></extra>\",\"legendgroup\":\"445529\",\"marker\":{\"color\":\"#FFA15A\",\"pattern\":{\"shape\":\"\"}},\"name\":\"445529\",\"offsetgroup\":\"445529\",\"orientation\":\"v\",\"showlegend\":true,\"x\":[\"Morgan County, TN\"],\"xaxis\":\"x\",\"y\":[19.75180066841889],\"yaxis\":\"y\",\"type\":\"histogram\"},{\"alignmentgroup\":\"True\",\"bingroup\":\"x\",\"histfunc\":\"sum\",\"hovertemplate\":\"Population=663060<br>County=%{x}<br>sum of Norm_Deaths=%{y}<extra></extra>\",\"legendgroup\":\"663060\",\"marker\":{\"color\":\"#19d3f3\",\"pattern\":{\"shape\":\"\"}},\"name\":\"663060\",\"offsetgroup\":\"663060\",\"orientation\":\"v\",\"showlegend\":true,\"x\":[\"Obion County, TN\"],\"xaxis\":\"x\",\"y\":[7.993243447048532],\"yaxis\":\"y\",\"type\":\"histogram\"},{\"alignmentgroup\":\"True\",\"bingroup\":\"x\",\"histfunc\":\"sum\",\"hovertemplate\":\"Population=450677<br>County=%{x}<br>sum of Norm_Deaths=%{y}<extra></extra>\",\"legendgroup\":\"450677\",\"marker\":{\"color\":\"#FF6692\",\"pattern\":{\"shape\":\"\"}},\"name\":\"450677\",\"offsetgroup\":\"450677\",\"orientation\":\"v\",\"showlegend\":true,\"x\":[\"Overton County, TN\"],\"xaxis\":\"x\",\"y\":[20.635621520512473],\"yaxis\":\"y\",\"type\":\"histogram\"},{\"alignmentgroup\":\"True\",\"bingroup\":\"x\",\"histfunc\":\"sum\",\"hovertemplate\":\"Population=163354<br>County=%{x}<br>sum of Norm_Deaths=%{y}<extra></extra>\",\"legendgroup\":\"163354\",\"marker\":{\"color\":\"#B6E880\",\"pattern\":{\"shape\":\"\"}},\"name\":\"163354\",\"offsetgroup\":\"163354\",\"orientation\":\"v\",\"showlegend\":true,\"x\":[\"Perry County, TN\"],\"xaxis\":\"x\",\"y\":[9.182511600572989],\"yaxis\":\"y\",\"type\":\"histogram\"},{\"alignmentgroup\":\"True\",\"bingroup\":\"x\",\"histfunc\":\"sum\",\"hovertemplate\":\"Population=106275<br>County=%{x}<br>sum of Norm_Deaths=%{y}<extra></extra>\",\"legendgroup\":\"106275\",\"marker\":{\"color\":\"#FF97FF\",\"pattern\":{\"shape\":\"\"}},\"name\":\"106275\",\"offsetgroup\":\"106275\",\"orientation\":\"v\",\"showlegend\":true,\"x\":[\"Pickett County, TN\"],\"xaxis\":\"x\",\"y\":[13.173370971536109],\"yaxis\":\"y\",\"type\":\"histogram\"},{\"alignmentgroup\":\"True\",\"bingroup\":\"x\",\"histfunc\":\"sum\",\"hovertemplate\":\"Population=347931<br>County=%{x}<br>sum of Norm_Deaths=%{y}<extra></extra>\",\"legendgroup\":\"347931\",\"marker\":{\"color\":\"#FECB52\",\"pattern\":{\"shape\":\"\"}},\"name\":\"347931\",\"offsetgroup\":\"347931\",\"orientation\":\"v\",\"showlegend\":true,\"x\":[\"Polk County, TN\"],\"xaxis\":\"x\",\"y\":[14.370665448034236],\"yaxis\":\"y\",\"type\":\"histogram\"},{\"alignmentgroup\":\"True\",\"bingroup\":\"x\",\"histfunc\":\"sum\",\"hovertemplate\":\"Population=1482601<br>County=%{x}<br>sum of Norm_Deaths=%{y}<extra></extra>\",\"legendgroup\":\"1482601\",\"marker\":{\"color\":\"#636efa\",\"pattern\":{\"shape\":\"\"}},\"name\":\"1482601\",\"offsetgroup\":\"1482601\",\"orientation\":\"v\",\"showlegend\":true,\"x\":[\"Putnam County, TN\"],\"xaxis\":\"x\",\"y\":[13.287458999420613],\"yaxis\":\"y\",\"type\":\"histogram\"},{\"alignmentgroup\":\"True\",\"bingroup\":\"x\",\"histfunc\":\"sum\",\"hovertemplate\":\"Population=652076<br>County=%{x}<br>sum of Norm_Deaths=%{y}<extra></extra>\",\"legendgroup\":\"652076\",\"marker\":{\"color\":\"#EF553B\",\"pattern\":{\"shape\":\"\"}},\"name\":\"652076\",\"offsetgroup\":\"652076\",\"orientation\":\"v\",\"showlegend\":true,\"x\":[\"Rhea County, TN\"],\"xaxis\":\"x\",\"y\":[15.642348437912146],\"yaxis\":\"y\",\"type\":\"histogram\"},{\"alignmentgroup\":\"True\",\"bingroup\":\"x\",\"histfunc\":\"sum\",\"hovertemplate\":\"Population=1116366<br>County=%{x}<br>sum of Norm_Deaths=%{y}<extra></extra>\",\"legendgroup\":\"1116366\",\"marker\":{\"color\":\"#00cc96\",\"pattern\":{\"shape\":\"\"}},\"name\":\"1116366\",\"offsetgroup\":\"1116366\",\"orientation\":\"v\",\"showlegend\":true,\"x\":[\"Roane County, TN\"],\"xaxis\":\"x\",\"y\":[25.439685551154373],\"yaxis\":\"y\",\"type\":\"histogram\"},{\"alignmentgroup\":\"True\",\"bingroup\":\"x\",\"histfunc\":\"sum\",\"hovertemplate\":\"Population=1338407<br>County=%{x}<br>sum of Norm_Deaths=%{y}<extra></extra>\",\"legendgroup\":\"1338407\",\"marker\":{\"color\":\"#ab63fa\",\"pattern\":{\"shape\":\"\"}},\"name\":\"1338407\",\"offsetgroup\":\"1338407\",\"orientation\":\"v\",\"showlegend\":true,\"x\":[\"Robertson County, TN\"],\"xaxis\":\"x\",\"y\":[11.655647347929293],\"yaxis\":\"y\",\"type\":\"histogram\"},{\"alignmentgroup\":\"True\",\"bingroup\":\"x\",\"histfunc\":\"sum\",\"hovertemplate\":\"Population=5328382<br>County=%{x}<br>sum of Norm_Deaths=%{y}<extra></extra>\",\"legendgroup\":\"5328382\",\"marker\":{\"color\":\"#FFA15A\",\"pattern\":{\"shape\":\"\"}},\"name\":\"5328382\",\"offsetgroup\":\"5328382\",\"orientation\":\"v\",\"showlegend\":true,\"x\":[\"Rutherford County, TN\"],\"xaxis\":\"x\",\"y\":[11.279221347118131],\"yaxis\":\"y\",\"type\":\"histogram\"},{\"alignmentgroup\":\"True\",\"bingroup\":\"x\",\"histfunc\":\"sum\",\"hovertemplate\":\"Population=459406<br>County=%{x}<br>sum of Norm_Deaths=%{y}<extra></extra>\",\"legendgroup\":\"459406\",\"marker\":{\"color\":\"#19d3f3\",\"pattern\":{\"shape\":\"\"}},\"name\":\"459406\",\"offsetgroup\":\"459406\",\"orientation\":\"v\",\"showlegend\":true,\"x\":[\"Scott County, TN\"],\"xaxis\":\"x\",\"y\":[16.978446080373352],\"yaxis\":\"y\",\"type\":\"histogram\"},{\"alignmentgroup\":\"True\",\"bingroup\":\"x\",\"histfunc\":\"sum\",\"hovertemplate\":\"Population=284651<br>County=%{x}<br>sum of Norm_Deaths=%{y}<extra></extra>\",\"legendgroup\":\"284651\",\"marker\":{\"color\":\"#FF6692\",\"pattern\":{\"shape\":\"\"}},\"name\":\"284651\",\"offsetgroup\":\"284651\",\"orientation\":\"v\",\"showlegend\":true,\"x\":[\"Sequatchie County, TN\"],\"xaxis\":\"x\",\"y\":[13.700988227689345],\"yaxis\":\"y\",\"type\":\"histogram\"},{\"alignmentgroup\":\"True\",\"bingroup\":\"x\",\"histfunc\":\"sum\",\"hovertemplate\":\"Population=1821978<br>County=%{x}<br>sum of Norm_Deaths=%{y}<extra></extra>\",\"legendgroup\":\"1821978\",\"marker\":{\"color\":\"#B6E880\",\"pattern\":{\"shape\":\"\"}},\"name\":\"1821978\",\"offsetgroup\":\"1821978\",\"orientation\":\"v\",\"showlegend\":true,\"x\":[\"Sevier County, TN\"],\"xaxis\":\"x\",\"y\":[18.112183571920188],\"yaxis\":\"y\",\"type\":\"histogram\"},{\"alignmentgroup\":\"True\",\"bingroup\":\"x\",\"histfunc\":\"sum\",\"hovertemplate\":\"Population=19371632<br>County=%{x}<br>sum of Norm_Deaths=%{y}<extra></extra>\",\"legendgroup\":\"19371632\",\"marker\":{\"color\":\"#FF97FF\",\"pattern\":{\"shape\":\"\"}},\"name\":\"19371632\",\"offsetgroup\":\"19371632\",\"orientation\":\"v\",\"showlegend\":true,\"x\":[\"Shelby County, TN\"],\"xaxis\":\"x\",\"y\":[11.6200844616499],\"yaxis\":\"y\",\"type\":\"histogram\"},{\"alignmentgroup\":\"True\",\"bingroup\":\"x\",\"histfunc\":\"sum\",\"hovertemplate\":\"Population=396155<br>County=%{x}<br>sum of Norm_Deaths=%{y}<extra></extra>\",\"legendgroup\":\"396155\",\"marker\":{\"color\":\"#FECB52\",\"pattern\":{\"shape\":\"\"}},\"name\":\"396155\",\"offsetgroup\":\"396155\",\"orientation\":\"v\",\"showlegend\":true,\"x\":[\"Smith County, TN\"],\"xaxis\":\"x\",\"y\":[21.203821736441544],\"yaxis\":\"y\",\"type\":\"histogram\"},{\"alignmentgroup\":\"True\",\"bingroup\":\"x\",\"histfunc\":\"sum\",\"hovertemplate\":\"Population=273672<br>County=%{x}<br>sum of Norm_Deaths=%{y}<extra></extra>\",\"legendgroup\":\"273672\",\"marker\":{\"color\":\"#636efa\",\"pattern\":{\"shape\":\"\"}},\"name\":\"273672\",\"offsetgroup\":\"273672\",\"orientation\":\"v\",\"showlegend\":true,\"x\":[\"Stewart County, TN\"],\"xaxis\":\"x\",\"y\":[14.981437633371334],\"yaxis\":\"y\",\"type\":\"histogram\"},{\"alignmentgroup\":\"True\",\"bingroup\":\"x\",\"histfunc\":\"sum\",\"hovertemplate\":\"Population=3265174<br>County=%{x}<br>sum of Norm_Deaths=%{y}<extra></extra>\",\"legendgroup\":\"3265174\",\"marker\":{\"color\":\"#EF553B\",\"pattern\":{\"shape\":\"\"}},\"name\":\"3265174\",\"offsetgroup\":\"3265174\",\"orientation\":\"v\",\"showlegend\":true,\"x\":[\"Sullivan County, TN\"],\"xaxis\":\"x\",\"y\":[12.46487936018111],\"yaxis\":\"y\",\"type\":\"histogram\"},{\"alignmentgroup\":\"True\",\"bingroup\":\"x\",\"histfunc\":\"sum\",\"hovertemplate\":\"Population=3318775<br>County=%{x}<br>sum of Norm_Deaths=%{y}<extra></extra>\",\"legendgroup\":\"3318775\",\"marker\":{\"color\":\"#00cc96\",\"pattern\":{\"shape\":\"\"}},\"name\":\"3318775\",\"offsetgroup\":\"3318775\",\"orientation\":\"v\",\"showlegend\":true,\"x\":[\"Sumner County, TN\"],\"xaxis\":\"x\",\"y\":[11.510271109068858],\"yaxis\":\"y\",\"type\":\"histogram\"},{\"alignmentgroup\":\"True\",\"bingroup\":\"x\",\"histfunc\":\"sum\",\"hovertemplate\":\"Population=1224474<br>County=%{x}<br>sum of Norm_Deaths=%{y}<extra></extra>\",\"legendgroup\":\"1224474\",\"marker\":{\"color\":\"#ab63fa\",\"pattern\":{\"shape\":\"\"}},\"name\":\"1224474\",\"offsetgroup\":\"1224474\",\"orientation\":\"v\",\"showlegend\":true,\"x\":[\"Tipton County, TN\"],\"xaxis\":\"x\",\"y\":[12.086822586678036],\"yaxis\":\"y\",\"type\":\"histogram\"},{\"alignmentgroup\":\"True\",\"bingroup\":\"x\",\"histfunc\":\"sum\",\"hovertemplate\":\"Population=169927<br>County=%{x}<br>sum of Norm_Deaths=%{y}<extra></extra>\",\"legendgroup\":\"169927\",\"marker\":{\"color\":\"#FFA15A\",\"pattern\":{\"shape\":\"\"}},\"name\":\"169927\",\"offsetgroup\":\"169927\",\"orientation\":\"v\",\"showlegend\":true,\"x\":[\"Trousdale County, TN\"],\"xaxis\":\"x\",\"y\":[14.123711946894844],\"yaxis\":\"y\",\"type\":\"histogram\"},{\"alignmentgroup\":\"True\",\"bingroup\":\"x\",\"histfunc\":\"sum\",\"hovertemplate\":\"Population=377388<br>County=%{x}<br>sum of Norm_Deaths=%{y}<extra></extra>\",\"legendgroup\":\"377388\",\"marker\":{\"color\":\"#19d3f3\",\"pattern\":{\"shape\":\"\"}},\"name\":\"377388\",\"offsetgroup\":\"377388\",\"orientation\":\"v\",\"showlegend\":true,\"x\":[\"Unicoi County, TN\"],\"xaxis\":\"x\",\"y\":[14.043901766881831],\"yaxis\":\"y\",\"type\":\"histogram\"},{\"alignmentgroup\":\"True\",\"bingroup\":\"x\",\"histfunc\":\"sum\",\"hovertemplate\":\"Population=397528<br>County=%{x}<br>sum of Norm_Deaths=%{y}<extra></extra>\",\"legendgroup\":\"397528\",\"marker\":{\"color\":\"#FF6692\",\"pattern\":{\"shape\":\"\"}},\"name\":\"397528\",\"offsetgroup\":\"397528\",\"orientation\":\"v\",\"showlegend\":true,\"x\":[\"Union County, TN\"],\"xaxis\":\"x\",\"y\":[21.130587027832],\"yaxis\":\"y\",\"type\":\"histogram\"},{\"alignmentgroup\":\"True\",\"bingroup\":\"x\",\"histfunc\":\"sum\",\"hovertemplate\":\"Population=831031<br>County=%{x}<br>sum of Norm_Deaths=%{y}<extra></extra>\",\"legendgroup\":\"831031\",\"marker\":{\"color\":\"#B6E880\",\"pattern\":{\"shape\":\"\"}},\"name\":\"831031\",\"offsetgroup\":\"831031\",\"orientation\":\"v\",\"showlegend\":true,\"x\":[\"Warren County, TN\"],\"xaxis\":\"x\",\"y\":[11.070585814488268],\"yaxis\":\"y\",\"type\":\"histogram\"},{\"alignmentgroup\":\"True\",\"bingroup\":\"x\",\"histfunc\":\"sum\",\"hovertemplate\":\"Population=2505979<br>County=%{x}<br>sum of Norm_Deaths=%{y}<extra></extra>\",\"legendgroup\":\"2505979\",\"marker\":{\"color\":\"#FF97FF\",\"pattern\":{\"shape\":\"\"}},\"name\":\"2505979\",\"offsetgroup\":\"2505979\",\"orientation\":\"v\",\"showlegend\":true,\"x\":[\"Washington County, TN\"],\"xaxis\":\"x\",\"y\":[9.736713675573498],\"yaxis\":\"y\",\"type\":\"histogram\"},{\"alignmentgroup\":\"True\",\"bingroup\":\"x\",\"histfunc\":\"sum\",\"hovertemplate\":\"Population=355030<br>County=%{x}<br>sum of Norm_Deaths=%{y}<extra></extra>\",\"legendgroup\":\"355030\",\"marker\":{\"color\":\"#FECB52\",\"pattern\":{\"shape\":\"\"}},\"name\":\"355030\",\"offsetgroup\":\"355030\",\"orientation\":\"v\",\"showlegend\":true,\"x\":[\"Wayne County, TN\"],\"xaxis\":\"x\",\"y\":[10.421654508069741],\"yaxis\":\"y\",\"type\":\"histogram\"},{\"alignmentgroup\":\"True\",\"bingroup\":\"x\",\"histfunc\":\"sum\",\"hovertemplate\":\"Population=720464<br>County=%{x}<br>sum of Norm_Deaths=%{y}<extra></extra>\",\"legendgroup\":\"720464\",\"marker\":{\"color\":\"#636efa\",\"pattern\":{\"shape\":\"\"}},\"name\":\"720464\",\"offsetgroup\":\"720464\",\"orientation\":\"v\",\"showlegend\":true,\"x\":[\"Weakley County, TN\"],\"xaxis\":\"x\",\"y\":[7.772768660196762],\"yaxis\":\"y\",\"type\":\"histogram\"},{\"alignmentgroup\":\"True\",\"bingroup\":\"x\",\"histfunc\":\"sum\",\"hovertemplate\":\"Population=531917<br>County=%{x}<br>sum of Norm_Deaths=%{y}<extra></extra>\",\"legendgroup\":\"531917\",\"marker\":{\"color\":\"#EF553B\",\"pattern\":{\"shape\":\"\"}},\"name\":\"531917\",\"offsetgroup\":\"531917\",\"orientation\":\"v\",\"showlegend\":true,\"x\":[\"White County, TN\"],\"xaxis\":\"x\",\"y\":[14.663941930789955],\"yaxis\":\"y\",\"type\":\"histogram\"},{\"alignmentgroup\":\"True\",\"bingroup\":\"x\",\"histfunc\":\"sum\",\"hovertemplate\":\"Population=3745591<br>County=%{x}<br>sum of Norm_Deaths=%{y}<extra></extra>\",\"legendgroup\":\"3745591\",\"marker\":{\"color\":\"#00cc96\",\"pattern\":{\"shape\":\"\"}},\"name\":\"3745591\",\"offsetgroup\":\"3745591\",\"orientation\":\"v\",\"showlegend\":true,\"x\":[\"Williamson County, TN\"],\"xaxis\":\"x\",\"y\":[7.101683018781282],\"yaxis\":\"y\",\"type\":\"histogram\"},{\"alignmentgroup\":\"True\",\"bingroup\":\"x\",\"histfunc\":\"sum\",\"hovertemplate\":\"Population=2365780<br>County=%{x}<br>sum of Norm_Deaths=%{y}<extra></extra>\",\"legendgroup\":\"2365780\",\"marker\":{\"color\":\"#ab63fa\",\"pattern\":{\"shape\":\"\"}},\"name\":\"2365780\",\"offsetgroup\":\"2365780\",\"orientation\":\"v\",\"showlegend\":true,\"x\":[\"Wilson County, TN\"],\"xaxis\":\"x\",\"y\":[14.540658894740847],\"yaxis\":\"y\",\"type\":\"histogram\"}],                        {\"template\":{\"data\":{\"bar\":[{\"error_x\":{\"color\":\"#2a3f5f\"},\"error_y\":{\"color\":\"#2a3f5f\"},\"marker\":{\"line\":{\"color\":\"#E5ECF6\",\"width\":0.5},\"pattern\":{\"fillmode\":\"overlay\",\"size\":10,\"solidity\":0.2}},\"type\":\"bar\"}],\"barpolar\":[{\"marker\":{\"line\":{\"color\":\"#E5ECF6\",\"width\":0.5},\"pattern\":{\"fillmode\":\"overlay\",\"size\":10,\"solidity\":0.2}},\"type\":\"barpolar\"}],\"carpet\":[{\"aaxis\":{\"endlinecolor\":\"#2a3f5f\",\"gridcolor\":\"white\",\"linecolor\":\"white\",\"minorgridcolor\":\"white\",\"startlinecolor\":\"#2a3f5f\"},\"baxis\":{\"endlinecolor\":\"#2a3f5f\",\"gridcolor\":\"white\",\"linecolor\":\"white\",\"minorgridcolor\":\"white\",\"startlinecolor\":\"#2a3f5f\"},\"type\":\"carpet\"}],\"choropleth\":[{\"colorbar\":{\"outlinewidth\":0,\"ticks\":\"\"},\"type\":\"choropleth\"}],\"contour\":[{\"colorbar\":{\"outlinewidth\":0,\"ticks\":\"\"},\"colorscale\":[[0.0,\"#0d0887\"],[0.1111111111111111,\"#46039f\"],[0.2222222222222222,\"#7201a8\"],[0.3333333333333333,\"#9c179e\"],[0.4444444444444444,\"#bd3786\"],[0.5555555555555556,\"#d8576b\"],[0.6666666666666666,\"#ed7953\"],[0.7777777777777778,\"#fb9f3a\"],[0.8888888888888888,\"#fdca26\"],[1.0,\"#f0f921\"]],\"type\":\"contour\"}],\"contourcarpet\":[{\"colorbar\":{\"outlinewidth\":0,\"ticks\":\"\"},\"type\":\"contourcarpet\"}],\"heatmap\":[{\"colorbar\":{\"outlinewidth\":0,\"ticks\":\"\"},\"colorscale\":[[0.0,\"#0d0887\"],[0.1111111111111111,\"#46039f\"],[0.2222222222222222,\"#7201a8\"],[0.3333333333333333,\"#9c179e\"],[0.4444444444444444,\"#bd3786\"],[0.5555555555555556,\"#d8576b\"],[0.6666666666666666,\"#ed7953\"],[0.7777777777777778,\"#fb9f3a\"],[0.8888888888888888,\"#fdca26\"],[1.0,\"#f0f921\"]],\"type\":\"heatmap\"}],\"heatmapgl\":[{\"colorbar\":{\"outlinewidth\":0,\"ticks\":\"\"},\"colorscale\":[[0.0,\"#0d0887\"],[0.1111111111111111,\"#46039f\"],[0.2222222222222222,\"#7201a8\"],[0.3333333333333333,\"#9c179e\"],[0.4444444444444444,\"#bd3786\"],[0.5555555555555556,\"#d8576b\"],[0.6666666666666666,\"#ed7953\"],[0.7777777777777778,\"#fb9f3a\"],[0.8888888888888888,\"#fdca26\"],[1.0,\"#f0f921\"]],\"type\":\"heatmapgl\"}],\"histogram\":[{\"marker\":{\"pattern\":{\"fillmode\":\"overlay\",\"size\":10,\"solidity\":0.2}},\"type\":\"histogram\"}],\"histogram2d\":[{\"colorbar\":{\"outlinewidth\":0,\"ticks\":\"\"},\"colorscale\":[[0.0,\"#0d0887\"],[0.1111111111111111,\"#46039f\"],[0.2222222222222222,\"#7201a8\"],[0.3333333333333333,\"#9c179e\"],[0.4444444444444444,\"#bd3786\"],[0.5555555555555556,\"#d8576b\"],[0.6666666666666666,\"#ed7953\"],[0.7777777777777778,\"#fb9f3a\"],[0.8888888888888888,\"#fdca26\"],[1.0,\"#f0f921\"]],\"type\":\"histogram2d\"}],\"histogram2dcontour\":[{\"colorbar\":{\"outlinewidth\":0,\"ticks\":\"\"},\"colorscale\":[[0.0,\"#0d0887\"],[0.1111111111111111,\"#46039f\"],[0.2222222222222222,\"#7201a8\"],[0.3333333333333333,\"#9c179e\"],[0.4444444444444444,\"#bd3786\"],[0.5555555555555556,\"#d8576b\"],[0.6666666666666666,\"#ed7953\"],[0.7777777777777778,\"#fb9f3a\"],[0.8888888888888888,\"#fdca26\"],[1.0,\"#f0f921\"]],\"type\":\"histogram2dcontour\"}],\"mesh3d\":[{\"colorbar\":{\"outlinewidth\":0,\"ticks\":\"\"},\"type\":\"mesh3d\"}],\"parcoords\":[{\"line\":{\"colorbar\":{\"outlinewidth\":0,\"ticks\":\"\"}},\"type\":\"parcoords\"}],\"pie\":[{\"automargin\":true,\"type\":\"pie\"}],\"scatter\":[{\"marker\":{\"colorbar\":{\"outlinewidth\":0,\"ticks\":\"\"}},\"type\":\"scatter\"}],\"scatter3d\":[{\"line\":{\"colorbar\":{\"outlinewidth\":0,\"ticks\":\"\"}},\"marker\":{\"colorbar\":{\"outlinewidth\":0,\"ticks\":\"\"}},\"type\":\"scatter3d\"}],\"scattercarpet\":[{\"marker\":{\"colorbar\":{\"outlinewidth\":0,\"ticks\":\"\"}},\"type\":\"scattercarpet\"}],\"scattergeo\":[{\"marker\":{\"colorbar\":{\"outlinewidth\":0,\"ticks\":\"\"}},\"type\":\"scattergeo\"}],\"scattergl\":[{\"marker\":{\"colorbar\":{\"outlinewidth\":0,\"ticks\":\"\"}},\"type\":\"scattergl\"}],\"scattermapbox\":[{\"marker\":{\"colorbar\":{\"outlinewidth\":0,\"ticks\":\"\"}},\"type\":\"scattermapbox\"}],\"scatterpolar\":[{\"marker\":{\"colorbar\":{\"outlinewidth\":0,\"ticks\":\"\"}},\"type\":\"scatterpolar\"}],\"scatterpolargl\":[{\"marker\":{\"colorbar\":{\"outlinewidth\":0,\"ticks\":\"\"}},\"type\":\"scatterpolargl\"}],\"scatterternary\":[{\"marker\":{\"colorbar\":{\"outlinewidth\":0,\"ticks\":\"\"}},\"type\":\"scatterternary\"}],\"surface\":[{\"colorbar\":{\"outlinewidth\":0,\"ticks\":\"\"},\"colorscale\":[[0.0,\"#0d0887\"],[0.1111111111111111,\"#46039f\"],[0.2222222222222222,\"#7201a8\"],[0.3333333333333333,\"#9c179e\"],[0.4444444444444444,\"#bd3786\"],[0.5555555555555556,\"#d8576b\"],[0.6666666666666666,\"#ed7953\"],[0.7777777777777778,\"#fb9f3a\"],[0.8888888888888888,\"#fdca26\"],[1.0,\"#f0f921\"]],\"type\":\"surface\"}],\"table\":[{\"cells\":{\"fill\":{\"color\":\"#EBF0F8\"},\"line\":{\"color\":\"white\"}},\"header\":{\"fill\":{\"color\":\"#C8D4E3\"},\"line\":{\"color\":\"white\"}},\"type\":\"table\"}]},\"layout\":{\"annotationdefaults\":{\"arrowcolor\":\"#2a3f5f\",\"arrowhead\":0,\"arrowwidth\":1},\"autotypenumbers\":\"strict\",\"coloraxis\":{\"colorbar\":{\"outlinewidth\":0,\"ticks\":\"\"}},\"colorscale\":{\"diverging\":[[0,\"#8e0152\"],[0.1,\"#c51b7d\"],[0.2,\"#de77ae\"],[0.3,\"#f1b6da\"],[0.4,\"#fde0ef\"],[0.5,\"#f7f7f7\"],[0.6,\"#e6f5d0\"],[0.7,\"#b8e186\"],[0.8,\"#7fbc41\"],[0.9,\"#4d9221\"],[1,\"#276419\"]],\"sequential\":[[0.0,\"#0d0887\"],[0.1111111111111111,\"#46039f\"],[0.2222222222222222,\"#7201a8\"],[0.3333333333333333,\"#9c179e\"],[0.4444444444444444,\"#bd3786\"],[0.5555555555555556,\"#d8576b\"],[0.6666666666666666,\"#ed7953\"],[0.7777777777777778,\"#fb9f3a\"],[0.8888888888888888,\"#fdca26\"],[1.0,\"#f0f921\"]],\"sequentialminus\":[[0.0,\"#0d0887\"],[0.1111111111111111,\"#46039f\"],[0.2222222222222222,\"#7201a8\"],[0.3333333333333333,\"#9c179e\"],[0.4444444444444444,\"#bd3786\"],[0.5555555555555556,\"#d8576b\"],[0.6666666666666666,\"#ed7953\"],[0.7777777777777778,\"#fb9f3a\"],[0.8888888888888888,\"#fdca26\"],[1.0,\"#f0f921\"]]},\"colorway\":[\"#636efa\",\"#EF553B\",\"#00cc96\",\"#ab63fa\",\"#FFA15A\",\"#19d3f3\",\"#FF6692\",\"#B6E880\",\"#FF97FF\",\"#FECB52\"],\"font\":{\"color\":\"#2a3f5f\"},\"geo\":{\"bgcolor\":\"white\",\"lakecolor\":\"white\",\"landcolor\":\"#E5ECF6\",\"showlakes\":true,\"showland\":true,\"subunitcolor\":\"white\"},\"hoverlabel\":{\"align\":\"left\"},\"hovermode\":\"closest\",\"mapbox\":{\"style\":\"light\"},\"paper_bgcolor\":\"white\",\"plot_bgcolor\":\"#E5ECF6\",\"polar\":{\"angularaxis\":{\"gridcolor\":\"white\",\"linecolor\":\"white\",\"ticks\":\"\"},\"bgcolor\":\"#E5ECF6\",\"radialaxis\":{\"gridcolor\":\"white\",\"linecolor\":\"white\",\"ticks\":\"\"}},\"scene\":{\"xaxis\":{\"backgroundcolor\":\"#E5ECF6\",\"gridcolor\":\"white\",\"gridwidth\":2,\"linecolor\":\"white\",\"showbackground\":true,\"ticks\":\"\",\"zerolinecolor\":\"white\"},\"yaxis\":{\"backgroundcolor\":\"#E5ECF6\",\"gridcolor\":\"white\",\"gridwidth\":2,\"linecolor\":\"white\",\"showbackground\":true,\"ticks\":\"\",\"zerolinecolor\":\"white\"},\"zaxis\":{\"backgroundcolor\":\"#E5ECF6\",\"gridcolor\":\"white\",\"gridwidth\":2,\"linecolor\":\"white\",\"showbackground\":true,\"ticks\":\"\",\"zerolinecolor\":\"white\"}},\"shapedefaults\":{\"line\":{\"color\":\"#2a3f5f\"}},\"ternary\":{\"aaxis\":{\"gridcolor\":\"white\",\"linecolor\":\"white\",\"ticks\":\"\"},\"baxis\":{\"gridcolor\":\"white\",\"linecolor\":\"white\",\"ticks\":\"\"},\"bgcolor\":\"#E5ECF6\",\"caxis\":{\"gridcolor\":\"white\",\"linecolor\":\"white\",\"ticks\":\"\"}},\"title\":{\"x\":0.05},\"xaxis\":{\"automargin\":true,\"gridcolor\":\"white\",\"linecolor\":\"white\",\"ticks\":\"\",\"title\":{\"standoff\":15},\"zerolinecolor\":\"white\",\"zerolinewidth\":2},\"yaxis\":{\"automargin\":true,\"gridcolor\":\"white\",\"linecolor\":\"white\",\"ticks\":\"\",\"title\":{\"standoff\":15},\"zerolinecolor\":\"white\",\"zerolinewidth\":2}}},\"xaxis\":{\"anchor\":\"y\",\"domain\":[0.0,1.0],\"title\":{\"text\":\"County\"}},\"yaxis\":{\"anchor\":\"x\",\"domain\":[0.0,1.0],\"title\":{\"text\":\"sum of Norm_Deaths\"}},\"legend\":{\"title\":{\"text\":\"Population\"},\"tracegroupgap\":0},\"title\":{\"text\":\"Opiod Mortality rate in\\tTN\"},\"barmode\":\"relative\"},                        {\"responsive\": true}                    ).then(function(){\n",
       "                            \n",
       "var gd = document.getElementById('10a86aa4-5c7c-445a-b9ff-e1db78dba2dd');\n",
       "var x = new MutationObserver(function (mutations, observer) {{\n",
       "        var display = window.getComputedStyle(gd).display;\n",
       "        if (!display || display === 'none') {{\n",
       "            console.log([gd, 'removed!']);\n",
       "            Plotly.purge(gd);\n",
       "            observer.disconnect();\n",
       "        }}\n",
       "}});\n",
       "\n",
       "// Listen for the removal of the full notebook cells\n",
       "var notebookContainer = gd.closest('#notebook-container');\n",
       "if (notebookContainer) {{\n",
       "    x.observe(notebookContainer, {childList: true});\n",
       "}}\n",
       "\n",
       "// Listen for the clearing of the current output cell\n",
       "var outputEl = gd.closest('.output');\n",
       "if (outputEl) {{\n",
       "    x.observe(outputEl, {childList: true});\n",
       "}}\n",
       "\n",
       "                        })                };                });            </script>        </div>"
      ]
     },
     "metadata": {},
     "output_type": "display_data"
    },
    {
     "name": "stdout",
     "output_type": "stream",
     "text": [
      "The Number of counties in-TN : 94\n",
      "Top-10 counties with highest mortatlity rate in state-TN are:\n",
      " 1099      Jackson County, TN\n",
      "459          Clay County, TN\n",
      "1964        Roane County, TN\n",
      "160        Benton County, TN\n",
      "393      Cheatham County, TN\n",
      "314      Campbell County, TN\n",
      "1216         Knox County, TN\n",
      "610        DeKalb County, TN\n",
      "956        Hardin County, TN\n",
      "429     Claiborne County, TN\n",
      "Name: County, dtype: object\n"
     ]
    },
    {
     "data": {
      "application/vnd.plotly.v1+json": {
       "config": {
        "plotlyServerURL": "https://plot.ly"
       },
       "data": [
        {
         "alignmentgroup": "True",
         "bingroup": "x",
         "histfunc": "sum",
         "hovertemplate": "Population=5630056<br>County=%{x}<br>sum of Norm_Deaths=%{y}<extra></extra>",
         "legendgroup": "5630056",
         "marker": {
          "color": "#636efa",
          "pattern": {
           "shape": ""
          }
         },
         "name": "5630056",
         "offsetgroup": "5630056",
         "orientation": "v",
         "showlegend": true,
         "type": "histogram",
         "x": [
          "Atlantic County, NJ"
         ],
         "xaxis": "x",
         "y": [
          20.141895569067167
         ],
         "yaxis": "y"
        },
        {
         "alignmentgroup": "True",
         "bingroup": "x",
         "histfunc": "sum",
         "hovertemplate": "Population=19085545<br>County=%{x}<br>sum of Norm_Deaths=%{y}<extra></extra>",
         "legendgroup": "19085545",
         "marker": {
          "color": "#EF553B",
          "pattern": {
           "shape": ""
          }
         },
         "name": "19085545",
         "offsetgroup": "19085545",
         "orientation": "v",
         "showlegend": true,
         "type": "histogram",
         "x": [
          "Bergen County, NJ"
         ],
         "xaxis": "x",
         "y": [
          6.853354200783892
         ],
         "yaxis": "y"
        },
        {
         "alignmentgroup": "True",
         "bingroup": "x",
         "histfunc": "sum",
         "hovertemplate": "Population=9325535<br>County=%{x}<br>sum of Norm_Deaths=%{y}<extra></extra>",
         "legendgroup": "9325535",
         "marker": {
          "color": "#00cc96",
          "pattern": {
           "shape": ""
          }
         },
         "name": "9325535",
         "offsetgroup": "9325535",
         "orientation": "v",
         "showlegend": true,
         "type": "histogram",
         "x": [
          "Burlington County, NJ"
         ],
         "xaxis": "x",
         "y": [
          13.929495734024911
         ],
         "yaxis": "y"
        },
        {
         "alignmentgroup": "True",
         "bingroup": "x",
         "histfunc": "sum",
         "hovertemplate": "Population=10727181<br>County=%{x}<br>sum of Norm_Deaths=%{y}<extra></extra>",
         "legendgroup": "10727181",
         "marker": {
          "color": "#ab63fa",
          "pattern": {
           "shape": ""
          }
         },
         "name": "10727181",
         "offsetgroup": "10727181",
         "orientation": "v",
         "showlegend": true,
         "type": "histogram",
         "x": [
          "Camden County, NJ"
         ],
         "xaxis": "x",
         "y": [
          23.156130207926946
         ],
         "yaxis": "y"
        },
        {
         "alignmentgroup": "True",
         "bingroup": "x",
         "histfunc": "sum",
         "hovertemplate": "Population=2049528<br>County=%{x}<br>sum of Norm_Deaths=%{y}<extra></extra>",
         "legendgroup": "2049528",
         "marker": {
          "color": "#FFA15A",
          "pattern": {
           "shape": ""
          }
         },
         "name": "2049528",
         "offsetgroup": "2049528",
         "orientation": "v",
         "showlegend": true,
         "type": "histogram",
         "x": [
          "Cape May County, NJ"
         ],
         "xaxis": "x",
         "y": [
          17.906561901081613
         ],
         "yaxis": "y"
        },
        {
         "alignmentgroup": "True",
         "bingroup": "x",
         "histfunc": "sum",
         "hovertemplate": "Population=3206088<br>County=%{x}<br>sum of Norm_Deaths=%{y}<extra></extra>",
         "legendgroup": "3206088",
         "marker": {
          "color": "#19d3f3",
          "pattern": {
           "shape": ""
          }
         },
         "name": "3206088",
         "offsetgroup": "3206088",
         "orientation": "v",
         "showlegend": true,
         "type": "histogram",
         "x": [
          "Cumberland County, NJ"
         ],
         "xaxis": "x",
         "y": [
          16.49985901821784
         ],
         "yaxis": "y"
        },
        {
         "alignmentgroup": "True",
         "bingroup": "x",
         "histfunc": "sum",
         "hovertemplate": "Population=16609705<br>County=%{x}<br>sum of Norm_Deaths=%{y}<extra></extra>",
         "legendgroup": "16609705",
         "marker": {
          "color": "#FF6692",
          "pattern": {
           "shape": ""
          }
         },
         "name": "16609705",
         "offsetgroup": "16609705",
         "orientation": "v",
         "showlegend": true,
         "type": "histogram",
         "x": [
          "Essex County, NJ"
         ],
         "xaxis": "x",
         "y": [
          14.569795189017505
         ],
         "yaxis": "y"
        },
        {
         "alignmentgroup": "True",
         "bingroup": "x",
         "histfunc": "sum",
         "hovertemplate": "Population=5887970<br>County=%{x}<br>sum of Norm_Deaths=%{y}<extra></extra>",
         "legendgroup": "5887970",
         "marker": {
          "color": "#B6E880",
          "pattern": {
           "shape": ""
          }
         },
         "name": "5887970",
         "offsetgroup": "5887970",
         "orientation": "v",
         "showlegend": true,
         "type": "histogram",
         "x": [
          "Gloucester County, NJ"
         ],
         "xaxis": "x",
         "y": [
          21.89209523825699
         ],
         "yaxis": "y"
        },
        {
         "alignmentgroup": "True",
         "bingroup": "x",
         "histfunc": "sum",
         "hovertemplate": "Population=13414657<br>County=%{x}<br>sum of Norm_Deaths=%{y}<extra></extra>",
         "legendgroup": "13414657",
         "marker": {
          "color": "#FF97FF",
          "pattern": {
           "shape": ""
          }
         },
         "name": "13414657",
         "offsetgroup": "13414657",
         "orientation": "v",
         "showlegend": true,
         "type": "histogram",
         "x": [
          "Hudson County, NJ"
         ],
         "xaxis": "x",
         "y": [
          9.228711550358685
         ],
         "yaxis": "y"
        },
        {
         "alignmentgroup": "True",
         "bingroup": "x",
         "histfunc": "sum",
         "hovertemplate": "Population=2649638<br>County=%{x}<br>sum of Norm_Deaths=%{y}<extra></extra>",
         "legendgroup": "2649638",
         "marker": {
          "color": "#FECB52",
          "pattern": {
           "shape": ""
          }
         },
         "name": "2649638",
         "offsetgroup": "2649638",
         "orientation": "v",
         "showlegend": true,
         "type": "histogram",
         "x": [
          "Hunterdon County, NJ"
         ],
         "xaxis": "x",
         "y": [
          6.453711790063397
         ],
         "yaxis": "y"
        },
        {
         "alignmentgroup": "True",
         "bingroup": "x",
         "histfunc": "sum",
         "hovertemplate": "Population=7644594<br>County=%{x}<br>sum of Norm_Deaths=%{y}<extra></extra>",
         "legendgroup": "7644594",
         "marker": {
          "color": "#636efa",
          "pattern": {
           "shape": ""
          }
         },
         "name": "7644594",
         "offsetgroup": "7644594",
         "orientation": "v",
         "showlegend": true,
         "type": "histogram",
         "x": [
          "Mercer County, NJ"
         ],
         "xaxis": "x",
         "y": [
          10.177126476566315
         ],
         "yaxis": "y"
        },
        {
         "alignmentgroup": "True",
         "bingroup": "x",
         "histfunc": "sum",
         "hovertemplate": "Population=16839581<br>County=%{x}<br>sum of Norm_Deaths=%{y}<extra></extra>",
         "legendgroup": "16839581",
         "marker": {
          "color": "#EF553B",
          "pattern": {
           "shape": ""
          }
         },
         "name": "16839581",
         "offsetgroup": "16839581",
         "orientation": "v",
         "showlegend": true,
         "type": "histogram",
         "x": [
          "Middlesex County, NJ"
         ],
         "xaxis": "x",
         "y": [
          10.053694328855332
         ],
         "yaxis": "y"
        },
        {
         "alignmentgroup": "True",
         "bingroup": "x",
         "histfunc": "sum",
         "hovertemplate": "Population=13135454<br>County=%{x}<br>sum of Norm_Deaths=%{y}<extra></extra>",
         "legendgroup": "13135454",
         "marker": {
          "color": "#00cc96",
          "pattern": {
           "shape": ""
          }
         },
         "name": "13135454",
         "offsetgroup": "13135454",
         "orientation": "v",
         "showlegend": true,
         "type": "histogram",
         "x": [
          "Monmouth County, NJ"
         ],
         "xaxis": "x",
         "y": [
          11.92954579263115
         ],
         "yaxis": "y"
        },
        {
         "alignmentgroup": "True",
         "bingroup": "x",
         "histfunc": "sum",
         "hovertemplate": "Population=10263544<br>County=%{x}<br>sum of Norm_Deaths=%{y}<extra></extra>",
         "legendgroup": "10263544",
         "marker": {
          "color": "#ab63fa",
          "pattern": {
           "shape": ""
          }
         },
         "name": "10263544",
         "offsetgroup": "10263544",
         "orientation": "v",
         "showlegend": true,
         "type": "histogram",
         "x": [
          "Morris County, NJ"
         ],
         "xaxis": "x",
         "y": [
          7.979699799601385
         ],
         "yaxis": "y"
        },
        {
         "alignmentgroup": "True",
         "bingroup": "x",
         "histfunc": "sum",
         "hovertemplate": "Population=11890101<br>County=%{x}<br>sum of Norm_Deaths=%{y}<extra></extra>",
         "legendgroup": "11890101",
         "marker": {
          "color": "#FFA15A",
          "pattern": {
           "shape": ""
          }
         },
         "name": "11890101",
         "offsetgroup": "11890101",
         "orientation": "v",
         "showlegend": true,
         "type": "histogram",
         "x": [
          "Ocean County, NJ"
         ],
         "xaxis": "x",
         "y": [
          15.40777492134003
         ],
         "yaxis": "y"
        },
        {
         "alignmentgroup": "True",
         "bingroup": "x",
         "histfunc": "sum",
         "hovertemplate": "Population=10483910<br>County=%{x}<br>sum of Norm_Deaths=%{y}<extra></extra>",
         "legendgroup": "10483910",
         "marker": {
          "color": "#19d3f3",
          "pattern": {
           "shape": ""
          }
         },
         "name": "10483910",
         "offsetgroup": "10483910",
         "orientation": "v",
         "showlegend": true,
         "type": "histogram",
         "x": [
          "Passaic County, NJ"
         ],
         "xaxis": "x",
         "y": [
          10.425499646601317
         ],
         "yaxis": "y"
        },
        {
         "alignmentgroup": "True",
         "bingroup": "x",
         "histfunc": "sum",
         "hovertemplate": "Population=1358731<br>County=%{x}<br>sum of Norm_Deaths=%{y}<extra></extra>",
         "legendgroup": "1358731",
         "marker": {
          "color": "#FF6692",
          "pattern": {
           "shape": ""
          }
         },
         "name": "1358731",
         "offsetgroup": "1358731",
         "orientation": "v",
         "showlegend": true,
         "type": "histogram",
         "x": [
          "Salem County, NJ"
         ],
         "xaxis": "x",
         "y": [
          19.57709068240881
         ],
         "yaxis": "y"
        },
        {
         "alignmentgroup": "True",
         "bingroup": "x",
         "histfunc": "sum",
         "hovertemplate": "Population=6703802<br>County=%{x}<br>sum of Norm_Deaths=%{y}<extra></extra>",
         "legendgroup": "6703802",
         "marker": {
          "color": "#B6E880",
          "pattern": {
           "shape": ""
          }
         },
         "name": "6703802",
         "offsetgroup": "6703802",
         "orientation": "v",
         "showlegend": true,
         "type": "histogram",
         "x": [
          "Somerset County, NJ"
         ],
         "xaxis": "x",
         "y": [
          7.219783639194595
         ],
         "yaxis": "y"
        },
        {
         "alignmentgroup": "True",
         "bingroup": "x",
         "histfunc": "sum",
         "hovertemplate": "Population=3076019<br>County=%{x}<br>sum of Norm_Deaths=%{y}<extra></extra>",
         "legendgroup": "3076019",
         "marker": {
          "color": "#FF97FF",
          "pattern": {
           "shape": ""
          }
         },
         "name": "3076019",
         "offsetgroup": "3076019",
         "orientation": "v",
         "showlegend": true,
         "type": "histogram",
         "x": [
          "Sussex County, NJ"
         ],
         "xaxis": "x",
         "y": [
          11.345833689583843
         ],
         "yaxis": "y"
        },
        {
         "alignmentgroup": "True",
         "bingroup": "x",
         "histfunc": "sum",
         "hovertemplate": "Population=11298333<br>County=%{x}<br>sum of Norm_Deaths=%{y}<extra></extra>",
         "legendgroup": "11298333",
         "marker": {
          "color": "#FECB52",
          "pattern": {
           "shape": ""
          }
         },
         "name": "11298333",
         "offsetgroup": "11298333",
         "orientation": "v",
         "showlegend": true,
         "type": "histogram",
         "x": [
          "Union County, NJ"
         ],
         "xaxis": "x",
         "y": [
          8.54993387077545
         ],
         "yaxis": "y"
        },
        {
         "alignmentgroup": "True",
         "bingroup": "x",
         "histfunc": "sum",
         "hovertemplate": "Population=2247466<br>County=%{x}<br>sum of Norm_Deaths=%{y}<extra></extra>",
         "legendgroup": "2247466",
         "marker": {
          "color": "#636efa",
          "pattern": {
           "shape": ""
          }
         },
         "name": "2247466",
         "offsetgroup": "2247466",
         "orientation": "v",
         "showlegend": true,
         "type": "histogram",
         "x": [
          "Warren County, NJ"
         ],
         "xaxis": "x",
         "y": [
          11.257122465923846
         ],
         "yaxis": "y"
        }
       ],
       "layout": {
        "barmode": "relative",
        "legend": {
         "title": {
          "text": "Population"
         },
         "tracegroupgap": 0
        },
        "template": {
         "data": {
          "bar": [
           {
            "error_x": {
             "color": "#2a3f5f"
            },
            "error_y": {
             "color": "#2a3f5f"
            },
            "marker": {
             "line": {
              "color": "#E5ECF6",
              "width": 0.5
             },
             "pattern": {
              "fillmode": "overlay",
              "size": 10,
              "solidity": 0.2
             }
            },
            "type": "bar"
           }
          ],
          "barpolar": [
           {
            "marker": {
             "line": {
              "color": "#E5ECF6",
              "width": 0.5
             },
             "pattern": {
              "fillmode": "overlay",
              "size": 10,
              "solidity": 0.2
             }
            },
            "type": "barpolar"
           }
          ],
          "carpet": [
           {
            "aaxis": {
             "endlinecolor": "#2a3f5f",
             "gridcolor": "white",
             "linecolor": "white",
             "minorgridcolor": "white",
             "startlinecolor": "#2a3f5f"
            },
            "baxis": {
             "endlinecolor": "#2a3f5f",
             "gridcolor": "white",
             "linecolor": "white",
             "minorgridcolor": "white",
             "startlinecolor": "#2a3f5f"
            },
            "type": "carpet"
           }
          ],
          "choropleth": [
           {
            "colorbar": {
             "outlinewidth": 0,
             "ticks": ""
            },
            "type": "choropleth"
           }
          ],
          "contour": [
           {
            "colorbar": {
             "outlinewidth": 0,
             "ticks": ""
            },
            "colorscale": [
             [
              0,
              "#0d0887"
             ],
             [
              0.1111111111111111,
              "#46039f"
             ],
             [
              0.2222222222222222,
              "#7201a8"
             ],
             [
              0.3333333333333333,
              "#9c179e"
             ],
             [
              0.4444444444444444,
              "#bd3786"
             ],
             [
              0.5555555555555556,
              "#d8576b"
             ],
             [
              0.6666666666666666,
              "#ed7953"
             ],
             [
              0.7777777777777778,
              "#fb9f3a"
             ],
             [
              0.8888888888888888,
              "#fdca26"
             ],
             [
              1,
              "#f0f921"
             ]
            ],
            "type": "contour"
           }
          ],
          "contourcarpet": [
           {
            "colorbar": {
             "outlinewidth": 0,
             "ticks": ""
            },
            "type": "contourcarpet"
           }
          ],
          "heatmap": [
           {
            "colorbar": {
             "outlinewidth": 0,
             "ticks": ""
            },
            "colorscale": [
             [
              0,
              "#0d0887"
             ],
             [
              0.1111111111111111,
              "#46039f"
             ],
             [
              0.2222222222222222,
              "#7201a8"
             ],
             [
              0.3333333333333333,
              "#9c179e"
             ],
             [
              0.4444444444444444,
              "#bd3786"
             ],
             [
              0.5555555555555556,
              "#d8576b"
             ],
             [
              0.6666666666666666,
              "#ed7953"
             ],
             [
              0.7777777777777778,
              "#fb9f3a"
             ],
             [
              0.8888888888888888,
              "#fdca26"
             ],
             [
              1,
              "#f0f921"
             ]
            ],
            "type": "heatmap"
           }
          ],
          "heatmapgl": [
           {
            "colorbar": {
             "outlinewidth": 0,
             "ticks": ""
            },
            "colorscale": [
             [
              0,
              "#0d0887"
             ],
             [
              0.1111111111111111,
              "#46039f"
             ],
             [
              0.2222222222222222,
              "#7201a8"
             ],
             [
              0.3333333333333333,
              "#9c179e"
             ],
             [
              0.4444444444444444,
              "#bd3786"
             ],
             [
              0.5555555555555556,
              "#d8576b"
             ],
             [
              0.6666666666666666,
              "#ed7953"
             ],
             [
              0.7777777777777778,
              "#fb9f3a"
             ],
             [
              0.8888888888888888,
              "#fdca26"
             ],
             [
              1,
              "#f0f921"
             ]
            ],
            "type": "heatmapgl"
           }
          ],
          "histogram": [
           {
            "marker": {
             "pattern": {
              "fillmode": "overlay",
              "size": 10,
              "solidity": 0.2
             }
            },
            "type": "histogram"
           }
          ],
          "histogram2d": [
           {
            "colorbar": {
             "outlinewidth": 0,
             "ticks": ""
            },
            "colorscale": [
             [
              0,
              "#0d0887"
             ],
             [
              0.1111111111111111,
              "#46039f"
             ],
             [
              0.2222222222222222,
              "#7201a8"
             ],
             [
              0.3333333333333333,
              "#9c179e"
             ],
             [
              0.4444444444444444,
              "#bd3786"
             ],
             [
              0.5555555555555556,
              "#d8576b"
             ],
             [
              0.6666666666666666,
              "#ed7953"
             ],
             [
              0.7777777777777778,
              "#fb9f3a"
             ],
             [
              0.8888888888888888,
              "#fdca26"
             ],
             [
              1,
              "#f0f921"
             ]
            ],
            "type": "histogram2d"
           }
          ],
          "histogram2dcontour": [
           {
            "colorbar": {
             "outlinewidth": 0,
             "ticks": ""
            },
            "colorscale": [
             [
              0,
              "#0d0887"
             ],
             [
              0.1111111111111111,
              "#46039f"
             ],
             [
              0.2222222222222222,
              "#7201a8"
             ],
             [
              0.3333333333333333,
              "#9c179e"
             ],
             [
              0.4444444444444444,
              "#bd3786"
             ],
             [
              0.5555555555555556,
              "#d8576b"
             ],
             [
              0.6666666666666666,
              "#ed7953"
             ],
             [
              0.7777777777777778,
              "#fb9f3a"
             ],
             [
              0.8888888888888888,
              "#fdca26"
             ],
             [
              1,
              "#f0f921"
             ]
            ],
            "type": "histogram2dcontour"
           }
          ],
          "mesh3d": [
           {
            "colorbar": {
             "outlinewidth": 0,
             "ticks": ""
            },
            "type": "mesh3d"
           }
          ],
          "parcoords": [
           {
            "line": {
             "colorbar": {
              "outlinewidth": 0,
              "ticks": ""
             }
            },
            "type": "parcoords"
           }
          ],
          "pie": [
           {
            "automargin": true,
            "type": "pie"
           }
          ],
          "scatter": [
           {
            "marker": {
             "colorbar": {
              "outlinewidth": 0,
              "ticks": ""
             }
            },
            "type": "scatter"
           }
          ],
          "scatter3d": [
           {
            "line": {
             "colorbar": {
              "outlinewidth": 0,
              "ticks": ""
             }
            },
            "marker": {
             "colorbar": {
              "outlinewidth": 0,
              "ticks": ""
             }
            },
            "type": "scatter3d"
           }
          ],
          "scattercarpet": [
           {
            "marker": {
             "colorbar": {
              "outlinewidth": 0,
              "ticks": ""
             }
            },
            "type": "scattercarpet"
           }
          ],
          "scattergeo": [
           {
            "marker": {
             "colorbar": {
              "outlinewidth": 0,
              "ticks": ""
             }
            },
            "type": "scattergeo"
           }
          ],
          "scattergl": [
           {
            "marker": {
             "colorbar": {
              "outlinewidth": 0,
              "ticks": ""
             }
            },
            "type": "scattergl"
           }
          ],
          "scattermapbox": [
           {
            "marker": {
             "colorbar": {
              "outlinewidth": 0,
              "ticks": ""
             }
            },
            "type": "scattermapbox"
           }
          ],
          "scatterpolar": [
           {
            "marker": {
             "colorbar": {
              "outlinewidth": 0,
              "ticks": ""
             }
            },
            "type": "scatterpolar"
           }
          ],
          "scatterpolargl": [
           {
            "marker": {
             "colorbar": {
              "outlinewidth": 0,
              "ticks": ""
             }
            },
            "type": "scatterpolargl"
           }
          ],
          "scatterternary": [
           {
            "marker": {
             "colorbar": {
              "outlinewidth": 0,
              "ticks": ""
             }
            },
            "type": "scatterternary"
           }
          ],
          "surface": [
           {
            "colorbar": {
             "outlinewidth": 0,
             "ticks": ""
            },
            "colorscale": [
             [
              0,
              "#0d0887"
             ],
             [
              0.1111111111111111,
              "#46039f"
             ],
             [
              0.2222222222222222,
              "#7201a8"
             ],
             [
              0.3333333333333333,
              "#9c179e"
             ],
             [
              0.4444444444444444,
              "#bd3786"
             ],
             [
              0.5555555555555556,
              "#d8576b"
             ],
             [
              0.6666666666666666,
              "#ed7953"
             ],
             [
              0.7777777777777778,
              "#fb9f3a"
             ],
             [
              0.8888888888888888,
              "#fdca26"
             ],
             [
              1,
              "#f0f921"
             ]
            ],
            "type": "surface"
           }
          ],
          "table": [
           {
            "cells": {
             "fill": {
              "color": "#EBF0F8"
             },
             "line": {
              "color": "white"
             }
            },
            "header": {
             "fill": {
              "color": "#C8D4E3"
             },
             "line": {
              "color": "white"
             }
            },
            "type": "table"
           }
          ]
         },
         "layout": {
          "annotationdefaults": {
           "arrowcolor": "#2a3f5f",
           "arrowhead": 0,
           "arrowwidth": 1
          },
          "autotypenumbers": "strict",
          "coloraxis": {
           "colorbar": {
            "outlinewidth": 0,
            "ticks": ""
           }
          },
          "colorscale": {
           "diverging": [
            [
             0,
             "#8e0152"
            ],
            [
             0.1,
             "#c51b7d"
            ],
            [
             0.2,
             "#de77ae"
            ],
            [
             0.3,
             "#f1b6da"
            ],
            [
             0.4,
             "#fde0ef"
            ],
            [
             0.5,
             "#f7f7f7"
            ],
            [
             0.6,
             "#e6f5d0"
            ],
            [
             0.7,
             "#b8e186"
            ],
            [
             0.8,
             "#7fbc41"
            ],
            [
             0.9,
             "#4d9221"
            ],
            [
             1,
             "#276419"
            ]
           ],
           "sequential": [
            [
             0,
             "#0d0887"
            ],
            [
             0.1111111111111111,
             "#46039f"
            ],
            [
             0.2222222222222222,
             "#7201a8"
            ],
            [
             0.3333333333333333,
             "#9c179e"
            ],
            [
             0.4444444444444444,
             "#bd3786"
            ],
            [
             0.5555555555555556,
             "#d8576b"
            ],
            [
             0.6666666666666666,
             "#ed7953"
            ],
            [
             0.7777777777777778,
             "#fb9f3a"
            ],
            [
             0.8888888888888888,
             "#fdca26"
            ],
            [
             1,
             "#f0f921"
            ]
           ],
           "sequentialminus": [
            [
             0,
             "#0d0887"
            ],
            [
             0.1111111111111111,
             "#46039f"
            ],
            [
             0.2222222222222222,
             "#7201a8"
            ],
            [
             0.3333333333333333,
             "#9c179e"
            ],
            [
             0.4444444444444444,
             "#bd3786"
            ],
            [
             0.5555555555555556,
             "#d8576b"
            ],
            [
             0.6666666666666666,
             "#ed7953"
            ],
            [
             0.7777777777777778,
             "#fb9f3a"
            ],
            [
             0.8888888888888888,
             "#fdca26"
            ],
            [
             1,
             "#f0f921"
            ]
           ]
          },
          "colorway": [
           "#636efa",
           "#EF553B",
           "#00cc96",
           "#ab63fa",
           "#FFA15A",
           "#19d3f3",
           "#FF6692",
           "#B6E880",
           "#FF97FF",
           "#FECB52"
          ],
          "font": {
           "color": "#2a3f5f"
          },
          "geo": {
           "bgcolor": "white",
           "lakecolor": "white",
           "landcolor": "#E5ECF6",
           "showlakes": true,
           "showland": true,
           "subunitcolor": "white"
          },
          "hoverlabel": {
           "align": "left"
          },
          "hovermode": "closest",
          "mapbox": {
           "style": "light"
          },
          "paper_bgcolor": "white",
          "plot_bgcolor": "#E5ECF6",
          "polar": {
           "angularaxis": {
            "gridcolor": "white",
            "linecolor": "white",
            "ticks": ""
           },
           "bgcolor": "#E5ECF6",
           "radialaxis": {
            "gridcolor": "white",
            "linecolor": "white",
            "ticks": ""
           }
          },
          "scene": {
           "xaxis": {
            "backgroundcolor": "#E5ECF6",
            "gridcolor": "white",
            "gridwidth": 2,
            "linecolor": "white",
            "showbackground": true,
            "ticks": "",
            "zerolinecolor": "white"
           },
           "yaxis": {
            "backgroundcolor": "#E5ECF6",
            "gridcolor": "white",
            "gridwidth": 2,
            "linecolor": "white",
            "showbackground": true,
            "ticks": "",
            "zerolinecolor": "white"
           },
           "zaxis": {
            "backgroundcolor": "#E5ECF6",
            "gridcolor": "white",
            "gridwidth": 2,
            "linecolor": "white",
            "showbackground": true,
            "ticks": "",
            "zerolinecolor": "white"
           }
          },
          "shapedefaults": {
           "line": {
            "color": "#2a3f5f"
           }
          },
          "ternary": {
           "aaxis": {
            "gridcolor": "white",
            "linecolor": "white",
            "ticks": ""
           },
           "baxis": {
            "gridcolor": "white",
            "linecolor": "white",
            "ticks": ""
           },
           "bgcolor": "#E5ECF6",
           "caxis": {
            "gridcolor": "white",
            "linecolor": "white",
            "ticks": ""
           }
          },
          "title": {
           "x": 0.05
          },
          "xaxis": {
           "automargin": true,
           "gridcolor": "white",
           "linecolor": "white",
           "ticks": "",
           "title": {
            "standoff": 15
           },
           "zerolinecolor": "white",
           "zerolinewidth": 2
          },
          "yaxis": {
           "automargin": true,
           "gridcolor": "white",
           "linecolor": "white",
           "ticks": "",
           "title": {
            "standoff": 15
           },
           "zerolinecolor": "white",
           "zerolinewidth": 2
          }
         }
        },
        "title": {
         "text": "Opiod Mortality rate in\tNJ"
        },
        "xaxis": {
         "anchor": "y",
         "domain": [
          0,
          1
         ],
         "title": {
          "text": "County"
         }
        },
        "yaxis": {
         "anchor": "x",
         "domain": [
          0,
          1
         ],
         "title": {
          "text": "sum of Norm_Deaths"
         }
        }
       }
      },
      "text/html": [
       "<div>                            <div id=\"09bccc01-52dc-4c40-9bf6-0fdb2c283f7c\" class=\"plotly-graph-div\" style=\"height:525px; width:100%;\"></div>            <script type=\"text/javascript\">                require([\"plotly\"], function(Plotly) {                    window.PLOTLYENV=window.PLOTLYENV || {};                                    if (document.getElementById(\"09bccc01-52dc-4c40-9bf6-0fdb2c283f7c\")) {                    Plotly.newPlot(                        \"09bccc01-52dc-4c40-9bf6-0fdb2c283f7c\",                        [{\"alignmentgroup\":\"True\",\"bingroup\":\"x\",\"histfunc\":\"sum\",\"hovertemplate\":\"Population=5630056<br>County=%{x}<br>sum of Norm_Deaths=%{y}<extra></extra>\",\"legendgroup\":\"5630056\",\"marker\":{\"color\":\"#636efa\",\"pattern\":{\"shape\":\"\"}},\"name\":\"5630056\",\"offsetgroup\":\"5630056\",\"orientation\":\"v\",\"showlegend\":true,\"x\":[\"Atlantic County, NJ\"],\"xaxis\":\"x\",\"y\":[20.141895569067167],\"yaxis\":\"y\",\"type\":\"histogram\"},{\"alignmentgroup\":\"True\",\"bingroup\":\"x\",\"histfunc\":\"sum\",\"hovertemplate\":\"Population=19085545<br>County=%{x}<br>sum of Norm_Deaths=%{y}<extra></extra>\",\"legendgroup\":\"19085545\",\"marker\":{\"color\":\"#EF553B\",\"pattern\":{\"shape\":\"\"}},\"name\":\"19085545\",\"offsetgroup\":\"19085545\",\"orientation\":\"v\",\"showlegend\":true,\"x\":[\"Bergen County, NJ\"],\"xaxis\":\"x\",\"y\":[6.853354200783892],\"yaxis\":\"y\",\"type\":\"histogram\"},{\"alignmentgroup\":\"True\",\"bingroup\":\"x\",\"histfunc\":\"sum\",\"hovertemplate\":\"Population=9325535<br>County=%{x}<br>sum of Norm_Deaths=%{y}<extra></extra>\",\"legendgroup\":\"9325535\",\"marker\":{\"color\":\"#00cc96\",\"pattern\":{\"shape\":\"\"}},\"name\":\"9325535\",\"offsetgroup\":\"9325535\",\"orientation\":\"v\",\"showlegend\":true,\"x\":[\"Burlington County, NJ\"],\"xaxis\":\"x\",\"y\":[13.929495734024911],\"yaxis\":\"y\",\"type\":\"histogram\"},{\"alignmentgroup\":\"True\",\"bingroup\":\"x\",\"histfunc\":\"sum\",\"hovertemplate\":\"Population=10727181<br>County=%{x}<br>sum of Norm_Deaths=%{y}<extra></extra>\",\"legendgroup\":\"10727181\",\"marker\":{\"color\":\"#ab63fa\",\"pattern\":{\"shape\":\"\"}},\"name\":\"10727181\",\"offsetgroup\":\"10727181\",\"orientation\":\"v\",\"showlegend\":true,\"x\":[\"Camden County, NJ\"],\"xaxis\":\"x\",\"y\":[23.156130207926946],\"yaxis\":\"y\",\"type\":\"histogram\"},{\"alignmentgroup\":\"True\",\"bingroup\":\"x\",\"histfunc\":\"sum\",\"hovertemplate\":\"Population=2049528<br>County=%{x}<br>sum of Norm_Deaths=%{y}<extra></extra>\",\"legendgroup\":\"2049528\",\"marker\":{\"color\":\"#FFA15A\",\"pattern\":{\"shape\":\"\"}},\"name\":\"2049528\",\"offsetgroup\":\"2049528\",\"orientation\":\"v\",\"showlegend\":true,\"x\":[\"Cape May County, NJ\"],\"xaxis\":\"x\",\"y\":[17.906561901081613],\"yaxis\":\"y\",\"type\":\"histogram\"},{\"alignmentgroup\":\"True\",\"bingroup\":\"x\",\"histfunc\":\"sum\",\"hovertemplate\":\"Population=3206088<br>County=%{x}<br>sum of Norm_Deaths=%{y}<extra></extra>\",\"legendgroup\":\"3206088\",\"marker\":{\"color\":\"#19d3f3\",\"pattern\":{\"shape\":\"\"}},\"name\":\"3206088\",\"offsetgroup\":\"3206088\",\"orientation\":\"v\",\"showlegend\":true,\"x\":[\"Cumberland County, NJ\"],\"xaxis\":\"x\",\"y\":[16.49985901821784],\"yaxis\":\"y\",\"type\":\"histogram\"},{\"alignmentgroup\":\"True\",\"bingroup\":\"x\",\"histfunc\":\"sum\",\"hovertemplate\":\"Population=16609705<br>County=%{x}<br>sum of Norm_Deaths=%{y}<extra></extra>\",\"legendgroup\":\"16609705\",\"marker\":{\"color\":\"#FF6692\",\"pattern\":{\"shape\":\"\"}},\"name\":\"16609705\",\"offsetgroup\":\"16609705\",\"orientation\":\"v\",\"showlegend\":true,\"x\":[\"Essex County, NJ\"],\"xaxis\":\"x\",\"y\":[14.569795189017505],\"yaxis\":\"y\",\"type\":\"histogram\"},{\"alignmentgroup\":\"True\",\"bingroup\":\"x\",\"histfunc\":\"sum\",\"hovertemplate\":\"Population=5887970<br>County=%{x}<br>sum of Norm_Deaths=%{y}<extra></extra>\",\"legendgroup\":\"5887970\",\"marker\":{\"color\":\"#B6E880\",\"pattern\":{\"shape\":\"\"}},\"name\":\"5887970\",\"offsetgroup\":\"5887970\",\"orientation\":\"v\",\"showlegend\":true,\"x\":[\"Gloucester County, NJ\"],\"xaxis\":\"x\",\"y\":[21.89209523825699],\"yaxis\":\"y\",\"type\":\"histogram\"},{\"alignmentgroup\":\"True\",\"bingroup\":\"x\",\"histfunc\":\"sum\",\"hovertemplate\":\"Population=13414657<br>County=%{x}<br>sum of Norm_Deaths=%{y}<extra></extra>\",\"legendgroup\":\"13414657\",\"marker\":{\"color\":\"#FF97FF\",\"pattern\":{\"shape\":\"\"}},\"name\":\"13414657\",\"offsetgroup\":\"13414657\",\"orientation\":\"v\",\"showlegend\":true,\"x\":[\"Hudson County, NJ\"],\"xaxis\":\"x\",\"y\":[9.228711550358685],\"yaxis\":\"y\",\"type\":\"histogram\"},{\"alignmentgroup\":\"True\",\"bingroup\":\"x\",\"histfunc\":\"sum\",\"hovertemplate\":\"Population=2649638<br>County=%{x}<br>sum of Norm_Deaths=%{y}<extra></extra>\",\"legendgroup\":\"2649638\",\"marker\":{\"color\":\"#FECB52\",\"pattern\":{\"shape\":\"\"}},\"name\":\"2649638\",\"offsetgroup\":\"2649638\",\"orientation\":\"v\",\"showlegend\":true,\"x\":[\"Hunterdon County, NJ\"],\"xaxis\":\"x\",\"y\":[6.453711790063397],\"yaxis\":\"y\",\"type\":\"histogram\"},{\"alignmentgroup\":\"True\",\"bingroup\":\"x\",\"histfunc\":\"sum\",\"hovertemplate\":\"Population=7644594<br>County=%{x}<br>sum of Norm_Deaths=%{y}<extra></extra>\",\"legendgroup\":\"7644594\",\"marker\":{\"color\":\"#636efa\",\"pattern\":{\"shape\":\"\"}},\"name\":\"7644594\",\"offsetgroup\":\"7644594\",\"orientation\":\"v\",\"showlegend\":true,\"x\":[\"Mercer County, NJ\"],\"xaxis\":\"x\",\"y\":[10.177126476566315],\"yaxis\":\"y\",\"type\":\"histogram\"},{\"alignmentgroup\":\"True\",\"bingroup\":\"x\",\"histfunc\":\"sum\",\"hovertemplate\":\"Population=16839581<br>County=%{x}<br>sum of Norm_Deaths=%{y}<extra></extra>\",\"legendgroup\":\"16839581\",\"marker\":{\"color\":\"#EF553B\",\"pattern\":{\"shape\":\"\"}},\"name\":\"16839581\",\"offsetgroup\":\"16839581\",\"orientation\":\"v\",\"showlegend\":true,\"x\":[\"Middlesex County, NJ\"],\"xaxis\":\"x\",\"y\":[10.053694328855332],\"yaxis\":\"y\",\"type\":\"histogram\"},{\"alignmentgroup\":\"True\",\"bingroup\":\"x\",\"histfunc\":\"sum\",\"hovertemplate\":\"Population=13135454<br>County=%{x}<br>sum of Norm_Deaths=%{y}<extra></extra>\",\"legendgroup\":\"13135454\",\"marker\":{\"color\":\"#00cc96\",\"pattern\":{\"shape\":\"\"}},\"name\":\"13135454\",\"offsetgroup\":\"13135454\",\"orientation\":\"v\",\"showlegend\":true,\"x\":[\"Monmouth County, NJ\"],\"xaxis\":\"x\",\"y\":[11.92954579263115],\"yaxis\":\"y\",\"type\":\"histogram\"},{\"alignmentgroup\":\"True\",\"bingroup\":\"x\",\"histfunc\":\"sum\",\"hovertemplate\":\"Population=10263544<br>County=%{x}<br>sum of Norm_Deaths=%{y}<extra></extra>\",\"legendgroup\":\"10263544\",\"marker\":{\"color\":\"#ab63fa\",\"pattern\":{\"shape\":\"\"}},\"name\":\"10263544\",\"offsetgroup\":\"10263544\",\"orientation\":\"v\",\"showlegend\":true,\"x\":[\"Morris County, NJ\"],\"xaxis\":\"x\",\"y\":[7.979699799601385],\"yaxis\":\"y\",\"type\":\"histogram\"},{\"alignmentgroup\":\"True\",\"bingroup\":\"x\",\"histfunc\":\"sum\",\"hovertemplate\":\"Population=11890101<br>County=%{x}<br>sum of Norm_Deaths=%{y}<extra></extra>\",\"legendgroup\":\"11890101\",\"marker\":{\"color\":\"#FFA15A\",\"pattern\":{\"shape\":\"\"}},\"name\":\"11890101\",\"offsetgroup\":\"11890101\",\"orientation\":\"v\",\"showlegend\":true,\"x\":[\"Ocean County, NJ\"],\"xaxis\":\"x\",\"y\":[15.40777492134003],\"yaxis\":\"y\",\"type\":\"histogram\"},{\"alignmentgroup\":\"True\",\"bingroup\":\"x\",\"histfunc\":\"sum\",\"hovertemplate\":\"Population=10483910<br>County=%{x}<br>sum of Norm_Deaths=%{y}<extra></extra>\",\"legendgroup\":\"10483910\",\"marker\":{\"color\":\"#19d3f3\",\"pattern\":{\"shape\":\"\"}},\"name\":\"10483910\",\"offsetgroup\":\"10483910\",\"orientation\":\"v\",\"showlegend\":true,\"x\":[\"Passaic County, NJ\"],\"xaxis\":\"x\",\"y\":[10.425499646601317],\"yaxis\":\"y\",\"type\":\"histogram\"},{\"alignmentgroup\":\"True\",\"bingroup\":\"x\",\"histfunc\":\"sum\",\"hovertemplate\":\"Population=1358731<br>County=%{x}<br>sum of Norm_Deaths=%{y}<extra></extra>\",\"legendgroup\":\"1358731\",\"marker\":{\"color\":\"#FF6692\",\"pattern\":{\"shape\":\"\"}},\"name\":\"1358731\",\"offsetgroup\":\"1358731\",\"orientation\":\"v\",\"showlegend\":true,\"x\":[\"Salem County, NJ\"],\"xaxis\":\"x\",\"y\":[19.57709068240881],\"yaxis\":\"y\",\"type\":\"histogram\"},{\"alignmentgroup\":\"True\",\"bingroup\":\"x\",\"histfunc\":\"sum\",\"hovertemplate\":\"Population=6703802<br>County=%{x}<br>sum of Norm_Deaths=%{y}<extra></extra>\",\"legendgroup\":\"6703802\",\"marker\":{\"color\":\"#B6E880\",\"pattern\":{\"shape\":\"\"}},\"name\":\"6703802\",\"offsetgroup\":\"6703802\",\"orientation\":\"v\",\"showlegend\":true,\"x\":[\"Somerset County, NJ\"],\"xaxis\":\"x\",\"y\":[7.219783639194595],\"yaxis\":\"y\",\"type\":\"histogram\"},{\"alignmentgroup\":\"True\",\"bingroup\":\"x\",\"histfunc\":\"sum\",\"hovertemplate\":\"Population=3076019<br>County=%{x}<br>sum of Norm_Deaths=%{y}<extra></extra>\",\"legendgroup\":\"3076019\",\"marker\":{\"color\":\"#FF97FF\",\"pattern\":{\"shape\":\"\"}},\"name\":\"3076019\",\"offsetgroup\":\"3076019\",\"orientation\":\"v\",\"showlegend\":true,\"x\":[\"Sussex County, NJ\"],\"xaxis\":\"x\",\"y\":[11.345833689583843],\"yaxis\":\"y\",\"type\":\"histogram\"},{\"alignmentgroup\":\"True\",\"bingroup\":\"x\",\"histfunc\":\"sum\",\"hovertemplate\":\"Population=11298333<br>County=%{x}<br>sum of Norm_Deaths=%{y}<extra></extra>\",\"legendgroup\":\"11298333\",\"marker\":{\"color\":\"#FECB52\",\"pattern\":{\"shape\":\"\"}},\"name\":\"11298333\",\"offsetgroup\":\"11298333\",\"orientation\":\"v\",\"showlegend\":true,\"x\":[\"Union County, NJ\"],\"xaxis\":\"x\",\"y\":[8.54993387077545],\"yaxis\":\"y\",\"type\":\"histogram\"},{\"alignmentgroup\":\"True\",\"bingroup\":\"x\",\"histfunc\":\"sum\",\"hovertemplate\":\"Population=2247466<br>County=%{x}<br>sum of Norm_Deaths=%{y}<extra></extra>\",\"legendgroup\":\"2247466\",\"marker\":{\"color\":\"#636efa\",\"pattern\":{\"shape\":\"\"}},\"name\":\"2247466\",\"offsetgroup\":\"2247466\",\"orientation\":\"v\",\"showlegend\":true,\"x\":[\"Warren County, NJ\"],\"xaxis\":\"x\",\"y\":[11.257122465923846],\"yaxis\":\"y\",\"type\":\"histogram\"}],                        {\"template\":{\"data\":{\"bar\":[{\"error_x\":{\"color\":\"#2a3f5f\"},\"error_y\":{\"color\":\"#2a3f5f\"},\"marker\":{\"line\":{\"color\":\"#E5ECF6\",\"width\":0.5},\"pattern\":{\"fillmode\":\"overlay\",\"size\":10,\"solidity\":0.2}},\"type\":\"bar\"}],\"barpolar\":[{\"marker\":{\"line\":{\"color\":\"#E5ECF6\",\"width\":0.5},\"pattern\":{\"fillmode\":\"overlay\",\"size\":10,\"solidity\":0.2}},\"type\":\"barpolar\"}],\"carpet\":[{\"aaxis\":{\"endlinecolor\":\"#2a3f5f\",\"gridcolor\":\"white\",\"linecolor\":\"white\",\"minorgridcolor\":\"white\",\"startlinecolor\":\"#2a3f5f\"},\"baxis\":{\"endlinecolor\":\"#2a3f5f\",\"gridcolor\":\"white\",\"linecolor\":\"white\",\"minorgridcolor\":\"white\",\"startlinecolor\":\"#2a3f5f\"},\"type\":\"carpet\"}],\"choropleth\":[{\"colorbar\":{\"outlinewidth\":0,\"ticks\":\"\"},\"type\":\"choropleth\"}],\"contour\":[{\"colorbar\":{\"outlinewidth\":0,\"ticks\":\"\"},\"colorscale\":[[0.0,\"#0d0887\"],[0.1111111111111111,\"#46039f\"],[0.2222222222222222,\"#7201a8\"],[0.3333333333333333,\"#9c179e\"],[0.4444444444444444,\"#bd3786\"],[0.5555555555555556,\"#d8576b\"],[0.6666666666666666,\"#ed7953\"],[0.7777777777777778,\"#fb9f3a\"],[0.8888888888888888,\"#fdca26\"],[1.0,\"#f0f921\"]],\"type\":\"contour\"}],\"contourcarpet\":[{\"colorbar\":{\"outlinewidth\":0,\"ticks\":\"\"},\"type\":\"contourcarpet\"}],\"heatmap\":[{\"colorbar\":{\"outlinewidth\":0,\"ticks\":\"\"},\"colorscale\":[[0.0,\"#0d0887\"],[0.1111111111111111,\"#46039f\"],[0.2222222222222222,\"#7201a8\"],[0.3333333333333333,\"#9c179e\"],[0.4444444444444444,\"#bd3786\"],[0.5555555555555556,\"#d8576b\"],[0.6666666666666666,\"#ed7953\"],[0.7777777777777778,\"#fb9f3a\"],[0.8888888888888888,\"#fdca26\"],[1.0,\"#f0f921\"]],\"type\":\"heatmap\"}],\"heatmapgl\":[{\"colorbar\":{\"outlinewidth\":0,\"ticks\":\"\"},\"colorscale\":[[0.0,\"#0d0887\"],[0.1111111111111111,\"#46039f\"],[0.2222222222222222,\"#7201a8\"],[0.3333333333333333,\"#9c179e\"],[0.4444444444444444,\"#bd3786\"],[0.5555555555555556,\"#d8576b\"],[0.6666666666666666,\"#ed7953\"],[0.7777777777777778,\"#fb9f3a\"],[0.8888888888888888,\"#fdca26\"],[1.0,\"#f0f921\"]],\"type\":\"heatmapgl\"}],\"histogram\":[{\"marker\":{\"pattern\":{\"fillmode\":\"overlay\",\"size\":10,\"solidity\":0.2}},\"type\":\"histogram\"}],\"histogram2d\":[{\"colorbar\":{\"outlinewidth\":0,\"ticks\":\"\"},\"colorscale\":[[0.0,\"#0d0887\"],[0.1111111111111111,\"#46039f\"],[0.2222222222222222,\"#7201a8\"],[0.3333333333333333,\"#9c179e\"],[0.4444444444444444,\"#bd3786\"],[0.5555555555555556,\"#d8576b\"],[0.6666666666666666,\"#ed7953\"],[0.7777777777777778,\"#fb9f3a\"],[0.8888888888888888,\"#fdca26\"],[1.0,\"#f0f921\"]],\"type\":\"histogram2d\"}],\"histogram2dcontour\":[{\"colorbar\":{\"outlinewidth\":0,\"ticks\":\"\"},\"colorscale\":[[0.0,\"#0d0887\"],[0.1111111111111111,\"#46039f\"],[0.2222222222222222,\"#7201a8\"],[0.3333333333333333,\"#9c179e\"],[0.4444444444444444,\"#bd3786\"],[0.5555555555555556,\"#d8576b\"],[0.6666666666666666,\"#ed7953\"],[0.7777777777777778,\"#fb9f3a\"],[0.8888888888888888,\"#fdca26\"],[1.0,\"#f0f921\"]],\"type\":\"histogram2dcontour\"}],\"mesh3d\":[{\"colorbar\":{\"outlinewidth\":0,\"ticks\":\"\"},\"type\":\"mesh3d\"}],\"parcoords\":[{\"line\":{\"colorbar\":{\"outlinewidth\":0,\"ticks\":\"\"}},\"type\":\"parcoords\"}],\"pie\":[{\"automargin\":true,\"type\":\"pie\"}],\"scatter\":[{\"marker\":{\"colorbar\":{\"outlinewidth\":0,\"ticks\":\"\"}},\"type\":\"scatter\"}],\"scatter3d\":[{\"line\":{\"colorbar\":{\"outlinewidth\":0,\"ticks\":\"\"}},\"marker\":{\"colorbar\":{\"outlinewidth\":0,\"ticks\":\"\"}},\"type\":\"scatter3d\"}],\"scattercarpet\":[{\"marker\":{\"colorbar\":{\"outlinewidth\":0,\"ticks\":\"\"}},\"type\":\"scattercarpet\"}],\"scattergeo\":[{\"marker\":{\"colorbar\":{\"outlinewidth\":0,\"ticks\":\"\"}},\"type\":\"scattergeo\"}],\"scattergl\":[{\"marker\":{\"colorbar\":{\"outlinewidth\":0,\"ticks\":\"\"}},\"type\":\"scattergl\"}],\"scattermapbox\":[{\"marker\":{\"colorbar\":{\"outlinewidth\":0,\"ticks\":\"\"}},\"type\":\"scattermapbox\"}],\"scatterpolar\":[{\"marker\":{\"colorbar\":{\"outlinewidth\":0,\"ticks\":\"\"}},\"type\":\"scatterpolar\"}],\"scatterpolargl\":[{\"marker\":{\"colorbar\":{\"outlinewidth\":0,\"ticks\":\"\"}},\"type\":\"scatterpolargl\"}],\"scatterternary\":[{\"marker\":{\"colorbar\":{\"outlinewidth\":0,\"ticks\":\"\"}},\"type\":\"scatterternary\"}],\"surface\":[{\"colorbar\":{\"outlinewidth\":0,\"ticks\":\"\"},\"colorscale\":[[0.0,\"#0d0887\"],[0.1111111111111111,\"#46039f\"],[0.2222222222222222,\"#7201a8\"],[0.3333333333333333,\"#9c179e\"],[0.4444444444444444,\"#bd3786\"],[0.5555555555555556,\"#d8576b\"],[0.6666666666666666,\"#ed7953\"],[0.7777777777777778,\"#fb9f3a\"],[0.8888888888888888,\"#fdca26\"],[1.0,\"#f0f921\"]],\"type\":\"surface\"}],\"table\":[{\"cells\":{\"fill\":{\"color\":\"#EBF0F8\"},\"line\":{\"color\":\"white\"}},\"header\":{\"fill\":{\"color\":\"#C8D4E3\"},\"line\":{\"color\":\"white\"}},\"type\":\"table\"}]},\"layout\":{\"annotationdefaults\":{\"arrowcolor\":\"#2a3f5f\",\"arrowhead\":0,\"arrowwidth\":1},\"autotypenumbers\":\"strict\",\"coloraxis\":{\"colorbar\":{\"outlinewidth\":0,\"ticks\":\"\"}},\"colorscale\":{\"diverging\":[[0,\"#8e0152\"],[0.1,\"#c51b7d\"],[0.2,\"#de77ae\"],[0.3,\"#f1b6da\"],[0.4,\"#fde0ef\"],[0.5,\"#f7f7f7\"],[0.6,\"#e6f5d0\"],[0.7,\"#b8e186\"],[0.8,\"#7fbc41\"],[0.9,\"#4d9221\"],[1,\"#276419\"]],\"sequential\":[[0.0,\"#0d0887\"],[0.1111111111111111,\"#46039f\"],[0.2222222222222222,\"#7201a8\"],[0.3333333333333333,\"#9c179e\"],[0.4444444444444444,\"#bd3786\"],[0.5555555555555556,\"#d8576b\"],[0.6666666666666666,\"#ed7953\"],[0.7777777777777778,\"#fb9f3a\"],[0.8888888888888888,\"#fdca26\"],[1.0,\"#f0f921\"]],\"sequentialminus\":[[0.0,\"#0d0887\"],[0.1111111111111111,\"#46039f\"],[0.2222222222222222,\"#7201a8\"],[0.3333333333333333,\"#9c179e\"],[0.4444444444444444,\"#bd3786\"],[0.5555555555555556,\"#d8576b\"],[0.6666666666666666,\"#ed7953\"],[0.7777777777777778,\"#fb9f3a\"],[0.8888888888888888,\"#fdca26\"],[1.0,\"#f0f921\"]]},\"colorway\":[\"#636efa\",\"#EF553B\",\"#00cc96\",\"#ab63fa\",\"#FFA15A\",\"#19d3f3\",\"#FF6692\",\"#B6E880\",\"#FF97FF\",\"#FECB52\"],\"font\":{\"color\":\"#2a3f5f\"},\"geo\":{\"bgcolor\":\"white\",\"lakecolor\":\"white\",\"landcolor\":\"#E5ECF6\",\"showlakes\":true,\"showland\":true,\"subunitcolor\":\"white\"},\"hoverlabel\":{\"align\":\"left\"},\"hovermode\":\"closest\",\"mapbox\":{\"style\":\"light\"},\"paper_bgcolor\":\"white\",\"plot_bgcolor\":\"#E5ECF6\",\"polar\":{\"angularaxis\":{\"gridcolor\":\"white\",\"linecolor\":\"white\",\"ticks\":\"\"},\"bgcolor\":\"#E5ECF6\",\"radialaxis\":{\"gridcolor\":\"white\",\"linecolor\":\"white\",\"ticks\":\"\"}},\"scene\":{\"xaxis\":{\"backgroundcolor\":\"#E5ECF6\",\"gridcolor\":\"white\",\"gridwidth\":2,\"linecolor\":\"white\",\"showbackground\":true,\"ticks\":\"\",\"zerolinecolor\":\"white\"},\"yaxis\":{\"backgroundcolor\":\"#E5ECF6\",\"gridcolor\":\"white\",\"gridwidth\":2,\"linecolor\":\"white\",\"showbackground\":true,\"ticks\":\"\",\"zerolinecolor\":\"white\"},\"zaxis\":{\"backgroundcolor\":\"#E5ECF6\",\"gridcolor\":\"white\",\"gridwidth\":2,\"linecolor\":\"white\",\"showbackground\":true,\"ticks\":\"\",\"zerolinecolor\":\"white\"}},\"shapedefaults\":{\"line\":{\"color\":\"#2a3f5f\"}},\"ternary\":{\"aaxis\":{\"gridcolor\":\"white\",\"linecolor\":\"white\",\"ticks\":\"\"},\"baxis\":{\"gridcolor\":\"white\",\"linecolor\":\"white\",\"ticks\":\"\"},\"bgcolor\":\"#E5ECF6\",\"caxis\":{\"gridcolor\":\"white\",\"linecolor\":\"white\",\"ticks\":\"\"}},\"title\":{\"x\":0.05},\"xaxis\":{\"automargin\":true,\"gridcolor\":\"white\",\"linecolor\":\"white\",\"ticks\":\"\",\"title\":{\"standoff\":15},\"zerolinecolor\":\"white\",\"zerolinewidth\":2},\"yaxis\":{\"automargin\":true,\"gridcolor\":\"white\",\"linecolor\":\"white\",\"ticks\":\"\",\"title\":{\"standoff\":15},\"zerolinecolor\":\"white\",\"zerolinewidth\":2}}},\"xaxis\":{\"anchor\":\"y\",\"domain\":[0.0,1.0],\"title\":{\"text\":\"County\"}},\"yaxis\":{\"anchor\":\"x\",\"domain\":[0.0,1.0],\"title\":{\"text\":\"sum of Norm_Deaths\"}},\"legend\":{\"title\":{\"text\":\"Population\"},\"tracegroupgap\":0},\"title\":{\"text\":\"Opiod Mortality rate in\\tNJ\"},\"barmode\":\"relative\"},                        {\"responsive\": true}                    ).then(function(){\n",
       "                            \n",
       "var gd = document.getElementById('09bccc01-52dc-4c40-9bf6-0fdb2c283f7c');\n",
       "var x = new MutationObserver(function (mutations, observer) {{\n",
       "        var display = window.getComputedStyle(gd).display;\n",
       "        if (!display || display === 'none') {{\n",
       "            console.log([gd, 'removed!']);\n",
       "            Plotly.purge(gd);\n",
       "            observer.disconnect();\n",
       "        }}\n",
       "}});\n",
       "\n",
       "// Listen for the removal of the full notebook cells\n",
       "var notebookContainer = gd.closest('#notebook-container');\n",
       "if (notebookContainer) {{\n",
       "    x.observe(notebookContainer, {childList: true});\n",
       "}}\n",
       "\n",
       "// Listen for the clearing of the current output cell\n",
       "var outputEl = gd.closest('.output');\n",
       "if (outputEl) {{\n",
       "    x.observe(outputEl, {childList: true});\n",
       "}}\n",
       "\n",
       "                        })                };                });            </script>        </div>"
      ]
     },
     "metadata": {},
     "output_type": "display_data"
    },
    {
     "name": "stdout",
     "output_type": "stream",
     "text": [
      "The Number of counties in-NJ : 21\n",
      "Top-10 counties with highest mortatlity rate in state-NJ are:\n",
      " 309         Camden County, NJ\n",
      "851     Gloucester County, NJ\n",
      "86        Atlantic County, NJ\n",
      "2005         Salem County, NJ\n",
      "322       Cape May County, NJ\n",
      "568     Cumberland County, NJ\n",
      "1697         Ocean County, NJ\n",
      "719          Essex County, NJ\n",
      "269     Burlington County, NJ\n",
      "1562      Monmouth County, NJ\n",
      "Name: County, dtype: object\n"
     ]
    },
    {
     "data": {
      "application/vnd.plotly.v1+json": {
       "config": {
        "plotlyServerURL": "https://plot.ly"
       },
       "data": [
        {
         "alignmentgroup": "True",
         "bingroup": "x",
         "histfunc": "sum",
         "hovertemplate": "Population=12923833<br>County=%{x}<br>sum of Norm_Deaths=%{y}<extra></extra>",
         "legendgroup": "12923833",
         "marker": {
          "color": "#636efa",
          "pattern": {
           "shape": ""
          }
         },
         "name": "12923833",
         "offsetgroup": "12923833",
         "orientation": "v",
         "showlegend": true,
         "type": "histogram",
         "x": [
          "District of Columbia, DC"
         ],
         "xaxis": "x",
         "y": [
          16.566292678031356
         ],
         "yaxis": "y"
        }
       ],
       "layout": {
        "barmode": "relative",
        "legend": {
         "title": {
          "text": "Population"
         },
         "tracegroupgap": 0
        },
        "template": {
         "data": {
          "bar": [
           {
            "error_x": {
             "color": "#2a3f5f"
            },
            "error_y": {
             "color": "#2a3f5f"
            },
            "marker": {
             "line": {
              "color": "#E5ECF6",
              "width": 0.5
             },
             "pattern": {
              "fillmode": "overlay",
              "size": 10,
              "solidity": 0.2
             }
            },
            "type": "bar"
           }
          ],
          "barpolar": [
           {
            "marker": {
             "line": {
              "color": "#E5ECF6",
              "width": 0.5
             },
             "pattern": {
              "fillmode": "overlay",
              "size": 10,
              "solidity": 0.2
             }
            },
            "type": "barpolar"
           }
          ],
          "carpet": [
           {
            "aaxis": {
             "endlinecolor": "#2a3f5f",
             "gridcolor": "white",
             "linecolor": "white",
             "minorgridcolor": "white",
             "startlinecolor": "#2a3f5f"
            },
            "baxis": {
             "endlinecolor": "#2a3f5f",
             "gridcolor": "white",
             "linecolor": "white",
             "minorgridcolor": "white",
             "startlinecolor": "#2a3f5f"
            },
            "type": "carpet"
           }
          ],
          "choropleth": [
           {
            "colorbar": {
             "outlinewidth": 0,
             "ticks": ""
            },
            "type": "choropleth"
           }
          ],
          "contour": [
           {
            "colorbar": {
             "outlinewidth": 0,
             "ticks": ""
            },
            "colorscale": [
             [
              0,
              "#0d0887"
             ],
             [
              0.1111111111111111,
              "#46039f"
             ],
             [
              0.2222222222222222,
              "#7201a8"
             ],
             [
              0.3333333333333333,
              "#9c179e"
             ],
             [
              0.4444444444444444,
              "#bd3786"
             ],
             [
              0.5555555555555556,
              "#d8576b"
             ],
             [
              0.6666666666666666,
              "#ed7953"
             ],
             [
              0.7777777777777778,
              "#fb9f3a"
             ],
             [
              0.8888888888888888,
              "#fdca26"
             ],
             [
              1,
              "#f0f921"
             ]
            ],
            "type": "contour"
           }
          ],
          "contourcarpet": [
           {
            "colorbar": {
             "outlinewidth": 0,
             "ticks": ""
            },
            "type": "contourcarpet"
           }
          ],
          "heatmap": [
           {
            "colorbar": {
             "outlinewidth": 0,
             "ticks": ""
            },
            "colorscale": [
             [
              0,
              "#0d0887"
             ],
             [
              0.1111111111111111,
              "#46039f"
             ],
             [
              0.2222222222222222,
              "#7201a8"
             ],
             [
              0.3333333333333333,
              "#9c179e"
             ],
             [
              0.4444444444444444,
              "#bd3786"
             ],
             [
              0.5555555555555556,
              "#d8576b"
             ],
             [
              0.6666666666666666,
              "#ed7953"
             ],
             [
              0.7777777777777778,
              "#fb9f3a"
             ],
             [
              0.8888888888888888,
              "#fdca26"
             ],
             [
              1,
              "#f0f921"
             ]
            ],
            "type": "heatmap"
           }
          ],
          "heatmapgl": [
           {
            "colorbar": {
             "outlinewidth": 0,
             "ticks": ""
            },
            "colorscale": [
             [
              0,
              "#0d0887"
             ],
             [
              0.1111111111111111,
              "#46039f"
             ],
             [
              0.2222222222222222,
              "#7201a8"
             ],
             [
              0.3333333333333333,
              "#9c179e"
             ],
             [
              0.4444444444444444,
              "#bd3786"
             ],
             [
              0.5555555555555556,
              "#d8576b"
             ],
             [
              0.6666666666666666,
              "#ed7953"
             ],
             [
              0.7777777777777778,
              "#fb9f3a"
             ],
             [
              0.8888888888888888,
              "#fdca26"
             ],
             [
              1,
              "#f0f921"
             ]
            ],
            "type": "heatmapgl"
           }
          ],
          "histogram": [
           {
            "marker": {
             "pattern": {
              "fillmode": "overlay",
              "size": 10,
              "solidity": 0.2
             }
            },
            "type": "histogram"
           }
          ],
          "histogram2d": [
           {
            "colorbar": {
             "outlinewidth": 0,
             "ticks": ""
            },
            "colorscale": [
             [
              0,
              "#0d0887"
             ],
             [
              0.1111111111111111,
              "#46039f"
             ],
             [
              0.2222222222222222,
              "#7201a8"
             ],
             [
              0.3333333333333333,
              "#9c179e"
             ],
             [
              0.4444444444444444,
              "#bd3786"
             ],
             [
              0.5555555555555556,
              "#d8576b"
             ],
             [
              0.6666666666666666,
              "#ed7953"
             ],
             [
              0.7777777777777778,
              "#fb9f3a"
             ],
             [
              0.8888888888888888,
              "#fdca26"
             ],
             [
              1,
              "#f0f921"
             ]
            ],
            "type": "histogram2d"
           }
          ],
          "histogram2dcontour": [
           {
            "colorbar": {
             "outlinewidth": 0,
             "ticks": ""
            },
            "colorscale": [
             [
              0,
              "#0d0887"
             ],
             [
              0.1111111111111111,
              "#46039f"
             ],
             [
              0.2222222222222222,
              "#7201a8"
             ],
             [
              0.3333333333333333,
              "#9c179e"
             ],
             [
              0.4444444444444444,
              "#bd3786"
             ],
             [
              0.5555555555555556,
              "#d8576b"
             ],
             [
              0.6666666666666666,
              "#ed7953"
             ],
             [
              0.7777777777777778,
              "#fb9f3a"
             ],
             [
              0.8888888888888888,
              "#fdca26"
             ],
             [
              1,
              "#f0f921"
             ]
            ],
            "type": "histogram2dcontour"
           }
          ],
          "mesh3d": [
           {
            "colorbar": {
             "outlinewidth": 0,
             "ticks": ""
            },
            "type": "mesh3d"
           }
          ],
          "parcoords": [
           {
            "line": {
             "colorbar": {
              "outlinewidth": 0,
              "ticks": ""
             }
            },
            "type": "parcoords"
           }
          ],
          "pie": [
           {
            "automargin": true,
            "type": "pie"
           }
          ],
          "scatter": [
           {
            "marker": {
             "colorbar": {
              "outlinewidth": 0,
              "ticks": ""
             }
            },
            "type": "scatter"
           }
          ],
          "scatter3d": [
           {
            "line": {
             "colorbar": {
              "outlinewidth": 0,
              "ticks": ""
             }
            },
            "marker": {
             "colorbar": {
              "outlinewidth": 0,
              "ticks": ""
             }
            },
            "type": "scatter3d"
           }
          ],
          "scattercarpet": [
           {
            "marker": {
             "colorbar": {
              "outlinewidth": 0,
              "ticks": ""
             }
            },
            "type": "scattercarpet"
           }
          ],
          "scattergeo": [
           {
            "marker": {
             "colorbar": {
              "outlinewidth": 0,
              "ticks": ""
             }
            },
            "type": "scattergeo"
           }
          ],
          "scattergl": [
           {
            "marker": {
             "colorbar": {
              "outlinewidth": 0,
              "ticks": ""
             }
            },
            "type": "scattergl"
           }
          ],
          "scattermapbox": [
           {
            "marker": {
             "colorbar": {
              "outlinewidth": 0,
              "ticks": ""
             }
            },
            "type": "scattermapbox"
           }
          ],
          "scatterpolar": [
           {
            "marker": {
             "colorbar": {
              "outlinewidth": 0,
              "ticks": ""
             }
            },
            "type": "scatterpolar"
           }
          ],
          "scatterpolargl": [
           {
            "marker": {
             "colorbar": {
              "outlinewidth": 0,
              "ticks": ""
             }
            },
            "type": "scatterpolargl"
           }
          ],
          "scatterternary": [
           {
            "marker": {
             "colorbar": {
              "outlinewidth": 0,
              "ticks": ""
             }
            },
            "type": "scatterternary"
           }
          ],
          "surface": [
           {
            "colorbar": {
             "outlinewidth": 0,
             "ticks": ""
            },
            "colorscale": [
             [
              0,
              "#0d0887"
             ],
             [
              0.1111111111111111,
              "#46039f"
             ],
             [
              0.2222222222222222,
              "#7201a8"
             ],
             [
              0.3333333333333333,
              "#9c179e"
             ],
             [
              0.4444444444444444,
              "#bd3786"
             ],
             [
              0.5555555555555556,
              "#d8576b"
             ],
             [
              0.6666666666666666,
              "#ed7953"
             ],
             [
              0.7777777777777778,
              "#fb9f3a"
             ],
             [
              0.8888888888888888,
              "#fdca26"
             ],
             [
              1,
              "#f0f921"
             ]
            ],
            "type": "surface"
           }
          ],
          "table": [
           {
            "cells": {
             "fill": {
              "color": "#EBF0F8"
             },
             "line": {
              "color": "white"
             }
            },
            "header": {
             "fill": {
              "color": "#C8D4E3"
             },
             "line": {
              "color": "white"
             }
            },
            "type": "table"
           }
          ]
         },
         "layout": {
          "annotationdefaults": {
           "arrowcolor": "#2a3f5f",
           "arrowhead": 0,
           "arrowwidth": 1
          },
          "autotypenumbers": "strict",
          "coloraxis": {
           "colorbar": {
            "outlinewidth": 0,
            "ticks": ""
           }
          },
          "colorscale": {
           "diverging": [
            [
             0,
             "#8e0152"
            ],
            [
             0.1,
             "#c51b7d"
            ],
            [
             0.2,
             "#de77ae"
            ],
            [
             0.3,
             "#f1b6da"
            ],
            [
             0.4,
             "#fde0ef"
            ],
            [
             0.5,
             "#f7f7f7"
            ],
            [
             0.6,
             "#e6f5d0"
            ],
            [
             0.7,
             "#b8e186"
            ],
            [
             0.8,
             "#7fbc41"
            ],
            [
             0.9,
             "#4d9221"
            ],
            [
             1,
             "#276419"
            ]
           ],
           "sequential": [
            [
             0,
             "#0d0887"
            ],
            [
             0.1111111111111111,
             "#46039f"
            ],
            [
             0.2222222222222222,
             "#7201a8"
            ],
            [
             0.3333333333333333,
             "#9c179e"
            ],
            [
             0.4444444444444444,
             "#bd3786"
            ],
            [
             0.5555555555555556,
             "#d8576b"
            ],
            [
             0.6666666666666666,
             "#ed7953"
            ],
            [
             0.7777777777777778,
             "#fb9f3a"
            ],
            [
             0.8888888888888888,
             "#fdca26"
            ],
            [
             1,
             "#f0f921"
            ]
           ],
           "sequentialminus": [
            [
             0,
             "#0d0887"
            ],
            [
             0.1111111111111111,
             "#46039f"
            ],
            [
             0.2222222222222222,
             "#7201a8"
            ],
            [
             0.3333333333333333,
             "#9c179e"
            ],
            [
             0.4444444444444444,
             "#bd3786"
            ],
            [
             0.5555555555555556,
             "#d8576b"
            ],
            [
             0.6666666666666666,
             "#ed7953"
            ],
            [
             0.7777777777777778,
             "#fb9f3a"
            ],
            [
             0.8888888888888888,
             "#fdca26"
            ],
            [
             1,
             "#f0f921"
            ]
           ]
          },
          "colorway": [
           "#636efa",
           "#EF553B",
           "#00cc96",
           "#ab63fa",
           "#FFA15A",
           "#19d3f3",
           "#FF6692",
           "#B6E880",
           "#FF97FF",
           "#FECB52"
          ],
          "font": {
           "color": "#2a3f5f"
          },
          "geo": {
           "bgcolor": "white",
           "lakecolor": "white",
           "landcolor": "#E5ECF6",
           "showlakes": true,
           "showland": true,
           "subunitcolor": "white"
          },
          "hoverlabel": {
           "align": "left"
          },
          "hovermode": "closest",
          "mapbox": {
           "style": "light"
          },
          "paper_bgcolor": "white",
          "plot_bgcolor": "#E5ECF6",
          "polar": {
           "angularaxis": {
            "gridcolor": "white",
            "linecolor": "white",
            "ticks": ""
           },
           "bgcolor": "#E5ECF6",
           "radialaxis": {
            "gridcolor": "white",
            "linecolor": "white",
            "ticks": ""
           }
          },
          "scene": {
           "xaxis": {
            "backgroundcolor": "#E5ECF6",
            "gridcolor": "white",
            "gridwidth": 2,
            "linecolor": "white",
            "showbackground": true,
            "ticks": "",
            "zerolinecolor": "white"
           },
           "yaxis": {
            "backgroundcolor": "#E5ECF6",
            "gridcolor": "white",
            "gridwidth": 2,
            "linecolor": "white",
            "showbackground": true,
            "ticks": "",
            "zerolinecolor": "white"
           },
           "zaxis": {
            "backgroundcolor": "#E5ECF6",
            "gridcolor": "white",
            "gridwidth": 2,
            "linecolor": "white",
            "showbackground": true,
            "ticks": "",
            "zerolinecolor": "white"
           }
          },
          "shapedefaults": {
           "line": {
            "color": "#2a3f5f"
           }
          },
          "ternary": {
           "aaxis": {
            "gridcolor": "white",
            "linecolor": "white",
            "ticks": ""
           },
           "baxis": {
            "gridcolor": "white",
            "linecolor": "white",
            "ticks": ""
           },
           "bgcolor": "#E5ECF6",
           "caxis": {
            "gridcolor": "white",
            "linecolor": "white",
            "ticks": ""
           }
          },
          "title": {
           "x": 0.05
          },
          "xaxis": {
           "automargin": true,
           "gridcolor": "white",
           "linecolor": "white",
           "ticks": "",
           "title": {
            "standoff": 15
           },
           "zerolinecolor": "white",
           "zerolinewidth": 2
          },
          "yaxis": {
           "automargin": true,
           "gridcolor": "white",
           "linecolor": "white",
           "ticks": "",
           "title": {
            "standoff": 15
           },
           "zerolinecolor": "white",
           "zerolinewidth": 2
          }
         }
        },
        "title": {
         "text": "Opiod Mortality rate in\tDC"
        },
        "xaxis": {
         "anchor": "y",
         "domain": [
          0,
          1
         ],
         "title": {
          "text": "County"
         }
        },
        "yaxis": {
         "anchor": "x",
         "domain": [
          0,
          1
         ],
         "title": {
          "text": "sum of Norm_Deaths"
         }
        }
       }
      },
      "text/html": [
       "<div>                            <div id=\"df500e4b-379a-4707-9bda-413826247234\" class=\"plotly-graph-div\" style=\"height:525px; width:100%;\"></div>            <script type=\"text/javascript\">                require([\"plotly\"], function(Plotly) {                    window.PLOTLYENV=window.PLOTLYENV || {};                                    if (document.getElementById(\"df500e4b-379a-4707-9bda-413826247234\")) {                    Plotly.newPlot(                        \"df500e4b-379a-4707-9bda-413826247234\",                        [{\"alignmentgroup\":\"True\",\"bingroup\":\"x\",\"histfunc\":\"sum\",\"hovertemplate\":\"Population=12923833<br>County=%{x}<br>sum of Norm_Deaths=%{y}<extra></extra>\",\"legendgroup\":\"12923833\",\"marker\":{\"color\":\"#636efa\",\"pattern\":{\"shape\":\"\"}},\"name\":\"12923833\",\"offsetgroup\":\"12923833\",\"orientation\":\"v\",\"showlegend\":true,\"x\":[\"District of Columbia, DC\"],\"xaxis\":\"x\",\"y\":[16.566292678031356],\"yaxis\":\"y\",\"type\":\"histogram\"}],                        {\"template\":{\"data\":{\"bar\":[{\"error_x\":{\"color\":\"#2a3f5f\"},\"error_y\":{\"color\":\"#2a3f5f\"},\"marker\":{\"line\":{\"color\":\"#E5ECF6\",\"width\":0.5},\"pattern\":{\"fillmode\":\"overlay\",\"size\":10,\"solidity\":0.2}},\"type\":\"bar\"}],\"barpolar\":[{\"marker\":{\"line\":{\"color\":\"#E5ECF6\",\"width\":0.5},\"pattern\":{\"fillmode\":\"overlay\",\"size\":10,\"solidity\":0.2}},\"type\":\"barpolar\"}],\"carpet\":[{\"aaxis\":{\"endlinecolor\":\"#2a3f5f\",\"gridcolor\":\"white\",\"linecolor\":\"white\",\"minorgridcolor\":\"white\",\"startlinecolor\":\"#2a3f5f\"},\"baxis\":{\"endlinecolor\":\"#2a3f5f\",\"gridcolor\":\"white\",\"linecolor\":\"white\",\"minorgridcolor\":\"white\",\"startlinecolor\":\"#2a3f5f\"},\"type\":\"carpet\"}],\"choropleth\":[{\"colorbar\":{\"outlinewidth\":0,\"ticks\":\"\"},\"type\":\"choropleth\"}],\"contour\":[{\"colorbar\":{\"outlinewidth\":0,\"ticks\":\"\"},\"colorscale\":[[0.0,\"#0d0887\"],[0.1111111111111111,\"#46039f\"],[0.2222222222222222,\"#7201a8\"],[0.3333333333333333,\"#9c179e\"],[0.4444444444444444,\"#bd3786\"],[0.5555555555555556,\"#d8576b\"],[0.6666666666666666,\"#ed7953\"],[0.7777777777777778,\"#fb9f3a\"],[0.8888888888888888,\"#fdca26\"],[1.0,\"#f0f921\"]],\"type\":\"contour\"}],\"contourcarpet\":[{\"colorbar\":{\"outlinewidth\":0,\"ticks\":\"\"},\"type\":\"contourcarpet\"}],\"heatmap\":[{\"colorbar\":{\"outlinewidth\":0,\"ticks\":\"\"},\"colorscale\":[[0.0,\"#0d0887\"],[0.1111111111111111,\"#46039f\"],[0.2222222222222222,\"#7201a8\"],[0.3333333333333333,\"#9c179e\"],[0.4444444444444444,\"#bd3786\"],[0.5555555555555556,\"#d8576b\"],[0.6666666666666666,\"#ed7953\"],[0.7777777777777778,\"#fb9f3a\"],[0.8888888888888888,\"#fdca26\"],[1.0,\"#f0f921\"]],\"type\":\"heatmap\"}],\"heatmapgl\":[{\"colorbar\":{\"outlinewidth\":0,\"ticks\":\"\"},\"colorscale\":[[0.0,\"#0d0887\"],[0.1111111111111111,\"#46039f\"],[0.2222222222222222,\"#7201a8\"],[0.3333333333333333,\"#9c179e\"],[0.4444444444444444,\"#bd3786\"],[0.5555555555555556,\"#d8576b\"],[0.6666666666666666,\"#ed7953\"],[0.7777777777777778,\"#fb9f3a\"],[0.8888888888888888,\"#fdca26\"],[1.0,\"#f0f921\"]],\"type\":\"heatmapgl\"}],\"histogram\":[{\"marker\":{\"pattern\":{\"fillmode\":\"overlay\",\"size\":10,\"solidity\":0.2}},\"type\":\"histogram\"}],\"histogram2d\":[{\"colorbar\":{\"outlinewidth\":0,\"ticks\":\"\"},\"colorscale\":[[0.0,\"#0d0887\"],[0.1111111111111111,\"#46039f\"],[0.2222222222222222,\"#7201a8\"],[0.3333333333333333,\"#9c179e\"],[0.4444444444444444,\"#bd3786\"],[0.5555555555555556,\"#d8576b\"],[0.6666666666666666,\"#ed7953\"],[0.7777777777777778,\"#fb9f3a\"],[0.8888888888888888,\"#fdca26\"],[1.0,\"#f0f921\"]],\"type\":\"histogram2d\"}],\"histogram2dcontour\":[{\"colorbar\":{\"outlinewidth\":0,\"ticks\":\"\"},\"colorscale\":[[0.0,\"#0d0887\"],[0.1111111111111111,\"#46039f\"],[0.2222222222222222,\"#7201a8\"],[0.3333333333333333,\"#9c179e\"],[0.4444444444444444,\"#bd3786\"],[0.5555555555555556,\"#d8576b\"],[0.6666666666666666,\"#ed7953\"],[0.7777777777777778,\"#fb9f3a\"],[0.8888888888888888,\"#fdca26\"],[1.0,\"#f0f921\"]],\"type\":\"histogram2dcontour\"}],\"mesh3d\":[{\"colorbar\":{\"outlinewidth\":0,\"ticks\":\"\"},\"type\":\"mesh3d\"}],\"parcoords\":[{\"line\":{\"colorbar\":{\"outlinewidth\":0,\"ticks\":\"\"}},\"type\":\"parcoords\"}],\"pie\":[{\"automargin\":true,\"type\":\"pie\"}],\"scatter\":[{\"marker\":{\"colorbar\":{\"outlinewidth\":0,\"ticks\":\"\"}},\"type\":\"scatter\"}],\"scatter3d\":[{\"line\":{\"colorbar\":{\"outlinewidth\":0,\"ticks\":\"\"}},\"marker\":{\"colorbar\":{\"outlinewidth\":0,\"ticks\":\"\"}},\"type\":\"scatter3d\"}],\"scattercarpet\":[{\"marker\":{\"colorbar\":{\"outlinewidth\":0,\"ticks\":\"\"}},\"type\":\"scattercarpet\"}],\"scattergeo\":[{\"marker\":{\"colorbar\":{\"outlinewidth\":0,\"ticks\":\"\"}},\"type\":\"scattergeo\"}],\"scattergl\":[{\"marker\":{\"colorbar\":{\"outlinewidth\":0,\"ticks\":\"\"}},\"type\":\"scattergl\"}],\"scattermapbox\":[{\"marker\":{\"colorbar\":{\"outlinewidth\":0,\"ticks\":\"\"}},\"type\":\"scattermapbox\"}],\"scatterpolar\":[{\"marker\":{\"colorbar\":{\"outlinewidth\":0,\"ticks\":\"\"}},\"type\":\"scatterpolar\"}],\"scatterpolargl\":[{\"marker\":{\"colorbar\":{\"outlinewidth\":0,\"ticks\":\"\"}},\"type\":\"scatterpolargl\"}],\"scatterternary\":[{\"marker\":{\"colorbar\":{\"outlinewidth\":0,\"ticks\":\"\"}},\"type\":\"scatterternary\"}],\"surface\":[{\"colorbar\":{\"outlinewidth\":0,\"ticks\":\"\"},\"colorscale\":[[0.0,\"#0d0887\"],[0.1111111111111111,\"#46039f\"],[0.2222222222222222,\"#7201a8\"],[0.3333333333333333,\"#9c179e\"],[0.4444444444444444,\"#bd3786\"],[0.5555555555555556,\"#d8576b\"],[0.6666666666666666,\"#ed7953\"],[0.7777777777777778,\"#fb9f3a\"],[0.8888888888888888,\"#fdca26\"],[1.0,\"#f0f921\"]],\"type\":\"surface\"}],\"table\":[{\"cells\":{\"fill\":{\"color\":\"#EBF0F8\"},\"line\":{\"color\":\"white\"}},\"header\":{\"fill\":{\"color\":\"#C8D4E3\"},\"line\":{\"color\":\"white\"}},\"type\":\"table\"}]},\"layout\":{\"annotationdefaults\":{\"arrowcolor\":\"#2a3f5f\",\"arrowhead\":0,\"arrowwidth\":1},\"autotypenumbers\":\"strict\",\"coloraxis\":{\"colorbar\":{\"outlinewidth\":0,\"ticks\":\"\"}},\"colorscale\":{\"diverging\":[[0,\"#8e0152\"],[0.1,\"#c51b7d\"],[0.2,\"#de77ae\"],[0.3,\"#f1b6da\"],[0.4,\"#fde0ef\"],[0.5,\"#f7f7f7\"],[0.6,\"#e6f5d0\"],[0.7,\"#b8e186\"],[0.8,\"#7fbc41\"],[0.9,\"#4d9221\"],[1,\"#276419\"]],\"sequential\":[[0.0,\"#0d0887\"],[0.1111111111111111,\"#46039f\"],[0.2222222222222222,\"#7201a8\"],[0.3333333333333333,\"#9c179e\"],[0.4444444444444444,\"#bd3786\"],[0.5555555555555556,\"#d8576b\"],[0.6666666666666666,\"#ed7953\"],[0.7777777777777778,\"#fb9f3a\"],[0.8888888888888888,\"#fdca26\"],[1.0,\"#f0f921\"]],\"sequentialminus\":[[0.0,\"#0d0887\"],[0.1111111111111111,\"#46039f\"],[0.2222222222222222,\"#7201a8\"],[0.3333333333333333,\"#9c179e\"],[0.4444444444444444,\"#bd3786\"],[0.5555555555555556,\"#d8576b\"],[0.6666666666666666,\"#ed7953\"],[0.7777777777777778,\"#fb9f3a\"],[0.8888888888888888,\"#fdca26\"],[1.0,\"#f0f921\"]]},\"colorway\":[\"#636efa\",\"#EF553B\",\"#00cc96\",\"#ab63fa\",\"#FFA15A\",\"#19d3f3\",\"#FF6692\",\"#B6E880\",\"#FF97FF\",\"#FECB52\"],\"font\":{\"color\":\"#2a3f5f\"},\"geo\":{\"bgcolor\":\"white\",\"lakecolor\":\"white\",\"landcolor\":\"#E5ECF6\",\"showlakes\":true,\"showland\":true,\"subunitcolor\":\"white\"},\"hoverlabel\":{\"align\":\"left\"},\"hovermode\":\"closest\",\"mapbox\":{\"style\":\"light\"},\"paper_bgcolor\":\"white\",\"plot_bgcolor\":\"#E5ECF6\",\"polar\":{\"angularaxis\":{\"gridcolor\":\"white\",\"linecolor\":\"white\",\"ticks\":\"\"},\"bgcolor\":\"#E5ECF6\",\"radialaxis\":{\"gridcolor\":\"white\",\"linecolor\":\"white\",\"ticks\":\"\"}},\"scene\":{\"xaxis\":{\"backgroundcolor\":\"#E5ECF6\",\"gridcolor\":\"white\",\"gridwidth\":2,\"linecolor\":\"white\",\"showbackground\":true,\"ticks\":\"\",\"zerolinecolor\":\"white\"},\"yaxis\":{\"backgroundcolor\":\"#E5ECF6\",\"gridcolor\":\"white\",\"gridwidth\":2,\"linecolor\":\"white\",\"showbackground\":true,\"ticks\":\"\",\"zerolinecolor\":\"white\"},\"zaxis\":{\"backgroundcolor\":\"#E5ECF6\",\"gridcolor\":\"white\",\"gridwidth\":2,\"linecolor\":\"white\",\"showbackground\":true,\"ticks\":\"\",\"zerolinecolor\":\"white\"}},\"shapedefaults\":{\"line\":{\"color\":\"#2a3f5f\"}},\"ternary\":{\"aaxis\":{\"gridcolor\":\"white\",\"linecolor\":\"white\",\"ticks\":\"\"},\"baxis\":{\"gridcolor\":\"white\",\"linecolor\":\"white\",\"ticks\":\"\"},\"bgcolor\":\"#E5ECF6\",\"caxis\":{\"gridcolor\":\"white\",\"linecolor\":\"white\",\"ticks\":\"\"}},\"title\":{\"x\":0.05},\"xaxis\":{\"automargin\":true,\"gridcolor\":\"white\",\"linecolor\":\"white\",\"ticks\":\"\",\"title\":{\"standoff\":15},\"zerolinecolor\":\"white\",\"zerolinewidth\":2},\"yaxis\":{\"automargin\":true,\"gridcolor\":\"white\",\"linecolor\":\"white\",\"ticks\":\"\",\"title\":{\"standoff\":15},\"zerolinecolor\":\"white\",\"zerolinewidth\":2}}},\"xaxis\":{\"anchor\":\"y\",\"domain\":[0.0,1.0],\"title\":{\"text\":\"County\"}},\"yaxis\":{\"anchor\":\"x\",\"domain\":[0.0,1.0],\"title\":{\"text\":\"sum of Norm_Deaths\"}},\"legend\":{\"title\":{\"text\":\"Population\"},\"tracegroupgap\":0},\"title\":{\"text\":\"Opiod Mortality rate in\\tDC\"},\"barmode\":\"relative\"},                        {\"responsive\": true}                    ).then(function(){\n",
       "                            \n",
       "var gd = document.getElementById('df500e4b-379a-4707-9bda-413826247234');\n",
       "var x = new MutationObserver(function (mutations, observer) {{\n",
       "        var display = window.getComputedStyle(gd).display;\n",
       "        if (!display || display === 'none') {{\n",
       "            console.log([gd, 'removed!']);\n",
       "            Plotly.purge(gd);\n",
       "            observer.disconnect();\n",
       "        }}\n",
       "}});\n",
       "\n",
       "// Listen for the removal of the full notebook cells\n",
       "var notebookContainer = gd.closest('#notebook-container');\n",
       "if (notebookContainer) {{\n",
       "    x.observe(notebookContainer, {childList: true});\n",
       "}}\n",
       "\n",
       "// Listen for the clearing of the current output cell\n",
       "var outputEl = gd.closest('.output');\n",
       "if (outputEl) {{\n",
       "    x.observe(outputEl, {childList: true});\n",
       "}}\n",
       "\n",
       "                        })                };                });            </script>        </div>"
      ]
     },
     "metadata": {},
     "output_type": "display_data"
    },
    {
     "name": "stdout",
     "output_type": "stream",
     "text": [
      "The Number of counties in-DC : 1\n",
      "Top-10 counties with highest mortatlity rate in state-DC are:\n",
      " 643    District of Columbia, DC\n",
      "Name: County, dtype: object\n"
     ]
    },
    {
     "data": {
      "application/vnd.plotly.v1+json": {
       "config": {
        "plotlyServerURL": "https://plot.ly"
       },
       "data": [
        {
         "alignmentgroup": "True",
         "bingroup": "x",
         "histfunc": "sum",
         "hovertemplate": "Population=1254278<br>County=%{x}<br>sum of Norm_Deaths=%{y}<extra></extra>",
         "legendgroup": "1254278",
         "marker": {
          "color": "#636efa",
          "pattern": {
           "shape": ""
          }
         },
         "name": "1254278",
         "offsetgroup": "1254278",
         "orientation": "v",
         "showlegend": true,
         "type": "histogram",
         "x": [
          "Belknap County, NH"
         ],
         "xaxis": "x",
         "y": [
          15.865701224130536
         ],
         "yaxis": "y"
        },
        {
         "alignmentgroup": "True",
         "bingroup": "x",
         "histfunc": "sum",
         "hovertemplate": "Population=983877<br>County=%{x}<br>sum of Norm_Deaths=%{y}<extra></extra>",
         "legendgroup": "983877",
         "marker": {
          "color": "#EF553B",
          "pattern": {
           "shape": ""
          }
         },
         "name": "983877",
         "offsetgroup": "983877",
         "orientation": "v",
         "showlegend": true,
         "type": "histogram",
         "x": [
          "Carroll County, NH"
         ],
         "xaxis": "x",
         "y": [
          14.127782232941719
         ],
         "yaxis": "y"
        },
        {
         "alignmentgroup": "True",
         "bingroup": "x",
         "histfunc": "sum",
         "hovertemplate": "Population=1600605<br>County=%{x}<br>sum of Norm_Deaths=%{y}<extra></extra>",
         "legendgroup": "1600605",
         "marker": {
          "color": "#00cc96",
          "pattern": {
           "shape": ""
          }
         },
         "name": "1600605",
         "offsetgroup": "1600605",
         "orientation": "v",
         "showlegend": true,
         "type": "histogram",
         "x": [
          "Cheshire County, NH"
         ],
         "xaxis": "x",
         "y": [
          11.74555871061255
         ],
         "yaxis": "y"
        },
        {
         "alignmentgroup": "True",
         "bingroup": "x",
         "histfunc": "sum",
         "hovertemplate": "Population=687155<br>County=%{x}<br>sum of Norm_Deaths=%{y}<extra></extra>",
         "legendgroup": "687155",
         "marker": {
          "color": "#ab63fa",
          "pattern": {
           "shape": ""
          }
         },
         "name": "687155",
         "offsetgroup": "687155",
         "orientation": "v",
         "showlegend": true,
         "type": "histogram",
         "x": [
          "Coos County, NH"
         ],
         "xaxis": "x",
         "y": [
          14.261702236031173
         ],
         "yaxis": "y"
        },
        {
         "alignmentgroup": "True",
         "bingroup": "x",
         "histfunc": "sum",
         "hovertemplate": "Population=1830771<br>County=%{x}<br>sum of Norm_Deaths=%{y}<extra></extra>",
         "legendgroup": "1830771",
         "marker": {
          "color": "#FFA15A",
          "pattern": {
           "shape": ""
          }
         },
         "name": "1830771",
         "offsetgroup": "1830771",
         "orientation": "v",
         "showlegend": true,
         "type": "histogram",
         "x": [
          "Grafton County, NH"
         ],
         "xaxis": "x",
         "y": [
          8.084025801151537
         ],
         "yaxis": "y"
        },
        {
         "alignmentgroup": "True",
         "bingroup": "x",
         "histfunc": "sum",
         "hovertemplate": "Population=8384229<br>County=%{x}<br>sum of Norm_Deaths=%{y}<extra></extra>",
         "legendgroup": "8384229",
         "marker": {
          "color": "#19d3f3",
          "pattern": {
           "shape": ""
          }
         },
         "name": "8384229",
         "offsetgroup": "8384229",
         "orientation": "v",
         "showlegend": true,
         "type": "histogram",
         "x": [
          "Hillsborough County, NH"
         ],
         "xaxis": "x",
         "y": [
          16.411765470623475
         ],
         "yaxis": "y"
        },
        {
         "alignmentgroup": "True",
         "bingroup": "x",
         "histfunc": "sum",
         "hovertemplate": "Population=3051099<br>County=%{x}<br>sum of Norm_Deaths=%{y}<extra></extra>",
         "legendgroup": "3051099",
         "marker": {
          "color": "#FF6692",
          "pattern": {
           "shape": ""
          }
         },
         "name": "3051099",
         "offsetgroup": "3051099",
         "orientation": "v",
         "showlegend": true,
         "type": "histogram",
         "x": [
          "Merrimack County, NH"
         ],
         "xaxis": "x",
         "y": [
          12.388978528720306
         ],
         "yaxis": "y"
        },
        {
         "alignmentgroup": "True",
         "bingroup": "x",
         "histfunc": "sum",
         "hovertemplate": "Population=6185718<br>County=%{x}<br>sum of Norm_Deaths=%{y}<extra></extra>",
         "legendgroup": "6185718",
         "marker": {
          "color": "#B6E880",
          "pattern": {
           "shape": ""
          }
         },
         "name": "6185718",
         "offsetgroup": "6185718",
         "orientation": "v",
         "showlegend": true,
         "type": "histogram",
         "x": [
          "Rockingham County, NH"
         ],
         "xaxis": "x",
         "y": [
          13.01384899861261
         ],
         "yaxis": "y"
        },
        {
         "alignmentgroup": "True",
         "bingroup": "x",
         "histfunc": "sum",
         "hovertemplate": "Population=2559404<br>County=%{x}<br>sum of Norm_Deaths=%{y}<extra></extra>",
         "legendgroup": "2559404",
         "marker": {
          "color": "#FF97FF",
          "pattern": {
           "shape": ""
          }
         },
         "name": "2559404",
         "offsetgroup": "2559404",
         "orientation": "v",
         "showlegend": true,
         "type": "histogram",
         "x": [
          "Strafford County, NH"
         ],
         "xaxis": "x",
         "y": [
          15.902139716902843
         ],
         "yaxis": "y"
        },
        {
         "alignmentgroup": "True",
         "bingroup": "x",
         "histfunc": "sum",
         "hovertemplate": "Population=896681<br>County=%{x}<br>sum of Norm_Deaths=%{y}<extra></extra>",
         "legendgroup": "896681",
         "marker": {
          "color": "#FECB52",
          "pattern": {
           "shape": ""
          }
         },
         "name": "896681",
         "offsetgroup": "896681",
         "orientation": "v",
         "showlegend": true,
         "type": "histogram",
         "x": [
          "Sullivan County, NH"
         ],
         "xaxis": "x",
         "y": [
          10.260059039948432
         ],
         "yaxis": "y"
        }
       ],
       "layout": {
        "barmode": "relative",
        "legend": {
         "title": {
          "text": "Population"
         },
         "tracegroupgap": 0
        },
        "template": {
         "data": {
          "bar": [
           {
            "error_x": {
             "color": "#2a3f5f"
            },
            "error_y": {
             "color": "#2a3f5f"
            },
            "marker": {
             "line": {
              "color": "#E5ECF6",
              "width": 0.5
             },
             "pattern": {
              "fillmode": "overlay",
              "size": 10,
              "solidity": 0.2
             }
            },
            "type": "bar"
           }
          ],
          "barpolar": [
           {
            "marker": {
             "line": {
              "color": "#E5ECF6",
              "width": 0.5
             },
             "pattern": {
              "fillmode": "overlay",
              "size": 10,
              "solidity": 0.2
             }
            },
            "type": "barpolar"
           }
          ],
          "carpet": [
           {
            "aaxis": {
             "endlinecolor": "#2a3f5f",
             "gridcolor": "white",
             "linecolor": "white",
             "minorgridcolor": "white",
             "startlinecolor": "#2a3f5f"
            },
            "baxis": {
             "endlinecolor": "#2a3f5f",
             "gridcolor": "white",
             "linecolor": "white",
             "minorgridcolor": "white",
             "startlinecolor": "#2a3f5f"
            },
            "type": "carpet"
           }
          ],
          "choropleth": [
           {
            "colorbar": {
             "outlinewidth": 0,
             "ticks": ""
            },
            "type": "choropleth"
           }
          ],
          "contour": [
           {
            "colorbar": {
             "outlinewidth": 0,
             "ticks": ""
            },
            "colorscale": [
             [
              0,
              "#0d0887"
             ],
             [
              0.1111111111111111,
              "#46039f"
             ],
             [
              0.2222222222222222,
              "#7201a8"
             ],
             [
              0.3333333333333333,
              "#9c179e"
             ],
             [
              0.4444444444444444,
              "#bd3786"
             ],
             [
              0.5555555555555556,
              "#d8576b"
             ],
             [
              0.6666666666666666,
              "#ed7953"
             ],
             [
              0.7777777777777778,
              "#fb9f3a"
             ],
             [
              0.8888888888888888,
              "#fdca26"
             ],
             [
              1,
              "#f0f921"
             ]
            ],
            "type": "contour"
           }
          ],
          "contourcarpet": [
           {
            "colorbar": {
             "outlinewidth": 0,
             "ticks": ""
            },
            "type": "contourcarpet"
           }
          ],
          "heatmap": [
           {
            "colorbar": {
             "outlinewidth": 0,
             "ticks": ""
            },
            "colorscale": [
             [
              0,
              "#0d0887"
             ],
             [
              0.1111111111111111,
              "#46039f"
             ],
             [
              0.2222222222222222,
              "#7201a8"
             ],
             [
              0.3333333333333333,
              "#9c179e"
             ],
             [
              0.4444444444444444,
              "#bd3786"
             ],
             [
              0.5555555555555556,
              "#d8576b"
             ],
             [
              0.6666666666666666,
              "#ed7953"
             ],
             [
              0.7777777777777778,
              "#fb9f3a"
             ],
             [
              0.8888888888888888,
              "#fdca26"
             ],
             [
              1,
              "#f0f921"
             ]
            ],
            "type": "heatmap"
           }
          ],
          "heatmapgl": [
           {
            "colorbar": {
             "outlinewidth": 0,
             "ticks": ""
            },
            "colorscale": [
             [
              0,
              "#0d0887"
             ],
             [
              0.1111111111111111,
              "#46039f"
             ],
             [
              0.2222222222222222,
              "#7201a8"
             ],
             [
              0.3333333333333333,
              "#9c179e"
             ],
             [
              0.4444444444444444,
              "#bd3786"
             ],
             [
              0.5555555555555556,
              "#d8576b"
             ],
             [
              0.6666666666666666,
              "#ed7953"
             ],
             [
              0.7777777777777778,
              "#fb9f3a"
             ],
             [
              0.8888888888888888,
              "#fdca26"
             ],
             [
              1,
              "#f0f921"
             ]
            ],
            "type": "heatmapgl"
           }
          ],
          "histogram": [
           {
            "marker": {
             "pattern": {
              "fillmode": "overlay",
              "size": 10,
              "solidity": 0.2
             }
            },
            "type": "histogram"
           }
          ],
          "histogram2d": [
           {
            "colorbar": {
             "outlinewidth": 0,
             "ticks": ""
            },
            "colorscale": [
             [
              0,
              "#0d0887"
             ],
             [
              0.1111111111111111,
              "#46039f"
             ],
             [
              0.2222222222222222,
              "#7201a8"
             ],
             [
              0.3333333333333333,
              "#9c179e"
             ],
             [
              0.4444444444444444,
              "#bd3786"
             ],
             [
              0.5555555555555556,
              "#d8576b"
             ],
             [
              0.6666666666666666,
              "#ed7953"
             ],
             [
              0.7777777777777778,
              "#fb9f3a"
             ],
             [
              0.8888888888888888,
              "#fdca26"
             ],
             [
              1,
              "#f0f921"
             ]
            ],
            "type": "histogram2d"
           }
          ],
          "histogram2dcontour": [
           {
            "colorbar": {
             "outlinewidth": 0,
             "ticks": ""
            },
            "colorscale": [
             [
              0,
              "#0d0887"
             ],
             [
              0.1111111111111111,
              "#46039f"
             ],
             [
              0.2222222222222222,
              "#7201a8"
             ],
             [
              0.3333333333333333,
              "#9c179e"
             ],
             [
              0.4444444444444444,
              "#bd3786"
             ],
             [
              0.5555555555555556,
              "#d8576b"
             ],
             [
              0.6666666666666666,
              "#ed7953"
             ],
             [
              0.7777777777777778,
              "#fb9f3a"
             ],
             [
              0.8888888888888888,
              "#fdca26"
             ],
             [
              1,
              "#f0f921"
             ]
            ],
            "type": "histogram2dcontour"
           }
          ],
          "mesh3d": [
           {
            "colorbar": {
             "outlinewidth": 0,
             "ticks": ""
            },
            "type": "mesh3d"
           }
          ],
          "parcoords": [
           {
            "line": {
             "colorbar": {
              "outlinewidth": 0,
              "ticks": ""
             }
            },
            "type": "parcoords"
           }
          ],
          "pie": [
           {
            "automargin": true,
            "type": "pie"
           }
          ],
          "scatter": [
           {
            "marker": {
             "colorbar": {
              "outlinewidth": 0,
              "ticks": ""
             }
            },
            "type": "scatter"
           }
          ],
          "scatter3d": [
           {
            "line": {
             "colorbar": {
              "outlinewidth": 0,
              "ticks": ""
             }
            },
            "marker": {
             "colorbar": {
              "outlinewidth": 0,
              "ticks": ""
             }
            },
            "type": "scatter3d"
           }
          ],
          "scattercarpet": [
           {
            "marker": {
             "colorbar": {
              "outlinewidth": 0,
              "ticks": ""
             }
            },
            "type": "scattercarpet"
           }
          ],
          "scattergeo": [
           {
            "marker": {
             "colorbar": {
              "outlinewidth": 0,
              "ticks": ""
             }
            },
            "type": "scattergeo"
           }
          ],
          "scattergl": [
           {
            "marker": {
             "colorbar": {
              "outlinewidth": 0,
              "ticks": ""
             }
            },
            "type": "scattergl"
           }
          ],
          "scattermapbox": [
           {
            "marker": {
             "colorbar": {
              "outlinewidth": 0,
              "ticks": ""
             }
            },
            "type": "scattermapbox"
           }
          ],
          "scatterpolar": [
           {
            "marker": {
             "colorbar": {
              "outlinewidth": 0,
              "ticks": ""
             }
            },
            "type": "scatterpolar"
           }
          ],
          "scatterpolargl": [
           {
            "marker": {
             "colorbar": {
              "outlinewidth": 0,
              "ticks": ""
             }
            },
            "type": "scatterpolargl"
           }
          ],
          "scatterternary": [
           {
            "marker": {
             "colorbar": {
              "outlinewidth": 0,
              "ticks": ""
             }
            },
            "type": "scatterternary"
           }
          ],
          "surface": [
           {
            "colorbar": {
             "outlinewidth": 0,
             "ticks": ""
            },
            "colorscale": [
             [
              0,
              "#0d0887"
             ],
             [
              0.1111111111111111,
              "#46039f"
             ],
             [
              0.2222222222222222,
              "#7201a8"
             ],
             [
              0.3333333333333333,
              "#9c179e"
             ],
             [
              0.4444444444444444,
              "#bd3786"
             ],
             [
              0.5555555555555556,
              "#d8576b"
             ],
             [
              0.6666666666666666,
              "#ed7953"
             ],
             [
              0.7777777777777778,
              "#fb9f3a"
             ],
             [
              0.8888888888888888,
              "#fdca26"
             ],
             [
              1,
              "#f0f921"
             ]
            ],
            "type": "surface"
           }
          ],
          "table": [
           {
            "cells": {
             "fill": {
              "color": "#EBF0F8"
             },
             "line": {
              "color": "white"
             }
            },
            "header": {
             "fill": {
              "color": "#C8D4E3"
             },
             "line": {
              "color": "white"
             }
            },
            "type": "table"
           }
          ]
         },
         "layout": {
          "annotationdefaults": {
           "arrowcolor": "#2a3f5f",
           "arrowhead": 0,
           "arrowwidth": 1
          },
          "autotypenumbers": "strict",
          "coloraxis": {
           "colorbar": {
            "outlinewidth": 0,
            "ticks": ""
           }
          },
          "colorscale": {
           "diverging": [
            [
             0,
             "#8e0152"
            ],
            [
             0.1,
             "#c51b7d"
            ],
            [
             0.2,
             "#de77ae"
            ],
            [
             0.3,
             "#f1b6da"
            ],
            [
             0.4,
             "#fde0ef"
            ],
            [
             0.5,
             "#f7f7f7"
            ],
            [
             0.6,
             "#e6f5d0"
            ],
            [
             0.7,
             "#b8e186"
            ],
            [
             0.8,
             "#7fbc41"
            ],
            [
             0.9,
             "#4d9221"
            ],
            [
             1,
             "#276419"
            ]
           ],
           "sequential": [
            [
             0,
             "#0d0887"
            ],
            [
             0.1111111111111111,
             "#46039f"
            ],
            [
             0.2222222222222222,
             "#7201a8"
            ],
            [
             0.3333333333333333,
             "#9c179e"
            ],
            [
             0.4444444444444444,
             "#bd3786"
            ],
            [
             0.5555555555555556,
             "#d8576b"
            ],
            [
             0.6666666666666666,
             "#ed7953"
            ],
            [
             0.7777777777777778,
             "#fb9f3a"
            ],
            [
             0.8888888888888888,
             "#fdca26"
            ],
            [
             1,
             "#f0f921"
            ]
           ],
           "sequentialminus": [
            [
             0,
             "#0d0887"
            ],
            [
             0.1111111111111111,
             "#46039f"
            ],
            [
             0.2222222222222222,
             "#7201a8"
            ],
            [
             0.3333333333333333,
             "#9c179e"
            ],
            [
             0.4444444444444444,
             "#bd3786"
            ],
            [
             0.5555555555555556,
             "#d8576b"
            ],
            [
             0.6666666666666666,
             "#ed7953"
            ],
            [
             0.7777777777777778,
             "#fb9f3a"
            ],
            [
             0.8888888888888888,
             "#fdca26"
            ],
            [
             1,
             "#f0f921"
            ]
           ]
          },
          "colorway": [
           "#636efa",
           "#EF553B",
           "#00cc96",
           "#ab63fa",
           "#FFA15A",
           "#19d3f3",
           "#FF6692",
           "#B6E880",
           "#FF97FF",
           "#FECB52"
          ],
          "font": {
           "color": "#2a3f5f"
          },
          "geo": {
           "bgcolor": "white",
           "lakecolor": "white",
           "landcolor": "#E5ECF6",
           "showlakes": true,
           "showland": true,
           "subunitcolor": "white"
          },
          "hoverlabel": {
           "align": "left"
          },
          "hovermode": "closest",
          "mapbox": {
           "style": "light"
          },
          "paper_bgcolor": "white",
          "plot_bgcolor": "#E5ECF6",
          "polar": {
           "angularaxis": {
            "gridcolor": "white",
            "linecolor": "white",
            "ticks": ""
           },
           "bgcolor": "#E5ECF6",
           "radialaxis": {
            "gridcolor": "white",
            "linecolor": "white",
            "ticks": ""
           }
          },
          "scene": {
           "xaxis": {
            "backgroundcolor": "#E5ECF6",
            "gridcolor": "white",
            "gridwidth": 2,
            "linecolor": "white",
            "showbackground": true,
            "ticks": "",
            "zerolinecolor": "white"
           },
           "yaxis": {
            "backgroundcolor": "#E5ECF6",
            "gridcolor": "white",
            "gridwidth": 2,
            "linecolor": "white",
            "showbackground": true,
            "ticks": "",
            "zerolinecolor": "white"
           },
           "zaxis": {
            "backgroundcolor": "#E5ECF6",
            "gridcolor": "white",
            "gridwidth": 2,
            "linecolor": "white",
            "showbackground": true,
            "ticks": "",
            "zerolinecolor": "white"
           }
          },
          "shapedefaults": {
           "line": {
            "color": "#2a3f5f"
           }
          },
          "ternary": {
           "aaxis": {
            "gridcolor": "white",
            "linecolor": "white",
            "ticks": ""
           },
           "baxis": {
            "gridcolor": "white",
            "linecolor": "white",
            "ticks": ""
           },
           "bgcolor": "#E5ECF6",
           "caxis": {
            "gridcolor": "white",
            "linecolor": "white",
            "ticks": ""
           }
          },
          "title": {
           "x": 0.05
          },
          "xaxis": {
           "automargin": true,
           "gridcolor": "white",
           "linecolor": "white",
           "ticks": "",
           "title": {
            "standoff": 15
           },
           "zerolinecolor": "white",
           "zerolinewidth": 2
          },
          "yaxis": {
           "automargin": true,
           "gridcolor": "white",
           "linecolor": "white",
           "ticks": "",
           "title": {
            "standoff": 15
           },
           "zerolinecolor": "white",
           "zerolinewidth": 2
          }
         }
        },
        "title": {
         "text": "Opiod Mortality rate in\tNH"
        },
        "xaxis": {
         "anchor": "y",
         "domain": [
          0,
          1
         ],
         "title": {
          "text": "County"
         }
        },
        "yaxis": {
         "anchor": "x",
         "domain": [
          0,
          1
         ],
         "title": {
          "text": "sum of Norm_Deaths"
         }
        }
       }
      },
      "text/html": [
       "<div>                            <div id=\"f77d65cd-d83d-41d5-8abd-fc256e3eb876\" class=\"plotly-graph-div\" style=\"height:525px; width:100%;\"></div>            <script type=\"text/javascript\">                require([\"plotly\"], function(Plotly) {                    window.PLOTLYENV=window.PLOTLYENV || {};                                    if (document.getElementById(\"f77d65cd-d83d-41d5-8abd-fc256e3eb876\")) {                    Plotly.newPlot(                        \"f77d65cd-d83d-41d5-8abd-fc256e3eb876\",                        [{\"alignmentgroup\":\"True\",\"bingroup\":\"x\",\"histfunc\":\"sum\",\"hovertemplate\":\"Population=1254278<br>County=%{x}<br>sum of Norm_Deaths=%{y}<extra></extra>\",\"legendgroup\":\"1254278\",\"marker\":{\"color\":\"#636efa\",\"pattern\":{\"shape\":\"\"}},\"name\":\"1254278\",\"offsetgroup\":\"1254278\",\"orientation\":\"v\",\"showlegend\":true,\"x\":[\"Belknap County, NH\"],\"xaxis\":\"x\",\"y\":[15.865701224130536],\"yaxis\":\"y\",\"type\":\"histogram\"},{\"alignmentgroup\":\"True\",\"bingroup\":\"x\",\"histfunc\":\"sum\",\"hovertemplate\":\"Population=983877<br>County=%{x}<br>sum of Norm_Deaths=%{y}<extra></extra>\",\"legendgroup\":\"983877\",\"marker\":{\"color\":\"#EF553B\",\"pattern\":{\"shape\":\"\"}},\"name\":\"983877\",\"offsetgroup\":\"983877\",\"orientation\":\"v\",\"showlegend\":true,\"x\":[\"Carroll County, NH\"],\"xaxis\":\"x\",\"y\":[14.127782232941719],\"yaxis\":\"y\",\"type\":\"histogram\"},{\"alignmentgroup\":\"True\",\"bingroup\":\"x\",\"histfunc\":\"sum\",\"hovertemplate\":\"Population=1600605<br>County=%{x}<br>sum of Norm_Deaths=%{y}<extra></extra>\",\"legendgroup\":\"1600605\",\"marker\":{\"color\":\"#00cc96\",\"pattern\":{\"shape\":\"\"}},\"name\":\"1600605\",\"offsetgroup\":\"1600605\",\"orientation\":\"v\",\"showlegend\":true,\"x\":[\"Cheshire County, NH\"],\"xaxis\":\"x\",\"y\":[11.74555871061255],\"yaxis\":\"y\",\"type\":\"histogram\"},{\"alignmentgroup\":\"True\",\"bingroup\":\"x\",\"histfunc\":\"sum\",\"hovertemplate\":\"Population=687155<br>County=%{x}<br>sum of Norm_Deaths=%{y}<extra></extra>\",\"legendgroup\":\"687155\",\"marker\":{\"color\":\"#ab63fa\",\"pattern\":{\"shape\":\"\"}},\"name\":\"687155\",\"offsetgroup\":\"687155\",\"orientation\":\"v\",\"showlegend\":true,\"x\":[\"Coos County, NH\"],\"xaxis\":\"x\",\"y\":[14.261702236031173],\"yaxis\":\"y\",\"type\":\"histogram\"},{\"alignmentgroup\":\"True\",\"bingroup\":\"x\",\"histfunc\":\"sum\",\"hovertemplate\":\"Population=1830771<br>County=%{x}<br>sum of Norm_Deaths=%{y}<extra></extra>\",\"legendgroup\":\"1830771\",\"marker\":{\"color\":\"#FFA15A\",\"pattern\":{\"shape\":\"\"}},\"name\":\"1830771\",\"offsetgroup\":\"1830771\",\"orientation\":\"v\",\"showlegend\":true,\"x\":[\"Grafton County, NH\"],\"xaxis\":\"x\",\"y\":[8.084025801151537],\"yaxis\":\"y\",\"type\":\"histogram\"},{\"alignmentgroup\":\"True\",\"bingroup\":\"x\",\"histfunc\":\"sum\",\"hovertemplate\":\"Population=8384229<br>County=%{x}<br>sum of Norm_Deaths=%{y}<extra></extra>\",\"legendgroup\":\"8384229\",\"marker\":{\"color\":\"#19d3f3\",\"pattern\":{\"shape\":\"\"}},\"name\":\"8384229\",\"offsetgroup\":\"8384229\",\"orientation\":\"v\",\"showlegend\":true,\"x\":[\"Hillsborough County, NH\"],\"xaxis\":\"x\",\"y\":[16.411765470623475],\"yaxis\":\"y\",\"type\":\"histogram\"},{\"alignmentgroup\":\"True\",\"bingroup\":\"x\",\"histfunc\":\"sum\",\"hovertemplate\":\"Population=3051099<br>County=%{x}<br>sum of Norm_Deaths=%{y}<extra></extra>\",\"legendgroup\":\"3051099\",\"marker\":{\"color\":\"#FF6692\",\"pattern\":{\"shape\":\"\"}},\"name\":\"3051099\",\"offsetgroup\":\"3051099\",\"orientation\":\"v\",\"showlegend\":true,\"x\":[\"Merrimack County, NH\"],\"xaxis\":\"x\",\"y\":[12.388978528720306],\"yaxis\":\"y\",\"type\":\"histogram\"},{\"alignmentgroup\":\"True\",\"bingroup\":\"x\",\"histfunc\":\"sum\",\"hovertemplate\":\"Population=6185718<br>County=%{x}<br>sum of Norm_Deaths=%{y}<extra></extra>\",\"legendgroup\":\"6185718\",\"marker\":{\"color\":\"#B6E880\",\"pattern\":{\"shape\":\"\"}},\"name\":\"6185718\",\"offsetgroup\":\"6185718\",\"orientation\":\"v\",\"showlegend\":true,\"x\":[\"Rockingham County, NH\"],\"xaxis\":\"x\",\"y\":[13.01384899861261],\"yaxis\":\"y\",\"type\":\"histogram\"},{\"alignmentgroup\":\"True\",\"bingroup\":\"x\",\"histfunc\":\"sum\",\"hovertemplate\":\"Population=2559404<br>County=%{x}<br>sum of Norm_Deaths=%{y}<extra></extra>\",\"legendgroup\":\"2559404\",\"marker\":{\"color\":\"#FF97FF\",\"pattern\":{\"shape\":\"\"}},\"name\":\"2559404\",\"offsetgroup\":\"2559404\",\"orientation\":\"v\",\"showlegend\":true,\"x\":[\"Strafford County, NH\"],\"xaxis\":\"x\",\"y\":[15.902139716902843],\"yaxis\":\"y\",\"type\":\"histogram\"},{\"alignmentgroup\":\"True\",\"bingroup\":\"x\",\"histfunc\":\"sum\",\"hovertemplate\":\"Population=896681<br>County=%{x}<br>sum of Norm_Deaths=%{y}<extra></extra>\",\"legendgroup\":\"896681\",\"marker\":{\"color\":\"#FECB52\",\"pattern\":{\"shape\":\"\"}},\"name\":\"896681\",\"offsetgroup\":\"896681\",\"orientation\":\"v\",\"showlegend\":true,\"x\":[\"Sullivan County, NH\"],\"xaxis\":\"x\",\"y\":[10.260059039948432],\"yaxis\":\"y\",\"type\":\"histogram\"}],                        {\"template\":{\"data\":{\"bar\":[{\"error_x\":{\"color\":\"#2a3f5f\"},\"error_y\":{\"color\":\"#2a3f5f\"},\"marker\":{\"line\":{\"color\":\"#E5ECF6\",\"width\":0.5},\"pattern\":{\"fillmode\":\"overlay\",\"size\":10,\"solidity\":0.2}},\"type\":\"bar\"}],\"barpolar\":[{\"marker\":{\"line\":{\"color\":\"#E5ECF6\",\"width\":0.5},\"pattern\":{\"fillmode\":\"overlay\",\"size\":10,\"solidity\":0.2}},\"type\":\"barpolar\"}],\"carpet\":[{\"aaxis\":{\"endlinecolor\":\"#2a3f5f\",\"gridcolor\":\"white\",\"linecolor\":\"white\",\"minorgridcolor\":\"white\",\"startlinecolor\":\"#2a3f5f\"},\"baxis\":{\"endlinecolor\":\"#2a3f5f\",\"gridcolor\":\"white\",\"linecolor\":\"white\",\"minorgridcolor\":\"white\",\"startlinecolor\":\"#2a3f5f\"},\"type\":\"carpet\"}],\"choropleth\":[{\"colorbar\":{\"outlinewidth\":0,\"ticks\":\"\"},\"type\":\"choropleth\"}],\"contour\":[{\"colorbar\":{\"outlinewidth\":0,\"ticks\":\"\"},\"colorscale\":[[0.0,\"#0d0887\"],[0.1111111111111111,\"#46039f\"],[0.2222222222222222,\"#7201a8\"],[0.3333333333333333,\"#9c179e\"],[0.4444444444444444,\"#bd3786\"],[0.5555555555555556,\"#d8576b\"],[0.6666666666666666,\"#ed7953\"],[0.7777777777777778,\"#fb9f3a\"],[0.8888888888888888,\"#fdca26\"],[1.0,\"#f0f921\"]],\"type\":\"contour\"}],\"contourcarpet\":[{\"colorbar\":{\"outlinewidth\":0,\"ticks\":\"\"},\"type\":\"contourcarpet\"}],\"heatmap\":[{\"colorbar\":{\"outlinewidth\":0,\"ticks\":\"\"},\"colorscale\":[[0.0,\"#0d0887\"],[0.1111111111111111,\"#46039f\"],[0.2222222222222222,\"#7201a8\"],[0.3333333333333333,\"#9c179e\"],[0.4444444444444444,\"#bd3786\"],[0.5555555555555556,\"#d8576b\"],[0.6666666666666666,\"#ed7953\"],[0.7777777777777778,\"#fb9f3a\"],[0.8888888888888888,\"#fdca26\"],[1.0,\"#f0f921\"]],\"type\":\"heatmap\"}],\"heatmapgl\":[{\"colorbar\":{\"outlinewidth\":0,\"ticks\":\"\"},\"colorscale\":[[0.0,\"#0d0887\"],[0.1111111111111111,\"#46039f\"],[0.2222222222222222,\"#7201a8\"],[0.3333333333333333,\"#9c179e\"],[0.4444444444444444,\"#bd3786\"],[0.5555555555555556,\"#d8576b\"],[0.6666666666666666,\"#ed7953\"],[0.7777777777777778,\"#fb9f3a\"],[0.8888888888888888,\"#fdca26\"],[1.0,\"#f0f921\"]],\"type\":\"heatmapgl\"}],\"histogram\":[{\"marker\":{\"pattern\":{\"fillmode\":\"overlay\",\"size\":10,\"solidity\":0.2}},\"type\":\"histogram\"}],\"histogram2d\":[{\"colorbar\":{\"outlinewidth\":0,\"ticks\":\"\"},\"colorscale\":[[0.0,\"#0d0887\"],[0.1111111111111111,\"#46039f\"],[0.2222222222222222,\"#7201a8\"],[0.3333333333333333,\"#9c179e\"],[0.4444444444444444,\"#bd3786\"],[0.5555555555555556,\"#d8576b\"],[0.6666666666666666,\"#ed7953\"],[0.7777777777777778,\"#fb9f3a\"],[0.8888888888888888,\"#fdca26\"],[1.0,\"#f0f921\"]],\"type\":\"histogram2d\"}],\"histogram2dcontour\":[{\"colorbar\":{\"outlinewidth\":0,\"ticks\":\"\"},\"colorscale\":[[0.0,\"#0d0887\"],[0.1111111111111111,\"#46039f\"],[0.2222222222222222,\"#7201a8\"],[0.3333333333333333,\"#9c179e\"],[0.4444444444444444,\"#bd3786\"],[0.5555555555555556,\"#d8576b\"],[0.6666666666666666,\"#ed7953\"],[0.7777777777777778,\"#fb9f3a\"],[0.8888888888888888,\"#fdca26\"],[1.0,\"#f0f921\"]],\"type\":\"histogram2dcontour\"}],\"mesh3d\":[{\"colorbar\":{\"outlinewidth\":0,\"ticks\":\"\"},\"type\":\"mesh3d\"}],\"parcoords\":[{\"line\":{\"colorbar\":{\"outlinewidth\":0,\"ticks\":\"\"}},\"type\":\"parcoords\"}],\"pie\":[{\"automargin\":true,\"type\":\"pie\"}],\"scatter\":[{\"marker\":{\"colorbar\":{\"outlinewidth\":0,\"ticks\":\"\"}},\"type\":\"scatter\"}],\"scatter3d\":[{\"line\":{\"colorbar\":{\"outlinewidth\":0,\"ticks\":\"\"}},\"marker\":{\"colorbar\":{\"outlinewidth\":0,\"ticks\":\"\"}},\"type\":\"scatter3d\"}],\"scattercarpet\":[{\"marker\":{\"colorbar\":{\"outlinewidth\":0,\"ticks\":\"\"}},\"type\":\"scattercarpet\"}],\"scattergeo\":[{\"marker\":{\"colorbar\":{\"outlinewidth\":0,\"ticks\":\"\"}},\"type\":\"scattergeo\"}],\"scattergl\":[{\"marker\":{\"colorbar\":{\"outlinewidth\":0,\"ticks\":\"\"}},\"type\":\"scattergl\"}],\"scattermapbox\":[{\"marker\":{\"colorbar\":{\"outlinewidth\":0,\"ticks\":\"\"}},\"type\":\"scattermapbox\"}],\"scatterpolar\":[{\"marker\":{\"colorbar\":{\"outlinewidth\":0,\"ticks\":\"\"}},\"type\":\"scatterpolar\"}],\"scatterpolargl\":[{\"marker\":{\"colorbar\":{\"outlinewidth\":0,\"ticks\":\"\"}},\"type\":\"scatterpolargl\"}],\"scatterternary\":[{\"marker\":{\"colorbar\":{\"outlinewidth\":0,\"ticks\":\"\"}},\"type\":\"scatterternary\"}],\"surface\":[{\"colorbar\":{\"outlinewidth\":0,\"ticks\":\"\"},\"colorscale\":[[0.0,\"#0d0887\"],[0.1111111111111111,\"#46039f\"],[0.2222222222222222,\"#7201a8\"],[0.3333333333333333,\"#9c179e\"],[0.4444444444444444,\"#bd3786\"],[0.5555555555555556,\"#d8576b\"],[0.6666666666666666,\"#ed7953\"],[0.7777777777777778,\"#fb9f3a\"],[0.8888888888888888,\"#fdca26\"],[1.0,\"#f0f921\"]],\"type\":\"surface\"}],\"table\":[{\"cells\":{\"fill\":{\"color\":\"#EBF0F8\"},\"line\":{\"color\":\"white\"}},\"header\":{\"fill\":{\"color\":\"#C8D4E3\"},\"line\":{\"color\":\"white\"}},\"type\":\"table\"}]},\"layout\":{\"annotationdefaults\":{\"arrowcolor\":\"#2a3f5f\",\"arrowhead\":0,\"arrowwidth\":1},\"autotypenumbers\":\"strict\",\"coloraxis\":{\"colorbar\":{\"outlinewidth\":0,\"ticks\":\"\"}},\"colorscale\":{\"diverging\":[[0,\"#8e0152\"],[0.1,\"#c51b7d\"],[0.2,\"#de77ae\"],[0.3,\"#f1b6da\"],[0.4,\"#fde0ef\"],[0.5,\"#f7f7f7\"],[0.6,\"#e6f5d0\"],[0.7,\"#b8e186\"],[0.8,\"#7fbc41\"],[0.9,\"#4d9221\"],[1,\"#276419\"]],\"sequential\":[[0.0,\"#0d0887\"],[0.1111111111111111,\"#46039f\"],[0.2222222222222222,\"#7201a8\"],[0.3333333333333333,\"#9c179e\"],[0.4444444444444444,\"#bd3786\"],[0.5555555555555556,\"#d8576b\"],[0.6666666666666666,\"#ed7953\"],[0.7777777777777778,\"#fb9f3a\"],[0.8888888888888888,\"#fdca26\"],[1.0,\"#f0f921\"]],\"sequentialminus\":[[0.0,\"#0d0887\"],[0.1111111111111111,\"#46039f\"],[0.2222222222222222,\"#7201a8\"],[0.3333333333333333,\"#9c179e\"],[0.4444444444444444,\"#bd3786\"],[0.5555555555555556,\"#d8576b\"],[0.6666666666666666,\"#ed7953\"],[0.7777777777777778,\"#fb9f3a\"],[0.8888888888888888,\"#fdca26\"],[1.0,\"#f0f921\"]]},\"colorway\":[\"#636efa\",\"#EF553B\",\"#00cc96\",\"#ab63fa\",\"#FFA15A\",\"#19d3f3\",\"#FF6692\",\"#B6E880\",\"#FF97FF\",\"#FECB52\"],\"font\":{\"color\":\"#2a3f5f\"},\"geo\":{\"bgcolor\":\"white\",\"lakecolor\":\"white\",\"landcolor\":\"#E5ECF6\",\"showlakes\":true,\"showland\":true,\"subunitcolor\":\"white\"},\"hoverlabel\":{\"align\":\"left\"},\"hovermode\":\"closest\",\"mapbox\":{\"style\":\"light\"},\"paper_bgcolor\":\"white\",\"plot_bgcolor\":\"#E5ECF6\",\"polar\":{\"angularaxis\":{\"gridcolor\":\"white\",\"linecolor\":\"white\",\"ticks\":\"\"},\"bgcolor\":\"#E5ECF6\",\"radialaxis\":{\"gridcolor\":\"white\",\"linecolor\":\"white\",\"ticks\":\"\"}},\"scene\":{\"xaxis\":{\"backgroundcolor\":\"#E5ECF6\",\"gridcolor\":\"white\",\"gridwidth\":2,\"linecolor\":\"white\",\"showbackground\":true,\"ticks\":\"\",\"zerolinecolor\":\"white\"},\"yaxis\":{\"backgroundcolor\":\"#E5ECF6\",\"gridcolor\":\"white\",\"gridwidth\":2,\"linecolor\":\"white\",\"showbackground\":true,\"ticks\":\"\",\"zerolinecolor\":\"white\"},\"zaxis\":{\"backgroundcolor\":\"#E5ECF6\",\"gridcolor\":\"white\",\"gridwidth\":2,\"linecolor\":\"white\",\"showbackground\":true,\"ticks\":\"\",\"zerolinecolor\":\"white\"}},\"shapedefaults\":{\"line\":{\"color\":\"#2a3f5f\"}},\"ternary\":{\"aaxis\":{\"gridcolor\":\"white\",\"linecolor\":\"white\",\"ticks\":\"\"},\"baxis\":{\"gridcolor\":\"white\",\"linecolor\":\"white\",\"ticks\":\"\"},\"bgcolor\":\"#E5ECF6\",\"caxis\":{\"gridcolor\":\"white\",\"linecolor\":\"white\",\"ticks\":\"\"}},\"title\":{\"x\":0.05},\"xaxis\":{\"automargin\":true,\"gridcolor\":\"white\",\"linecolor\":\"white\",\"ticks\":\"\",\"title\":{\"standoff\":15},\"zerolinecolor\":\"white\",\"zerolinewidth\":2},\"yaxis\":{\"automargin\":true,\"gridcolor\":\"white\",\"linecolor\":\"white\",\"ticks\":\"\",\"title\":{\"standoff\":15},\"zerolinecolor\":\"white\",\"zerolinewidth\":2}}},\"xaxis\":{\"anchor\":\"y\",\"domain\":[0.0,1.0],\"title\":{\"text\":\"County\"}},\"yaxis\":{\"anchor\":\"x\",\"domain\":[0.0,1.0],\"title\":{\"text\":\"sum of Norm_Deaths\"}},\"legend\":{\"title\":{\"text\":\"Population\"},\"tracegroupgap\":0},\"title\":{\"text\":\"Opiod Mortality rate in\\tNH\"},\"barmode\":\"relative\"},                        {\"responsive\": true}                    ).then(function(){\n",
       "                            \n",
       "var gd = document.getElementById('f77d65cd-d83d-41d5-8abd-fc256e3eb876');\n",
       "var x = new MutationObserver(function (mutations, observer) {{\n",
       "        var display = window.getComputedStyle(gd).display;\n",
       "        if (!display || display === 'none') {{\n",
       "            console.log([gd, 'removed!']);\n",
       "            Plotly.purge(gd);\n",
       "            observer.disconnect();\n",
       "        }}\n",
       "}});\n",
       "\n",
       "// Listen for the removal of the full notebook cells\n",
       "var notebookContainer = gd.closest('#notebook-container');\n",
       "if (notebookContainer) {{\n",
       "    x.observe(notebookContainer, {childList: true});\n",
       "}}\n",
       "\n",
       "// Listen for the clearing of the current output cell\n",
       "var outputEl = gd.closest('.output');\n",
       "if (outputEl) {{\n",
       "    x.observe(outputEl, {childList: true});\n",
       "}}\n",
       "\n",
       "                        })                };                });            </script>        </div>"
      ]
     },
     "metadata": {},
     "output_type": "display_data"
    },
    {
     "name": "stdout",
     "output_type": "stream",
     "text": [
      "The Number of counties in-NH : 10\n",
      "Top-10 counties with highest mortatlity rate in state-NH are:\n",
      " 1016    Hillsborough County, NH\n",
      "2179       Strafford County, NH\n",
      "144          Belknap County, NH\n",
      "525             Coos County, NH\n",
      "338          Carroll County, NH\n",
      "1978      Rockingham County, NH\n",
      "1524       Merrimack County, NH\n",
      "406         Cheshire County, NH\n",
      "2186        Sullivan County, NH\n",
      "864          Grafton County, NH\n",
      "Name: County, dtype: object\n"
     ]
    },
    {
     "data": {
      "application/vnd.plotly.v1+json": {
       "config": {
        "plotlyServerURL": "https://plot.ly"
       },
       "data": [
        {
         "alignmentgroup": "True",
         "bingroup": "x",
         "histfunc": "sum",
         "hovertemplate": "Population=4579885<br>County=%{x}<br>sum of Norm_Deaths=%{y}<extra></extra>",
         "legendgroup": "4579885",
         "marker": {
          "color": "#636efa",
          "pattern": {
           "shape": ""
          }
         },
         "name": "4579885",
         "offsetgroup": "4579885",
         "orientation": "v",
         "showlegend": true,
         "type": "histogram",
         "x": [
          "Barnstable County, MA"
         ],
         "xaxis": "x",
         "y": [
          14.71652672501602
         ],
         "yaxis": "y"
        },
        {
         "alignmentgroup": "True",
         "bingroup": "x",
         "histfunc": "sum",
         "hovertemplate": "Population=2745524<br>County=%{x}<br>sum of Norm_Deaths=%{y}<extra></extra>",
         "legendgroup": "2745524",
         "marker": {
          "color": "#EF553B",
          "pattern": {
           "shape": ""
          }
         },
         "name": "2745524",
         "offsetgroup": "2745524",
         "orientation": "v",
         "showlegend": true,
         "type": "histogram",
         "x": [
          "Berkshire County, MA"
         ],
         "xaxis": "x",
         "y": [
          13.33078858534837
         ],
         "yaxis": "y"
        },
        {
         "alignmentgroup": "True",
         "bingroup": "x",
         "histfunc": "sum",
         "hovertemplate": "Population=11529231<br>County=%{x}<br>sum of Norm_Deaths=%{y}<extra></extra>",
         "legendgroup": "11529231",
         "marker": {
          "color": "#00cc96",
          "pattern": {
           "shape": ""
          }
         },
         "name": "11529231",
         "offsetgroup": "11529231",
         "orientation": "v",
         "showlegend": true,
         "type": "histogram",
         "x": [
          "Bristol County, MA"
         ],
         "xaxis": "x",
         "y": [
          18.596209929352618
         ],
         "yaxis": "y"
        },
        {
         "alignmentgroup": "True",
         "bingroup": "x",
         "histfunc": "sum",
         "hovertemplate": "Population=343214<br>County=%{x}<br>sum of Norm_Deaths=%{y}<extra></extra>",
         "legendgroup": "343214",
         "marker": {
          "color": "#ab63fa",
          "pattern": {
           "shape": ""
          }
         },
         "name": "343214",
         "offsetgroup": "343214",
         "orientation": "v",
         "showlegend": true,
         "type": "histogram",
         "x": [
          "Dukes County, MA"
         ],
         "xaxis": "x",
         "y": [
          10.489082613180114
         ],
         "yaxis": "y"
        },
        {
         "alignmentgroup": "True",
         "bingroup": "x",
         "histfunc": "sum",
         "hovertemplate": "Population=15727542<br>County=%{x}<br>sum of Norm_Deaths=%{y}<extra></extra>",
         "legendgroup": "15727542",
         "marker": {
          "color": "#FFA15A",
          "pattern": {
           "shape": ""
          }
         },
         "name": "15727542",
         "offsetgroup": "15727542",
         "orientation": "v",
         "showlegend": true,
         "type": "histogram",
         "x": [
          "Essex County, MA"
         ],
         "xaxis": "x",
         "y": [
          15.011881704083194
         ],
         "yaxis": "y"
        },
        {
         "alignmentgroup": "True",
         "bingroup": "x",
         "histfunc": "sum",
         "hovertemplate": "Population=1497564<br>County=%{x}<br>sum of Norm_Deaths=%{y}<extra></extra>",
         "legendgroup": "1497564",
         "marker": {
          "color": "#19d3f3",
          "pattern": {
           "shape": ""
          }
         },
         "name": "1497564",
         "offsetgroup": "1497564",
         "orientation": "v",
         "showlegend": true,
         "type": "histogram",
         "x": [
          "Franklin County, MA"
         ],
         "xaxis": "x",
         "y": [
          9.615615759994231
         ],
         "yaxis": "y"
        },
        {
         "alignmentgroup": "True",
         "bingroup": "x",
         "histfunc": "sum",
         "hovertemplate": "Population=9731718<br>County=%{x}<br>sum of Norm_Deaths=%{y}<extra></extra>",
         "legendgroup": "9731718",
         "marker": {
          "color": "#FF6692",
          "pattern": {
           "shape": ""
          }
         },
         "name": "9731718",
         "offsetgroup": "9731718",
         "orientation": "v",
         "showlegend": true,
         "type": "histogram",
         "x": [
          "Hampden County, MA"
         ],
         "xaxis": "x",
         "y": [
          13.933819290694615
         ],
         "yaxis": "y"
        },
        {
         "alignmentgroup": "True",
         "bingroup": "x",
         "histfunc": "sum",
         "hovertemplate": "Population=3306903<br>County=%{x}<br>sum of Norm_Deaths=%{y}<extra></extra>",
         "legendgroup": "3306903",
         "marker": {
          "color": "#B6E880",
          "pattern": {
           "shape": ""
          }
         },
         "name": "3306903",
         "offsetgroup": "3306903",
         "orientation": "v",
         "showlegend": true,
         "type": "histogram",
         "x": [
          "Hampshire County, MA"
         ],
         "xaxis": "x",
         "y": [
          9.525528870970813
         ],
         "yaxis": "y"
        },
        {
         "alignmentgroup": "True",
         "bingroup": "x",
         "histfunc": "sum",
         "hovertemplate": "Population=31822193<br>County=%{x}<br>sum of Norm_Deaths=%{y}<extra></extra>",
         "legendgroup": "31822193",
         "marker": {
          "color": "#FF97FF",
          "pattern": {
           "shape": ""
          }
         },
         "name": "31822193",
         "offsetgroup": "31822193",
         "orientation": "v",
         "showlegend": true,
         "type": "histogram",
         "x": [
          "Middlesex County, MA"
         ],
         "xaxis": "x",
         "y": [
          9.923891794635272
         ],
         "yaxis": "y"
        },
        {
         "alignmentgroup": "True",
         "bingroup": "x",
         "histfunc": "sum",
         "hovertemplate": "Population=214714<br>County=%{x}<br>sum of Norm_Deaths=%{y}<extra></extra>",
         "legendgroup": "214714",
         "marker": {
          "color": "#FECB52",
          "pattern": {
           "shape": ""
          }
         },
         "name": "214714",
         "offsetgroup": "214714",
         "orientation": "v",
         "showlegend": true,
         "type": "histogram",
         "x": [
          "Nantucket County, MA"
         ],
         "xaxis": "x",
         "y": [
          6.520301424220126
         ],
         "yaxis": "y"
        },
        {
         "alignmentgroup": "True",
         "bingroup": "x",
         "histfunc": "sum",
         "hovertemplate": "Population=14114650<br>County=%{x}<br>sum of Norm_Deaths=%{y}<extra></extra>",
         "legendgroup": "14114650",
         "marker": {
          "color": "#636efa",
          "pattern": {
           "shape": ""
          }
         },
         "name": "14114650",
         "offsetgroup": "14114650",
         "orientation": "v",
         "showlegend": true,
         "type": "histogram",
         "x": [
          "Norfolk County, MA"
         ],
         "xaxis": "x",
         "y": [
          11.201127906111735
         ],
         "yaxis": "y"
        },
        {
         "alignmentgroup": "True",
         "bingroup": "x",
         "histfunc": "sum",
         "hovertemplate": "Population=10395515<br>County=%{x}<br>sum of Norm_Deaths=%{y}<extra></extra>",
         "legendgroup": "10395515",
         "marker": {
          "color": "#EF553B",
          "pattern": {
           "shape": ""
          }
         },
         "name": "10395515",
         "offsetgroup": "10395515",
         "orientation": "v",
         "showlegend": true,
         "type": "histogram",
         "x": [
          "Plymouth County, MA"
         ],
         "xaxis": "x",
         "y": [
          14.631309752330692
         ],
         "yaxis": "y"
        },
        {
         "alignmentgroup": "True",
         "bingroup": "x",
         "histfunc": "sum",
         "hovertemplate": "Population=15345995<br>County=%{x}<br>sum of Norm_Deaths=%{y}<extra></extra>",
         "legendgroup": "15345995",
         "marker": {
          "color": "#00cc96",
          "pattern": {
           "shape": ""
          }
         },
         "name": "15345995",
         "offsetgroup": "15345995",
         "orientation": "v",
         "showlegend": true,
         "type": "histogram",
         "x": [
          "Suffolk County, MA"
         ],
         "xaxis": "x",
         "y": [
          14.577093241591697
         ],
         "yaxis": "y"
        },
        {
         "alignmentgroup": "True",
         "bingroup": "x",
         "histfunc": "sum",
         "hovertemplate": "Population=16673206<br>County=%{x}<br>sum of Norm_Deaths=%{y}<extra></extra>",
         "legendgroup": "16673206",
         "marker": {
          "color": "#ab63fa",
          "pattern": {
           "shape": ""
          }
         },
         "name": "16673206",
         "offsetgroup": "16673206",
         "orientation": "v",
         "showlegend": true,
         "type": "histogram",
         "x": [
          "Worcester County, MA"
         ],
         "xaxis": "x",
         "y": [
          13.230808759874977
         ],
         "yaxis": "y"
        }
       ],
       "layout": {
        "barmode": "relative",
        "legend": {
         "title": {
          "text": "Population"
         },
         "tracegroupgap": 0
        },
        "template": {
         "data": {
          "bar": [
           {
            "error_x": {
             "color": "#2a3f5f"
            },
            "error_y": {
             "color": "#2a3f5f"
            },
            "marker": {
             "line": {
              "color": "#E5ECF6",
              "width": 0.5
             },
             "pattern": {
              "fillmode": "overlay",
              "size": 10,
              "solidity": 0.2
             }
            },
            "type": "bar"
           }
          ],
          "barpolar": [
           {
            "marker": {
             "line": {
              "color": "#E5ECF6",
              "width": 0.5
             },
             "pattern": {
              "fillmode": "overlay",
              "size": 10,
              "solidity": 0.2
             }
            },
            "type": "barpolar"
           }
          ],
          "carpet": [
           {
            "aaxis": {
             "endlinecolor": "#2a3f5f",
             "gridcolor": "white",
             "linecolor": "white",
             "minorgridcolor": "white",
             "startlinecolor": "#2a3f5f"
            },
            "baxis": {
             "endlinecolor": "#2a3f5f",
             "gridcolor": "white",
             "linecolor": "white",
             "minorgridcolor": "white",
             "startlinecolor": "#2a3f5f"
            },
            "type": "carpet"
           }
          ],
          "choropleth": [
           {
            "colorbar": {
             "outlinewidth": 0,
             "ticks": ""
            },
            "type": "choropleth"
           }
          ],
          "contour": [
           {
            "colorbar": {
             "outlinewidth": 0,
             "ticks": ""
            },
            "colorscale": [
             [
              0,
              "#0d0887"
             ],
             [
              0.1111111111111111,
              "#46039f"
             ],
             [
              0.2222222222222222,
              "#7201a8"
             ],
             [
              0.3333333333333333,
              "#9c179e"
             ],
             [
              0.4444444444444444,
              "#bd3786"
             ],
             [
              0.5555555555555556,
              "#d8576b"
             ],
             [
              0.6666666666666666,
              "#ed7953"
             ],
             [
              0.7777777777777778,
              "#fb9f3a"
             ],
             [
              0.8888888888888888,
              "#fdca26"
             ],
             [
              1,
              "#f0f921"
             ]
            ],
            "type": "contour"
           }
          ],
          "contourcarpet": [
           {
            "colorbar": {
             "outlinewidth": 0,
             "ticks": ""
            },
            "type": "contourcarpet"
           }
          ],
          "heatmap": [
           {
            "colorbar": {
             "outlinewidth": 0,
             "ticks": ""
            },
            "colorscale": [
             [
              0,
              "#0d0887"
             ],
             [
              0.1111111111111111,
              "#46039f"
             ],
             [
              0.2222222222222222,
              "#7201a8"
             ],
             [
              0.3333333333333333,
              "#9c179e"
             ],
             [
              0.4444444444444444,
              "#bd3786"
             ],
             [
              0.5555555555555556,
              "#d8576b"
             ],
             [
              0.6666666666666666,
              "#ed7953"
             ],
             [
              0.7777777777777778,
              "#fb9f3a"
             ],
             [
              0.8888888888888888,
              "#fdca26"
             ],
             [
              1,
              "#f0f921"
             ]
            ],
            "type": "heatmap"
           }
          ],
          "heatmapgl": [
           {
            "colorbar": {
             "outlinewidth": 0,
             "ticks": ""
            },
            "colorscale": [
             [
              0,
              "#0d0887"
             ],
             [
              0.1111111111111111,
              "#46039f"
             ],
             [
              0.2222222222222222,
              "#7201a8"
             ],
             [
              0.3333333333333333,
              "#9c179e"
             ],
             [
              0.4444444444444444,
              "#bd3786"
             ],
             [
              0.5555555555555556,
              "#d8576b"
             ],
             [
              0.6666666666666666,
              "#ed7953"
             ],
             [
              0.7777777777777778,
              "#fb9f3a"
             ],
             [
              0.8888888888888888,
              "#fdca26"
             ],
             [
              1,
              "#f0f921"
             ]
            ],
            "type": "heatmapgl"
           }
          ],
          "histogram": [
           {
            "marker": {
             "pattern": {
              "fillmode": "overlay",
              "size": 10,
              "solidity": 0.2
             }
            },
            "type": "histogram"
           }
          ],
          "histogram2d": [
           {
            "colorbar": {
             "outlinewidth": 0,
             "ticks": ""
            },
            "colorscale": [
             [
              0,
              "#0d0887"
             ],
             [
              0.1111111111111111,
              "#46039f"
             ],
             [
              0.2222222222222222,
              "#7201a8"
             ],
             [
              0.3333333333333333,
              "#9c179e"
             ],
             [
              0.4444444444444444,
              "#bd3786"
             ],
             [
              0.5555555555555556,
              "#d8576b"
             ],
             [
              0.6666666666666666,
              "#ed7953"
             ],
             [
              0.7777777777777778,
              "#fb9f3a"
             ],
             [
              0.8888888888888888,
              "#fdca26"
             ],
             [
              1,
              "#f0f921"
             ]
            ],
            "type": "histogram2d"
           }
          ],
          "histogram2dcontour": [
           {
            "colorbar": {
             "outlinewidth": 0,
             "ticks": ""
            },
            "colorscale": [
             [
              0,
              "#0d0887"
             ],
             [
              0.1111111111111111,
              "#46039f"
             ],
             [
              0.2222222222222222,
              "#7201a8"
             ],
             [
              0.3333333333333333,
              "#9c179e"
             ],
             [
              0.4444444444444444,
              "#bd3786"
             ],
             [
              0.5555555555555556,
              "#d8576b"
             ],
             [
              0.6666666666666666,
              "#ed7953"
             ],
             [
              0.7777777777777778,
              "#fb9f3a"
             ],
             [
              0.8888888888888888,
              "#fdca26"
             ],
             [
              1,
              "#f0f921"
             ]
            ],
            "type": "histogram2dcontour"
           }
          ],
          "mesh3d": [
           {
            "colorbar": {
             "outlinewidth": 0,
             "ticks": ""
            },
            "type": "mesh3d"
           }
          ],
          "parcoords": [
           {
            "line": {
             "colorbar": {
              "outlinewidth": 0,
              "ticks": ""
             }
            },
            "type": "parcoords"
           }
          ],
          "pie": [
           {
            "automargin": true,
            "type": "pie"
           }
          ],
          "scatter": [
           {
            "marker": {
             "colorbar": {
              "outlinewidth": 0,
              "ticks": ""
             }
            },
            "type": "scatter"
           }
          ],
          "scatter3d": [
           {
            "line": {
             "colorbar": {
              "outlinewidth": 0,
              "ticks": ""
             }
            },
            "marker": {
             "colorbar": {
              "outlinewidth": 0,
              "ticks": ""
             }
            },
            "type": "scatter3d"
           }
          ],
          "scattercarpet": [
           {
            "marker": {
             "colorbar": {
              "outlinewidth": 0,
              "ticks": ""
             }
            },
            "type": "scattercarpet"
           }
          ],
          "scattergeo": [
           {
            "marker": {
             "colorbar": {
              "outlinewidth": 0,
              "ticks": ""
             }
            },
            "type": "scattergeo"
           }
          ],
          "scattergl": [
           {
            "marker": {
             "colorbar": {
              "outlinewidth": 0,
              "ticks": ""
             }
            },
            "type": "scattergl"
           }
          ],
          "scattermapbox": [
           {
            "marker": {
             "colorbar": {
              "outlinewidth": 0,
              "ticks": ""
             }
            },
            "type": "scattermapbox"
           }
          ],
          "scatterpolar": [
           {
            "marker": {
             "colorbar": {
              "outlinewidth": 0,
              "ticks": ""
             }
            },
            "type": "scatterpolar"
           }
          ],
          "scatterpolargl": [
           {
            "marker": {
             "colorbar": {
              "outlinewidth": 0,
              "ticks": ""
             }
            },
            "type": "scatterpolargl"
           }
          ],
          "scatterternary": [
           {
            "marker": {
             "colorbar": {
              "outlinewidth": 0,
              "ticks": ""
             }
            },
            "type": "scatterternary"
           }
          ],
          "surface": [
           {
            "colorbar": {
             "outlinewidth": 0,
             "ticks": ""
            },
            "colorscale": [
             [
              0,
              "#0d0887"
             ],
             [
              0.1111111111111111,
              "#46039f"
             ],
             [
              0.2222222222222222,
              "#7201a8"
             ],
             [
              0.3333333333333333,
              "#9c179e"
             ],
             [
              0.4444444444444444,
              "#bd3786"
             ],
             [
              0.5555555555555556,
              "#d8576b"
             ],
             [
              0.6666666666666666,
              "#ed7953"
             ],
             [
              0.7777777777777778,
              "#fb9f3a"
             ],
             [
              0.8888888888888888,
              "#fdca26"
             ],
             [
              1,
              "#f0f921"
             ]
            ],
            "type": "surface"
           }
          ],
          "table": [
           {
            "cells": {
             "fill": {
              "color": "#EBF0F8"
             },
             "line": {
              "color": "white"
             }
            },
            "header": {
             "fill": {
              "color": "#C8D4E3"
             },
             "line": {
              "color": "white"
             }
            },
            "type": "table"
           }
          ]
         },
         "layout": {
          "annotationdefaults": {
           "arrowcolor": "#2a3f5f",
           "arrowhead": 0,
           "arrowwidth": 1
          },
          "autotypenumbers": "strict",
          "coloraxis": {
           "colorbar": {
            "outlinewidth": 0,
            "ticks": ""
           }
          },
          "colorscale": {
           "diverging": [
            [
             0,
             "#8e0152"
            ],
            [
             0.1,
             "#c51b7d"
            ],
            [
             0.2,
             "#de77ae"
            ],
            [
             0.3,
             "#f1b6da"
            ],
            [
             0.4,
             "#fde0ef"
            ],
            [
             0.5,
             "#f7f7f7"
            ],
            [
             0.6,
             "#e6f5d0"
            ],
            [
             0.7,
             "#b8e186"
            ],
            [
             0.8,
             "#7fbc41"
            ],
            [
             0.9,
             "#4d9221"
            ],
            [
             1,
             "#276419"
            ]
           ],
           "sequential": [
            [
             0,
             "#0d0887"
            ],
            [
             0.1111111111111111,
             "#46039f"
            ],
            [
             0.2222222222222222,
             "#7201a8"
            ],
            [
             0.3333333333333333,
             "#9c179e"
            ],
            [
             0.4444444444444444,
             "#bd3786"
            ],
            [
             0.5555555555555556,
             "#d8576b"
            ],
            [
             0.6666666666666666,
             "#ed7953"
            ],
            [
             0.7777777777777778,
             "#fb9f3a"
            ],
            [
             0.8888888888888888,
             "#fdca26"
            ],
            [
             1,
             "#f0f921"
            ]
           ],
           "sequentialminus": [
            [
             0,
             "#0d0887"
            ],
            [
             0.1111111111111111,
             "#46039f"
            ],
            [
             0.2222222222222222,
             "#7201a8"
            ],
            [
             0.3333333333333333,
             "#9c179e"
            ],
            [
             0.4444444444444444,
             "#bd3786"
            ],
            [
             0.5555555555555556,
             "#d8576b"
            ],
            [
             0.6666666666666666,
             "#ed7953"
            ],
            [
             0.7777777777777778,
             "#fb9f3a"
            ],
            [
             0.8888888888888888,
             "#fdca26"
            ],
            [
             1,
             "#f0f921"
            ]
           ]
          },
          "colorway": [
           "#636efa",
           "#EF553B",
           "#00cc96",
           "#ab63fa",
           "#FFA15A",
           "#19d3f3",
           "#FF6692",
           "#B6E880",
           "#FF97FF",
           "#FECB52"
          ],
          "font": {
           "color": "#2a3f5f"
          },
          "geo": {
           "bgcolor": "white",
           "lakecolor": "white",
           "landcolor": "#E5ECF6",
           "showlakes": true,
           "showland": true,
           "subunitcolor": "white"
          },
          "hoverlabel": {
           "align": "left"
          },
          "hovermode": "closest",
          "mapbox": {
           "style": "light"
          },
          "paper_bgcolor": "white",
          "plot_bgcolor": "#E5ECF6",
          "polar": {
           "angularaxis": {
            "gridcolor": "white",
            "linecolor": "white",
            "ticks": ""
           },
           "bgcolor": "#E5ECF6",
           "radialaxis": {
            "gridcolor": "white",
            "linecolor": "white",
            "ticks": ""
           }
          },
          "scene": {
           "xaxis": {
            "backgroundcolor": "#E5ECF6",
            "gridcolor": "white",
            "gridwidth": 2,
            "linecolor": "white",
            "showbackground": true,
            "ticks": "",
            "zerolinecolor": "white"
           },
           "yaxis": {
            "backgroundcolor": "#E5ECF6",
            "gridcolor": "white",
            "gridwidth": 2,
            "linecolor": "white",
            "showbackground": true,
            "ticks": "",
            "zerolinecolor": "white"
           },
           "zaxis": {
            "backgroundcolor": "#E5ECF6",
            "gridcolor": "white",
            "gridwidth": 2,
            "linecolor": "white",
            "showbackground": true,
            "ticks": "",
            "zerolinecolor": "white"
           }
          },
          "shapedefaults": {
           "line": {
            "color": "#2a3f5f"
           }
          },
          "ternary": {
           "aaxis": {
            "gridcolor": "white",
            "linecolor": "white",
            "ticks": ""
           },
           "baxis": {
            "gridcolor": "white",
            "linecolor": "white",
            "ticks": ""
           },
           "bgcolor": "#E5ECF6",
           "caxis": {
            "gridcolor": "white",
            "linecolor": "white",
            "ticks": ""
           }
          },
          "title": {
           "x": 0.05
          },
          "xaxis": {
           "automargin": true,
           "gridcolor": "white",
           "linecolor": "white",
           "ticks": "",
           "title": {
            "standoff": 15
           },
           "zerolinecolor": "white",
           "zerolinewidth": 2
          },
          "yaxis": {
           "automargin": true,
           "gridcolor": "white",
           "linecolor": "white",
           "ticks": "",
           "title": {
            "standoff": 15
           },
           "zerolinecolor": "white",
           "zerolinewidth": 2
          }
         }
        },
        "title": {
         "text": "Opiod Mortality rate in\tMA"
        },
        "xaxis": {
         "anchor": "y",
         "domain": [
          0,
          1
         ],
         "title": {
          "text": "County"
         }
        },
        "yaxis": {
         "anchor": "x",
         "domain": [
          0,
          1
         ],
         "title": {
          "text": "sum of Norm_Deaths"
         }
        }
       }
      },
      "text/html": [
       "<div>                            <div id=\"4c3d8358-6730-4e3c-877e-22adf7301fb7\" class=\"plotly-graph-div\" style=\"height:525px; width:100%;\"></div>            <script type=\"text/javascript\">                require([\"plotly\"], function(Plotly) {                    window.PLOTLYENV=window.PLOTLYENV || {};                                    if (document.getElementById(\"4c3d8358-6730-4e3c-877e-22adf7301fb7\")) {                    Plotly.newPlot(                        \"4c3d8358-6730-4e3c-877e-22adf7301fb7\",                        [{\"alignmentgroup\":\"True\",\"bingroup\":\"x\",\"histfunc\":\"sum\",\"hovertemplate\":\"Population=4579885<br>County=%{x}<br>sum of Norm_Deaths=%{y}<extra></extra>\",\"legendgroup\":\"4579885\",\"marker\":{\"color\":\"#636efa\",\"pattern\":{\"shape\":\"\"}},\"name\":\"4579885\",\"offsetgroup\":\"4579885\",\"orientation\":\"v\",\"showlegend\":true,\"x\":[\"Barnstable County, MA\"],\"xaxis\":\"x\",\"y\":[14.71652672501602],\"yaxis\":\"y\",\"type\":\"histogram\"},{\"alignmentgroup\":\"True\",\"bingroup\":\"x\",\"histfunc\":\"sum\",\"hovertemplate\":\"Population=2745524<br>County=%{x}<br>sum of Norm_Deaths=%{y}<extra></extra>\",\"legendgroup\":\"2745524\",\"marker\":{\"color\":\"#EF553B\",\"pattern\":{\"shape\":\"\"}},\"name\":\"2745524\",\"offsetgroup\":\"2745524\",\"orientation\":\"v\",\"showlegend\":true,\"x\":[\"Berkshire County, MA\"],\"xaxis\":\"x\",\"y\":[13.33078858534837],\"yaxis\":\"y\",\"type\":\"histogram\"},{\"alignmentgroup\":\"True\",\"bingroup\":\"x\",\"histfunc\":\"sum\",\"hovertemplate\":\"Population=11529231<br>County=%{x}<br>sum of Norm_Deaths=%{y}<extra></extra>\",\"legendgroup\":\"11529231\",\"marker\":{\"color\":\"#00cc96\",\"pattern\":{\"shape\":\"\"}},\"name\":\"11529231\",\"offsetgroup\":\"11529231\",\"orientation\":\"v\",\"showlegend\":true,\"x\":[\"Bristol County, MA\"],\"xaxis\":\"x\",\"y\":[18.596209929352618],\"yaxis\":\"y\",\"type\":\"histogram\"},{\"alignmentgroup\":\"True\",\"bingroup\":\"x\",\"histfunc\":\"sum\",\"hovertemplate\":\"Population=343214<br>County=%{x}<br>sum of Norm_Deaths=%{y}<extra></extra>\",\"legendgroup\":\"343214\",\"marker\":{\"color\":\"#ab63fa\",\"pattern\":{\"shape\":\"\"}},\"name\":\"343214\",\"offsetgroup\":\"343214\",\"orientation\":\"v\",\"showlegend\":true,\"x\":[\"Dukes County, MA\"],\"xaxis\":\"x\",\"y\":[10.489082613180114],\"yaxis\":\"y\",\"type\":\"histogram\"},{\"alignmentgroup\":\"True\",\"bingroup\":\"x\",\"histfunc\":\"sum\",\"hovertemplate\":\"Population=15727542<br>County=%{x}<br>sum of Norm_Deaths=%{y}<extra></extra>\",\"legendgroup\":\"15727542\",\"marker\":{\"color\":\"#FFA15A\",\"pattern\":{\"shape\":\"\"}},\"name\":\"15727542\",\"offsetgroup\":\"15727542\",\"orientation\":\"v\",\"showlegend\":true,\"x\":[\"Essex County, MA\"],\"xaxis\":\"x\",\"y\":[15.011881704083194],\"yaxis\":\"y\",\"type\":\"histogram\"},{\"alignmentgroup\":\"True\",\"bingroup\":\"x\",\"histfunc\":\"sum\",\"hovertemplate\":\"Population=1497564<br>County=%{x}<br>sum of Norm_Deaths=%{y}<extra></extra>\",\"legendgroup\":\"1497564\",\"marker\":{\"color\":\"#19d3f3\",\"pattern\":{\"shape\":\"\"}},\"name\":\"1497564\",\"offsetgroup\":\"1497564\",\"orientation\":\"v\",\"showlegend\":true,\"x\":[\"Franklin County, MA\"],\"xaxis\":\"x\",\"y\":[9.615615759994231],\"yaxis\":\"y\",\"type\":\"histogram\"},{\"alignmentgroup\":\"True\",\"bingroup\":\"x\",\"histfunc\":\"sum\",\"hovertemplate\":\"Population=9731718<br>County=%{x}<br>sum of Norm_Deaths=%{y}<extra></extra>\",\"legendgroup\":\"9731718\",\"marker\":{\"color\":\"#FF6692\",\"pattern\":{\"shape\":\"\"}},\"name\":\"9731718\",\"offsetgroup\":\"9731718\",\"orientation\":\"v\",\"showlegend\":true,\"x\":[\"Hampden County, MA\"],\"xaxis\":\"x\",\"y\":[13.933819290694615],\"yaxis\":\"y\",\"type\":\"histogram\"},{\"alignmentgroup\":\"True\",\"bingroup\":\"x\",\"histfunc\":\"sum\",\"hovertemplate\":\"Population=3306903<br>County=%{x}<br>sum of Norm_Deaths=%{y}<extra></extra>\",\"legendgroup\":\"3306903\",\"marker\":{\"color\":\"#B6E880\",\"pattern\":{\"shape\":\"\"}},\"name\":\"3306903\",\"offsetgroup\":\"3306903\",\"orientation\":\"v\",\"showlegend\":true,\"x\":[\"Hampshire County, MA\"],\"xaxis\":\"x\",\"y\":[9.525528870970813],\"yaxis\":\"y\",\"type\":\"histogram\"},{\"alignmentgroup\":\"True\",\"bingroup\":\"x\",\"histfunc\":\"sum\",\"hovertemplate\":\"Population=31822193<br>County=%{x}<br>sum of Norm_Deaths=%{y}<extra></extra>\",\"legendgroup\":\"31822193\",\"marker\":{\"color\":\"#FF97FF\",\"pattern\":{\"shape\":\"\"}},\"name\":\"31822193\",\"offsetgroup\":\"31822193\",\"orientation\":\"v\",\"showlegend\":true,\"x\":[\"Middlesex County, MA\"],\"xaxis\":\"x\",\"y\":[9.923891794635272],\"yaxis\":\"y\",\"type\":\"histogram\"},{\"alignmentgroup\":\"True\",\"bingroup\":\"x\",\"histfunc\":\"sum\",\"hovertemplate\":\"Population=214714<br>County=%{x}<br>sum of Norm_Deaths=%{y}<extra></extra>\",\"legendgroup\":\"214714\",\"marker\":{\"color\":\"#FECB52\",\"pattern\":{\"shape\":\"\"}},\"name\":\"214714\",\"offsetgroup\":\"214714\",\"orientation\":\"v\",\"showlegend\":true,\"x\":[\"Nantucket County, MA\"],\"xaxis\":\"x\",\"y\":[6.520301424220126],\"yaxis\":\"y\",\"type\":\"histogram\"},{\"alignmentgroup\":\"True\",\"bingroup\":\"x\",\"histfunc\":\"sum\",\"hovertemplate\":\"Population=14114650<br>County=%{x}<br>sum of Norm_Deaths=%{y}<extra></extra>\",\"legendgroup\":\"14114650\",\"marker\":{\"color\":\"#636efa\",\"pattern\":{\"shape\":\"\"}},\"name\":\"14114650\",\"offsetgroup\":\"14114650\",\"orientation\":\"v\",\"showlegend\":true,\"x\":[\"Norfolk County, MA\"],\"xaxis\":\"x\",\"y\":[11.201127906111735],\"yaxis\":\"y\",\"type\":\"histogram\"},{\"alignmentgroup\":\"True\",\"bingroup\":\"x\",\"histfunc\":\"sum\",\"hovertemplate\":\"Population=10395515<br>County=%{x}<br>sum of Norm_Deaths=%{y}<extra></extra>\",\"legendgroup\":\"10395515\",\"marker\":{\"color\":\"#EF553B\",\"pattern\":{\"shape\":\"\"}},\"name\":\"10395515\",\"offsetgroup\":\"10395515\",\"orientation\":\"v\",\"showlegend\":true,\"x\":[\"Plymouth County, MA\"],\"xaxis\":\"x\",\"y\":[14.631309752330692],\"yaxis\":\"y\",\"type\":\"histogram\"},{\"alignmentgroup\":\"True\",\"bingroup\":\"x\",\"histfunc\":\"sum\",\"hovertemplate\":\"Population=15345995<br>County=%{x}<br>sum of Norm_Deaths=%{y}<extra></extra>\",\"legendgroup\":\"15345995\",\"marker\":{\"color\":\"#00cc96\",\"pattern\":{\"shape\":\"\"}},\"name\":\"15345995\",\"offsetgroup\":\"15345995\",\"orientation\":\"v\",\"showlegend\":true,\"x\":[\"Suffolk County, MA\"],\"xaxis\":\"x\",\"y\":[14.577093241591697],\"yaxis\":\"y\",\"type\":\"histogram\"},{\"alignmentgroup\":\"True\",\"bingroup\":\"x\",\"histfunc\":\"sum\",\"hovertemplate\":\"Population=16673206<br>County=%{x}<br>sum of Norm_Deaths=%{y}<extra></extra>\",\"legendgroup\":\"16673206\",\"marker\":{\"color\":\"#ab63fa\",\"pattern\":{\"shape\":\"\"}},\"name\":\"16673206\",\"offsetgroup\":\"16673206\",\"orientation\":\"v\",\"showlegend\":true,\"x\":[\"Worcester County, MA\"],\"xaxis\":\"x\",\"y\":[13.230808759874977],\"yaxis\":\"y\",\"type\":\"histogram\"}],                        {\"template\":{\"data\":{\"bar\":[{\"error_x\":{\"color\":\"#2a3f5f\"},\"error_y\":{\"color\":\"#2a3f5f\"},\"marker\":{\"line\":{\"color\":\"#E5ECF6\",\"width\":0.5},\"pattern\":{\"fillmode\":\"overlay\",\"size\":10,\"solidity\":0.2}},\"type\":\"bar\"}],\"barpolar\":[{\"marker\":{\"line\":{\"color\":\"#E5ECF6\",\"width\":0.5},\"pattern\":{\"fillmode\":\"overlay\",\"size\":10,\"solidity\":0.2}},\"type\":\"barpolar\"}],\"carpet\":[{\"aaxis\":{\"endlinecolor\":\"#2a3f5f\",\"gridcolor\":\"white\",\"linecolor\":\"white\",\"minorgridcolor\":\"white\",\"startlinecolor\":\"#2a3f5f\"},\"baxis\":{\"endlinecolor\":\"#2a3f5f\",\"gridcolor\":\"white\",\"linecolor\":\"white\",\"minorgridcolor\":\"white\",\"startlinecolor\":\"#2a3f5f\"},\"type\":\"carpet\"}],\"choropleth\":[{\"colorbar\":{\"outlinewidth\":0,\"ticks\":\"\"},\"type\":\"choropleth\"}],\"contour\":[{\"colorbar\":{\"outlinewidth\":0,\"ticks\":\"\"},\"colorscale\":[[0.0,\"#0d0887\"],[0.1111111111111111,\"#46039f\"],[0.2222222222222222,\"#7201a8\"],[0.3333333333333333,\"#9c179e\"],[0.4444444444444444,\"#bd3786\"],[0.5555555555555556,\"#d8576b\"],[0.6666666666666666,\"#ed7953\"],[0.7777777777777778,\"#fb9f3a\"],[0.8888888888888888,\"#fdca26\"],[1.0,\"#f0f921\"]],\"type\":\"contour\"}],\"contourcarpet\":[{\"colorbar\":{\"outlinewidth\":0,\"ticks\":\"\"},\"type\":\"contourcarpet\"}],\"heatmap\":[{\"colorbar\":{\"outlinewidth\":0,\"ticks\":\"\"},\"colorscale\":[[0.0,\"#0d0887\"],[0.1111111111111111,\"#46039f\"],[0.2222222222222222,\"#7201a8\"],[0.3333333333333333,\"#9c179e\"],[0.4444444444444444,\"#bd3786\"],[0.5555555555555556,\"#d8576b\"],[0.6666666666666666,\"#ed7953\"],[0.7777777777777778,\"#fb9f3a\"],[0.8888888888888888,\"#fdca26\"],[1.0,\"#f0f921\"]],\"type\":\"heatmap\"}],\"heatmapgl\":[{\"colorbar\":{\"outlinewidth\":0,\"ticks\":\"\"},\"colorscale\":[[0.0,\"#0d0887\"],[0.1111111111111111,\"#46039f\"],[0.2222222222222222,\"#7201a8\"],[0.3333333333333333,\"#9c179e\"],[0.4444444444444444,\"#bd3786\"],[0.5555555555555556,\"#d8576b\"],[0.6666666666666666,\"#ed7953\"],[0.7777777777777778,\"#fb9f3a\"],[0.8888888888888888,\"#fdca26\"],[1.0,\"#f0f921\"]],\"type\":\"heatmapgl\"}],\"histogram\":[{\"marker\":{\"pattern\":{\"fillmode\":\"overlay\",\"size\":10,\"solidity\":0.2}},\"type\":\"histogram\"}],\"histogram2d\":[{\"colorbar\":{\"outlinewidth\":0,\"ticks\":\"\"},\"colorscale\":[[0.0,\"#0d0887\"],[0.1111111111111111,\"#46039f\"],[0.2222222222222222,\"#7201a8\"],[0.3333333333333333,\"#9c179e\"],[0.4444444444444444,\"#bd3786\"],[0.5555555555555556,\"#d8576b\"],[0.6666666666666666,\"#ed7953\"],[0.7777777777777778,\"#fb9f3a\"],[0.8888888888888888,\"#fdca26\"],[1.0,\"#f0f921\"]],\"type\":\"histogram2d\"}],\"histogram2dcontour\":[{\"colorbar\":{\"outlinewidth\":0,\"ticks\":\"\"},\"colorscale\":[[0.0,\"#0d0887\"],[0.1111111111111111,\"#46039f\"],[0.2222222222222222,\"#7201a8\"],[0.3333333333333333,\"#9c179e\"],[0.4444444444444444,\"#bd3786\"],[0.5555555555555556,\"#d8576b\"],[0.6666666666666666,\"#ed7953\"],[0.7777777777777778,\"#fb9f3a\"],[0.8888888888888888,\"#fdca26\"],[1.0,\"#f0f921\"]],\"type\":\"histogram2dcontour\"}],\"mesh3d\":[{\"colorbar\":{\"outlinewidth\":0,\"ticks\":\"\"},\"type\":\"mesh3d\"}],\"parcoords\":[{\"line\":{\"colorbar\":{\"outlinewidth\":0,\"ticks\":\"\"}},\"type\":\"parcoords\"}],\"pie\":[{\"automargin\":true,\"type\":\"pie\"}],\"scatter\":[{\"marker\":{\"colorbar\":{\"outlinewidth\":0,\"ticks\":\"\"}},\"type\":\"scatter\"}],\"scatter3d\":[{\"line\":{\"colorbar\":{\"outlinewidth\":0,\"ticks\":\"\"}},\"marker\":{\"colorbar\":{\"outlinewidth\":0,\"ticks\":\"\"}},\"type\":\"scatter3d\"}],\"scattercarpet\":[{\"marker\":{\"colorbar\":{\"outlinewidth\":0,\"ticks\":\"\"}},\"type\":\"scattercarpet\"}],\"scattergeo\":[{\"marker\":{\"colorbar\":{\"outlinewidth\":0,\"ticks\":\"\"}},\"type\":\"scattergeo\"}],\"scattergl\":[{\"marker\":{\"colorbar\":{\"outlinewidth\":0,\"ticks\":\"\"}},\"type\":\"scattergl\"}],\"scattermapbox\":[{\"marker\":{\"colorbar\":{\"outlinewidth\":0,\"ticks\":\"\"}},\"type\":\"scattermapbox\"}],\"scatterpolar\":[{\"marker\":{\"colorbar\":{\"outlinewidth\":0,\"ticks\":\"\"}},\"type\":\"scatterpolar\"}],\"scatterpolargl\":[{\"marker\":{\"colorbar\":{\"outlinewidth\":0,\"ticks\":\"\"}},\"type\":\"scatterpolargl\"}],\"scatterternary\":[{\"marker\":{\"colorbar\":{\"outlinewidth\":0,\"ticks\":\"\"}},\"type\":\"scatterternary\"}],\"surface\":[{\"colorbar\":{\"outlinewidth\":0,\"ticks\":\"\"},\"colorscale\":[[0.0,\"#0d0887\"],[0.1111111111111111,\"#46039f\"],[0.2222222222222222,\"#7201a8\"],[0.3333333333333333,\"#9c179e\"],[0.4444444444444444,\"#bd3786\"],[0.5555555555555556,\"#d8576b\"],[0.6666666666666666,\"#ed7953\"],[0.7777777777777778,\"#fb9f3a\"],[0.8888888888888888,\"#fdca26\"],[1.0,\"#f0f921\"]],\"type\":\"surface\"}],\"table\":[{\"cells\":{\"fill\":{\"color\":\"#EBF0F8\"},\"line\":{\"color\":\"white\"}},\"header\":{\"fill\":{\"color\":\"#C8D4E3\"},\"line\":{\"color\":\"white\"}},\"type\":\"table\"}]},\"layout\":{\"annotationdefaults\":{\"arrowcolor\":\"#2a3f5f\",\"arrowhead\":0,\"arrowwidth\":1},\"autotypenumbers\":\"strict\",\"coloraxis\":{\"colorbar\":{\"outlinewidth\":0,\"ticks\":\"\"}},\"colorscale\":{\"diverging\":[[0,\"#8e0152\"],[0.1,\"#c51b7d\"],[0.2,\"#de77ae\"],[0.3,\"#f1b6da\"],[0.4,\"#fde0ef\"],[0.5,\"#f7f7f7\"],[0.6,\"#e6f5d0\"],[0.7,\"#b8e186\"],[0.8,\"#7fbc41\"],[0.9,\"#4d9221\"],[1,\"#276419\"]],\"sequential\":[[0.0,\"#0d0887\"],[0.1111111111111111,\"#46039f\"],[0.2222222222222222,\"#7201a8\"],[0.3333333333333333,\"#9c179e\"],[0.4444444444444444,\"#bd3786\"],[0.5555555555555556,\"#d8576b\"],[0.6666666666666666,\"#ed7953\"],[0.7777777777777778,\"#fb9f3a\"],[0.8888888888888888,\"#fdca26\"],[1.0,\"#f0f921\"]],\"sequentialminus\":[[0.0,\"#0d0887\"],[0.1111111111111111,\"#46039f\"],[0.2222222222222222,\"#7201a8\"],[0.3333333333333333,\"#9c179e\"],[0.4444444444444444,\"#bd3786\"],[0.5555555555555556,\"#d8576b\"],[0.6666666666666666,\"#ed7953\"],[0.7777777777777778,\"#fb9f3a\"],[0.8888888888888888,\"#fdca26\"],[1.0,\"#f0f921\"]]},\"colorway\":[\"#636efa\",\"#EF553B\",\"#00cc96\",\"#ab63fa\",\"#FFA15A\",\"#19d3f3\",\"#FF6692\",\"#B6E880\",\"#FF97FF\",\"#FECB52\"],\"font\":{\"color\":\"#2a3f5f\"},\"geo\":{\"bgcolor\":\"white\",\"lakecolor\":\"white\",\"landcolor\":\"#E5ECF6\",\"showlakes\":true,\"showland\":true,\"subunitcolor\":\"white\"},\"hoverlabel\":{\"align\":\"left\"},\"hovermode\":\"closest\",\"mapbox\":{\"style\":\"light\"},\"paper_bgcolor\":\"white\",\"plot_bgcolor\":\"#E5ECF6\",\"polar\":{\"angularaxis\":{\"gridcolor\":\"white\",\"linecolor\":\"white\",\"ticks\":\"\"},\"bgcolor\":\"#E5ECF6\",\"radialaxis\":{\"gridcolor\":\"white\",\"linecolor\":\"white\",\"ticks\":\"\"}},\"scene\":{\"xaxis\":{\"backgroundcolor\":\"#E5ECF6\",\"gridcolor\":\"white\",\"gridwidth\":2,\"linecolor\":\"white\",\"showbackground\":true,\"ticks\":\"\",\"zerolinecolor\":\"white\"},\"yaxis\":{\"backgroundcolor\":\"#E5ECF6\",\"gridcolor\":\"white\",\"gridwidth\":2,\"linecolor\":\"white\",\"showbackground\":true,\"ticks\":\"\",\"zerolinecolor\":\"white\"},\"zaxis\":{\"backgroundcolor\":\"#E5ECF6\",\"gridcolor\":\"white\",\"gridwidth\":2,\"linecolor\":\"white\",\"showbackground\":true,\"ticks\":\"\",\"zerolinecolor\":\"white\"}},\"shapedefaults\":{\"line\":{\"color\":\"#2a3f5f\"}},\"ternary\":{\"aaxis\":{\"gridcolor\":\"white\",\"linecolor\":\"white\",\"ticks\":\"\"},\"baxis\":{\"gridcolor\":\"white\",\"linecolor\":\"white\",\"ticks\":\"\"},\"bgcolor\":\"#E5ECF6\",\"caxis\":{\"gridcolor\":\"white\",\"linecolor\":\"white\",\"ticks\":\"\"}},\"title\":{\"x\":0.05},\"xaxis\":{\"automargin\":true,\"gridcolor\":\"white\",\"linecolor\":\"white\",\"ticks\":\"\",\"title\":{\"standoff\":15},\"zerolinecolor\":\"white\",\"zerolinewidth\":2},\"yaxis\":{\"automargin\":true,\"gridcolor\":\"white\",\"linecolor\":\"white\",\"ticks\":\"\",\"title\":{\"standoff\":15},\"zerolinecolor\":\"white\",\"zerolinewidth\":2}}},\"xaxis\":{\"anchor\":\"y\",\"domain\":[0.0,1.0],\"title\":{\"text\":\"County\"}},\"yaxis\":{\"anchor\":\"x\",\"domain\":[0.0,1.0],\"title\":{\"text\":\"sum of Norm_Deaths\"}},\"legend\":{\"title\":{\"text\":\"Population\"},\"tracegroupgap\":0},\"title\":{\"text\":\"Opiod Mortality rate in\\tMA\"},\"barmode\":\"relative\"},                        {\"responsive\": true}                    ).then(function(){\n",
       "                            \n",
       "var gd = document.getElementById('4c3d8358-6730-4e3c-877e-22adf7301fb7');\n",
       "var x = new MutationObserver(function (mutations, observer) {{\n",
       "        var display = window.getComputedStyle(gd).display;\n",
       "        if (!display || display === 'none') {{\n",
       "            console.log([gd, 'removed!']);\n",
       "            Plotly.purge(gd);\n",
       "            observer.disconnect();\n",
       "        }}\n",
       "}});\n",
       "\n",
       "// Listen for the removal of the full notebook cells\n",
       "var notebookContainer = gd.closest('#notebook-container');\n",
       "if (notebookContainer) {{\n",
       "    x.observe(notebookContainer, {childList: true});\n",
       "}}\n",
       "\n",
       "// Listen for the clearing of the current output cell\n",
       "var outputEl = gd.closest('.output');\n",
       "if (outputEl) {{\n",
       "    x.observe(outputEl, {childList: true});\n",
       "}}\n",
       "\n",
       "                        })                };                });            </script>        </div>"
      ]
     },
     "metadata": {},
     "output_type": "display_data"
    },
    {
     "name": "stdout",
     "output_type": "stream",
     "text": [
      "The Number of counties in-MA : 14\n",
      "Top-10 counties with highest mortatlity rate in state-MA are:\n",
      " 231        Bristol County, MA\n",
      "718          Essex County, MA\n",
      "112     Barnstable County, MA\n",
      "1849      Plymouth County, MA\n",
      "2181       Suffolk County, MA\n",
      "936        Hampden County, MA\n",
      "167      Berkshire County, MA\n",
      "2495     Worcester County, MA\n",
      "1682       Norfolk County, MA\n",
      "671          Dukes County, MA\n",
      "Name: County, dtype: object\n"
     ]
    },
    {
     "data": {
      "application/vnd.plotly.v1+json": {
       "config": {
        "plotlyServerURL": "https://plot.ly"
       },
       "data": [
        {
         "alignmentgroup": "True",
         "bingroup": "x",
         "histfunc": "sum",
         "hovertemplate": "Population=1150738<br>County=%{x}<br>sum of Norm_Deaths=%{y}<extra></extra>",
         "legendgroup": "1150738",
         "marker": {
          "color": "#636efa",
          "pattern": {
           "shape": ""
          }
         },
         "name": "1150738",
         "offsetgroup": "1150738",
         "orientation": "v",
         "showlegend": true,
         "type": "histogram",
         "x": [
          "Carson City, NV"
         ],
         "xaxis": "x",
         "y": [
          14.59932669295704
         ],
         "yaxis": "y"
        },
        {
         "alignmentgroup": "True",
         "bingroup": "x",
         "histfunc": "sum",
         "hovertemplate": "Population=513020<br>County=%{x}<br>sum of Norm_Deaths=%{y}<extra></extra>",
         "legendgroup": "513020",
         "marker": {
          "color": "#EF553B",
          "pattern": {
           "shape": ""
          }
         },
         "name": "513020",
         "offsetgroup": "513020",
         "orientation": "v",
         "showlegend": true,
         "type": "histogram",
         "x": [
          "Churchill County, NV"
         ],
         "xaxis": "x",
         "y": [
          14.814237261705197
         ],
         "yaxis": "y"
        },
        {
         "alignmentgroup": "True",
         "bingroup": "x",
         "histfunc": "sum",
         "hovertemplate": "Population=39172747<br>County=%{x}<br>sum of Norm_Deaths=%{y}<extra></extra>",
         "legendgroup": "39172747",
         "marker": {
          "color": "#00cc96",
          "pattern": {
           "shape": ""
          }
         },
         "name": "39172747",
         "offsetgroup": "39172747",
         "orientation": "v",
         "showlegend": true,
         "type": "histogram",
         "x": [
          "Clark County, NV"
         ],
         "xaxis": "x",
         "y": [
          15.692032013991767
         ],
         "yaxis": "y"
        },
        {
         "alignmentgroup": "True",
         "bingroup": "x",
         "histfunc": "sum",
         "hovertemplate": "Population=970323<br>County=%{x}<br>sum of Norm_Deaths=%{y}<extra></extra>",
         "legendgroup": "970323",
         "marker": {
          "color": "#ab63fa",
          "pattern": {
           "shape": ""
          }
         },
         "name": "970323",
         "offsetgroup": "970323",
         "orientation": "v",
         "showlegend": true,
         "type": "histogram",
         "x": [
          "Douglas County, NV"
         ],
         "xaxis": "x",
         "y": [
          12.263957465709872
         ],
         "yaxis": "y"
        },
        {
         "alignmentgroup": "True",
         "bingroup": "x",
         "histfunc": "sum",
         "hovertemplate": "Population=1018219<br>County=%{x}<br>sum of Norm_Deaths=%{y}<extra></extra>",
         "legendgroup": "1018219",
         "marker": {
          "color": "#FFA15A",
          "pattern": {
           "shape": ""
          }
         },
         "name": "1018219",
         "offsetgroup": "1018219",
         "orientation": "v",
         "showlegend": true,
         "type": "histogram",
         "x": [
          "Elko County, NV"
         ],
         "xaxis": "x",
         "y": [
          6.383695452549992
         ],
         "yaxis": "y"
        },
        {
         "alignmentgroup": "True",
         "bingroup": "x",
         "histfunc": "sum",
         "hovertemplate": "Population=339986<br>County=%{x}<br>sum of Norm_Deaths=%{y}<extra></extra>",
         "legendgroup": "339986",
         "marker": {
          "color": "#19d3f3",
          "pattern": {
           "shape": ""
          }
         },
         "name": "339986",
         "offsetgroup": "339986",
         "orientation": "v",
         "showlegend": true,
         "type": "histogram",
         "x": [
          "Humboldt County, NV"
         ],
         "xaxis": "x",
         "y": [
          6.764984440535787
         ],
         "yaxis": "y"
        },
        {
         "alignmentgroup": "True",
         "bingroup": "x",
         "histfunc": "sum",
         "hovertemplate": "Population=117647<br>County=%{x}<br>sum of Norm_Deaths=%{y}<extra></extra>",
         "legendgroup": "117647",
         "marker": {
          "color": "#FF6692",
          "pattern": {
           "shape": ""
          }
         },
         "name": "117647",
         "offsetgroup": "117647",
         "orientation": "v",
         "showlegend": true,
         "type": "histogram",
         "x": [
          "Lander County, NV"
         ],
         "xaxis": "x",
         "y": [
          10.200005100002551
         ],
         "yaxis": "y"
        },
        {
         "alignmentgroup": "True",
         "bingroup": "x",
         "histfunc": "sum",
         "hovertemplate": "Population=1006949<br>County=%{x}<br>sum of Norm_Deaths=%{y}<extra></extra>",
         "legendgroup": "1006949",
         "marker": {
          "color": "#B6E880",
          "pattern": {
           "shape": ""
          }
         },
         "name": "1006949",
         "offsetgroup": "1006949",
         "orientation": "v",
         "showlegend": true,
         "type": "histogram",
         "x": [
          "Lyon County, NV"
         ],
         "xaxis": "x",
         "y": [
          12.51304683752603
         ],
         "yaxis": "y"
        },
        {
         "alignmentgroup": "True",
         "bingroup": "x",
         "histfunc": "sum",
         "hovertemplate": "Population=99263<br>County=%{x}<br>sum of Norm_Deaths=%{y}<extra></extra>",
         "legendgroup": "99263",
         "marker": {
          "color": "#FF97FF",
          "pattern": {
           "shape": ""
          }
         },
         "name": "99263",
         "offsetgroup": "99263",
         "orientation": "v",
         "showlegend": true,
         "type": "histogram",
         "x": [
          "Mineral County, NV"
         ],
         "xaxis": "x",
         "y": [
          14.103946082628976
         ],
         "yaxis": "y"
        },
        {
         "alignmentgroup": "True",
         "bingroup": "x",
         "histfunc": "sum",
         "hovertemplate": "Population=857348<br>County=%{x}<br>sum of Norm_Deaths=%{y}<extra></extra>",
         "legendgroup": "857348",
         "marker": {
          "color": "#FECB52",
          "pattern": {
           "shape": ""
          }
         },
         "name": "857348",
         "offsetgroup": "857348",
         "orientation": "v",
         "showlegend": true,
         "type": "histogram",
         "x": [
          "Nye County, NV"
         ],
         "xaxis": "x",
         "y": [
          21.92808521160602
         ],
         "yaxis": "y"
        },
        {
         "alignmentgroup": "True",
         "bingroup": "x",
         "histfunc": "sum",
         "hovertemplate": "Population=139879<br>County=%{x}<br>sum of Norm_Deaths=%{y}<extra></extra>",
         "legendgroup": "139879",
         "marker": {
          "color": "#636efa",
          "pattern": {
           "shape": ""
          }
         },
         "name": "139879",
         "offsetgroup": "139879",
         "orientation": "v",
         "showlegend": true,
         "type": "histogram",
         "x": [
          "Pershing County, NV"
         ],
         "xaxis": "x",
         "y": [
          7.149035952501806
         ],
         "yaxis": "y"
        },
        {
         "alignmentgroup": "True",
         "bingroup": "x",
         "histfunc": "sum",
         "hovertemplate": "Population=8625333<br>County=%{x}<br>sum of Norm_Deaths=%{y}<extra></extra>",
         "legendgroup": "8625333",
         "marker": {
          "color": "#EF553B",
          "pattern": {
           "shape": ""
          }
         },
         "name": "8625333",
         "offsetgroup": "8625333",
         "orientation": "v",
         "showlegend": true,
         "type": "histogram",
         "x": [
          "Washoe County, NV"
         ],
         "xaxis": "x",
         "y": [
          15.46606954189479
         ],
         "yaxis": "y"
        },
        {
         "alignmentgroup": "True",
         "bingroup": "x",
         "histfunc": "sum",
         "hovertemplate": "Population=199960<br>County=%{x}<br>sum of Norm_Deaths=%{y}<extra></extra>",
         "legendgroup": "199960",
         "marker": {
          "color": "#00cc96",
          "pattern": {
           "shape": ""
          }
         },
         "name": "199960",
         "offsetgroup": "199960",
         "orientation": "v",
         "showlegend": true,
         "type": "histogram",
         "x": [
          "White Pine County, NV"
         ],
         "xaxis": "x",
         "y": [
          19.003800760152032
         ],
         "yaxis": "y"
        }
       ],
       "layout": {
        "barmode": "relative",
        "legend": {
         "title": {
          "text": "Population"
         },
         "tracegroupgap": 0
        },
        "template": {
         "data": {
          "bar": [
           {
            "error_x": {
             "color": "#2a3f5f"
            },
            "error_y": {
             "color": "#2a3f5f"
            },
            "marker": {
             "line": {
              "color": "#E5ECF6",
              "width": 0.5
             },
             "pattern": {
              "fillmode": "overlay",
              "size": 10,
              "solidity": 0.2
             }
            },
            "type": "bar"
           }
          ],
          "barpolar": [
           {
            "marker": {
             "line": {
              "color": "#E5ECF6",
              "width": 0.5
             },
             "pattern": {
              "fillmode": "overlay",
              "size": 10,
              "solidity": 0.2
             }
            },
            "type": "barpolar"
           }
          ],
          "carpet": [
           {
            "aaxis": {
             "endlinecolor": "#2a3f5f",
             "gridcolor": "white",
             "linecolor": "white",
             "minorgridcolor": "white",
             "startlinecolor": "#2a3f5f"
            },
            "baxis": {
             "endlinecolor": "#2a3f5f",
             "gridcolor": "white",
             "linecolor": "white",
             "minorgridcolor": "white",
             "startlinecolor": "#2a3f5f"
            },
            "type": "carpet"
           }
          ],
          "choropleth": [
           {
            "colorbar": {
             "outlinewidth": 0,
             "ticks": ""
            },
            "type": "choropleth"
           }
          ],
          "contour": [
           {
            "colorbar": {
             "outlinewidth": 0,
             "ticks": ""
            },
            "colorscale": [
             [
              0,
              "#0d0887"
             ],
             [
              0.1111111111111111,
              "#46039f"
             ],
             [
              0.2222222222222222,
              "#7201a8"
             ],
             [
              0.3333333333333333,
              "#9c179e"
             ],
             [
              0.4444444444444444,
              "#bd3786"
             ],
             [
              0.5555555555555556,
              "#d8576b"
             ],
             [
              0.6666666666666666,
              "#ed7953"
             ],
             [
              0.7777777777777778,
              "#fb9f3a"
             ],
             [
              0.8888888888888888,
              "#fdca26"
             ],
             [
              1,
              "#f0f921"
             ]
            ],
            "type": "contour"
           }
          ],
          "contourcarpet": [
           {
            "colorbar": {
             "outlinewidth": 0,
             "ticks": ""
            },
            "type": "contourcarpet"
           }
          ],
          "heatmap": [
           {
            "colorbar": {
             "outlinewidth": 0,
             "ticks": ""
            },
            "colorscale": [
             [
              0,
              "#0d0887"
             ],
             [
              0.1111111111111111,
              "#46039f"
             ],
             [
              0.2222222222222222,
              "#7201a8"
             ],
             [
              0.3333333333333333,
              "#9c179e"
             ],
             [
              0.4444444444444444,
              "#bd3786"
             ],
             [
              0.5555555555555556,
              "#d8576b"
             ],
             [
              0.6666666666666666,
              "#ed7953"
             ],
             [
              0.7777777777777778,
              "#fb9f3a"
             ],
             [
              0.8888888888888888,
              "#fdca26"
             ],
             [
              1,
              "#f0f921"
             ]
            ],
            "type": "heatmap"
           }
          ],
          "heatmapgl": [
           {
            "colorbar": {
             "outlinewidth": 0,
             "ticks": ""
            },
            "colorscale": [
             [
              0,
              "#0d0887"
             ],
             [
              0.1111111111111111,
              "#46039f"
             ],
             [
              0.2222222222222222,
              "#7201a8"
             ],
             [
              0.3333333333333333,
              "#9c179e"
             ],
             [
              0.4444444444444444,
              "#bd3786"
             ],
             [
              0.5555555555555556,
              "#d8576b"
             ],
             [
              0.6666666666666666,
              "#ed7953"
             ],
             [
              0.7777777777777778,
              "#fb9f3a"
             ],
             [
              0.8888888888888888,
              "#fdca26"
             ],
             [
              1,
              "#f0f921"
             ]
            ],
            "type": "heatmapgl"
           }
          ],
          "histogram": [
           {
            "marker": {
             "pattern": {
              "fillmode": "overlay",
              "size": 10,
              "solidity": 0.2
             }
            },
            "type": "histogram"
           }
          ],
          "histogram2d": [
           {
            "colorbar": {
             "outlinewidth": 0,
             "ticks": ""
            },
            "colorscale": [
             [
              0,
              "#0d0887"
             ],
             [
              0.1111111111111111,
              "#46039f"
             ],
             [
              0.2222222222222222,
              "#7201a8"
             ],
             [
              0.3333333333333333,
              "#9c179e"
             ],
             [
              0.4444444444444444,
              "#bd3786"
             ],
             [
              0.5555555555555556,
              "#d8576b"
             ],
             [
              0.6666666666666666,
              "#ed7953"
             ],
             [
              0.7777777777777778,
              "#fb9f3a"
             ],
             [
              0.8888888888888888,
              "#fdca26"
             ],
             [
              1,
              "#f0f921"
             ]
            ],
            "type": "histogram2d"
           }
          ],
          "histogram2dcontour": [
           {
            "colorbar": {
             "outlinewidth": 0,
             "ticks": ""
            },
            "colorscale": [
             [
              0,
              "#0d0887"
             ],
             [
              0.1111111111111111,
              "#46039f"
             ],
             [
              0.2222222222222222,
              "#7201a8"
             ],
             [
              0.3333333333333333,
              "#9c179e"
             ],
             [
              0.4444444444444444,
              "#bd3786"
             ],
             [
              0.5555555555555556,
              "#d8576b"
             ],
             [
              0.6666666666666666,
              "#ed7953"
             ],
             [
              0.7777777777777778,
              "#fb9f3a"
             ],
             [
              0.8888888888888888,
              "#fdca26"
             ],
             [
              1,
              "#f0f921"
             ]
            ],
            "type": "histogram2dcontour"
           }
          ],
          "mesh3d": [
           {
            "colorbar": {
             "outlinewidth": 0,
             "ticks": ""
            },
            "type": "mesh3d"
           }
          ],
          "parcoords": [
           {
            "line": {
             "colorbar": {
              "outlinewidth": 0,
              "ticks": ""
             }
            },
            "type": "parcoords"
           }
          ],
          "pie": [
           {
            "automargin": true,
            "type": "pie"
           }
          ],
          "scatter": [
           {
            "marker": {
             "colorbar": {
              "outlinewidth": 0,
              "ticks": ""
             }
            },
            "type": "scatter"
           }
          ],
          "scatter3d": [
           {
            "line": {
             "colorbar": {
              "outlinewidth": 0,
              "ticks": ""
             }
            },
            "marker": {
             "colorbar": {
              "outlinewidth": 0,
              "ticks": ""
             }
            },
            "type": "scatter3d"
           }
          ],
          "scattercarpet": [
           {
            "marker": {
             "colorbar": {
              "outlinewidth": 0,
              "ticks": ""
             }
            },
            "type": "scattercarpet"
           }
          ],
          "scattergeo": [
           {
            "marker": {
             "colorbar": {
              "outlinewidth": 0,
              "ticks": ""
             }
            },
            "type": "scattergeo"
           }
          ],
          "scattergl": [
           {
            "marker": {
             "colorbar": {
              "outlinewidth": 0,
              "ticks": ""
             }
            },
            "type": "scattergl"
           }
          ],
          "scattermapbox": [
           {
            "marker": {
             "colorbar": {
              "outlinewidth": 0,
              "ticks": ""
             }
            },
            "type": "scattermapbox"
           }
          ],
          "scatterpolar": [
           {
            "marker": {
             "colorbar": {
              "outlinewidth": 0,
              "ticks": ""
             }
            },
            "type": "scatterpolar"
           }
          ],
          "scatterpolargl": [
           {
            "marker": {
             "colorbar": {
              "outlinewidth": 0,
              "ticks": ""
             }
            },
            "type": "scatterpolargl"
           }
          ],
          "scatterternary": [
           {
            "marker": {
             "colorbar": {
              "outlinewidth": 0,
              "ticks": ""
             }
            },
            "type": "scatterternary"
           }
          ],
          "surface": [
           {
            "colorbar": {
             "outlinewidth": 0,
             "ticks": ""
            },
            "colorscale": [
             [
              0,
              "#0d0887"
             ],
             [
              0.1111111111111111,
              "#46039f"
             ],
             [
              0.2222222222222222,
              "#7201a8"
             ],
             [
              0.3333333333333333,
              "#9c179e"
             ],
             [
              0.4444444444444444,
              "#bd3786"
             ],
             [
              0.5555555555555556,
              "#d8576b"
             ],
             [
              0.6666666666666666,
              "#ed7953"
             ],
             [
              0.7777777777777778,
              "#fb9f3a"
             ],
             [
              0.8888888888888888,
              "#fdca26"
             ],
             [
              1,
              "#f0f921"
             ]
            ],
            "type": "surface"
           }
          ],
          "table": [
           {
            "cells": {
             "fill": {
              "color": "#EBF0F8"
             },
             "line": {
              "color": "white"
             }
            },
            "header": {
             "fill": {
              "color": "#C8D4E3"
             },
             "line": {
              "color": "white"
             }
            },
            "type": "table"
           }
          ]
         },
         "layout": {
          "annotationdefaults": {
           "arrowcolor": "#2a3f5f",
           "arrowhead": 0,
           "arrowwidth": 1
          },
          "autotypenumbers": "strict",
          "coloraxis": {
           "colorbar": {
            "outlinewidth": 0,
            "ticks": ""
           }
          },
          "colorscale": {
           "diverging": [
            [
             0,
             "#8e0152"
            ],
            [
             0.1,
             "#c51b7d"
            ],
            [
             0.2,
             "#de77ae"
            ],
            [
             0.3,
             "#f1b6da"
            ],
            [
             0.4,
             "#fde0ef"
            ],
            [
             0.5,
             "#f7f7f7"
            ],
            [
             0.6,
             "#e6f5d0"
            ],
            [
             0.7,
             "#b8e186"
            ],
            [
             0.8,
             "#7fbc41"
            ],
            [
             0.9,
             "#4d9221"
            ],
            [
             1,
             "#276419"
            ]
           ],
           "sequential": [
            [
             0,
             "#0d0887"
            ],
            [
             0.1111111111111111,
             "#46039f"
            ],
            [
             0.2222222222222222,
             "#7201a8"
            ],
            [
             0.3333333333333333,
             "#9c179e"
            ],
            [
             0.4444444444444444,
             "#bd3786"
            ],
            [
             0.5555555555555556,
             "#d8576b"
            ],
            [
             0.6666666666666666,
             "#ed7953"
            ],
            [
             0.7777777777777778,
             "#fb9f3a"
            ],
            [
             0.8888888888888888,
             "#fdca26"
            ],
            [
             1,
             "#f0f921"
            ]
           ],
           "sequentialminus": [
            [
             0,
             "#0d0887"
            ],
            [
             0.1111111111111111,
             "#46039f"
            ],
            [
             0.2222222222222222,
             "#7201a8"
            ],
            [
             0.3333333333333333,
             "#9c179e"
            ],
            [
             0.4444444444444444,
             "#bd3786"
            ],
            [
             0.5555555555555556,
             "#d8576b"
            ],
            [
             0.6666666666666666,
             "#ed7953"
            ],
            [
             0.7777777777777778,
             "#fb9f3a"
            ],
            [
             0.8888888888888888,
             "#fdca26"
            ],
            [
             1,
             "#f0f921"
            ]
           ]
          },
          "colorway": [
           "#636efa",
           "#EF553B",
           "#00cc96",
           "#ab63fa",
           "#FFA15A",
           "#19d3f3",
           "#FF6692",
           "#B6E880",
           "#FF97FF",
           "#FECB52"
          ],
          "font": {
           "color": "#2a3f5f"
          },
          "geo": {
           "bgcolor": "white",
           "lakecolor": "white",
           "landcolor": "#E5ECF6",
           "showlakes": true,
           "showland": true,
           "subunitcolor": "white"
          },
          "hoverlabel": {
           "align": "left"
          },
          "hovermode": "closest",
          "mapbox": {
           "style": "light"
          },
          "paper_bgcolor": "white",
          "plot_bgcolor": "#E5ECF6",
          "polar": {
           "angularaxis": {
            "gridcolor": "white",
            "linecolor": "white",
            "ticks": ""
           },
           "bgcolor": "#E5ECF6",
           "radialaxis": {
            "gridcolor": "white",
            "linecolor": "white",
            "ticks": ""
           }
          },
          "scene": {
           "xaxis": {
            "backgroundcolor": "#E5ECF6",
            "gridcolor": "white",
            "gridwidth": 2,
            "linecolor": "white",
            "showbackground": true,
            "ticks": "",
            "zerolinecolor": "white"
           },
           "yaxis": {
            "backgroundcolor": "#E5ECF6",
            "gridcolor": "white",
            "gridwidth": 2,
            "linecolor": "white",
            "showbackground": true,
            "ticks": "",
            "zerolinecolor": "white"
           },
           "zaxis": {
            "backgroundcolor": "#E5ECF6",
            "gridcolor": "white",
            "gridwidth": 2,
            "linecolor": "white",
            "showbackground": true,
            "ticks": "",
            "zerolinecolor": "white"
           }
          },
          "shapedefaults": {
           "line": {
            "color": "#2a3f5f"
           }
          },
          "ternary": {
           "aaxis": {
            "gridcolor": "white",
            "linecolor": "white",
            "ticks": ""
           },
           "baxis": {
            "gridcolor": "white",
            "linecolor": "white",
            "ticks": ""
           },
           "bgcolor": "#E5ECF6",
           "caxis": {
            "gridcolor": "white",
            "linecolor": "white",
            "ticks": ""
           }
          },
          "title": {
           "x": 0.05
          },
          "xaxis": {
           "automargin": true,
           "gridcolor": "white",
           "linecolor": "white",
           "ticks": "",
           "title": {
            "standoff": 15
           },
           "zerolinecolor": "white",
           "zerolinewidth": 2
          },
          "yaxis": {
           "automargin": true,
           "gridcolor": "white",
           "linecolor": "white",
           "ticks": "",
           "title": {
            "standoff": 15
           },
           "zerolinecolor": "white",
           "zerolinewidth": 2
          }
         }
        },
        "title": {
         "text": "Opiod Mortality rate in\tNV"
        },
        "xaxis": {
         "anchor": "y",
         "domain": [
          0,
          1
         ],
         "title": {
          "text": "County"
         }
        },
        "yaxis": {
         "anchor": "x",
         "domain": [
          0,
          1
         ],
         "title": {
          "text": "sum of Norm_Deaths"
         }
        }
       }
      },
      "text/html": [
       "<div>                            <div id=\"7c4ce25d-7521-471b-929d-33a144b94ce7\" class=\"plotly-graph-div\" style=\"height:525px; width:100%;\"></div>            <script type=\"text/javascript\">                require([\"plotly\"], function(Plotly) {                    window.PLOTLYENV=window.PLOTLYENV || {};                                    if (document.getElementById(\"7c4ce25d-7521-471b-929d-33a144b94ce7\")) {                    Plotly.newPlot(                        \"7c4ce25d-7521-471b-929d-33a144b94ce7\",                        [{\"alignmentgroup\":\"True\",\"bingroup\":\"x\",\"histfunc\":\"sum\",\"hovertemplate\":\"Population=1150738<br>County=%{x}<br>sum of Norm_Deaths=%{y}<extra></extra>\",\"legendgroup\":\"1150738\",\"marker\":{\"color\":\"#636efa\",\"pattern\":{\"shape\":\"\"}},\"name\":\"1150738\",\"offsetgroup\":\"1150738\",\"orientation\":\"v\",\"showlegend\":true,\"x\":[\"Carson City, NV\"],\"xaxis\":\"x\",\"y\":[14.59932669295704],\"yaxis\":\"y\",\"type\":\"histogram\"},{\"alignmentgroup\":\"True\",\"bingroup\":\"x\",\"histfunc\":\"sum\",\"hovertemplate\":\"Population=513020<br>County=%{x}<br>sum of Norm_Deaths=%{y}<extra></extra>\",\"legendgroup\":\"513020\",\"marker\":{\"color\":\"#EF553B\",\"pattern\":{\"shape\":\"\"}},\"name\":\"513020\",\"offsetgroup\":\"513020\",\"orientation\":\"v\",\"showlegend\":true,\"x\":[\"Churchill County, NV\"],\"xaxis\":\"x\",\"y\":[14.814237261705197],\"yaxis\":\"y\",\"type\":\"histogram\"},{\"alignmentgroup\":\"True\",\"bingroup\":\"x\",\"histfunc\":\"sum\",\"hovertemplate\":\"Population=39172747<br>County=%{x}<br>sum of Norm_Deaths=%{y}<extra></extra>\",\"legendgroup\":\"39172747\",\"marker\":{\"color\":\"#00cc96\",\"pattern\":{\"shape\":\"\"}},\"name\":\"39172747\",\"offsetgroup\":\"39172747\",\"orientation\":\"v\",\"showlegend\":true,\"x\":[\"Clark County, NV\"],\"xaxis\":\"x\",\"y\":[15.692032013991767],\"yaxis\":\"y\",\"type\":\"histogram\"},{\"alignmentgroup\":\"True\",\"bingroup\":\"x\",\"histfunc\":\"sum\",\"hovertemplate\":\"Population=970323<br>County=%{x}<br>sum of Norm_Deaths=%{y}<extra></extra>\",\"legendgroup\":\"970323\",\"marker\":{\"color\":\"#ab63fa\",\"pattern\":{\"shape\":\"\"}},\"name\":\"970323\",\"offsetgroup\":\"970323\",\"orientation\":\"v\",\"showlegend\":true,\"x\":[\"Douglas County, NV\"],\"xaxis\":\"x\",\"y\":[12.263957465709872],\"yaxis\":\"y\",\"type\":\"histogram\"},{\"alignmentgroup\":\"True\",\"bingroup\":\"x\",\"histfunc\":\"sum\",\"hovertemplate\":\"Population=1018219<br>County=%{x}<br>sum of Norm_Deaths=%{y}<extra></extra>\",\"legendgroup\":\"1018219\",\"marker\":{\"color\":\"#FFA15A\",\"pattern\":{\"shape\":\"\"}},\"name\":\"1018219\",\"offsetgroup\":\"1018219\",\"orientation\":\"v\",\"showlegend\":true,\"x\":[\"Elko County, NV\"],\"xaxis\":\"x\",\"y\":[6.383695452549992],\"yaxis\":\"y\",\"type\":\"histogram\"},{\"alignmentgroup\":\"True\",\"bingroup\":\"x\",\"histfunc\":\"sum\",\"hovertemplate\":\"Population=339986<br>County=%{x}<br>sum of Norm_Deaths=%{y}<extra></extra>\",\"legendgroup\":\"339986\",\"marker\":{\"color\":\"#19d3f3\",\"pattern\":{\"shape\":\"\"}},\"name\":\"339986\",\"offsetgroup\":\"339986\",\"orientation\":\"v\",\"showlegend\":true,\"x\":[\"Humboldt County, NV\"],\"xaxis\":\"x\",\"y\":[6.764984440535787],\"yaxis\":\"y\",\"type\":\"histogram\"},{\"alignmentgroup\":\"True\",\"bingroup\":\"x\",\"histfunc\":\"sum\",\"hovertemplate\":\"Population=117647<br>County=%{x}<br>sum of Norm_Deaths=%{y}<extra></extra>\",\"legendgroup\":\"117647\",\"marker\":{\"color\":\"#FF6692\",\"pattern\":{\"shape\":\"\"}},\"name\":\"117647\",\"offsetgroup\":\"117647\",\"orientation\":\"v\",\"showlegend\":true,\"x\":[\"Lander County, NV\"],\"xaxis\":\"x\",\"y\":[10.200005100002551],\"yaxis\":\"y\",\"type\":\"histogram\"},{\"alignmentgroup\":\"True\",\"bingroup\":\"x\",\"histfunc\":\"sum\",\"hovertemplate\":\"Population=1006949<br>County=%{x}<br>sum of Norm_Deaths=%{y}<extra></extra>\",\"legendgroup\":\"1006949\",\"marker\":{\"color\":\"#B6E880\",\"pattern\":{\"shape\":\"\"}},\"name\":\"1006949\",\"offsetgroup\":\"1006949\",\"orientation\":\"v\",\"showlegend\":true,\"x\":[\"Lyon County, NV\"],\"xaxis\":\"x\",\"y\":[12.51304683752603],\"yaxis\":\"y\",\"type\":\"histogram\"},{\"alignmentgroup\":\"True\",\"bingroup\":\"x\",\"histfunc\":\"sum\",\"hovertemplate\":\"Population=99263<br>County=%{x}<br>sum of Norm_Deaths=%{y}<extra></extra>\",\"legendgroup\":\"99263\",\"marker\":{\"color\":\"#FF97FF\",\"pattern\":{\"shape\":\"\"}},\"name\":\"99263\",\"offsetgroup\":\"99263\",\"orientation\":\"v\",\"showlegend\":true,\"x\":[\"Mineral County, NV\"],\"xaxis\":\"x\",\"y\":[14.103946082628976],\"yaxis\":\"y\",\"type\":\"histogram\"},{\"alignmentgroup\":\"True\",\"bingroup\":\"x\",\"histfunc\":\"sum\",\"hovertemplate\":\"Population=857348<br>County=%{x}<br>sum of Norm_Deaths=%{y}<extra></extra>\",\"legendgroup\":\"857348\",\"marker\":{\"color\":\"#FECB52\",\"pattern\":{\"shape\":\"\"}},\"name\":\"857348\",\"offsetgroup\":\"857348\",\"orientation\":\"v\",\"showlegend\":true,\"x\":[\"Nye County, NV\"],\"xaxis\":\"x\",\"y\":[21.92808521160602],\"yaxis\":\"y\",\"type\":\"histogram\"},{\"alignmentgroup\":\"True\",\"bingroup\":\"x\",\"histfunc\":\"sum\",\"hovertemplate\":\"Population=139879<br>County=%{x}<br>sum of Norm_Deaths=%{y}<extra></extra>\",\"legendgroup\":\"139879\",\"marker\":{\"color\":\"#636efa\",\"pattern\":{\"shape\":\"\"}},\"name\":\"139879\",\"offsetgroup\":\"139879\",\"orientation\":\"v\",\"showlegend\":true,\"x\":[\"Pershing County, NV\"],\"xaxis\":\"x\",\"y\":[7.149035952501806],\"yaxis\":\"y\",\"type\":\"histogram\"},{\"alignmentgroup\":\"True\",\"bingroup\":\"x\",\"histfunc\":\"sum\",\"hovertemplate\":\"Population=8625333<br>County=%{x}<br>sum of Norm_Deaths=%{y}<extra></extra>\",\"legendgroup\":\"8625333\",\"marker\":{\"color\":\"#EF553B\",\"pattern\":{\"shape\":\"\"}},\"name\":\"8625333\",\"offsetgroup\":\"8625333\",\"orientation\":\"v\",\"showlegend\":true,\"x\":[\"Washoe County, NV\"],\"xaxis\":\"x\",\"y\":[15.46606954189479],\"yaxis\":\"y\",\"type\":\"histogram\"},{\"alignmentgroup\":\"True\",\"bingroup\":\"x\",\"histfunc\":\"sum\",\"hovertemplate\":\"Population=199960<br>County=%{x}<br>sum of Norm_Deaths=%{y}<extra></extra>\",\"legendgroup\":\"199960\",\"marker\":{\"color\":\"#00cc96\",\"pattern\":{\"shape\":\"\"}},\"name\":\"199960\",\"offsetgroup\":\"199960\",\"orientation\":\"v\",\"showlegend\":true,\"x\":[\"White Pine County, NV\"],\"xaxis\":\"x\",\"y\":[19.003800760152032],\"yaxis\":\"y\",\"type\":\"histogram\"}],                        {\"template\":{\"data\":{\"bar\":[{\"error_x\":{\"color\":\"#2a3f5f\"},\"error_y\":{\"color\":\"#2a3f5f\"},\"marker\":{\"line\":{\"color\":\"#E5ECF6\",\"width\":0.5},\"pattern\":{\"fillmode\":\"overlay\",\"size\":10,\"solidity\":0.2}},\"type\":\"bar\"}],\"barpolar\":[{\"marker\":{\"line\":{\"color\":\"#E5ECF6\",\"width\":0.5},\"pattern\":{\"fillmode\":\"overlay\",\"size\":10,\"solidity\":0.2}},\"type\":\"barpolar\"}],\"carpet\":[{\"aaxis\":{\"endlinecolor\":\"#2a3f5f\",\"gridcolor\":\"white\",\"linecolor\":\"white\",\"minorgridcolor\":\"white\",\"startlinecolor\":\"#2a3f5f\"},\"baxis\":{\"endlinecolor\":\"#2a3f5f\",\"gridcolor\":\"white\",\"linecolor\":\"white\",\"minorgridcolor\":\"white\",\"startlinecolor\":\"#2a3f5f\"},\"type\":\"carpet\"}],\"choropleth\":[{\"colorbar\":{\"outlinewidth\":0,\"ticks\":\"\"},\"type\":\"choropleth\"}],\"contour\":[{\"colorbar\":{\"outlinewidth\":0,\"ticks\":\"\"},\"colorscale\":[[0.0,\"#0d0887\"],[0.1111111111111111,\"#46039f\"],[0.2222222222222222,\"#7201a8\"],[0.3333333333333333,\"#9c179e\"],[0.4444444444444444,\"#bd3786\"],[0.5555555555555556,\"#d8576b\"],[0.6666666666666666,\"#ed7953\"],[0.7777777777777778,\"#fb9f3a\"],[0.8888888888888888,\"#fdca26\"],[1.0,\"#f0f921\"]],\"type\":\"contour\"}],\"contourcarpet\":[{\"colorbar\":{\"outlinewidth\":0,\"ticks\":\"\"},\"type\":\"contourcarpet\"}],\"heatmap\":[{\"colorbar\":{\"outlinewidth\":0,\"ticks\":\"\"},\"colorscale\":[[0.0,\"#0d0887\"],[0.1111111111111111,\"#46039f\"],[0.2222222222222222,\"#7201a8\"],[0.3333333333333333,\"#9c179e\"],[0.4444444444444444,\"#bd3786\"],[0.5555555555555556,\"#d8576b\"],[0.6666666666666666,\"#ed7953\"],[0.7777777777777778,\"#fb9f3a\"],[0.8888888888888888,\"#fdca26\"],[1.0,\"#f0f921\"]],\"type\":\"heatmap\"}],\"heatmapgl\":[{\"colorbar\":{\"outlinewidth\":0,\"ticks\":\"\"},\"colorscale\":[[0.0,\"#0d0887\"],[0.1111111111111111,\"#46039f\"],[0.2222222222222222,\"#7201a8\"],[0.3333333333333333,\"#9c179e\"],[0.4444444444444444,\"#bd3786\"],[0.5555555555555556,\"#d8576b\"],[0.6666666666666666,\"#ed7953\"],[0.7777777777777778,\"#fb9f3a\"],[0.8888888888888888,\"#fdca26\"],[1.0,\"#f0f921\"]],\"type\":\"heatmapgl\"}],\"histogram\":[{\"marker\":{\"pattern\":{\"fillmode\":\"overlay\",\"size\":10,\"solidity\":0.2}},\"type\":\"histogram\"}],\"histogram2d\":[{\"colorbar\":{\"outlinewidth\":0,\"ticks\":\"\"},\"colorscale\":[[0.0,\"#0d0887\"],[0.1111111111111111,\"#46039f\"],[0.2222222222222222,\"#7201a8\"],[0.3333333333333333,\"#9c179e\"],[0.4444444444444444,\"#bd3786\"],[0.5555555555555556,\"#d8576b\"],[0.6666666666666666,\"#ed7953\"],[0.7777777777777778,\"#fb9f3a\"],[0.8888888888888888,\"#fdca26\"],[1.0,\"#f0f921\"]],\"type\":\"histogram2d\"}],\"histogram2dcontour\":[{\"colorbar\":{\"outlinewidth\":0,\"ticks\":\"\"},\"colorscale\":[[0.0,\"#0d0887\"],[0.1111111111111111,\"#46039f\"],[0.2222222222222222,\"#7201a8\"],[0.3333333333333333,\"#9c179e\"],[0.4444444444444444,\"#bd3786\"],[0.5555555555555556,\"#d8576b\"],[0.6666666666666666,\"#ed7953\"],[0.7777777777777778,\"#fb9f3a\"],[0.8888888888888888,\"#fdca26\"],[1.0,\"#f0f921\"]],\"type\":\"histogram2dcontour\"}],\"mesh3d\":[{\"colorbar\":{\"outlinewidth\":0,\"ticks\":\"\"},\"type\":\"mesh3d\"}],\"parcoords\":[{\"line\":{\"colorbar\":{\"outlinewidth\":0,\"ticks\":\"\"}},\"type\":\"parcoords\"}],\"pie\":[{\"automargin\":true,\"type\":\"pie\"}],\"scatter\":[{\"marker\":{\"colorbar\":{\"outlinewidth\":0,\"ticks\":\"\"}},\"type\":\"scatter\"}],\"scatter3d\":[{\"line\":{\"colorbar\":{\"outlinewidth\":0,\"ticks\":\"\"}},\"marker\":{\"colorbar\":{\"outlinewidth\":0,\"ticks\":\"\"}},\"type\":\"scatter3d\"}],\"scattercarpet\":[{\"marker\":{\"colorbar\":{\"outlinewidth\":0,\"ticks\":\"\"}},\"type\":\"scattercarpet\"}],\"scattergeo\":[{\"marker\":{\"colorbar\":{\"outlinewidth\":0,\"ticks\":\"\"}},\"type\":\"scattergeo\"}],\"scattergl\":[{\"marker\":{\"colorbar\":{\"outlinewidth\":0,\"ticks\":\"\"}},\"type\":\"scattergl\"}],\"scattermapbox\":[{\"marker\":{\"colorbar\":{\"outlinewidth\":0,\"ticks\":\"\"}},\"type\":\"scattermapbox\"}],\"scatterpolar\":[{\"marker\":{\"colorbar\":{\"outlinewidth\":0,\"ticks\":\"\"}},\"type\":\"scatterpolar\"}],\"scatterpolargl\":[{\"marker\":{\"colorbar\":{\"outlinewidth\":0,\"ticks\":\"\"}},\"type\":\"scatterpolargl\"}],\"scatterternary\":[{\"marker\":{\"colorbar\":{\"outlinewidth\":0,\"ticks\":\"\"}},\"type\":\"scatterternary\"}],\"surface\":[{\"colorbar\":{\"outlinewidth\":0,\"ticks\":\"\"},\"colorscale\":[[0.0,\"#0d0887\"],[0.1111111111111111,\"#46039f\"],[0.2222222222222222,\"#7201a8\"],[0.3333333333333333,\"#9c179e\"],[0.4444444444444444,\"#bd3786\"],[0.5555555555555556,\"#d8576b\"],[0.6666666666666666,\"#ed7953\"],[0.7777777777777778,\"#fb9f3a\"],[0.8888888888888888,\"#fdca26\"],[1.0,\"#f0f921\"]],\"type\":\"surface\"}],\"table\":[{\"cells\":{\"fill\":{\"color\":\"#EBF0F8\"},\"line\":{\"color\":\"white\"}},\"header\":{\"fill\":{\"color\":\"#C8D4E3\"},\"line\":{\"color\":\"white\"}},\"type\":\"table\"}]},\"layout\":{\"annotationdefaults\":{\"arrowcolor\":\"#2a3f5f\",\"arrowhead\":0,\"arrowwidth\":1},\"autotypenumbers\":\"strict\",\"coloraxis\":{\"colorbar\":{\"outlinewidth\":0,\"ticks\":\"\"}},\"colorscale\":{\"diverging\":[[0,\"#8e0152\"],[0.1,\"#c51b7d\"],[0.2,\"#de77ae\"],[0.3,\"#f1b6da\"],[0.4,\"#fde0ef\"],[0.5,\"#f7f7f7\"],[0.6,\"#e6f5d0\"],[0.7,\"#b8e186\"],[0.8,\"#7fbc41\"],[0.9,\"#4d9221\"],[1,\"#276419\"]],\"sequential\":[[0.0,\"#0d0887\"],[0.1111111111111111,\"#46039f\"],[0.2222222222222222,\"#7201a8\"],[0.3333333333333333,\"#9c179e\"],[0.4444444444444444,\"#bd3786\"],[0.5555555555555556,\"#d8576b\"],[0.6666666666666666,\"#ed7953\"],[0.7777777777777778,\"#fb9f3a\"],[0.8888888888888888,\"#fdca26\"],[1.0,\"#f0f921\"]],\"sequentialminus\":[[0.0,\"#0d0887\"],[0.1111111111111111,\"#46039f\"],[0.2222222222222222,\"#7201a8\"],[0.3333333333333333,\"#9c179e\"],[0.4444444444444444,\"#bd3786\"],[0.5555555555555556,\"#d8576b\"],[0.6666666666666666,\"#ed7953\"],[0.7777777777777778,\"#fb9f3a\"],[0.8888888888888888,\"#fdca26\"],[1.0,\"#f0f921\"]]},\"colorway\":[\"#636efa\",\"#EF553B\",\"#00cc96\",\"#ab63fa\",\"#FFA15A\",\"#19d3f3\",\"#FF6692\",\"#B6E880\",\"#FF97FF\",\"#FECB52\"],\"font\":{\"color\":\"#2a3f5f\"},\"geo\":{\"bgcolor\":\"white\",\"lakecolor\":\"white\",\"landcolor\":\"#E5ECF6\",\"showlakes\":true,\"showland\":true,\"subunitcolor\":\"white\"},\"hoverlabel\":{\"align\":\"left\"},\"hovermode\":\"closest\",\"mapbox\":{\"style\":\"light\"},\"paper_bgcolor\":\"white\",\"plot_bgcolor\":\"#E5ECF6\",\"polar\":{\"angularaxis\":{\"gridcolor\":\"white\",\"linecolor\":\"white\",\"ticks\":\"\"},\"bgcolor\":\"#E5ECF6\",\"radialaxis\":{\"gridcolor\":\"white\",\"linecolor\":\"white\",\"ticks\":\"\"}},\"scene\":{\"xaxis\":{\"backgroundcolor\":\"#E5ECF6\",\"gridcolor\":\"white\",\"gridwidth\":2,\"linecolor\":\"white\",\"showbackground\":true,\"ticks\":\"\",\"zerolinecolor\":\"white\"},\"yaxis\":{\"backgroundcolor\":\"#E5ECF6\",\"gridcolor\":\"white\",\"gridwidth\":2,\"linecolor\":\"white\",\"showbackground\":true,\"ticks\":\"\",\"zerolinecolor\":\"white\"},\"zaxis\":{\"backgroundcolor\":\"#E5ECF6\",\"gridcolor\":\"white\",\"gridwidth\":2,\"linecolor\":\"white\",\"showbackground\":true,\"ticks\":\"\",\"zerolinecolor\":\"white\"}},\"shapedefaults\":{\"line\":{\"color\":\"#2a3f5f\"}},\"ternary\":{\"aaxis\":{\"gridcolor\":\"white\",\"linecolor\":\"white\",\"ticks\":\"\"},\"baxis\":{\"gridcolor\":\"white\",\"linecolor\":\"white\",\"ticks\":\"\"},\"bgcolor\":\"#E5ECF6\",\"caxis\":{\"gridcolor\":\"white\",\"linecolor\":\"white\",\"ticks\":\"\"}},\"title\":{\"x\":0.05},\"xaxis\":{\"automargin\":true,\"gridcolor\":\"white\",\"linecolor\":\"white\",\"ticks\":\"\",\"title\":{\"standoff\":15},\"zerolinecolor\":\"white\",\"zerolinewidth\":2},\"yaxis\":{\"automargin\":true,\"gridcolor\":\"white\",\"linecolor\":\"white\",\"ticks\":\"\",\"title\":{\"standoff\":15},\"zerolinecolor\":\"white\",\"zerolinewidth\":2}}},\"xaxis\":{\"anchor\":\"y\",\"domain\":[0.0,1.0],\"title\":{\"text\":\"County\"}},\"yaxis\":{\"anchor\":\"x\",\"domain\":[0.0,1.0],\"title\":{\"text\":\"sum of Norm_Deaths\"}},\"legend\":{\"title\":{\"text\":\"Population\"},\"tracegroupgap\":0},\"title\":{\"text\":\"Opiod Mortality rate in\\tNV\"},\"barmode\":\"relative\"},                        {\"responsive\": true}                    ).then(function(){\n",
       "                            \n",
       "var gd = document.getElementById('7c4ce25d-7521-471b-929d-33a144b94ce7');\n",
       "var x = new MutationObserver(function (mutations, observer) {{\n",
       "        var display = window.getComputedStyle(gd).display;\n",
       "        if (!display || display === 'none') {{\n",
       "            console.log([gd, 'removed!']);\n",
       "            Plotly.purge(gd);\n",
       "            observer.disconnect();\n",
       "        }}\n",
       "}});\n",
       "\n",
       "// Listen for the removal of the full notebook cells\n",
       "var notebookContainer = gd.closest('#notebook-container');\n",
       "if (notebookContainer) {{\n",
       "    x.observe(notebookContainer, {childList: true});\n",
       "}}\n",
       "\n",
       "// Listen for the clearing of the current output cell\n",
       "var outputEl = gd.closest('.output');\n",
       "if (outputEl) {{\n",
       "    x.observe(outputEl, {childList: true});\n",
       "}}\n",
       "\n",
       "                        })                };                });            </script>        </div>"
      ]
     },
     "metadata": {},
     "output_type": "display_data"
    },
    {
     "name": "stdout",
     "output_type": "stream",
     "text": [
      "The Number of counties in-NV : 13\n",
      "Top-10 counties with highest mortatlity rate in state-NV are:\n",
      " 1694           Nye County, NV\n",
      "2445    White Pine County, NV\n",
      "439          Clark County, NV\n",
      "2400        Washoe County, NV\n",
      "425      Churchill County, NV\n",
      "342           Carson City, NV\n",
      "1546       Mineral County, NV\n",
      "1388          Lyon County, NV\n",
      "662        Douglas County, NV\n",
      "1257        Lander County, NV\n",
      "Name: County, dtype: object\n"
     ]
    },
    {
     "data": {
      "application/vnd.plotly.v1+json": {
       "config": {
        "plotlyServerURL": "https://plot.ly"
       },
       "data": [
        {
         "alignmentgroup": "True",
         "bingroup": "x",
         "histfunc": "sum",
         "hovertemplate": "Population=3274264<br>County=%{x}<br>sum of Norm_Deaths=%{y}<extra></extra>",
         "legendgroup": "3274264",
         "marker": {
          "color": "#636efa",
          "pattern": {
           "shape": ""
          }
         },
         "name": "3274264",
         "offsetgroup": "3274264",
         "orientation": "v",
         "showlegend": true,
         "type": "histogram",
         "x": [
          "Kent County, DE"
         ],
         "xaxis": "x",
         "y": [
          13.835170285597009
         ],
         "yaxis": "y"
        },
        {
         "alignmentgroup": "True",
         "bingroup": "x",
         "histfunc": "sum",
         "hovertemplate": "Population=11218804<br>County=%{x}<br>sum of Norm_Deaths=%{y}<extra></extra>",
         "legendgroup": "11218804",
         "marker": {
          "color": "#EF553B",
          "pattern": {
           "shape": ""
          }
         },
         "name": "11218804",
         "offsetgroup": "11218804",
         "orientation": "v",
         "showlegend": true,
         "type": "histogram",
         "x": [
          "New Castle County, DE"
         ],
         "xaxis": "x",
         "y": [
          16.01775019868428
         ],
         "yaxis": "y"
        },
        {
         "alignmentgroup": "True",
         "bingroup": "x",
         "histfunc": "sum",
         "hovertemplate": "Population=4052364<br>County=%{x}<br>sum of Norm_Deaths=%{y}<extra></extra>",
         "legendgroup": "4052364",
         "marker": {
          "color": "#00cc96",
          "pattern": {
           "shape": ""
          }
         },
         "name": "4052364",
         "offsetgroup": "4052364",
         "orientation": "v",
         "showlegend": true,
         "type": "histogram",
         "x": [
          "Sussex County, DE"
         ],
         "xaxis": "x",
         "y": [
          14.361987225234456
         ],
         "yaxis": "y"
        }
       ],
       "layout": {
        "barmode": "relative",
        "legend": {
         "title": {
          "text": "Population"
         },
         "tracegroupgap": 0
        },
        "template": {
         "data": {
          "bar": [
           {
            "error_x": {
             "color": "#2a3f5f"
            },
            "error_y": {
             "color": "#2a3f5f"
            },
            "marker": {
             "line": {
              "color": "#E5ECF6",
              "width": 0.5
             },
             "pattern": {
              "fillmode": "overlay",
              "size": 10,
              "solidity": 0.2
             }
            },
            "type": "bar"
           }
          ],
          "barpolar": [
           {
            "marker": {
             "line": {
              "color": "#E5ECF6",
              "width": 0.5
             },
             "pattern": {
              "fillmode": "overlay",
              "size": 10,
              "solidity": 0.2
             }
            },
            "type": "barpolar"
           }
          ],
          "carpet": [
           {
            "aaxis": {
             "endlinecolor": "#2a3f5f",
             "gridcolor": "white",
             "linecolor": "white",
             "minorgridcolor": "white",
             "startlinecolor": "#2a3f5f"
            },
            "baxis": {
             "endlinecolor": "#2a3f5f",
             "gridcolor": "white",
             "linecolor": "white",
             "minorgridcolor": "white",
             "startlinecolor": "#2a3f5f"
            },
            "type": "carpet"
           }
          ],
          "choropleth": [
           {
            "colorbar": {
             "outlinewidth": 0,
             "ticks": ""
            },
            "type": "choropleth"
           }
          ],
          "contour": [
           {
            "colorbar": {
             "outlinewidth": 0,
             "ticks": ""
            },
            "colorscale": [
             [
              0,
              "#0d0887"
             ],
             [
              0.1111111111111111,
              "#46039f"
             ],
             [
              0.2222222222222222,
              "#7201a8"
             ],
             [
              0.3333333333333333,
              "#9c179e"
             ],
             [
              0.4444444444444444,
              "#bd3786"
             ],
             [
              0.5555555555555556,
              "#d8576b"
             ],
             [
              0.6666666666666666,
              "#ed7953"
             ],
             [
              0.7777777777777778,
              "#fb9f3a"
             ],
             [
              0.8888888888888888,
              "#fdca26"
             ],
             [
              1,
              "#f0f921"
             ]
            ],
            "type": "contour"
           }
          ],
          "contourcarpet": [
           {
            "colorbar": {
             "outlinewidth": 0,
             "ticks": ""
            },
            "type": "contourcarpet"
           }
          ],
          "heatmap": [
           {
            "colorbar": {
             "outlinewidth": 0,
             "ticks": ""
            },
            "colorscale": [
             [
              0,
              "#0d0887"
             ],
             [
              0.1111111111111111,
              "#46039f"
             ],
             [
              0.2222222222222222,
              "#7201a8"
             ],
             [
              0.3333333333333333,
              "#9c179e"
             ],
             [
              0.4444444444444444,
              "#bd3786"
             ],
             [
              0.5555555555555556,
              "#d8576b"
             ],
             [
              0.6666666666666666,
              "#ed7953"
             ],
             [
              0.7777777777777778,
              "#fb9f3a"
             ],
             [
              0.8888888888888888,
              "#fdca26"
             ],
             [
              1,
              "#f0f921"
             ]
            ],
            "type": "heatmap"
           }
          ],
          "heatmapgl": [
           {
            "colorbar": {
             "outlinewidth": 0,
             "ticks": ""
            },
            "colorscale": [
             [
              0,
              "#0d0887"
             ],
             [
              0.1111111111111111,
              "#46039f"
             ],
             [
              0.2222222222222222,
              "#7201a8"
             ],
             [
              0.3333333333333333,
              "#9c179e"
             ],
             [
              0.4444444444444444,
              "#bd3786"
             ],
             [
              0.5555555555555556,
              "#d8576b"
             ],
             [
              0.6666666666666666,
              "#ed7953"
             ],
             [
              0.7777777777777778,
              "#fb9f3a"
             ],
             [
              0.8888888888888888,
              "#fdca26"
             ],
             [
              1,
              "#f0f921"
             ]
            ],
            "type": "heatmapgl"
           }
          ],
          "histogram": [
           {
            "marker": {
             "pattern": {
              "fillmode": "overlay",
              "size": 10,
              "solidity": 0.2
             }
            },
            "type": "histogram"
           }
          ],
          "histogram2d": [
           {
            "colorbar": {
             "outlinewidth": 0,
             "ticks": ""
            },
            "colorscale": [
             [
              0,
              "#0d0887"
             ],
             [
              0.1111111111111111,
              "#46039f"
             ],
             [
              0.2222222222222222,
              "#7201a8"
             ],
             [
              0.3333333333333333,
              "#9c179e"
             ],
             [
              0.4444444444444444,
              "#bd3786"
             ],
             [
              0.5555555555555556,
              "#d8576b"
             ],
             [
              0.6666666666666666,
              "#ed7953"
             ],
             [
              0.7777777777777778,
              "#fb9f3a"
             ],
             [
              0.8888888888888888,
              "#fdca26"
             ],
             [
              1,
              "#f0f921"
             ]
            ],
            "type": "histogram2d"
           }
          ],
          "histogram2dcontour": [
           {
            "colorbar": {
             "outlinewidth": 0,
             "ticks": ""
            },
            "colorscale": [
             [
              0,
              "#0d0887"
             ],
             [
              0.1111111111111111,
              "#46039f"
             ],
             [
              0.2222222222222222,
              "#7201a8"
             ],
             [
              0.3333333333333333,
              "#9c179e"
             ],
             [
              0.4444444444444444,
              "#bd3786"
             ],
             [
              0.5555555555555556,
              "#d8576b"
             ],
             [
              0.6666666666666666,
              "#ed7953"
             ],
             [
              0.7777777777777778,
              "#fb9f3a"
             ],
             [
              0.8888888888888888,
              "#fdca26"
             ],
             [
              1,
              "#f0f921"
             ]
            ],
            "type": "histogram2dcontour"
           }
          ],
          "mesh3d": [
           {
            "colorbar": {
             "outlinewidth": 0,
             "ticks": ""
            },
            "type": "mesh3d"
           }
          ],
          "parcoords": [
           {
            "line": {
             "colorbar": {
              "outlinewidth": 0,
              "ticks": ""
             }
            },
            "type": "parcoords"
           }
          ],
          "pie": [
           {
            "automargin": true,
            "type": "pie"
           }
          ],
          "scatter": [
           {
            "marker": {
             "colorbar": {
              "outlinewidth": 0,
              "ticks": ""
             }
            },
            "type": "scatter"
           }
          ],
          "scatter3d": [
           {
            "line": {
             "colorbar": {
              "outlinewidth": 0,
              "ticks": ""
             }
            },
            "marker": {
             "colorbar": {
              "outlinewidth": 0,
              "ticks": ""
             }
            },
            "type": "scatter3d"
           }
          ],
          "scattercarpet": [
           {
            "marker": {
             "colorbar": {
              "outlinewidth": 0,
              "ticks": ""
             }
            },
            "type": "scattercarpet"
           }
          ],
          "scattergeo": [
           {
            "marker": {
             "colorbar": {
              "outlinewidth": 0,
              "ticks": ""
             }
            },
            "type": "scattergeo"
           }
          ],
          "scattergl": [
           {
            "marker": {
             "colorbar": {
              "outlinewidth": 0,
              "ticks": ""
             }
            },
            "type": "scattergl"
           }
          ],
          "scattermapbox": [
           {
            "marker": {
             "colorbar": {
              "outlinewidth": 0,
              "ticks": ""
             }
            },
            "type": "scattermapbox"
           }
          ],
          "scatterpolar": [
           {
            "marker": {
             "colorbar": {
              "outlinewidth": 0,
              "ticks": ""
             }
            },
            "type": "scatterpolar"
           }
          ],
          "scatterpolargl": [
           {
            "marker": {
             "colorbar": {
              "outlinewidth": 0,
              "ticks": ""
             }
            },
            "type": "scatterpolargl"
           }
          ],
          "scatterternary": [
           {
            "marker": {
             "colorbar": {
              "outlinewidth": 0,
              "ticks": ""
             }
            },
            "type": "scatterternary"
           }
          ],
          "surface": [
           {
            "colorbar": {
             "outlinewidth": 0,
             "ticks": ""
            },
            "colorscale": [
             [
              0,
              "#0d0887"
             ],
             [
              0.1111111111111111,
              "#46039f"
             ],
             [
              0.2222222222222222,
              "#7201a8"
             ],
             [
              0.3333333333333333,
              "#9c179e"
             ],
             [
              0.4444444444444444,
              "#bd3786"
             ],
             [
              0.5555555555555556,
              "#d8576b"
             ],
             [
              0.6666666666666666,
              "#ed7953"
             ],
             [
              0.7777777777777778,
              "#fb9f3a"
             ],
             [
              0.8888888888888888,
              "#fdca26"
             ],
             [
              1,
              "#f0f921"
             ]
            ],
            "type": "surface"
           }
          ],
          "table": [
           {
            "cells": {
             "fill": {
              "color": "#EBF0F8"
             },
             "line": {
              "color": "white"
             }
            },
            "header": {
             "fill": {
              "color": "#C8D4E3"
             },
             "line": {
              "color": "white"
             }
            },
            "type": "table"
           }
          ]
         },
         "layout": {
          "annotationdefaults": {
           "arrowcolor": "#2a3f5f",
           "arrowhead": 0,
           "arrowwidth": 1
          },
          "autotypenumbers": "strict",
          "coloraxis": {
           "colorbar": {
            "outlinewidth": 0,
            "ticks": ""
           }
          },
          "colorscale": {
           "diverging": [
            [
             0,
             "#8e0152"
            ],
            [
             0.1,
             "#c51b7d"
            ],
            [
             0.2,
             "#de77ae"
            ],
            [
             0.3,
             "#f1b6da"
            ],
            [
             0.4,
             "#fde0ef"
            ],
            [
             0.5,
             "#f7f7f7"
            ],
            [
             0.6,
             "#e6f5d0"
            ],
            [
             0.7,
             "#b8e186"
            ],
            [
             0.8,
             "#7fbc41"
            ],
            [
             0.9,
             "#4d9221"
            ],
            [
             1,
             "#276419"
            ]
           ],
           "sequential": [
            [
             0,
             "#0d0887"
            ],
            [
             0.1111111111111111,
             "#46039f"
            ],
            [
             0.2222222222222222,
             "#7201a8"
            ],
            [
             0.3333333333333333,
             "#9c179e"
            ],
            [
             0.4444444444444444,
             "#bd3786"
            ],
            [
             0.5555555555555556,
             "#d8576b"
            ],
            [
             0.6666666666666666,
             "#ed7953"
            ],
            [
             0.7777777777777778,
             "#fb9f3a"
            ],
            [
             0.8888888888888888,
             "#fdca26"
            ],
            [
             1,
             "#f0f921"
            ]
           ],
           "sequentialminus": [
            [
             0,
             "#0d0887"
            ],
            [
             0.1111111111111111,
             "#46039f"
            ],
            [
             0.2222222222222222,
             "#7201a8"
            ],
            [
             0.3333333333333333,
             "#9c179e"
            ],
            [
             0.4444444444444444,
             "#bd3786"
            ],
            [
             0.5555555555555556,
             "#d8576b"
            ],
            [
             0.6666666666666666,
             "#ed7953"
            ],
            [
             0.7777777777777778,
             "#fb9f3a"
            ],
            [
             0.8888888888888888,
             "#fdca26"
            ],
            [
             1,
             "#f0f921"
            ]
           ]
          },
          "colorway": [
           "#636efa",
           "#EF553B",
           "#00cc96",
           "#ab63fa",
           "#FFA15A",
           "#19d3f3",
           "#FF6692",
           "#B6E880",
           "#FF97FF",
           "#FECB52"
          ],
          "font": {
           "color": "#2a3f5f"
          },
          "geo": {
           "bgcolor": "white",
           "lakecolor": "white",
           "landcolor": "#E5ECF6",
           "showlakes": true,
           "showland": true,
           "subunitcolor": "white"
          },
          "hoverlabel": {
           "align": "left"
          },
          "hovermode": "closest",
          "mapbox": {
           "style": "light"
          },
          "paper_bgcolor": "white",
          "plot_bgcolor": "#E5ECF6",
          "polar": {
           "angularaxis": {
            "gridcolor": "white",
            "linecolor": "white",
            "ticks": ""
           },
           "bgcolor": "#E5ECF6",
           "radialaxis": {
            "gridcolor": "white",
            "linecolor": "white",
            "ticks": ""
           }
          },
          "scene": {
           "xaxis": {
            "backgroundcolor": "#E5ECF6",
            "gridcolor": "white",
            "gridwidth": 2,
            "linecolor": "white",
            "showbackground": true,
            "ticks": "",
            "zerolinecolor": "white"
           },
           "yaxis": {
            "backgroundcolor": "#E5ECF6",
            "gridcolor": "white",
            "gridwidth": 2,
            "linecolor": "white",
            "showbackground": true,
            "ticks": "",
            "zerolinecolor": "white"
           },
           "zaxis": {
            "backgroundcolor": "#E5ECF6",
            "gridcolor": "white",
            "gridwidth": 2,
            "linecolor": "white",
            "showbackground": true,
            "ticks": "",
            "zerolinecolor": "white"
           }
          },
          "shapedefaults": {
           "line": {
            "color": "#2a3f5f"
           }
          },
          "ternary": {
           "aaxis": {
            "gridcolor": "white",
            "linecolor": "white",
            "ticks": ""
           },
           "baxis": {
            "gridcolor": "white",
            "linecolor": "white",
            "ticks": ""
           },
           "bgcolor": "#E5ECF6",
           "caxis": {
            "gridcolor": "white",
            "linecolor": "white",
            "ticks": ""
           }
          },
          "title": {
           "x": 0.05
          },
          "xaxis": {
           "automargin": true,
           "gridcolor": "white",
           "linecolor": "white",
           "ticks": "",
           "title": {
            "standoff": 15
           },
           "zerolinecolor": "white",
           "zerolinewidth": 2
          },
          "yaxis": {
           "automargin": true,
           "gridcolor": "white",
           "linecolor": "white",
           "ticks": "",
           "title": {
            "standoff": 15
           },
           "zerolinecolor": "white",
           "zerolinewidth": 2
          }
         }
        },
        "title": {
         "text": "Opiod Mortality rate in\tDE"
        },
        "xaxis": {
         "anchor": "y",
         "domain": [
          0,
          1
         ],
         "title": {
          "text": "County"
         }
        },
        "yaxis": {
         "anchor": "x",
         "domain": [
          0,
          1
         ],
         "title": {
          "text": "sum of Norm_Deaths"
         }
        }
       }
      },
      "text/html": [
       "<div>                            <div id=\"31d41c47-59c6-4c1a-b0da-f536cf90c5d2\" class=\"plotly-graph-div\" style=\"height:525px; width:100%;\"></div>            <script type=\"text/javascript\">                require([\"plotly\"], function(Plotly) {                    window.PLOTLYENV=window.PLOTLYENV || {};                                    if (document.getElementById(\"31d41c47-59c6-4c1a-b0da-f536cf90c5d2\")) {                    Plotly.newPlot(                        \"31d41c47-59c6-4c1a-b0da-f536cf90c5d2\",                        [{\"alignmentgroup\":\"True\",\"bingroup\":\"x\",\"histfunc\":\"sum\",\"hovertemplate\":\"Population=3274264<br>County=%{x}<br>sum of Norm_Deaths=%{y}<extra></extra>\",\"legendgroup\":\"3274264\",\"marker\":{\"color\":\"#636efa\",\"pattern\":{\"shape\":\"\"}},\"name\":\"3274264\",\"offsetgroup\":\"3274264\",\"orientation\":\"v\",\"showlegend\":true,\"x\":[\"Kent County, DE\"],\"xaxis\":\"x\",\"y\":[13.835170285597009],\"yaxis\":\"y\",\"type\":\"histogram\"},{\"alignmentgroup\":\"True\",\"bingroup\":\"x\",\"histfunc\":\"sum\",\"hovertemplate\":\"Population=11218804<br>County=%{x}<br>sum of Norm_Deaths=%{y}<extra></extra>\",\"legendgroup\":\"11218804\",\"marker\":{\"color\":\"#EF553B\",\"pattern\":{\"shape\":\"\"}},\"name\":\"11218804\",\"offsetgroup\":\"11218804\",\"orientation\":\"v\",\"showlegend\":true,\"x\":[\"New Castle County, DE\"],\"xaxis\":\"x\",\"y\":[16.01775019868428],\"yaxis\":\"y\",\"type\":\"histogram\"},{\"alignmentgroup\":\"True\",\"bingroup\":\"x\",\"histfunc\":\"sum\",\"hovertemplate\":\"Population=4052364<br>County=%{x}<br>sum of Norm_Deaths=%{y}<extra></extra>\",\"legendgroup\":\"4052364\",\"marker\":{\"color\":\"#00cc96\",\"pattern\":{\"shape\":\"\"}},\"name\":\"4052364\",\"offsetgroup\":\"4052364\",\"orientation\":\"v\",\"showlegend\":true,\"x\":[\"Sussex County, DE\"],\"xaxis\":\"x\",\"y\":[14.361987225234456],\"yaxis\":\"y\",\"type\":\"histogram\"}],                        {\"template\":{\"data\":{\"bar\":[{\"error_x\":{\"color\":\"#2a3f5f\"},\"error_y\":{\"color\":\"#2a3f5f\"},\"marker\":{\"line\":{\"color\":\"#E5ECF6\",\"width\":0.5},\"pattern\":{\"fillmode\":\"overlay\",\"size\":10,\"solidity\":0.2}},\"type\":\"bar\"}],\"barpolar\":[{\"marker\":{\"line\":{\"color\":\"#E5ECF6\",\"width\":0.5},\"pattern\":{\"fillmode\":\"overlay\",\"size\":10,\"solidity\":0.2}},\"type\":\"barpolar\"}],\"carpet\":[{\"aaxis\":{\"endlinecolor\":\"#2a3f5f\",\"gridcolor\":\"white\",\"linecolor\":\"white\",\"minorgridcolor\":\"white\",\"startlinecolor\":\"#2a3f5f\"},\"baxis\":{\"endlinecolor\":\"#2a3f5f\",\"gridcolor\":\"white\",\"linecolor\":\"white\",\"minorgridcolor\":\"white\",\"startlinecolor\":\"#2a3f5f\"},\"type\":\"carpet\"}],\"choropleth\":[{\"colorbar\":{\"outlinewidth\":0,\"ticks\":\"\"},\"type\":\"choropleth\"}],\"contour\":[{\"colorbar\":{\"outlinewidth\":0,\"ticks\":\"\"},\"colorscale\":[[0.0,\"#0d0887\"],[0.1111111111111111,\"#46039f\"],[0.2222222222222222,\"#7201a8\"],[0.3333333333333333,\"#9c179e\"],[0.4444444444444444,\"#bd3786\"],[0.5555555555555556,\"#d8576b\"],[0.6666666666666666,\"#ed7953\"],[0.7777777777777778,\"#fb9f3a\"],[0.8888888888888888,\"#fdca26\"],[1.0,\"#f0f921\"]],\"type\":\"contour\"}],\"contourcarpet\":[{\"colorbar\":{\"outlinewidth\":0,\"ticks\":\"\"},\"type\":\"contourcarpet\"}],\"heatmap\":[{\"colorbar\":{\"outlinewidth\":0,\"ticks\":\"\"},\"colorscale\":[[0.0,\"#0d0887\"],[0.1111111111111111,\"#46039f\"],[0.2222222222222222,\"#7201a8\"],[0.3333333333333333,\"#9c179e\"],[0.4444444444444444,\"#bd3786\"],[0.5555555555555556,\"#d8576b\"],[0.6666666666666666,\"#ed7953\"],[0.7777777777777778,\"#fb9f3a\"],[0.8888888888888888,\"#fdca26\"],[1.0,\"#f0f921\"]],\"type\":\"heatmap\"}],\"heatmapgl\":[{\"colorbar\":{\"outlinewidth\":0,\"ticks\":\"\"},\"colorscale\":[[0.0,\"#0d0887\"],[0.1111111111111111,\"#46039f\"],[0.2222222222222222,\"#7201a8\"],[0.3333333333333333,\"#9c179e\"],[0.4444444444444444,\"#bd3786\"],[0.5555555555555556,\"#d8576b\"],[0.6666666666666666,\"#ed7953\"],[0.7777777777777778,\"#fb9f3a\"],[0.8888888888888888,\"#fdca26\"],[1.0,\"#f0f921\"]],\"type\":\"heatmapgl\"}],\"histogram\":[{\"marker\":{\"pattern\":{\"fillmode\":\"overlay\",\"size\":10,\"solidity\":0.2}},\"type\":\"histogram\"}],\"histogram2d\":[{\"colorbar\":{\"outlinewidth\":0,\"ticks\":\"\"},\"colorscale\":[[0.0,\"#0d0887\"],[0.1111111111111111,\"#46039f\"],[0.2222222222222222,\"#7201a8\"],[0.3333333333333333,\"#9c179e\"],[0.4444444444444444,\"#bd3786\"],[0.5555555555555556,\"#d8576b\"],[0.6666666666666666,\"#ed7953\"],[0.7777777777777778,\"#fb9f3a\"],[0.8888888888888888,\"#fdca26\"],[1.0,\"#f0f921\"]],\"type\":\"histogram2d\"}],\"histogram2dcontour\":[{\"colorbar\":{\"outlinewidth\":0,\"ticks\":\"\"},\"colorscale\":[[0.0,\"#0d0887\"],[0.1111111111111111,\"#46039f\"],[0.2222222222222222,\"#7201a8\"],[0.3333333333333333,\"#9c179e\"],[0.4444444444444444,\"#bd3786\"],[0.5555555555555556,\"#d8576b\"],[0.6666666666666666,\"#ed7953\"],[0.7777777777777778,\"#fb9f3a\"],[0.8888888888888888,\"#fdca26\"],[1.0,\"#f0f921\"]],\"type\":\"histogram2dcontour\"}],\"mesh3d\":[{\"colorbar\":{\"outlinewidth\":0,\"ticks\":\"\"},\"type\":\"mesh3d\"}],\"parcoords\":[{\"line\":{\"colorbar\":{\"outlinewidth\":0,\"ticks\":\"\"}},\"type\":\"parcoords\"}],\"pie\":[{\"automargin\":true,\"type\":\"pie\"}],\"scatter\":[{\"marker\":{\"colorbar\":{\"outlinewidth\":0,\"ticks\":\"\"}},\"type\":\"scatter\"}],\"scatter3d\":[{\"line\":{\"colorbar\":{\"outlinewidth\":0,\"ticks\":\"\"}},\"marker\":{\"colorbar\":{\"outlinewidth\":0,\"ticks\":\"\"}},\"type\":\"scatter3d\"}],\"scattercarpet\":[{\"marker\":{\"colorbar\":{\"outlinewidth\":0,\"ticks\":\"\"}},\"type\":\"scattercarpet\"}],\"scattergeo\":[{\"marker\":{\"colorbar\":{\"outlinewidth\":0,\"ticks\":\"\"}},\"type\":\"scattergeo\"}],\"scattergl\":[{\"marker\":{\"colorbar\":{\"outlinewidth\":0,\"ticks\":\"\"}},\"type\":\"scattergl\"}],\"scattermapbox\":[{\"marker\":{\"colorbar\":{\"outlinewidth\":0,\"ticks\":\"\"}},\"type\":\"scattermapbox\"}],\"scatterpolar\":[{\"marker\":{\"colorbar\":{\"outlinewidth\":0,\"ticks\":\"\"}},\"type\":\"scatterpolar\"}],\"scatterpolargl\":[{\"marker\":{\"colorbar\":{\"outlinewidth\":0,\"ticks\":\"\"}},\"type\":\"scatterpolargl\"}],\"scatterternary\":[{\"marker\":{\"colorbar\":{\"outlinewidth\":0,\"ticks\":\"\"}},\"type\":\"scatterternary\"}],\"surface\":[{\"colorbar\":{\"outlinewidth\":0,\"ticks\":\"\"},\"colorscale\":[[0.0,\"#0d0887\"],[0.1111111111111111,\"#46039f\"],[0.2222222222222222,\"#7201a8\"],[0.3333333333333333,\"#9c179e\"],[0.4444444444444444,\"#bd3786\"],[0.5555555555555556,\"#d8576b\"],[0.6666666666666666,\"#ed7953\"],[0.7777777777777778,\"#fb9f3a\"],[0.8888888888888888,\"#fdca26\"],[1.0,\"#f0f921\"]],\"type\":\"surface\"}],\"table\":[{\"cells\":{\"fill\":{\"color\":\"#EBF0F8\"},\"line\":{\"color\":\"white\"}},\"header\":{\"fill\":{\"color\":\"#C8D4E3\"},\"line\":{\"color\":\"white\"}},\"type\":\"table\"}]},\"layout\":{\"annotationdefaults\":{\"arrowcolor\":\"#2a3f5f\",\"arrowhead\":0,\"arrowwidth\":1},\"autotypenumbers\":\"strict\",\"coloraxis\":{\"colorbar\":{\"outlinewidth\":0,\"ticks\":\"\"}},\"colorscale\":{\"diverging\":[[0,\"#8e0152\"],[0.1,\"#c51b7d\"],[0.2,\"#de77ae\"],[0.3,\"#f1b6da\"],[0.4,\"#fde0ef\"],[0.5,\"#f7f7f7\"],[0.6,\"#e6f5d0\"],[0.7,\"#b8e186\"],[0.8,\"#7fbc41\"],[0.9,\"#4d9221\"],[1,\"#276419\"]],\"sequential\":[[0.0,\"#0d0887\"],[0.1111111111111111,\"#46039f\"],[0.2222222222222222,\"#7201a8\"],[0.3333333333333333,\"#9c179e\"],[0.4444444444444444,\"#bd3786\"],[0.5555555555555556,\"#d8576b\"],[0.6666666666666666,\"#ed7953\"],[0.7777777777777778,\"#fb9f3a\"],[0.8888888888888888,\"#fdca26\"],[1.0,\"#f0f921\"]],\"sequentialminus\":[[0.0,\"#0d0887\"],[0.1111111111111111,\"#46039f\"],[0.2222222222222222,\"#7201a8\"],[0.3333333333333333,\"#9c179e\"],[0.4444444444444444,\"#bd3786\"],[0.5555555555555556,\"#d8576b\"],[0.6666666666666666,\"#ed7953\"],[0.7777777777777778,\"#fb9f3a\"],[0.8888888888888888,\"#fdca26\"],[1.0,\"#f0f921\"]]},\"colorway\":[\"#636efa\",\"#EF553B\",\"#00cc96\",\"#ab63fa\",\"#FFA15A\",\"#19d3f3\",\"#FF6692\",\"#B6E880\",\"#FF97FF\",\"#FECB52\"],\"font\":{\"color\":\"#2a3f5f\"},\"geo\":{\"bgcolor\":\"white\",\"lakecolor\":\"white\",\"landcolor\":\"#E5ECF6\",\"showlakes\":true,\"showland\":true,\"subunitcolor\":\"white\"},\"hoverlabel\":{\"align\":\"left\"},\"hovermode\":\"closest\",\"mapbox\":{\"style\":\"light\"},\"paper_bgcolor\":\"white\",\"plot_bgcolor\":\"#E5ECF6\",\"polar\":{\"angularaxis\":{\"gridcolor\":\"white\",\"linecolor\":\"white\",\"ticks\":\"\"},\"bgcolor\":\"#E5ECF6\",\"radialaxis\":{\"gridcolor\":\"white\",\"linecolor\":\"white\",\"ticks\":\"\"}},\"scene\":{\"xaxis\":{\"backgroundcolor\":\"#E5ECF6\",\"gridcolor\":\"white\",\"gridwidth\":2,\"linecolor\":\"white\",\"showbackground\":true,\"ticks\":\"\",\"zerolinecolor\":\"white\"},\"yaxis\":{\"backgroundcolor\":\"#E5ECF6\",\"gridcolor\":\"white\",\"gridwidth\":2,\"linecolor\":\"white\",\"showbackground\":true,\"ticks\":\"\",\"zerolinecolor\":\"white\"},\"zaxis\":{\"backgroundcolor\":\"#E5ECF6\",\"gridcolor\":\"white\",\"gridwidth\":2,\"linecolor\":\"white\",\"showbackground\":true,\"ticks\":\"\",\"zerolinecolor\":\"white\"}},\"shapedefaults\":{\"line\":{\"color\":\"#2a3f5f\"}},\"ternary\":{\"aaxis\":{\"gridcolor\":\"white\",\"linecolor\":\"white\",\"ticks\":\"\"},\"baxis\":{\"gridcolor\":\"white\",\"linecolor\":\"white\",\"ticks\":\"\"},\"bgcolor\":\"#E5ECF6\",\"caxis\":{\"gridcolor\":\"white\",\"linecolor\":\"white\",\"ticks\":\"\"}},\"title\":{\"x\":0.05},\"xaxis\":{\"automargin\":true,\"gridcolor\":\"white\",\"linecolor\":\"white\",\"ticks\":\"\",\"title\":{\"standoff\":15},\"zerolinecolor\":\"white\",\"zerolinewidth\":2},\"yaxis\":{\"automargin\":true,\"gridcolor\":\"white\",\"linecolor\":\"white\",\"ticks\":\"\",\"title\":{\"standoff\":15},\"zerolinecolor\":\"white\",\"zerolinewidth\":2}}},\"xaxis\":{\"anchor\":\"y\",\"domain\":[0.0,1.0],\"title\":{\"text\":\"County\"}},\"yaxis\":{\"anchor\":\"x\",\"domain\":[0.0,1.0],\"title\":{\"text\":\"sum of Norm_Deaths\"}},\"legend\":{\"title\":{\"text\":\"Population\"},\"tracegroupgap\":0},\"title\":{\"text\":\"Opiod Mortality rate in\\tDE\"},\"barmode\":\"relative\"},                        {\"responsive\": true}                    ).then(function(){\n",
       "                            \n",
       "var gd = document.getElementById('31d41c47-59c6-4c1a-b0da-f536cf90c5d2');\n",
       "var x = new MutationObserver(function (mutations, observer) {{\n",
       "        var display = window.getComputedStyle(gd).display;\n",
       "        if (!display || display === 'none') {{\n",
       "            console.log([gd, 'removed!']);\n",
       "            Plotly.purge(gd);\n",
       "            observer.disconnect();\n",
       "        }}\n",
       "}});\n",
       "\n",
       "// Listen for the removal of the full notebook cells\n",
       "var notebookContainer = gd.closest('#notebook-container');\n",
       "if (notebookContainer) {{\n",
       "    x.observe(notebookContainer, {childList: true});\n",
       "}}\n",
       "\n",
       "// Listen for the clearing of the current output cell\n",
       "var outputEl = gd.closest('.output');\n",
       "if (outputEl) {{\n",
       "    x.observe(outputEl, {childList: true});\n",
       "}}\n",
       "\n",
       "                        })                };                });            </script>        </div>"
      ]
     },
     "metadata": {},
     "output_type": "display_data"
    },
    {
     "name": "stdout",
     "output_type": "stream",
     "text": [
      "The Number of counties in-DE : 3\n",
      "Top-10 counties with highest mortatlity rate in state-DE are:\n",
      " 1653    New Castle County, DE\n",
      "2202        Sussex County, DE\n",
      "1186          Kent County, DE\n",
      "Name: County, dtype: object\n"
     ]
    },
    {
     "data": {
      "application/vnd.plotly.v1+json": {
       "config": {
        "plotlyServerURL": "https://plot.ly"
       },
       "data": [
        {
         "alignmentgroup": "True",
         "bingroup": "x",
         "histfunc": "sum",
         "hovertemplate": "Population=9146345<br>County=%{x}<br>sum of Norm_Deaths=%{y}<extra></extra>",
         "legendgroup": "9146345",
         "marker": {
          "color": "#636efa",
          "pattern": {
           "shape": ""
          }
         },
         "name": "9146345",
         "offsetgroup": "9146345",
         "orientation": "v",
         "showlegend": true,
         "type": "histogram",
         "x": [
          "Adams County, CO"
         ],
         "xaxis": "x",
         "y": [
          12.791995053761912
         ],
         "yaxis": "y"
        },
        {
         "alignmentgroup": "True",
         "bingroup": "x",
         "histfunc": "sum",
         "hovertemplate": "Population=328752<br>County=%{x}<br>sum of Norm_Deaths=%{y}<extra></extra>",
         "legendgroup": "328752",
         "marker": {
          "color": "#EF553B",
          "pattern": {
           "shape": ""
          }
         },
         "name": "328752",
         "offsetgroup": "328752",
         "orientation": "v",
         "showlegend": true,
         "type": "histogram",
         "x": [
          "Alamosa County, CO"
         ],
         "xaxis": "x",
         "y": [
          12.775587677033142
         ],
         "yaxis": "y"
        },
        {
         "alignmentgroup": "True",
         "bingroup": "x",
         "histfunc": "sum",
         "hovertemplate": "Population=11925374<br>County=%{x}<br>sum of Norm_Deaths=%{y}<extra></extra>",
         "legendgroup": "11925374",
         "marker": {
          "color": "#00cc96",
          "pattern": {
           "shape": ""
          }
         },
         "name": "11925374",
         "offsetgroup": "11925374",
         "orientation": "v",
         "showlegend": true,
         "type": "histogram",
         "x": [
          "Arapahoe County, CO"
         ],
         "xaxis": "x",
         "y": [
          10.750186954304327
         ],
         "yaxis": "y"
        },
        {
         "alignmentgroup": "True",
         "bingroup": "x",
         "histfunc": "sum",
         "hovertemplate": "Population=250136<br>County=%{x}<br>sum of Norm_Deaths=%{y}<extra></extra>",
         "legendgroup": "250136",
         "marker": {
          "color": "#ab63fa",
          "pattern": {
           "shape": ""
          }
         },
         "name": "250136",
         "offsetgroup": "250136",
         "orientation": "v",
         "showlegend": true,
         "type": "histogram",
         "x": [
          "Archuleta County, CO"
         ],
         "xaxis": "x",
         "y": [
          5.99673777465059
         ],
         "yaxis": "y"
        },
        {
         "alignmentgroup": "True",
         "bingroup": "x",
         "histfunc": "sum",
         "hovertemplate": "Population=125367<br>County=%{x}<br>sum of Norm_Deaths=%{y}<extra></extra>",
         "legendgroup": "125367",
         "marker": {
          "color": "#FFA15A",
          "pattern": {
           "shape": ""
          }
         },
         "name": "125367",
         "offsetgroup": "125367",
         "orientation": "v",
         "showlegend": true,
         "type": "histogram",
         "x": [
          "Bent County, CO"
         ],
         "xaxis": "x",
         "y": [
          11.96487113833784
         ],
         "yaxis": "y"
        },
        {
         "alignmentgroup": "True",
         "bingroup": "x",
         "histfunc": "sum",
         "hovertemplate": "Population=6314438<br>County=%{x}<br>sum of Norm_Deaths=%{y}<extra></extra>",
         "legendgroup": "6314438",
         "marker": {
          "color": "#19d3f3",
          "pattern": {
           "shape": ""
          }
         },
         "name": "6314438",
         "offsetgroup": "6314438",
         "orientation": "v",
         "showlegend": true,
         "type": "histogram",
         "x": [
          "Boulder County, CO"
         ],
         "xaxis": "x",
         "y": [
          8.726033892485761
         ],
         "yaxis": "y"
        },
        {
         "alignmentgroup": "True",
         "bingroup": "x",
         "histfunc": "sum",
         "hovertemplate": "Population=976025<br>County=%{x}<br>sum of Norm_Deaths=%{y}<extra></extra>",
         "legendgroup": "976025",
         "marker": {
          "color": "#FF6692",
          "pattern": {
           "shape": ""
          }
         },
         "name": "976025",
         "offsetgroup": "976025",
         "orientation": "v",
         "showlegend": true,
         "type": "histogram",
         "x": [
          "Broomfield County, CO"
         ],
         "xaxis": "x",
         "y": [
          8.196511359852462
         ],
         "yaxis": "y"
        },
        {
         "alignmentgroup": "True",
         "bingroup": "x",
         "histfunc": "sum",
         "hovertemplate": "Population=375063<br>County=%{x}<br>sum of Norm_Deaths=%{y}<extra></extra>",
         "legendgroup": "375063",
         "marker": {
          "color": "#B6E880",
          "pattern": {
           "shape": ""
          }
         },
         "name": "375063",
         "offsetgroup": "375063",
         "orientation": "v",
         "showlegend": true,
         "type": "histogram",
         "x": [
          "Chaffee County, CO"
         ],
         "xaxis": "x",
         "y": [
          10.9314968418639
         ],
         "yaxis": "y"
        },
        {
         "alignmentgroup": "True",
         "bingroup": "x",
         "histfunc": "sum",
         "hovertemplate": "Population=194500<br>County=%{x}<br>sum of Norm_Deaths=%{y}<extra></extra>",
         "legendgroup": "194500",
         "marker": {
          "color": "#FF97FF",
          "pattern": {
           "shape": ""
          }
         },
         "name": "194500",
         "offsetgroup": "194500",
         "orientation": "v",
         "showlegend": true,
         "type": "histogram",
         "x": [
          "Clear Creek County, CO"
         ],
         "xaxis": "x",
         "y": [
          10.282776349614396
         ],
         "yaxis": "y"
        },
        {
         "alignmentgroup": "True",
         "bingroup": "x",
         "histfunc": "sum",
         "hovertemplate": "Population=173469<br>County=%{x}<br>sum of Norm_Deaths=%{y}<extra></extra>",
         "legendgroup": "173469",
         "marker": {
          "color": "#FECB52",
          "pattern": {
           "shape": ""
          }
         },
         "name": "173469",
         "offsetgroup": "173469",
         "orientation": "v",
         "showlegend": true,
         "type": "histogram",
         "x": [
          "Conejos County, CO"
         ],
         "xaxis": "x",
         "y": [
          18.447100058223658
         ],
         "yaxis": "y"
        },
        {
         "alignmentgroup": "True",
         "bingroup": "x",
         "histfunc": "sum",
         "hovertemplate": "Population=76198<br>County=%{x}<br>sum of Norm_Deaths=%{y}<extra></extra>",
         "legendgroup": "76198",
         "marker": {
          "color": "#636efa",
          "pattern": {
           "shape": ""
          }
         },
         "name": "76198",
         "offsetgroup": "76198",
         "orientation": "v",
         "showlegend": true,
         "type": "histogram",
         "x": [
          "Costilla County, CO"
         ],
         "xaxis": "x",
         "y": [
          14.436074437649282
         ],
         "yaxis": "y"
        },
        {
         "alignmentgroup": "True",
         "bingroup": "x",
         "histfunc": "sum",
         "hovertemplate": "Population=119231<br>County=%{x}<br>sum of Norm_Deaths=%{y}<extra></extra>",
         "legendgroup": "119231",
         "marker": {
          "color": "#EF553B",
          "pattern": {
           "shape": ""
          }
         },
         "name": "119231",
         "offsetgroup": "119231",
         "orientation": "v",
         "showlegend": true,
         "type": "histogram",
         "x": [
          "Crowley County, CO"
         ],
         "xaxis": "x",
         "y": [
          8.387080541134438
         ],
         "yaxis": "y"
        },
        {
         "alignmentgroup": "True",
         "bingroup": "x",
         "histfunc": "sum",
         "hovertemplate": "Population=626859<br>County=%{x}<br>sum of Norm_Deaths=%{y}<extra></extra>",
         "legendgroup": "626859",
         "marker": {
          "color": "#00cc96",
          "pattern": {
           "shape": ""
          }
         },
         "name": "626859",
         "offsetgroup": "626859",
         "orientation": "v",
         "showlegend": true,
         "type": "histogram",
         "x": [
          "Delta County, CO"
         ],
         "xaxis": "x",
         "y": [
          8.773902903204707
         ],
         "yaxis": "y"
        },
        {
         "alignmentgroup": "True",
         "bingroup": "x",
         "histfunc": "sum",
         "hovertemplate": "Population=12854984<br>County=%{x}<br>sum of Norm_Deaths=%{y}<extra></extra>",
         "legendgroup": "12854984",
         "marker": {
          "color": "#ab63fa",
          "pattern": {
           "shape": ""
          }
         },
         "name": "12854984",
         "offsetgroup": "12854984",
         "orientation": "v",
         "showlegend": true,
         "type": "histogram",
         "x": [
          "Denver County, CO"
         ],
         "xaxis": "x",
         "y": [
          17.331799090531735
         ],
         "yaxis": "y"
        },
        {
         "alignmentgroup": "True",
         "bingroup": "x",
         "histfunc": "sum",
         "hovertemplate": "Population=5697193<br>County=%{x}<br>sum of Norm_Deaths=%{y}<extra></extra>",
         "legendgroup": "5697193",
         "marker": {
          "color": "#FFA15A",
          "pattern": {
           "shape": ""
          }
         },
         "name": "5697193",
         "offsetgroup": "5697193",
         "orientation": "v",
         "showlegend": true,
         "type": "histogram",
         "x": [
          "Douglas County, CO"
         ],
         "xaxis": "x",
         "y": [
          4.949805983402704
         ],
         "yaxis": "y"
        },
        {
         "alignmentgroup": "True",
         "bingroup": "x",
         "histfunc": "sum",
         "hovertemplate": "Population=1043293<br>County=%{x}<br>sum of Norm_Deaths=%{y}<extra></extra>",
         "legendgroup": "1043293",
         "marker": {
          "color": "#19d3f3",
          "pattern": {
           "shape": ""
          }
         },
         "name": "1043293",
         "offsetgroup": "1043293",
         "orientation": "v",
         "showlegend": true,
         "type": "histogram",
         "x": [
          "Eagle County, CO"
         ],
         "xaxis": "x",
         "y": [
          4.984218239746649
         ],
         "yaxis": "y"
        },
        {
         "alignmentgroup": "True",
         "bingroup": "x",
         "histfunc": "sum",
         "hovertemplate": "Population=12868011<br>County=%{x}<br>sum of Norm_Deaths=%{y}<extra></extra>",
         "legendgroup": "12868011",
         "marker": {
          "color": "#FF6692",
          "pattern": {
           "shape": ""
          }
         },
         "name": "12868011",
         "offsetgroup": "12868011",
         "orientation": "v",
         "showlegend": true,
         "type": "histogram",
         "x": [
          "El Paso County, CO"
         ],
         "xaxis": "x",
         "y": [
          12.558273380400436
         ],
         "yaxis": "y"
        },
        {
         "alignmentgroup": "True",
         "bingroup": "x",
         "histfunc": "sum",
         "hovertemplate": "Population=484421<br>County=%{x}<br>sum of Norm_Deaths=%{y}<extra></extra>",
         "legendgroup": "484421",
         "marker": {
          "color": "#B6E880",
          "pattern": {
           "shape": ""
          }
         },
         "name": "484421",
         "offsetgroup": "484421",
         "orientation": "v",
         "showlegend": true,
         "type": "histogram",
         "x": [
          "Elbert County, CO"
         ],
         "xaxis": "x",
         "y": [
          7.018688289731452
         ],
         "yaxis": "y"
        },
        {
         "alignmentgroup": "True",
         "bingroup": "x",
         "histfunc": "sum",
         "hovertemplate": "Population=984937<br>County=%{x}<br>sum of Norm_Deaths=%{y}<extra></extra>",
         "legendgroup": "984937",
         "marker": {
          "color": "#FF97FF",
          "pattern": {
           "shape": ""
          }
         },
         "name": "984937",
         "offsetgroup": "984937",
         "orientation": "v",
         "showlegend": true,
         "type": "histogram",
         "x": [
          "Fremont County, CO"
         ],
         "xaxis": "x",
         "y": [
          11.168227003351483
         ],
         "yaxis": "y"
        },
        {
         "alignmentgroup": "True",
         "bingroup": "x",
         "histfunc": "sum",
         "hovertemplate": "Population=1122329<br>County=%{x}<br>sum of Norm_Deaths=%{y}<extra></extra>",
         "legendgroup": "1122329",
         "marker": {
          "color": "#FECB52",
          "pattern": {
           "shape": ""
          }
         },
         "name": "1122329",
         "offsetgroup": "1122329",
         "orientation": "v",
         "showlegend": true,
         "type": "histogram",
         "x": [
          "Garfield County, CO"
         ],
         "xaxis": "x",
         "y": [
          7.573536814962457
         ],
         "yaxis": "y"
        },
        {
         "alignmentgroup": "True",
         "bingroup": "x",
         "histfunc": "sum",
         "hovertemplate": "Population=297485<br>County=%{x}<br>sum of Norm_Deaths=%{y}<extra></extra>",
         "legendgroup": "297485",
         "marker": {
          "color": "#636efa",
          "pattern": {
           "shape": ""
          }
         },
         "name": "297485",
         "offsetgroup": "297485",
         "orientation": "v",
         "showlegend": true,
         "type": "histogram",
         "x": [
          "Grand County, CO"
         ],
         "xaxis": "x",
         "y": [
          6.3868766492428195
         ],
         "yaxis": "y"
        },
        {
         "alignmentgroup": "True",
         "bingroup": "x",
         "histfunc": "sum",
         "hovertemplate": "Population=321264<br>County=%{x}<br>sum of Norm_Deaths=%{y}<extra></extra>",
         "legendgroup": "321264",
         "marker": {
          "color": "#EF553B",
          "pattern": {
           "shape": ""
          }
         },
         "name": "321264",
         "offsetgroup": "321264",
         "orientation": "v",
         "showlegend": true,
         "type": "histogram",
         "x": [
          "Gunnison County, CO"
         ],
         "xaxis": "x",
         "y": [
          4.980327705563026
         ],
         "yaxis": "y"
        },
        {
         "alignmentgroup": "True",
         "bingroup": "x",
         "histfunc": "sum",
         "hovertemplate": "Population=147213<br>County=%{x}<br>sum of Norm_Deaths=%{y}<extra></extra>",
         "legendgroup": "147213",
         "marker": {
          "color": "#00cc96",
          "pattern": {
           "shape": ""
          }
         },
         "name": "147213",
         "offsetgroup": "147213",
         "orientation": "v",
         "showlegend": true,
         "type": "histogram",
         "x": [
          "Huerfano County, CO"
         ],
         "xaxis": "x",
         "y": [
          22.416498542927595
         ],
         "yaxis": "y"
        },
        {
         "alignmentgroup": "True",
         "bingroup": "x",
         "histfunc": "sum",
         "hovertemplate": "Population=11388545<br>County=%{x}<br>sum of Norm_Deaths=%{y}<extra></extra>",
         "legendgroup": "11388545",
         "marker": {
          "color": "#ab63fa",
          "pattern": {
           "shape": ""
          }
         },
         "name": "11388545",
         "offsetgroup": "11388545",
         "orientation": "v",
         "showlegend": true,
         "type": "histogram",
         "x": [
          "Jefferson County, CO"
         ],
         "xaxis": "x",
         "y": [
          8.350496046685507
         ],
         "yaxis": "y"
        },
        {
         "alignmentgroup": "True",
         "bingroup": "x",
         "histfunc": "sum",
         "hovertemplate": "Population=167125<br>County=%{x}<br>sum of Norm_Deaths=%{y}<extra></extra>",
         "legendgroup": "167125",
         "marker": {
          "color": "#FFA15A",
          "pattern": {
           "shape": ""
          }
         },
         "name": "167125",
         "offsetgroup": "167125",
         "orientation": "v",
         "showlegend": true,
         "type": "histogram",
         "x": [
          "Kit Carson County, CO"
         ],
         "xaxis": "x",
         "y": [
          5.983545250560957
         ],
         "yaxis": "y"
        },
        {
         "alignmentgroup": "True",
         "bingroup": "x",
         "histfunc": "sum",
         "hovertemplate": "Population=1058996<br>County=%{x}<br>sum of Norm_Deaths=%{y}<extra></extra>",
         "legendgroup": "1058996",
         "marker": {
          "color": "#19d3f3",
          "pattern": {
           "shape": ""
          }
         },
         "name": "1058996",
         "offsetgroup": "1058996",
         "orientation": "v",
         "showlegend": true,
         "type": "histogram",
         "x": [
          "La Plata County, CO"
         ],
         "xaxis": "x",
         "y": [
          6.987750661947732
         ],
         "yaxis": "y"
        },
        {
         "alignmentgroup": "True",
         "bingroup": "x",
         "histfunc": "sum",
         "hovertemplate": "Population=158331<br>County=%{x}<br>sum of Norm_Deaths=%{y}<extra></extra>",
         "legendgroup": "158331",
         "marker": {
          "color": "#FF6692",
          "pattern": {
           "shape": ""
          }
         },
         "name": "158331",
         "offsetgroup": "158331",
         "orientation": "v",
         "showlegend": true,
         "type": "histogram",
         "x": [
          "Lake County, CO"
         ],
         "xaxis": "x",
         "y": [
          10.737000334741776
         ],
         "yaxis": "y"
        },
        {
         "alignmentgroup": "True",
         "bingroup": "x",
         "histfunc": "sum",
         "hovertemplate": "Population=6275251<br>County=%{x}<br>sum of Norm_Deaths=%{y}<extra></extra>",
         "legendgroup": "6275251",
         "marker": {
          "color": "#B6E880",
          "pattern": {
           "shape": ""
          }
         },
         "name": "6275251",
         "offsetgroup": "6275251",
         "orientation": "v",
         "showlegend": true,
         "type": "histogram",
         "x": [
          "Larimer County, CO"
         ],
         "xaxis": "x",
         "y": [
          8.700847185236096
         ],
         "yaxis": "y"
        },
        {
         "alignmentgroup": "True",
         "bingroup": "x",
         "histfunc": "sum",
         "hovertemplate": "Population=315915<br>County=%{x}<br>sum of Norm_Deaths=%{y}<extra></extra>",
         "legendgroup": "315915",
         "marker": {
          "color": "#FF97FF",
          "pattern": {
           "shape": ""
          }
         },
         "name": "315915",
         "offsetgroup": "315915",
         "orientation": "v",
         "showlegend": true,
         "type": "histogram",
         "x": [
          "Las Animas County, CO"
         ],
         "xaxis": "x",
         "y": [
          22.47439975942896
         ],
         "yaxis": "y"
        },
        {
         "alignmentgroup": "True",
         "bingroup": "x",
         "histfunc": "sum",
         "hovertemplate": "Population=460275<br>County=%{x}<br>sum of Norm_Deaths=%{y}<extra></extra>",
         "legendgroup": "460275",
         "marker": {
          "color": "#FECB52",
          "pattern": {
           "shape": ""
          }
         },
         "name": "460275",
         "offsetgroup": "460275",
         "orientation": "v",
         "showlegend": true,
         "type": "histogram",
         "x": [
          "Logan County, CO"
         ],
         "xaxis": "x",
         "y": [
          8.690456792135137
         ],
         "yaxis": "y"
        },
        {
         "alignmentgroup": "True",
         "bingroup": "x",
         "histfunc": "sum",
         "hovertemplate": "Population=2916081<br>County=%{x}<br>sum of Norm_Deaths=%{y}<extra></extra>",
         "legendgroup": "2916081",
         "marker": {
          "color": "#636efa",
          "pattern": {
           "shape": ""
          }
         },
         "name": "2916081",
         "offsetgroup": "2916081",
         "orientation": "v",
         "showlegend": true,
         "type": "histogram",
         "x": [
          "Mesa County, CO"
         ],
         "xaxis": "x",
         "y": [
          8.12734625684266
         ],
         "yaxis": "y"
        },
        {
         "alignmentgroup": "True",
         "bingroup": "x",
         "histfunc": "sum",
         "hovertemplate": "Population=277758<br>County=%{x}<br>sum of Norm_Deaths=%{y}<extra></extra>",
         "legendgroup": "277758",
         "marker": {
          "color": "#EF553B",
          "pattern": {
           "shape": ""
          }
         },
         "name": "277758",
         "offsetgroup": "277758",
         "orientation": "v",
         "showlegend": true,
         "type": "histogram",
         "x": [
          "Moffat County, CO"
         ],
         "xaxis": "x",
         "y": [
          4.680333239726669
         ],
         "yaxis": "y"
        },
        {
         "alignmentgroup": "True",
         "bingroup": "x",
         "histfunc": "sum",
         "hovertemplate": "Population=528607<br>County=%{x}<br>sum of Norm_Deaths=%{y}<extra></extra>",
         "legendgroup": "528607",
         "marker": {
          "color": "#00cc96",
          "pattern": {
           "shape": ""
          }
         },
         "name": "528607",
         "offsetgroup": "528607",
         "orientation": "v",
         "showlegend": true,
         "type": "histogram",
         "x": [
          "Montezuma County, CO"
         ],
         "xaxis": "x",
         "y": [
          7.37788186686896
         ],
         "yaxis": "y"
        },
        {
         "alignmentgroup": "True",
         "bingroup": "x",
         "histfunc": "sum",
         "hovertemplate": "Population=819077<br>County=%{x}<br>sum of Norm_Deaths=%{y}<extra></extra>",
         "legendgroup": "819077",
         "marker": {
          "color": "#ab63fa",
          "pattern": {
           "shape": ""
          }
         },
         "name": "819077",
         "offsetgroup": "819077",
         "orientation": "v",
         "showlegend": true,
         "type": "histogram",
         "x": [
          "Montrose County, CO"
         ],
         "xaxis": "x",
         "y": [
          7.447407264518477
         ],
         "yaxis": "y"
        },
        {
         "alignmentgroup": "True",
         "bingroup": "x",
         "histfunc": "sum",
         "hovertemplate": "Population=587380<br>County=%{x}<br>sum of Norm_Deaths=%{y}<extra></extra>",
         "legendgroup": "587380",
         "marker": {
          "color": "#FFA15A",
          "pattern": {
           "shape": ""
          }
         },
         "name": "587380",
         "offsetgroup": "587380",
         "orientation": "v",
         "showlegend": true,
         "type": "histogram",
         "x": [
          "Morgan County, CO"
         ],
         "xaxis": "x",
         "y": [
          6.128911437229732
         ],
         "yaxis": "y"
        },
        {
         "alignmentgroup": "True",
         "bingroup": "x",
         "histfunc": "sum",
         "hovertemplate": "Population=399334<br>County=%{x}<br>sum of Norm_Deaths=%{y}<extra></extra>",
         "legendgroup": "399334",
         "marker": {
          "color": "#19d3f3",
          "pattern": {
           "shape": ""
          }
         },
         "name": "399334",
         "offsetgroup": "399334",
         "orientation": "v",
         "showlegend": true,
         "type": "histogram",
         "x": [
          "Otero County, CO"
         ],
         "xaxis": "x",
         "y": [
          11.519179433757206
         ],
         "yaxis": "y"
        },
        {
         "alignmentgroup": "True",
         "bingroup": "x",
         "histfunc": "sum",
         "hovertemplate": "Population=342822<br>County=%{x}<br>sum of Norm_Deaths=%{y}<extra></extra>",
         "legendgroup": "342822",
         "marker": {
          "color": "#FF6692",
          "pattern": {
           "shape": ""
          }
         },
         "name": "342822",
         "offsetgroup": "342822",
         "orientation": "v",
         "showlegend": true,
         "type": "histogram",
         "x": [
          "Park County, CO"
         ],
         "xaxis": "x",
         "y": [
          7.000717573551289
         ],
         "yaxis": "y"
        },
        {
         "alignmentgroup": "True",
         "bingroup": "x",
         "histfunc": "sum",
         "hovertemplate": "Population=346344<br>County=%{x}<br>sum of Norm_Deaths=%{y}<extra></extra>",
         "legendgroup": "346344",
         "marker": {
          "color": "#B6E880",
          "pattern": {
           "shape": ""
          }
         },
         "name": "346344",
         "offsetgroup": "346344",
         "orientation": "v",
         "showlegend": true,
         "type": "histogram",
         "x": [
          "Pitkin County, CO"
         ],
         "xaxis": "x",
         "y": [
          7.218256993047375
         ],
         "yaxis": "y"
        },
        {
         "alignmentgroup": "True",
         "bingroup": "x",
         "histfunc": "sum",
         "hovertemplate": "Population=271406<br>County=%{x}<br>sum of Norm_Deaths=%{y}<extra></extra>",
         "legendgroup": "271406",
         "marker": {
          "color": "#FF97FF",
          "pattern": {
           "shape": ""
          }
         },
         "name": "271406",
         "offsetgroup": "271406",
         "orientation": "v",
         "showlegend": true,
         "type": "histogram",
         "x": [
          "Prowers County, CO"
         ],
         "xaxis": "x",
         "y": [
          7.737485538271077
         ],
         "yaxis": "y"
        },
        {
         "alignmentgroup": "True",
         "bingroup": "x",
         "histfunc": "sum",
         "hovertemplate": "Population=3275262<br>County=%{x}<br>sum of Norm_Deaths=%{y}<extra></extra>",
         "legendgroup": "3275262",
         "marker": {
          "color": "#FECB52",
          "pattern": {
           "shape": ""
          }
         },
         "name": "3275262",
         "offsetgroup": "3275262",
         "orientation": "v",
         "showlegend": true,
         "type": "histogram",
         "x": [
          "Pueblo County, CO"
         ],
         "xaxis": "x",
         "y": [
          13.647763140780798
         ],
         "yaxis": "y"
        },
        {
         "alignmentgroup": "True",
         "bingroup": "x",
         "histfunc": "sum",
         "hovertemplate": "Population=133567<br>County=%{x}<br>sum of Norm_Deaths=%{y}<extra></extra>",
         "legendgroup": "133567",
         "marker": {
          "color": "#636efa",
          "pattern": {
           "shape": ""
          }
         },
         "name": "133567",
         "offsetgroup": "133567",
         "orientation": "v",
         "showlegend": true,
         "type": "histogram",
         "x": [
          "Rio Blanco County, CO"
         ],
         "xaxis": "x",
         "y": [
          9.732943017362073
         ],
         "yaxis": "y"
        },
        {
         "alignmentgroup": "True",
         "bingroup": "x",
         "histfunc": "sum",
         "hovertemplate": "Population=249688<br>County=%{x}<br>sum of Norm_Deaths=%{y}<extra></extra>",
         "legendgroup": "249688",
         "marker": {
          "color": "#EF553B",
          "pattern": {
           "shape": ""
          }
         },
         "name": "249688",
         "offsetgroup": "249688",
         "orientation": "v",
         "showlegend": true,
         "type": "histogram",
         "x": [
          "Rio Grande County, CO"
         ],
         "xaxis": "x",
         "y": [
          16.0199929512031
         ],
         "yaxis": "y"
        },
        {
         "alignmentgroup": "True",
         "bingroup": "x",
         "histfunc": "sum",
         "hovertemplate": "Population=477061<br>County=%{x}<br>sum of Norm_Deaths=%{y}<extra></extra>",
         "legendgroup": "477061",
         "marker": {
          "color": "#00cc96",
          "pattern": {
           "shape": ""
          }
         },
         "name": "477061",
         "offsetgroup": "477061",
         "orientation": "v",
         "showlegend": true,
         "type": "histogram",
         "x": [
          "Routt County, CO"
         ],
         "xaxis": "x",
         "y": [
          9.013522379737601
         ],
         "yaxis": "y"
        },
        {
         "alignmentgroup": "True",
         "bingroup": "x",
         "histfunc": "sum",
         "hovertemplate": "Population=575288<br>County=%{x}<br>sum of Norm_Deaths=%{y}<extra></extra>",
         "legendgroup": "575288",
         "marker": {
          "color": "#ab63fa",
          "pattern": {
           "shape": ""
          }
         },
         "name": "575288",
         "offsetgroup": "575288",
         "orientation": "v",
         "showlegend": true,
         "type": "histogram",
         "x": [
          "Summit County, CO"
         ],
         "xaxis": "x",
         "y": [
          6.257735256080433
         ],
         "yaxis": "y"
        },
        {
         "alignmentgroup": "True",
         "bingroup": "x",
         "histfunc": "sum",
         "hovertemplate": "Population=478877<br>County=%{x}<br>sum of Norm_Deaths=%{y}<extra></extra>",
         "legendgroup": "478877",
         "marker": {
          "color": "#FFA15A",
          "pattern": {
           "shape": ""
          }
         },
         "name": "478877",
         "offsetgroup": "478877",
         "orientation": "v",
         "showlegend": true,
         "type": "histogram",
         "x": [
          "Teller County, CO"
         ],
         "xaxis": "x",
         "y": [
          8.35287558182999
         ],
         "yaxis": "y"
        },
        {
         "alignmentgroup": "True",
         "bingroup": "x",
         "histfunc": "sum",
         "hovertemplate": "Population=5203055<br>County=%{x}<br>sum of Norm_Deaths=%{y}<extra></extra>",
         "legendgroup": "5203055",
         "marker": {
          "color": "#19d3f3",
          "pattern": {
           "shape": ""
          }
         },
         "name": "5203055",
         "offsetgroup": "5203055",
         "orientation": "v",
         "showlegend": true,
         "type": "histogram",
         "x": [
          "Weld County, CO"
         ],
         "xaxis": "x",
         "y": [
          7.380279470426509
         ],
         "yaxis": "y"
        }
       ],
       "layout": {
        "barmode": "relative",
        "legend": {
         "title": {
          "text": "Population"
         },
         "tracegroupgap": 0
        },
        "template": {
         "data": {
          "bar": [
           {
            "error_x": {
             "color": "#2a3f5f"
            },
            "error_y": {
             "color": "#2a3f5f"
            },
            "marker": {
             "line": {
              "color": "#E5ECF6",
              "width": 0.5
             },
             "pattern": {
              "fillmode": "overlay",
              "size": 10,
              "solidity": 0.2
             }
            },
            "type": "bar"
           }
          ],
          "barpolar": [
           {
            "marker": {
             "line": {
              "color": "#E5ECF6",
              "width": 0.5
             },
             "pattern": {
              "fillmode": "overlay",
              "size": 10,
              "solidity": 0.2
             }
            },
            "type": "barpolar"
           }
          ],
          "carpet": [
           {
            "aaxis": {
             "endlinecolor": "#2a3f5f",
             "gridcolor": "white",
             "linecolor": "white",
             "minorgridcolor": "white",
             "startlinecolor": "#2a3f5f"
            },
            "baxis": {
             "endlinecolor": "#2a3f5f",
             "gridcolor": "white",
             "linecolor": "white",
             "minorgridcolor": "white",
             "startlinecolor": "#2a3f5f"
            },
            "type": "carpet"
           }
          ],
          "choropleth": [
           {
            "colorbar": {
             "outlinewidth": 0,
             "ticks": ""
            },
            "type": "choropleth"
           }
          ],
          "contour": [
           {
            "colorbar": {
             "outlinewidth": 0,
             "ticks": ""
            },
            "colorscale": [
             [
              0,
              "#0d0887"
             ],
             [
              0.1111111111111111,
              "#46039f"
             ],
             [
              0.2222222222222222,
              "#7201a8"
             ],
             [
              0.3333333333333333,
              "#9c179e"
             ],
             [
              0.4444444444444444,
              "#bd3786"
             ],
             [
              0.5555555555555556,
              "#d8576b"
             ],
             [
              0.6666666666666666,
              "#ed7953"
             ],
             [
              0.7777777777777778,
              "#fb9f3a"
             ],
             [
              0.8888888888888888,
              "#fdca26"
             ],
             [
              1,
              "#f0f921"
             ]
            ],
            "type": "contour"
           }
          ],
          "contourcarpet": [
           {
            "colorbar": {
             "outlinewidth": 0,
             "ticks": ""
            },
            "type": "contourcarpet"
           }
          ],
          "heatmap": [
           {
            "colorbar": {
             "outlinewidth": 0,
             "ticks": ""
            },
            "colorscale": [
             [
              0,
              "#0d0887"
             ],
             [
              0.1111111111111111,
              "#46039f"
             ],
             [
              0.2222222222222222,
              "#7201a8"
             ],
             [
              0.3333333333333333,
              "#9c179e"
             ],
             [
              0.4444444444444444,
              "#bd3786"
             ],
             [
              0.5555555555555556,
              "#d8576b"
             ],
             [
              0.6666666666666666,
              "#ed7953"
             ],
             [
              0.7777777777777778,
              "#fb9f3a"
             ],
             [
              0.8888888888888888,
              "#fdca26"
             ],
             [
              1,
              "#f0f921"
             ]
            ],
            "type": "heatmap"
           }
          ],
          "heatmapgl": [
           {
            "colorbar": {
             "outlinewidth": 0,
             "ticks": ""
            },
            "colorscale": [
             [
              0,
              "#0d0887"
             ],
             [
              0.1111111111111111,
              "#46039f"
             ],
             [
              0.2222222222222222,
              "#7201a8"
             ],
             [
              0.3333333333333333,
              "#9c179e"
             ],
             [
              0.4444444444444444,
              "#bd3786"
             ],
             [
              0.5555555555555556,
              "#d8576b"
             ],
             [
              0.6666666666666666,
              "#ed7953"
             ],
             [
              0.7777777777777778,
              "#fb9f3a"
             ],
             [
              0.8888888888888888,
              "#fdca26"
             ],
             [
              1,
              "#f0f921"
             ]
            ],
            "type": "heatmapgl"
           }
          ],
          "histogram": [
           {
            "marker": {
             "pattern": {
              "fillmode": "overlay",
              "size": 10,
              "solidity": 0.2
             }
            },
            "type": "histogram"
           }
          ],
          "histogram2d": [
           {
            "colorbar": {
             "outlinewidth": 0,
             "ticks": ""
            },
            "colorscale": [
             [
              0,
              "#0d0887"
             ],
             [
              0.1111111111111111,
              "#46039f"
             ],
             [
              0.2222222222222222,
              "#7201a8"
             ],
             [
              0.3333333333333333,
              "#9c179e"
             ],
             [
              0.4444444444444444,
              "#bd3786"
             ],
             [
              0.5555555555555556,
              "#d8576b"
             ],
             [
              0.6666666666666666,
              "#ed7953"
             ],
             [
              0.7777777777777778,
              "#fb9f3a"
             ],
             [
              0.8888888888888888,
              "#fdca26"
             ],
             [
              1,
              "#f0f921"
             ]
            ],
            "type": "histogram2d"
           }
          ],
          "histogram2dcontour": [
           {
            "colorbar": {
             "outlinewidth": 0,
             "ticks": ""
            },
            "colorscale": [
             [
              0,
              "#0d0887"
             ],
             [
              0.1111111111111111,
              "#46039f"
             ],
             [
              0.2222222222222222,
              "#7201a8"
             ],
             [
              0.3333333333333333,
              "#9c179e"
             ],
             [
              0.4444444444444444,
              "#bd3786"
             ],
             [
              0.5555555555555556,
              "#d8576b"
             ],
             [
              0.6666666666666666,
              "#ed7953"
             ],
             [
              0.7777777777777778,
              "#fb9f3a"
             ],
             [
              0.8888888888888888,
              "#fdca26"
             ],
             [
              1,
              "#f0f921"
             ]
            ],
            "type": "histogram2dcontour"
           }
          ],
          "mesh3d": [
           {
            "colorbar": {
             "outlinewidth": 0,
             "ticks": ""
            },
            "type": "mesh3d"
           }
          ],
          "parcoords": [
           {
            "line": {
             "colorbar": {
              "outlinewidth": 0,
              "ticks": ""
             }
            },
            "type": "parcoords"
           }
          ],
          "pie": [
           {
            "automargin": true,
            "type": "pie"
           }
          ],
          "scatter": [
           {
            "marker": {
             "colorbar": {
              "outlinewidth": 0,
              "ticks": ""
             }
            },
            "type": "scatter"
           }
          ],
          "scatter3d": [
           {
            "line": {
             "colorbar": {
              "outlinewidth": 0,
              "ticks": ""
             }
            },
            "marker": {
             "colorbar": {
              "outlinewidth": 0,
              "ticks": ""
             }
            },
            "type": "scatter3d"
           }
          ],
          "scattercarpet": [
           {
            "marker": {
             "colorbar": {
              "outlinewidth": 0,
              "ticks": ""
             }
            },
            "type": "scattercarpet"
           }
          ],
          "scattergeo": [
           {
            "marker": {
             "colorbar": {
              "outlinewidth": 0,
              "ticks": ""
             }
            },
            "type": "scattergeo"
           }
          ],
          "scattergl": [
           {
            "marker": {
             "colorbar": {
              "outlinewidth": 0,
              "ticks": ""
             }
            },
            "type": "scattergl"
           }
          ],
          "scattermapbox": [
           {
            "marker": {
             "colorbar": {
              "outlinewidth": 0,
              "ticks": ""
             }
            },
            "type": "scattermapbox"
           }
          ],
          "scatterpolar": [
           {
            "marker": {
             "colorbar": {
              "outlinewidth": 0,
              "ticks": ""
             }
            },
            "type": "scatterpolar"
           }
          ],
          "scatterpolargl": [
           {
            "marker": {
             "colorbar": {
              "outlinewidth": 0,
              "ticks": ""
             }
            },
            "type": "scatterpolargl"
           }
          ],
          "scatterternary": [
           {
            "marker": {
             "colorbar": {
              "outlinewidth": 0,
              "ticks": ""
             }
            },
            "type": "scatterternary"
           }
          ],
          "surface": [
           {
            "colorbar": {
             "outlinewidth": 0,
             "ticks": ""
            },
            "colorscale": [
             [
              0,
              "#0d0887"
             ],
             [
              0.1111111111111111,
              "#46039f"
             ],
             [
              0.2222222222222222,
              "#7201a8"
             ],
             [
              0.3333333333333333,
              "#9c179e"
             ],
             [
              0.4444444444444444,
              "#bd3786"
             ],
             [
              0.5555555555555556,
              "#d8576b"
             ],
             [
              0.6666666666666666,
              "#ed7953"
             ],
             [
              0.7777777777777778,
              "#fb9f3a"
             ],
             [
              0.8888888888888888,
              "#fdca26"
             ],
             [
              1,
              "#f0f921"
             ]
            ],
            "type": "surface"
           }
          ],
          "table": [
           {
            "cells": {
             "fill": {
              "color": "#EBF0F8"
             },
             "line": {
              "color": "white"
             }
            },
            "header": {
             "fill": {
              "color": "#C8D4E3"
             },
             "line": {
              "color": "white"
             }
            },
            "type": "table"
           }
          ]
         },
         "layout": {
          "annotationdefaults": {
           "arrowcolor": "#2a3f5f",
           "arrowhead": 0,
           "arrowwidth": 1
          },
          "autotypenumbers": "strict",
          "coloraxis": {
           "colorbar": {
            "outlinewidth": 0,
            "ticks": ""
           }
          },
          "colorscale": {
           "diverging": [
            [
             0,
             "#8e0152"
            ],
            [
             0.1,
             "#c51b7d"
            ],
            [
             0.2,
             "#de77ae"
            ],
            [
             0.3,
             "#f1b6da"
            ],
            [
             0.4,
             "#fde0ef"
            ],
            [
             0.5,
             "#f7f7f7"
            ],
            [
             0.6,
             "#e6f5d0"
            ],
            [
             0.7,
             "#b8e186"
            ],
            [
             0.8,
             "#7fbc41"
            ],
            [
             0.9,
             "#4d9221"
            ],
            [
             1,
             "#276419"
            ]
           ],
           "sequential": [
            [
             0,
             "#0d0887"
            ],
            [
             0.1111111111111111,
             "#46039f"
            ],
            [
             0.2222222222222222,
             "#7201a8"
            ],
            [
             0.3333333333333333,
             "#9c179e"
            ],
            [
             0.4444444444444444,
             "#bd3786"
            ],
            [
             0.5555555555555556,
             "#d8576b"
            ],
            [
             0.6666666666666666,
             "#ed7953"
            ],
            [
             0.7777777777777778,
             "#fb9f3a"
            ],
            [
             0.8888888888888888,
             "#fdca26"
            ],
            [
             1,
             "#f0f921"
            ]
           ],
           "sequentialminus": [
            [
             0,
             "#0d0887"
            ],
            [
             0.1111111111111111,
             "#46039f"
            ],
            [
             0.2222222222222222,
             "#7201a8"
            ],
            [
             0.3333333333333333,
             "#9c179e"
            ],
            [
             0.4444444444444444,
             "#bd3786"
            ],
            [
             0.5555555555555556,
             "#d8576b"
            ],
            [
             0.6666666666666666,
             "#ed7953"
            ],
            [
             0.7777777777777778,
             "#fb9f3a"
            ],
            [
             0.8888888888888888,
             "#fdca26"
            ],
            [
             1,
             "#f0f921"
            ]
           ]
          },
          "colorway": [
           "#636efa",
           "#EF553B",
           "#00cc96",
           "#ab63fa",
           "#FFA15A",
           "#19d3f3",
           "#FF6692",
           "#B6E880",
           "#FF97FF",
           "#FECB52"
          ],
          "font": {
           "color": "#2a3f5f"
          },
          "geo": {
           "bgcolor": "white",
           "lakecolor": "white",
           "landcolor": "#E5ECF6",
           "showlakes": true,
           "showland": true,
           "subunitcolor": "white"
          },
          "hoverlabel": {
           "align": "left"
          },
          "hovermode": "closest",
          "mapbox": {
           "style": "light"
          },
          "paper_bgcolor": "white",
          "plot_bgcolor": "#E5ECF6",
          "polar": {
           "angularaxis": {
            "gridcolor": "white",
            "linecolor": "white",
            "ticks": ""
           },
           "bgcolor": "#E5ECF6",
           "radialaxis": {
            "gridcolor": "white",
            "linecolor": "white",
            "ticks": ""
           }
          },
          "scene": {
           "xaxis": {
            "backgroundcolor": "#E5ECF6",
            "gridcolor": "white",
            "gridwidth": 2,
            "linecolor": "white",
            "showbackground": true,
            "ticks": "",
            "zerolinecolor": "white"
           },
           "yaxis": {
            "backgroundcolor": "#E5ECF6",
            "gridcolor": "white",
            "gridwidth": 2,
            "linecolor": "white",
            "showbackground": true,
            "ticks": "",
            "zerolinecolor": "white"
           },
           "zaxis": {
            "backgroundcolor": "#E5ECF6",
            "gridcolor": "white",
            "gridwidth": 2,
            "linecolor": "white",
            "showbackground": true,
            "ticks": "",
            "zerolinecolor": "white"
           }
          },
          "shapedefaults": {
           "line": {
            "color": "#2a3f5f"
           }
          },
          "ternary": {
           "aaxis": {
            "gridcolor": "white",
            "linecolor": "white",
            "ticks": ""
           },
           "baxis": {
            "gridcolor": "white",
            "linecolor": "white",
            "ticks": ""
           },
           "bgcolor": "#E5ECF6",
           "caxis": {
            "gridcolor": "white",
            "linecolor": "white",
            "ticks": ""
           }
          },
          "title": {
           "x": 0.05
          },
          "xaxis": {
           "automargin": true,
           "gridcolor": "white",
           "linecolor": "white",
           "ticks": "",
           "title": {
            "standoff": 15
           },
           "zerolinecolor": "white",
           "zerolinewidth": 2
          },
          "yaxis": {
           "automargin": true,
           "gridcolor": "white",
           "linecolor": "white",
           "ticks": "",
           "title": {
            "standoff": 15
           },
           "zerolinecolor": "white",
           "zerolinewidth": 2
          }
         }
        },
        "title": {
         "text": "Opiod Mortality rate in\tCO"
        },
        "xaxis": {
         "anchor": "y",
         "domain": [
          0,
          1
         ],
         "title": {
          "text": "County"
         }
        },
        "yaxis": {
         "anchor": "x",
         "domain": [
          0,
          1
         ],
         "title": {
          "text": "sum of Norm_Deaths"
         }
        }
       }
      },
      "text/html": [
       "<div>                            <div id=\"cfb10f3b-7701-44c4-8bf1-af2d158c31e1\" class=\"plotly-graph-div\" style=\"height:525px; width:100%;\"></div>            <script type=\"text/javascript\">                require([\"plotly\"], function(Plotly) {                    window.PLOTLYENV=window.PLOTLYENV || {};                                    if (document.getElementById(\"cfb10f3b-7701-44c4-8bf1-af2d158c31e1\")) {                    Plotly.newPlot(                        \"cfb10f3b-7701-44c4-8bf1-af2d158c31e1\",                        [{\"alignmentgroup\":\"True\",\"bingroup\":\"x\",\"histfunc\":\"sum\",\"hovertemplate\":\"Population=9146345<br>County=%{x}<br>sum of Norm_Deaths=%{y}<extra></extra>\",\"legendgroup\":\"9146345\",\"marker\":{\"color\":\"#636efa\",\"pattern\":{\"shape\":\"\"}},\"name\":\"9146345\",\"offsetgroup\":\"9146345\",\"orientation\":\"v\",\"showlegend\":true,\"x\":[\"Adams County, CO\"],\"xaxis\":\"x\",\"y\":[12.791995053761912],\"yaxis\":\"y\",\"type\":\"histogram\"},{\"alignmentgroup\":\"True\",\"bingroup\":\"x\",\"histfunc\":\"sum\",\"hovertemplate\":\"Population=328752<br>County=%{x}<br>sum of Norm_Deaths=%{y}<extra></extra>\",\"legendgroup\":\"328752\",\"marker\":{\"color\":\"#EF553B\",\"pattern\":{\"shape\":\"\"}},\"name\":\"328752\",\"offsetgroup\":\"328752\",\"orientation\":\"v\",\"showlegend\":true,\"x\":[\"Alamosa County, CO\"],\"xaxis\":\"x\",\"y\":[12.775587677033142],\"yaxis\":\"y\",\"type\":\"histogram\"},{\"alignmentgroup\":\"True\",\"bingroup\":\"x\",\"histfunc\":\"sum\",\"hovertemplate\":\"Population=11925374<br>County=%{x}<br>sum of Norm_Deaths=%{y}<extra></extra>\",\"legendgroup\":\"11925374\",\"marker\":{\"color\":\"#00cc96\",\"pattern\":{\"shape\":\"\"}},\"name\":\"11925374\",\"offsetgroup\":\"11925374\",\"orientation\":\"v\",\"showlegend\":true,\"x\":[\"Arapahoe County, CO\"],\"xaxis\":\"x\",\"y\":[10.750186954304327],\"yaxis\":\"y\",\"type\":\"histogram\"},{\"alignmentgroup\":\"True\",\"bingroup\":\"x\",\"histfunc\":\"sum\",\"hovertemplate\":\"Population=250136<br>County=%{x}<br>sum of Norm_Deaths=%{y}<extra></extra>\",\"legendgroup\":\"250136\",\"marker\":{\"color\":\"#ab63fa\",\"pattern\":{\"shape\":\"\"}},\"name\":\"250136\",\"offsetgroup\":\"250136\",\"orientation\":\"v\",\"showlegend\":true,\"x\":[\"Archuleta County, CO\"],\"xaxis\":\"x\",\"y\":[5.99673777465059],\"yaxis\":\"y\",\"type\":\"histogram\"},{\"alignmentgroup\":\"True\",\"bingroup\":\"x\",\"histfunc\":\"sum\",\"hovertemplate\":\"Population=125367<br>County=%{x}<br>sum of Norm_Deaths=%{y}<extra></extra>\",\"legendgroup\":\"125367\",\"marker\":{\"color\":\"#FFA15A\",\"pattern\":{\"shape\":\"\"}},\"name\":\"125367\",\"offsetgroup\":\"125367\",\"orientation\":\"v\",\"showlegend\":true,\"x\":[\"Bent County, CO\"],\"xaxis\":\"x\",\"y\":[11.96487113833784],\"yaxis\":\"y\",\"type\":\"histogram\"},{\"alignmentgroup\":\"True\",\"bingroup\":\"x\",\"histfunc\":\"sum\",\"hovertemplate\":\"Population=6314438<br>County=%{x}<br>sum of Norm_Deaths=%{y}<extra></extra>\",\"legendgroup\":\"6314438\",\"marker\":{\"color\":\"#19d3f3\",\"pattern\":{\"shape\":\"\"}},\"name\":\"6314438\",\"offsetgroup\":\"6314438\",\"orientation\":\"v\",\"showlegend\":true,\"x\":[\"Boulder County, CO\"],\"xaxis\":\"x\",\"y\":[8.726033892485761],\"yaxis\":\"y\",\"type\":\"histogram\"},{\"alignmentgroup\":\"True\",\"bingroup\":\"x\",\"histfunc\":\"sum\",\"hovertemplate\":\"Population=976025<br>County=%{x}<br>sum of Norm_Deaths=%{y}<extra></extra>\",\"legendgroup\":\"976025\",\"marker\":{\"color\":\"#FF6692\",\"pattern\":{\"shape\":\"\"}},\"name\":\"976025\",\"offsetgroup\":\"976025\",\"orientation\":\"v\",\"showlegend\":true,\"x\":[\"Broomfield County, CO\"],\"xaxis\":\"x\",\"y\":[8.196511359852462],\"yaxis\":\"y\",\"type\":\"histogram\"},{\"alignmentgroup\":\"True\",\"bingroup\":\"x\",\"histfunc\":\"sum\",\"hovertemplate\":\"Population=375063<br>County=%{x}<br>sum of Norm_Deaths=%{y}<extra></extra>\",\"legendgroup\":\"375063\",\"marker\":{\"color\":\"#B6E880\",\"pattern\":{\"shape\":\"\"}},\"name\":\"375063\",\"offsetgroup\":\"375063\",\"orientation\":\"v\",\"showlegend\":true,\"x\":[\"Chaffee County, CO\"],\"xaxis\":\"x\",\"y\":[10.9314968418639],\"yaxis\":\"y\",\"type\":\"histogram\"},{\"alignmentgroup\":\"True\",\"bingroup\":\"x\",\"histfunc\":\"sum\",\"hovertemplate\":\"Population=194500<br>County=%{x}<br>sum of Norm_Deaths=%{y}<extra></extra>\",\"legendgroup\":\"194500\",\"marker\":{\"color\":\"#FF97FF\",\"pattern\":{\"shape\":\"\"}},\"name\":\"194500\",\"offsetgroup\":\"194500\",\"orientation\":\"v\",\"showlegend\":true,\"x\":[\"Clear Creek County, CO\"],\"xaxis\":\"x\",\"y\":[10.282776349614396],\"yaxis\":\"y\",\"type\":\"histogram\"},{\"alignmentgroup\":\"True\",\"bingroup\":\"x\",\"histfunc\":\"sum\",\"hovertemplate\":\"Population=173469<br>County=%{x}<br>sum of Norm_Deaths=%{y}<extra></extra>\",\"legendgroup\":\"173469\",\"marker\":{\"color\":\"#FECB52\",\"pattern\":{\"shape\":\"\"}},\"name\":\"173469\",\"offsetgroup\":\"173469\",\"orientation\":\"v\",\"showlegend\":true,\"x\":[\"Conejos County, CO\"],\"xaxis\":\"x\",\"y\":[18.447100058223658],\"yaxis\":\"y\",\"type\":\"histogram\"},{\"alignmentgroup\":\"True\",\"bingroup\":\"x\",\"histfunc\":\"sum\",\"hovertemplate\":\"Population=76198<br>County=%{x}<br>sum of Norm_Deaths=%{y}<extra></extra>\",\"legendgroup\":\"76198\",\"marker\":{\"color\":\"#636efa\",\"pattern\":{\"shape\":\"\"}},\"name\":\"76198\",\"offsetgroup\":\"76198\",\"orientation\":\"v\",\"showlegend\":true,\"x\":[\"Costilla County, CO\"],\"xaxis\":\"x\",\"y\":[14.436074437649282],\"yaxis\":\"y\",\"type\":\"histogram\"},{\"alignmentgroup\":\"True\",\"bingroup\":\"x\",\"histfunc\":\"sum\",\"hovertemplate\":\"Population=119231<br>County=%{x}<br>sum of Norm_Deaths=%{y}<extra></extra>\",\"legendgroup\":\"119231\",\"marker\":{\"color\":\"#EF553B\",\"pattern\":{\"shape\":\"\"}},\"name\":\"119231\",\"offsetgroup\":\"119231\",\"orientation\":\"v\",\"showlegend\":true,\"x\":[\"Crowley County, CO\"],\"xaxis\":\"x\",\"y\":[8.387080541134438],\"yaxis\":\"y\",\"type\":\"histogram\"},{\"alignmentgroup\":\"True\",\"bingroup\":\"x\",\"histfunc\":\"sum\",\"hovertemplate\":\"Population=626859<br>County=%{x}<br>sum of Norm_Deaths=%{y}<extra></extra>\",\"legendgroup\":\"626859\",\"marker\":{\"color\":\"#00cc96\",\"pattern\":{\"shape\":\"\"}},\"name\":\"626859\",\"offsetgroup\":\"626859\",\"orientation\":\"v\",\"showlegend\":true,\"x\":[\"Delta County, CO\"],\"xaxis\":\"x\",\"y\":[8.773902903204707],\"yaxis\":\"y\",\"type\":\"histogram\"},{\"alignmentgroup\":\"True\",\"bingroup\":\"x\",\"histfunc\":\"sum\",\"hovertemplate\":\"Population=12854984<br>County=%{x}<br>sum of Norm_Deaths=%{y}<extra></extra>\",\"legendgroup\":\"12854984\",\"marker\":{\"color\":\"#ab63fa\",\"pattern\":{\"shape\":\"\"}},\"name\":\"12854984\",\"offsetgroup\":\"12854984\",\"orientation\":\"v\",\"showlegend\":true,\"x\":[\"Denver County, CO\"],\"xaxis\":\"x\",\"y\":[17.331799090531735],\"yaxis\":\"y\",\"type\":\"histogram\"},{\"alignmentgroup\":\"True\",\"bingroup\":\"x\",\"histfunc\":\"sum\",\"hovertemplate\":\"Population=5697193<br>County=%{x}<br>sum of Norm_Deaths=%{y}<extra></extra>\",\"legendgroup\":\"5697193\",\"marker\":{\"color\":\"#FFA15A\",\"pattern\":{\"shape\":\"\"}},\"name\":\"5697193\",\"offsetgroup\":\"5697193\",\"orientation\":\"v\",\"showlegend\":true,\"x\":[\"Douglas County, CO\"],\"xaxis\":\"x\",\"y\":[4.949805983402704],\"yaxis\":\"y\",\"type\":\"histogram\"},{\"alignmentgroup\":\"True\",\"bingroup\":\"x\",\"histfunc\":\"sum\",\"hovertemplate\":\"Population=1043293<br>County=%{x}<br>sum of Norm_Deaths=%{y}<extra></extra>\",\"legendgroup\":\"1043293\",\"marker\":{\"color\":\"#19d3f3\",\"pattern\":{\"shape\":\"\"}},\"name\":\"1043293\",\"offsetgroup\":\"1043293\",\"orientation\":\"v\",\"showlegend\":true,\"x\":[\"Eagle County, CO\"],\"xaxis\":\"x\",\"y\":[4.984218239746649],\"yaxis\":\"y\",\"type\":\"histogram\"},{\"alignmentgroup\":\"True\",\"bingroup\":\"x\",\"histfunc\":\"sum\",\"hovertemplate\":\"Population=12868011<br>County=%{x}<br>sum of Norm_Deaths=%{y}<extra></extra>\",\"legendgroup\":\"12868011\",\"marker\":{\"color\":\"#FF6692\",\"pattern\":{\"shape\":\"\"}},\"name\":\"12868011\",\"offsetgroup\":\"12868011\",\"orientation\":\"v\",\"showlegend\":true,\"x\":[\"El Paso County, CO\"],\"xaxis\":\"x\",\"y\":[12.558273380400436],\"yaxis\":\"y\",\"type\":\"histogram\"},{\"alignmentgroup\":\"True\",\"bingroup\":\"x\",\"histfunc\":\"sum\",\"hovertemplate\":\"Population=484421<br>County=%{x}<br>sum of Norm_Deaths=%{y}<extra></extra>\",\"legendgroup\":\"484421\",\"marker\":{\"color\":\"#B6E880\",\"pattern\":{\"shape\":\"\"}},\"name\":\"484421\",\"offsetgroup\":\"484421\",\"orientation\":\"v\",\"showlegend\":true,\"x\":[\"Elbert County, CO\"],\"xaxis\":\"x\",\"y\":[7.018688289731452],\"yaxis\":\"y\",\"type\":\"histogram\"},{\"alignmentgroup\":\"True\",\"bingroup\":\"x\",\"histfunc\":\"sum\",\"hovertemplate\":\"Population=984937<br>County=%{x}<br>sum of Norm_Deaths=%{y}<extra></extra>\",\"legendgroup\":\"984937\",\"marker\":{\"color\":\"#FF97FF\",\"pattern\":{\"shape\":\"\"}},\"name\":\"984937\",\"offsetgroup\":\"984937\",\"orientation\":\"v\",\"showlegend\":true,\"x\":[\"Fremont County, CO\"],\"xaxis\":\"x\",\"y\":[11.168227003351483],\"yaxis\":\"y\",\"type\":\"histogram\"},{\"alignmentgroup\":\"True\",\"bingroup\":\"x\",\"histfunc\":\"sum\",\"hovertemplate\":\"Population=1122329<br>County=%{x}<br>sum of Norm_Deaths=%{y}<extra></extra>\",\"legendgroup\":\"1122329\",\"marker\":{\"color\":\"#FECB52\",\"pattern\":{\"shape\":\"\"}},\"name\":\"1122329\",\"offsetgroup\":\"1122329\",\"orientation\":\"v\",\"showlegend\":true,\"x\":[\"Garfield County, CO\"],\"xaxis\":\"x\",\"y\":[7.573536814962457],\"yaxis\":\"y\",\"type\":\"histogram\"},{\"alignmentgroup\":\"True\",\"bingroup\":\"x\",\"histfunc\":\"sum\",\"hovertemplate\":\"Population=297485<br>County=%{x}<br>sum of Norm_Deaths=%{y}<extra></extra>\",\"legendgroup\":\"297485\",\"marker\":{\"color\":\"#636efa\",\"pattern\":{\"shape\":\"\"}},\"name\":\"297485\",\"offsetgroup\":\"297485\",\"orientation\":\"v\",\"showlegend\":true,\"x\":[\"Grand County, CO\"],\"xaxis\":\"x\",\"y\":[6.3868766492428195],\"yaxis\":\"y\",\"type\":\"histogram\"},{\"alignmentgroup\":\"True\",\"bingroup\":\"x\",\"histfunc\":\"sum\",\"hovertemplate\":\"Population=321264<br>County=%{x}<br>sum of Norm_Deaths=%{y}<extra></extra>\",\"legendgroup\":\"321264\",\"marker\":{\"color\":\"#EF553B\",\"pattern\":{\"shape\":\"\"}},\"name\":\"321264\",\"offsetgroup\":\"321264\",\"orientation\":\"v\",\"showlegend\":true,\"x\":[\"Gunnison County, CO\"],\"xaxis\":\"x\",\"y\":[4.980327705563026],\"yaxis\":\"y\",\"type\":\"histogram\"},{\"alignmentgroup\":\"True\",\"bingroup\":\"x\",\"histfunc\":\"sum\",\"hovertemplate\":\"Population=147213<br>County=%{x}<br>sum of Norm_Deaths=%{y}<extra></extra>\",\"legendgroup\":\"147213\",\"marker\":{\"color\":\"#00cc96\",\"pattern\":{\"shape\":\"\"}},\"name\":\"147213\",\"offsetgroup\":\"147213\",\"orientation\":\"v\",\"showlegend\":true,\"x\":[\"Huerfano County, CO\"],\"xaxis\":\"x\",\"y\":[22.416498542927595],\"yaxis\":\"y\",\"type\":\"histogram\"},{\"alignmentgroup\":\"True\",\"bingroup\":\"x\",\"histfunc\":\"sum\",\"hovertemplate\":\"Population=11388545<br>County=%{x}<br>sum of Norm_Deaths=%{y}<extra></extra>\",\"legendgroup\":\"11388545\",\"marker\":{\"color\":\"#ab63fa\",\"pattern\":{\"shape\":\"\"}},\"name\":\"11388545\",\"offsetgroup\":\"11388545\",\"orientation\":\"v\",\"showlegend\":true,\"x\":[\"Jefferson County, CO\"],\"xaxis\":\"x\",\"y\":[8.350496046685507],\"yaxis\":\"y\",\"type\":\"histogram\"},{\"alignmentgroup\":\"True\",\"bingroup\":\"x\",\"histfunc\":\"sum\",\"hovertemplate\":\"Population=167125<br>County=%{x}<br>sum of Norm_Deaths=%{y}<extra></extra>\",\"legendgroup\":\"167125\",\"marker\":{\"color\":\"#FFA15A\",\"pattern\":{\"shape\":\"\"}},\"name\":\"167125\",\"offsetgroup\":\"167125\",\"orientation\":\"v\",\"showlegend\":true,\"x\":[\"Kit Carson County, CO\"],\"xaxis\":\"x\",\"y\":[5.983545250560957],\"yaxis\":\"y\",\"type\":\"histogram\"},{\"alignmentgroup\":\"True\",\"bingroup\":\"x\",\"histfunc\":\"sum\",\"hovertemplate\":\"Population=1058996<br>County=%{x}<br>sum of Norm_Deaths=%{y}<extra></extra>\",\"legendgroup\":\"1058996\",\"marker\":{\"color\":\"#19d3f3\",\"pattern\":{\"shape\":\"\"}},\"name\":\"1058996\",\"offsetgroup\":\"1058996\",\"orientation\":\"v\",\"showlegend\":true,\"x\":[\"La Plata County, CO\"],\"xaxis\":\"x\",\"y\":[6.987750661947732],\"yaxis\":\"y\",\"type\":\"histogram\"},{\"alignmentgroup\":\"True\",\"bingroup\":\"x\",\"histfunc\":\"sum\",\"hovertemplate\":\"Population=158331<br>County=%{x}<br>sum of Norm_Deaths=%{y}<extra></extra>\",\"legendgroup\":\"158331\",\"marker\":{\"color\":\"#FF6692\",\"pattern\":{\"shape\":\"\"}},\"name\":\"158331\",\"offsetgroup\":\"158331\",\"orientation\":\"v\",\"showlegend\":true,\"x\":[\"Lake County, CO\"],\"xaxis\":\"x\",\"y\":[10.737000334741776],\"yaxis\":\"y\",\"type\":\"histogram\"},{\"alignmentgroup\":\"True\",\"bingroup\":\"x\",\"histfunc\":\"sum\",\"hovertemplate\":\"Population=6275251<br>County=%{x}<br>sum of Norm_Deaths=%{y}<extra></extra>\",\"legendgroup\":\"6275251\",\"marker\":{\"color\":\"#B6E880\",\"pattern\":{\"shape\":\"\"}},\"name\":\"6275251\",\"offsetgroup\":\"6275251\",\"orientation\":\"v\",\"showlegend\":true,\"x\":[\"Larimer County, CO\"],\"xaxis\":\"x\",\"y\":[8.700847185236096],\"yaxis\":\"y\",\"type\":\"histogram\"},{\"alignmentgroup\":\"True\",\"bingroup\":\"x\",\"histfunc\":\"sum\",\"hovertemplate\":\"Population=315915<br>County=%{x}<br>sum of Norm_Deaths=%{y}<extra></extra>\",\"legendgroup\":\"315915\",\"marker\":{\"color\":\"#FF97FF\",\"pattern\":{\"shape\":\"\"}},\"name\":\"315915\",\"offsetgroup\":\"315915\",\"orientation\":\"v\",\"showlegend\":true,\"x\":[\"Las Animas County, CO\"],\"xaxis\":\"x\",\"y\":[22.47439975942896],\"yaxis\":\"y\",\"type\":\"histogram\"},{\"alignmentgroup\":\"True\",\"bingroup\":\"x\",\"histfunc\":\"sum\",\"hovertemplate\":\"Population=460275<br>County=%{x}<br>sum of Norm_Deaths=%{y}<extra></extra>\",\"legendgroup\":\"460275\",\"marker\":{\"color\":\"#FECB52\",\"pattern\":{\"shape\":\"\"}},\"name\":\"460275\",\"offsetgroup\":\"460275\",\"orientation\":\"v\",\"showlegend\":true,\"x\":[\"Logan County, CO\"],\"xaxis\":\"x\",\"y\":[8.690456792135137],\"yaxis\":\"y\",\"type\":\"histogram\"},{\"alignmentgroup\":\"True\",\"bingroup\":\"x\",\"histfunc\":\"sum\",\"hovertemplate\":\"Population=2916081<br>County=%{x}<br>sum of Norm_Deaths=%{y}<extra></extra>\",\"legendgroup\":\"2916081\",\"marker\":{\"color\":\"#636efa\",\"pattern\":{\"shape\":\"\"}},\"name\":\"2916081\",\"offsetgroup\":\"2916081\",\"orientation\":\"v\",\"showlegend\":true,\"x\":[\"Mesa County, CO\"],\"xaxis\":\"x\",\"y\":[8.12734625684266],\"yaxis\":\"y\",\"type\":\"histogram\"},{\"alignmentgroup\":\"True\",\"bingroup\":\"x\",\"histfunc\":\"sum\",\"hovertemplate\":\"Population=277758<br>County=%{x}<br>sum of Norm_Deaths=%{y}<extra></extra>\",\"legendgroup\":\"277758\",\"marker\":{\"color\":\"#EF553B\",\"pattern\":{\"shape\":\"\"}},\"name\":\"277758\",\"offsetgroup\":\"277758\",\"orientation\":\"v\",\"showlegend\":true,\"x\":[\"Moffat County, CO\"],\"xaxis\":\"x\",\"y\":[4.680333239726669],\"yaxis\":\"y\",\"type\":\"histogram\"},{\"alignmentgroup\":\"True\",\"bingroup\":\"x\",\"histfunc\":\"sum\",\"hovertemplate\":\"Population=528607<br>County=%{x}<br>sum of Norm_Deaths=%{y}<extra></extra>\",\"legendgroup\":\"528607\",\"marker\":{\"color\":\"#00cc96\",\"pattern\":{\"shape\":\"\"}},\"name\":\"528607\",\"offsetgroup\":\"528607\",\"orientation\":\"v\",\"showlegend\":true,\"x\":[\"Montezuma County, CO\"],\"xaxis\":\"x\",\"y\":[7.37788186686896],\"yaxis\":\"y\",\"type\":\"histogram\"},{\"alignmentgroup\":\"True\",\"bingroup\":\"x\",\"histfunc\":\"sum\",\"hovertemplate\":\"Population=819077<br>County=%{x}<br>sum of Norm_Deaths=%{y}<extra></extra>\",\"legendgroup\":\"819077\",\"marker\":{\"color\":\"#ab63fa\",\"pattern\":{\"shape\":\"\"}},\"name\":\"819077\",\"offsetgroup\":\"819077\",\"orientation\":\"v\",\"showlegend\":true,\"x\":[\"Montrose County, CO\"],\"xaxis\":\"x\",\"y\":[7.447407264518477],\"yaxis\":\"y\",\"type\":\"histogram\"},{\"alignmentgroup\":\"True\",\"bingroup\":\"x\",\"histfunc\":\"sum\",\"hovertemplate\":\"Population=587380<br>County=%{x}<br>sum of Norm_Deaths=%{y}<extra></extra>\",\"legendgroup\":\"587380\",\"marker\":{\"color\":\"#FFA15A\",\"pattern\":{\"shape\":\"\"}},\"name\":\"587380\",\"offsetgroup\":\"587380\",\"orientation\":\"v\",\"showlegend\":true,\"x\":[\"Morgan County, CO\"],\"xaxis\":\"x\",\"y\":[6.128911437229732],\"yaxis\":\"y\",\"type\":\"histogram\"},{\"alignmentgroup\":\"True\",\"bingroup\":\"x\",\"histfunc\":\"sum\",\"hovertemplate\":\"Population=399334<br>County=%{x}<br>sum of Norm_Deaths=%{y}<extra></extra>\",\"legendgroup\":\"399334\",\"marker\":{\"color\":\"#19d3f3\",\"pattern\":{\"shape\":\"\"}},\"name\":\"399334\",\"offsetgroup\":\"399334\",\"orientation\":\"v\",\"showlegend\":true,\"x\":[\"Otero County, CO\"],\"xaxis\":\"x\",\"y\":[11.519179433757206],\"yaxis\":\"y\",\"type\":\"histogram\"},{\"alignmentgroup\":\"True\",\"bingroup\":\"x\",\"histfunc\":\"sum\",\"hovertemplate\":\"Population=342822<br>County=%{x}<br>sum of Norm_Deaths=%{y}<extra></extra>\",\"legendgroup\":\"342822\",\"marker\":{\"color\":\"#FF6692\",\"pattern\":{\"shape\":\"\"}},\"name\":\"342822\",\"offsetgroup\":\"342822\",\"orientation\":\"v\",\"showlegend\":true,\"x\":[\"Park County, CO\"],\"xaxis\":\"x\",\"y\":[7.000717573551289],\"yaxis\":\"y\",\"type\":\"histogram\"},{\"alignmentgroup\":\"True\",\"bingroup\":\"x\",\"histfunc\":\"sum\",\"hovertemplate\":\"Population=346344<br>County=%{x}<br>sum of Norm_Deaths=%{y}<extra></extra>\",\"legendgroup\":\"346344\",\"marker\":{\"color\":\"#B6E880\",\"pattern\":{\"shape\":\"\"}},\"name\":\"346344\",\"offsetgroup\":\"346344\",\"orientation\":\"v\",\"showlegend\":true,\"x\":[\"Pitkin County, CO\"],\"xaxis\":\"x\",\"y\":[7.218256993047375],\"yaxis\":\"y\",\"type\":\"histogram\"},{\"alignmentgroup\":\"True\",\"bingroup\":\"x\",\"histfunc\":\"sum\",\"hovertemplate\":\"Population=271406<br>County=%{x}<br>sum of Norm_Deaths=%{y}<extra></extra>\",\"legendgroup\":\"271406\",\"marker\":{\"color\":\"#FF97FF\",\"pattern\":{\"shape\":\"\"}},\"name\":\"271406\",\"offsetgroup\":\"271406\",\"orientation\":\"v\",\"showlegend\":true,\"x\":[\"Prowers County, CO\"],\"xaxis\":\"x\",\"y\":[7.737485538271077],\"yaxis\":\"y\",\"type\":\"histogram\"},{\"alignmentgroup\":\"True\",\"bingroup\":\"x\",\"histfunc\":\"sum\",\"hovertemplate\":\"Population=3275262<br>County=%{x}<br>sum of Norm_Deaths=%{y}<extra></extra>\",\"legendgroup\":\"3275262\",\"marker\":{\"color\":\"#FECB52\",\"pattern\":{\"shape\":\"\"}},\"name\":\"3275262\",\"offsetgroup\":\"3275262\",\"orientation\":\"v\",\"showlegend\":true,\"x\":[\"Pueblo County, CO\"],\"xaxis\":\"x\",\"y\":[13.647763140780798],\"yaxis\":\"y\",\"type\":\"histogram\"},{\"alignmentgroup\":\"True\",\"bingroup\":\"x\",\"histfunc\":\"sum\",\"hovertemplate\":\"Population=133567<br>County=%{x}<br>sum of Norm_Deaths=%{y}<extra></extra>\",\"legendgroup\":\"133567\",\"marker\":{\"color\":\"#636efa\",\"pattern\":{\"shape\":\"\"}},\"name\":\"133567\",\"offsetgroup\":\"133567\",\"orientation\":\"v\",\"showlegend\":true,\"x\":[\"Rio Blanco County, CO\"],\"xaxis\":\"x\",\"y\":[9.732943017362073],\"yaxis\":\"y\",\"type\":\"histogram\"},{\"alignmentgroup\":\"True\",\"bingroup\":\"x\",\"histfunc\":\"sum\",\"hovertemplate\":\"Population=249688<br>County=%{x}<br>sum of Norm_Deaths=%{y}<extra></extra>\",\"legendgroup\":\"249688\",\"marker\":{\"color\":\"#EF553B\",\"pattern\":{\"shape\":\"\"}},\"name\":\"249688\",\"offsetgroup\":\"249688\",\"orientation\":\"v\",\"showlegend\":true,\"x\":[\"Rio Grande County, CO\"],\"xaxis\":\"x\",\"y\":[16.0199929512031],\"yaxis\":\"y\",\"type\":\"histogram\"},{\"alignmentgroup\":\"True\",\"bingroup\":\"x\",\"histfunc\":\"sum\",\"hovertemplate\":\"Population=477061<br>County=%{x}<br>sum of Norm_Deaths=%{y}<extra></extra>\",\"legendgroup\":\"477061\",\"marker\":{\"color\":\"#00cc96\",\"pattern\":{\"shape\":\"\"}},\"name\":\"477061\",\"offsetgroup\":\"477061\",\"orientation\":\"v\",\"showlegend\":true,\"x\":[\"Routt County, CO\"],\"xaxis\":\"x\",\"y\":[9.013522379737601],\"yaxis\":\"y\",\"type\":\"histogram\"},{\"alignmentgroup\":\"True\",\"bingroup\":\"x\",\"histfunc\":\"sum\",\"hovertemplate\":\"Population=575288<br>County=%{x}<br>sum of Norm_Deaths=%{y}<extra></extra>\",\"legendgroup\":\"575288\",\"marker\":{\"color\":\"#ab63fa\",\"pattern\":{\"shape\":\"\"}},\"name\":\"575288\",\"offsetgroup\":\"575288\",\"orientation\":\"v\",\"showlegend\":true,\"x\":[\"Summit County, CO\"],\"xaxis\":\"x\",\"y\":[6.257735256080433],\"yaxis\":\"y\",\"type\":\"histogram\"},{\"alignmentgroup\":\"True\",\"bingroup\":\"x\",\"histfunc\":\"sum\",\"hovertemplate\":\"Population=478877<br>County=%{x}<br>sum of Norm_Deaths=%{y}<extra></extra>\",\"legendgroup\":\"478877\",\"marker\":{\"color\":\"#FFA15A\",\"pattern\":{\"shape\":\"\"}},\"name\":\"478877\",\"offsetgroup\":\"478877\",\"orientation\":\"v\",\"showlegend\":true,\"x\":[\"Teller County, CO\"],\"xaxis\":\"x\",\"y\":[8.35287558182999],\"yaxis\":\"y\",\"type\":\"histogram\"},{\"alignmentgroup\":\"True\",\"bingroup\":\"x\",\"histfunc\":\"sum\",\"hovertemplate\":\"Population=5203055<br>County=%{x}<br>sum of Norm_Deaths=%{y}<extra></extra>\",\"legendgroup\":\"5203055\",\"marker\":{\"color\":\"#19d3f3\",\"pattern\":{\"shape\":\"\"}},\"name\":\"5203055\",\"offsetgroup\":\"5203055\",\"orientation\":\"v\",\"showlegend\":true,\"x\":[\"Weld County, CO\"],\"xaxis\":\"x\",\"y\":[7.380279470426509],\"yaxis\":\"y\",\"type\":\"histogram\"}],                        {\"template\":{\"data\":{\"bar\":[{\"error_x\":{\"color\":\"#2a3f5f\"},\"error_y\":{\"color\":\"#2a3f5f\"},\"marker\":{\"line\":{\"color\":\"#E5ECF6\",\"width\":0.5},\"pattern\":{\"fillmode\":\"overlay\",\"size\":10,\"solidity\":0.2}},\"type\":\"bar\"}],\"barpolar\":[{\"marker\":{\"line\":{\"color\":\"#E5ECF6\",\"width\":0.5},\"pattern\":{\"fillmode\":\"overlay\",\"size\":10,\"solidity\":0.2}},\"type\":\"barpolar\"}],\"carpet\":[{\"aaxis\":{\"endlinecolor\":\"#2a3f5f\",\"gridcolor\":\"white\",\"linecolor\":\"white\",\"minorgridcolor\":\"white\",\"startlinecolor\":\"#2a3f5f\"},\"baxis\":{\"endlinecolor\":\"#2a3f5f\",\"gridcolor\":\"white\",\"linecolor\":\"white\",\"minorgridcolor\":\"white\",\"startlinecolor\":\"#2a3f5f\"},\"type\":\"carpet\"}],\"choropleth\":[{\"colorbar\":{\"outlinewidth\":0,\"ticks\":\"\"},\"type\":\"choropleth\"}],\"contour\":[{\"colorbar\":{\"outlinewidth\":0,\"ticks\":\"\"},\"colorscale\":[[0.0,\"#0d0887\"],[0.1111111111111111,\"#46039f\"],[0.2222222222222222,\"#7201a8\"],[0.3333333333333333,\"#9c179e\"],[0.4444444444444444,\"#bd3786\"],[0.5555555555555556,\"#d8576b\"],[0.6666666666666666,\"#ed7953\"],[0.7777777777777778,\"#fb9f3a\"],[0.8888888888888888,\"#fdca26\"],[1.0,\"#f0f921\"]],\"type\":\"contour\"}],\"contourcarpet\":[{\"colorbar\":{\"outlinewidth\":0,\"ticks\":\"\"},\"type\":\"contourcarpet\"}],\"heatmap\":[{\"colorbar\":{\"outlinewidth\":0,\"ticks\":\"\"},\"colorscale\":[[0.0,\"#0d0887\"],[0.1111111111111111,\"#46039f\"],[0.2222222222222222,\"#7201a8\"],[0.3333333333333333,\"#9c179e\"],[0.4444444444444444,\"#bd3786\"],[0.5555555555555556,\"#d8576b\"],[0.6666666666666666,\"#ed7953\"],[0.7777777777777778,\"#fb9f3a\"],[0.8888888888888888,\"#fdca26\"],[1.0,\"#f0f921\"]],\"type\":\"heatmap\"}],\"heatmapgl\":[{\"colorbar\":{\"outlinewidth\":0,\"ticks\":\"\"},\"colorscale\":[[0.0,\"#0d0887\"],[0.1111111111111111,\"#46039f\"],[0.2222222222222222,\"#7201a8\"],[0.3333333333333333,\"#9c179e\"],[0.4444444444444444,\"#bd3786\"],[0.5555555555555556,\"#d8576b\"],[0.6666666666666666,\"#ed7953\"],[0.7777777777777778,\"#fb9f3a\"],[0.8888888888888888,\"#fdca26\"],[1.0,\"#f0f921\"]],\"type\":\"heatmapgl\"}],\"histogram\":[{\"marker\":{\"pattern\":{\"fillmode\":\"overlay\",\"size\":10,\"solidity\":0.2}},\"type\":\"histogram\"}],\"histogram2d\":[{\"colorbar\":{\"outlinewidth\":0,\"ticks\":\"\"},\"colorscale\":[[0.0,\"#0d0887\"],[0.1111111111111111,\"#46039f\"],[0.2222222222222222,\"#7201a8\"],[0.3333333333333333,\"#9c179e\"],[0.4444444444444444,\"#bd3786\"],[0.5555555555555556,\"#d8576b\"],[0.6666666666666666,\"#ed7953\"],[0.7777777777777778,\"#fb9f3a\"],[0.8888888888888888,\"#fdca26\"],[1.0,\"#f0f921\"]],\"type\":\"histogram2d\"}],\"histogram2dcontour\":[{\"colorbar\":{\"outlinewidth\":0,\"ticks\":\"\"},\"colorscale\":[[0.0,\"#0d0887\"],[0.1111111111111111,\"#46039f\"],[0.2222222222222222,\"#7201a8\"],[0.3333333333333333,\"#9c179e\"],[0.4444444444444444,\"#bd3786\"],[0.5555555555555556,\"#d8576b\"],[0.6666666666666666,\"#ed7953\"],[0.7777777777777778,\"#fb9f3a\"],[0.8888888888888888,\"#fdca26\"],[1.0,\"#f0f921\"]],\"type\":\"histogram2dcontour\"}],\"mesh3d\":[{\"colorbar\":{\"outlinewidth\":0,\"ticks\":\"\"},\"type\":\"mesh3d\"}],\"parcoords\":[{\"line\":{\"colorbar\":{\"outlinewidth\":0,\"ticks\":\"\"}},\"type\":\"parcoords\"}],\"pie\":[{\"automargin\":true,\"type\":\"pie\"}],\"scatter\":[{\"marker\":{\"colorbar\":{\"outlinewidth\":0,\"ticks\":\"\"}},\"type\":\"scatter\"}],\"scatter3d\":[{\"line\":{\"colorbar\":{\"outlinewidth\":0,\"ticks\":\"\"}},\"marker\":{\"colorbar\":{\"outlinewidth\":0,\"ticks\":\"\"}},\"type\":\"scatter3d\"}],\"scattercarpet\":[{\"marker\":{\"colorbar\":{\"outlinewidth\":0,\"ticks\":\"\"}},\"type\":\"scattercarpet\"}],\"scattergeo\":[{\"marker\":{\"colorbar\":{\"outlinewidth\":0,\"ticks\":\"\"}},\"type\":\"scattergeo\"}],\"scattergl\":[{\"marker\":{\"colorbar\":{\"outlinewidth\":0,\"ticks\":\"\"}},\"type\":\"scattergl\"}],\"scattermapbox\":[{\"marker\":{\"colorbar\":{\"outlinewidth\":0,\"ticks\":\"\"}},\"type\":\"scattermapbox\"}],\"scatterpolar\":[{\"marker\":{\"colorbar\":{\"outlinewidth\":0,\"ticks\":\"\"}},\"type\":\"scatterpolar\"}],\"scatterpolargl\":[{\"marker\":{\"colorbar\":{\"outlinewidth\":0,\"ticks\":\"\"}},\"type\":\"scatterpolargl\"}],\"scatterternary\":[{\"marker\":{\"colorbar\":{\"outlinewidth\":0,\"ticks\":\"\"}},\"type\":\"scatterternary\"}],\"surface\":[{\"colorbar\":{\"outlinewidth\":0,\"ticks\":\"\"},\"colorscale\":[[0.0,\"#0d0887\"],[0.1111111111111111,\"#46039f\"],[0.2222222222222222,\"#7201a8\"],[0.3333333333333333,\"#9c179e\"],[0.4444444444444444,\"#bd3786\"],[0.5555555555555556,\"#d8576b\"],[0.6666666666666666,\"#ed7953\"],[0.7777777777777778,\"#fb9f3a\"],[0.8888888888888888,\"#fdca26\"],[1.0,\"#f0f921\"]],\"type\":\"surface\"}],\"table\":[{\"cells\":{\"fill\":{\"color\":\"#EBF0F8\"},\"line\":{\"color\":\"white\"}},\"header\":{\"fill\":{\"color\":\"#C8D4E3\"},\"line\":{\"color\":\"white\"}},\"type\":\"table\"}]},\"layout\":{\"annotationdefaults\":{\"arrowcolor\":\"#2a3f5f\",\"arrowhead\":0,\"arrowwidth\":1},\"autotypenumbers\":\"strict\",\"coloraxis\":{\"colorbar\":{\"outlinewidth\":0,\"ticks\":\"\"}},\"colorscale\":{\"diverging\":[[0,\"#8e0152\"],[0.1,\"#c51b7d\"],[0.2,\"#de77ae\"],[0.3,\"#f1b6da\"],[0.4,\"#fde0ef\"],[0.5,\"#f7f7f7\"],[0.6,\"#e6f5d0\"],[0.7,\"#b8e186\"],[0.8,\"#7fbc41\"],[0.9,\"#4d9221\"],[1,\"#276419\"]],\"sequential\":[[0.0,\"#0d0887\"],[0.1111111111111111,\"#46039f\"],[0.2222222222222222,\"#7201a8\"],[0.3333333333333333,\"#9c179e\"],[0.4444444444444444,\"#bd3786\"],[0.5555555555555556,\"#d8576b\"],[0.6666666666666666,\"#ed7953\"],[0.7777777777777778,\"#fb9f3a\"],[0.8888888888888888,\"#fdca26\"],[1.0,\"#f0f921\"]],\"sequentialminus\":[[0.0,\"#0d0887\"],[0.1111111111111111,\"#46039f\"],[0.2222222222222222,\"#7201a8\"],[0.3333333333333333,\"#9c179e\"],[0.4444444444444444,\"#bd3786\"],[0.5555555555555556,\"#d8576b\"],[0.6666666666666666,\"#ed7953\"],[0.7777777777777778,\"#fb9f3a\"],[0.8888888888888888,\"#fdca26\"],[1.0,\"#f0f921\"]]},\"colorway\":[\"#636efa\",\"#EF553B\",\"#00cc96\",\"#ab63fa\",\"#FFA15A\",\"#19d3f3\",\"#FF6692\",\"#B6E880\",\"#FF97FF\",\"#FECB52\"],\"font\":{\"color\":\"#2a3f5f\"},\"geo\":{\"bgcolor\":\"white\",\"lakecolor\":\"white\",\"landcolor\":\"#E5ECF6\",\"showlakes\":true,\"showland\":true,\"subunitcolor\":\"white\"},\"hoverlabel\":{\"align\":\"left\"},\"hovermode\":\"closest\",\"mapbox\":{\"style\":\"light\"},\"paper_bgcolor\":\"white\",\"plot_bgcolor\":\"#E5ECF6\",\"polar\":{\"angularaxis\":{\"gridcolor\":\"white\",\"linecolor\":\"white\",\"ticks\":\"\"},\"bgcolor\":\"#E5ECF6\",\"radialaxis\":{\"gridcolor\":\"white\",\"linecolor\":\"white\",\"ticks\":\"\"}},\"scene\":{\"xaxis\":{\"backgroundcolor\":\"#E5ECF6\",\"gridcolor\":\"white\",\"gridwidth\":2,\"linecolor\":\"white\",\"showbackground\":true,\"ticks\":\"\",\"zerolinecolor\":\"white\"},\"yaxis\":{\"backgroundcolor\":\"#E5ECF6\",\"gridcolor\":\"white\",\"gridwidth\":2,\"linecolor\":\"white\",\"showbackground\":true,\"ticks\":\"\",\"zerolinecolor\":\"white\"},\"zaxis\":{\"backgroundcolor\":\"#E5ECF6\",\"gridcolor\":\"white\",\"gridwidth\":2,\"linecolor\":\"white\",\"showbackground\":true,\"ticks\":\"\",\"zerolinecolor\":\"white\"}},\"shapedefaults\":{\"line\":{\"color\":\"#2a3f5f\"}},\"ternary\":{\"aaxis\":{\"gridcolor\":\"white\",\"linecolor\":\"white\",\"ticks\":\"\"},\"baxis\":{\"gridcolor\":\"white\",\"linecolor\":\"white\",\"ticks\":\"\"},\"bgcolor\":\"#E5ECF6\",\"caxis\":{\"gridcolor\":\"white\",\"linecolor\":\"white\",\"ticks\":\"\"}},\"title\":{\"x\":0.05},\"xaxis\":{\"automargin\":true,\"gridcolor\":\"white\",\"linecolor\":\"white\",\"ticks\":\"\",\"title\":{\"standoff\":15},\"zerolinecolor\":\"white\",\"zerolinewidth\":2},\"yaxis\":{\"automargin\":true,\"gridcolor\":\"white\",\"linecolor\":\"white\",\"ticks\":\"\",\"title\":{\"standoff\":15},\"zerolinecolor\":\"white\",\"zerolinewidth\":2}}},\"xaxis\":{\"anchor\":\"y\",\"domain\":[0.0,1.0],\"title\":{\"text\":\"County\"}},\"yaxis\":{\"anchor\":\"x\",\"domain\":[0.0,1.0],\"title\":{\"text\":\"sum of Norm_Deaths\"}},\"legend\":{\"title\":{\"text\":\"Population\"},\"tracegroupgap\":0},\"title\":{\"text\":\"Opiod Mortality rate in\\tCO\"},\"barmode\":\"relative\"},                        {\"responsive\": true}                    ).then(function(){\n",
       "                            \n",
       "var gd = document.getElementById('cfb10f3b-7701-44c4-8bf1-af2d158c31e1');\n",
       "var x = new MutationObserver(function (mutations, observer) {{\n",
       "        var display = window.getComputedStyle(gd).display;\n",
       "        if (!display || display === 'none') {{\n",
       "            console.log([gd, 'removed!']);\n",
       "            Plotly.purge(gd);\n",
       "            observer.disconnect();\n",
       "        }}\n",
       "}});\n",
       "\n",
       "// Listen for the removal of the full notebook cells\n",
       "var notebookContainer = gd.closest('#notebook-container');\n",
       "if (notebookContainer) {{\n",
       "    x.observe(notebookContainer, {childList: true});\n",
       "}}\n",
       "\n",
       "// Listen for the clearing of the current output cell\n",
       "var outputEl = gd.closest('.output');\n",
       "if (outputEl) {{\n",
       "    x.observe(outputEl, {childList: true});\n",
       "}}\n",
       "\n",
       "                        })                };                });            </script>        </div>"
      ]
     },
     "metadata": {},
     "output_type": "display_data"
    },
    {
     "name": "stdout",
     "output_type": "stream",
     "text": [
      "The Number of counties in-CO : 46\n",
      "Top-10 counties with highest mortatlity rate in state-CO are:\n",
      " 1264    Las Animas County, CO\n",
      "1045      Huerfano County, CO\n",
      "517        Conejos County, CO\n",
      "632         Denver County, CO\n",
      "1959    Rio Grande County, CO\n",
      "532       Costilla County, CO\n",
      "1894        Pueblo County, CO\n",
      "7            Adams County, CO\n",
      "22         Alamosa County, CO\n",
      "696        El Paso County, CO\n",
      "Name: County, dtype: object\n"
     ]
    }
   ],
   "source": [
    "for i,x in enumerate(statelist):\n",
    "    state=finaldf[finaldf.State_x==(statelist[i])]\n",
    "    fig = px.histogram(state, x=\"County\", y=\"Norm_Deaths\", color=\"Population\",hover_name=\"Population\", title ='Opiod Mortality rate in\\t'+statelist[i])\n",
    "    fig.show()\n",
    "    print(\"The Number of counties in-\"+statelist[i],\":\",len(state['County']))\n",
    "    tencounty=state.nlargest(n=10, columns=['Norm_Deaths'])\n",
    "    #print(tencounty['County'])\n",
    "    print(\"Top-10 counties with highest mortatlity rate in state-\"+statelist[i],\"are:\\n\",tencounty['County'])"
   ]
  },
  {
   "cell_type": "markdown",
   "id": "9dd80d1b",
   "metadata": {},
   "source": [
    "* I have also displayed the number of counties in each of these states so we can clearly see how the mortality rate is spread across each of these states among their counties.\n",
    "* Top-10 counties in each of these states are also displayed at the bottom of the graph.\n",
    "    * Since, DC has no counties, the graph shows a single county.\n",
    "    * And, there are only 3 counties in DE-delaware which is as shown in the above graph"
   ]
  },
  {
   "cell_type": "markdown",
   "id": "26aae373",
   "metadata": {},
   "source": [
    "## Describe your intution on why the rates are high in these states and counties."
   ]
  },
  {
   "cell_type": "markdown",
   "id": "de81b64f",
   "metadata": {},
   "source": [
    "* From the above plotted graphs we can see that the mortality rate is propotional to population. <b>In the counties where the population is high,the mortality rate is also high.</b>\n",
    "* Also, I believe that the opiod_dispensing_rate can high a direct influence on the mortality rate.\n",
    "* And there can be a scope for comparission between the age groups of the population, are the rates high among the teens or adults?"
   ]
  },
  {
   "cell_type": "code",
   "execution_count": null,
   "id": "fb5b609c",
   "metadata": {},
   "outputs": [],
   "source": []
  }
 ],
 "metadata": {
  "kernelspec": {
   "display_name": "Python 3",
   "language": "python",
   "name": "python3"
  },
  "language_info": {
   "codemirror_mode": {
    "name": "ipython",
    "version": 3
   },
   "file_extension": ".py",
   "mimetype": "text/x-python",
   "name": "python",
   "nbconvert_exporter": "python",
   "pygments_lexer": "ipython3",
   "version": "3.8.8"
  }
 },
 "nbformat": 4,
 "nbformat_minor": 5
}
